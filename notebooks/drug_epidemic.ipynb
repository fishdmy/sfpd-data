{
 "cells": [
  {
   "cell_type": "markdown",
   "id": "e48279b4-107e-4a36-8989-1f4c849e2725",
   "metadata": {
    "tags": []
   },
   "source": [
    "# Visualizing the Drug Epidemic in San Francisco "
   ]
  },
  {
   "cell_type": "markdown",
   "id": "fbd71f29-7203-4ed0-af53-5c0cfcd7a5dd",
   "metadata": {},
   "source": [
    "### Introduction"
   ]
  },
  {
   "cell_type": "markdown",
   "id": "92b3e929-0216-4592-ad3f-2ee12a533622",
   "metadata": {},
   "source": [
    "<p>San Francisco, a city once celebrated for its vibrant and diverse cultures, has faced numerous challenges in recent years, particularly with regards to <b>drug addiction and crime</b>.</p>"
   ]
  },
  {
   "cell_type": "markdown",
   "id": "500f9663-e075-4c27-9d88-3a0dffc85bdb",
   "metadata": {},
   "source": [
    "Drug overdose in San Francisco has been driven largely by the proliferation of the synthetic opioid fentanyl, according to the [SF Chronicle](https://www.sfchronicle.com/sf/article/S-F-is-investing-millions-in-overdose-response-16491976.php). On Dec. 17, 2021, Mayor London Breed declared an official state of emergency in the Tenderloin district to address the escalating epidemic."
   ]
  },
  {
   "cell_type": "markdown",
   "id": "c3561561-d5af-4d90-893a-4aaae3bb4e53",
   "metadata": {},
   "source": [
    "\n",
    "In response to these issues, the city has implemented several strategies aimed at addressing drug addiction and its impact on the community. These strategies include <b>increasing law enforcement efforts</b> to combat illegal drug possession and sales, as well as <b>deploying more prescription medications</b>, such as Narcan, to reverse overdose and save lives."
   ]
  },
  {
   "cell_type": "markdown",
   "id": "e47468a4-21e4-47f9-be4e-6a270f70a4de",
   "metadata": {},
   "source": [
    "> Narcan, also known as naloxone, is a prescription medication used to reverse opioid overdose. It works by binding to the same receptors in the brain that opioids bind to, reversing their effects and restoring breathing."
   ]
  },
  {
   "cell_type": "markdown",
   "id": "7bffab82-899a-4fef-9253-14d3e2450342",
   "metadata": {
    "tags": []
   },
   "source": [
    "### Quantifiable questions"
   ]
  },
  {
   "cell_type": "markdown",
   "id": "6255427b-3280-45b4-a236-c398e2fec775",
   "metadata": {
    "tags": []
   },
   "source": [
    "Using the [San Francisco police response records](https://data.sfgov.org/Public-Safety/Police-Department-Incident-Reports-2018-to-Present/wg3w-h783), we hope to answer the following questions:\n",
    "\n",
    "- Where do most drug-related arrests and Narcan deployments occur?\n",
    "- How do the frequencies change over time?\n",
    "- When do drug-related arrests happen? Mornings? Evenings? Late at night?\n",
    "- What's the correlation between drug-related arrests and Narcan deployments?"
   ]
  },
  {
   "cell_type": "markdown",
   "id": "91ed78ad-293b-486c-958f-58836c4eda43",
   "metadata": {
    "jp-MarkdownHeadingCollapsed": true,
    "tags": []
   },
   "source": [
    "## Downloading and Preparing Data "
   ]
  },
  {
   "cell_type": "markdown",
   "id": "bbdc4d14-3f78-440c-a122-b0de7dec2c66",
   "metadata": {},
   "source": [
    "The SFPD data can be downloaded by clicking `Export` - `CSV`:"
   ]
  },
  {
   "cell_type": "markdown",
   "id": "b54a5bf5-6817-43c1-ab87-9829289f53ce",
   "metadata": {},
   "source": [
    "![export-csv](data_download.png)"
   ]
  },
  {
   "cell_type": "markdown",
   "id": "09ffe9e7-eca3-49c4-a439-c4aa9dd91a5d",
   "metadata": {},
   "source": [
    "Save the dataset to `data/raw`. "
   ]
  },
  {
   "cell_type": "markdown",
   "id": "b9767faf-d1e7-4c96-b842-29bb793f2b01",
   "metadata": {
    "tags": []
   },
   "source": [
    "> Notice that since this file is big (over 200MB), before committing and pushing to github, make sure to add the line '/data' in `.gitignore` file so that we don't break the git!"
   ]
  },
  {
   "cell_type": "code",
   "execution_count": 329,
   "id": "7c83094f-c080-4f54-9a15-9465ad18ecd1",
   "metadata": {
    "tags": []
   },
   "outputs": [],
   "source": [
    "# importing the modules \n",
    "import csv\n",
    "import pandas as pd\n",
    "import altair as alt\n",
    "from altair import datum"
   ]
  },
  {
   "cell_type": "code",
   "execution_count": 5,
   "id": "c3cca097-597f-4052-a5fc-ba5d84d5e7dd",
   "metadata": {},
   "outputs": [],
   "source": [
    "# Reading the file from local data/raw folder\n",
    "sfpd_data = pd.read_csv(\"/Users/tracy/sfpd-data/data/raw/Police_Department_Incident_Reports__2018_to_Present.csv\")"
   ]
  },
  {
   "cell_type": "code",
   "execution_count": 7,
   "id": "bde9f523-6d79-426b-bebd-a7914b46bb01",
   "metadata": {},
   "outputs": [],
   "source": [
    "# Filtering for narcan deployment incidents\n",
    "narcan_deployment = sfpd_data[sfpd_data['Incident Code'] == 51050]"
   ]
  },
  {
   "cell_type": "code",
   "execution_count": 4,
   "id": "00952db8-bca7-4684-ba02-de96df4f2b09",
   "metadata": {},
   "outputs": [],
   "source": [
    "# Filtering for drug-related arrests\n",
    "drug_arrest = sfpd_data[~sfpd_data['Incident Category'].isna()]\n",
    "drug_arrest_data = drug_arrest[drug_arrest['Incident Category'].str.contains('Drug')]"
   ]
  },
  {
   "cell_type": "code",
   "execution_count": null,
   "id": "7775692a-2db3-4b2b-bbc3-0e3e7d7617bf",
   "metadata": {},
   "outputs": [],
   "source": [
    "# Saving the files to the data/processed directory\n",
    "narcan_deployment.to_csv(\"/Users/tracy/sfpd-data/data/processed/narcan_deployment.csv\")\n",
    "drug_arrest_data.to_csv(\"/Users/tracy/sfpd-data/data/processed/drug_arrest_data.csv\")"
   ]
  },
  {
   "cell_type": "markdown",
   "id": "96ab5d12-7699-4ee1-ab3a-1b92ba14ccb0",
   "metadata": {},
   "source": [
    "Now, load the filterd csv files and be ready to dive in!"
   ]
  },
  {
   "cell_type": "code",
   "execution_count": 15,
   "id": "b1eca270-0d6e-4f5a-a15e-7d0fddb57d8a",
   "metadata": {
    "tags": []
   },
   "outputs": [],
   "source": [
    "# Read dataframes\n",
    "drug_arrest = pd.read_csv('/Users/tracy/code/sfpd_data/data/processed/drug_arrest_data.csv')\n",
    "narcan_deploy = pd.read_csv('/Users/tracy/sfpd-data/data/processed/narcan_deployment.csv')\n",
    "# Make the column names snake_case\n",
    "drug_arrest.columns = [col.lower().replace(' ', '_') for col in drug_arrest.columns]\n",
    "narcan_deploy.columns = [col.lower().replace(' ', '_') for col in narcan_deploy.columns]"
   ]
  },
  {
   "cell_type": "markdown",
   "id": "c6d33f22-7837-4f7b-8c30-8a57b372310d",
   "metadata": {
    "jp-MarkdownHeadingCollapsed": true,
    "tags": []
   },
   "source": [
    "## Drug Arrests and Narcan Deployment by Neighborhood"
   ]
  },
  {
   "cell_type": "markdown",
   "id": "db93a908-ca55-4af3-a00f-cbc5ee5d52b5",
   "metadata": {
    "tags": []
   },
   "source": [
    "### Finding #1\n",
    "Our analysis found that most drug-related arrests occur in the **Tenderloin, South of Market (SoMa), and Mission** neighborhoods. Located near each other in downtown San Francisco, the two neighborhoods have undergone significant changes following rapid urban development and gentrification in recent years. Both suffer from a high-rate of poverty and crime."
   ]
  },
  {
   "cell_type": "markdown",
   "id": "489160fd-7f27-413a-89d1-72e60ce24dbf",
   "metadata": {
    "tags": []
   },
   "source": [
    "#### Analysis and Visualization #1"
   ]
  },
  {
   "cell_type": "code",
   "execution_count": 359,
   "id": "7082ad2a-cde4-44a1-81bb-d4f462b62dd3",
   "metadata": {
    "tags": []
   },
   "outputs": [
    {
     "data": {
      "text/html": [
       "<div>\n",
       "<style scoped>\n",
       "    .dataframe tbody tr th:only-of-type {\n",
       "        vertical-align: middle;\n",
       "    }\n",
       "\n",
       "    .dataframe tbody tr th {\n",
       "        vertical-align: top;\n",
       "    }\n",
       "\n",
       "    .dataframe thead th {\n",
       "        text-align: right;\n",
       "    }\n",
       "</style>\n",
       "<table border=\"1\" class=\"dataframe\">\n",
       "  <thead>\n",
       "    <tr style=\"text-align: right;\">\n",
       "      <th></th>\n",
       "      <th>analysis_neighborhood</th>\n",
       "      <th>drug_arrests_count</th>\n",
       "    </tr>\n",
       "  </thead>\n",
       "  <tbody>\n",
       "    <tr>\n",
       "      <th>1</th>\n",
       "      <td>Tenderloin</td>\n",
       "      <td>8613</td>\n",
       "    </tr>\n",
       "    <tr>\n",
       "      <th>2</th>\n",
       "      <td>South of Market</td>\n",
       "      <td>2962</td>\n",
       "    </tr>\n",
       "    <tr>\n",
       "      <th>3</th>\n",
       "      <td>Mission</td>\n",
       "      <td>1740</td>\n",
       "    </tr>\n",
       "    <tr>\n",
       "      <th>4</th>\n",
       "      <td>Financial District/South Beach</td>\n",
       "      <td>451</td>\n",
       "    </tr>\n",
       "    <tr>\n",
       "      <th>5</th>\n",
       "      <td>Bayview Hunters Point</td>\n",
       "      <td>437</td>\n",
       "    </tr>\n",
       "    <tr>\n",
       "      <th>6</th>\n",
       "      <td>Castro/Upper Market</td>\n",
       "      <td>291</td>\n",
       "    </tr>\n",
       "    <tr>\n",
       "      <th>7</th>\n",
       "      <td>Western Addition</td>\n",
       "      <td>273</td>\n",
       "    </tr>\n",
       "    <tr>\n",
       "      <th>8</th>\n",
       "      <td>Haight Ashbury</td>\n",
       "      <td>242</td>\n",
       "    </tr>\n",
       "    <tr>\n",
       "      <th>9</th>\n",
       "      <td>Nob Hill</td>\n",
       "      <td>213</td>\n",
       "    </tr>\n",
       "    <tr>\n",
       "      <th>10</th>\n",
       "      <td>North Beach</td>\n",
       "      <td>137</td>\n",
       "    </tr>\n",
       "  </tbody>\n",
       "</table>\n",
       "</div>"
      ],
      "text/plain": [
       "             analysis_neighborhood  drug_arrests_count\n",
       "1                       Tenderloin                8613\n",
       "2                  South of Market                2962\n",
       "3                          Mission                1740\n",
       "4   Financial District/South Beach                 451\n",
       "5            Bayview Hunters Point                 437\n",
       "6              Castro/Upper Market                 291\n",
       "7                 Western Addition                 273\n",
       "8                   Haight Ashbury                 242\n",
       "9                         Nob Hill                 213\n",
       "10                     North Beach                 137"
      ]
     },
     "execution_count": 359,
     "metadata": {},
     "output_type": "execute_result"
    }
   ],
   "source": [
    "da_neighb = drug_arrest.groupby(drug_arrest['analysis_neighborhood']).size()\n",
    "da_df = da_neighb.sort_values(ascending = False).reset_index(name='drug_arrests_count')\n",
    "da_df.index +=1 \n",
    "da_df.head(10)"
   ]
  },
  {
   "cell_type": "code",
   "execution_count": 360,
   "id": "938349c5-6dde-43e6-9fb7-851af7f62c12",
   "metadata": {
    "tags": []
   },
   "outputs": [],
   "source": [
    "# Group the incidents by time and location\n",
    "# Note that incident_date_2 has no significant meaning other than for the purpose of tooltips in visualization.\n",
    "da_nbh = drug_arrest.groupby([(drug_arrest['incident_date'].dt.strftime('%Y-%m')),drug_arrest['analysis_neighborhood']]).size().reset_index(name='count')"
   ]
  },
  {
   "cell_type": "code",
   "execution_count": 362,
   "id": "e92914ab-54dc-4756-bb1a-8b5841a8491c",
   "metadata": {
    "tags": []
   },
   "outputs": [],
   "source": [
    "# Making a new column so that all the other neighborhoods except for the three mentioned above \n",
    "# will be categorized into \"All Other Neighborhoods\"\n",
    "\n",
    "da_viz1 = da_nbh\n",
    "for i, row in da_viz1.iterrows():\n",
    "    if row['analysis_neighborhood'] == 'Tenderloin':\n",
    "        da_viz1.loc[i, 'viz1'] = 'Tenderloin'\n",
    "    elif row['analysis_neighborhood'] == 'South of Market':\n",
    "        da_viz1.loc[i, 'viz1'] = 'SoMA'\n",
    "    elif row['analysis_neighborhood'] == 'Mission':\n",
    "        da_viz1.loc[i, 'viz1'] = 'Mission'\n",
    "    else:\n",
    "        da_viz1.loc[i, 'viz1'] = 'All Other Neighborhoods'\n",
    "da_viz = da_viz1.groupby(['incident_date','viz1']).sum('count').reset_index()\n",
    "da_viz['incident_date_2'] = da_viz['incident_date']\n",
    "# Note that incident_date_2 has no significant meaning other than for the purpose of tooltips in visualization.\n",
    "\n",
    "## Excluding the month we're currently in.\n",
    "end_date = '2023-02'\n",
    "filtered_da_viz = da_viz[da_viz['incident_date']<=end_date]"
   ]
  },
  {
   "cell_type": "code",
   "execution_count": 363,
   "id": "76b3dd52-0b7e-4c51-9373-3039069269c4",
   "metadata": {
    "tags": []
   },
   "outputs": [
    {
     "data": {
      "text/html": [
       "\n",
       "<div id=\"altair-viz-e81dca86b5e7455b85a17f5d63bca0a3\"></div>\n",
       "<script type=\"text/javascript\">\n",
       "  var VEGA_DEBUG = (typeof VEGA_DEBUG == \"undefined\") ? {} : VEGA_DEBUG;\n",
       "  (function(spec, embedOpt){\n",
       "    let outputDiv = document.currentScript.previousElementSibling;\n",
       "    if (outputDiv.id !== \"altair-viz-e81dca86b5e7455b85a17f5d63bca0a3\") {\n",
       "      outputDiv = document.getElementById(\"altair-viz-e81dca86b5e7455b85a17f5d63bca0a3\");\n",
       "    }\n",
       "    const paths = {\n",
       "      \"vega\": \"https://cdn.jsdelivr.net/npm/vega@5?noext\",\n",
       "      \"vega-lib\": \"https://cdn.jsdelivr.net/npm/vega-lib?noext\",\n",
       "      \"vega-lite\": \"https://cdn.jsdelivr.net/npm/vega-lite@5.6.1?noext\",\n",
       "      \"vega-embed\": \"https://cdn.jsdelivr.net/npm/vega-embed@6?noext\",\n",
       "    };\n",
       "\n",
       "    function maybeLoadScript(lib, version) {\n",
       "      var key = `${lib.replace(\"-\", \"\")}_version`;\n",
       "      return (VEGA_DEBUG[key] == version) ?\n",
       "        Promise.resolve(paths[lib]) :\n",
       "        new Promise(function(resolve, reject) {\n",
       "          var s = document.createElement('script');\n",
       "          document.getElementsByTagName(\"head\")[0].appendChild(s);\n",
       "          s.async = true;\n",
       "          s.onload = () => {\n",
       "            VEGA_DEBUG[key] = version;\n",
       "            return resolve(paths[lib]);\n",
       "          };\n",
       "          s.onerror = () => reject(`Error loading script: ${paths[lib]}`);\n",
       "          s.src = paths[lib];\n",
       "        });\n",
       "    }\n",
       "\n",
       "    function showError(err) {\n",
       "      outputDiv.innerHTML = `<div class=\"error\" style=\"color:red;\">${err}</div>`;\n",
       "      throw err;\n",
       "    }\n",
       "\n",
       "    function displayChart(vegaEmbed) {\n",
       "      vegaEmbed(outputDiv, spec, embedOpt)\n",
       "        .catch(err => showError(`Javascript Error: ${err.message}<br>This usually means there's a typo in your chart specification. See the javascript console for the full traceback.`));\n",
       "    }\n",
       "\n",
       "    if(typeof define === \"function\" && define.amd) {\n",
       "      requirejs.config({paths});\n",
       "      require([\"vega-embed\"], displayChart, err => showError(`Error loading script: ${err.message}`));\n",
       "    } else {\n",
       "      maybeLoadScript(\"vega\", \"5\")\n",
       "        .then(() => maybeLoadScript(\"vega-lite\", \"5.6.1\"))\n",
       "        .then(() => maybeLoadScript(\"vega-embed\", \"6\"))\n",
       "        .catch(showError)\n",
       "        .then(() => displayChart(vegaEmbed));\n",
       "    }\n",
       "  })({\"config\": {\"view\": {\"continuousWidth\": 300, \"continuousHeight\": 300}}, \"data\": {\"name\": \"data-dd57f7af62fc0bc7b14eaec69eff1491\"}, \"mark\": {\"type\": \"area\", \"opacity\": 0.8, \"size\": 9}, \"encoding\": {\"color\": {\"field\": \"viz1\", \"legend\": {\"title\": \"Neighborhood\", \"values\": [\"All Other Neighborhoods\", \"Mission\", \"SoMA\", \"Tenderloin\"]}, \"type\": \"nominal\"}, \"tooltip\": [{\"field\": \"incident_date_2\", \"title\": \"Date\", \"type\": \"nominal\"}, {\"field\": \"count\", \"title\": \"Drug Arrests\", \"type\": \"quantitative\"}, {\"field\": \"viz1\", \"title\": \"Neighborhood\", \"type\": \"nominal\"}], \"x\": {\"axis\": {\"domain\": false, \"format\": \"%Y.%m\"}, \"field\": \"incident_date\", \"title\": \"Date\", \"type\": \"temporal\"}, \"y\": {\"field\": \"count\", \"stack\": \"normalize\", \"title\": \"Count\", \"type\": \"quantitative\"}}, \"height\": 350, \"title\": \"Total Drug Arrests by Neighborhoods (2018-now)\", \"width\": 650, \"$schema\": \"https://vega.github.io/schema/vega-lite/v5.6.1.json\", \"datasets\": {\"data-dd57f7af62fc0bc7b14eaec69eff1491\": [{\"incident_date\": \"2018-01\", \"viz1\": \"All Other Neighborhoods\", \"count\": 93, \"incident_date_2\": \"2018-01\"}, {\"incident_date\": \"2018-01\", \"viz1\": \"Mission\", \"count\": 36, \"incident_date_2\": \"2018-01\"}, {\"incident_date\": \"2018-01\", \"viz1\": \"SoMA\", \"count\": 60, \"incident_date_2\": \"2018-01\"}, {\"incident_date\": \"2018-01\", \"viz1\": \"Tenderloin\", \"count\": 140, \"incident_date_2\": \"2018-01\"}, {\"incident_date\": \"2018-02\", \"viz1\": \"All Other Neighborhoods\", \"count\": 68, \"incident_date_2\": \"2018-02\"}, {\"incident_date\": \"2018-02\", \"viz1\": \"Mission\", \"count\": 35, \"incident_date_2\": \"2018-02\"}, {\"incident_date\": \"2018-02\", \"viz1\": \"SoMA\", \"count\": 63, \"incident_date_2\": \"2018-02\"}, {\"incident_date\": \"2018-02\", \"viz1\": \"Tenderloin\", \"count\": 190, \"incident_date_2\": \"2018-02\"}, {\"incident_date\": \"2018-03\", \"viz1\": \"All Other Neighborhoods\", \"count\": 125, \"incident_date_2\": \"2018-03\"}, {\"incident_date\": \"2018-03\", \"viz1\": \"Mission\", \"count\": 43, \"incident_date_2\": \"2018-03\"}, {\"incident_date\": \"2018-03\", \"viz1\": \"SoMA\", \"count\": 69, \"incident_date_2\": \"2018-03\"}, {\"incident_date\": \"2018-03\", \"viz1\": \"Tenderloin\", \"count\": 181, \"incident_date_2\": \"2018-03\"}, {\"incident_date\": \"2018-04\", \"viz1\": \"All Other Neighborhoods\", \"count\": 94, \"incident_date_2\": \"2018-04\"}, {\"incident_date\": \"2018-04\", \"viz1\": \"Mission\", \"count\": 38, \"incident_date_2\": \"2018-04\"}, {\"incident_date\": \"2018-04\", \"viz1\": \"SoMA\", \"count\": 55, \"incident_date_2\": \"2018-04\"}, {\"incident_date\": \"2018-04\", \"viz1\": \"Tenderloin\", \"count\": 153, \"incident_date_2\": \"2018-04\"}, {\"incident_date\": \"2018-05\", \"viz1\": \"All Other Neighborhoods\", \"count\": 84, \"incident_date_2\": \"2018-05\"}, {\"incident_date\": \"2018-05\", \"viz1\": \"Mission\", \"count\": 57, \"incident_date_2\": \"2018-05\"}, {\"incident_date\": \"2018-05\", \"viz1\": \"SoMA\", \"count\": 67, \"incident_date_2\": \"2018-05\"}, {\"incident_date\": \"2018-05\", \"viz1\": \"Tenderloin\", \"count\": 175, \"incident_date_2\": \"2018-05\"}, {\"incident_date\": \"2018-06\", \"viz1\": \"All Other Neighborhoods\", \"count\": 65, \"incident_date_2\": \"2018-06\"}, {\"incident_date\": \"2018-06\", \"viz1\": \"Mission\", \"count\": 25, \"incident_date_2\": \"2018-06\"}, {\"incident_date\": \"2018-06\", \"viz1\": \"SoMA\", \"count\": 45, \"incident_date_2\": \"2018-06\"}, {\"incident_date\": \"2018-06\", \"viz1\": \"Tenderloin\", \"count\": 113, \"incident_date_2\": \"2018-06\"}, {\"incident_date\": \"2018-07\", \"viz1\": \"All Other Neighborhoods\", \"count\": 101, \"incident_date_2\": \"2018-07\"}, {\"incident_date\": \"2018-07\", \"viz1\": \"Mission\", \"count\": 57, \"incident_date_2\": \"2018-07\"}, {\"incident_date\": \"2018-07\", \"viz1\": \"SoMA\", \"count\": 46, \"incident_date_2\": \"2018-07\"}, {\"incident_date\": \"2018-07\", \"viz1\": \"Tenderloin\", \"count\": 129, \"incident_date_2\": \"2018-07\"}, {\"incident_date\": \"2018-08\", \"viz1\": \"All Other Neighborhoods\", \"count\": 74, \"incident_date_2\": \"2018-08\"}, {\"incident_date\": \"2018-08\", \"viz1\": \"Mission\", \"count\": 34, \"incident_date_2\": \"2018-08\"}, {\"incident_date\": \"2018-08\", \"viz1\": \"SoMA\", \"count\": 56, \"incident_date_2\": \"2018-08\"}, {\"incident_date\": \"2018-08\", \"viz1\": \"Tenderloin\", \"count\": 120, \"incident_date_2\": \"2018-08\"}, {\"incident_date\": \"2018-09\", \"viz1\": \"All Other Neighborhoods\", \"count\": 90, \"incident_date_2\": \"2018-09\"}, {\"incident_date\": \"2018-09\", \"viz1\": \"Mission\", \"count\": 37, \"incident_date_2\": \"2018-09\"}, {\"incident_date\": \"2018-09\", \"viz1\": \"SoMA\", \"count\": 41, \"incident_date_2\": \"2018-09\"}, {\"incident_date\": \"2018-09\", \"viz1\": \"Tenderloin\", \"count\": 101, \"incident_date_2\": \"2018-09\"}, {\"incident_date\": \"2018-10\", \"viz1\": \"All Other Neighborhoods\", \"count\": 97, \"incident_date_2\": \"2018-10\"}, {\"incident_date\": \"2018-10\", \"viz1\": \"Mission\", \"count\": 48, \"incident_date_2\": \"2018-10\"}, {\"incident_date\": \"2018-10\", \"viz1\": \"SoMA\", \"count\": 72, \"incident_date_2\": \"2018-10\"}, {\"incident_date\": \"2018-10\", \"viz1\": \"Tenderloin\", \"count\": 227, \"incident_date_2\": \"2018-10\"}, {\"incident_date\": \"2018-11\", \"viz1\": \"All Other Neighborhoods\", \"count\": 101, \"incident_date_2\": \"2018-11\"}, {\"incident_date\": \"2018-11\", \"viz1\": \"Mission\", \"count\": 73, \"incident_date_2\": \"2018-11\"}, {\"incident_date\": \"2018-11\", \"viz1\": \"SoMA\", \"count\": 59, \"incident_date_2\": \"2018-11\"}, {\"incident_date\": \"2018-11\", \"viz1\": \"Tenderloin\", \"count\": 200, \"incident_date_2\": \"2018-11\"}, {\"incident_date\": \"2018-12\", \"viz1\": \"All Other Neighborhoods\", \"count\": 64, \"incident_date_2\": \"2018-12\"}, {\"incident_date\": \"2018-12\", \"viz1\": \"Mission\", \"count\": 54, \"incident_date_2\": \"2018-12\"}, {\"incident_date\": \"2018-12\", \"viz1\": \"SoMA\", \"count\": 27, \"incident_date_2\": \"2018-12\"}, {\"incident_date\": \"2018-12\", \"viz1\": \"Tenderloin\", \"count\": 120, \"incident_date_2\": \"2018-12\"}, {\"incident_date\": \"2019-01\", \"viz1\": \"All Other Neighborhoods\", \"count\": 82, \"incident_date_2\": \"2019-01\"}, {\"incident_date\": \"2019-01\", \"viz1\": \"Mission\", \"count\": 45, \"incident_date_2\": \"2019-01\"}, {\"incident_date\": \"2019-01\", \"viz1\": \"SoMA\", \"count\": 56, \"incident_date_2\": \"2019-01\"}, {\"incident_date\": \"2019-01\", \"viz1\": \"Tenderloin\", \"count\": 133, \"incident_date_2\": \"2019-01\"}, {\"incident_date\": \"2019-02\", \"viz1\": \"All Other Neighborhoods\", \"count\": 92, \"incident_date_2\": \"2019-02\"}, {\"incident_date\": \"2019-02\", \"viz1\": \"Mission\", \"count\": 38, \"incident_date_2\": \"2019-02\"}, {\"incident_date\": \"2019-02\", \"viz1\": \"SoMA\", \"count\": 47, \"incident_date_2\": \"2019-02\"}, {\"incident_date\": \"2019-02\", \"viz1\": \"Tenderloin\", \"count\": 106, \"incident_date_2\": \"2019-02\"}, {\"incident_date\": \"2019-03\", \"viz1\": \"All Other Neighborhoods\", \"count\": 78, \"incident_date_2\": \"2019-03\"}, {\"incident_date\": \"2019-03\", \"viz1\": \"Mission\", \"count\": 50, \"incident_date_2\": \"2019-03\"}, {\"incident_date\": \"2019-03\", \"viz1\": \"SoMA\", \"count\": 29, \"incident_date_2\": \"2019-03\"}, {\"incident_date\": \"2019-03\", \"viz1\": \"Tenderloin\", \"count\": 161, \"incident_date_2\": \"2019-03\"}, {\"incident_date\": \"2019-04\", \"viz1\": \"All Other Neighborhoods\", \"count\": 81, \"incident_date_2\": \"2019-04\"}, {\"incident_date\": \"2019-04\", \"viz1\": \"Mission\", \"count\": 47, \"incident_date_2\": \"2019-04\"}, {\"incident_date\": \"2019-04\", \"viz1\": \"SoMA\", \"count\": 66, \"incident_date_2\": \"2019-04\"}, {\"incident_date\": \"2019-04\", \"viz1\": \"Tenderloin\", \"count\": 131, \"incident_date_2\": \"2019-04\"}, {\"incident_date\": \"2019-05\", \"viz1\": \"All Other Neighborhoods\", \"count\": 84, \"incident_date_2\": \"2019-05\"}, {\"incident_date\": \"2019-05\", \"viz1\": \"Mission\", \"count\": 46, \"incident_date_2\": \"2019-05\"}, {\"incident_date\": \"2019-05\", \"viz1\": \"SoMA\", \"count\": 46, \"incident_date_2\": \"2019-05\"}, {\"incident_date\": \"2019-05\", \"viz1\": \"Tenderloin\", \"count\": 116, \"incident_date_2\": \"2019-05\"}, {\"incident_date\": \"2019-06\", \"viz1\": \"All Other Neighborhoods\", \"count\": 72, \"incident_date_2\": \"2019-06\"}, {\"incident_date\": \"2019-06\", \"viz1\": \"Mission\", \"count\": 61, \"incident_date_2\": \"2019-06\"}, {\"incident_date\": \"2019-06\", \"viz1\": \"SoMA\", \"count\": 46, \"incident_date_2\": \"2019-06\"}, {\"incident_date\": \"2019-06\", \"viz1\": \"Tenderloin\", \"count\": 112, \"incident_date_2\": \"2019-06\"}, {\"incident_date\": \"2019-07\", \"viz1\": \"All Other Neighborhoods\", \"count\": 114, \"incident_date_2\": \"2019-07\"}, {\"incident_date\": \"2019-07\", \"viz1\": \"Mission\", \"count\": 57, \"incident_date_2\": \"2019-07\"}, {\"incident_date\": \"2019-07\", \"viz1\": \"SoMA\", \"count\": 43, \"incident_date_2\": \"2019-07\"}, {\"incident_date\": \"2019-07\", \"viz1\": \"Tenderloin\", \"count\": 139, \"incident_date_2\": \"2019-07\"}, {\"incident_date\": \"2019-08\", \"viz1\": \"All Other Neighborhoods\", \"count\": 71, \"incident_date_2\": \"2019-08\"}, {\"incident_date\": \"2019-08\", \"viz1\": \"Mission\", \"count\": 49, \"incident_date_2\": \"2019-08\"}, {\"incident_date\": \"2019-08\", \"viz1\": \"SoMA\", \"count\": 49, \"incident_date_2\": \"2019-08\"}, {\"incident_date\": \"2019-08\", \"viz1\": \"Tenderloin\", \"count\": 122, \"incident_date_2\": \"2019-08\"}, {\"incident_date\": \"2019-09\", \"viz1\": \"All Other Neighborhoods\", \"count\": 97, \"incident_date_2\": \"2019-09\"}, {\"incident_date\": \"2019-09\", \"viz1\": \"Mission\", \"count\": 72, \"incident_date_2\": \"2019-09\"}, {\"incident_date\": \"2019-09\", \"viz1\": \"SoMA\", \"count\": 40, \"incident_date_2\": \"2019-09\"}, {\"incident_date\": \"2019-09\", \"viz1\": \"Tenderloin\", \"count\": 110, \"incident_date_2\": \"2019-09\"}, {\"incident_date\": \"2019-10\", \"viz1\": \"All Other Neighborhoods\", \"count\": 93, \"incident_date_2\": \"2019-10\"}, {\"incident_date\": \"2019-10\", \"viz1\": \"Mission\", \"count\": 64, \"incident_date_2\": \"2019-10\"}, {\"incident_date\": \"2019-10\", \"viz1\": \"SoMA\", \"count\": 33, \"incident_date_2\": \"2019-10\"}, {\"incident_date\": \"2019-10\", \"viz1\": \"Tenderloin\", \"count\": 111, \"incident_date_2\": \"2019-10\"}, {\"incident_date\": \"2019-11\", \"viz1\": \"All Other Neighborhoods\", \"count\": 82, \"incident_date_2\": \"2019-11\"}, {\"incident_date\": \"2019-11\", \"viz1\": \"Mission\", \"count\": 47, \"incident_date_2\": \"2019-11\"}, {\"incident_date\": \"2019-11\", \"viz1\": \"SoMA\", \"count\": 63, \"incident_date_2\": \"2019-11\"}, {\"incident_date\": \"2019-11\", \"viz1\": \"Tenderloin\", \"count\": 96, \"incident_date_2\": \"2019-11\"}, {\"incident_date\": \"2019-12\", \"viz1\": \"All Other Neighborhoods\", \"count\": 68, \"incident_date_2\": \"2019-12\"}, {\"incident_date\": \"2019-12\", \"viz1\": \"Mission\", \"count\": 27, \"incident_date_2\": \"2019-12\"}, {\"incident_date\": \"2019-12\", \"viz1\": \"SoMA\", \"count\": 79, \"incident_date_2\": \"2019-12\"}, {\"incident_date\": \"2019-12\", \"viz1\": \"Tenderloin\", \"count\": 119, \"incident_date_2\": \"2019-12\"}, {\"incident_date\": \"2020-01\", \"viz1\": \"All Other Neighborhoods\", \"count\": 91, \"incident_date_2\": \"2020-01\"}, {\"incident_date\": \"2020-01\", \"viz1\": \"Mission\", \"count\": 28, \"incident_date_2\": \"2020-01\"}, {\"incident_date\": \"2020-01\", \"viz1\": \"SoMA\", \"count\": 68, \"incident_date_2\": \"2020-01\"}, {\"incident_date\": \"2020-01\", \"viz1\": \"Tenderloin\", \"count\": 111, \"incident_date_2\": \"2020-01\"}, {\"incident_date\": \"2020-02\", \"viz1\": \"All Other Neighborhoods\", \"count\": 74, \"incident_date_2\": \"2020-02\"}, {\"incident_date\": \"2020-02\", \"viz1\": \"Mission\", \"count\": 47, \"incident_date_2\": \"2020-02\"}, {\"incident_date\": \"2020-02\", \"viz1\": \"SoMA\", \"count\": 66, \"incident_date_2\": \"2020-02\"}, {\"incident_date\": \"2020-02\", \"viz1\": \"Tenderloin\", \"count\": 161, \"incident_date_2\": \"2020-02\"}, {\"incident_date\": \"2020-03\", \"viz1\": \"All Other Neighborhoods\", \"count\": 54, \"incident_date_2\": \"2020-03\"}, {\"incident_date\": \"2020-03\", \"viz1\": \"Mission\", \"count\": 11, \"incident_date_2\": \"2020-03\"}, {\"incident_date\": \"2020-03\", \"viz1\": \"SoMA\", \"count\": 34, \"incident_date_2\": \"2020-03\"}, {\"incident_date\": \"2020-03\", \"viz1\": \"Tenderloin\", \"count\": 66, \"incident_date_2\": \"2020-03\"}, {\"incident_date\": \"2020-04\", \"viz1\": \"All Other Neighborhoods\", \"count\": 35, \"incident_date_2\": \"2020-04\"}, {\"incident_date\": \"2020-04\", \"viz1\": \"Mission\", \"count\": 7, \"incident_date_2\": \"2020-04\"}, {\"incident_date\": \"2020-04\", \"viz1\": \"SoMA\", \"count\": 15, \"incident_date_2\": \"2020-04\"}, {\"incident_date\": \"2020-04\", \"viz1\": \"Tenderloin\", \"count\": 29, \"incident_date_2\": \"2020-04\"}, {\"incident_date\": \"2020-05\", \"viz1\": \"All Other Neighborhoods\", \"count\": 37, \"incident_date_2\": \"2020-05\"}, {\"incident_date\": \"2020-05\", \"viz1\": \"Mission\", \"count\": 7, \"incident_date_2\": \"2020-05\"}, {\"incident_date\": \"2020-05\", \"viz1\": \"SoMA\", \"count\": 28, \"incident_date_2\": \"2020-05\"}, {\"incident_date\": \"2020-05\", \"viz1\": \"Tenderloin\", \"count\": 157, \"incident_date_2\": \"2020-05\"}, {\"incident_date\": \"2020-06\", \"viz1\": \"All Other Neighborhoods\", \"count\": 29, \"incident_date_2\": \"2020-06\"}, {\"incident_date\": \"2020-06\", \"viz1\": \"Mission\", \"count\": 8, \"incident_date_2\": \"2020-06\"}, {\"incident_date\": \"2020-06\", \"viz1\": \"SoMA\", \"count\": 13, \"incident_date_2\": \"2020-06\"}, {\"incident_date\": \"2020-06\", \"viz1\": \"Tenderloin\", \"count\": 207, \"incident_date_2\": \"2020-06\"}, {\"incident_date\": \"2020-07\", \"viz1\": \"All Other Neighborhoods\", \"count\": 43, \"incident_date_2\": \"2020-07\"}, {\"incident_date\": \"2020-07\", \"viz1\": \"Mission\", \"count\": 14, \"incident_date_2\": \"2020-07\"}, {\"incident_date\": \"2020-07\", \"viz1\": \"SoMA\", \"count\": 9, \"incident_date_2\": \"2020-07\"}, {\"incident_date\": \"2020-07\", \"viz1\": \"Tenderloin\", \"count\": 161, \"incident_date_2\": \"2020-07\"}, {\"incident_date\": \"2020-08\", \"viz1\": \"All Other Neighborhoods\", \"count\": 49, \"incident_date_2\": \"2020-08\"}, {\"incident_date\": \"2020-08\", \"viz1\": \"Mission\", \"count\": 24, \"incident_date_2\": \"2020-08\"}, {\"incident_date\": \"2020-08\", \"viz1\": \"SoMA\", \"count\": 23, \"incident_date_2\": \"2020-08\"}, {\"incident_date\": \"2020-08\", \"viz1\": \"Tenderloin\", \"count\": 141, \"incident_date_2\": \"2020-08\"}, {\"incident_date\": \"2020-09\", \"viz1\": \"All Other Neighborhoods\", \"count\": 54, \"incident_date_2\": \"2020-09\"}, {\"incident_date\": \"2020-09\", \"viz1\": \"Mission\", \"count\": 17, \"incident_date_2\": \"2020-09\"}, {\"incident_date\": \"2020-09\", \"viz1\": \"SoMA\", \"count\": 24, \"incident_date_2\": \"2020-09\"}, {\"incident_date\": \"2020-09\", \"viz1\": \"Tenderloin\", \"count\": 130, \"incident_date_2\": \"2020-09\"}, {\"incident_date\": \"2020-10\", \"viz1\": \"All Other Neighborhoods\", \"count\": 46, \"incident_date_2\": \"2020-10\"}, {\"incident_date\": \"2020-10\", \"viz1\": \"Mission\", \"count\": 10, \"incident_date_2\": \"2020-10\"}, {\"incident_date\": \"2020-10\", \"viz1\": \"SoMA\", \"count\": 14, \"incident_date_2\": \"2020-10\"}, {\"incident_date\": \"2020-10\", \"viz1\": \"Tenderloin\", \"count\": 134, \"incident_date_2\": \"2020-10\"}, {\"incident_date\": \"2020-11\", \"viz1\": \"All Other Neighborhoods\", \"count\": 46, \"incident_date_2\": \"2020-11\"}, {\"incident_date\": \"2020-11\", \"viz1\": \"Mission\", \"count\": 8, \"incident_date_2\": \"2020-11\"}, {\"incident_date\": \"2020-11\", \"viz1\": \"SoMA\", \"count\": 12, \"incident_date_2\": \"2020-11\"}, {\"incident_date\": \"2020-11\", \"viz1\": \"Tenderloin\", \"count\": 82, \"incident_date_2\": \"2020-11\"}, {\"incident_date\": \"2020-12\", \"viz1\": \"All Other Neighborhoods\", \"count\": 61, \"incident_date_2\": \"2020-12\"}, {\"incident_date\": \"2020-12\", \"viz1\": \"Mission\", \"count\": 20, \"incident_date_2\": \"2020-12\"}, {\"incident_date\": \"2020-12\", \"viz1\": \"SoMA\", \"count\": 18, \"incident_date_2\": \"2020-12\"}, {\"incident_date\": \"2020-12\", \"viz1\": \"Tenderloin\", \"count\": 110, \"incident_date_2\": \"2020-12\"}, {\"incident_date\": \"2021-01\", \"viz1\": \"All Other Neighborhoods\", \"count\": 37, \"incident_date_2\": \"2021-01\"}, {\"incident_date\": \"2021-01\", \"viz1\": \"Mission\", \"count\": 24, \"incident_date_2\": \"2021-01\"}, {\"incident_date\": \"2021-01\", \"viz1\": \"SoMA\", \"count\": 19, \"incident_date_2\": \"2021-01\"}, {\"incident_date\": \"2021-01\", \"viz1\": \"Tenderloin\", \"count\": 169, \"incident_date_2\": \"2021-01\"}, {\"incident_date\": \"2021-02\", \"viz1\": \"All Other Neighborhoods\", \"count\": 56, \"incident_date_2\": \"2021-02\"}, {\"incident_date\": \"2021-02\", \"viz1\": \"Mission\", \"count\": 15, \"incident_date_2\": \"2021-02\"}, {\"incident_date\": \"2021-02\", \"viz1\": \"SoMA\", \"count\": 27, \"incident_date_2\": \"2021-02\"}, {\"incident_date\": \"2021-02\", \"viz1\": \"Tenderloin\", \"count\": 140, \"incident_date_2\": \"2021-02\"}, {\"incident_date\": \"2021-03\", \"viz1\": \"All Other Neighborhoods\", \"count\": 60, \"incident_date_2\": \"2021-03\"}, {\"incident_date\": \"2021-03\", \"viz1\": \"Mission\", \"count\": 9, \"incident_date_2\": \"2021-03\"}, {\"incident_date\": \"2021-03\", \"viz1\": \"SoMA\", \"count\": 18, \"incident_date_2\": \"2021-03\"}, {\"incident_date\": \"2021-03\", \"viz1\": \"Tenderloin\", \"count\": 82, \"incident_date_2\": \"2021-03\"}, {\"incident_date\": \"2021-04\", \"viz1\": \"All Other Neighborhoods\", \"count\": 37, \"incident_date_2\": \"2021-04\"}, {\"incident_date\": \"2021-04\", \"viz1\": \"Mission\", \"count\": 11, \"incident_date_2\": \"2021-04\"}, {\"incident_date\": \"2021-04\", \"viz1\": \"SoMA\", \"count\": 40, \"incident_date_2\": \"2021-04\"}, {\"incident_date\": \"2021-04\", \"viz1\": \"Tenderloin\", \"count\": 142, \"incident_date_2\": \"2021-04\"}, {\"incident_date\": \"2021-05\", \"viz1\": \"All Other Neighborhoods\", \"count\": 26, \"incident_date_2\": \"2021-05\"}, {\"incident_date\": \"2021-05\", \"viz1\": \"Mission\", \"count\": 12, \"incident_date_2\": \"2021-05\"}, {\"incident_date\": \"2021-05\", \"viz1\": \"SoMA\", \"count\": 8, \"incident_date_2\": \"2021-05\"}, {\"incident_date\": \"2021-05\", \"viz1\": \"Tenderloin\", \"count\": 59, \"incident_date_2\": \"2021-05\"}, {\"incident_date\": \"2021-06\", \"viz1\": \"All Other Neighborhoods\", \"count\": 28, \"incident_date_2\": \"2021-06\"}, {\"incident_date\": \"2021-06\", \"viz1\": \"Mission\", \"count\": 9, \"incident_date_2\": \"2021-06\"}, {\"incident_date\": \"2021-06\", \"viz1\": \"SoMA\", \"count\": 41, \"incident_date_2\": \"2021-06\"}, {\"incident_date\": \"2021-06\", \"viz1\": \"Tenderloin\", \"count\": 120, \"incident_date_2\": \"2021-06\"}, {\"incident_date\": \"2021-07\", \"viz1\": \"All Other Neighborhoods\", \"count\": 35, \"incident_date_2\": \"2021-07\"}, {\"incident_date\": \"2021-07\", \"viz1\": \"Mission\", \"count\": 10, \"incident_date_2\": \"2021-07\"}, {\"incident_date\": \"2021-07\", \"viz1\": \"SoMA\", \"count\": 39, \"incident_date_2\": \"2021-07\"}, {\"incident_date\": \"2021-07\", \"viz1\": \"Tenderloin\", \"count\": 117, \"incident_date_2\": \"2021-07\"}, {\"incident_date\": \"2021-08\", \"viz1\": \"All Other Neighborhoods\", \"count\": 25, \"incident_date_2\": \"2021-08\"}, {\"incident_date\": \"2021-08\", \"viz1\": \"Mission\", \"count\": 12, \"incident_date_2\": \"2021-08\"}, {\"incident_date\": \"2021-08\", \"viz1\": \"SoMA\", \"count\": 31, \"incident_date_2\": \"2021-08\"}, {\"incident_date\": \"2021-08\", \"viz1\": \"Tenderloin\", \"count\": 117, \"incident_date_2\": \"2021-08\"}, {\"incident_date\": \"2021-09\", \"viz1\": \"All Other Neighborhoods\", \"count\": 49, \"incident_date_2\": \"2021-09\"}, {\"incident_date\": \"2021-09\", \"viz1\": \"Mission\", \"count\": 10, \"incident_date_2\": \"2021-09\"}, {\"incident_date\": \"2021-09\", \"viz1\": \"SoMA\", \"count\": 26, \"incident_date_2\": \"2021-09\"}, {\"incident_date\": \"2021-09\", \"viz1\": \"Tenderloin\", \"count\": 83, \"incident_date_2\": \"2021-09\"}, {\"incident_date\": \"2021-10\", \"viz1\": \"All Other Neighborhoods\", \"count\": 58, \"incident_date_2\": \"2021-10\"}, {\"incident_date\": \"2021-10\", \"viz1\": \"Mission\", \"count\": 16, \"incident_date_2\": \"2021-10\"}, {\"incident_date\": \"2021-10\", \"viz1\": \"SoMA\", \"count\": 16, \"incident_date_2\": \"2021-10\"}, {\"incident_date\": \"2021-10\", \"viz1\": \"Tenderloin\", \"count\": 92, \"incident_date_2\": \"2021-10\"}, {\"incident_date\": \"2021-11\", \"viz1\": \"All Other Neighborhoods\", \"count\": 50, \"incident_date_2\": \"2021-11\"}, {\"incident_date\": \"2021-11\", \"viz1\": \"Mission\", \"count\": 10, \"incident_date_2\": \"2021-11\"}, {\"incident_date\": \"2021-11\", \"viz1\": \"SoMA\", \"count\": 39, \"incident_date_2\": \"2021-11\"}, {\"incident_date\": \"2021-11\", \"viz1\": \"Tenderloin\", \"count\": 54, \"incident_date_2\": \"2021-11\"}, {\"incident_date\": \"2021-12\", \"viz1\": \"All Other Neighborhoods\", \"count\": 50, \"incident_date_2\": \"2021-12\"}, {\"incident_date\": \"2021-12\", \"viz1\": \"Mission\", \"count\": 16, \"incident_date_2\": \"2021-12\"}, {\"incident_date\": \"2021-12\", \"viz1\": \"SoMA\", \"count\": 28, \"incident_date_2\": \"2021-12\"}, {\"incident_date\": \"2021-12\", \"viz1\": \"Tenderloin\", \"count\": 144, \"incident_date_2\": \"2021-12\"}, {\"incident_date\": \"2022-01\", \"viz1\": \"All Other Neighborhoods\", \"count\": 41, \"incident_date_2\": \"2022-01\"}, {\"incident_date\": \"2022-01\", \"viz1\": \"Mission\", \"count\": 14, \"incident_date_2\": \"2022-01\"}, {\"incident_date\": \"2022-01\", \"viz1\": \"SoMA\", \"count\": 37, \"incident_date_2\": \"2022-01\"}, {\"incident_date\": \"2022-01\", \"viz1\": \"Tenderloin\", \"count\": 169, \"incident_date_2\": \"2022-01\"}, {\"incident_date\": \"2022-02\", \"viz1\": \"All Other Neighborhoods\", \"count\": 39, \"incident_date_2\": \"2022-02\"}, {\"incident_date\": \"2022-02\", \"viz1\": \"Mission\", \"count\": 7, \"incident_date_2\": \"2022-02\"}, {\"incident_date\": \"2022-02\", \"viz1\": \"SoMA\", \"count\": 51, \"incident_date_2\": \"2022-02\"}, {\"incident_date\": \"2022-02\", \"viz1\": \"Tenderloin\", \"count\": 143, \"incident_date_2\": \"2022-02\"}, {\"incident_date\": \"2022-03\", \"viz1\": \"All Other Neighborhoods\", \"count\": 53, \"incident_date_2\": \"2022-03\"}, {\"incident_date\": \"2022-03\", \"viz1\": \"Mission\", \"count\": 11, \"incident_date_2\": \"2022-03\"}, {\"incident_date\": \"2022-03\", \"viz1\": \"SoMA\", \"count\": 60, \"incident_date_2\": \"2022-03\"}, {\"incident_date\": \"2022-03\", \"viz1\": \"Tenderloin\", \"count\": 126, \"incident_date_2\": \"2022-03\"}, {\"incident_date\": \"2022-04\", \"viz1\": \"All Other Neighborhoods\", \"count\": 45, \"incident_date_2\": \"2022-04\"}, {\"incident_date\": \"2022-04\", \"viz1\": \"Mission\", \"count\": 21, \"incident_date_2\": \"2022-04\"}, {\"incident_date\": \"2022-04\", \"viz1\": \"SoMA\", \"count\": 41, \"incident_date_2\": \"2022-04\"}, {\"incident_date\": \"2022-04\", \"viz1\": \"Tenderloin\", \"count\": 87, \"incident_date_2\": \"2022-04\"}, {\"incident_date\": \"2022-05\", \"viz1\": \"All Other Neighborhoods\", \"count\": 60, \"incident_date_2\": \"2022-05\"}, {\"incident_date\": \"2022-05\", \"viz1\": \"Mission\", \"count\": 19, \"incident_date_2\": \"2022-05\"}, {\"incident_date\": \"2022-05\", \"viz1\": \"SoMA\", \"count\": 58, \"incident_date_2\": \"2022-05\"}, {\"incident_date\": \"2022-05\", \"viz1\": \"Tenderloin\", \"count\": 115, \"incident_date_2\": \"2022-05\"}, {\"incident_date\": \"2022-06\", \"viz1\": \"All Other Neighborhoods\", \"count\": 36, \"incident_date_2\": \"2022-06\"}, {\"incident_date\": \"2022-06\", \"viz1\": \"Mission\", \"count\": 18, \"incident_date_2\": \"2022-06\"}, {\"incident_date\": \"2022-06\", \"viz1\": \"SoMA\", \"count\": 53, \"incident_date_2\": \"2022-06\"}, {\"incident_date\": \"2022-06\", \"viz1\": \"Tenderloin\", \"count\": 135, \"incident_date_2\": \"2022-06\"}, {\"incident_date\": \"2022-07\", \"viz1\": \"All Other Neighborhoods\", \"count\": 60, \"incident_date_2\": \"2022-07\"}, {\"incident_date\": \"2022-07\", \"viz1\": \"Mission\", \"count\": 23, \"incident_date_2\": \"2022-07\"}, {\"incident_date\": \"2022-07\", \"viz1\": \"SoMA\", \"count\": 97, \"incident_date_2\": \"2022-07\"}, {\"incident_date\": \"2022-07\", \"viz1\": \"Tenderloin\", \"count\": 356, \"incident_date_2\": \"2022-07\"}, {\"incident_date\": \"2022-08\", \"viz1\": \"All Other Neighborhoods\", \"count\": 59, \"incident_date_2\": \"2022-08\"}, {\"incident_date\": \"2022-08\", \"viz1\": \"Mission\", \"count\": 22, \"incident_date_2\": \"2022-08\"}, {\"incident_date\": \"2022-08\", \"viz1\": \"SoMA\", \"count\": 126, \"incident_date_2\": \"2022-08\"}, {\"incident_date\": \"2022-08\", \"viz1\": \"Tenderloin\", \"count\": 310, \"incident_date_2\": \"2022-08\"}, {\"incident_date\": \"2022-09\", \"viz1\": \"All Other Neighborhoods\", \"count\": 50, \"incident_date_2\": \"2022-09\"}, {\"incident_date\": \"2022-09\", \"viz1\": \"Mission\", \"count\": 13, \"incident_date_2\": \"2022-09\"}, {\"incident_date\": \"2022-09\", \"viz1\": \"SoMA\", \"count\": 96, \"incident_date_2\": \"2022-09\"}, {\"incident_date\": \"2022-09\", \"viz1\": \"Tenderloin\", \"count\": 164, \"incident_date_2\": \"2022-09\"}, {\"incident_date\": \"2022-10\", \"viz1\": \"All Other Neighborhoods\", \"count\": 44, \"incident_date_2\": \"2022-10\"}, {\"incident_date\": \"2022-10\", \"viz1\": \"Mission\", \"count\": 20, \"incident_date_2\": \"2022-10\"}, {\"incident_date\": \"2022-10\", \"viz1\": \"SoMA\", \"count\": 64, \"incident_date_2\": \"2022-10\"}, {\"incident_date\": \"2022-10\", \"viz1\": \"Tenderloin\", \"count\": 117, \"incident_date_2\": \"2022-10\"}, {\"incident_date\": \"2022-11\", \"viz1\": \"All Other Neighborhoods\", \"count\": 57, \"incident_date_2\": \"2022-11\"}, {\"incident_date\": \"2022-11\", \"viz1\": \"Mission\", \"count\": 21, \"incident_date_2\": \"2022-11\"}, {\"incident_date\": \"2022-11\", \"viz1\": \"SoMA\", \"count\": 95, \"incident_date_2\": \"2022-11\"}, {\"incident_date\": \"2022-11\", \"viz1\": \"Tenderloin\", \"count\": 145, \"incident_date_2\": \"2022-11\"}, {\"incident_date\": \"2022-12\", \"viz1\": \"All Other Neighborhoods\", \"count\": 45, \"incident_date_2\": \"2022-12\"}, {\"incident_date\": \"2022-12\", \"viz1\": \"Mission\", \"count\": 10, \"incident_date_2\": \"2022-12\"}, {\"incident_date\": \"2022-12\", \"viz1\": \"SoMA\", \"count\": 90, \"incident_date_2\": \"2022-12\"}, {\"incident_date\": \"2022-12\", \"viz1\": \"Tenderloin\", \"count\": 171, \"incident_date_2\": \"2022-12\"}, {\"incident_date\": \"2023-01\", \"viz1\": \"All Other Neighborhoods\", \"count\": 55, \"incident_date_2\": \"2023-01\"}, {\"incident_date\": \"2023-01\", \"viz1\": \"Mission\", \"count\": 17, \"incident_date_2\": \"2023-01\"}, {\"incident_date\": \"2023-01\", \"viz1\": \"SoMA\", \"count\": 80, \"incident_date_2\": \"2023-01\"}, {\"incident_date\": \"2023-01\", \"viz1\": \"Tenderloin\", \"count\": 176, \"incident_date_2\": \"2023-01\"}, {\"incident_date\": \"2023-02\", \"viz1\": \"All Other Neighborhoods\", \"count\": 54, \"incident_date_2\": \"2023-02\"}, {\"incident_date\": \"2023-02\", \"viz1\": \"Mission\", \"count\": 24, \"incident_date_2\": \"2023-02\"}, {\"incident_date\": \"2023-02\", \"viz1\": \"SoMA\", \"count\": 88, \"incident_date_2\": \"2023-02\"}, {\"incident_date\": \"2023-02\", \"viz1\": \"Tenderloin\", \"count\": 267, \"incident_date_2\": \"2023-02\"}]}}, {\"mode\": \"vega-lite\"});\n",
       "</script>"
      ],
      "text/plain": [
       "alt.Chart(...)"
      ]
     },
     "execution_count": 363,
     "metadata": {},
     "output_type": "execute_result"
    }
   ],
   "source": [
    "# Visualization\n",
    "alt.Chart(filtered_da_viz).mark_area(size=9,opacity=0.8).encode(\n",
    "    x= alt.X('incident_date:T',title='Date',axis=alt.Axis(domain=False, format='%Y.%m')),\n",
    "    y= alt.Y('count:Q',stack = 'normalize',title = 'Count'),\n",
    "    color=alt.Color(\"viz1\",legend=alt.Legend(title='Neighborhood', values=['All Other Neighborhoods','Mission', 'SoMA','Tenderloin'])),\n",
    "    tooltip = [alt.Tooltip('incident_date_2',title = 'Date'),alt.Tooltip('count',title='Drug Arrests'),alt.Tooltip('viz1',title='Neighborhood')]\n",
    ").properties(\n",
    "    width=650,\n",
    "    height=350,\n",
    "    title='Total Drug Arrests by Neighborhoods (2018-now)'\n",
    ")"
   ]
  },
  {
   "cell_type": "markdown",
   "id": "2fef299b-2571-46df-8e2f-662ee0559482",
   "metadata": {},
   "source": [
    "From 2018, the number of drug-arrests in Tenderloin alone is more than that in all the other neighborhoods combined."
   ]
  },
  {
   "cell_type": "code",
   "execution_count": 376,
   "id": "f2185a3f-e2fa-4b61-888c-0161ed677561",
   "metadata": {
    "tags": []
   },
   "outputs": [
    {
     "data": {
      "text/html": [
       "<div>\n",
       "<style scoped>\n",
       "    .dataframe tbody tr th:only-of-type {\n",
       "        vertical-align: middle;\n",
       "    }\n",
       "\n",
       "    .dataframe tbody tr th {\n",
       "        vertical-align: top;\n",
       "    }\n",
       "\n",
       "    .dataframe thead th {\n",
       "        text-align: right;\n",
       "    }\n",
       "</style>\n",
       "<table border=\"1\" class=\"dataframe\">\n",
       "  <thead>\n",
       "    <tr style=\"text-align: right;\">\n",
       "      <th></th>\n",
       "      <th>Neighborhood</th>\n",
       "      <th>Count</th>\n",
       "    </tr>\n",
       "  </thead>\n",
       "  <tbody>\n",
       "    <tr>\n",
       "      <th>1</th>\n",
       "      <td>All Other Neighborhoods</td>\n",
       "      <td>8610</td>\n",
       "    </tr>\n",
       "    <tr>\n",
       "      <th>2</th>\n",
       "      <td>Tenderloin</td>\n",
       "      <td>8613</td>\n",
       "    </tr>\n",
       "  </tbody>\n",
       "</table>\n",
       "</div>"
      ],
      "text/plain": [
       "              Neighborhood  Count\n",
       "1  All Other Neighborhoods   8610\n",
       "2               Tenderloin   8613"
      ]
     },
     "execution_count": 376,
     "metadata": {},
     "output_type": "execute_result"
    }
   ],
   "source": [
    "# Making a new column so that all the neighborhoods except for Tenderloin will be categorized into \"All Other Neighborhoods\"\n",
    "\n",
    "for i, row in da_nbh.iterrows():\n",
    "    if row['analysis_neighborhood'] != 'Tenderloin':\n",
    "        da_nbh.loc[i, 'compare'] = 'All Other Neighborhoods'\n",
    "    else:\n",
    "        da_nbh.loc[i, 'compare'] = 'Tenderloin'\n",
    "da_nbh_df = da_nbh.groupby('compare').sum('count').reset_index()\n",
    "da_nbh_df = da_nbh_df.rename(columns={'compare': 'Neighborhood', 'count': 'Count'})\n",
    "da_nbh_df.index += 1\n",
    "da_nbh_df"
   ]
  },
  {
   "cell_type": "code",
   "execution_count": 377,
   "id": "a9bf4494-877c-448c-bf3b-e64566b69723",
   "metadata": {
    "tags": []
   },
   "outputs": [
    {
     "data": {
      "text/html": [
       "\n",
       "<div id=\"altair-viz-f3326907f08c423289b672f1a36d4656\"></div>\n",
       "<script type=\"text/javascript\">\n",
       "  var VEGA_DEBUG = (typeof VEGA_DEBUG == \"undefined\") ? {} : VEGA_DEBUG;\n",
       "  (function(spec, embedOpt){\n",
       "    let outputDiv = document.currentScript.previousElementSibling;\n",
       "    if (outputDiv.id !== \"altair-viz-f3326907f08c423289b672f1a36d4656\") {\n",
       "      outputDiv = document.getElementById(\"altair-viz-f3326907f08c423289b672f1a36d4656\");\n",
       "    }\n",
       "    const paths = {\n",
       "      \"vega\": \"https://cdn.jsdelivr.net/npm/vega@5?noext\",\n",
       "      \"vega-lib\": \"https://cdn.jsdelivr.net/npm/vega-lib?noext\",\n",
       "      \"vega-lite\": \"https://cdn.jsdelivr.net/npm/vega-lite@5.6.1?noext\",\n",
       "      \"vega-embed\": \"https://cdn.jsdelivr.net/npm/vega-embed@6?noext\",\n",
       "    };\n",
       "\n",
       "    function maybeLoadScript(lib, version) {\n",
       "      var key = `${lib.replace(\"-\", \"\")}_version`;\n",
       "      return (VEGA_DEBUG[key] == version) ?\n",
       "        Promise.resolve(paths[lib]) :\n",
       "        new Promise(function(resolve, reject) {\n",
       "          var s = document.createElement('script');\n",
       "          document.getElementsByTagName(\"head\")[0].appendChild(s);\n",
       "          s.async = true;\n",
       "          s.onload = () => {\n",
       "            VEGA_DEBUG[key] = version;\n",
       "            return resolve(paths[lib]);\n",
       "          };\n",
       "          s.onerror = () => reject(`Error loading script: ${paths[lib]}`);\n",
       "          s.src = paths[lib];\n",
       "        });\n",
       "    }\n",
       "\n",
       "    function showError(err) {\n",
       "      outputDiv.innerHTML = `<div class=\"error\" style=\"color:red;\">${err}</div>`;\n",
       "      throw err;\n",
       "    }\n",
       "\n",
       "    function displayChart(vegaEmbed) {\n",
       "      vegaEmbed(outputDiv, spec, embedOpt)\n",
       "        .catch(err => showError(`Javascript Error: ${err.message}<br>This usually means there's a typo in your chart specification. See the javascript console for the full traceback.`));\n",
       "    }\n",
       "\n",
       "    if(typeof define === \"function\" && define.amd) {\n",
       "      requirejs.config({paths});\n",
       "      require([\"vega-embed\"], displayChart, err => showError(`Error loading script: ${err.message}`));\n",
       "    } else {\n",
       "      maybeLoadScript(\"vega\", \"5\")\n",
       "        .then(() => maybeLoadScript(\"vega-lite\", \"5.6.1\"))\n",
       "        .then(() => maybeLoadScript(\"vega-embed\", \"6\"))\n",
       "        .catch(showError)\n",
       "        .then(() => displayChart(vegaEmbed));\n",
       "    }\n",
       "  })({\"config\": {\"view\": {\"continuousWidth\": 300, \"continuousHeight\": 300}}, \"data\": {\"name\": \"data-dba28995adde60b3641bbbb35b935308\"}, \"mark\": {\"type\": \"line\", \"opacity\": 0.8}, \"encoding\": {\"color\": {\"field\": \"compare\", \"legend\": {\"title\": \"Neighborhoods\"}, \"scale\": {\"domain\": [\"Tenderloin\", \"All Other Neighborhoods\"], \"range\": [\"crimson\", \"grey\"]}, \"type\": \"nominal\"}, \"tooltip\": [{\"field\": \"incident_date_2\", \"title\": \"Date\", \"type\": \"nominal\"}, {\"field\": \"count\", \"title\": \"Incidents\", \"type\": \"quantitative\"}], \"x\": {\"field\": \"incident_date\", \"title\": \"Date\", \"type\": \"temporal\"}, \"y\": {\"field\": \"count\", \"title\": \"Count\", \"type\": \"quantitative\"}}, \"height\": 350, \"title\": \"Drug-related Arrests in Tenderloin vs. in All Other Neighborhoods\", \"width\": 650, \"$schema\": \"https://vega.github.io/schema/vega-lite/v5.6.1.json\", \"datasets\": {\"data-dba28995adde60b3641bbbb35b935308\": [{\"incident_date\": \"2018-01\", \"compare\": \"All Other Neighborhoods\", \"count\": 189, \"incident_date_2\": \"2018-01\"}, {\"incident_date\": \"2018-01\", \"compare\": \"Tenderloin\", \"count\": 140, \"incident_date_2\": \"2018-01\"}, {\"incident_date\": \"2018-02\", \"compare\": \"All Other Neighborhoods\", \"count\": 166, \"incident_date_2\": \"2018-02\"}, {\"incident_date\": \"2018-02\", \"compare\": \"Tenderloin\", \"count\": 190, \"incident_date_2\": \"2018-02\"}, {\"incident_date\": \"2018-03\", \"compare\": \"All Other Neighborhoods\", \"count\": 237, \"incident_date_2\": \"2018-03\"}, {\"incident_date\": \"2018-03\", \"compare\": \"Tenderloin\", \"count\": 181, \"incident_date_2\": \"2018-03\"}, {\"incident_date\": \"2018-04\", \"compare\": \"All Other Neighborhoods\", \"count\": 187, \"incident_date_2\": \"2018-04\"}, {\"incident_date\": \"2018-04\", \"compare\": \"Tenderloin\", \"count\": 153, \"incident_date_2\": \"2018-04\"}, {\"incident_date\": \"2018-05\", \"compare\": \"All Other Neighborhoods\", \"count\": 208, \"incident_date_2\": \"2018-05\"}, {\"incident_date\": \"2018-05\", \"compare\": \"Tenderloin\", \"count\": 175, \"incident_date_2\": \"2018-05\"}, {\"incident_date\": \"2018-06\", \"compare\": \"All Other Neighborhoods\", \"count\": 135, \"incident_date_2\": \"2018-06\"}, {\"incident_date\": \"2018-06\", \"compare\": \"Tenderloin\", \"count\": 113, \"incident_date_2\": \"2018-06\"}, {\"incident_date\": \"2018-07\", \"compare\": \"All Other Neighborhoods\", \"count\": 204, \"incident_date_2\": \"2018-07\"}, {\"incident_date\": \"2018-07\", \"compare\": \"Tenderloin\", \"count\": 129, \"incident_date_2\": \"2018-07\"}, {\"incident_date\": \"2018-08\", \"compare\": \"All Other Neighborhoods\", \"count\": 164, \"incident_date_2\": \"2018-08\"}, {\"incident_date\": \"2018-08\", \"compare\": \"Tenderloin\", \"count\": 120, \"incident_date_2\": \"2018-08\"}, {\"incident_date\": \"2018-09\", \"compare\": \"All Other Neighborhoods\", \"count\": 168, \"incident_date_2\": \"2018-09\"}, {\"incident_date\": \"2018-09\", \"compare\": \"Tenderloin\", \"count\": 101, \"incident_date_2\": \"2018-09\"}, {\"incident_date\": \"2018-10\", \"compare\": \"All Other Neighborhoods\", \"count\": 217, \"incident_date_2\": \"2018-10\"}, {\"incident_date\": \"2018-10\", \"compare\": \"Tenderloin\", \"count\": 227, \"incident_date_2\": \"2018-10\"}, {\"incident_date\": \"2018-11\", \"compare\": \"All Other Neighborhoods\", \"count\": 233, \"incident_date_2\": \"2018-11\"}, {\"incident_date\": \"2018-11\", \"compare\": \"Tenderloin\", \"count\": 200, \"incident_date_2\": \"2018-11\"}, {\"incident_date\": \"2018-12\", \"compare\": \"All Other Neighborhoods\", \"count\": 145, \"incident_date_2\": \"2018-12\"}, {\"incident_date\": \"2018-12\", \"compare\": \"Tenderloin\", \"count\": 120, \"incident_date_2\": \"2018-12\"}, {\"incident_date\": \"2019-01\", \"compare\": \"All Other Neighborhoods\", \"count\": 183, \"incident_date_2\": \"2019-01\"}, {\"incident_date\": \"2019-01\", \"compare\": \"Tenderloin\", \"count\": 133, \"incident_date_2\": \"2019-01\"}, {\"incident_date\": \"2019-02\", \"compare\": \"All Other Neighborhoods\", \"count\": 177, \"incident_date_2\": \"2019-02\"}, {\"incident_date\": \"2019-02\", \"compare\": \"Tenderloin\", \"count\": 106, \"incident_date_2\": \"2019-02\"}, {\"incident_date\": \"2019-03\", \"compare\": \"All Other Neighborhoods\", \"count\": 157, \"incident_date_2\": \"2019-03\"}, {\"incident_date\": \"2019-03\", \"compare\": \"Tenderloin\", \"count\": 161, \"incident_date_2\": \"2019-03\"}, {\"incident_date\": \"2019-04\", \"compare\": \"All Other Neighborhoods\", \"count\": 194, \"incident_date_2\": \"2019-04\"}, {\"incident_date\": \"2019-04\", \"compare\": \"Tenderloin\", \"count\": 131, \"incident_date_2\": \"2019-04\"}, {\"incident_date\": \"2019-05\", \"compare\": \"All Other Neighborhoods\", \"count\": 176, \"incident_date_2\": \"2019-05\"}, {\"incident_date\": \"2019-05\", \"compare\": \"Tenderloin\", \"count\": 116, \"incident_date_2\": \"2019-05\"}, {\"incident_date\": \"2019-06\", \"compare\": \"All Other Neighborhoods\", \"count\": 179, \"incident_date_2\": \"2019-06\"}, {\"incident_date\": \"2019-06\", \"compare\": \"Tenderloin\", \"count\": 112, \"incident_date_2\": \"2019-06\"}, {\"incident_date\": \"2019-07\", \"compare\": \"All Other Neighborhoods\", \"count\": 214, \"incident_date_2\": \"2019-07\"}, {\"incident_date\": \"2019-07\", \"compare\": \"Tenderloin\", \"count\": 139, \"incident_date_2\": \"2019-07\"}, {\"incident_date\": \"2019-08\", \"compare\": \"All Other Neighborhoods\", \"count\": 169, \"incident_date_2\": \"2019-08\"}, {\"incident_date\": \"2019-08\", \"compare\": \"Tenderloin\", \"count\": 122, \"incident_date_2\": \"2019-08\"}, {\"incident_date\": \"2019-09\", \"compare\": \"All Other Neighborhoods\", \"count\": 209, \"incident_date_2\": \"2019-09\"}, {\"incident_date\": \"2019-09\", \"compare\": \"Tenderloin\", \"count\": 110, \"incident_date_2\": \"2019-09\"}, {\"incident_date\": \"2019-10\", \"compare\": \"All Other Neighborhoods\", \"count\": 190, \"incident_date_2\": \"2019-10\"}, {\"incident_date\": \"2019-10\", \"compare\": \"Tenderloin\", \"count\": 111, \"incident_date_2\": \"2019-10\"}, {\"incident_date\": \"2019-11\", \"compare\": \"All Other Neighborhoods\", \"count\": 192, \"incident_date_2\": \"2019-11\"}, {\"incident_date\": \"2019-11\", \"compare\": \"Tenderloin\", \"count\": 96, \"incident_date_2\": \"2019-11\"}, {\"incident_date\": \"2019-12\", \"compare\": \"All Other Neighborhoods\", \"count\": 174, \"incident_date_2\": \"2019-12\"}, {\"incident_date\": \"2019-12\", \"compare\": \"Tenderloin\", \"count\": 119, \"incident_date_2\": \"2019-12\"}, {\"incident_date\": \"2020-01\", \"compare\": \"All Other Neighborhoods\", \"count\": 187, \"incident_date_2\": \"2020-01\"}, {\"incident_date\": \"2020-01\", \"compare\": \"Tenderloin\", \"count\": 111, \"incident_date_2\": \"2020-01\"}, {\"incident_date\": \"2020-02\", \"compare\": \"All Other Neighborhoods\", \"count\": 187, \"incident_date_2\": \"2020-02\"}, {\"incident_date\": \"2020-02\", \"compare\": \"Tenderloin\", \"count\": 161, \"incident_date_2\": \"2020-02\"}, {\"incident_date\": \"2020-03\", \"compare\": \"All Other Neighborhoods\", \"count\": 99, \"incident_date_2\": \"2020-03\"}, {\"incident_date\": \"2020-03\", \"compare\": \"Tenderloin\", \"count\": 66, \"incident_date_2\": \"2020-03\"}, {\"incident_date\": \"2020-04\", \"compare\": \"All Other Neighborhoods\", \"count\": 57, \"incident_date_2\": \"2020-04\"}, {\"incident_date\": \"2020-04\", \"compare\": \"Tenderloin\", \"count\": 29, \"incident_date_2\": \"2020-04\"}, {\"incident_date\": \"2020-05\", \"compare\": \"All Other Neighborhoods\", \"count\": 72, \"incident_date_2\": \"2020-05\"}, {\"incident_date\": \"2020-05\", \"compare\": \"Tenderloin\", \"count\": 157, \"incident_date_2\": \"2020-05\"}, {\"incident_date\": \"2020-06\", \"compare\": \"All Other Neighborhoods\", \"count\": 50, \"incident_date_2\": \"2020-06\"}, {\"incident_date\": \"2020-06\", \"compare\": \"Tenderloin\", \"count\": 207, \"incident_date_2\": \"2020-06\"}, {\"incident_date\": \"2020-07\", \"compare\": \"All Other Neighborhoods\", \"count\": 66, \"incident_date_2\": \"2020-07\"}, {\"incident_date\": \"2020-07\", \"compare\": \"Tenderloin\", \"count\": 161, \"incident_date_2\": \"2020-07\"}, {\"incident_date\": \"2020-08\", \"compare\": \"All Other Neighborhoods\", \"count\": 96, \"incident_date_2\": \"2020-08\"}, {\"incident_date\": \"2020-08\", \"compare\": \"Tenderloin\", \"count\": 141, \"incident_date_2\": \"2020-08\"}, {\"incident_date\": \"2020-09\", \"compare\": \"All Other Neighborhoods\", \"count\": 95, \"incident_date_2\": \"2020-09\"}, {\"incident_date\": \"2020-09\", \"compare\": \"Tenderloin\", \"count\": 130, \"incident_date_2\": \"2020-09\"}, {\"incident_date\": \"2020-10\", \"compare\": \"All Other Neighborhoods\", \"count\": 70, \"incident_date_2\": \"2020-10\"}, {\"incident_date\": \"2020-10\", \"compare\": \"Tenderloin\", \"count\": 134, \"incident_date_2\": \"2020-10\"}, {\"incident_date\": \"2020-11\", \"compare\": \"All Other Neighborhoods\", \"count\": 66, \"incident_date_2\": \"2020-11\"}, {\"incident_date\": \"2020-11\", \"compare\": \"Tenderloin\", \"count\": 82, \"incident_date_2\": \"2020-11\"}, {\"incident_date\": \"2020-12\", \"compare\": \"All Other Neighborhoods\", \"count\": 99, \"incident_date_2\": \"2020-12\"}, {\"incident_date\": \"2020-12\", \"compare\": \"Tenderloin\", \"count\": 110, \"incident_date_2\": \"2020-12\"}, {\"incident_date\": \"2021-01\", \"compare\": \"All Other Neighborhoods\", \"count\": 80, \"incident_date_2\": \"2021-01\"}, {\"incident_date\": \"2021-01\", \"compare\": \"Tenderloin\", \"count\": 169, \"incident_date_2\": \"2021-01\"}, {\"incident_date\": \"2021-02\", \"compare\": \"All Other Neighborhoods\", \"count\": 98, \"incident_date_2\": \"2021-02\"}, {\"incident_date\": \"2021-02\", \"compare\": \"Tenderloin\", \"count\": 140, \"incident_date_2\": \"2021-02\"}, {\"incident_date\": \"2021-03\", \"compare\": \"All Other Neighborhoods\", \"count\": 87, \"incident_date_2\": \"2021-03\"}, {\"incident_date\": \"2021-03\", \"compare\": \"Tenderloin\", \"count\": 82, \"incident_date_2\": \"2021-03\"}, {\"incident_date\": \"2021-04\", \"compare\": \"All Other Neighborhoods\", \"count\": 88, \"incident_date_2\": \"2021-04\"}, {\"incident_date\": \"2021-04\", \"compare\": \"Tenderloin\", \"count\": 142, \"incident_date_2\": \"2021-04\"}, {\"incident_date\": \"2021-05\", \"compare\": \"All Other Neighborhoods\", \"count\": 46, \"incident_date_2\": \"2021-05\"}, {\"incident_date\": \"2021-05\", \"compare\": \"Tenderloin\", \"count\": 59, \"incident_date_2\": \"2021-05\"}, {\"incident_date\": \"2021-06\", \"compare\": \"All Other Neighborhoods\", \"count\": 78, \"incident_date_2\": \"2021-06\"}, {\"incident_date\": \"2021-06\", \"compare\": \"Tenderloin\", \"count\": 120, \"incident_date_2\": \"2021-06\"}, {\"incident_date\": \"2021-07\", \"compare\": \"All Other Neighborhoods\", \"count\": 84, \"incident_date_2\": \"2021-07\"}, {\"incident_date\": \"2021-07\", \"compare\": \"Tenderloin\", \"count\": 117, \"incident_date_2\": \"2021-07\"}, {\"incident_date\": \"2021-08\", \"compare\": \"All Other Neighborhoods\", \"count\": 68, \"incident_date_2\": \"2021-08\"}, {\"incident_date\": \"2021-08\", \"compare\": \"Tenderloin\", \"count\": 117, \"incident_date_2\": \"2021-08\"}, {\"incident_date\": \"2021-09\", \"compare\": \"All Other Neighborhoods\", \"count\": 85, \"incident_date_2\": \"2021-09\"}, {\"incident_date\": \"2021-09\", \"compare\": \"Tenderloin\", \"count\": 83, \"incident_date_2\": \"2021-09\"}, {\"incident_date\": \"2021-10\", \"compare\": \"All Other Neighborhoods\", \"count\": 90, \"incident_date_2\": \"2021-10\"}, {\"incident_date\": \"2021-10\", \"compare\": \"Tenderloin\", \"count\": 92, \"incident_date_2\": \"2021-10\"}, {\"incident_date\": \"2021-11\", \"compare\": \"All Other Neighborhoods\", \"count\": 99, \"incident_date_2\": \"2021-11\"}, {\"incident_date\": \"2021-11\", \"compare\": \"Tenderloin\", \"count\": 54, \"incident_date_2\": \"2021-11\"}, {\"incident_date\": \"2021-12\", \"compare\": \"All Other Neighborhoods\", \"count\": 94, \"incident_date_2\": \"2021-12\"}, {\"incident_date\": \"2021-12\", \"compare\": \"Tenderloin\", \"count\": 144, \"incident_date_2\": \"2021-12\"}, {\"incident_date\": \"2022-01\", \"compare\": \"All Other Neighborhoods\", \"count\": 92, \"incident_date_2\": \"2022-01\"}, {\"incident_date\": \"2022-01\", \"compare\": \"Tenderloin\", \"count\": 169, \"incident_date_2\": \"2022-01\"}, {\"incident_date\": \"2022-02\", \"compare\": \"All Other Neighborhoods\", \"count\": 97, \"incident_date_2\": \"2022-02\"}, {\"incident_date\": \"2022-02\", \"compare\": \"Tenderloin\", \"count\": 143, \"incident_date_2\": \"2022-02\"}, {\"incident_date\": \"2022-03\", \"compare\": \"All Other Neighborhoods\", \"count\": 124, \"incident_date_2\": \"2022-03\"}, {\"incident_date\": \"2022-03\", \"compare\": \"Tenderloin\", \"count\": 126, \"incident_date_2\": \"2022-03\"}, {\"incident_date\": \"2022-04\", \"compare\": \"All Other Neighborhoods\", \"count\": 107, \"incident_date_2\": \"2022-04\"}, {\"incident_date\": \"2022-04\", \"compare\": \"Tenderloin\", \"count\": 87, \"incident_date_2\": \"2022-04\"}, {\"incident_date\": \"2022-05\", \"compare\": \"All Other Neighborhoods\", \"count\": 137, \"incident_date_2\": \"2022-05\"}, {\"incident_date\": \"2022-05\", \"compare\": \"Tenderloin\", \"count\": 115, \"incident_date_2\": \"2022-05\"}, {\"incident_date\": \"2022-06\", \"compare\": \"All Other Neighborhoods\", \"count\": 107, \"incident_date_2\": \"2022-06\"}, {\"incident_date\": \"2022-06\", \"compare\": \"Tenderloin\", \"count\": 135, \"incident_date_2\": \"2022-06\"}, {\"incident_date\": \"2022-07\", \"compare\": \"All Other Neighborhoods\", \"count\": 180, \"incident_date_2\": \"2022-07\"}, {\"incident_date\": \"2022-07\", \"compare\": \"Tenderloin\", \"count\": 356, \"incident_date_2\": \"2022-07\"}, {\"incident_date\": \"2022-08\", \"compare\": \"All Other Neighborhoods\", \"count\": 207, \"incident_date_2\": \"2022-08\"}, {\"incident_date\": \"2022-08\", \"compare\": \"Tenderloin\", \"count\": 310, \"incident_date_2\": \"2022-08\"}, {\"incident_date\": \"2022-09\", \"compare\": \"All Other Neighborhoods\", \"count\": 159, \"incident_date_2\": \"2022-09\"}, {\"incident_date\": \"2022-09\", \"compare\": \"Tenderloin\", \"count\": 164, \"incident_date_2\": \"2022-09\"}, {\"incident_date\": \"2022-10\", \"compare\": \"All Other Neighborhoods\", \"count\": 128, \"incident_date_2\": \"2022-10\"}, {\"incident_date\": \"2022-10\", \"compare\": \"Tenderloin\", \"count\": 117, \"incident_date_2\": \"2022-10\"}, {\"incident_date\": \"2022-11\", \"compare\": \"All Other Neighborhoods\", \"count\": 173, \"incident_date_2\": \"2022-11\"}, {\"incident_date\": \"2022-11\", \"compare\": \"Tenderloin\", \"count\": 145, \"incident_date_2\": \"2022-11\"}, {\"incident_date\": \"2022-12\", \"compare\": \"All Other Neighborhoods\", \"count\": 145, \"incident_date_2\": \"2022-12\"}, {\"incident_date\": \"2022-12\", \"compare\": \"Tenderloin\", \"count\": 171, \"incident_date_2\": \"2022-12\"}, {\"incident_date\": \"2023-01\", \"compare\": \"All Other Neighborhoods\", \"count\": 152, \"incident_date_2\": \"2023-01\"}, {\"incident_date\": \"2023-01\", \"compare\": \"Tenderloin\", \"count\": 176, \"incident_date_2\": \"2023-01\"}, {\"incident_date\": \"2023-02\", \"compare\": \"All Other Neighborhoods\", \"count\": 166, \"incident_date_2\": \"2023-02\"}, {\"incident_date\": \"2023-02\", \"compare\": \"Tenderloin\", \"count\": 267, \"incident_date_2\": \"2023-02\"}]}}, {\"mode\": \"vega-lite\"});\n",
       "</script>"
      ],
      "text/plain": [
       "alt.Chart(...)"
      ]
     },
     "execution_count": 377,
     "metadata": {},
     "output_type": "execute_result"
    }
   ],
   "source": [
    "# Visualization\n",
    "da_plot = da_nbh.groupby(['incident_date','compare']).sum('count').reset_index()\n",
    "da_plot['incident_date_2'] = da_plot['incident_date']\n",
    "\n",
    "## Excluding the month we're currently in.\n",
    "end_date = '2023-02'\n",
    "filtered_da_plot = da_plot[da_plot['incident_date']<=end_date]\n",
    "\n",
    "alt.Chart(filtered_da_plot).mark_line(opacity=0.8).encode(\n",
    "    alt.X('incident_date:T',title='Date'),\n",
    "    alt.Y('count:Q',title = 'Count'),\n",
    "    color = alt.Color('compare:N',legend = alt.Legend(title = 'Neighborhoods'),scale=alt.Scale(domain=['Tenderloin','All Other Neighborhoods'], range=['crimson','grey'])),\n",
    "    tooltip = [alt.Tooltip('incident_date_2',title='Date'),alt.Tooltip('count',title='Incidents')]\n",
    ").properties(\n",
    "    width=650,\n",
    "    height=350,\n",
    "    title='Drug-related Arrests in Tenderloin vs. in All Other Neighborhoods'\n",
    ")"
   ]
  },
  {
   "cell_type": "markdown",
   "id": "ca4f5c70-6b6a-4994-a9c2-9f25872c704a",
   "metadata": {
    "tags": []
   },
   "source": [
    "### Finding #2\n",
    "\n",
    "A similar pattern is found with Narcan deployment: incidents happen significantly more often in **Terderloin** than in other neighborhoods."
   ]
  },
  {
   "cell_type": "markdown",
   "id": "9a38606d-4784-486e-b853-ba1c059730f0",
   "metadata": {},
   "source": [
    "#### Analysis and Visualization #2"
   ]
  },
  {
   "cell_type": "code",
   "execution_count": 370,
   "id": "0a9207c2-a296-4448-a00d-b0277ad19d66",
   "metadata": {
    "tags": []
   },
   "outputs": [
    {
     "data": {
      "text/html": [
       "<div>\n",
       "<style scoped>\n",
       "    .dataframe tbody tr th:only-of-type {\n",
       "        vertical-align: middle;\n",
       "    }\n",
       "\n",
       "    .dataframe tbody tr th {\n",
       "        vertical-align: top;\n",
       "    }\n",
       "\n",
       "    .dataframe thead th {\n",
       "        text-align: right;\n",
       "    }\n",
       "</style>\n",
       "<table border=\"1\" class=\"dataframe\">\n",
       "  <thead>\n",
       "    <tr style=\"text-align: right;\">\n",
       "      <th></th>\n",
       "      <th>analysis_neighborhood</th>\n",
       "      <th>narcan_deployment_count</th>\n",
       "    </tr>\n",
       "  </thead>\n",
       "  <tbody>\n",
       "    <tr>\n",
       "      <th>1</th>\n",
       "      <td>Tenderloin</td>\n",
       "      <td>401</td>\n",
       "    </tr>\n",
       "    <tr>\n",
       "      <th>2</th>\n",
       "      <td>South of Market</td>\n",
       "      <td>153</td>\n",
       "    </tr>\n",
       "    <tr>\n",
       "      <th>3</th>\n",
       "      <td>Financial District/South Beach</td>\n",
       "      <td>56</td>\n",
       "    </tr>\n",
       "    <tr>\n",
       "      <th>4</th>\n",
       "      <td>Mission</td>\n",
       "      <td>38</td>\n",
       "    </tr>\n",
       "    <tr>\n",
       "      <th>5</th>\n",
       "      <td>Bayview Hunters Point</td>\n",
       "      <td>15</td>\n",
       "    </tr>\n",
       "    <tr>\n",
       "      <th>6</th>\n",
       "      <td>Castro/Upper Market</td>\n",
       "      <td>12</td>\n",
       "    </tr>\n",
       "    <tr>\n",
       "      <th>7</th>\n",
       "      <td>Western Addition</td>\n",
       "      <td>10</td>\n",
       "    </tr>\n",
       "    <tr>\n",
       "      <th>8</th>\n",
       "      <td>Marina</td>\n",
       "      <td>7</td>\n",
       "    </tr>\n",
       "    <tr>\n",
       "      <th>9</th>\n",
       "      <td>Chinatown</td>\n",
       "      <td>7</td>\n",
       "    </tr>\n",
       "    <tr>\n",
       "      <th>10</th>\n",
       "      <td>North Beach</td>\n",
       "      <td>6</td>\n",
       "    </tr>\n",
       "  </tbody>\n",
       "</table>\n",
       "</div>"
      ],
      "text/plain": [
       "             analysis_neighborhood  narcan_deployment_count\n",
       "1                       Tenderloin                      401\n",
       "2                  South of Market                      153\n",
       "3   Financial District/South Beach                       56\n",
       "4                          Mission                       38\n",
       "5            Bayview Hunters Point                       15\n",
       "6              Castro/Upper Market                       12\n",
       "7                 Western Addition                       10\n",
       "8                           Marina                        7\n",
       "9                        Chinatown                        7\n",
       "10                     North Beach                        6"
      ]
     },
     "execution_count": 370,
     "metadata": {},
     "output_type": "execute_result"
    }
   ],
   "source": [
    "nd_neighb = narcan_deploy.groupby(narcan_deploy['analysis_neighborhood']).size()\n",
    "nd_df = nd_neighb.sort_values(ascending = False).reset_index(name='narcan_deployment_count')\n",
    "nd_df.index +=1 \n",
    "nd_df.head(10)"
   ]
  },
  {
   "cell_type": "code",
   "execution_count": 371,
   "id": "e60c3974-6fb1-4d09-8fe6-a9be178c5380",
   "metadata": {
    "tags": []
   },
   "outputs": [
    {
     "data": {
      "text/html": [
       "<div>\n",
       "<style scoped>\n",
       "    .dataframe tbody tr th:only-of-type {\n",
       "        vertical-align: middle;\n",
       "    }\n",
       "\n",
       "    .dataframe tbody tr th {\n",
       "        vertical-align: top;\n",
       "    }\n",
       "\n",
       "    .dataframe thead th {\n",
       "        text-align: right;\n",
       "    }\n",
       "</style>\n",
       "<table border=\"1\" class=\"dataframe\">\n",
       "  <thead>\n",
       "    <tr style=\"text-align: right;\">\n",
       "      <th></th>\n",
       "      <th>Neighborhood</th>\n",
       "      <th>Count</th>\n",
       "    </tr>\n",
       "  </thead>\n",
       "  <tbody>\n",
       "    <tr>\n",
       "      <th>1</th>\n",
       "      <td>All Other Neighborhoods</td>\n",
       "      <td>355</td>\n",
       "    </tr>\n",
       "    <tr>\n",
       "      <th>2</th>\n",
       "      <td>Tenderloin Incidents</td>\n",
       "      <td>401</td>\n",
       "    </tr>\n",
       "  </tbody>\n",
       "</table>\n",
       "</div>"
      ],
      "text/plain": [
       "              Neighborhood  Count\n",
       "1  All Other Neighborhoods    355\n",
       "2     Tenderloin Incidents    401"
      ]
     },
     "execution_count": 371,
     "metadata": {},
     "output_type": "execute_result"
    }
   ],
   "source": [
    "# Group the incidents by time and location\n",
    "# Note that incident_date_2 has no significant meaning other than for the purpose of tooltips in visualization.\n",
    "\n",
    "nd_nbh = narcan_deploy.groupby([(narcan_deploy['incident_date'].dt.strftime('%Y-%m')),narcan_deploy['analysis_neighborhood']]).size().reset_index(name='count')\n",
    "nd_nbh['incident_date_2'] = nd_nbh['incident_date']\n",
    "for i, row in nd_nbh.iterrows():\n",
    "    if row['analysis_neighborhood'] == 'Tenderloin':\n",
    "        nd_nbh.loc[i, 'compare'] = 'Tenderloin Incidents'\n",
    "    else:\n",
    "        nd_nbh.loc[i, 'compare'] = 'All Other Neighborhoods'\n",
    "nd_nbh_df = nd_nbh.groupby('compare').sum('count').reset_index()\n",
    "nd_nbh_df = result_df.rename(columns={'compare': 'Neighborhood', 'count': 'Count'})\n",
    "nd_nbh_df.index += 1\n",
    "nd_nbh_df"
   ]
  },
  {
   "cell_type": "code",
   "execution_count": 378,
   "id": "1331af42-e60c-46c6-aa5f-f653a17d6122",
   "metadata": {
    "tags": []
   },
   "outputs": [
    {
     "data": {
      "text/html": [
       "\n",
       "<div id=\"altair-viz-a5f9e30cd76846928fffb48e624ad8b1\"></div>\n",
       "<script type=\"text/javascript\">\n",
       "  var VEGA_DEBUG = (typeof VEGA_DEBUG == \"undefined\") ? {} : VEGA_DEBUG;\n",
       "  (function(spec, embedOpt){\n",
       "    let outputDiv = document.currentScript.previousElementSibling;\n",
       "    if (outputDiv.id !== \"altair-viz-a5f9e30cd76846928fffb48e624ad8b1\") {\n",
       "      outputDiv = document.getElementById(\"altair-viz-a5f9e30cd76846928fffb48e624ad8b1\");\n",
       "    }\n",
       "    const paths = {\n",
       "      \"vega\": \"https://cdn.jsdelivr.net/npm/vega@5?noext\",\n",
       "      \"vega-lib\": \"https://cdn.jsdelivr.net/npm/vega-lib?noext\",\n",
       "      \"vega-lite\": \"https://cdn.jsdelivr.net/npm/vega-lite@5.6.1?noext\",\n",
       "      \"vega-embed\": \"https://cdn.jsdelivr.net/npm/vega-embed@6?noext\",\n",
       "    };\n",
       "\n",
       "    function maybeLoadScript(lib, version) {\n",
       "      var key = `${lib.replace(\"-\", \"\")}_version`;\n",
       "      return (VEGA_DEBUG[key] == version) ?\n",
       "        Promise.resolve(paths[lib]) :\n",
       "        new Promise(function(resolve, reject) {\n",
       "          var s = document.createElement('script');\n",
       "          document.getElementsByTagName(\"head\")[0].appendChild(s);\n",
       "          s.async = true;\n",
       "          s.onload = () => {\n",
       "            VEGA_DEBUG[key] = version;\n",
       "            return resolve(paths[lib]);\n",
       "          };\n",
       "          s.onerror = () => reject(`Error loading script: ${paths[lib]}`);\n",
       "          s.src = paths[lib];\n",
       "        });\n",
       "    }\n",
       "\n",
       "    function showError(err) {\n",
       "      outputDiv.innerHTML = `<div class=\"error\" style=\"color:red;\">${err}</div>`;\n",
       "      throw err;\n",
       "    }\n",
       "\n",
       "    function displayChart(vegaEmbed) {\n",
       "      vegaEmbed(outputDiv, spec, embedOpt)\n",
       "        .catch(err => showError(`Javascript Error: ${err.message}<br>This usually means there's a typo in your chart specification. See the javascript console for the full traceback.`));\n",
       "    }\n",
       "\n",
       "    if(typeof define === \"function\" && define.amd) {\n",
       "      requirejs.config({paths});\n",
       "      require([\"vega-embed\"], displayChart, err => showError(`Error loading script: ${err.message}`));\n",
       "    } else {\n",
       "      maybeLoadScript(\"vega\", \"5\")\n",
       "        .then(() => maybeLoadScript(\"vega-lite\", \"5.6.1\"))\n",
       "        .then(() => maybeLoadScript(\"vega-embed\", \"6\"))\n",
       "        .catch(showError)\n",
       "        .then(() => displayChart(vegaEmbed));\n",
       "    }\n",
       "  })({\"config\": {\"view\": {\"continuousWidth\": 300, \"continuousHeight\": 300}}, \"data\": {\"name\": \"data-8df1d2f04a8892b0a6a1ee385df10e6a\"}, \"mark\": {\"type\": \"line\", \"opacity\": 0.8}, \"encoding\": {\"color\": {\"field\": \"compare\", \"legend\": {\"title\": \"Neighborhoods\"}, \"scale\": {\"domain\": [\"Tenderloin Incidents\", \"All Other Neighborhoods\"], \"range\": [\"crimson\", \"grey\"]}, \"type\": \"nominal\"}, \"tooltip\": [{\"field\": \"incident_date_2\", \"title\": \"Date\", \"type\": \"nominal\"}, {\"field\": \"count\", \"title\": \"Incidents\", \"type\": \"quantitative\"}], \"x\": {\"field\": \"incident_date\", \"title\": \"Date\", \"type\": \"temporal\"}, \"y\": {\"aggregate\": \"sum\", \"field\": \"count\", \"scale\": {\"domain\": [0, 25]}, \"title\": \"Count\", \"type\": \"quantitative\"}}, \"height\": 350, \"title\": \"Narcan Deployment in Tenderloin vs. in All Other Neighborhoods\", \"width\": 650, \"$schema\": \"https://vega.github.io/schema/vega-lite/v5.6.1.json\", \"datasets\": {\"data-8df1d2f04a8892b0a6a1ee385df10e6a\": [{\"incident_date\": \"2018-01\", \"compare\": \"All Other Neighborhoods\", \"count\": 2, \"incident_date_2\": \"2018-01\"}, {\"incident_date\": \"2018-01\", \"compare\": \"Tenderloin Incidents\", \"count\": 2, \"incident_date_2\": \"2018-01\"}, {\"incident_date\": \"2018-02\", \"compare\": \"All Other Neighborhoods\", \"count\": 4, \"incident_date_2\": \"2018-02\"}, {\"incident_date\": \"2018-02\", \"compare\": \"Tenderloin Incidents\", \"count\": 9, \"incident_date_2\": \"2018-02\"}, {\"incident_date\": \"2018-03\", \"compare\": \"All Other Neighborhoods\", \"count\": 2, \"incident_date_2\": \"2018-03\"}, {\"incident_date\": \"2018-03\", \"compare\": \"Tenderloin Incidents\", \"count\": 5, \"incident_date_2\": \"2018-03\"}, {\"incident_date\": \"2018-04\", \"compare\": \"All Other Neighborhoods\", \"count\": 1, \"incident_date_2\": \"2018-04\"}, {\"incident_date\": \"2018-04\", \"compare\": \"Tenderloin Incidents\", \"count\": 4, \"incident_date_2\": \"2018-04\"}, {\"incident_date\": \"2018-05\", \"compare\": \"All Other Neighborhoods\", \"count\": 1, \"incident_date_2\": \"2018-05\"}, {\"incident_date\": \"2018-05\", \"compare\": \"Tenderloin Incidents\", \"count\": 2, \"incident_date_2\": \"2018-05\"}, {\"incident_date\": \"2018-06\", \"compare\": \"All Other Neighborhoods\", \"count\": 2, \"incident_date_2\": \"2018-06\"}, {\"incident_date\": \"2018-06\", \"compare\": \"Tenderloin Incidents\", \"count\": 3, \"incident_date_2\": \"2018-06\"}, {\"incident_date\": \"2018-07\", \"compare\": \"All Other Neighborhoods\", \"count\": 1, \"incident_date_2\": \"2018-07\"}, {\"incident_date\": \"2018-07\", \"compare\": \"Tenderloin Incidents\", \"count\": 3, \"incident_date_2\": \"2018-07\"}, {\"incident_date\": \"2018-08\", \"compare\": \"All Other Neighborhoods\", \"count\": 3, \"incident_date_2\": \"2018-08\"}, {\"incident_date\": \"2018-08\", \"compare\": \"Tenderloin Incidents\", \"count\": 5, \"incident_date_2\": \"2018-08\"}, {\"incident_date\": \"2018-09\", \"compare\": \"All Other Neighborhoods\", \"count\": 5, \"incident_date_2\": \"2018-09\"}, {\"incident_date\": \"2018-09\", \"compare\": \"Tenderloin Incidents\", \"count\": 7, \"incident_date_2\": \"2018-09\"}, {\"incident_date\": \"2018-10\", \"compare\": \"All Other Neighborhoods\", \"count\": 1, \"incident_date_2\": \"2018-10\"}, {\"incident_date\": \"2018-10\", \"compare\": \"Tenderloin Incidents\", \"count\": 8, \"incident_date_2\": \"2018-10\"}, {\"incident_date\": \"2018-11\", \"compare\": \"All Other Neighborhoods\", \"count\": 1, \"incident_date_2\": \"2018-11\"}, {\"incident_date\": \"2018-11\", \"compare\": \"Tenderloin Incidents\", \"count\": 1, \"incident_date_2\": \"2018-11\"}, {\"incident_date\": \"2018-12\", \"compare\": \"All Other Neighborhoods\", \"count\": 6, \"incident_date_2\": \"2018-12\"}, {\"incident_date\": \"2019-01\", \"compare\": \"Tenderloin Incidents\", \"count\": 1, \"incident_date_2\": \"2019-01\"}, {\"incident_date\": \"2019-02\", \"compare\": \"All Other Neighborhoods\", \"count\": 1, \"incident_date_2\": \"2019-02\"}, {\"incident_date\": \"2019-02\", \"compare\": \"Tenderloin Incidents\", \"count\": 2, \"incident_date_2\": \"2019-02\"}, {\"incident_date\": \"2019-03\", \"compare\": \"All Other Neighborhoods\", \"count\": 3, \"incident_date_2\": \"2019-03\"}, {\"incident_date\": \"2019-03\", \"compare\": \"Tenderloin Incidents\", \"count\": 3, \"incident_date_2\": \"2019-03\"}, {\"incident_date\": \"2019-04\", \"compare\": \"All Other Neighborhoods\", \"count\": 5, \"incident_date_2\": \"2019-04\"}, {\"incident_date\": \"2019-04\", \"compare\": \"Tenderloin Incidents\", \"count\": 3, \"incident_date_2\": \"2019-04\"}, {\"incident_date\": \"2019-05\", \"compare\": \"All Other Neighborhoods\", \"count\": 5, \"incident_date_2\": \"2019-05\"}, {\"incident_date\": \"2019-05\", \"compare\": \"Tenderloin Incidents\", \"count\": 3, \"incident_date_2\": \"2019-05\"}, {\"incident_date\": \"2019-06\", \"compare\": \"All Other Neighborhoods\", \"count\": 13, \"incident_date_2\": \"2019-06\"}, {\"incident_date\": \"2019-06\", \"compare\": \"Tenderloin Incidents\", \"count\": 6, \"incident_date_2\": \"2019-06\"}, {\"incident_date\": \"2019-07\", \"compare\": \"All Other Neighborhoods\", \"count\": 7, \"incident_date_2\": \"2019-07\"}, {\"incident_date\": \"2019-07\", \"compare\": \"Tenderloin Incidents\", \"count\": 4, \"incident_date_2\": \"2019-07\"}, {\"incident_date\": \"2019-08\", \"compare\": \"All Other Neighborhoods\", \"count\": 6, \"incident_date_2\": \"2019-08\"}, {\"incident_date\": \"2019-08\", \"compare\": \"Tenderloin Incidents\", \"count\": 11, \"incident_date_2\": \"2019-08\"}, {\"incident_date\": \"2019-09\", \"compare\": \"All Other Neighborhoods\", \"count\": 10, \"incident_date_2\": \"2019-09\"}, {\"incident_date\": \"2019-09\", \"compare\": \"Tenderloin Incidents\", \"count\": 9, \"incident_date_2\": \"2019-09\"}, {\"incident_date\": \"2019-10\", \"compare\": \"All Other Neighborhoods\", \"count\": 6, \"incident_date_2\": \"2019-10\"}, {\"incident_date\": \"2019-10\", \"compare\": \"Tenderloin Incidents\", \"count\": 11, \"incident_date_2\": \"2019-10\"}, {\"incident_date\": \"2019-11\", \"compare\": \"All Other Neighborhoods\", \"count\": 8, \"incident_date_2\": \"2019-11\"}, {\"incident_date\": \"2019-11\", \"compare\": \"Tenderloin Incidents\", \"count\": 8, \"incident_date_2\": \"2019-11\"}, {\"incident_date\": \"2019-12\", \"compare\": \"All Other Neighborhoods\", \"count\": 4, \"incident_date_2\": \"2019-12\"}, {\"incident_date\": \"2019-12\", \"compare\": \"Tenderloin Incidents\", \"count\": 6, \"incident_date_2\": \"2019-12\"}, {\"incident_date\": \"2020-01\", \"compare\": \"All Other Neighborhoods\", \"count\": 8, \"incident_date_2\": \"2020-01\"}, {\"incident_date\": \"2020-01\", \"compare\": \"Tenderloin Incidents\", \"count\": 11, \"incident_date_2\": \"2020-01\"}, {\"incident_date\": \"2020-02\", \"compare\": \"All Other Neighborhoods\", \"count\": 11, \"incident_date_2\": \"2020-02\"}, {\"incident_date\": \"2020-02\", \"compare\": \"Tenderloin Incidents\", \"count\": 13, \"incident_date_2\": \"2020-02\"}, {\"incident_date\": \"2020-03\", \"compare\": \"All Other Neighborhoods\", \"count\": 9, \"incident_date_2\": \"2020-03\"}, {\"incident_date\": \"2020-03\", \"compare\": \"Tenderloin Incidents\", \"count\": 22, \"incident_date_2\": \"2020-03\"}, {\"incident_date\": \"2020-04\", \"compare\": \"All Other Neighborhoods\", \"count\": 8, \"incident_date_2\": \"2020-04\"}, {\"incident_date\": \"2020-04\", \"compare\": \"Tenderloin Incidents\", \"count\": 15, \"incident_date_2\": \"2020-04\"}, {\"incident_date\": \"2020-05\", \"compare\": \"All Other Neighborhoods\", \"count\": 14, \"incident_date_2\": \"2020-05\"}, {\"incident_date\": \"2020-05\", \"compare\": \"Tenderloin Incidents\", \"count\": 10, \"incident_date_2\": \"2020-05\"}, {\"incident_date\": \"2020-06\", \"compare\": \"All Other Neighborhoods\", \"count\": 7, \"incident_date_2\": \"2020-06\"}, {\"incident_date\": \"2020-06\", \"compare\": \"Tenderloin Incidents\", \"count\": 5, \"incident_date_2\": \"2020-06\"}, {\"incident_date\": \"2020-07\", \"compare\": \"All Other Neighborhoods\", \"count\": 10, \"incident_date_2\": \"2020-07\"}, {\"incident_date\": \"2020-07\", \"compare\": \"Tenderloin Incidents\", \"count\": 10, \"incident_date_2\": \"2020-07\"}, {\"incident_date\": \"2020-08\", \"compare\": \"All Other Neighborhoods\", \"count\": 11, \"incident_date_2\": \"2020-08\"}, {\"incident_date\": \"2020-08\", \"compare\": \"Tenderloin Incidents\", \"count\": 8, \"incident_date_2\": \"2020-08\"}, {\"incident_date\": \"2020-09\", \"compare\": \"All Other Neighborhoods\", \"count\": 8, \"incident_date_2\": \"2020-09\"}, {\"incident_date\": \"2020-09\", \"compare\": \"Tenderloin Incidents\", \"count\": 6, \"incident_date_2\": \"2020-09\"}, {\"incident_date\": \"2020-10\", \"compare\": \"All Other Neighborhoods\", \"count\": 4, \"incident_date_2\": \"2020-10\"}, {\"incident_date\": \"2020-10\", \"compare\": \"Tenderloin Incidents\", \"count\": 4, \"incident_date_2\": \"2020-10\"}, {\"incident_date\": \"2020-11\", \"compare\": \"All Other Neighborhoods\", \"count\": 7, \"incident_date_2\": \"2020-11\"}, {\"incident_date\": \"2020-11\", \"compare\": \"Tenderloin Incidents\", \"count\": 2, \"incident_date_2\": \"2020-11\"}, {\"incident_date\": \"2020-12\", \"compare\": \"All Other Neighborhoods\", \"count\": 6, \"incident_date_2\": \"2020-12\"}, {\"incident_date\": \"2020-12\", \"compare\": \"Tenderloin Incidents\", \"count\": 4, \"incident_date_2\": \"2020-12\"}, {\"incident_date\": \"2021-01\", \"compare\": \"All Other Neighborhoods\", \"count\": 8, \"incident_date_2\": \"2021-01\"}, {\"incident_date\": \"2021-01\", \"compare\": \"Tenderloin Incidents\", \"count\": 5, \"incident_date_2\": \"2021-01\"}, {\"incident_date\": \"2021-02\", \"compare\": \"All Other Neighborhoods\", \"count\": 4, \"incident_date_2\": \"2021-02\"}, {\"incident_date\": \"2021-02\", \"compare\": \"Tenderloin Incidents\", \"count\": 9, \"incident_date_2\": \"2021-02\"}, {\"incident_date\": \"2021-03\", \"compare\": \"All Other Neighborhoods\", \"count\": 4, \"incident_date_2\": \"2021-03\"}, {\"incident_date\": \"2021-03\", \"compare\": \"Tenderloin Incidents\", \"count\": 6, \"incident_date_2\": \"2021-03\"}, {\"incident_date\": \"2021-04\", \"compare\": \"All Other Neighborhoods\", \"count\": 5, \"incident_date_2\": \"2021-04\"}, {\"incident_date\": \"2021-04\", \"compare\": \"Tenderloin Incidents\", \"count\": 3, \"incident_date_2\": \"2021-04\"}, {\"incident_date\": \"2021-05\", \"compare\": \"All Other Neighborhoods\", \"count\": 9, \"incident_date_2\": \"2021-05\"}, {\"incident_date\": \"2021-05\", \"compare\": \"Tenderloin Incidents\", \"count\": 1, \"incident_date_2\": \"2021-05\"}, {\"incident_date\": \"2021-06\", \"compare\": \"All Other Neighborhoods\", \"count\": 5, \"incident_date_2\": \"2021-06\"}, {\"incident_date\": \"2021-06\", \"compare\": \"Tenderloin Incidents\", \"count\": 5, \"incident_date_2\": \"2021-06\"}, {\"incident_date\": \"2021-07\", \"compare\": \"All Other Neighborhoods\", \"count\": 4, \"incident_date_2\": \"2021-07\"}, {\"incident_date\": \"2021-07\", \"compare\": \"Tenderloin Incidents\", \"count\": 9, \"incident_date_2\": \"2021-07\"}, {\"incident_date\": \"2021-08\", \"compare\": \"All Other Neighborhoods\", \"count\": 7, \"incident_date_2\": \"2021-08\"}, {\"incident_date\": \"2021-08\", \"compare\": \"Tenderloin Incidents\", \"count\": 8, \"incident_date_2\": \"2021-08\"}, {\"incident_date\": \"2021-09\", \"compare\": \"All Other Neighborhoods\", \"count\": 8, \"incident_date_2\": \"2021-09\"}, {\"incident_date\": \"2021-09\", \"compare\": \"Tenderloin Incidents\", \"count\": 10, \"incident_date_2\": \"2021-09\"}, {\"incident_date\": \"2021-10\", \"compare\": \"All Other Neighborhoods\", \"count\": 4, \"incident_date_2\": \"2021-10\"}, {\"incident_date\": \"2021-10\", \"compare\": \"Tenderloin Incidents\", \"count\": 4, \"incident_date_2\": \"2021-10\"}, {\"incident_date\": \"2021-11\", \"compare\": \"All Other Neighborhoods\", \"count\": 10, \"incident_date_2\": \"2021-11\"}, {\"incident_date\": \"2021-11\", \"compare\": \"Tenderloin Incidents\", \"count\": 8, \"incident_date_2\": \"2021-11\"}, {\"incident_date\": \"2021-12\", \"compare\": \"All Other Neighborhoods\", \"count\": 5, \"incident_date_2\": \"2021-12\"}, {\"incident_date\": \"2021-12\", \"compare\": \"Tenderloin Incidents\", \"count\": 4, \"incident_date_2\": \"2021-12\"}, {\"incident_date\": \"2022-01\", \"compare\": \"All Other Neighborhoods\", \"count\": 6, \"incident_date_2\": \"2022-01\"}, {\"incident_date\": \"2022-01\", \"compare\": \"Tenderloin Incidents\", \"count\": 6, \"incident_date_2\": \"2022-01\"}, {\"incident_date\": \"2022-02\", \"compare\": \"All Other Neighborhoods\", \"count\": 5, \"incident_date_2\": \"2022-02\"}, {\"incident_date\": \"2022-02\", \"compare\": \"Tenderloin Incidents\", \"count\": 7, \"incident_date_2\": \"2022-02\"}, {\"incident_date\": \"2022-03\", \"compare\": \"All Other Neighborhoods\", \"count\": 4, \"incident_date_2\": \"2022-03\"}, {\"incident_date\": \"2022-03\", \"compare\": \"Tenderloin Incidents\", \"count\": 6, \"incident_date_2\": \"2022-03\"}, {\"incident_date\": \"2022-04\", \"compare\": \"All Other Neighborhoods\", \"count\": 6, \"incident_date_2\": \"2022-04\"}, {\"incident_date\": \"2022-04\", \"compare\": \"Tenderloin Incidents\", \"count\": 6, \"incident_date_2\": \"2022-04\"}, {\"incident_date\": \"2022-05\", \"compare\": \"All Other Neighborhoods\", \"count\": 3, \"incident_date_2\": \"2022-05\"}, {\"incident_date\": \"2022-05\", \"compare\": \"Tenderloin Incidents\", \"count\": 4, \"incident_date_2\": \"2022-05\"}, {\"incident_date\": \"2022-06\", \"compare\": \"All Other Neighborhoods\", \"count\": 5, \"incident_date_2\": \"2022-06\"}, {\"incident_date\": \"2022-06\", \"compare\": \"Tenderloin Incidents\", \"count\": 9, \"incident_date_2\": \"2022-06\"}, {\"incident_date\": \"2022-07\", \"compare\": \"All Other Neighborhoods\", \"count\": 5, \"incident_date_2\": \"2022-07\"}, {\"incident_date\": \"2022-07\", \"compare\": \"Tenderloin Incidents\", \"count\": 8, \"incident_date_2\": \"2022-07\"}, {\"incident_date\": \"2022-08\", \"compare\": \"All Other Neighborhoods\", \"count\": 5, \"incident_date_2\": \"2022-08\"}, {\"incident_date\": \"2022-08\", \"compare\": \"Tenderloin Incidents\", \"count\": 9, \"incident_date_2\": \"2022-08\"}, {\"incident_date\": \"2022-09\", \"compare\": \"All Other Neighborhoods\", \"count\": 9, \"incident_date_2\": \"2022-09\"}, {\"incident_date\": \"2022-09\", \"compare\": \"Tenderloin Incidents\", \"count\": 10, \"incident_date_2\": \"2022-09\"}, {\"incident_date\": \"2022-10\", \"compare\": \"All Other Neighborhoods\", \"count\": 10, \"incident_date_2\": \"2022-10\"}, {\"incident_date\": \"2022-10\", \"compare\": \"Tenderloin Incidents\", \"count\": 6, \"incident_date_2\": \"2022-10\"}, {\"incident_date\": \"2022-11\", \"compare\": \"All Other Neighborhoods\", \"count\": 7, \"incident_date_2\": \"2022-11\"}, {\"incident_date\": \"2022-11\", \"compare\": \"Tenderloin Incidents\", \"count\": 7, \"incident_date_2\": \"2022-11\"}, {\"incident_date\": \"2022-12\", \"compare\": \"All Other Neighborhoods\", \"count\": 6, \"incident_date_2\": \"2022-12\"}, {\"incident_date\": \"2022-12\", \"compare\": \"Tenderloin Incidents\", \"count\": 8, \"incident_date_2\": \"2022-12\"}, {\"incident_date\": \"2023-01\", \"compare\": \"All Other Neighborhoods\", \"count\": 3, \"incident_date_2\": \"2023-01\"}, {\"incident_date\": \"2023-01\", \"compare\": \"Tenderloin Incidents\", \"count\": 12, \"incident_date_2\": \"2023-01\"}, {\"incident_date\": \"2023-02\", \"compare\": \"All Other Neighborhoods\", \"count\": 8, \"incident_date_2\": \"2023-02\"}, {\"incident_date\": \"2023-02\", \"compare\": \"Tenderloin Incidents\", \"count\": 5, \"incident_date_2\": \"2023-02\"}]}}, {\"mode\": \"vega-lite\"});\n",
       "</script>"
      ],
      "text/plain": [
       "alt.Chart(...)"
      ]
     },
     "execution_count": 378,
     "metadata": {},
     "output_type": "execute_result"
    }
   ],
   "source": [
    "# Visualization\n",
    "nd_plot = nd_nbh.groupby(['incident_date','compare']).sum('count').reset_index()\n",
    "nd_plot['incident_date_2'] = nd_plot['incident_date']\n",
    "\n",
    "## Excluding the month we're currently in.\n",
    "end_date = '2023-02'\n",
    "filtered_nd_plot = nd_plot[nd_plot['incident_date']<=end_date]\n",
    "\n",
    "alt.Chart(filtered_nd_plot).mark_line(opacity=0.8).encode(\n",
    "    alt.X('incident_date:T',title='Date'),\n",
    "    alt.Y('sum(count):Q',title = 'Count',scale=alt.Scale(domain=(0,25))),\n",
    "    color = alt.Color('compare:N',legend = alt.Legend(title = 'Neighborhoods'),scale=alt.Scale(domain=['Tenderloin Incidents','All Other Neighborhoods'], range=['crimson','grey'])),\n",
    "    tooltip = [alt.Tooltip('incident_date_2',title='Date'),alt.Tooltip('count',title='Incidents')]\n",
    ").properties(\n",
    "    width=650,\n",
    "    height=350,\n",
    "    title='Narcan Deployment in Tenderloin vs. in All Other Neighborhoods'\n",
    ")"
   ]
  },
  {
   "cell_type": "markdown",
   "id": "fc9de7b1-1116-4cc0-947f-7b747659347a",
   "metadata": {
    "jp-MarkdownHeadingCollapsed": true,
    "tags": []
   },
   "source": [
    "## Drug Arrests and Narcan Deployment Over Time"
   ]
  },
  {
   "cell_type": "markdown",
   "id": "92caaae5-f506-42cc-a999-cfe95557c17f",
   "metadata": {
    "tags": []
   },
   "source": [
    "### Finding #3\n",
    "As the pandemic began to subside and people started moving around more freely in the city, there has been an increase in drug-related arrests. During July and August of 2022, the city saw **more than 1000** drug-related arrests, almost double the typical monthly average of **271**."
   ]
  },
  {
   "cell_type": "markdown",
   "id": "40e82ac2-f629-4b5e-889f-78d9ff157fe6",
   "metadata": {},
   "source": [
    "#### Analysis and Visualization #3"
   ]
  },
  {
   "cell_type": "code",
   "execution_count": 379,
   "id": "5144c09d-a7c1-47f5-ad34-8970cd0c5849",
   "metadata": {
    "tags": []
   },
   "outputs": [
    {
     "data": {
      "text/html": [
       "<div>\n",
       "<style scoped>\n",
       "    .dataframe tbody tr th:only-of-type {\n",
       "        vertical-align: middle;\n",
       "    }\n",
       "\n",
       "    .dataframe tbody tr th {\n",
       "        vertical-align: top;\n",
       "    }\n",
       "\n",
       "    .dataframe thead th {\n",
       "        text-align: right;\n",
       "    }\n",
       "</style>\n",
       "<table border=\"1\" class=\"dataframe\">\n",
       "  <thead>\n",
       "    <tr style=\"text-align: right;\">\n",
       "      <th></th>\n",
       "      <th>incident_date</th>\n",
       "      <th>count</th>\n",
       "      <th>incident_date_2</th>\n",
       "    </tr>\n",
       "  </thead>\n",
       "  <tbody>\n",
       "    <tr>\n",
       "      <th>0</th>\n",
       "      <td>2018-01</td>\n",
       "      <td>337</td>\n",
       "      <td>2018-01</td>\n",
       "    </tr>\n",
       "    <tr>\n",
       "      <th>1</th>\n",
       "      <td>2018-02</td>\n",
       "      <td>356</td>\n",
       "      <td>2018-02</td>\n",
       "    </tr>\n",
       "    <tr>\n",
       "      <th>2</th>\n",
       "      <td>2018-03</td>\n",
       "      <td>423</td>\n",
       "      <td>2018-03</td>\n",
       "    </tr>\n",
       "    <tr>\n",
       "      <th>3</th>\n",
       "      <td>2018-04</td>\n",
       "      <td>348</td>\n",
       "      <td>2018-04</td>\n",
       "    </tr>\n",
       "    <tr>\n",
       "      <th>4</th>\n",
       "      <td>2018-05</td>\n",
       "      <td>384</td>\n",
       "      <td>2018-05</td>\n",
       "    </tr>\n",
       "  </tbody>\n",
       "</table>\n",
       "</div>"
      ],
      "text/plain": [
       "  incident_date  count incident_date_2\n",
       "0       2018-01    337         2018-01\n",
       "1       2018-02    356         2018-02\n",
       "2       2018-03    423         2018-03\n",
       "3       2018-04    348         2018-04\n",
       "4       2018-05    384         2018-05"
      ]
     },
     "execution_count": 379,
     "metadata": {},
     "output_type": "execute_result"
    }
   ],
   "source": [
    "# Drug arrests over time, by year-month\n",
    "# Again, note that incident_date_2 has no significant meaning other than for the purpose of tooltips in visualization.\n",
    "drug_arrest['incident_date'] = pd.to_datetime(drug_arrest['incident_date'])\n",
    "drug_arrest['incident_time'] = pd.to_datetime(drug_arrest['incident_time'])\n",
    "\n",
    "counts = drug_arrest.groupby(drug_arrest['incident_date'].dt.strftime('%Y-%m')).size().reset_index(name='count')\n",
    "counts['incident_date_2'] = counts['incident_date']\n",
    "counts.head()"
   ]
  },
  {
   "cell_type": "code",
   "execution_count": 380,
   "id": "270391ca-dd56-46f5-918d-d4c7b791f13a",
   "metadata": {
    "tags": []
   },
   "outputs": [
    {
     "data": {
      "text/plain": [
       "271.5"
      ]
     },
     "execution_count": 380,
     "metadata": {},
     "output_type": "execute_result"
    }
   ],
   "source": [
    "# Excluding the month we're currently in.\n",
    "end_date = '2023-02'\n",
    "filtered_counts = counts[counts['incident_date']<=end_date]\n",
    "# Calculating the monthly average. We chose median to account for extreme values.\n",
    "drug_arrest_median = filtered_counts['count'].median()\n",
    "drug_arrest_median"
   ]
  },
  {
   "cell_type": "code",
   "execution_count": 382,
   "id": "218e8f0d-c492-4df4-afac-94a04709d2b5",
   "metadata": {
    "tags": []
   },
   "outputs": [
    {
     "data": {
      "text/html": [
       "\n",
       "<div id=\"altair-viz-27a53538ee4748d7a3bb40ae56cbe11d\"></div>\n",
       "<script type=\"text/javascript\">\n",
       "  var VEGA_DEBUG = (typeof VEGA_DEBUG == \"undefined\") ? {} : VEGA_DEBUG;\n",
       "  (function(spec, embedOpt){\n",
       "    let outputDiv = document.currentScript.previousElementSibling;\n",
       "    if (outputDiv.id !== \"altair-viz-27a53538ee4748d7a3bb40ae56cbe11d\") {\n",
       "      outputDiv = document.getElementById(\"altair-viz-27a53538ee4748d7a3bb40ae56cbe11d\");\n",
       "    }\n",
       "    const paths = {\n",
       "      \"vega\": \"https://cdn.jsdelivr.net/npm/vega@5?noext\",\n",
       "      \"vega-lib\": \"https://cdn.jsdelivr.net/npm/vega-lib?noext\",\n",
       "      \"vega-lite\": \"https://cdn.jsdelivr.net/npm/vega-lite@5.6.1?noext\",\n",
       "      \"vega-embed\": \"https://cdn.jsdelivr.net/npm/vega-embed@6?noext\",\n",
       "    };\n",
       "\n",
       "    function maybeLoadScript(lib, version) {\n",
       "      var key = `${lib.replace(\"-\", \"\")}_version`;\n",
       "      return (VEGA_DEBUG[key] == version) ?\n",
       "        Promise.resolve(paths[lib]) :\n",
       "        new Promise(function(resolve, reject) {\n",
       "          var s = document.createElement('script');\n",
       "          document.getElementsByTagName(\"head\")[0].appendChild(s);\n",
       "          s.async = true;\n",
       "          s.onload = () => {\n",
       "            VEGA_DEBUG[key] = version;\n",
       "            return resolve(paths[lib]);\n",
       "          };\n",
       "          s.onerror = () => reject(`Error loading script: ${paths[lib]}`);\n",
       "          s.src = paths[lib];\n",
       "        });\n",
       "    }\n",
       "\n",
       "    function showError(err) {\n",
       "      outputDiv.innerHTML = `<div class=\"error\" style=\"color:red;\">${err}</div>`;\n",
       "      throw err;\n",
       "    }\n",
       "\n",
       "    function displayChart(vegaEmbed) {\n",
       "      vegaEmbed(outputDiv, spec, embedOpt)\n",
       "        .catch(err => showError(`Javascript Error: ${err.message}<br>This usually means there's a typo in your chart specification. See the javascript console for the full traceback.`));\n",
       "    }\n",
       "\n",
       "    if(typeof define === \"function\" && define.amd) {\n",
       "      requirejs.config({paths});\n",
       "      require([\"vega-embed\"], displayChart, err => showError(`Error loading script: ${err.message}`));\n",
       "    } else {\n",
       "      maybeLoadScript(\"vega\", \"5\")\n",
       "        .then(() => maybeLoadScript(\"vega-lite\", \"5.6.1\"))\n",
       "        .then(() => maybeLoadScript(\"vega-embed\", \"6\"))\n",
       "        .catch(showError)\n",
       "        .then(() => displayChart(vegaEmbed));\n",
       "    }\n",
       "  })({\"config\": {\"view\": {\"continuousWidth\": 300, \"continuousHeight\": 300}}, \"layer\": [{\"mark\": {\"type\": \"line\", \"size\": 3}, \"encoding\": {\"tooltip\": [{\"field\": \"incident_date_2\", \"title\": \"Date\", \"type\": \"nominal\"}, {\"field\": \"count\", \"title\": \"Drug Arrests\", \"type\": \"quantitative\"}], \"x\": {\"field\": \"incident_date\", \"title\": \"Date\", \"type\": \"temporal\"}, \"y\": {\"field\": \"count\", \"scale\": {\"domain\": [0, 600]}, \"title\": \"Count, Median of Counts\", \"type\": \"quantitative\"}}, \"title\": \"Drug-related Arrests, Jan. 2018 - Feb.2023\"}, {\"mark\": {\"type\": \"rule\", \"color\": \"crimson\", \"size\": 2}, \"encoding\": {\"tooltip\": {\"title\": \"Median of counts\"}, \"y\": {\"aggregate\": \"median\", \"field\": \"count\", \"type\": \"quantitative\"}}}, {\"data\": {\"name\": \"data-a339199ca70a7816ddc6ab7de4939aad\"}, \"mark\": {\"type\": \"text\", \"color\": \"crimson\", \"dy\": -15}, \"encoding\": {\"text\": {\"field\": \"count\", \"type\": \"quantitative\"}, \"x\": {\"field\": \"incident_date\", \"type\": \"temporal\"}, \"y\": {\"field\": \"count\", \"type\": \"quantitative\"}}}], \"data\": {\"name\": \"data-4a441df68a91a8fbaa05d6d55a3ab731\"}, \"height\": 400, \"width\": 600, \"$schema\": \"https://vega.github.io/schema/vega-lite/v5.6.1.json\", \"datasets\": {\"data-4a441df68a91a8fbaa05d6d55a3ab731\": [{\"incident_date\": \"2018-01\", \"count\": 337, \"incident_date_2\": \"2018-01\"}, {\"incident_date\": \"2018-02\", \"count\": 356, \"incident_date_2\": \"2018-02\"}, {\"incident_date\": \"2018-03\", \"count\": 423, \"incident_date_2\": \"2018-03\"}, {\"incident_date\": \"2018-04\", \"count\": 348, \"incident_date_2\": \"2018-04\"}, {\"incident_date\": \"2018-05\", \"count\": 384, \"incident_date_2\": \"2018-05\"}, {\"incident_date\": \"2018-06\", \"count\": 251, \"incident_date_2\": \"2018-06\"}, {\"incident_date\": \"2018-07\", \"count\": 334, \"incident_date_2\": \"2018-07\"}, {\"incident_date\": \"2018-08\", \"count\": 287, \"incident_date_2\": \"2018-08\"}, {\"incident_date\": \"2018-09\", \"count\": 274, \"incident_date_2\": \"2018-09\"}, {\"incident_date\": \"2018-10\", \"count\": 445, \"incident_date_2\": \"2018-10\"}, {\"incident_date\": \"2018-11\", \"count\": 437, \"incident_date_2\": \"2018-11\"}, {\"incident_date\": \"2018-12\", \"count\": 267, \"incident_date_2\": \"2018-12\"}, {\"incident_date\": \"2019-01\", \"count\": 316, \"incident_date_2\": \"2019-01\"}, {\"incident_date\": \"2019-02\", \"count\": 285, \"incident_date_2\": \"2019-02\"}, {\"incident_date\": \"2019-03\", \"count\": 323, \"incident_date_2\": \"2019-03\"}, {\"incident_date\": \"2019-04\", \"count\": 329, \"incident_date_2\": \"2019-04\"}, {\"incident_date\": \"2019-05\", \"count\": 295, \"incident_date_2\": \"2019-05\"}, {\"incident_date\": \"2019-06\", \"count\": 291, \"incident_date_2\": \"2019-06\"}, {\"incident_date\": \"2019-07\", \"count\": 353, \"incident_date_2\": \"2019-07\"}, {\"incident_date\": \"2019-08\", \"count\": 294, \"incident_date_2\": \"2019-08\"}, {\"incident_date\": \"2019-09\", \"count\": 320, \"incident_date_2\": \"2019-09\"}, {\"incident_date\": \"2019-10\", \"count\": 303, \"incident_date_2\": \"2019-10\"}, {\"incident_date\": \"2019-11\", \"count\": 293, \"incident_date_2\": \"2019-11\"}, {\"incident_date\": \"2019-12\", \"count\": 293, \"incident_date_2\": \"2019-12\"}, {\"incident_date\": \"2020-01\", \"count\": 299, \"incident_date_2\": \"2020-01\"}, {\"incident_date\": \"2020-02\", \"count\": 348, \"incident_date_2\": \"2020-02\"}, {\"incident_date\": \"2020-03\", \"count\": 165, \"incident_date_2\": \"2020-03\"}, {\"incident_date\": \"2020-04\", \"count\": 86, \"incident_date_2\": \"2020-04\"}, {\"incident_date\": \"2020-05\", \"count\": 229, \"incident_date_2\": \"2020-05\"}, {\"incident_date\": \"2020-06\", \"count\": 257, \"incident_date_2\": \"2020-06\"}, {\"incident_date\": \"2020-07\", \"count\": 227, \"incident_date_2\": \"2020-07\"}, {\"incident_date\": \"2020-08\", \"count\": 240, \"incident_date_2\": \"2020-08\"}, {\"incident_date\": \"2020-09\", \"count\": 229, \"incident_date_2\": \"2020-09\"}, {\"incident_date\": \"2020-10\", \"count\": 209, \"incident_date_2\": \"2020-10\"}, {\"incident_date\": \"2020-11\", \"count\": 148, \"incident_date_2\": \"2020-11\"}, {\"incident_date\": \"2020-12\", \"count\": 211, \"incident_date_2\": \"2020-12\"}, {\"incident_date\": \"2021-01\", \"count\": 249, \"incident_date_2\": \"2021-01\"}, {\"incident_date\": \"2021-02\", \"count\": 240, \"incident_date_2\": \"2021-02\"}, {\"incident_date\": \"2021-03\", \"count\": 179, \"incident_date_2\": \"2021-03\"}, {\"incident_date\": \"2021-04\", \"count\": 239, \"incident_date_2\": \"2021-04\"}, {\"incident_date\": \"2021-05\", \"count\": 110, \"incident_date_2\": \"2021-05\"}, {\"incident_date\": \"2021-06\", \"count\": 205, \"incident_date_2\": \"2021-06\"}, {\"incident_date\": \"2021-07\", \"count\": 201, \"incident_date_2\": \"2021-07\"}, {\"incident_date\": \"2021-08\", \"count\": 192, \"incident_date_2\": \"2021-08\"}, {\"incident_date\": \"2021-09\", \"count\": 172, \"incident_date_2\": \"2021-09\"}, {\"incident_date\": \"2021-10\", \"count\": 188, \"incident_date_2\": \"2021-10\"}, {\"incident_date\": \"2021-11\", \"count\": 154, \"incident_date_2\": \"2021-11\"}, {\"incident_date\": \"2021-12\", \"count\": 242, \"incident_date_2\": \"2021-12\"}, {\"incident_date\": \"2022-01\", \"count\": 269, \"incident_date_2\": \"2022-01\"}, {\"incident_date\": \"2022-02\", \"count\": 246, \"incident_date_2\": \"2022-02\"}, {\"incident_date\": \"2022-03\", \"count\": 258, \"incident_date_2\": \"2022-03\"}, {\"incident_date\": \"2022-04\", \"count\": 200, \"incident_date_2\": \"2022-04\"}, {\"incident_date\": \"2022-05\", \"count\": 260, \"incident_date_2\": \"2022-05\"}, {\"incident_date\": \"2022-06\", \"count\": 248, \"incident_date_2\": \"2022-06\"}, {\"incident_date\": \"2022-07\", \"count\": 542, \"incident_date_2\": \"2022-07\"}, {\"incident_date\": \"2022-08\", \"count\": 519, \"incident_date_2\": \"2022-08\"}, {\"incident_date\": \"2022-09\", \"count\": 328, \"incident_date_2\": \"2022-09\"}, {\"incident_date\": \"2022-10\", \"count\": 253, \"incident_date_2\": \"2022-10\"}, {\"incident_date\": \"2022-11\", \"count\": 328, \"incident_date_2\": \"2022-11\"}, {\"incident_date\": \"2022-12\", \"count\": 320, \"incident_date_2\": \"2022-12\"}, {\"incident_date\": \"2023-01\", \"count\": 329, \"incident_date_2\": \"2023-01\"}, {\"incident_date\": \"2023-02\", \"count\": 434, \"incident_date_2\": \"2023-02\"}], \"data-a339199ca70a7816ddc6ab7de4939aad\": [{\"incident_date\": \"2022-07\", \"count\": 542, \"incident_date_2\": \"2022-07\"}]}}, {\"mode\": \"vega-lite\"});\n",
       "</script>"
      ],
      "text/plain": [
       "alt.LayerChart(...)"
      ]
     },
     "execution_count": 382,
     "metadata": {},
     "output_type": "execute_result"
    }
   ],
   "source": [
    "# Visualize\n",
    "base = alt.Chart(filtered_counts).mark_line(size=3).encode(\n",
    "    alt.X('incident_date:T',title='Date'),\n",
    "    alt.Y('count',title='Count, Median of Counts',scale=alt.Scale(domain=(0,600))),\n",
    "    tooltip = [alt.Tooltip('incident_date_2',title = 'Date'),alt.Tooltip('count',title='Drug Arrests')]\n",
    ").properties(\n",
    "    width=600,\n",
    "    height=400,\n",
    "    title='Drug-related Arrests, Jan. 2018 - Feb.2023'\n",
    ")\n",
    "\n",
    "median = alt.Chart(filtered_counts).mark_rule(size=2,color='crimson').encode(\n",
    "    y='median(count)',\n",
    "    tooltip = alt.Tooltip(title = 'Median of counts')\n",
    ")\n",
    "\n",
    "text = (\n",
    "    alt.Chart(filtered_counts.query(\"count == count.max()\"))\n",
    "    .mark_text(dy=-15, color=\"crimson\")\n",
    "    .encode(x=alt.X(\"incident_date:T\"), y=alt.Y(\"count\"), text=alt.Text((\"count\")) \n",
    "))\n",
    "base+median+text"
   ]
  },
  {
   "cell_type": "markdown",
   "id": "0c5e1318-1186-4852-97d9-4324fc57ee0b",
   "metadata": {},
   "source": [
    "### Finding #4\n",
    "Narcan deployment spiked as incidents of drug overdose worsened during the COVID-19 pandemic.\n",
    "\n",
    "In March 2020, there were **31 recorded deployments** of Narcan in San Francisco, more than doubling the typical monthly amount of **12**.\n"
   ]
  },
  {
   "cell_type": "markdown",
   "id": "fe102f53-1c31-4475-bebd-be8d0bd2268f",
   "metadata": {},
   "source": [
    "#### Analysis and Visualization #4"
   ]
  },
  {
   "cell_type": "code",
   "execution_count": 383,
   "id": "39f6b08d-5ba5-4131-b44b-508066146551",
   "metadata": {
    "tags": []
   },
   "outputs": [
    {
     "data": {
      "text/html": [
       "<div>\n",
       "<style scoped>\n",
       "    .dataframe tbody tr th:only-of-type {\n",
       "        vertical-align: middle;\n",
       "    }\n",
       "\n",
       "    .dataframe tbody tr th {\n",
       "        vertical-align: top;\n",
       "    }\n",
       "\n",
       "    .dataframe thead th {\n",
       "        text-align: right;\n",
       "    }\n",
       "</style>\n",
       "<table border=\"1\" class=\"dataframe\">\n",
       "  <thead>\n",
       "    <tr style=\"text-align: right;\">\n",
       "      <th></th>\n",
       "      <th>incident_date</th>\n",
       "      <th>count</th>\n",
       "      <th>incident_date_2</th>\n",
       "    </tr>\n",
       "  </thead>\n",
       "  <tbody>\n",
       "    <tr>\n",
       "      <th>0</th>\n",
       "      <td>2018-01</td>\n",
       "      <td>4</td>\n",
       "      <td>2018-01</td>\n",
       "    </tr>\n",
       "    <tr>\n",
       "      <th>1</th>\n",
       "      <td>2018-02</td>\n",
       "      <td>13</td>\n",
       "      <td>2018-02</td>\n",
       "    </tr>\n",
       "    <tr>\n",
       "      <th>2</th>\n",
       "      <td>2018-03</td>\n",
       "      <td>7</td>\n",
       "      <td>2018-03</td>\n",
       "    </tr>\n",
       "    <tr>\n",
       "      <th>3</th>\n",
       "      <td>2018-04</td>\n",
       "      <td>5</td>\n",
       "      <td>2018-04</td>\n",
       "    </tr>\n",
       "    <tr>\n",
       "      <th>4</th>\n",
       "      <td>2018-05</td>\n",
       "      <td>3</td>\n",
       "      <td>2018-05</td>\n",
       "    </tr>\n",
       "  </tbody>\n",
       "</table>\n",
       "</div>"
      ],
      "text/plain": [
       "  incident_date  count incident_date_2\n",
       "0       2018-01      4         2018-01\n",
       "1       2018-02     13         2018-02\n",
       "2       2018-03      7         2018-03\n",
       "3       2018-04      5         2018-04\n",
       "4       2018-05      3         2018-05"
      ]
     },
     "execution_count": 383,
     "metadata": {},
     "output_type": "execute_result"
    }
   ],
   "source": [
    "# Grouping the narcan deployments by Year-month.\n",
    "# Note that incident_date_2 is not necessary, just for the sake of tooltips for visualization\n",
    "narcan_deploy['incident_date'] = pd.to_datetime(narcan_deploy['incident_date'])\n",
    "narcan_deploy['incident_time'] = pd.to_datetime(narcan_deploy['incident_time'])\n",
    "\n",
    "nd_counts = narcan_deploy.groupby(narcan_deploy['incident_date'].dt.strftime('%Y-%m')).size().reset_index(name='count')\n",
    "nd_counts['incident_date_2'] = nd_counts['incident_date']\n",
    "nd_counts.head()"
   ]
  },
  {
   "cell_type": "code",
   "execution_count": 384,
   "id": "c4d3a493-236d-4e99-bf7b-238fb90a459c",
   "metadata": {
    "tags": []
   },
   "outputs": [
    {
     "data": {
      "text/plain": [
       "12.0"
      ]
     },
     "execution_count": 384,
     "metadata": {},
     "output_type": "execute_result"
    }
   ],
   "source": [
    "# Excluding the month we're currently in.\n",
    "end_date = '2023-02'\n",
    "filtered_nd_counts = nd_counts[nd_counts['incident_date']<=end_date]\n",
    "# Calculating the monthly average. We chose median to account for extreme values.\n",
    "median_nd = filtered_nd_counts['count'].median()\n",
    "median_nd"
   ]
  },
  {
   "cell_type": "code",
   "execution_count": 386,
   "id": "a6317689-c08c-4942-a5c5-ddaa1630a8cd",
   "metadata": {
    "tags": []
   },
   "outputs": [
    {
     "data": {
      "text/html": [
       "\n",
       "<div id=\"altair-viz-ba9e2aaea3d64b67a2d73b4870c93d22\"></div>\n",
       "<script type=\"text/javascript\">\n",
       "  var VEGA_DEBUG = (typeof VEGA_DEBUG == \"undefined\") ? {} : VEGA_DEBUG;\n",
       "  (function(spec, embedOpt){\n",
       "    let outputDiv = document.currentScript.previousElementSibling;\n",
       "    if (outputDiv.id !== \"altair-viz-ba9e2aaea3d64b67a2d73b4870c93d22\") {\n",
       "      outputDiv = document.getElementById(\"altair-viz-ba9e2aaea3d64b67a2d73b4870c93d22\");\n",
       "    }\n",
       "    const paths = {\n",
       "      \"vega\": \"https://cdn.jsdelivr.net/npm/vega@5?noext\",\n",
       "      \"vega-lib\": \"https://cdn.jsdelivr.net/npm/vega-lib?noext\",\n",
       "      \"vega-lite\": \"https://cdn.jsdelivr.net/npm/vega-lite@5.6.1?noext\",\n",
       "      \"vega-embed\": \"https://cdn.jsdelivr.net/npm/vega-embed@6?noext\",\n",
       "    };\n",
       "\n",
       "    function maybeLoadScript(lib, version) {\n",
       "      var key = `${lib.replace(\"-\", \"\")}_version`;\n",
       "      return (VEGA_DEBUG[key] == version) ?\n",
       "        Promise.resolve(paths[lib]) :\n",
       "        new Promise(function(resolve, reject) {\n",
       "          var s = document.createElement('script');\n",
       "          document.getElementsByTagName(\"head\")[0].appendChild(s);\n",
       "          s.async = true;\n",
       "          s.onload = () => {\n",
       "            VEGA_DEBUG[key] = version;\n",
       "            return resolve(paths[lib]);\n",
       "          };\n",
       "          s.onerror = () => reject(`Error loading script: ${paths[lib]}`);\n",
       "          s.src = paths[lib];\n",
       "        });\n",
       "    }\n",
       "\n",
       "    function showError(err) {\n",
       "      outputDiv.innerHTML = `<div class=\"error\" style=\"color:red;\">${err}</div>`;\n",
       "      throw err;\n",
       "    }\n",
       "\n",
       "    function displayChart(vegaEmbed) {\n",
       "      vegaEmbed(outputDiv, spec, embedOpt)\n",
       "        .catch(err => showError(`Javascript Error: ${err.message}<br>This usually means there's a typo in your chart specification. See the javascript console for the full traceback.`));\n",
       "    }\n",
       "\n",
       "    if(typeof define === \"function\" && define.amd) {\n",
       "      requirejs.config({paths});\n",
       "      require([\"vega-embed\"], displayChart, err => showError(`Error loading script: ${err.message}`));\n",
       "    } else {\n",
       "      maybeLoadScript(\"vega\", \"5\")\n",
       "        .then(() => maybeLoadScript(\"vega-lite\", \"5.6.1\"))\n",
       "        .then(() => maybeLoadScript(\"vega-embed\", \"6\"))\n",
       "        .catch(showError)\n",
       "        .then(() => displayChart(vegaEmbed));\n",
       "    }\n",
       "  })({\"config\": {\"view\": {\"continuousWidth\": 300, \"continuousHeight\": 300}}, \"layer\": [{\"mark\": {\"type\": \"line\", \"size\": 3}, \"encoding\": {\"tooltip\": [{\"field\": \"incident_date_2\", \"title\": \"Date\", \"type\": \"nominal\"}, {\"field\": \"count\", \"title\": \"Narcan Deployment\", \"type\": \"quantitative\"}], \"x\": {\"field\": \"incident_date\", \"title\": \"Date\", \"type\": \"temporal\"}, \"y\": {\"field\": \"count\", \"title\": \"Count, Median of Counts\", \"type\": \"quantitative\"}}, \"title\": \"Narcan Deployments, Jan 2018 - Feb 2023\"}, {\"mark\": {\"type\": \"rule\", \"color\": \"crimson\", \"size\": 2}, \"encoding\": {\"tooltip\": {\"title\": \"Median of counts\"}, \"y\": {\"aggregate\": \"median\", \"field\": \"count\", \"type\": \"quantitative\"}}}, {\"data\": {\"name\": \"data-21f6c0074b08c567d634f06e158c90ce\"}, \"mark\": {\"type\": \"text\", \"color\": \"crimson\", \"dy\": -25}, \"encoding\": {\"text\": {\"field\": \"count\", \"type\": \"quantitative\"}, \"x\": {\"field\": \"incident_date\", \"type\": \"temporal\"}, \"y\": {\"field\": \"count\", \"type\": \"quantitative\"}}}], \"data\": {\"name\": \"data-bba3c7da4bc481f366da890c9a612ba1\"}, \"height\": 400, \"width\": 600, \"$schema\": \"https://vega.github.io/schema/vega-lite/v5.6.1.json\", \"datasets\": {\"data-bba3c7da4bc481f366da890c9a612ba1\": [{\"incident_date\": \"2018-01\", \"count\": 4, \"incident_date_2\": \"2018-01\"}, {\"incident_date\": \"2018-02\", \"count\": 13, \"incident_date_2\": \"2018-02\"}, {\"incident_date\": \"2018-03\", \"count\": 7, \"incident_date_2\": \"2018-03\"}, {\"incident_date\": \"2018-04\", \"count\": 5, \"incident_date_2\": \"2018-04\"}, {\"incident_date\": \"2018-05\", \"count\": 3, \"incident_date_2\": \"2018-05\"}, {\"incident_date\": \"2018-06\", \"count\": 5, \"incident_date_2\": \"2018-06\"}, {\"incident_date\": \"2018-07\", \"count\": 4, \"incident_date_2\": \"2018-07\"}, {\"incident_date\": \"2018-08\", \"count\": 8, \"incident_date_2\": \"2018-08\"}, {\"incident_date\": \"2018-09\", \"count\": 12, \"incident_date_2\": \"2018-09\"}, {\"incident_date\": \"2018-10\", \"count\": 9, \"incident_date_2\": \"2018-10\"}, {\"incident_date\": \"2018-11\", \"count\": 2, \"incident_date_2\": \"2018-11\"}, {\"incident_date\": \"2018-12\", \"count\": 6, \"incident_date_2\": \"2018-12\"}, {\"incident_date\": \"2019-01\", \"count\": 1, \"incident_date_2\": \"2019-01\"}, {\"incident_date\": \"2019-02\", \"count\": 3, \"incident_date_2\": \"2019-02\"}, {\"incident_date\": \"2019-03\", \"count\": 6, \"incident_date_2\": \"2019-03\"}, {\"incident_date\": \"2019-04\", \"count\": 8, \"incident_date_2\": \"2019-04\"}, {\"incident_date\": \"2019-05\", \"count\": 8, \"incident_date_2\": \"2019-05\"}, {\"incident_date\": \"2019-06\", \"count\": 19, \"incident_date_2\": \"2019-06\"}, {\"incident_date\": \"2019-07\", \"count\": 11, \"incident_date_2\": \"2019-07\"}, {\"incident_date\": \"2019-08\", \"count\": 17, \"incident_date_2\": \"2019-08\"}, {\"incident_date\": \"2019-09\", \"count\": 19, \"incident_date_2\": \"2019-09\"}, {\"incident_date\": \"2019-10\", \"count\": 17, \"incident_date_2\": \"2019-10\"}, {\"incident_date\": \"2019-11\", \"count\": 16, \"incident_date_2\": \"2019-11\"}, {\"incident_date\": \"2019-12\", \"count\": 10, \"incident_date_2\": \"2019-12\"}, {\"incident_date\": \"2020-01\", \"count\": 19, \"incident_date_2\": \"2020-01\"}, {\"incident_date\": \"2020-02\", \"count\": 24, \"incident_date_2\": \"2020-02\"}, {\"incident_date\": \"2020-03\", \"count\": 31, \"incident_date_2\": \"2020-03\"}, {\"incident_date\": \"2020-04\", \"count\": 23, \"incident_date_2\": \"2020-04\"}, {\"incident_date\": \"2020-05\", \"count\": 24, \"incident_date_2\": \"2020-05\"}, {\"incident_date\": \"2020-06\", \"count\": 12, \"incident_date_2\": \"2020-06\"}, {\"incident_date\": \"2020-07\", \"count\": 20, \"incident_date_2\": \"2020-07\"}, {\"incident_date\": \"2020-08\", \"count\": 19, \"incident_date_2\": \"2020-08\"}, {\"incident_date\": \"2020-09\", \"count\": 14, \"incident_date_2\": \"2020-09\"}, {\"incident_date\": \"2020-10\", \"count\": 8, \"incident_date_2\": \"2020-10\"}, {\"incident_date\": \"2020-11\", \"count\": 9, \"incident_date_2\": \"2020-11\"}, {\"incident_date\": \"2020-12\", \"count\": 10, \"incident_date_2\": \"2020-12\"}, {\"incident_date\": \"2021-01\", \"count\": 13, \"incident_date_2\": \"2021-01\"}, {\"incident_date\": \"2021-02\", \"count\": 13, \"incident_date_2\": \"2021-02\"}, {\"incident_date\": \"2021-03\", \"count\": 10, \"incident_date_2\": \"2021-03\"}, {\"incident_date\": \"2021-04\", \"count\": 8, \"incident_date_2\": \"2021-04\"}, {\"incident_date\": \"2021-05\", \"count\": 10, \"incident_date_2\": \"2021-05\"}, {\"incident_date\": \"2021-06\", \"count\": 10, \"incident_date_2\": \"2021-06\"}, {\"incident_date\": \"2021-07\", \"count\": 13, \"incident_date_2\": \"2021-07\"}, {\"incident_date\": \"2021-08\", \"count\": 15, \"incident_date_2\": \"2021-08\"}, {\"incident_date\": \"2021-09\", \"count\": 18, \"incident_date_2\": \"2021-09\"}, {\"incident_date\": \"2021-10\", \"count\": 8, \"incident_date_2\": \"2021-10\"}, {\"incident_date\": \"2021-11\", \"count\": 18, \"incident_date_2\": \"2021-11\"}, {\"incident_date\": \"2021-12\", \"count\": 9, \"incident_date_2\": \"2021-12\"}, {\"incident_date\": \"2022-01\", \"count\": 12, \"incident_date_2\": \"2022-01\"}, {\"incident_date\": \"2022-02\", \"count\": 12, \"incident_date_2\": \"2022-02\"}, {\"incident_date\": \"2022-03\", \"count\": 10, \"incident_date_2\": \"2022-03\"}, {\"incident_date\": \"2022-04\", \"count\": 12, \"incident_date_2\": \"2022-04\"}, {\"incident_date\": \"2022-05\", \"count\": 7, \"incident_date_2\": \"2022-05\"}, {\"incident_date\": \"2022-06\", \"count\": 14, \"incident_date_2\": \"2022-06\"}, {\"incident_date\": \"2022-07\", \"count\": 13, \"incident_date_2\": \"2022-07\"}, {\"incident_date\": \"2022-08\", \"count\": 14, \"incident_date_2\": \"2022-08\"}, {\"incident_date\": \"2022-09\", \"count\": 19, \"incident_date_2\": \"2022-09\"}, {\"incident_date\": \"2022-10\", \"count\": 16, \"incident_date_2\": \"2022-10\"}, {\"incident_date\": \"2022-11\", \"count\": 14, \"incident_date_2\": \"2022-11\"}, {\"incident_date\": \"2022-12\", \"count\": 14, \"incident_date_2\": \"2022-12\"}, {\"incident_date\": \"2023-01\", \"count\": 15, \"incident_date_2\": \"2023-01\"}, {\"incident_date\": \"2023-02\", \"count\": 13, \"incident_date_2\": \"2023-02\"}], \"data-21f6c0074b08c567d634f06e158c90ce\": [{\"incident_date\": \"2020-03\", \"count\": 31, \"incident_date_2\": \"2020-03\"}]}}, {\"mode\": \"vega-lite\"});\n",
       "</script>"
      ],
      "text/plain": [
       "alt.LayerChart(...)"
      ]
     },
     "execution_count": 386,
     "metadata": {},
     "output_type": "execute_result"
    }
   ],
   "source": [
    "# Visualize\n",
    "base = alt.Chart(filtered_nd_counts).mark_line(size=3).encode(\n",
    "    alt.X('incident_date:T',title='Date'),\n",
    "    alt.Y('count',title = 'Count, Median of Counts'),\n",
    "    tooltip = [alt.Tooltip('incident_date_2',title = 'Date'),alt.Tooltip('count',title='Narcan Deployment')]\n",
    ").properties(\n",
    "    width=600,\n",
    "    height=400,\n",
    "    title='Narcan Deployments, Jan 2018 - Feb 2023'\n",
    ")\n",
    "median = alt.Chart(filtered_nd_counts).mark_rule(size=2,color='crimson').encode(\n",
    "    y='median(count)',\n",
    "    tooltip = alt.Tooltip(title = 'Median of counts')\n",
    ")\n",
    "text = (\n",
    "    alt.Chart(filtered_nd_counts.query(\"count == count.max()\"))\n",
    "    .mark_text(dy=-25, color=\"crimson\")\n",
    "    .encode(x=alt.X(\"incident_date:T\"), y=alt.Y(\"count\"), text=alt.Text((\"count\")) \n",
    "))\n",
    "base+median+text"
   ]
  },
  {
   "cell_type": "markdown",
   "id": "0813bd2d-d864-4cd7-894a-ba30320a01f7",
   "metadata": {
    "jp-MarkdownHeadingCollapsed": true,
    "tags": []
   },
   "source": [
    "## Drug Arrests by Day-of-Week and Time-of-Day"
   ]
  },
  {
   "cell_type": "markdown",
   "id": "b2d02c9d-a602-48f3-92bd-ee08b114f56c",
   "metadata": {},
   "source": [
    "### Finding #5\n",
    "\n",
    "Most drug-related arrests occur on the **afternoons of Tuesday and Wednesday**. This result could be due to routine police patrol around those times."
   ]
  },
  {
   "cell_type": "markdown",
   "id": "813a699c-28fd-426b-b28a-e38a5521764b",
   "metadata": {},
   "source": [
    "#### Analysis and Visualization #5"
   ]
  },
  {
   "cell_type": "code",
   "execution_count": 387,
   "id": "530a2d3f-86e6-4d1b-b067-ea6945f6d71f",
   "metadata": {
    "tags": []
   },
   "outputs": [
    {
     "data": {
      "text/html": [
       "<div>\n",
       "<style scoped>\n",
       "    .dataframe tbody tr th:only-of-type {\n",
       "        vertical-align: middle;\n",
       "    }\n",
       "\n",
       "    .dataframe tbody tr th {\n",
       "        vertical-align: top;\n",
       "    }\n",
       "\n",
       "    .dataframe thead th {\n",
       "        text-align: right;\n",
       "    }\n",
       "</style>\n",
       "<table border=\"1\" class=\"dataframe\">\n",
       "  <thead>\n",
       "    <tr style=\"text-align: right;\">\n",
       "      <th></th>\n",
       "      <th>incident_day_of_week</th>\n",
       "      <th>incident_time</th>\n",
       "      <th>count</th>\n",
       "      <th>hour</th>\n",
       "    </tr>\n",
       "  </thead>\n",
       "  <tbody>\n",
       "    <tr>\n",
       "      <th>0</th>\n",
       "      <td>Friday</td>\n",
       "      <td>00</td>\n",
       "      <td>73</td>\n",
       "      <td>00:00</td>\n",
       "    </tr>\n",
       "    <tr>\n",
       "      <th>1</th>\n",
       "      <td>Friday</td>\n",
       "      <td>01</td>\n",
       "      <td>37</td>\n",
       "      <td>01:00</td>\n",
       "    </tr>\n",
       "    <tr>\n",
       "      <th>2</th>\n",
       "      <td>Friday</td>\n",
       "      <td>02</td>\n",
       "      <td>23</td>\n",
       "      <td>02:00</td>\n",
       "    </tr>\n",
       "    <tr>\n",
       "      <th>3</th>\n",
       "      <td>Friday</td>\n",
       "      <td>03</td>\n",
       "      <td>33</td>\n",
       "      <td>03:00</td>\n",
       "    </tr>\n",
       "    <tr>\n",
       "      <th>4</th>\n",
       "      <td>Friday</td>\n",
       "      <td>04</td>\n",
       "      <td>22</td>\n",
       "      <td>04:00</td>\n",
       "    </tr>\n",
       "  </tbody>\n",
       "</table>\n",
       "</div>"
      ],
      "text/plain": [
       "  incident_day_of_week incident_time  count   hour\n",
       "0               Friday            00     73  00:00\n",
       "1               Friday            01     37  01:00\n",
       "2               Friday            02     23  02:00\n",
       "3               Friday            03     33  03:00\n",
       "4               Friday            04     22  04:00"
      ]
     },
     "execution_count": 387,
     "metadata": {},
     "output_type": "execute_result"
    }
   ],
   "source": [
    "# Grouping the arrests\n",
    "week_time = drug_arrest.groupby([drug_arrest['incident_day_of_week'],drug_arrest['incident_time'].dt.strftime('%H')]).size().reset_index(name='count')\n",
    "week_time['hour']=week_time['incident_time']+':00'\n",
    "week_time.head()"
   ]
  },
  {
   "cell_type": "code",
   "execution_count": 388,
   "id": "f811b594-ecc3-40fb-8ed4-1d2ed0aff2b6",
   "metadata": {
    "tags": []
   },
   "outputs": [
    {
     "data": {
      "text/html": [
       "\n",
       "<div id=\"altair-viz-29fa311335e5494ebeffa01505cd4311\"></div>\n",
       "<script type=\"text/javascript\">\n",
       "  var VEGA_DEBUG = (typeof VEGA_DEBUG == \"undefined\") ? {} : VEGA_DEBUG;\n",
       "  (function(spec, embedOpt){\n",
       "    let outputDiv = document.currentScript.previousElementSibling;\n",
       "    if (outputDiv.id !== \"altair-viz-29fa311335e5494ebeffa01505cd4311\") {\n",
       "      outputDiv = document.getElementById(\"altair-viz-29fa311335e5494ebeffa01505cd4311\");\n",
       "    }\n",
       "    const paths = {\n",
       "      \"vega\": \"https://cdn.jsdelivr.net/npm/vega@5?noext\",\n",
       "      \"vega-lib\": \"https://cdn.jsdelivr.net/npm/vega-lib?noext\",\n",
       "      \"vega-lite\": \"https://cdn.jsdelivr.net/npm/vega-lite@5.6.1?noext\",\n",
       "      \"vega-embed\": \"https://cdn.jsdelivr.net/npm/vega-embed@6?noext\",\n",
       "    };\n",
       "\n",
       "    function maybeLoadScript(lib, version) {\n",
       "      var key = `${lib.replace(\"-\", \"\")}_version`;\n",
       "      return (VEGA_DEBUG[key] == version) ?\n",
       "        Promise.resolve(paths[lib]) :\n",
       "        new Promise(function(resolve, reject) {\n",
       "          var s = document.createElement('script');\n",
       "          document.getElementsByTagName(\"head\")[0].appendChild(s);\n",
       "          s.async = true;\n",
       "          s.onload = () => {\n",
       "            VEGA_DEBUG[key] = version;\n",
       "            return resolve(paths[lib]);\n",
       "          };\n",
       "          s.onerror = () => reject(`Error loading script: ${paths[lib]}`);\n",
       "          s.src = paths[lib];\n",
       "        });\n",
       "    }\n",
       "\n",
       "    function showError(err) {\n",
       "      outputDiv.innerHTML = `<div class=\"error\" style=\"color:red;\">${err}</div>`;\n",
       "      throw err;\n",
       "    }\n",
       "\n",
       "    function displayChart(vegaEmbed) {\n",
       "      vegaEmbed(outputDiv, spec, embedOpt)\n",
       "        .catch(err => showError(`Javascript Error: ${err.message}<br>This usually means there's a typo in your chart specification. See the javascript console for the full traceback.`));\n",
       "    }\n",
       "\n",
       "    if(typeof define === \"function\" && define.amd) {\n",
       "      requirejs.config({paths});\n",
       "      require([\"vega-embed\"], displayChart, err => showError(`Error loading script: ${err.message}`));\n",
       "    } else {\n",
       "      maybeLoadScript(\"vega\", \"5\")\n",
       "        .then(() => maybeLoadScript(\"vega-lite\", \"5.6.1\"))\n",
       "        .then(() => maybeLoadScript(\"vega-embed\", \"6\"))\n",
       "        .catch(showError)\n",
       "        .then(() => displayChart(vegaEmbed));\n",
       "    }\n",
       "  })({\"config\": {\"view\": {\"continuousWidth\": 300, \"continuousHeight\": 300}}, \"data\": {\"name\": \"data-df9c3d9b1c0d63889cdce33d65bc3c11\"}, \"mark\": {\"type\": \"rect\"}, \"encoding\": {\"color\": {\"field\": \"count\", \"type\": \"quantitative\"}, \"tooltip\": [{\"field\": \"incident_day_of_week\", \"title\": \"Day\", \"type\": \"nominal\"}, {\"field\": \"hour\", \"title\": \"Time\", \"type\": \"nominal\"}, {\"field\": \"count\", \"title\": \"Drug Arrests\", \"type\": \"quantitative\"}], \"x\": {\"field\": \"incident_time\", \"title\": \"Hour of Day\", \"type\": \"nominal\"}, \"y\": {\"field\": \"incident_day_of_week\", \"sort\": [\"Sunday\", \"Monday\", \"Tuesday\", \"Wednesday\", \"Thursday\", \"Friday\", \"Saturday\"], \"title\": \"Day of Week\", \"type\": \"nominal\"}}, \"$schema\": \"https://vega.github.io/schema/vega-lite/v5.6.1.json\", \"datasets\": {\"data-df9c3d9b1c0d63889cdce33d65bc3c11\": [{\"incident_day_of_week\": \"Friday\", \"incident_time\": \"00\", \"count\": 73, \"hour\": \"00:00\"}, {\"incident_day_of_week\": \"Friday\", \"incident_time\": \"01\", \"count\": 37, \"hour\": \"01:00\"}, {\"incident_day_of_week\": \"Friday\", \"incident_time\": \"02\", \"count\": 23, \"hour\": \"02:00\"}, {\"incident_day_of_week\": \"Friday\", \"incident_time\": \"03\", \"count\": 33, \"hour\": \"03:00\"}, {\"incident_day_of_week\": \"Friday\", \"incident_time\": \"04\", \"count\": 22, \"hour\": \"04:00\"}, {\"incident_day_of_week\": \"Friday\", \"incident_time\": \"05\", \"count\": 13, \"hour\": \"05:00\"}, {\"incident_day_of_week\": \"Friday\", \"incident_time\": \"06\", \"count\": 31, \"hour\": \"06:00\"}, {\"incident_day_of_week\": \"Friday\", \"incident_time\": \"07\", \"count\": 106, \"hour\": \"07:00\"}, {\"incident_day_of_week\": \"Friday\", \"incident_time\": \"08\", \"count\": 112, \"hour\": \"08:00\"}, {\"incident_day_of_week\": \"Friday\", \"incident_time\": \"09\", \"count\": 109, \"hour\": \"09:00\"}, {\"incident_day_of_week\": \"Friday\", \"incident_time\": \"10\", \"count\": 125, \"hour\": \"10:00\"}, {\"incident_day_of_week\": \"Friday\", \"incident_time\": \"11\", \"count\": 121, \"hour\": \"11:00\"}, {\"incident_day_of_week\": \"Friday\", \"incident_time\": \"12\", \"count\": 183, \"hour\": \"12:00\"}, {\"incident_day_of_week\": \"Friday\", \"incident_time\": \"13\", \"count\": 209, \"hour\": \"13:00\"}, {\"incident_day_of_week\": \"Friday\", \"incident_time\": \"14\", \"count\": 158, \"hour\": \"14:00\"}, {\"incident_day_of_week\": \"Friday\", \"incident_time\": \"15\", \"count\": 185, \"hour\": \"15:00\"}, {\"incident_day_of_week\": \"Friday\", \"incident_time\": \"16\", \"count\": 172, \"hour\": \"16:00\"}, {\"incident_day_of_week\": \"Friday\", \"incident_time\": \"17\", \"count\": 144, \"hour\": \"17:00\"}, {\"incident_day_of_week\": \"Friday\", \"incident_time\": \"18\", \"count\": 105, \"hour\": \"18:00\"}, {\"incident_day_of_week\": \"Friday\", \"incident_time\": \"19\", \"count\": 107, \"hour\": \"19:00\"}, {\"incident_day_of_week\": \"Friday\", \"incident_time\": \"20\", \"count\": 39, \"hour\": \"20:00\"}, {\"incident_day_of_week\": \"Friday\", \"incident_time\": \"21\", \"count\": 55, \"hour\": \"21:00\"}, {\"incident_day_of_week\": \"Friday\", \"incident_time\": \"22\", \"count\": 72, \"hour\": \"22:00\"}, {\"incident_day_of_week\": \"Friday\", \"incident_time\": \"23\", \"count\": 58, \"hour\": \"23:00\"}, {\"incident_day_of_week\": \"Monday\", \"incident_time\": \"00\", \"count\": 42, \"hour\": \"00:00\"}, {\"incident_day_of_week\": \"Monday\", \"incident_time\": \"01\", \"count\": 38, \"hour\": \"01:00\"}, {\"incident_day_of_week\": \"Monday\", \"incident_time\": \"02\", \"count\": 40, \"hour\": \"02:00\"}, {\"incident_day_of_week\": \"Monday\", \"incident_time\": \"03\", \"count\": 18, \"hour\": \"03:00\"}, {\"incident_day_of_week\": \"Monday\", \"incident_time\": \"04\", \"count\": 11, \"hour\": \"04:00\"}, {\"incident_day_of_week\": \"Monday\", \"incident_time\": \"05\", \"count\": 9, \"hour\": \"05:00\"}, {\"incident_day_of_week\": \"Monday\", \"incident_time\": \"06\", \"count\": 29, \"hour\": \"06:00\"}, {\"incident_day_of_week\": \"Monday\", \"incident_time\": \"07\", \"count\": 54, \"hour\": \"07:00\"}, {\"incident_day_of_week\": \"Monday\", \"incident_time\": \"08\", \"count\": 67, \"hour\": \"08:00\"}, {\"incident_day_of_week\": \"Monday\", \"incident_time\": \"09\", \"count\": 80, \"hour\": \"09:00\"}, {\"incident_day_of_week\": \"Monday\", \"incident_time\": \"10\", \"count\": 53, \"hour\": \"10:00\"}, {\"incident_day_of_week\": \"Monday\", \"incident_time\": \"11\", \"count\": 163, \"hour\": \"11:00\"}, {\"incident_day_of_week\": \"Monday\", \"incident_time\": \"12\", \"count\": 167, \"hour\": \"12:00\"}, {\"incident_day_of_week\": \"Monday\", \"incident_time\": \"13\", \"count\": 246, \"hour\": \"13:00\"}, {\"incident_day_of_week\": \"Monday\", \"incident_time\": \"14\", \"count\": 234, \"hour\": \"14:00\"}, {\"incident_day_of_week\": \"Monday\", \"incident_time\": \"15\", \"count\": 199, \"hour\": \"15:00\"}, {\"incident_day_of_week\": \"Monday\", \"incident_time\": \"16\", \"count\": 155, \"hour\": \"16:00\"}, {\"incident_day_of_week\": \"Monday\", \"incident_time\": \"17\", \"count\": 124, \"hour\": \"17:00\"}, {\"incident_day_of_week\": \"Monday\", \"incident_time\": \"18\", \"count\": 114, \"hour\": \"18:00\"}, {\"incident_day_of_week\": \"Monday\", \"incident_time\": \"19\", \"count\": 82, \"hour\": \"19:00\"}, {\"incident_day_of_week\": \"Monday\", \"incident_time\": \"20\", \"count\": 44, \"hour\": \"20:00\"}, {\"incident_day_of_week\": \"Monday\", \"incident_time\": \"21\", \"count\": 50, \"hour\": \"21:00\"}, {\"incident_day_of_week\": \"Monday\", \"incident_time\": \"22\", \"count\": 37, \"hour\": \"22:00\"}, {\"incident_day_of_week\": \"Monday\", \"incident_time\": \"23\", \"count\": 44, \"hour\": \"23:00\"}, {\"incident_day_of_week\": \"Saturday\", \"incident_time\": \"00\", \"count\": 72, \"hour\": \"00:00\"}, {\"incident_day_of_week\": \"Saturday\", \"incident_time\": \"01\", \"count\": 37, \"hour\": \"01:00\"}, {\"incident_day_of_week\": \"Saturday\", \"incident_time\": \"02\", \"count\": 46, \"hour\": \"02:00\"}, {\"incident_day_of_week\": \"Saturday\", \"incident_time\": \"03\", \"count\": 13, \"hour\": \"03:00\"}, {\"incident_day_of_week\": \"Saturday\", \"incident_time\": \"04\", \"count\": 19, \"hour\": \"04:00\"}, {\"incident_day_of_week\": \"Saturday\", \"incident_time\": \"05\", \"count\": 16, \"hour\": \"05:00\"}, {\"incident_day_of_week\": \"Saturday\", \"incident_time\": \"06\", \"count\": 35, \"hour\": \"06:00\"}, {\"incident_day_of_week\": \"Saturday\", \"incident_time\": \"07\", \"count\": 74, \"hour\": \"07:00\"}, {\"incident_day_of_week\": \"Saturday\", \"incident_time\": \"08\", \"count\": 121, \"hour\": \"08:00\"}, {\"incident_day_of_week\": \"Saturday\", \"incident_time\": \"09\", \"count\": 92, \"hour\": \"09:00\"}, {\"incident_day_of_week\": \"Saturday\", \"incident_time\": \"10\", \"count\": 108, \"hour\": \"10:00\"}, {\"incident_day_of_week\": \"Saturday\", \"incident_time\": \"11\", \"count\": 112, \"hour\": \"11:00\"}, {\"incident_day_of_week\": \"Saturday\", \"incident_time\": \"12\", \"count\": 134, \"hour\": \"12:00\"}, {\"incident_day_of_week\": \"Saturday\", \"incident_time\": \"13\", \"count\": 119, \"hour\": \"13:00\"}, {\"incident_day_of_week\": \"Saturday\", \"incident_time\": \"14\", \"count\": 117, \"hour\": \"14:00\"}, {\"incident_day_of_week\": \"Saturday\", \"incident_time\": \"15\", \"count\": 167, \"hour\": \"15:00\"}, {\"incident_day_of_week\": \"Saturday\", \"incident_time\": \"16\", \"count\": 141, \"hour\": \"16:00\"}, {\"incident_day_of_week\": \"Saturday\", \"incident_time\": \"17\", \"count\": 131, \"hour\": \"17:00\"}, {\"incident_day_of_week\": \"Saturday\", \"incident_time\": \"18\", \"count\": 74, \"hour\": \"18:00\"}, {\"incident_day_of_week\": \"Saturday\", \"incident_time\": \"19\", \"count\": 64, \"hour\": \"19:00\"}, {\"incident_day_of_week\": \"Saturday\", \"incident_time\": \"20\", \"count\": 35, \"hour\": \"20:00\"}, {\"incident_day_of_week\": \"Saturday\", \"incident_time\": \"21\", \"count\": 46, \"hour\": \"21:00\"}, {\"incident_day_of_week\": \"Saturday\", \"incident_time\": \"22\", \"count\": 49, \"hour\": \"22:00\"}, {\"incident_day_of_week\": \"Saturday\", \"incident_time\": \"23\", \"count\": 46, \"hour\": \"23:00\"}, {\"incident_day_of_week\": \"Sunday\", \"incident_time\": \"00\", \"count\": 33, \"hour\": \"00:00\"}, {\"incident_day_of_week\": \"Sunday\", \"incident_time\": \"01\", \"count\": 18, \"hour\": \"01:00\"}, {\"incident_day_of_week\": \"Sunday\", \"incident_time\": \"02\", \"count\": 24, \"hour\": \"02:00\"}, {\"incident_day_of_week\": \"Sunday\", \"incident_time\": \"03\", \"count\": 21, \"hour\": \"03:00\"}, {\"incident_day_of_week\": \"Sunday\", \"incident_time\": \"04\", \"count\": 7, \"hour\": \"04:00\"}, {\"incident_day_of_week\": \"Sunday\", \"incident_time\": \"05\", \"count\": 15, \"hour\": \"05:00\"}, {\"incident_day_of_week\": \"Sunday\", \"incident_time\": \"06\", \"count\": 48, \"hour\": \"06:00\"}, {\"incident_day_of_week\": \"Sunday\", \"incident_time\": \"07\", \"count\": 53, \"hour\": \"07:00\"}, {\"incident_day_of_week\": \"Sunday\", \"incident_time\": \"08\", \"count\": 68, \"hour\": \"08:00\"}, {\"incident_day_of_week\": \"Sunday\", \"incident_time\": \"09\", \"count\": 76, \"hour\": \"09:00\"}, {\"incident_day_of_week\": \"Sunday\", \"incident_time\": \"10\", \"count\": 70, \"hour\": \"10:00\"}, {\"incident_day_of_week\": \"Sunday\", \"incident_time\": \"11\", \"count\": 129, \"hour\": \"11:00\"}, {\"incident_day_of_week\": \"Sunday\", \"incident_time\": \"12\", \"count\": 158, \"hour\": \"12:00\"}, {\"incident_day_of_week\": \"Sunday\", \"incident_time\": \"13\", \"count\": 158, \"hour\": \"13:00\"}, {\"incident_day_of_week\": \"Sunday\", \"incident_time\": \"14\", \"count\": 106, \"hour\": \"14:00\"}, {\"incident_day_of_week\": \"Sunday\", \"incident_time\": \"15\", \"count\": 143, \"hour\": \"15:00\"}, {\"incident_day_of_week\": \"Sunday\", \"incident_time\": \"16\", \"count\": 99, \"hour\": \"16:00\"}, {\"incident_day_of_week\": \"Sunday\", \"incident_time\": \"17\", \"count\": 116, \"hour\": \"17:00\"}, {\"incident_day_of_week\": \"Sunday\", \"incident_time\": \"18\", \"count\": 75, \"hour\": \"18:00\"}, {\"incident_day_of_week\": \"Sunday\", \"incident_time\": \"19\", \"count\": 45, \"hour\": \"19:00\"}, {\"incident_day_of_week\": \"Sunday\", \"incident_time\": \"20\", \"count\": 42, \"hour\": \"20:00\"}, {\"incident_day_of_week\": \"Sunday\", \"incident_time\": \"21\", \"count\": 43, \"hour\": \"21:00\"}, {\"incident_day_of_week\": \"Sunday\", \"incident_time\": \"22\", \"count\": 70, \"hour\": \"22:00\"}, {\"incident_day_of_week\": \"Sunday\", \"incident_time\": \"23\", \"count\": 51, \"hour\": \"23:00\"}, {\"incident_day_of_week\": \"Thursday\", \"incident_time\": \"00\", \"count\": 58, \"hour\": \"00:00\"}, {\"incident_day_of_week\": \"Thursday\", \"incident_time\": \"01\", \"count\": 54, \"hour\": \"01:00\"}, {\"incident_day_of_week\": \"Thursday\", \"incident_time\": \"02\", \"count\": 33, \"hour\": \"02:00\"}, {\"incident_day_of_week\": \"Thursday\", \"incident_time\": \"03\", \"count\": 36, \"hour\": \"03:00\"}, {\"incident_day_of_week\": \"Thursday\", \"incident_time\": \"04\", \"count\": 12, \"hour\": \"04:00\"}, {\"incident_day_of_week\": \"Thursday\", \"incident_time\": \"05\", \"count\": 24, \"hour\": \"05:00\"}, {\"incident_day_of_week\": \"Thursday\", \"incident_time\": \"06\", \"count\": 35, \"hour\": \"06:00\"}, {\"incident_day_of_week\": \"Thursday\", \"incident_time\": \"07\", \"count\": 123, \"hour\": \"07:00\"}, {\"incident_day_of_week\": \"Thursday\", \"incident_time\": \"08\", \"count\": 123, \"hour\": \"08:00\"}, {\"incident_day_of_week\": \"Thursday\", \"incident_time\": \"09\", \"count\": 146, \"hour\": \"09:00\"}, {\"incident_day_of_week\": \"Thursday\", \"incident_time\": \"10\", \"count\": 132, \"hour\": \"10:00\"}, {\"incident_day_of_week\": \"Thursday\", \"incident_time\": \"11\", \"count\": 144, \"hour\": \"11:00\"}, {\"incident_day_of_week\": \"Thursday\", \"incident_time\": \"12\", \"count\": 193, \"hour\": \"12:00\"}, {\"incident_day_of_week\": \"Thursday\", \"incident_time\": \"13\", \"count\": 327, \"hour\": \"13:00\"}, {\"incident_day_of_week\": \"Thursday\", \"incident_time\": \"14\", \"count\": 282, \"hour\": \"14:00\"}, {\"incident_day_of_week\": \"Thursday\", \"incident_time\": \"15\", \"count\": 260, \"hour\": \"15:00\"}, {\"incident_day_of_week\": \"Thursday\", \"incident_time\": \"16\", \"count\": 231, \"hour\": \"16:00\"}, {\"incident_day_of_week\": \"Thursday\", \"incident_time\": \"17\", \"count\": 172, \"hour\": \"17:00\"}, {\"incident_day_of_week\": \"Thursday\", \"incident_time\": \"18\", \"count\": 117, \"hour\": \"18:00\"}, {\"incident_day_of_week\": \"Thursday\", \"incident_time\": \"19\", \"count\": 100, \"hour\": \"19:00\"}, {\"incident_day_of_week\": \"Thursday\", \"incident_time\": \"20\", \"count\": 57, \"hour\": \"20:00\"}, {\"incident_day_of_week\": \"Thursday\", \"incident_time\": \"21\", \"count\": 64, \"hour\": \"21:00\"}, {\"incident_day_of_week\": \"Thursday\", \"incident_time\": \"22\", \"count\": 71, \"hour\": \"22:00\"}, {\"incident_day_of_week\": \"Thursday\", \"incident_time\": \"23\", \"count\": 85, \"hour\": \"23:00\"}, {\"incident_day_of_week\": \"Tuesday\", \"incident_time\": \"00\", \"count\": 62, \"hour\": \"00:00\"}, {\"incident_day_of_week\": \"Tuesday\", \"incident_time\": \"01\", \"count\": 38, \"hour\": \"01:00\"}, {\"incident_day_of_week\": \"Tuesday\", \"incident_time\": \"02\", \"count\": 28, \"hour\": \"02:00\"}, {\"incident_day_of_week\": \"Tuesday\", \"incident_time\": \"03\", \"count\": 34, \"hour\": \"03:00\"}, {\"incident_day_of_week\": \"Tuesday\", \"incident_time\": \"04\", \"count\": 17, \"hour\": \"04:00\"}, {\"incident_day_of_week\": \"Tuesday\", \"incident_time\": \"05\", \"count\": 11, \"hour\": \"05:00\"}, {\"incident_day_of_week\": \"Tuesday\", \"incident_time\": \"06\", \"count\": 31, \"hour\": \"06:00\"}, {\"incident_day_of_week\": \"Tuesday\", \"incident_time\": \"07\", \"count\": 77, \"hour\": \"07:00\"}, {\"incident_day_of_week\": \"Tuesday\", \"incident_time\": \"08\", \"count\": 92, \"hour\": \"08:00\"}, {\"incident_day_of_week\": \"Tuesday\", \"incident_time\": \"09\", \"count\": 91, \"hour\": \"09:00\"}, {\"incident_day_of_week\": \"Tuesday\", \"incident_time\": \"10\", \"count\": 80, \"hour\": \"10:00\"}, {\"incident_day_of_week\": \"Tuesday\", \"incident_time\": \"11\", \"count\": 142, \"hour\": \"11:00\"}, {\"incident_day_of_week\": \"Tuesday\", \"incident_time\": \"12\", \"count\": 227, \"hour\": \"12:00\"}, {\"incident_day_of_week\": \"Tuesday\", \"incident_time\": \"13\", \"count\": 312, \"hour\": \"13:00\"}, {\"incident_day_of_week\": \"Tuesday\", \"incident_time\": \"14\", \"count\": 450, \"hour\": \"14:00\"}, {\"incident_day_of_week\": \"Tuesday\", \"incident_time\": \"15\", \"count\": 343, \"hour\": \"15:00\"}, {\"incident_day_of_week\": \"Tuesday\", \"incident_time\": \"16\", \"count\": 332, \"hour\": \"16:00\"}, {\"incident_day_of_week\": \"Tuesday\", \"incident_time\": \"17\", \"count\": 190, \"hour\": \"17:00\"}, {\"incident_day_of_week\": \"Tuesday\", \"incident_time\": \"18\", \"count\": 134, \"hour\": \"18:00\"}, {\"incident_day_of_week\": \"Tuesday\", \"incident_time\": \"19\", \"count\": 112, \"hour\": \"19:00\"}, {\"incident_day_of_week\": \"Tuesday\", \"incident_time\": \"20\", \"count\": 64, \"hour\": \"20:00\"}, {\"incident_day_of_week\": \"Tuesday\", \"incident_time\": \"21\", \"count\": 40, \"hour\": \"21:00\"}, {\"incident_day_of_week\": \"Tuesday\", \"incident_time\": \"22\", \"count\": 81, \"hour\": \"22:00\"}, {\"incident_day_of_week\": \"Tuesday\", \"incident_time\": \"23\", \"count\": 66, \"hour\": \"23:00\"}, {\"incident_day_of_week\": \"Wednesday\", \"incident_time\": \"00\", \"count\": 62, \"hour\": \"00:00\"}, {\"incident_day_of_week\": \"Wednesday\", \"incident_time\": \"01\", \"count\": 22, \"hour\": \"01:00\"}, {\"incident_day_of_week\": \"Wednesday\", \"incident_time\": \"02\", \"count\": 51, \"hour\": \"02:00\"}, {\"incident_day_of_week\": \"Wednesday\", \"incident_time\": \"03\", \"count\": 36, \"hour\": \"03:00\"}, {\"incident_day_of_week\": \"Wednesday\", \"incident_time\": \"04\", \"count\": 16, \"hour\": \"04:00\"}, {\"incident_day_of_week\": \"Wednesday\", \"incident_time\": \"05\", \"count\": 16, \"hour\": \"05:00\"}, {\"incident_day_of_week\": \"Wednesday\", \"incident_time\": \"06\", \"count\": 59, \"hour\": \"06:00\"}, {\"incident_day_of_week\": \"Wednesday\", \"incident_time\": \"07\", \"count\": 148, \"hour\": \"07:00\"}, {\"incident_day_of_week\": \"Wednesday\", \"incident_time\": \"08\", \"count\": 137, \"hour\": \"08:00\"}, {\"incident_day_of_week\": \"Wednesday\", \"incident_time\": \"09\", \"count\": 155, \"hour\": \"09:00\"}, {\"incident_day_of_week\": \"Wednesday\", \"incident_time\": \"10\", \"count\": 150, \"hour\": \"10:00\"}, {\"incident_day_of_week\": \"Wednesday\", \"incident_time\": \"11\", \"count\": 208, \"hour\": \"11:00\"}, {\"incident_day_of_week\": \"Wednesday\", \"incident_time\": \"12\", \"count\": 268, \"hour\": \"12:00\"}, {\"incident_day_of_week\": \"Wednesday\", \"incident_time\": \"13\", \"count\": 375, \"hour\": \"13:00\"}, {\"incident_day_of_week\": \"Wednesday\", \"incident_time\": \"14\", \"count\": 392, \"hour\": \"14:00\"}, {\"incident_day_of_week\": \"Wednesday\", \"incident_time\": \"15\", \"count\": 338, \"hour\": \"15:00\"}, {\"incident_day_of_week\": \"Wednesday\", \"incident_time\": \"16\", \"count\": 286, \"hour\": \"16:00\"}, {\"incident_day_of_week\": \"Wednesday\", \"incident_time\": \"17\", \"count\": 216, \"hour\": \"17:00\"}, {\"incident_day_of_week\": \"Wednesday\", \"incident_time\": \"18\", \"count\": 180, \"hour\": \"18:00\"}, {\"incident_day_of_week\": \"Wednesday\", \"incident_time\": \"19\", \"count\": 137, \"hour\": \"19:00\"}, {\"incident_day_of_week\": \"Wednesday\", \"incident_time\": \"20\", \"count\": 108, \"hour\": \"20:00\"}, {\"incident_day_of_week\": \"Wednesday\", \"incident_time\": \"21\", \"count\": 75, \"hour\": \"21:00\"}, {\"incident_day_of_week\": \"Wednesday\", \"incident_time\": \"22\", \"count\": 77, \"hour\": \"22:00\"}, {\"incident_day_of_week\": \"Wednesday\", \"incident_time\": \"23\", \"count\": 65, \"hour\": \"23:00\"}]}}, {\"mode\": \"vega-lite\"});\n",
       "</script>"
      ],
      "text/plain": [
       "alt.Chart(...)"
      ]
     },
     "execution_count": 388,
     "metadata": {},
     "output_type": "execute_result"
    }
   ],
   "source": [
    "weekday_order = ['Sunday','Monday', 'Tuesday', 'Wednesday', 'Thursday', 'Friday','Saturday']\n",
    "\n",
    "base = alt.Chart(week_time).mark_rect().encode(\n",
    "    alt.Y('incident_day_of_week',title = 'Day of Week',sort= weekday_order),\n",
    "    alt.X('incident_time',title = 'Hour of Day'),\n",
    "    color='count',\n",
    "    tooltip = [alt.Tooltip('incident_day_of_week',title='Day'),\n",
    "               alt.Tooltip('hour',title = 'Time'),\n",
    "               alt.Tooltip('count',title='Drug Arrests')]\n",
    ")\n",
    "base"
   ]
  },
  {
   "cell_type": "markdown",
   "id": "ba5f77a1-d80b-4786-97c8-a6d500e7118b",
   "metadata": {},
   "source": [
    "## The Correlation Between Drug Arrests and Narcan Deployments"
   ]
  },
  {
   "cell_type": "markdown",
   "id": "294d1cf6-4229-4477-a128-7a949dda9d0e",
   "metadata": {
    "jp-MarkdownHeadingCollapsed": true,
    "tags": []
   },
   "source": [
    "### Finding #6\n",
    "Perhaps unsurprisingly, there's a strong correlation between drug arrests and Narcan deployments."
   ]
  },
  {
   "cell_type": "code",
   "execution_count": 391,
   "id": "d4495bf4-19c2-4fac-ad56-c3cdce844828",
   "metadata": {
    "tags": []
   },
   "outputs": [
    {
     "data": {
      "text/html": [
       "\n",
       "<div id=\"altair-viz-380d71c9005f499ba9b8245e98e5be50\"></div>\n",
       "<script type=\"text/javascript\">\n",
       "  var VEGA_DEBUG = (typeof VEGA_DEBUG == \"undefined\") ? {} : VEGA_DEBUG;\n",
       "  (function(spec, embedOpt){\n",
       "    let outputDiv = document.currentScript.previousElementSibling;\n",
       "    if (outputDiv.id !== \"altair-viz-380d71c9005f499ba9b8245e98e5be50\") {\n",
       "      outputDiv = document.getElementById(\"altair-viz-380d71c9005f499ba9b8245e98e5be50\");\n",
       "    }\n",
       "    const paths = {\n",
       "      \"vega\": \"https://cdn.jsdelivr.net/npm/vega@5?noext\",\n",
       "      \"vega-lib\": \"https://cdn.jsdelivr.net/npm/vega-lib?noext\",\n",
       "      \"vega-lite\": \"https://cdn.jsdelivr.net/npm/vega-lite@5.6.1?noext\",\n",
       "      \"vega-embed\": \"https://cdn.jsdelivr.net/npm/vega-embed@6?noext\",\n",
       "    };\n",
       "\n",
       "    function maybeLoadScript(lib, version) {\n",
       "      var key = `${lib.replace(\"-\", \"\")}_version`;\n",
       "      return (VEGA_DEBUG[key] == version) ?\n",
       "        Promise.resolve(paths[lib]) :\n",
       "        new Promise(function(resolve, reject) {\n",
       "          var s = document.createElement('script');\n",
       "          document.getElementsByTagName(\"head\")[0].appendChild(s);\n",
       "          s.async = true;\n",
       "          s.onload = () => {\n",
       "            VEGA_DEBUG[key] = version;\n",
       "            return resolve(paths[lib]);\n",
       "          };\n",
       "          s.onerror = () => reject(`Error loading script: ${paths[lib]}`);\n",
       "          s.src = paths[lib];\n",
       "        });\n",
       "    }\n",
       "\n",
       "    function showError(err) {\n",
       "      outputDiv.innerHTML = `<div class=\"error\" style=\"color:red;\">${err}</div>`;\n",
       "      throw err;\n",
       "    }\n",
       "\n",
       "    function displayChart(vegaEmbed) {\n",
       "      vegaEmbed(outputDiv, spec, embedOpt)\n",
       "        .catch(err => showError(`Javascript Error: ${err.message}<br>This usually means there's a typo in your chart specification. See the javascript console for the full traceback.`));\n",
       "    }\n",
       "\n",
       "    if(typeof define === \"function\" && define.amd) {\n",
       "      requirejs.config({paths});\n",
       "      require([\"vega-embed\"], displayChart, err => showError(`Error loading script: ${err.message}`));\n",
       "    } else {\n",
       "      maybeLoadScript(\"vega\", \"5\")\n",
       "        .then(() => maybeLoadScript(\"vega-lite\", \"5.6.1\"))\n",
       "        .then(() => maybeLoadScript(\"vega-embed\", \"6\"))\n",
       "        .catch(showError)\n",
       "        .then(() => displayChart(vegaEmbed));\n",
       "    }\n",
       "  })({\"config\": {\"view\": {\"continuousWidth\": 300, \"continuousHeight\": 300}}, \"data\": {\"name\": \"data-3ff4f01f16c64fcb5fe695673d0964a7\"}, \"mark\": {\"type\": \"square\"}, \"encoding\": {\"color\": {\"field\": \"analysis_neighborhood\", \"legend\": {\"title\": \"Neighborhoods\", \"values\": [\"Tenderloin\", \"South of Market\", \"Mission\"]}, \"type\": \"nominal\"}, \"size\": {\"field\": \"drug_arrests_count\", \"legend\": null, \"type\": \"quantitative\"}, \"tooltip\": [{\"field\": \"analysis_neighborhood\", \"title\": \"Neighborhood\", \"type\": \"nominal\"}, {\"field\": \"drug_arrests_count\", \"title\": \"Drug Arrests\", \"type\": \"quantitative\"}, {\"field\": \"narcan_deployment_count\", \"title\": \"Narcan Deployment\", \"type\": \"quantitative\"}], \"x\": {\"field\": \"drug_arrests_count\", \"title\": \"Drug Arrests\", \"type\": \"quantitative\"}, \"y\": {\"field\": \"narcan_deployment_count\", \"title\": \"Narcan Deployment\", \"type\": \"quantitative\"}}, \"height\": 250, \"title\": \"Drug Arrests vs. Narcan Deployment, by Neighborhood\", \"width\": 650, \"$schema\": \"https://vega.github.io/schema/vega-lite/v5.6.1.json\", \"datasets\": {\"data-3ff4f01f16c64fcb5fe695673d0964a7\": [{\"analysis_neighborhood\": \"Tenderloin\", \"drug_arrests_count\": 8613, \"narcan_deployment_count\": 401}, {\"analysis_neighborhood\": \"South of Market\", \"drug_arrests_count\": 2962, \"narcan_deployment_count\": 153}, {\"analysis_neighborhood\": \"Mission\", \"drug_arrests_count\": 1740, \"narcan_deployment_count\": 38}, {\"analysis_neighborhood\": \"Financial District/South Beach\", \"drug_arrests_count\": 451, \"narcan_deployment_count\": 56}, {\"analysis_neighborhood\": \"Bayview Hunters Point\", \"drug_arrests_count\": 437, \"narcan_deployment_count\": 15}, {\"analysis_neighborhood\": \"Castro/Upper Market\", \"drug_arrests_count\": 291, \"narcan_deployment_count\": 12}, {\"analysis_neighborhood\": \"Western Addition\", \"drug_arrests_count\": 273, \"narcan_deployment_count\": 10}, {\"analysis_neighborhood\": \"Haight Ashbury\", \"drug_arrests_count\": 242, \"narcan_deployment_count\": 4}, {\"analysis_neighborhood\": \"Nob Hill\", \"drug_arrests_count\": 213, \"narcan_deployment_count\": 6}, {\"analysis_neighborhood\": \"North Beach\", \"drug_arrests_count\": 137, \"narcan_deployment_count\": 6}, {\"analysis_neighborhood\": \"Mission Bay\", \"drug_arrests_count\": 126, \"narcan_deployment_count\": 3}, {\"analysis_neighborhood\": \"Outer Mission\", \"drug_arrests_count\": 115, \"narcan_deployment_count\": 3}, {\"analysis_neighborhood\": \"Excelsior\", \"drug_arrests_count\": 107, \"narcan_deployment_count\": 2}, {\"analysis_neighborhood\": \"Hayes Valley\", \"drug_arrests_count\": 103, \"narcan_deployment_count\": 5}, {\"analysis_neighborhood\": \"Marina\", \"drug_arrests_count\": 101, \"narcan_deployment_count\": 7}, {\"analysis_neighborhood\": \"Chinatown\", \"drug_arrests_count\": 100, \"narcan_deployment_count\": 7}, {\"analysis_neighborhood\": \"Sunset/Parkside\", \"drug_arrests_count\": 99, \"narcan_deployment_count\": 4}, {\"analysis_neighborhood\": \"Golden Gate Park\", \"drug_arrests_count\": 81, \"narcan_deployment_count\": 2}, {\"analysis_neighborhood\": \"Russian Hill\", \"drug_arrests_count\": 80, \"narcan_deployment_count\": 4}, {\"analysis_neighborhood\": \"Pacific Heights\", \"drug_arrests_count\": 77, \"narcan_deployment_count\": 3}, {\"analysis_neighborhood\": \"Visitacion Valley\", \"drug_arrests_count\": 61, \"narcan_deployment_count\": 2}, {\"analysis_neighborhood\": \"Portola\", \"drug_arrests_count\": 56, \"narcan_deployment_count\": 1}, {\"analysis_neighborhood\": \"Inner Richmond\", \"drug_arrests_count\": 44, \"narcan_deployment_count\": 2}, {\"analysis_neighborhood\": \"Lone Mountain/USF\", \"drug_arrests_count\": 37, \"narcan_deployment_count\": 1}, {\"analysis_neighborhood\": \"Lakeshore\", \"drug_arrests_count\": 32, \"narcan_deployment_count\": 2}, {\"analysis_neighborhood\": \"Noe Valley\", \"drug_arrests_count\": 30, \"narcan_deployment_count\": 1}, {\"analysis_neighborhood\": \"Glen Park\", \"drug_arrests_count\": 26, \"narcan_deployment_count\": 1}, {\"analysis_neighborhood\": \"Japantown\", \"drug_arrests_count\": 17, \"narcan_deployment_count\": 5}]}}, {\"mode\": \"vega-lite\"});\n",
       "</script>"
      ],
      "text/plain": [
       "alt.Chart(...)"
      ]
     },
     "execution_count": 391,
     "metadata": {},
     "output_type": "execute_result"
    }
   ],
   "source": [
    "# Merging the drug arrests dataframe and the narcan deployment dataframe\n",
    "da_nd = da_df.merge(nd_df, on = 'analysis_neighborhood')\n",
    "# Visualization\n",
    "base = alt.Chart(da_nd).mark_square().encode(\n",
    "    alt.X('drug_arrests_count',title = 'Drug Arrests'),\n",
    "    alt.Y('narcan_deployment_count',title = 'Narcan Deployment'),\n",
    "    color = alt.Color('analysis_neighborhood',legend=alt.Legend(title='Neighborhoods', values=['Tenderloin', 'South of Market','Mission'])),\n",
    "    size = alt.Size('drug_arrests_count',legend=None),\n",
    "    tooltip=[alt.Tooltip('analysis_neighborhood',title='Neighborhood'),alt.Tooltip('drug_arrests_count',title = 'Drug Arrests'),alt.Tooltip('narcan_deployment_count',title = 'Narcan Deployment')]\n",
    ").properties(\n",
    "    width=650,\n",
    "    height=250,\n",
    "    title='Drug Arrests vs. Narcan Deployment, by Neighborhood'\n",
    ")\n",
    "base"
   ]
  },
  {
   "cell_type": "markdown",
   "id": "d4d0d5ce-c22f-4f33-92b1-fd2022f801f8",
   "metadata": {},
   "source": [
    "Let's ignore the three outliers — *Tenderloin, SoMA and Mission* — and take a closer look at the busy bottom left corner:"
   ]
  },
  {
   "cell_type": "code",
   "execution_count": 392,
   "id": "f1dbc3e4-2da9-4148-88f6-63e9bd00c7aa",
   "metadata": {
    "tags": []
   },
   "outputs": [
    {
     "data": {
      "text/html": [
       "\n",
       "<div id=\"altair-viz-59edaff9dc3a450fb4a2874df33526a8\"></div>\n",
       "<script type=\"text/javascript\">\n",
       "  var VEGA_DEBUG = (typeof VEGA_DEBUG == \"undefined\") ? {} : VEGA_DEBUG;\n",
       "  (function(spec, embedOpt){\n",
       "    let outputDiv = document.currentScript.previousElementSibling;\n",
       "    if (outputDiv.id !== \"altair-viz-59edaff9dc3a450fb4a2874df33526a8\") {\n",
       "      outputDiv = document.getElementById(\"altair-viz-59edaff9dc3a450fb4a2874df33526a8\");\n",
       "    }\n",
       "    const paths = {\n",
       "      \"vega\": \"https://cdn.jsdelivr.net/npm/vega@5?noext\",\n",
       "      \"vega-lib\": \"https://cdn.jsdelivr.net/npm/vega-lib?noext\",\n",
       "      \"vega-lite\": \"https://cdn.jsdelivr.net/npm/vega-lite@5.6.1?noext\",\n",
       "      \"vega-embed\": \"https://cdn.jsdelivr.net/npm/vega-embed@6?noext\",\n",
       "    };\n",
       "\n",
       "    function maybeLoadScript(lib, version) {\n",
       "      var key = `${lib.replace(\"-\", \"\")}_version`;\n",
       "      return (VEGA_DEBUG[key] == version) ?\n",
       "        Promise.resolve(paths[lib]) :\n",
       "        new Promise(function(resolve, reject) {\n",
       "          var s = document.createElement('script');\n",
       "          document.getElementsByTagName(\"head\")[0].appendChild(s);\n",
       "          s.async = true;\n",
       "          s.onload = () => {\n",
       "            VEGA_DEBUG[key] = version;\n",
       "            return resolve(paths[lib]);\n",
       "          };\n",
       "          s.onerror = () => reject(`Error loading script: ${paths[lib]}`);\n",
       "          s.src = paths[lib];\n",
       "        });\n",
       "    }\n",
       "\n",
       "    function showError(err) {\n",
       "      outputDiv.innerHTML = `<div class=\"error\" style=\"color:red;\">${err}</div>`;\n",
       "      throw err;\n",
       "    }\n",
       "\n",
       "    function displayChart(vegaEmbed) {\n",
       "      vegaEmbed(outputDiv, spec, embedOpt)\n",
       "        .catch(err => showError(`Javascript Error: ${err.message}<br>This usually means there's a typo in your chart specification. See the javascript console for the full traceback.`));\n",
       "    }\n",
       "\n",
       "    if(typeof define === \"function\" && define.amd) {\n",
       "      requirejs.config({paths});\n",
       "      require([\"vega-embed\"], displayChart, err => showError(`Error loading script: ${err.message}`));\n",
       "    } else {\n",
       "      maybeLoadScript(\"vega\", \"5\")\n",
       "        .then(() => maybeLoadScript(\"vega-lite\", \"5.6.1\"))\n",
       "        .then(() => maybeLoadScript(\"vega-embed\", \"6\"))\n",
       "        .catch(showError)\n",
       "        .then(() => displayChart(vegaEmbed));\n",
       "    }\n",
       "  })({\"config\": {\"view\": {\"continuousWidth\": 300, \"continuousHeight\": 300}}, \"data\": {\"name\": \"data-3ff4f01f16c64fcb5fe695673d0964a7\"}, \"mark\": {\"type\": \"square\"}, \"encoding\": {\"color\": {\"field\": \"analysis_neighborhood\", \"legend\": {\"title\": \"Neighborhoods\", \"values\": [\"Financial District/South Beach\", \"Bayview Hunters Point\"]}, \"type\": \"nominal\"}, \"size\": {\"field\": \"drug_arrests_count\", \"legend\": null, \"type\": \"quantitative\"}, \"tooltip\": [{\"field\": \"analysis_neighborhood\", \"title\": \"Neighborhood\", \"type\": \"nominal\"}, {\"field\": \"drug_arrests_count\", \"title\": \"Drug Arrests\", \"type\": \"quantitative\"}, {\"field\": \"narcan_deployment_count\", \"title\": \"Narcan Deployment\", \"type\": \"quantitative\"}], \"x\": {\"field\": \"drug_arrests_count\", \"title\": \"Drug Arrests\", \"type\": \"quantitative\"}, \"y\": {\"field\": \"narcan_deployment_count\", \"title\": \"Narcan Deployment\", \"type\": \"quantitative\"}}, \"height\": 250, \"title\": \"Drug Arrests vs. Narcan Deployment, by Neighborhood\", \"transform\": [{\"filter\": \"(datum.drug_arrests_count < 1000)\"}], \"width\": 650, \"$schema\": \"https://vega.github.io/schema/vega-lite/v5.6.1.json\", \"datasets\": {\"data-3ff4f01f16c64fcb5fe695673d0964a7\": [{\"analysis_neighborhood\": \"Tenderloin\", \"drug_arrests_count\": 8613, \"narcan_deployment_count\": 401}, {\"analysis_neighborhood\": \"South of Market\", \"drug_arrests_count\": 2962, \"narcan_deployment_count\": 153}, {\"analysis_neighborhood\": \"Mission\", \"drug_arrests_count\": 1740, \"narcan_deployment_count\": 38}, {\"analysis_neighborhood\": \"Financial District/South Beach\", \"drug_arrests_count\": 451, \"narcan_deployment_count\": 56}, {\"analysis_neighborhood\": \"Bayview Hunters Point\", \"drug_arrests_count\": 437, \"narcan_deployment_count\": 15}, {\"analysis_neighborhood\": \"Castro/Upper Market\", \"drug_arrests_count\": 291, \"narcan_deployment_count\": 12}, {\"analysis_neighborhood\": \"Western Addition\", \"drug_arrests_count\": 273, \"narcan_deployment_count\": 10}, {\"analysis_neighborhood\": \"Haight Ashbury\", \"drug_arrests_count\": 242, \"narcan_deployment_count\": 4}, {\"analysis_neighborhood\": \"Nob Hill\", \"drug_arrests_count\": 213, \"narcan_deployment_count\": 6}, {\"analysis_neighborhood\": \"North Beach\", \"drug_arrests_count\": 137, \"narcan_deployment_count\": 6}, {\"analysis_neighborhood\": \"Mission Bay\", \"drug_arrests_count\": 126, \"narcan_deployment_count\": 3}, {\"analysis_neighborhood\": \"Outer Mission\", \"drug_arrests_count\": 115, \"narcan_deployment_count\": 3}, {\"analysis_neighborhood\": \"Excelsior\", \"drug_arrests_count\": 107, \"narcan_deployment_count\": 2}, {\"analysis_neighborhood\": \"Hayes Valley\", \"drug_arrests_count\": 103, \"narcan_deployment_count\": 5}, {\"analysis_neighborhood\": \"Marina\", \"drug_arrests_count\": 101, \"narcan_deployment_count\": 7}, {\"analysis_neighborhood\": \"Chinatown\", \"drug_arrests_count\": 100, \"narcan_deployment_count\": 7}, {\"analysis_neighborhood\": \"Sunset/Parkside\", \"drug_arrests_count\": 99, \"narcan_deployment_count\": 4}, {\"analysis_neighborhood\": \"Golden Gate Park\", \"drug_arrests_count\": 81, \"narcan_deployment_count\": 2}, {\"analysis_neighborhood\": \"Russian Hill\", \"drug_arrests_count\": 80, \"narcan_deployment_count\": 4}, {\"analysis_neighborhood\": \"Pacific Heights\", \"drug_arrests_count\": 77, \"narcan_deployment_count\": 3}, {\"analysis_neighborhood\": \"Visitacion Valley\", \"drug_arrests_count\": 61, \"narcan_deployment_count\": 2}, {\"analysis_neighborhood\": \"Portola\", \"drug_arrests_count\": 56, \"narcan_deployment_count\": 1}, {\"analysis_neighborhood\": \"Inner Richmond\", \"drug_arrests_count\": 44, \"narcan_deployment_count\": 2}, {\"analysis_neighborhood\": \"Lone Mountain/USF\", \"drug_arrests_count\": 37, \"narcan_deployment_count\": 1}, {\"analysis_neighborhood\": \"Lakeshore\", \"drug_arrests_count\": 32, \"narcan_deployment_count\": 2}, {\"analysis_neighborhood\": \"Noe Valley\", \"drug_arrests_count\": 30, \"narcan_deployment_count\": 1}, {\"analysis_neighborhood\": \"Glen Park\", \"drug_arrests_count\": 26, \"narcan_deployment_count\": 1}, {\"analysis_neighborhood\": \"Japantown\", \"drug_arrests_count\": 17, \"narcan_deployment_count\": 5}]}}, {\"mode\": \"vega-lite\"});\n",
       "</script>"
      ],
      "text/plain": [
       "alt.Chart(...)"
      ]
     },
     "execution_count": 392,
     "metadata": {},
     "output_type": "execute_result"
    }
   ],
   "source": [
    "# Filtering out the three neighborhood with the most drug arrests\n",
    "left_coner = base.encode(\n",
    "    color = alt.Color('analysis_neighborhood',legend=alt.Legend(title='Neighborhoods', values=['Financial District/South Beach', 'Bayview Hunters Point']))\n",
    ").transform_filter(\n",
    "    datum.drug_arrests_count < 1000\n",
    ")\n",
    "left_coner "
   ]
  },
  {
   "cell_type": "markdown",
   "id": "5b35abbd-332f-4301-8268-aae9c798aaa1",
   "metadata": {},
   "source": [
    "A similar correlation appears — high numbers of drug arrests corresponds with high numbers of Narcan deployment. Note that compared to other neighborhoods, **Financial District/South Beach** has a relatively high number of Narcan deployment."
   ]
  },
  {
   "cell_type": "markdown",
   "id": "71e9768b-c2dd-4e62-947d-49096f95a0bf",
   "metadata": {
    "tags": []
   },
   "source": [
    "## Beyond the Notebook"
   ]
  },
  {
   "cell_type": "markdown",
   "id": "537806c9-a211-479f-a5f5-201c43e685ef",
   "metadata": {},
   "source": [
    "Explore our dashboard to see how the drug epidemic affects different neighborhoods in San Francisco. \n",
    "- [Drug Arrests in SF](https://fishdmy-sfpd-data-scriptsstreamlit-drugarrests-183wkh.streamlit.app/)\n",
    "- [Narcan Deployment in SF](https://fishdmy-sfpd-data-scriptsstreamlit-narcan-xpqd8b.streamlit.app/)"
   ]
  }
 ],
 "metadata": {
  "kernelspec": {
   "display_name": "Python 3 (ipykernel)",
   "language": "python",
   "name": "python3"
  },
  "language_info": {
   "codemirror_mode": {
    "name": "ipython",
    "version": 3
   },
   "file_extension": ".py",
   "mimetype": "text/x-python",
   "name": "python",
   "nbconvert_exporter": "python",
   "pygments_lexer": "ipython3",
   "version": "3.9.13"
  }
 },
 "nbformat": 4,
 "nbformat_minor": 5
}
