{
 "cells": [
  {
   "cell_type": "code",
   "execution_count": 2,
   "metadata": {},
   "outputs": [],
   "source": [
    "import pandas as pd\n",
    "import altair as alt\n",
    "import geopandas as gpd"
   ]
  },
  {
   "cell_type": "code",
   "execution_count": 21,
   "metadata": {},
   "outputs": [
    {
     "data": {
      "text/plain": [
       "Incident Day of Week\n",
       "Wednesday    3577\n",
       "Tuesday      3054\n",
       "Thursday     2879\n",
       "Friday       2292\n",
       "Monday       2100\n",
       "Saturday     1868\n",
       "Sunday       1668\n",
       "dtype: int64"
      ]
     },
     "execution_count": 21,
     "metadata": {},
     "output_type": "execute_result"
    }
   ],
   "source": [
    "drug_arrest = pd.read_csv('/Users/tracy/code/sfpd_data/data/processed/drug_arrest_data.csv')\n",
    "drug_arrest.groupby('Incident Day of Week').size().sort_values(ascending=False)"
   ]
  },
  {
   "cell_type": "code",
   "execution_count": 4,
   "metadata": {},
   "outputs": [
    {
     "data": {
      "text/plain": [
       "'5.0.0rc1'"
      ]
     },
     "execution_count": 4,
     "metadata": {},
     "output_type": "execute_result"
    }
   ],
   "source": [
    "alt.__version__"
   ]
  },
  {
   "cell_type": "code",
   "execution_count": 5,
   "metadata": {},
   "outputs": [
    {
     "data": {
      "text/plain": [
       "Incident Category\n",
       "Drug Offense      17195\n",
       "Drug Violation      243\n",
       "dtype: int64"
      ]
     },
     "execution_count": 5,
     "metadata": {},
     "output_type": "execute_result"
    }
   ],
   "source": [
    "drug_arrest.groupby('Incident Category').size().sort_values(ascending=False)"
   ]
  },
  {
   "cell_type": "code",
   "execution_count": 6,
   "metadata": {},
   "outputs": [
    {
     "data": {
      "text/plain": [
       "Incident Category  Incident Description                     \n",
       "Drug Offense       Narcotics Paraphernalia, Possession of       4254\n",
       "                   Methamphetamine, Possession For Sale         1936\n",
       "                   Cocaine, Base/rock, Possession For Sale      1790\n",
       "                   Methamphetamine Offense                      1546\n",
       "                   Heroin, Possession For Sale                  1508\n",
       "                                                                ... \n",
       "                   Barbiturates, Possession For Sale               1\n",
       "                   Barbiturates, Transportation                    1\n",
       "                   Methadone, Transportation                       1\n",
       "                   Methadone, Sale                                 1\n",
       "                   Controlled Substance, Presence Where Used       1\n",
       "Length: 62, dtype: int64"
      ]
     },
     "execution_count": 6,
     "metadata": {},
     "output_type": "execute_result"
    }
   ],
   "source": [
    "drug_arrest.groupby(['Incident Category','Incident Description']).size().sort_values(ascending=False)"
   ]
  },
  {
   "cell_type": "code",
   "execution_count": 7,
   "metadata": {},
   "outputs": [
    {
     "data": {
      "text/plain": [
       "Analysis Neighborhood\n",
       "Tenderloin                        8613\n",
       "South of Market                   2962\n",
       "Mission                           1740\n",
       "Financial District/South Beach     451\n",
       "Bayview Hunters Point              437\n",
       "Castro/Upper Market                291\n",
       "Western Addition                   273\n",
       "Haight Ashbury                     242\n",
       "Nob Hill                           213\n",
       "North Beach                        137\n",
       "dtype: int64"
      ]
     },
     "execution_count": 7,
     "metadata": {},
     "output_type": "execute_result"
    }
   ],
   "source": [
    "drug_arrest.groupby('Analysis Neighborhood').size().sort_values(ascending=False).head(10)"
   ]
  },
  {
   "cell_type": "code",
   "execution_count": 8,
   "metadata": {},
   "outputs": [
    {
     "data": {
      "text/plain": [
       "Incident Day of Week  Incident Time\n",
       "Friday                00:00            20\n",
       "                      00:01             3\n",
       "                      00:02             2\n",
       "                      00:03             1\n",
       "                      00:07             1\n",
       "                                       ..\n",
       "Wednesday             23:50             2\n",
       "                      23:52             2\n",
       "                      23:55             2\n",
       "                      23:56             3\n",
       "                      23:59             2\n",
       "Length: 5403, dtype: int64"
      ]
     },
     "execution_count": 8,
     "metadata": {},
     "output_type": "execute_result"
    }
   ],
   "source": [
    "drug_arrest.groupby(['Incident Day of Week','Incident Time']).size()"
   ]
  },
  {
   "cell_type": "code",
   "execution_count": 7,
   "metadata": {},
   "outputs": [
    {
     "name": "stdout",
     "output_type": "stream",
     "text": [
      "<class 'pandas.core.frame.DataFrame'>\n",
      "RangeIndex: 17438 entries, 0 to 17437\n",
      "Data columns (total 35 columns):\n",
      " #   Column                                                Non-Null Count  Dtype  \n",
      "---  ------                                                --------------  -----  \n",
      " 0   Unnamed: 0                                            17438 non-null  int64  \n",
      " 1   Incident Datetime                                     17438 non-null  object \n",
      " 2   Incident Date                                         17438 non-null  object \n",
      " 3   Incident Time                                         17438 non-null  object \n",
      " 4   Incident Year                                         17438 non-null  int64  \n",
      " 5   Incident Day of Week                                  17438 non-null  object \n",
      " 6   Report Datetime                                       17438 non-null  object \n",
      " 7   Row ID                                                17438 non-null  int64  \n",
      " 8   Incident ID                                           17438 non-null  int64  \n",
      " 9   Incident Number                                       17438 non-null  int64  \n",
      " 10  CAD Number                                            17348 non-null  float64\n",
      " 11  Report Type Code                                      17438 non-null  object \n",
      " 12  Report Type Description                               17438 non-null  object \n",
      " 13  Filed Online                                          0 non-null      float64\n",
      " 14  Incident Code                                         17438 non-null  int64  \n",
      " 15  Incident Category                                     17438 non-null  object \n",
      " 16  Incident Subcategory                                  17438 non-null  object \n",
      " 17  Incident Description                                  17438 non-null  object \n",
      " 18  Resolution                                            17438 non-null  object \n",
      " 19  Intersection                                          17224 non-null  object \n",
      " 20  CNN                                                   17224 non-null  float64\n",
      " 21  Police District                                       17438 non-null  object \n",
      " 22  Analysis Neighborhood                                 17223 non-null  object \n",
      " 23  Supervisor District                                   17224 non-null  float64\n",
      " 24  Latitude                                              17224 non-null  float64\n",
      " 25  Longitude                                             17224 non-null  float64\n",
      " 26  Point                                                 17224 non-null  object \n",
      " 27  Neighborhoods                                         17063 non-null  float64\n",
      " 28  ESNCAG - Boundary File                                57 non-null     float64\n",
      " 29  Central Market/Tenderloin Boundary Polygon - Updated  10771 non-null  float64\n",
      " 30  Civic Center Harm Reduction Project Boundary          9976 non-null   float64\n",
      " 31  HSOC Zones as of 2018-06-05                           9441 non-null   float64\n",
      " 32  Invest In Neighborhoods (IIN) Areas                   0 non-null      float64\n",
      " 33  Current Supervisor Districts                          17220 non-null  float64\n",
      " 34  Current Police Districts                              17215 non-null  float64\n",
      "dtypes: float64(14), int64(6), object(15)\n",
      "memory usage: 4.7+ MB\n"
     ]
    }
   ],
   "source": [
    "drug_arrest.info()"
   ]
  },
  {
   "cell_type": "code",
   "execution_count": 90,
   "metadata": {},
   "outputs": [
    {
     "data": {
      "text/html": [
       "<div>\n",
       "<style scoped>\n",
       "    .dataframe tbody tr th:only-of-type {\n",
       "        vertical-align: middle;\n",
       "    }\n",
       "\n",
       "    .dataframe tbody tr th {\n",
       "        vertical-align: top;\n",
       "    }\n",
       "\n",
       "    .dataframe thead th {\n",
       "        text-align: right;\n",
       "    }\n",
       "</style>\n",
       "<table border=\"1\" class=\"dataframe\">\n",
       "  <thead>\n",
       "    <tr style=\"text-align: right;\">\n",
       "      <th></th>\n",
       "      <th>incident_date</th>\n",
       "      <th>count</th>\n",
       "      <th>incident_date_2</th>\n",
       "    </tr>\n",
       "  </thead>\n",
       "  <tbody>\n",
       "    <tr>\n",
       "      <th>0</th>\n",
       "      <td>2018-01</td>\n",
       "      <td>337</td>\n",
       "      <td>2018-01</td>\n",
       "    </tr>\n",
       "    <tr>\n",
       "      <th>1</th>\n",
       "      <td>2018-02</td>\n",
       "      <td>356</td>\n",
       "      <td>2018-02</td>\n",
       "    </tr>\n",
       "    <tr>\n",
       "      <th>2</th>\n",
       "      <td>2018-03</td>\n",
       "      <td>423</td>\n",
       "      <td>2018-03</td>\n",
       "    </tr>\n",
       "    <tr>\n",
       "      <th>3</th>\n",
       "      <td>2018-04</td>\n",
       "      <td>348</td>\n",
       "      <td>2018-04</td>\n",
       "    </tr>\n",
       "    <tr>\n",
       "      <th>4</th>\n",
       "      <td>2018-05</td>\n",
       "      <td>384</td>\n",
       "      <td>2018-05</td>\n",
       "    </tr>\n",
       "  </tbody>\n",
       "</table>\n",
       "</div>"
      ],
      "text/plain": [
       "  incident_date  count incident_date_2\n",
       "0       2018-01    337         2018-01\n",
       "1       2018-02    356         2018-02\n",
       "2       2018-03    423         2018-03\n",
       "3       2018-04    348         2018-04\n",
       "4       2018-05    384         2018-05"
      ]
     },
     "execution_count": 90,
     "metadata": {},
     "output_type": "execute_result"
    }
   ],
   "source": [
    "drug_arrest= drug_arrest.rename(columns={\"Incident Date\":'incident_date','Row ID':'row_id',\n",
    "                                         'Incident Day of Week':'day_of_week','Incident Year':'incident_year',\n",
    "                                         'Incident Time':'incident_time'})\n",
    "drug_arrest['incident_date'] = pd.to_datetime(drug_arrest['incident_date'])\n",
    "drug_arrest['incident_time'] = pd.to_datetime(drug_arrest['incident_time'])\n",
    "\n",
    "counts = drug_arrest.groupby(drug_arrest['incident_date'].dt.strftime('%Y-%m')).size().reset_index(name='count')\n",
    "counts['incident_date_2'] = counts['incident_date']\n",
    "counts.head()"
   ]
  },
  {
   "cell_type": "code",
   "execution_count": 50,
   "metadata": {
    "tags": []
   },
   "outputs": [
    {
     "data": {
      "text/plain": [
       "271.5"
      ]
     },
     "execution_count": 50,
     "metadata": {},
     "output_type": "execute_result"
    }
   ],
   "source": [
    "end_date = '2023-02'\n",
    "filtered_counts = counts[counts['incident_date']<=end_date]\n",
    "filtered_counts.head()\n",
    "drug_arrest_median = filtered_counts['count'].median()\n",
    "drug_arrest_median"
   ]
  },
  {
   "cell_type": "code",
   "execution_count": 84,
   "metadata": {},
   "outputs": [
    {
     "data": {
      "text/html": [
       "\n",
       "<div id=\"altair-viz-a21e61da18e14b30ac7442ae02a93f96\"></div>\n",
       "<script type=\"text/javascript\">\n",
       "  var VEGA_DEBUG = (typeof VEGA_DEBUG == \"undefined\") ? {} : VEGA_DEBUG;\n",
       "  (function(spec, embedOpt){\n",
       "    let outputDiv = document.currentScript.previousElementSibling;\n",
       "    if (outputDiv.id !== \"altair-viz-a21e61da18e14b30ac7442ae02a93f96\") {\n",
       "      outputDiv = document.getElementById(\"altair-viz-a21e61da18e14b30ac7442ae02a93f96\");\n",
       "    }\n",
       "    const paths = {\n",
       "      \"vega\": \"https://cdn.jsdelivr.net/npm/vega@5?noext\",\n",
       "      \"vega-lib\": \"https://cdn.jsdelivr.net/npm/vega-lib?noext\",\n",
       "      \"vega-lite\": \"https://cdn.jsdelivr.net/npm/vega-lite@5.6.1?noext\",\n",
       "      \"vega-embed\": \"https://cdn.jsdelivr.net/npm/vega-embed@6?noext\",\n",
       "    };\n",
       "\n",
       "    function maybeLoadScript(lib, version) {\n",
       "      var key = `${lib.replace(\"-\", \"\")}_version`;\n",
       "      return (VEGA_DEBUG[key] == version) ?\n",
       "        Promise.resolve(paths[lib]) :\n",
       "        new Promise(function(resolve, reject) {\n",
       "          var s = document.createElement('script');\n",
       "          document.getElementsByTagName(\"head\")[0].appendChild(s);\n",
       "          s.async = true;\n",
       "          s.onload = () => {\n",
       "            VEGA_DEBUG[key] = version;\n",
       "            return resolve(paths[lib]);\n",
       "          };\n",
       "          s.onerror = () => reject(`Error loading script: ${paths[lib]}`);\n",
       "          s.src = paths[lib];\n",
       "        });\n",
       "    }\n",
       "\n",
       "    function showError(err) {\n",
       "      outputDiv.innerHTML = `<div class=\"error\" style=\"color:red;\">${err}</div>`;\n",
       "      throw err;\n",
       "    }\n",
       "\n",
       "    function displayChart(vegaEmbed) {\n",
       "      vegaEmbed(outputDiv, spec, embedOpt)\n",
       "        .catch(err => showError(`Javascript Error: ${err.message}<br>This usually means there's a typo in your chart specification. See the javascript console for the full traceback.`));\n",
       "    }\n",
       "\n",
       "    if(typeof define === \"function\" && define.amd) {\n",
       "      requirejs.config({paths});\n",
       "      require([\"vega-embed\"], displayChart, err => showError(`Error loading script: ${err.message}`));\n",
       "    } else {\n",
       "      maybeLoadScript(\"vega\", \"5\")\n",
       "        .then(() => maybeLoadScript(\"vega-lite\", \"5.6.1\"))\n",
       "        .then(() => maybeLoadScript(\"vega-embed\", \"6\"))\n",
       "        .catch(showError)\n",
       "        .then(() => displayChart(vegaEmbed));\n",
       "    }\n",
       "  })({\"config\": {\"view\": {\"continuousWidth\": 300, \"continuousHeight\": 300}}, \"layer\": [{\"mark\": {\"type\": \"line\", \"size\": 4}, \"encoding\": {\"tooltip\": [{\"field\": \"incident_date_2\", \"title\": \"Date\", \"type\": \"nominal\"}, {\"field\": \"count\", \"title\": \"Drug Arrests\", \"type\": \"quantitative\"}], \"x\": {\"field\": \"incident_date\", \"title\": \"Date\", \"type\": \"temporal\"}, \"y\": {\"field\": \"count\", \"title\": \"Count\", \"type\": \"quantitative\"}}, \"title\": \"Drug-related Arrests, Jan. 2018 - Feb.2023\"}, {\"mark\": {\"type\": \"rule\", \"color\": \"crimson\", \"size\": 2}, \"encoding\": {\"tooltip\": {\"title\": \"Median of counts\"}, \"y\": {\"aggregate\": \"median\", \"field\": \"count\", \"type\": \"quantitative\"}}}], \"data\": {\"name\": \"data-4a441df68a91a8fbaa05d6d55a3ab731\"}, \"height\": 400, \"width\": 600, \"$schema\": \"https://vega.github.io/schema/vega-lite/v5.6.1.json\", \"datasets\": {\"data-4a441df68a91a8fbaa05d6d55a3ab731\": [{\"incident_date\": \"2018-01\", \"count\": 337, \"incident_date_2\": \"2018-01\"}, {\"incident_date\": \"2018-02\", \"count\": 356, \"incident_date_2\": \"2018-02\"}, {\"incident_date\": \"2018-03\", \"count\": 423, \"incident_date_2\": \"2018-03\"}, {\"incident_date\": \"2018-04\", \"count\": 348, \"incident_date_2\": \"2018-04\"}, {\"incident_date\": \"2018-05\", \"count\": 384, \"incident_date_2\": \"2018-05\"}, {\"incident_date\": \"2018-06\", \"count\": 251, \"incident_date_2\": \"2018-06\"}, {\"incident_date\": \"2018-07\", \"count\": 334, \"incident_date_2\": \"2018-07\"}, {\"incident_date\": \"2018-08\", \"count\": 287, \"incident_date_2\": \"2018-08\"}, {\"incident_date\": \"2018-09\", \"count\": 274, \"incident_date_2\": \"2018-09\"}, {\"incident_date\": \"2018-10\", \"count\": 445, \"incident_date_2\": \"2018-10\"}, {\"incident_date\": \"2018-11\", \"count\": 437, \"incident_date_2\": \"2018-11\"}, {\"incident_date\": \"2018-12\", \"count\": 267, \"incident_date_2\": \"2018-12\"}, {\"incident_date\": \"2019-01\", \"count\": 316, \"incident_date_2\": \"2019-01\"}, {\"incident_date\": \"2019-02\", \"count\": 285, \"incident_date_2\": \"2019-02\"}, {\"incident_date\": \"2019-03\", \"count\": 323, \"incident_date_2\": \"2019-03\"}, {\"incident_date\": \"2019-04\", \"count\": 329, \"incident_date_2\": \"2019-04\"}, {\"incident_date\": \"2019-05\", \"count\": 295, \"incident_date_2\": \"2019-05\"}, {\"incident_date\": \"2019-06\", \"count\": 291, \"incident_date_2\": \"2019-06\"}, {\"incident_date\": \"2019-07\", \"count\": 353, \"incident_date_2\": \"2019-07\"}, {\"incident_date\": \"2019-08\", \"count\": 294, \"incident_date_2\": \"2019-08\"}, {\"incident_date\": \"2019-09\", \"count\": 320, \"incident_date_2\": \"2019-09\"}, {\"incident_date\": \"2019-10\", \"count\": 303, \"incident_date_2\": \"2019-10\"}, {\"incident_date\": \"2019-11\", \"count\": 293, \"incident_date_2\": \"2019-11\"}, {\"incident_date\": \"2019-12\", \"count\": 293, \"incident_date_2\": \"2019-12\"}, {\"incident_date\": \"2020-01\", \"count\": 299, \"incident_date_2\": \"2020-01\"}, {\"incident_date\": \"2020-02\", \"count\": 348, \"incident_date_2\": \"2020-02\"}, {\"incident_date\": \"2020-03\", \"count\": 165, \"incident_date_2\": \"2020-03\"}, {\"incident_date\": \"2020-04\", \"count\": 86, \"incident_date_2\": \"2020-04\"}, {\"incident_date\": \"2020-05\", \"count\": 229, \"incident_date_2\": \"2020-05\"}, {\"incident_date\": \"2020-06\", \"count\": 257, \"incident_date_2\": \"2020-06\"}, {\"incident_date\": \"2020-07\", \"count\": 227, \"incident_date_2\": \"2020-07\"}, {\"incident_date\": \"2020-08\", \"count\": 240, \"incident_date_2\": \"2020-08\"}, {\"incident_date\": \"2020-09\", \"count\": 229, \"incident_date_2\": \"2020-09\"}, {\"incident_date\": \"2020-10\", \"count\": 209, \"incident_date_2\": \"2020-10\"}, {\"incident_date\": \"2020-11\", \"count\": 148, \"incident_date_2\": \"2020-11\"}, {\"incident_date\": \"2020-12\", \"count\": 211, \"incident_date_2\": \"2020-12\"}, {\"incident_date\": \"2021-01\", \"count\": 249, \"incident_date_2\": \"2021-01\"}, {\"incident_date\": \"2021-02\", \"count\": 240, \"incident_date_2\": \"2021-02\"}, {\"incident_date\": \"2021-03\", \"count\": 179, \"incident_date_2\": \"2021-03\"}, {\"incident_date\": \"2021-04\", \"count\": 239, \"incident_date_2\": \"2021-04\"}, {\"incident_date\": \"2021-05\", \"count\": 110, \"incident_date_2\": \"2021-05\"}, {\"incident_date\": \"2021-06\", \"count\": 205, \"incident_date_2\": \"2021-06\"}, {\"incident_date\": \"2021-07\", \"count\": 201, \"incident_date_2\": \"2021-07\"}, {\"incident_date\": \"2021-08\", \"count\": 192, \"incident_date_2\": \"2021-08\"}, {\"incident_date\": \"2021-09\", \"count\": 172, \"incident_date_2\": \"2021-09\"}, {\"incident_date\": \"2021-10\", \"count\": 188, \"incident_date_2\": \"2021-10\"}, {\"incident_date\": \"2021-11\", \"count\": 154, \"incident_date_2\": \"2021-11\"}, {\"incident_date\": \"2021-12\", \"count\": 242, \"incident_date_2\": \"2021-12\"}, {\"incident_date\": \"2022-01\", \"count\": 269, \"incident_date_2\": \"2022-01\"}, {\"incident_date\": \"2022-02\", \"count\": 246, \"incident_date_2\": \"2022-02\"}, {\"incident_date\": \"2022-03\", \"count\": 258, \"incident_date_2\": \"2022-03\"}, {\"incident_date\": \"2022-04\", \"count\": 200, \"incident_date_2\": \"2022-04\"}, {\"incident_date\": \"2022-05\", \"count\": 260, \"incident_date_2\": \"2022-05\"}, {\"incident_date\": \"2022-06\", \"count\": 248, \"incident_date_2\": \"2022-06\"}, {\"incident_date\": \"2022-07\", \"count\": 542, \"incident_date_2\": \"2022-07\"}, {\"incident_date\": \"2022-08\", \"count\": 519, \"incident_date_2\": \"2022-08\"}, {\"incident_date\": \"2022-09\", \"count\": 328, \"incident_date_2\": \"2022-09\"}, {\"incident_date\": \"2022-10\", \"count\": 253, \"incident_date_2\": \"2022-10\"}, {\"incident_date\": \"2022-11\", \"count\": 328, \"incident_date_2\": \"2022-11\"}, {\"incident_date\": \"2022-12\", \"count\": 320, \"incident_date_2\": \"2022-12\"}, {\"incident_date\": \"2023-01\", \"count\": 329, \"incident_date_2\": \"2023-01\"}, {\"incident_date\": \"2023-02\", \"count\": 434, \"incident_date_2\": \"2023-02\"}]}}, {\"mode\": \"vega-lite\"});\n",
       "</script>"
      ],
      "text/plain": [
       "alt.LayerChart(...)"
      ]
     },
     "execution_count": 84,
     "metadata": {},
     "output_type": "execute_result"
    }
   ],
   "source": [
    "base = alt.Chart(filtered_counts).mark_line(size=4).encode(\n",
    "    alt.X('incident_date:T',title='Date'),\n",
    "    alt.Y('count',title='Count'),\n",
    "    tooltip = [alt.Tooltip('incident_date_2',title = 'Date'),alt.Tooltip('count',title='Drug Arrests')]\n",
    ").properties(\n",
    "    width=600,\n",
    "    height=400,\n",
    "    title='Drug-related Arrests, Jan. 2018 - Feb.2023'\n",
    ")\n",
    "\n",
    "median = alt.Chart(filtered_counts).mark_rule(size=2,color='crimson').encode(\n",
    "    y='median(count)',\n",
    "    tooltip = alt.Tooltip(title = 'Median of counts')\n",
    ")\n",
    "\n",
    "base+median"
   ]
  },
  {
   "cell_type": "code",
   "execution_count": 91,
   "metadata": {
    "tags": []
   },
   "outputs": [
    {
     "data": {
      "text/html": [
       "<div>\n",
       "<style scoped>\n",
       "    .dataframe tbody tr th:only-of-type {\n",
       "        vertical-align: middle;\n",
       "    }\n",
       "\n",
       "    .dataframe tbody tr th {\n",
       "        vertical-align: top;\n",
       "    }\n",
       "\n",
       "    .dataframe thead th {\n",
       "        text-align: right;\n",
       "    }\n",
       "</style>\n",
       "<table border=\"1\" class=\"dataframe\">\n",
       "  <thead>\n",
       "    <tr style=\"text-align: right;\">\n",
       "      <th></th>\n",
       "      <th>incident_date</th>\n",
       "      <th>Analysis Neighborhood</th>\n",
       "      <th>count</th>\n",
       "      <th>incident_date_2</th>\n",
       "    </tr>\n",
       "  </thead>\n",
       "  <tbody>\n",
       "    <tr>\n",
       "      <th>704</th>\n",
       "      <td>2020-04</td>\n",
       "      <td>North Beach</td>\n",
       "      <td>1</td>\n",
       "      <td>2020-04</td>\n",
       "    </tr>\n",
       "    <tr>\n",
       "      <th>1012</th>\n",
       "      <td>2021-07</td>\n",
       "      <td>Sunset/Parkside</td>\n",
       "      <td>1</td>\n",
       "      <td>2021-07</td>\n",
       "    </tr>\n",
       "    <tr>\n",
       "      <th>1276</th>\n",
       "      <td>2022-09</td>\n",
       "      <td>Bernal Heights</td>\n",
       "      <td>1</td>\n",
       "      <td>2022-09</td>\n",
       "    </tr>\n",
       "    <tr>\n",
       "      <th>487</th>\n",
       "      <td>2019-07</td>\n",
       "      <td>Pacific Heights</td>\n",
       "      <td>1</td>\n",
       "      <td>2019-07</td>\n",
       "    </tr>\n",
       "    <tr>\n",
       "      <th>485</th>\n",
       "      <td>2019-07</td>\n",
       "      <td>Oceanview/Merced/Ingleside</td>\n",
       "      <td>1</td>\n",
       "      <td>2019-07</td>\n",
       "    </tr>\n",
       "    <tr>\n",
       "      <th>...</th>\n",
       "      <td>...</td>\n",
       "      <td>...</td>\n",
       "      <td>...</td>\n",
       "      <td>...</td>\n",
       "    </tr>\n",
       "    <tr>\n",
       "      <th>746</th>\n",
       "      <td>2020-06</td>\n",
       "      <td>Tenderloin</td>\n",
       "      <td>207</td>\n",
       "      <td>2020-06</td>\n",
       "    </tr>\n",
       "    <tr>\n",
       "      <th>251</th>\n",
       "      <td>2018-10</td>\n",
       "      <td>Tenderloin</td>\n",
       "      <td>227</td>\n",
       "      <td>2018-10</td>\n",
       "    </tr>\n",
       "    <tr>\n",
       "      <th>1398</th>\n",
       "      <td>2023-02</td>\n",
       "      <td>Tenderloin</td>\n",
       "      <td>267</td>\n",
       "      <td>2023-02</td>\n",
       "    </tr>\n",
       "    <tr>\n",
       "      <th>1270</th>\n",
       "      <td>2022-08</td>\n",
       "      <td>Tenderloin</td>\n",
       "      <td>310</td>\n",
       "      <td>2022-08</td>\n",
       "    </tr>\n",
       "    <tr>\n",
       "      <th>1249</th>\n",
       "      <td>2022-07</td>\n",
       "      <td>Tenderloin</td>\n",
       "      <td>356</td>\n",
       "      <td>2022-07</td>\n",
       "    </tr>\n",
       "  </tbody>\n",
       "</table>\n",
       "<p>1409 rows × 4 columns</p>\n",
       "</div>"
      ],
      "text/plain": [
       "     incident_date       Analysis Neighborhood  count incident_date_2\n",
       "704        2020-04                 North Beach      1         2020-04\n",
       "1012       2021-07             Sunset/Parkside      1         2021-07\n",
       "1276       2022-09              Bernal Heights      1         2022-09\n",
       "487        2019-07             Pacific Heights      1         2019-07\n",
       "485        2019-07  Oceanview/Merced/Ingleside      1         2019-07\n",
       "...            ...                         ...    ...             ...\n",
       "746        2020-06                  Tenderloin    207         2020-06\n",
       "251        2018-10                  Tenderloin    227         2018-10\n",
       "1398       2023-02                  Tenderloin    267         2023-02\n",
       "1270       2022-08                  Tenderloin    310         2022-08\n",
       "1249       2022-07                  Tenderloin    356         2022-07\n",
       "\n",
       "[1409 rows x 4 columns]"
      ]
     },
     "execution_count": 91,
     "metadata": {},
     "output_type": "execute_result"
    }
   ],
   "source": [
    "neighborho = drug_arrest.groupby([(drug_arrest['incident_date'].dt.strftime('%Y-%m')),drug_arrest['Analysis Neighborhood']]).size().reset_index(name='count')\n",
    "neighborho['incident_date_2'] = neighborho['incident_date']\n",
    "sorted = neighborho.sort_values('count',ascending=True)\n",
    "sorted\n"
   ]
  },
  {
   "cell_type": "code",
   "execution_count": 126,
   "metadata": {
    "tags": []
   },
   "outputs": [
    {
     "data": {
      "text/html": [
       "\n",
       "<div id=\"altair-viz-429b0d0f234846d68332197b1727fe1f\"></div>\n",
       "<script type=\"text/javascript\">\n",
       "  var VEGA_DEBUG = (typeof VEGA_DEBUG == \"undefined\") ? {} : VEGA_DEBUG;\n",
       "  (function(spec, embedOpt){\n",
       "    let outputDiv = document.currentScript.previousElementSibling;\n",
       "    if (outputDiv.id !== \"altair-viz-429b0d0f234846d68332197b1727fe1f\") {\n",
       "      outputDiv = document.getElementById(\"altair-viz-429b0d0f234846d68332197b1727fe1f\");\n",
       "    }\n",
       "    const paths = {\n",
       "      \"vega\": \"https://cdn.jsdelivr.net/npm/vega@5?noext\",\n",
       "      \"vega-lib\": \"https://cdn.jsdelivr.net/npm/vega-lib?noext\",\n",
       "      \"vega-lite\": \"https://cdn.jsdelivr.net/npm/vega-lite@5.6.1?noext\",\n",
       "      \"vega-embed\": \"https://cdn.jsdelivr.net/npm/vega-embed@6?noext\",\n",
       "    };\n",
       "\n",
       "    function maybeLoadScript(lib, version) {\n",
       "      var key = `${lib.replace(\"-\", \"\")}_version`;\n",
       "      return (VEGA_DEBUG[key] == version) ?\n",
       "        Promise.resolve(paths[lib]) :\n",
       "        new Promise(function(resolve, reject) {\n",
       "          var s = document.createElement('script');\n",
       "          document.getElementsByTagName(\"head\")[0].appendChild(s);\n",
       "          s.async = true;\n",
       "          s.onload = () => {\n",
       "            VEGA_DEBUG[key] = version;\n",
       "            return resolve(paths[lib]);\n",
       "          };\n",
       "          s.onerror = () => reject(`Error loading script: ${paths[lib]}`);\n",
       "          s.src = paths[lib];\n",
       "        });\n",
       "    }\n",
       "\n",
       "    function showError(err) {\n",
       "      outputDiv.innerHTML = `<div class=\"error\" style=\"color:red;\">${err}</div>`;\n",
       "      throw err;\n",
       "    }\n",
       "\n",
       "    function displayChart(vegaEmbed) {\n",
       "      vegaEmbed(outputDiv, spec, embedOpt)\n",
       "        .catch(err => showError(`Javascript Error: ${err.message}<br>This usually means there's a typo in your chart specification. See the javascript console for the full traceback.`));\n",
       "    }\n",
       "\n",
       "    if(typeof define === \"function\" && define.amd) {\n",
       "      requirejs.config({paths});\n",
       "      require([\"vega-embed\"], displayChart, err => showError(`Error loading script: ${err.message}`));\n",
       "    } else {\n",
       "      maybeLoadScript(\"vega\", \"5\")\n",
       "        .then(() => maybeLoadScript(\"vega-lite\", \"5.6.1\"))\n",
       "        .then(() => maybeLoadScript(\"vega-embed\", \"6\"))\n",
       "        .catch(showError)\n",
       "        .then(() => displayChart(vegaEmbed));\n",
       "    }\n",
       "  })({\"config\": {\"view\": {\"continuousWidth\": 300, \"continuousHeight\": 300}}, \"data\": {\"name\": \"data-6f326bfa0ed86fe12f10729945ce7b6b\"}, \"mark\": {\"type\": \"area\", \"opacity\": 0.8, \"size\": 9}, \"encoding\": {\"color\": {\"field\": \"Analysis Neighborhood\", \"legend\": {\"title\": \"Neighborhood\", \"values\": [\"Tenderloin\", \"South of Market\", \"Mission\"]}, \"type\": \"nominal\"}, \"tooltip\": [{\"field\": \"incident_date_2\", \"title\": \"Date\", \"type\": \"nominal\"}, {\"field\": \"count\", \"title\": \"Drug Arrests\", \"type\": \"quantitative\"}, {\"field\": \"Analysis Neighborhood\", \"title\": \"Neighborhood\", \"type\": \"nominal\"}], \"x\": {\"field\": \"incident_date\", \"title\": \"Date\", \"type\": \"temporal\"}, \"y\": {\"field\": \"count\", \"stack\": \"normalize\", \"title\": \"Count\", \"type\": \"quantitative\"}}, \"height\": 400, \"title\": \"Total Drug Arrests by Neighborhoods (2018-now)\", \"width\": 600, \"$schema\": \"https://vega.github.io/schema/vega-lite/v5.6.1.json\", \"datasets\": {\"data-6f326bfa0ed86fe12f10729945ce7b6b\": [{\"incident_date\": \"2020-04\", \"Analysis Neighborhood\": \"North Beach\", \"count\": 1, \"incident_date_2\": \"2020-04\"}, {\"incident_date\": \"2021-07\", \"Analysis Neighborhood\": \"Sunset/Parkside\", \"count\": 1, \"incident_date_2\": \"2021-07\"}, {\"incident_date\": \"2022-09\", \"Analysis Neighborhood\": \"Bernal Heights\", \"count\": 1, \"incident_date_2\": \"2022-09\"}, {\"incident_date\": \"2019-07\", \"Analysis Neighborhood\": \"Pacific Heights\", \"count\": 1, \"incident_date_2\": \"2019-07\"}, {\"incident_date\": \"2019-07\", \"Analysis Neighborhood\": \"Oceanview/Merced/Ingleside\", \"count\": 1, \"incident_date_2\": \"2019-07\"}, {\"incident_date\": \"2021-08\", \"Analysis Neighborhood\": \"Hayes Valley\", \"count\": 1, \"incident_date_2\": \"2021-08\"}, {\"incident_date\": \"2021-08\", \"Analysis Neighborhood\": \"Inner Richmond\", \"count\": 1, \"incident_date_2\": \"2021-08\"}, {\"incident_date\": \"2019-07\", \"Analysis Neighborhood\": \"Japantown\", \"count\": 1, \"incident_date_2\": \"2019-07\"}, {\"incident_date\": \"2019-07\", \"Analysis Neighborhood\": \"Hayes Valley\", \"count\": 1, \"incident_date_2\": \"2019-07\"}, {\"incident_date\": \"2021-08\", \"Analysis Neighborhood\": \"Lakeshore\", \"count\": 1, \"incident_date_2\": \"2021-08\"}, {\"incident_date\": \"2019-07\", \"Analysis Neighborhood\": \"Excelsior\", \"count\": 1, \"incident_date_2\": \"2019-07\"}, {\"incident_date\": \"2021-08\", \"Analysis Neighborhood\": \"Lone Mountain/USF\", \"count\": 1, \"incident_date_2\": \"2021-08\"}, {\"incident_date\": \"2021-08\", \"Analysis Neighborhood\": \"Oceanview/Merced/Ingleside\", \"count\": 1, \"incident_date_2\": \"2021-08\"}, {\"incident_date\": \"2021-08\", \"Analysis Neighborhood\": \"Portola\", \"count\": 1, \"incident_date_2\": \"2021-08\"}, {\"incident_date\": \"2021-08\", \"Analysis Neighborhood\": \"Russian Hill\", \"count\": 1, \"incident_date_2\": \"2021-08\"}, {\"incident_date\": \"2022-12\", \"Analysis Neighborhood\": \"Japantown\", \"count\": 1, \"incident_date_2\": \"2022-12\"}, {\"incident_date\": \"2019-06\", \"Analysis Neighborhood\": \"Sunset/Parkside\", \"count\": 1, \"incident_date_2\": \"2019-06\"}, {\"incident_date\": \"2022-12\", \"Analysis Neighborhood\": \"Lone Mountain/USF\", \"count\": 1, \"incident_date_2\": \"2022-12\"}, {\"incident_date\": \"2019-05\", \"Analysis Neighborhood\": \"Mission Bay\", \"count\": 1, \"incident_date_2\": \"2019-05\"}, {\"incident_date\": \"2019-05\", \"Analysis Neighborhood\": \"Noe Valley\", \"count\": 1, \"incident_date_2\": \"2019-05\"}, {\"incident_date\": \"2021-09\", \"Analysis Neighborhood\": \"Inner Sunset\", \"count\": 1, \"incident_date_2\": \"2021-09\"}, {\"incident_date\": \"2019-05\", \"Analysis Neighborhood\": \"Presidio Heights\", \"count\": 1, \"incident_date_2\": \"2019-05\"}, {\"incident_date\": \"2022-12\", \"Analysis Neighborhood\": \"Mission Bay\", \"count\": 1, \"incident_date_2\": \"2022-12\"}, {\"incident_date\": \"2019-06\", \"Analysis Neighborhood\": \"Bayview Hunters Point\", \"count\": 1, \"incident_date_2\": \"2019-06\"}, {\"incident_date\": \"2019-07\", \"Analysis Neighborhood\": \"Treasure Island\", \"count\": 1, \"incident_date_2\": \"2019-07\"}, {\"incident_date\": \"2021-09\", \"Analysis Neighborhood\": \"Bernal Heights\", \"count\": 1, \"incident_date_2\": \"2021-09\"}, {\"incident_date\": \"2019-06\", \"Analysis Neighborhood\": \"Inner Richmond\", \"count\": 1, \"incident_date_2\": \"2019-06\"}, {\"incident_date\": \"2019-06\", \"Analysis Neighborhood\": \"Inner Sunset\", \"count\": 1, \"incident_date_2\": \"2019-06\"}, {\"incident_date\": \"2022-12\", \"Analysis Neighborhood\": \"Marina\", \"count\": 1, \"incident_date_2\": \"2022-12\"}, {\"incident_date\": \"2021-08\", \"Analysis Neighborhood\": \"Treasure Island\", \"count\": 1, \"incident_date_2\": \"2021-08\"}, {\"incident_date\": \"2019-06\", \"Analysis Neighborhood\": \"Outer Mission\", \"count\": 1, \"incident_date_2\": \"2019-06\"}, {\"incident_date\": \"2019-06\", \"Analysis Neighborhood\": \"Outer Richmond\", \"count\": 1, \"incident_date_2\": \"2019-06\"}, {\"incident_date\": \"2019-06\", \"Analysis Neighborhood\": \"Glen Park\", \"count\": 1, \"incident_date_2\": \"2019-06\"}, {\"incident_date\": \"2019-08\", \"Analysis Neighborhood\": \"Bayview Hunters Point\", \"count\": 1, \"incident_date_2\": \"2019-08\"}, {\"incident_date\": \"2021-07\", \"Analysis Neighborhood\": \"Potrero Hill\", \"count\": 1, \"incident_date_2\": \"2021-07\"}, {\"incident_date\": \"2019-08\", \"Analysis Neighborhood\": \"Financial District/South Beach\", \"count\": 1, \"incident_date_2\": \"2019-08\"}, {\"incident_date\": \"2022-11\", \"Analysis Neighborhood\": \"Twin Peaks\", \"count\": 1, \"incident_date_2\": \"2022-11\"}, {\"incident_date\": \"2021-06\", \"Analysis Neighborhood\": \"Russian Hill\", \"count\": 1, \"incident_date_2\": \"2021-06\"}, {\"incident_date\": \"2021-06\", \"Analysis Neighborhood\": \"Presidio Heights\", \"count\": 1, \"incident_date_2\": \"2021-06\"}, {\"incident_date\": \"2019-10\", \"Analysis Neighborhood\": \"Chinatown\", \"count\": 1, \"incident_date_2\": \"2019-10\"}, {\"incident_date\": \"2021-06\", \"Analysis Neighborhood\": \"Potrero Hill\", \"count\": 1, \"incident_date_2\": \"2021-06\"}, {\"incident_date\": \"2021-06\", \"Analysis Neighborhood\": \"Pacific Heights\", \"count\": 1, \"incident_date_2\": \"2021-06\"}, {\"incident_date\": \"2022-11\", \"Analysis Neighborhood\": \"Visitacion Valley\", \"count\": 1, \"incident_date_2\": \"2022-11\"}, {\"incident_date\": \"2021-06\", \"Analysis Neighborhood\": \"Mission Bay\", \"count\": 1, \"incident_date_2\": \"2021-06\"}, {\"incident_date\": \"2019-10\", \"Analysis Neighborhood\": \"Potrero Hill\", \"count\": 1, \"incident_date_2\": \"2019-10\"}, {\"incident_date\": \"2019-10\", \"Analysis Neighborhood\": \"Russian Hill\", \"count\": 1, \"incident_date_2\": \"2019-10\"}, {\"incident_date\": \"2019-10\", \"Analysis Neighborhood\": \"Sunset/Parkside\", \"count\": 1, \"incident_date_2\": \"2019-10\"}, {\"incident_date\": \"2019-10\", \"Analysis Neighborhood\": \"Western Addition\", \"count\": 1, \"incident_date_2\": \"2019-10\"}, {\"incident_date\": \"2021-06\", \"Analysis Neighborhood\": \"Inner Richmond\", \"count\": 1, \"incident_date_2\": \"2021-06\"}, {\"incident_date\": \"2019-11\", \"Analysis Neighborhood\": \"Bernal Heights\", \"count\": 1, \"incident_date_2\": \"2019-11\"}, {\"incident_date\": \"2019-10\", \"Analysis Neighborhood\": \"Outer Richmond\", \"count\": 1, \"incident_date_2\": \"2019-10\"}, {\"incident_date\": \"2019-05\", \"Analysis Neighborhood\": \"Marina\", \"count\": 1, \"incident_date_2\": \"2019-05\"}, {\"incident_date\": \"2019-09\", \"Analysis Neighborhood\": \"Russian Hill\", \"count\": 1, \"incident_date_2\": \"2019-09\"}, {\"incident_date\": \"2022-09\", \"Analysis Neighborhood\": \"Golden Gate Park\", \"count\": 1, \"incident_date_2\": \"2022-09\"}, {\"incident_date\": \"2021-07\", \"Analysis Neighborhood\": \"Portola\", \"count\": 1, \"incident_date_2\": \"2021-07\"}, {\"incident_date\": \"2019-08\", \"Analysis Neighborhood\": \"Marina\", \"count\": 1, \"incident_date_2\": \"2019-08\"}, {\"incident_date\": \"2021-07\", \"Analysis Neighborhood\": \"Outer Mission\", \"count\": 1, \"incident_date_2\": \"2021-07\"}, {\"incident_date\": \"2019-08\", \"Analysis Neighborhood\": \"Twin Peaks\", \"count\": 1, \"incident_date_2\": \"2019-08\"}, {\"incident_date\": \"2021-07\", \"Analysis Neighborhood\": \"Marina\", \"count\": 1, \"incident_date_2\": \"2021-07\"}, {\"incident_date\": \"2021-07\", \"Analysis Neighborhood\": \"Lakeshore\", \"count\": 1, \"incident_date_2\": \"2021-07\"}, {\"incident_date\": \"2019-09\", \"Analysis Neighborhood\": \"Pacific Heights\", \"count\": 1, \"incident_date_2\": \"2019-09\"}, {\"incident_date\": \"2021-07\", \"Analysis Neighborhood\": \"Inner Richmond\", \"count\": 1, \"incident_date_2\": \"2021-07\"}, {\"incident_date\": \"2019-09\", \"Analysis Neighborhood\": \"Inner Richmond\", \"count\": 1, \"incident_date_2\": \"2019-09\"}, {\"incident_date\": \"2019-09\", \"Analysis Neighborhood\": \"Lakeshore\", \"count\": 1, \"incident_date_2\": \"2019-09\"}, {\"incident_date\": \"2019-09\", \"Analysis Neighborhood\": \"Lone Mountain/USF\", \"count\": 1, \"incident_date_2\": \"2019-09\"}, {\"incident_date\": \"2019-09\", \"Analysis Neighborhood\": \"Marina\", \"count\": 1, \"incident_date_2\": \"2019-09\"}, {\"incident_date\": \"2022-11\", \"Analysis Neighborhood\": \"Western Addition\", \"count\": 1, \"incident_date_2\": \"2022-11\"}, {\"incident_date\": \"2021-06\", \"Analysis Neighborhood\": \"Sunset/Parkside\", \"count\": 1, \"incident_date_2\": \"2021-06\"}, {\"incident_date\": \"2019-09\", \"Analysis Neighborhood\": \"Glen Park\", \"count\": 1, \"incident_date_2\": \"2019-09\"}, {\"incident_date\": \"2019-11\", \"Analysis Neighborhood\": \"Chinatown\", \"count\": 1, \"incident_date_2\": \"2019-11\"}, {\"incident_date\": \"2019-05\", \"Analysis Neighborhood\": \"Lone Mountain/USF\", \"count\": 1, \"incident_date_2\": \"2019-05\"}, {\"incident_date\": \"2019-05\", \"Analysis Neighborhood\": \"Golden Gate Park\", \"count\": 1, \"incident_date_2\": \"2019-05\"}, {\"incident_date\": \"2019-02\", \"Analysis Neighborhood\": \"Outer Richmond\", \"count\": 1, \"incident_date_2\": \"2019-02\"}, {\"incident_date\": \"2019-02\", \"Analysis Neighborhood\": \"Oceanview/Merced/Ingleside\", \"count\": 1, \"incident_date_2\": \"2019-02\"}, {\"incident_date\": \"2021-10\", \"Analysis Neighborhood\": \"Sunset/Parkside\", \"count\": 1, \"incident_date_2\": \"2021-10\"}, {\"incident_date\": \"2022-08\", \"Analysis Neighborhood\": \"Russian Hill\", \"count\": 1, \"incident_date_2\": \"2022-08\"}, {\"incident_date\": \"2019-02\", \"Analysis Neighborhood\": \"Bernal Heights\", \"count\": 1, \"incident_date_2\": \"2019-02\"}, {\"incident_date\": \"2021-11\", \"Analysis Neighborhood\": \"Chinatown\", \"count\": 1, \"incident_date_2\": \"2021-11\"}, {\"incident_date\": \"2021-11\", \"Analysis Neighborhood\": \"Glen Park\", \"count\": 1, \"incident_date_2\": \"2021-11\"}, {\"incident_date\": \"2019-01\", \"Analysis Neighborhood\": \"Sunset/Parkside\", \"count\": 1, \"incident_date_2\": \"2019-01\"}, {\"incident_date\": \"2023-01\", \"Analysis Neighborhood\": \"Chinatown\", \"count\": 1, \"incident_date_2\": \"2023-01\"}, {\"incident_date\": \"2021-11\", \"Analysis Neighborhood\": \"Haight Ashbury\", \"count\": 1, \"incident_date_2\": \"2021-11\"}, {\"incident_date\": \"2021-11\", \"Analysis Neighborhood\": \"Marina\", \"count\": 1, \"incident_date_2\": \"2021-11\"}, {\"incident_date\": \"2019-01\", \"Analysis Neighborhood\": \"Marina\", \"count\": 1, \"incident_date_2\": \"2019-01\"}, {\"incident_date\": \"2019-01\", \"Analysis Neighborhood\": \"Lone Mountain/USF\", \"count\": 1, \"incident_date_2\": \"2019-01\"}, {\"incident_date\": \"2019-01\", \"Analysis Neighborhood\": \"Inner Richmond\", \"count\": 1, \"incident_date_2\": \"2019-01\"}, {\"incident_date\": \"2021-11\", \"Analysis Neighborhood\": \"McLaren Park\", \"count\": 1, \"incident_date_2\": \"2021-11\"}, {\"incident_date\": \"2021-11\", \"Analysis Neighborhood\": \"Pacific Heights\", \"count\": 1, \"incident_date_2\": \"2021-11\"}, {\"incident_date\": \"2021-11\", \"Analysis Neighborhood\": \"Portola\", \"count\": 1, \"incident_date_2\": \"2021-11\"}, {\"incident_date\": \"2021-11\", \"Analysis Neighborhood\": \"West of Twin Peaks\", \"count\": 1, \"incident_date_2\": \"2021-11\"}, {\"incident_date\": \"2018-12\", \"Analysis Neighborhood\": \"Golden Gate Park\", \"count\": 1, \"incident_date_2\": \"2018-12\"}, {\"incident_date\": \"2021-11\", \"Analysis Neighborhood\": \"Visitacion Valley\", \"count\": 1, \"incident_date_2\": \"2021-11\"}, {\"incident_date\": \"2018-12\", \"Analysis Neighborhood\": \"Hayes Valley\", \"count\": 1, \"incident_date_2\": \"2018-12\"}, {\"incident_date\": \"2018-12\", \"Analysis Neighborhood\": \"Inner Richmond\", \"count\": 1, \"incident_date_2\": \"2018-12\"}, {\"incident_date\": \"2022-08\", \"Analysis Neighborhood\": \"Portola\", \"count\": 1, \"incident_date_2\": \"2022-08\"}, {\"incident_date\": \"2019-02\", \"Analysis Neighborhood\": \"Pacific Heights\", \"count\": 1, \"incident_date_2\": \"2019-02\"}, {\"incident_date\": \"2018-12\", \"Analysis Neighborhood\": \"Noe Valley\", \"count\": 1, \"incident_date_2\": \"2018-12\"}, {\"incident_date\": \"2018-12\", \"Analysis Neighborhood\": \"Portola\", \"count\": 1, \"incident_date_2\": \"2018-12\"}, {\"incident_date\": \"2018-12\", \"Analysis Neighborhood\": \"Presidio\", \"count\": 1, \"incident_date_2\": \"2018-12\"}, {\"incident_date\": \"2023-01\", \"Analysis Neighborhood\": \"Marina\", \"count\": 1, \"incident_date_2\": \"2023-01\"}, {\"incident_date\": \"2018-12\", \"Analysis Neighborhood\": \"Sunset/Parkside\", \"count\": 1, \"incident_date_2\": \"2018-12\"}, {\"incident_date\": \"2023-01\", \"Analysis Neighborhood\": \"Haight Ashbury\", \"count\": 1, \"incident_date_2\": \"2023-01\"}, {\"incident_date\": \"2019-01\", \"Analysis Neighborhood\": \"Bernal Heights\", \"count\": 1, \"incident_date_2\": \"2019-01\"}, {\"incident_date\": \"2021-11\", \"Analysis Neighborhood\": \"Sunset/Parkside\", \"count\": 1, \"incident_date_2\": \"2021-11\"}, {\"incident_date\": \"2019-02\", \"Analysis Neighborhood\": \"Presidio\", \"count\": 1, \"incident_date_2\": \"2019-02\"}, {\"incident_date\": \"2019-02\", \"Analysis Neighborhood\": \"Twin Peaks\", \"count\": 1, \"incident_date_2\": \"2019-02\"}, {\"incident_date\": \"2019-02\", \"Analysis Neighborhood\": \"West of Twin Peaks\", \"count\": 1, \"incident_date_2\": \"2019-02\"}, {\"incident_date\": \"2019-04\", \"Analysis Neighborhood\": \"Inner Richmond\", \"count\": 1, \"incident_date_2\": \"2019-04\"}, {\"incident_date\": \"2019-04\", \"Analysis Neighborhood\": \"Japantown\", \"count\": 1, \"incident_date_2\": \"2019-04\"}, {\"incident_date\": \"2022-12\", \"Analysis Neighborhood\": \"Portola\", \"count\": 1, \"incident_date_2\": \"2022-12\"}, {\"incident_date\": \"2019-04\", \"Analysis Neighborhood\": \"Outer Richmond\", \"count\": 1, \"incident_date_2\": \"2019-04\"}, {\"incident_date\": \"2021-09\", \"Analysis Neighborhood\": \"Outer Richmond\", \"count\": 1, \"incident_date_2\": \"2021-09\"}, {\"incident_date\": \"2021-09\", \"Analysis Neighborhood\": \"Outer Mission\", \"count\": 1, \"incident_date_2\": \"2021-09\"}, {\"incident_date\": \"2019-04\", \"Analysis Neighborhood\": \"Hayes Valley\", \"count\": 1, \"incident_date_2\": \"2019-04\"}, {\"incident_date\": \"2022-12\", \"Analysis Neighborhood\": \"North Beach\", \"count\": 1, \"incident_date_2\": \"2022-12\"}, {\"incident_date\": \"2019-04\", \"Analysis Neighborhood\": \"West of Twin Peaks\", \"count\": 1, \"incident_date_2\": \"2019-04\"}, {\"incident_date\": \"2021-09\", \"Analysis Neighborhood\": \"Oceanview/Merced/Ingleside\", \"count\": 1, \"incident_date_2\": \"2021-09\"}, {\"incident_date\": \"2021-09\", \"Analysis Neighborhood\": \"North Beach\", \"count\": 1, \"incident_date_2\": \"2021-09\"}, {\"incident_date\": \"2019-05\", \"Analysis Neighborhood\": \"Chinatown\", \"count\": 1, \"incident_date_2\": \"2019-05\"}, {\"incident_date\": \"2019-05\", \"Analysis Neighborhood\": \"Excelsior\", \"count\": 1, \"incident_date_2\": \"2019-05\"}, {\"incident_date\": \"2019-05\", \"Analysis Neighborhood\": \"Glen Park\", \"count\": 1, \"incident_date_2\": \"2019-05\"}, {\"incident_date\": \"2019-04\", \"Analysis Neighborhood\": \"Visitacion Valley\", \"count\": 1, \"incident_date_2\": \"2019-04\"}, {\"incident_date\": \"2021-09\", \"Analysis Neighborhood\": \"Marina\", \"count\": 1, \"incident_date_2\": \"2021-09\"}, {\"incident_date\": \"2021-09\", \"Analysis Neighborhood\": \"Potrero Hill\", \"count\": 1, \"incident_date_2\": \"2021-09\"}, {\"incident_date\": \"2022-08\", \"Analysis Neighborhood\": \"Visitacion Valley\", \"count\": 1, \"incident_date_2\": \"2022-08\"}, {\"incident_date\": \"2019-02\", \"Analysis Neighborhood\": \"Western Addition\", \"count\": 1, \"incident_date_2\": \"2019-02\"}, {\"incident_date\": \"2022-08\", \"Analysis Neighborhood\": \"Twin Peaks\", \"count\": 1, \"incident_date_2\": \"2022-08\"}, {\"incident_date\": \"2019-03\", \"Analysis Neighborhood\": \"Castro/Upper Market\", \"count\": 1, \"incident_date_2\": \"2019-03\"}, {\"incident_date\": \"2021-10\", \"Analysis Neighborhood\": \"Marina\", \"count\": 1, \"incident_date_2\": \"2021-10\"}, {\"incident_date\": \"2021-10\", \"Analysis Neighborhood\": \"Japantown\", \"count\": 1, \"incident_date_2\": \"2021-10\"}, {\"incident_date\": \"2019-03\", \"Analysis Neighborhood\": \"Outer Mission\", \"count\": 1, \"incident_date_2\": \"2019-03\"}, {\"incident_date\": \"2021-09\", \"Analysis Neighborhood\": \"Sunset/Parkside\", \"count\": 1, \"incident_date_2\": \"2021-09\"}, {\"incident_date\": \"2019-03\", \"Analysis Neighborhood\": \"Potrero Hill\", \"count\": 1, \"incident_date_2\": \"2019-03\"}, {\"incident_date\": \"2019-03\", \"Analysis Neighborhood\": \"Presidio Heights\", \"count\": 1, \"incident_date_2\": \"2019-03\"}, {\"incident_date\": \"2019-03\", \"Analysis Neighborhood\": \"Russian Hill\", \"count\": 1, \"incident_date_2\": \"2019-03\"}, {\"incident_date\": \"2022-12\", \"Analysis Neighborhood\": \"Potrero Hill\", \"count\": 1, \"incident_date_2\": \"2022-12\"}, {\"incident_date\": \"2019-03\", \"Analysis Neighborhood\": \"Twin Peaks\", \"count\": 1, \"incident_date_2\": \"2019-03\"}, {\"incident_date\": \"2019-03\", \"Analysis Neighborhood\": \"Visitacion Valley\", \"count\": 1, \"incident_date_2\": \"2019-03\"}, {\"incident_date\": \"2021-09\", \"Analysis Neighborhood\": \"West of Twin Peaks\", \"count\": 1, \"incident_date_2\": \"2021-09\"}, {\"incident_date\": \"2019-03\", \"Analysis Neighborhood\": \"Presidio\", \"count\": 1, \"incident_date_2\": \"2019-03\"}, {\"incident_date\": \"2018-12\", \"Analysis Neighborhood\": \"Excelsior\", \"count\": 1, \"incident_date_2\": \"2018-12\"}, {\"incident_date\": \"2021-06\", \"Analysis Neighborhood\": \"Chinatown\", \"count\": 1, \"incident_date_2\": \"2021-06\"}, {\"incident_date\": \"2019-11\", \"Analysis Neighborhood\": \"Inner Richmond\", \"count\": 1, \"incident_date_2\": \"2019-11\"}, {\"incident_date\": \"2020-09\", \"Analysis Neighborhood\": \"Lone Mountain/USF\", \"count\": 1, \"incident_date_2\": \"2020-09\"}, {\"incident_date\": \"2021-02\", \"Analysis Neighborhood\": \"Haight Ashbury\", \"count\": 1, \"incident_date_2\": \"2021-02\"}, {\"incident_date\": \"2021-02\", \"Analysis Neighborhood\": \"Hayes Valley\", \"count\": 1, \"incident_date_2\": \"2021-02\"}, {\"incident_date\": \"2021-02\", \"Analysis Neighborhood\": \"Inner Richmond\", \"count\": 1, \"incident_date_2\": \"2021-02\"}, {\"incident_date\": \"2020-08\", \"Analysis Neighborhood\": \"Twin Peaks\", \"count\": 1, \"incident_date_2\": \"2020-08\"}, {\"incident_date\": \"2022-10\", \"Analysis Neighborhood\": \"Japantown\", \"count\": 1, \"incident_date_2\": \"2022-10\"}, {\"incident_date\": \"2022-10\", \"Analysis Neighborhood\": \"Marina\", \"count\": 1, \"incident_date_2\": \"2022-10\"}, {\"incident_date\": \"2021-02\", \"Analysis Neighborhood\": \"Noe Valley\", \"count\": 1, \"incident_date_2\": \"2021-02\"}, {\"incident_date\": \"2020-08\", \"Analysis Neighborhood\": \"Outer Mission\", \"count\": 1, \"incident_date_2\": \"2020-08\"}, {\"incident_date\": \"2020-08\", \"Analysis Neighborhood\": \"Noe Valley\", \"count\": 1, \"incident_date_2\": \"2020-08\"}, {\"incident_date\": \"2020-08\", \"Analysis Neighborhood\": \"Nob Hill\", \"count\": 1, \"incident_date_2\": \"2020-08\"}, {\"incident_date\": \"2020-08\", \"Analysis Neighborhood\": \"Mission Bay\", \"count\": 1, \"incident_date_2\": \"2020-08\"}, {\"incident_date\": \"2020-08\", \"Analysis Neighborhood\": \"Marina\", \"count\": 1, \"incident_date_2\": \"2020-08\"}, {\"incident_date\": \"2020-08\", \"Analysis Neighborhood\": \"Lone Mountain/USF\", \"count\": 1, \"incident_date_2\": \"2020-08\"}, {\"incident_date\": \"2020-08\", \"Analysis Neighborhood\": \"Lakeshore\", \"count\": 1, \"incident_date_2\": \"2020-08\"}, {\"incident_date\": \"2020-08\", \"Analysis Neighborhood\": \"Excelsior\", \"count\": 1, \"incident_date_2\": \"2020-08\"}, {\"incident_date\": \"2020-08\", \"Analysis Neighborhood\": \"Bernal Heights\", \"count\": 1, \"incident_date_2\": \"2020-08\"}, {\"incident_date\": \"2020-06\", \"Analysis Neighborhood\": \"North Beach\", \"count\": 1, \"incident_date_2\": \"2020-06\"}, {\"incident_date\": \"2020-06\", \"Analysis Neighborhood\": \"Outer Mission\", \"count\": 1, \"incident_date_2\": \"2020-06\"}, {\"incident_date\": \"2020-07\", \"Analysis Neighborhood\": \"Bayview Hunters Point\", \"count\": 1, \"incident_date_2\": \"2020-07\"}, {\"incident_date\": \"2020-07\", \"Analysis Neighborhood\": \"Chinatown\", \"count\": 1, \"incident_date_2\": \"2020-07\"}, {\"incident_date\": \"2020-07\", \"Analysis Neighborhood\": \"Golden Gate Park\", \"count\": 1, \"incident_date_2\": \"2020-07\"}, {\"incident_date\": \"2020-07\", \"Analysis Neighborhood\": \"Haight Ashbury\", \"count\": 1, \"incident_date_2\": \"2020-07\"}, {\"incident_date\": \"2020-09\", \"Analysis Neighborhood\": \"North Beach\", \"count\": 1, \"incident_date_2\": \"2020-09\"}, {\"incident_date\": \"2022-09\", \"Analysis Neighborhood\": \"North Beach\", \"count\": 1, \"incident_date_2\": \"2022-09\"}, {\"incident_date\": \"2022-09\", \"Analysis Neighborhood\": \"Outer Richmond\", \"count\": 1, \"incident_date_2\": \"2022-09\"}, {\"incident_date\": \"2020-07\", \"Analysis Neighborhood\": \"Noe Valley\", \"count\": 1, \"incident_date_2\": \"2020-07\"}, {\"incident_date\": \"2021-02\", \"Analysis Neighborhood\": \"Russian Hill\", \"count\": 1, \"incident_date_2\": \"2021-02\"}, {\"incident_date\": \"2020-07\", \"Analysis Neighborhood\": \"Presidio Heights\", \"count\": 1, \"incident_date_2\": \"2020-07\"}, {\"incident_date\": \"2020-07\", \"Analysis Neighborhood\": \"Sunset/Parkside\", \"count\": 1, \"incident_date_2\": \"2020-07\"}, {\"incident_date\": \"2021-02\", \"Analysis Neighborhood\": \"Outer Richmond\", \"count\": 1, \"incident_date_2\": \"2021-02\"}, {\"incident_date\": \"2020-07\", \"Analysis Neighborhood\": \"Mission Bay\", \"count\": 1, \"incident_date_2\": \"2020-07\"}, {\"incident_date\": \"2020-09\", \"Analysis Neighborhood\": \"Oceanview/Merced/Ingleside\", \"count\": 1, \"incident_date_2\": \"2020-09\"}, {\"incident_date\": \"2021-02\", \"Analysis Neighborhood\": \"Excelsior\", \"count\": 1, \"incident_date_2\": \"2021-02\"}, {\"incident_date\": \"2020-09\", \"Analysis Neighborhood\": \"Potrero Hill\", \"count\": 1, \"incident_date_2\": \"2020-09\"}, {\"incident_date\": \"2022-09\", \"Analysis Neighborhood\": \"Sunset/Parkside\", \"count\": 1, \"incident_date_2\": \"2022-09\"}, {\"incident_date\": \"2021-01\", \"Analysis Neighborhood\": \"Inner Sunset\", \"count\": 1, \"incident_date_2\": \"2021-01\"}, {\"incident_date\": \"2020-11\", \"Analysis Neighborhood\": \"Portola\", \"count\": 1, \"incident_date_2\": \"2020-11\"}, {\"incident_date\": \"2020-11\", \"Analysis Neighborhood\": \"Potrero Hill\", \"count\": 1, \"incident_date_2\": \"2020-11\"}, {\"incident_date\": \"2020-11\", \"Analysis Neighborhood\": \"Presidio Heights\", \"count\": 1, \"incident_date_2\": \"2020-11\"}, {\"incident_date\": \"2021-01\", \"Analysis Neighborhood\": \"Hayes Valley\", \"count\": 1, \"incident_date_2\": \"2021-01\"}, {\"incident_date\": \"2021-01\", \"Analysis Neighborhood\": \"Mission Bay\", \"count\": 1, \"incident_date_2\": \"2021-01\"}, {\"incident_date\": \"2021-01\", \"Analysis Neighborhood\": \"Golden Gate Park\", \"count\": 1, \"incident_date_2\": \"2021-01\"}, {\"incident_date\": \"2020-12\", \"Analysis Neighborhood\": \"Haight Ashbury\", \"count\": 1, \"incident_date_2\": \"2020-12\"}, {\"incident_date\": \"2020-12\", \"Analysis Neighborhood\": \"Treasure Island\", \"count\": 1, \"incident_date_2\": \"2020-12\"}, {\"incident_date\": \"2020-12\", \"Analysis Neighborhood\": \"Mission Bay\", \"count\": 1, \"incident_date_2\": \"2020-12\"}, {\"incident_date\": \"2020-12\", \"Analysis Neighborhood\": \"North Beach\", \"count\": 1, \"incident_date_2\": \"2020-12\"}, {\"incident_date\": \"2020-12\", \"Analysis Neighborhood\": \"Oceanview/Merced/Ingleside\", \"count\": 1, \"incident_date_2\": \"2020-12\"}, {\"incident_date\": \"2020-12\", \"Analysis Neighborhood\": \"Outer Mission\", \"count\": 1, \"incident_date_2\": \"2020-12\"}, {\"incident_date\": \"2021-01\", \"Analysis Neighborhood\": \"Chinatown\", \"count\": 1, \"incident_date_2\": \"2021-01\"}, {\"incident_date\": \"2020-06\", \"Analysis Neighborhood\": \"Lakeshore\", \"count\": 1, \"incident_date_2\": \"2020-06\"}, {\"incident_date\": \"2020-11\", \"Analysis Neighborhood\": \"Marina\", \"count\": 1, \"incident_date_2\": \"2020-11\"}, {\"incident_date\": \"2020-11\", \"Analysis Neighborhood\": \"Golden Gate Park\", \"count\": 1, \"incident_date_2\": \"2020-11\"}, {\"incident_date\": \"2020-09\", \"Analysis Neighborhood\": \"Russian Hill\", \"count\": 1, \"incident_date_2\": \"2020-09\"}, {\"incident_date\": \"2021-02\", \"Analysis Neighborhood\": \"Bernal Heights\", \"count\": 1, \"incident_date_2\": \"2021-02\"}, {\"incident_date\": \"2020-10\", \"Analysis Neighborhood\": \"Bayview Hunters Point\", \"count\": 1, \"incident_date_2\": \"2020-10\"}, {\"incident_date\": \"2020-10\", \"Analysis Neighborhood\": \"Chinatown\", \"count\": 1, \"incident_date_2\": \"2020-10\"}, {\"incident_date\": \"2020-10\", \"Analysis Neighborhood\": \"Glen Park\", \"count\": 1, \"incident_date_2\": \"2020-10\"}, {\"incident_date\": \"2020-10\", \"Analysis Neighborhood\": \"Haight Ashbury\", \"count\": 1, \"incident_date_2\": \"2020-10\"}, {\"incident_date\": \"2020-11\", \"Analysis Neighborhood\": \"Lone Mountain/USF\", \"count\": 1, \"incident_date_2\": \"2020-11\"}, {\"incident_date\": \"2020-10\", \"Analysis Neighborhood\": \"Hayes Valley\", \"count\": 1, \"incident_date_2\": \"2020-10\"}, {\"incident_date\": \"2020-10\", \"Analysis Neighborhood\": \"Lakeshore\", \"count\": 1, \"incident_date_2\": \"2020-10\"}, {\"incident_date\": \"2021-01\", \"Analysis Neighborhood\": \"Visitacion Valley\", \"count\": 1, \"incident_date_2\": \"2021-01\"}, {\"incident_date\": \"2020-10\", \"Analysis Neighborhood\": \"Pacific Heights\", \"count\": 1, \"incident_date_2\": \"2020-10\"}, {\"incident_date\": \"2020-10\", \"Analysis Neighborhood\": \"Potrero Hill\", \"count\": 1, \"incident_date_2\": \"2020-10\"}, {\"incident_date\": \"2022-09\", \"Analysis Neighborhood\": \"Russian Hill\", \"count\": 1, \"incident_date_2\": \"2022-09\"}, {\"incident_date\": \"2021-01\", \"Analysis Neighborhood\": \"Noe Valley\", \"count\": 1, \"incident_date_2\": \"2021-01\"}, {\"incident_date\": \"2020-10\", \"Analysis Neighborhood\": \"Inner Sunset\", \"count\": 1, \"incident_date_2\": \"2020-10\"}, {\"incident_date\": \"2019-11\", \"Analysis Neighborhood\": \"Hayes Valley\", \"count\": 1, \"incident_date_2\": \"2019-11\"}, {\"incident_date\": \"2021-03\", \"Analysis Neighborhood\": \"Chinatown\", \"count\": 1, \"incident_date_2\": \"2021-03\"}, {\"incident_date\": \"2020-05\", \"Analysis Neighborhood\": \"Outer Richmond\", \"count\": 1, \"incident_date_2\": \"2020-05\"}, {\"incident_date\": \"2020-02\", \"Analysis Neighborhood\": \"Inner Richmond\", \"count\": 1, \"incident_date_2\": \"2020-02\"}, {\"incident_date\": \"2021-04\", \"Analysis Neighborhood\": \"Haight Ashbury\", \"count\": 1, \"incident_date_2\": \"2021-04\"}, {\"incident_date\": \"2021-04\", \"Analysis Neighborhood\": \"Hayes Valley\", \"count\": 1, \"incident_date_2\": \"2021-04\"}, {\"incident_date\": \"2020-01\", \"Analysis Neighborhood\": \"Visitacion Valley\", \"count\": 1, \"incident_date_2\": \"2020-01\"}, {\"incident_date\": \"2022-11\", \"Analysis Neighborhood\": \"Excelsior\", \"count\": 1, \"incident_date_2\": \"2022-11\"}, {\"incident_date\": \"2020-01\", \"Analysis Neighborhood\": \"Pacific Heights\", \"count\": 1, \"incident_date_2\": \"2020-01\"}, {\"incident_date\": \"2020-01\", \"Analysis Neighborhood\": \"Outer Mission\", \"count\": 1, \"incident_date_2\": \"2020-01\"}, {\"incident_date\": \"2021-04\", \"Analysis Neighborhood\": \"Oceanview/Merced/Ingleside\", \"count\": 1, \"incident_date_2\": \"2021-04\"}, {\"incident_date\": \"2020-01\", \"Analysis Neighborhood\": \"Marina\", \"count\": 1, \"incident_date_2\": \"2020-01\"}, {\"incident_date\": \"2020-01\", \"Analysis Neighborhood\": \"Lone Mountain/USF\", \"count\": 1, \"incident_date_2\": \"2020-01\"}, {\"incident_date\": \"2020-01\", \"Analysis Neighborhood\": \"Lakeshore\", \"count\": 1, \"incident_date_2\": \"2020-01\"}, {\"incident_date\": \"2020-01\", \"Analysis Neighborhood\": \"Hayes Valley\", \"count\": 1, \"incident_date_2\": \"2020-01\"}, {\"incident_date\": \"2021-04\", \"Analysis Neighborhood\": \"Russian Hill\", \"count\": 1, \"incident_date_2\": \"2021-04\"}, {\"incident_date\": \"2020-01\", \"Analysis Neighborhood\": \"Excelsior\", \"count\": 1, \"incident_date_2\": \"2020-01\"}, {\"incident_date\": \"2020-01\", \"Analysis Neighborhood\": \"Chinatown\", \"count\": 1, \"incident_date_2\": \"2020-01\"}, {\"incident_date\": \"2021-05\", \"Analysis Neighborhood\": \"Bernal Heights\", \"count\": 1, \"incident_date_2\": \"2021-05\"}, {\"incident_date\": \"2019-12\", \"Analysis Neighborhood\": \"Portola\", \"count\": 1, \"incident_date_2\": \"2019-12\"}, {\"incident_date\": \"2021-05\", \"Analysis Neighborhood\": \"Western Addition\", \"count\": 1, \"incident_date_2\": \"2021-05\"}, {\"incident_date\": \"2021-05\", \"Analysis Neighborhood\": \"Visitacion Valley\", \"count\": 1, \"incident_date_2\": \"2021-05\"}, {\"incident_date\": \"2019-11\", \"Analysis Neighborhood\": \"Noe Valley\", \"count\": 1, \"incident_date_2\": \"2019-11\"}, {\"incident_date\": \"2019-11\", \"Analysis Neighborhood\": \"Outer Richmond\", \"count\": 1, \"incident_date_2\": \"2019-11\"}, {\"incident_date\": \"2019-11\", \"Analysis Neighborhood\": \"Potrero Hill\", \"count\": 1, \"incident_date_2\": \"2019-11\"}, {\"incident_date\": \"2021-05\", \"Analysis Neighborhood\": \"North Beach\", \"count\": 1, \"incident_date_2\": \"2021-05\"}, {\"incident_date\": \"2020-02\", \"Analysis Neighborhood\": \"Pacific Heights\", \"count\": 1, \"incident_date_2\": \"2020-02\"}, {\"incident_date\": \"2019-12\", \"Analysis Neighborhood\": \"Excelsior\", \"count\": 1, \"incident_date_2\": \"2019-12\"}, {\"incident_date\": \"2019-12\", \"Analysis Neighborhood\": \"Glen Park\", \"count\": 1, \"incident_date_2\": \"2019-12\"}, {\"incident_date\": \"2021-05\", \"Analysis Neighborhood\": \"Castro/Upper Market\", \"count\": 1, \"incident_date_2\": \"2021-05\"}, {\"incident_date\": \"2019-12\", \"Analysis Neighborhood\": \"Inner Sunset\", \"count\": 1, \"incident_date_2\": \"2019-12\"}, {\"incident_date\": \"2019-12\", \"Analysis Neighborhood\": \"Mission Bay\", \"count\": 1, \"incident_date_2\": \"2019-12\"}, {\"incident_date\": \"2019-12\", \"Analysis Neighborhood\": \"Outer Mission\", \"count\": 1, \"incident_date_2\": \"2019-12\"}, {\"incident_date\": \"2019-12\", \"Analysis Neighborhood\": \"Pacific Heights\", \"count\": 1, \"incident_date_2\": \"2019-12\"}, {\"incident_date\": \"2021-05\", \"Analysis Neighborhood\": \"Excelsior\", \"count\": 1, \"incident_date_2\": \"2021-05\"}, {\"incident_date\": \"2020-02\", \"Analysis Neighborhood\": \"Portola\", \"count\": 1, \"incident_date_2\": \"2020-02\"}, {\"incident_date\": \"2020-02\", \"Analysis Neighborhood\": \"Russian Hill\", \"count\": 1, \"incident_date_2\": \"2020-02\"}, {\"incident_date\": \"2021-03\", \"Analysis Neighborhood\": \"Western Addition\", \"count\": 1, \"incident_date_2\": \"2021-03\"}, {\"incident_date\": \"2020-04\", \"Analysis Neighborhood\": \"Outer Richmond\", \"count\": 1, \"incident_date_2\": \"2020-04\"}, {\"incident_date\": \"2021-03\", \"Analysis Neighborhood\": \"Marina\", \"count\": 1, \"incident_date_2\": \"2021-03\"}, {\"incident_date\": \"2020-04\", \"Analysis Neighborhood\": \"Sunset/Parkside\", \"count\": 1, \"incident_date_2\": \"2020-04\"}, {\"incident_date\": \"2022-10\", \"Analysis Neighborhood\": \"Russian Hill\", \"count\": 1, \"incident_date_2\": \"2022-10\"}, {\"incident_date\": \"2021-03\", \"Analysis Neighborhood\": \"Lone Mountain/USF\", \"count\": 1, \"incident_date_2\": \"2021-03\"}, {\"incident_date\": \"2020-05\", \"Analysis Neighborhood\": \"Bernal Heights\", \"count\": 1, \"incident_date_2\": \"2020-05\"}, {\"incident_date\": \"2020-04\", \"Analysis Neighborhood\": \"Noe Valley\", \"count\": 1, \"incident_date_2\": \"2020-04\"}, {\"incident_date\": \"2020-05\", \"Analysis Neighborhood\": \"Chinatown\", \"count\": 1, \"incident_date_2\": \"2020-05\"}, {\"incident_date\": \"2020-05\", \"Analysis Neighborhood\": \"Glen Park\", \"count\": 1, \"incident_date_2\": \"2020-05\"}, {\"incident_date\": \"2020-05\", \"Analysis Neighborhood\": \"Haight Ashbury\", \"count\": 1, \"incident_date_2\": \"2020-05\"}, {\"incident_date\": \"2020-05\", \"Analysis Neighborhood\": \"Hayes Valley\", \"count\": 1, \"incident_date_2\": \"2020-05\"}, {\"incident_date\": \"2020-05\", \"Analysis Neighborhood\": \"Inner Sunset\", \"count\": 1, \"incident_date_2\": \"2020-05\"}, {\"incident_date\": \"2020-05\", \"Analysis Neighborhood\": \"Mission Bay\", \"count\": 1, \"incident_date_2\": \"2020-05\"}, {\"incident_date\": \"2021-03\", \"Analysis Neighborhood\": \"Hayes Valley\", \"count\": 1, \"incident_date_2\": \"2021-03\"}, {\"incident_date\": \"2020-05\", \"Analysis Neighborhood\": \"Financial District/South Beach\", \"count\": 1, \"incident_date_2\": \"2020-05\"}, {\"incident_date\": \"2021-03\", \"Analysis Neighborhood\": \"Excelsior\", \"count\": 1, \"incident_date_2\": \"2021-03\"}, {\"incident_date\": \"2020-04\", \"Analysis Neighborhood\": \"Marina\", \"count\": 1, \"incident_date_2\": \"2020-04\"}, {\"incident_date\": \"2021-03\", \"Analysis Neighborhood\": \"Outer Mission\", \"count\": 1, \"incident_date_2\": \"2021-03\"}, {\"incident_date\": \"2022-09\", \"Analysis Neighborhood\": \"Mission Bay\", \"count\": 1, \"incident_date_2\": \"2022-09\"}, {\"incident_date\": \"2020-03\", \"Analysis Neighborhood\": \"Chinatown\", \"count\": 1, \"incident_date_2\": \"2020-03\"}, {\"incident_date\": \"2020-03\", \"Analysis Neighborhood\": \"Excelsior\", \"count\": 1, \"incident_date_2\": \"2020-03\"}, {\"incident_date\": \"2021-03\", \"Analysis Neighborhood\": \"Sunset/Parkside\", \"count\": 1, \"incident_date_2\": \"2021-03\"}, {\"incident_date\": \"2020-03\", \"Analysis Neighborhood\": \"Golden Gate Park\", \"count\": 1, \"incident_date_2\": \"2020-03\"}, {\"incident_date\": \"2020-03\", \"Analysis Neighborhood\": \"Hayes Valley\", \"count\": 1, \"incident_date_2\": \"2020-03\"}, {\"incident_date\": \"2020-04\", \"Analysis Neighborhood\": \"Haight Ashbury\", \"count\": 1, \"incident_date_2\": \"2020-04\"}, {\"incident_date\": \"2020-03\", \"Analysis Neighborhood\": \"Marina\", \"count\": 1, \"incident_date_2\": \"2020-03\"}, {\"incident_date\": \"2021-03\", \"Analysis Neighborhood\": \"Portola\", \"count\": 1, \"incident_date_2\": \"2021-03\"}, {\"incident_date\": \"2020-03\", \"Analysis Neighborhood\": \"Russian Hill\", \"count\": 1, \"incident_date_2\": \"2020-03\"}, {\"incident_date\": \"2020-03\", \"Analysis Neighborhood\": \"Sunset/Parkside\", \"count\": 1, \"incident_date_2\": \"2020-03\"}, {\"incident_date\": \"2022-10\", \"Analysis Neighborhood\": \"West of Twin Peaks\", \"count\": 1, \"incident_date_2\": \"2022-10\"}, {\"incident_date\": \"2021-03\", \"Analysis Neighborhood\": \"Pacific Heights\", \"count\": 1, \"incident_date_2\": \"2021-03\"}, {\"incident_date\": \"2021-03\", \"Analysis Neighborhood\": \"Outer Richmond\", \"count\": 1, \"incident_date_2\": \"2021-03\"}, {\"incident_date\": \"2020-03\", \"Analysis Neighborhood\": \"Outer Richmond\", \"count\": 1, \"incident_date_2\": \"2020-03\"}, {\"incident_date\": \"2018-11\", \"Analysis Neighborhood\": \"West of Twin Peaks\", \"count\": 1, \"incident_date_2\": \"2018-11\"}, {\"incident_date\": \"2020-12\", \"Analysis Neighborhood\": \"Sunset/Parkside\", \"count\": 1, \"incident_date_2\": \"2020-12\"}, {\"incident_date\": \"2023-02\", \"Analysis Neighborhood\": \"Lone Mountain/USF\", \"count\": 1, \"incident_date_2\": \"2023-02\"}, {\"incident_date\": \"2022-01\", \"Analysis Neighborhood\": \"Outer Mission\", \"count\": 1, \"incident_date_2\": \"2022-01\"}, {\"incident_date\": \"2018-03\", \"Analysis Neighborhood\": \"Inner Sunset\", \"count\": 1, \"incident_date_2\": \"2018-03\"}, {\"incident_date\": \"2022-04\", \"Analysis Neighborhood\": \"Hayes Valley\", \"count\": 1, \"incident_date_2\": \"2022-04\"}, {\"incident_date\": \"2022-03\", \"Analysis Neighborhood\": \"Inner Sunset\", \"count\": 1, \"incident_date_2\": \"2022-03\"}, {\"incident_date\": \"2018-05\", \"Analysis Neighborhood\": \"Outer Mission\", \"count\": 1, \"incident_date_2\": \"2018-05\"}, {\"incident_date\": \"2022-03\", \"Analysis Neighborhood\": \"Hayes Valley\", \"count\": 1, \"incident_date_2\": \"2022-03\"}, {\"incident_date\": \"2022-07\", \"Analysis Neighborhood\": \"Visitacion Valley\", \"count\": 1, \"incident_date_2\": \"2022-07\"}, {\"incident_date\": \"2018-07\", \"Analysis Neighborhood\": \"Portola\", \"count\": 1, \"incident_date_2\": \"2018-07\"}, {\"incident_date\": \"2018-07\", \"Analysis Neighborhood\": \"Potrero Hill\", \"count\": 1, \"incident_date_2\": \"2018-07\"}, {\"incident_date\": \"2018-07\", \"Analysis Neighborhood\": \"Presidio Heights\", \"count\": 1, \"incident_date_2\": \"2018-07\"}, {\"incident_date\": \"2022-02\", \"Analysis Neighborhood\": \"Bernal Heights\", \"count\": 1, \"incident_date_2\": \"2022-02\"}, {\"incident_date\": \"2023-02\", \"Analysis Neighborhood\": \"Haight Ashbury\", \"count\": 1, \"incident_date_2\": \"2023-02\"}, {\"incident_date\": \"2022-03\", \"Analysis Neighborhood\": \"Bernal Heights\", \"count\": 1, \"incident_date_2\": \"2022-03\"}, {\"incident_date\": \"2022-02\", \"Analysis Neighborhood\": \"Castro/Upper Market\", \"count\": 1, \"incident_date_2\": \"2022-02\"}, {\"incident_date\": \"2022-08\", \"Analysis Neighborhood\": \"Hayes Valley\", \"count\": 1, \"incident_date_2\": \"2022-08\"}, {\"incident_date\": \"2018-03\", \"Analysis Neighborhood\": \"Glen Park\", \"count\": 1, \"incident_date_2\": \"2018-03\"}, {\"incident_date\": \"2018-07\", \"Analysis Neighborhood\": \"Oceanview/Merced/Ingleside\", \"count\": 1, \"incident_date_2\": \"2018-07\"}, {\"incident_date\": \"2022-05\", \"Analysis Neighborhood\": \"Treasure Island\", \"count\": 1, \"incident_date_2\": \"2022-05\"}, {\"incident_date\": \"2018-02\", \"Analysis Neighborhood\": \"Nob Hill\", \"count\": 1, \"incident_date_2\": \"2018-02\"}, {\"incident_date\": \"2022-01\", \"Analysis Neighborhood\": \"Hayes Valley\", \"count\": 1, \"incident_date_2\": \"2022-01\"}, {\"incident_date\": \"2022-04\", \"Analysis Neighborhood\": \"Excelsior\", \"count\": 1, \"incident_date_2\": \"2022-04\"}, {\"incident_date\": \"2022-01\", \"Analysis Neighborhood\": \"Mission Bay\", \"count\": 1, \"incident_date_2\": \"2022-01\"}, {\"incident_date\": \"2018-02\", \"Analysis Neighborhood\": \"Portola\", \"count\": 1, \"incident_date_2\": \"2018-02\"}, {\"incident_date\": \"2018-02\", \"Analysis Neighborhood\": \"Potrero Hill\", \"count\": 1, \"incident_date_2\": \"2018-02\"}, {\"incident_date\": \"2018-02\", \"Analysis Neighborhood\": \"Russian Hill\", \"count\": 1, \"incident_date_2\": \"2018-02\"}, {\"incident_date\": \"2022-06\", \"Analysis Neighborhood\": \"Hayes Valley\", \"count\": 1, \"incident_date_2\": \"2022-06\"}, {\"incident_date\": \"2023-03\", \"Analysis Neighborhood\": \"Bayview Hunters Point\", \"count\": 1, \"incident_date_2\": \"2023-03\"}, {\"incident_date\": \"2022-06\", \"Analysis Neighborhood\": \"Castro/Upper Market\", \"count\": 1, \"incident_date_2\": \"2022-06\"}, {\"incident_date\": \"2022-06\", \"Analysis Neighborhood\": \"Bernal Heights\", \"count\": 1, \"incident_date_2\": \"2022-06\"}, {\"incident_date\": \"2023-02\", \"Analysis Neighborhood\": \"Nob Hill\", \"count\": 1, \"incident_date_2\": \"2023-02\"}, {\"incident_date\": \"2023-01\", \"Analysis Neighborhood\": \"West of Twin Peaks\", \"count\": 1, \"incident_date_2\": \"2023-01\"}, {\"incident_date\": \"2018-10\", \"Analysis Neighborhood\": \"Inner Sunset\", \"count\": 1, \"incident_date_2\": \"2018-10\"}, {\"incident_date\": \"2018-05\", \"Analysis Neighborhood\": \"Russian Hill\", \"count\": 1, \"incident_date_2\": \"2018-05\"}, {\"incident_date\": \"2018-09\", \"Analysis Neighborhood\": \"Russian Hill\", \"count\": 1, \"incident_date_2\": \"2018-09\"}, {\"incident_date\": \"2018-03\", \"Analysis Neighborhood\": \"Pacific Heights\", \"count\": 1, \"incident_date_2\": \"2018-03\"}, {\"incident_date\": \"2018-05\", \"Analysis Neighborhood\": \"Nob Hill\", \"count\": 1, \"incident_date_2\": \"2018-05\"}, {\"incident_date\": \"2018-03\", \"Analysis Neighborhood\": \"Presidio Heights\", \"count\": 1, \"incident_date_2\": \"2018-03\"}, {\"incident_date\": \"2022-02\", \"Analysis Neighborhood\": \"Pacific Heights\", \"count\": 1, \"incident_date_2\": \"2022-02\"}, {\"incident_date\": \"2022-04\", \"Analysis Neighborhood\": \"Outer Mission\", \"count\": 1, \"incident_date_2\": \"2022-04\"}, {\"incident_date\": \"2018-04\", \"Analysis Neighborhood\": \"Marina\", \"count\": 1, \"incident_date_2\": \"2018-04\"}, {\"incident_date\": \"2022-02\", \"Analysis Neighborhood\": \"North Beach\", \"count\": 1, \"incident_date_2\": \"2022-02\"}, {\"incident_date\": \"2022-05\", \"Analysis Neighborhood\": \"Glen Park\", \"count\": 1, \"incident_date_2\": \"2022-05\"}, {\"incident_date\": \"2018-04\", \"Analysis Neighborhood\": \"Oceanview/Merced/Ingleside\", \"count\": 1, \"incident_date_2\": \"2018-04\"}, {\"incident_date\": \"2018-08\", \"Analysis Neighborhood\": \"Treasure Island\", \"count\": 1, \"incident_date_2\": \"2018-08\"}, {\"incident_date\": \"2018-04\", \"Analysis Neighborhood\": \"Pacific Heights\", \"count\": 1, \"incident_date_2\": \"2018-04\"}, {\"incident_date\": \"2022-05\", \"Analysis Neighborhood\": \"Chinatown\", \"count\": 1, \"incident_date_2\": \"2022-05\"}, {\"incident_date\": \"2023-02\", \"Analysis Neighborhood\": \"Chinatown\", \"count\": 1, \"incident_date_2\": \"2023-02\"}, {\"incident_date\": \"2022-02\", \"Analysis Neighborhood\": \"Oceanview/Merced/Ingleside\", \"count\": 1, \"incident_date_2\": \"2022-02\"}, {\"incident_date\": \"2018-04\", \"Analysis Neighborhood\": \"Presidio Heights\", \"count\": 1, \"incident_date_2\": \"2018-04\"}, {\"incident_date\": \"2018-08\", \"Analysis Neighborhood\": \"Potrero Hill\", \"count\": 1, \"incident_date_2\": \"2018-08\"}, {\"incident_date\": \"2018-08\", \"Analysis Neighborhood\": \"Nob Hill\", \"count\": 1, \"incident_date_2\": \"2018-08\"}, {\"incident_date\": \"2022-05\", \"Analysis Neighborhood\": \"Bernal Heights\", \"count\": 1, \"incident_date_2\": \"2022-05\"}, {\"incident_date\": \"2018-05\", \"Analysis Neighborhood\": \"Bernal Heights\", \"count\": 1, \"incident_date_2\": \"2018-05\"}, {\"incident_date\": \"2018-07\", \"Analysis Neighborhood\": \"North Beach\", \"count\": 1, \"incident_date_2\": \"2018-07\"}, {\"incident_date\": \"2022-05\", \"Analysis Neighborhood\": \"Lone Mountain/USF\", \"count\": 1, \"incident_date_2\": \"2022-05\"}, {\"incident_date\": \"2022-07\", \"Analysis Neighborhood\": \"West of Twin Peaks\", \"count\": 1, \"incident_date_2\": \"2022-07\"}, {\"incident_date\": \"2018-07\", \"Analysis Neighborhood\": \"Visitacion Valley\", \"count\": 1, \"incident_date_2\": \"2018-07\"}, {\"incident_date\": \"2022-05\", \"Analysis Neighborhood\": \"Pacific Heights\", \"count\": 1, \"incident_date_2\": \"2022-05\"}, {\"incident_date\": \"2023-02\", \"Analysis Neighborhood\": \"Noe Valley\", \"count\": 1, \"incident_date_2\": \"2023-02\"}, {\"incident_date\": \"2018-03\", \"Analysis Neighborhood\": \"Twin Peaks\", \"count\": 1, \"incident_date_2\": \"2018-03\"}, {\"incident_date\": \"2018-03\", \"Analysis Neighborhood\": \"Visitacion Valley\", \"count\": 1, \"incident_date_2\": \"2018-03\"}, {\"incident_date\": \"2018-09\", \"Analysis Neighborhood\": \"Marina\", \"count\": 1, \"incident_date_2\": \"2018-09\"}, {\"incident_date\": \"2022-02\", \"Analysis Neighborhood\": \"West of Twin Peaks\", \"count\": 1, \"incident_date_2\": \"2022-02\"}, {\"incident_date\": \"2022-04\", \"Analysis Neighborhood\": \"Marina\", \"count\": 1, \"incident_date_2\": \"2022-04\"}, {\"incident_date\": \"2018-09\", \"Analysis Neighborhood\": \"Haight Ashbury\", \"count\": 1, \"incident_date_2\": \"2018-09\"}, {\"incident_date\": \"2018-09\", \"Analysis Neighborhood\": \"Golden Gate Park\", \"count\": 1, \"incident_date_2\": \"2018-09\"}, {\"incident_date\": \"2018-05\", \"Analysis Neighborhood\": \"Inner Richmond\", \"count\": 1, \"incident_date_2\": \"2018-05\"}, {\"incident_date\": \"2022-08\", \"Analysis Neighborhood\": \"Golden Gate Park\", \"count\": 1, \"incident_date_2\": \"2022-08\"}, {\"incident_date\": \"2018-09\", \"Analysis Neighborhood\": \"Glen Park\", \"count\": 1, \"incident_date_2\": \"2018-09\"}, {\"incident_date\": \"2022-02\", \"Analysis Neighborhood\": \"Haight Ashbury\", \"count\": 1, \"incident_date_2\": \"2022-02\"}, {\"incident_date\": \"2022-02\", \"Analysis Neighborhood\": \"Inner Richmond\", \"count\": 1, \"incident_date_2\": \"2022-02\"}, {\"incident_date\": \"2022-08\", \"Analysis Neighborhood\": \"Haight Ashbury\", \"count\": 1, \"incident_date_2\": \"2022-08\"}, {\"incident_date\": \"2018-02\", \"Analysis Neighborhood\": \"Mission Bay\", \"count\": 1, \"incident_date_2\": \"2018-02\"}, {\"incident_date\": \"2022-04\", \"Analysis Neighborhood\": \"Sunset/Parkside\", \"count\": 1, \"incident_date_2\": \"2022-04\"}, {\"incident_date\": \"2018-02\", \"Analysis Neighborhood\": \"Marina\", \"count\": 1, \"incident_date_2\": \"2018-02\"}, {\"incident_date\": \"2021-12\", \"Analysis Neighborhood\": \"Western Addition\", \"count\": 1, \"incident_date_2\": \"2021-12\"}, {\"incident_date\": \"2022-03\", \"Analysis Neighborhood\": \"Russian Hill\", \"count\": 1, \"incident_date_2\": \"2022-03\"}, {\"incident_date\": \"2018-01\", \"Analysis Neighborhood\": \"Lakeshore\", \"count\": 1, \"incident_date_2\": \"2018-01\"}, {\"incident_date\": \"2021-12\", \"Analysis Neighborhood\": \"Visitacion Valley\", \"count\": 1, \"incident_date_2\": \"2021-12\"}, {\"incident_date\": \"2021-12\", \"Analysis Neighborhood\": \"Marina\", \"count\": 1, \"incident_date_2\": \"2021-12\"}, {\"incident_date\": \"2018-06\", \"Analysis Neighborhood\": \"Portola\", \"count\": 1, \"incident_date_2\": \"2018-06\"}, {\"incident_date\": \"2018-01\", \"Analysis Neighborhood\": \"Lone Mountain/USF\", \"count\": 1, \"incident_date_2\": \"2018-01\"}, {\"incident_date\": \"2022-06\", \"Analysis Neighborhood\": \"Russian Hill\", \"count\": 1, \"incident_date_2\": \"2022-06\"}, {\"incident_date\": \"2018-06\", \"Analysis Neighborhood\": \"Marina\", \"count\": 1, \"incident_date_2\": \"2018-06\"}, {\"incident_date\": \"2018-11\", \"Analysis Neighborhood\": \"Excelsior\", \"count\": 1, \"incident_date_2\": \"2018-11\"}, {\"incident_date\": \"2022-03\", \"Analysis Neighborhood\": \"Mission Bay\", \"count\": 1, \"incident_date_2\": \"2022-03\"}, {\"incident_date\": \"2018-11\", \"Analysis Neighborhood\": \"Glen Park\", \"count\": 1, \"incident_date_2\": \"2018-11\"}, {\"incident_date\": \"2023-03\", \"Analysis Neighborhood\": \"Glen Park\", \"count\": 1, \"incident_date_2\": \"2023-03\"}, {\"incident_date\": \"2023-03\", \"Analysis Neighborhood\": \"Outer Richmond\", \"count\": 1, \"incident_date_2\": \"2023-03\"}, {\"incident_date\": \"2021-12\", \"Analysis Neighborhood\": \"Pacific Heights\", \"count\": 1, \"incident_date_2\": \"2021-12\"}, {\"incident_date\": \"2021-12\", \"Analysis Neighborhood\": \"Outer Mission\", \"count\": 1, \"incident_date_2\": \"2021-12\"}, {\"incident_date\": \"2018-11\", \"Analysis Neighborhood\": \"Hayes Valley\", \"count\": 1, \"incident_date_2\": \"2018-11\"}, {\"incident_date\": \"2018-11\", \"Analysis Neighborhood\": \"Inner Sunset\", \"count\": 1, \"incident_date_2\": \"2018-11\"}, {\"incident_date\": \"2021-12\", \"Analysis Neighborhood\": \"Nob Hill\", \"count\": 1, \"incident_date_2\": \"2021-12\"}, {\"incident_date\": \"2022-07\", \"Analysis Neighborhood\": \"North Beach\", \"count\": 1, \"incident_date_2\": \"2022-07\"}, {\"incident_date\": \"2018-01\", \"Analysis Neighborhood\": \"North Beach\", \"count\": 1, \"incident_date_2\": \"2018-01\"}, {\"incident_date\": \"2018-11\", \"Analysis Neighborhood\": \"Lone Mountain/USF\", \"count\": 1, \"incident_date_2\": \"2018-11\"}, {\"incident_date\": \"2023-02\", \"Analysis Neighborhood\": \"Japantown\", \"count\": 1, \"incident_date_2\": \"2023-02\"}, {\"incident_date\": \"2022-08\", \"Analysis Neighborhood\": \"Chinatown\", \"count\": 1, \"incident_date_2\": \"2022-08\"}, {\"incident_date\": \"2022-01\", \"Analysis Neighborhood\": \"Bernal Heights\", \"count\": 1, \"incident_date_2\": \"2022-01\"}, {\"incident_date\": \"2018-07\", \"Analysis Neighborhood\": \"Inner Sunset\", \"count\": 1, \"incident_date_2\": \"2018-07\"}, {\"incident_date\": \"2018-01\", \"Analysis Neighborhood\": \"Twin Peaks\", \"count\": 1, \"incident_date_2\": \"2018-01\"}, {\"incident_date\": \"2023-02\", \"Analysis Neighborhood\": \"Lakeshore\", \"count\": 1, \"incident_date_2\": \"2023-02\"}, {\"incident_date\": \"2018-02\", \"Analysis Neighborhood\": \"Inner Sunset\", \"count\": 1, \"incident_date_2\": \"2018-02\"}, {\"incident_date\": \"2022-07\", \"Analysis Neighborhood\": \"Lone Mountain/USF\", \"count\": 1, \"incident_date_2\": \"2022-07\"}, {\"incident_date\": \"2023-01\", \"Analysis Neighborhood\": \"Outer Richmond\", \"count\": 1, \"incident_date_2\": \"2023-01\"}, {\"incident_date\": \"2018-02\", \"Analysis Neighborhood\": \"Hayes Valley\", \"count\": 1, \"incident_date_2\": \"2018-02\"}, {\"incident_date\": \"2018-02\", \"Analysis Neighborhood\": \"Haight Ashbury\", \"count\": 1, \"incident_date_2\": \"2018-02\"}, {\"incident_date\": \"2022-07\", \"Analysis Neighborhood\": \"Outer Richmond\", \"count\": 1, \"incident_date_2\": \"2022-07\"}, {\"incident_date\": \"2018-10\", \"Analysis Neighborhood\": \"Twin Peaks\", \"count\": 1, \"incident_date_2\": \"2018-10\"}, {\"incident_date\": \"2022-06\", \"Analysis Neighborhood\": \"Nob Hill\", \"count\": 1, \"incident_date_2\": \"2022-06\"}, {\"incident_date\": \"2021-12\", \"Analysis Neighborhood\": \"Lakeshore\", \"count\": 1, \"incident_date_2\": \"2021-12\"}, {\"incident_date\": \"2022-06\", \"Analysis Neighborhood\": \"North Beach\", \"count\": 1, \"incident_date_2\": \"2022-06\"}, {\"incident_date\": \"2023-01\", \"Analysis Neighborhood\": \"Noe Valley\", \"count\": 1, \"incident_date_2\": \"2023-01\"}, {\"incident_date\": \"2022-07\", \"Analysis Neighborhood\": \"Castro/Upper Market\", \"count\": 1, \"incident_date_2\": \"2022-07\"}, {\"incident_date\": \"2022-07\", \"Analysis Neighborhood\": \"Hayes Valley\", \"count\": 1, \"incident_date_2\": \"2022-07\"}, {\"incident_date\": \"2021-12\", \"Analysis Neighborhood\": \"Noe Valley\", \"count\": 1, \"incident_date_2\": \"2021-12\"}, {\"incident_date\": \"2018-02\", \"Analysis Neighborhood\": \"Bernal Heights\", \"count\": 1, \"incident_date_2\": \"2018-02\"}, {\"incident_date\": \"2022-04\", \"Analysis Neighborhood\": \"Bernal Heights\", \"count\": 1, \"incident_date_2\": \"2022-04\"}, {\"incident_date\": \"2023-01\", \"Analysis Neighborhood\": \"North Beach\", \"count\": 1, \"incident_date_2\": \"2023-01\"}, {\"incident_date\": \"2022-03\", \"Analysis Neighborhood\": \"Japantown\", \"count\": 1, \"incident_date_2\": \"2022-03\"}, {\"incident_date\": \"2018-11\", \"Analysis Neighborhood\": \"Russian Hill\", \"count\": 1, \"incident_date_2\": \"2018-11\"}, {\"incident_date\": \"2018-06\", \"Analysis Neighborhood\": \"Excelsior\", \"count\": 1, \"incident_date_2\": \"2018-06\"}, {\"incident_date\": \"2019-10\", \"Analysis Neighborhood\": \"Japantown\", \"count\": 2, \"incident_date_2\": \"2019-10\"}, {\"incident_date\": \"2020-02\", \"Analysis Neighborhood\": \"Outer Mission\", \"count\": 2, \"incident_date_2\": \"2020-02\"}, {\"incident_date\": \"2018-06\", \"Analysis Neighborhood\": \"Outer Mission\", \"count\": 2, \"incident_date_2\": \"2018-06\"}, {\"incident_date\": \"2022-11\", \"Analysis Neighborhood\": \"Castro/Upper Market\", \"count\": 2, \"incident_date_2\": \"2022-11\"}, {\"incident_date\": \"2020-01\", \"Analysis Neighborhood\": \"Sunset/Parkside\", \"count\": 2, \"incident_date_2\": \"2020-01\"}, {\"incident_date\": \"2019-10\", \"Analysis Neighborhood\": \"Inner Richmond\", \"count\": 2, \"incident_date_2\": \"2019-10\"}, {\"incident_date\": \"2018-05\", \"Analysis Neighborhood\": \"Chinatown\", \"count\": 2, \"incident_date_2\": \"2018-05\"}, {\"incident_date\": \"2022-04\", \"Analysis Neighborhood\": \"Noe Valley\", \"count\": 2, \"incident_date_2\": \"2022-04\"}, {\"incident_date\": \"2019-10\", \"Analysis Neighborhood\": \"North Beach\", \"count\": 2, \"incident_date_2\": \"2019-10\"}, {\"incident_date\": \"2020-02\", \"Analysis Neighborhood\": \"Chinatown\", \"count\": 2, \"incident_date_2\": \"2020-02\"}, {\"incident_date\": \"2021-04\", \"Analysis Neighborhood\": \"Pacific Heights\", \"count\": 2, \"incident_date_2\": \"2021-04\"}, {\"incident_date\": \"2019-10\", \"Analysis Neighborhood\": \"Marina\", \"count\": 2, \"incident_date_2\": \"2019-10\"}, {\"incident_date\": \"2022-11\", \"Analysis Neighborhood\": \"Potrero Hill\", \"count\": 2, \"incident_date_2\": \"2022-11\"}, {\"incident_date\": \"2021-04\", \"Analysis Neighborhood\": \"Castro/Upper Market\", \"count\": 2, \"incident_date_2\": \"2021-04\"}, {\"incident_date\": \"2020-01\", \"Analysis Neighborhood\": \"West of Twin Peaks\", \"count\": 2, \"incident_date_2\": \"2020-01\"}, {\"incident_date\": \"2020-02\", \"Analysis Neighborhood\": \"Bernal Heights\", \"count\": 2, \"incident_date_2\": \"2020-02\"}, {\"incident_date\": \"2020-02\", \"Analysis Neighborhood\": \"Castro/Upper Market\", \"count\": 2, \"incident_date_2\": \"2020-02\"}, {\"incident_date\": \"2022-04\", \"Analysis Neighborhood\": \"Potrero Hill\", \"count\": 2, \"incident_date_2\": \"2022-04\"}, {\"incident_date\": \"2020-02\", \"Analysis Neighborhood\": \"Lone Mountain/USF\", \"count\": 2, \"incident_date_2\": \"2020-02\"}, {\"incident_date\": \"2023-02\", \"Analysis Neighborhood\": \"Marina\", \"count\": 2, \"incident_date_2\": \"2023-02\"}, {\"incident_date\": \"2018-06\", \"Analysis Neighborhood\": \"Noe Valley\", \"count\": 2, \"incident_date_2\": \"2018-06\"}, {\"incident_date\": \"2021-05\", \"Analysis Neighborhood\": \"Outer Richmond\", \"count\": 2, \"incident_date_2\": \"2021-05\"}, {\"incident_date\": \"2022-11\", \"Analysis Neighborhood\": \"Oceanview/Merced/Ingleside\", \"count\": 2, \"incident_date_2\": \"2022-11\"}, {\"incident_date\": \"2021-05\", \"Analysis Neighborhood\": \"Lakeshore\", \"count\": 2, \"incident_date_2\": \"2021-05\"}, {\"incident_date\": \"2021-05\", \"Analysis Neighborhood\": \"Pacific Heights\", \"count\": 2, \"incident_date_2\": \"2021-05\"}, {\"incident_date\": \"2022-09\", \"Analysis Neighborhood\": \"Hayes Valley\", \"count\": 2, \"incident_date_2\": \"2022-09\"}, {\"incident_date\": \"2022-08\", \"Analysis Neighborhood\": \"Bayview Hunters Point\", \"count\": 2, \"incident_date_2\": \"2022-08\"}, {\"incident_date\": \"2023-02\", \"Analysis Neighborhood\": \"Mission Bay\", \"count\": 2, \"incident_date_2\": \"2023-02\"}, {\"incident_date\": \"2019-12\", \"Analysis Neighborhood\": \"Golden Gate Park\", \"count\": 2, \"incident_date_2\": \"2019-12\"}, {\"incident_date\": \"2019-11\", \"Analysis Neighborhood\": \"North Beach\", \"count\": 2, \"incident_date_2\": \"2019-11\"}, {\"incident_date\": \"2018-05\", \"Analysis Neighborhood\": \"Presidio Heights\", \"count\": 2, \"incident_date_2\": \"2018-05\"}, {\"incident_date\": \"2022-11\", \"Analysis Neighborhood\": \"Outer Mission\", \"count\": 2, \"incident_date_2\": \"2022-11\"}, {\"incident_date\": \"2022-11\", \"Analysis Neighborhood\": \"Mission Bay\", \"count\": 2, \"incident_date_2\": \"2022-11\"}, {\"incident_date\": \"2019-11\", \"Analysis Neighborhood\": \"Lakeshore\", \"count\": 2, \"incident_date_2\": \"2019-11\"}, {\"incident_date\": \"2018-05\", \"Analysis Neighborhood\": \"Potrero Hill\", \"count\": 2, \"incident_date_2\": \"2018-05\"}, {\"incident_date\": \"2018-05\", \"Analysis Neighborhood\": \"Outer Richmond\", \"count\": 2, \"incident_date_2\": \"2018-05\"}, {\"incident_date\": \"2022-11\", \"Analysis Neighborhood\": \"Marina\", \"count\": 2, \"incident_date_2\": \"2022-11\"}, {\"incident_date\": \"2021-06\", \"Analysis Neighborhood\": \"Castro/Upper Market\", \"count\": 2, \"incident_date_2\": \"2021-06\"}, {\"incident_date\": \"2021-04\", \"Analysis Neighborhood\": \"Potrero Hill\", \"count\": 2, \"incident_date_2\": \"2021-04\"}, {\"incident_date\": \"2022-11\", \"Analysis Neighborhood\": \"Pacific Heights\", \"count\": 2, \"incident_date_2\": \"2022-11\"}, {\"incident_date\": \"2018-06\", \"Analysis Neighborhood\": \"Nob Hill\", \"count\": 2, \"incident_date_2\": \"2018-06\"}, {\"incident_date\": \"2018-06\", \"Analysis Neighborhood\": \"Mission Bay\", \"count\": 2, \"incident_date_2\": \"2018-06\"}, {\"incident_date\": \"2022-09\", \"Analysis Neighborhood\": \"Lone Mountain/USF\", \"count\": 2, \"incident_date_2\": \"2022-09\"}, {\"incident_date\": \"2021-04\", \"Analysis Neighborhood\": \"Western Addition\", \"count\": 2, \"incident_date_2\": \"2021-04\"}, {\"incident_date\": \"2018-06\", \"Analysis Neighborhood\": \"North Beach\", \"count\": 2, \"incident_date_2\": \"2018-06\"}, {\"incident_date\": \"2021-06\", \"Analysis Neighborhood\": \"Hayes Valley\", \"count\": 2, \"incident_date_2\": \"2021-06\"}, {\"incident_date\": \"2018-06\", \"Analysis Neighborhood\": \"Lakeshore\", \"count\": 2, \"incident_date_2\": \"2018-06\"}, {\"incident_date\": \"2019-12\", \"Analysis Neighborhood\": \"Twin Peaks\", \"count\": 2, \"incident_date_2\": \"2019-12\"}, {\"incident_date\": \"2021-06\", \"Analysis Neighborhood\": \"Haight Ashbury\", \"count\": 2, \"incident_date_2\": \"2021-06\"}, {\"incident_date\": \"2022-11\", \"Analysis Neighborhood\": \"Japantown\", \"count\": 2, \"incident_date_2\": \"2022-11\"}, {\"incident_date\": \"2018-11\", \"Analysis Neighborhood\": \"Visitacion Valley\", \"count\": 2, \"incident_date_2\": \"2018-11\"}, {\"incident_date\": \"2019-12\", \"Analysis Neighborhood\": \"Sunset/Parkside\", \"count\": 2, \"incident_date_2\": \"2019-12\"}, {\"incident_date\": \"2020-01\", \"Analysis Neighborhood\": \"Bernal Heights\", \"count\": 2, \"incident_date_2\": \"2020-01\"}, {\"incident_date\": \"2018-05\", \"Analysis Neighborhood\": \"Visitacion Valley\", \"count\": 2, \"incident_date_2\": \"2018-05\"}, {\"incident_date\": \"2018-06\", \"Analysis Neighborhood\": \"Hayes Valley\", \"count\": 2, \"incident_date_2\": \"2018-06\"}, {\"incident_date\": \"2022-11\", \"Analysis Neighborhood\": \"Bernal Heights\", \"count\": 2, \"incident_date_2\": \"2022-11\"}, {\"incident_date\": \"2022-09\", \"Analysis Neighborhood\": \"Potrero Hill\", \"count\": 2, \"incident_date_2\": \"2022-09\"}, {\"incident_date\": \"2022-06\", \"Analysis Neighborhood\": \"Potrero Hill\", \"count\": 2, \"incident_date_2\": \"2022-06\"}, {\"incident_date\": \"2020-10\", \"Analysis Neighborhood\": \"Marina\", \"count\": 2, \"incident_date_2\": \"2020-10\"}, {\"incident_date\": \"2022-06\", \"Analysis Neighborhood\": \"Outer Richmond\", \"count\": 2, \"incident_date_2\": \"2022-06\"}, {\"incident_date\": \"2018-01\", \"Analysis Neighborhood\": \"Western Addition\", \"count\": 2, \"incident_date_2\": \"2018-01\"}, {\"incident_date\": \"2018-02\", \"Analysis Neighborhood\": \"Bayview Hunters Point\", \"count\": 2, \"incident_date_2\": \"2018-02\"}, {\"incident_date\": \"2020-10\", \"Analysis Neighborhood\": \"Financial District/South Beach\", \"count\": 2, \"incident_date_2\": \"2020-10\"}, {\"incident_date\": \"2022-10\", \"Analysis Neighborhood\": \"Castro/Upper Market\", \"count\": 2, \"incident_date_2\": \"2022-10\"}, {\"incident_date\": \"2022-10\", \"Analysis Neighborhood\": \"Hayes Valley\", \"count\": 2, \"incident_date_2\": \"2022-10\"}, {\"incident_date\": \"2020-09\", \"Analysis Neighborhood\": \"Marina\", \"count\": 2, \"incident_date_2\": \"2020-09\"}, {\"incident_date\": \"2021-02\", \"Analysis Neighborhood\": \"Glen Park\", \"count\": 2, \"incident_date_2\": \"2021-02\"}, {\"incident_date\": \"2020-09\", \"Analysis Neighborhood\": \"Excelsior\", \"count\": 2, \"incident_date_2\": \"2020-09\"}, {\"incident_date\": \"2021-02\", \"Analysis Neighborhood\": \"Mission Bay\", \"count\": 2, \"incident_date_2\": \"2021-02\"}, {\"incident_date\": \"2022-06\", \"Analysis Neighborhood\": \"Lone Mountain/USF\", \"count\": 2, \"incident_date_2\": \"2022-06\"}, {\"incident_date\": \"2020-08\", \"Analysis Neighborhood\": \"Sunset/Parkside\", \"count\": 2, \"incident_date_2\": \"2020-08\"}, {\"incident_date\": \"2021-02\", \"Analysis Neighborhood\": \"North Beach\", \"count\": 2, \"incident_date_2\": \"2021-02\"}, {\"incident_date\": \"2020-08\", \"Analysis Neighborhood\": \"Financial District/South Beach\", \"count\": 2, \"incident_date_2\": \"2020-08\"}, {\"incident_date\": \"2018-03\", \"Analysis Neighborhood\": \"Bernal Heights\", \"count\": 2, \"incident_date_2\": \"2018-03\"}, {\"incident_date\": \"2022-05\", \"Analysis Neighborhood\": \"Twin Peaks\", \"count\": 2, \"incident_date_2\": \"2022-05\"}, {\"incident_date\": \"2020-10\", \"Analysis Neighborhood\": \"North Beach\", \"count\": 2, \"incident_date_2\": \"2020-10\"}, {\"incident_date\": \"2022-10\", \"Analysis Neighborhood\": \"Nob Hill\", \"count\": 2, \"incident_date_2\": \"2022-10\"}, {\"incident_date\": \"2020-10\", \"Analysis Neighborhood\": \"Oceanview/Merced/Ingleside\", \"count\": 2, \"incident_date_2\": \"2020-10\"}, {\"incident_date\": \"2021-01\", \"Analysis Neighborhood\": \"Sunset/Parkside\", \"count\": 2, \"incident_date_2\": \"2021-01\"}, {\"incident_date\": \"2020-12\", \"Analysis Neighborhood\": \"Pacific Heights\", \"count\": 2, \"incident_date_2\": \"2020-12\"}, {\"incident_date\": \"2020-12\", \"Analysis Neighborhood\": \"Outer Richmond\", \"count\": 2, \"incident_date_2\": \"2020-12\"}, {\"incident_date\": \"2020-12\", \"Analysis Neighborhood\": \"Castro/Upper Market\", \"count\": 2, \"incident_date_2\": \"2020-12\"}, {\"incident_date\": \"2018-01\", \"Analysis Neighborhood\": \"Inner Sunset\", \"count\": 2, \"incident_date_2\": \"2018-01\"}, {\"incident_date\": \"2022-06\", \"Analysis Neighborhood\": \"West of Twin Peaks\", \"count\": 2, \"incident_date_2\": \"2022-06\"}, {\"incident_date\": \"2020-11\", \"Analysis Neighborhood\": \"Russian Hill\", \"count\": 2, \"incident_date_2\": \"2020-11\"}, {\"incident_date\": \"2018-01\", \"Analysis Neighborhood\": \"Lincoln Park\", \"count\": 2, \"incident_date_2\": \"2018-01\"}, {\"incident_date\": \"2021-01\", \"Analysis Neighborhood\": \"Marina\", \"count\": 2, \"incident_date_2\": \"2021-01\"}, {\"incident_date\": \"2022-07\", \"Analysis Neighborhood\": \"Nob Hill\", \"count\": 2, \"incident_date_2\": \"2022-07\"}, {\"incident_date\": \"2020-11\", \"Analysis Neighborhood\": \"Mission Bay\", \"count\": 2, \"incident_date_2\": \"2020-11\"}, {\"incident_date\": \"2018-01\", \"Analysis Neighborhood\": \"Oceanview/Merced/Ingleside\", \"count\": 2, \"incident_date_2\": \"2018-01\"}, {\"incident_date\": \"2018-01\", \"Analysis Neighborhood\": \"Outer Richmond\", \"count\": 2, \"incident_date_2\": \"2018-01\"}, {\"incident_date\": \"2021-01\", \"Analysis Neighborhood\": \"Nob Hill\", \"count\": 2, \"incident_date_2\": \"2021-01\"}, {\"incident_date\": \"2018-01\", \"Analysis Neighborhood\": \"Potrero Hill\", \"count\": 2, \"incident_date_2\": \"2018-01\"}, {\"incident_date\": \"2020-10\", \"Analysis Neighborhood\": \"West of Twin Peaks\", \"count\": 2, \"incident_date_2\": \"2020-10\"}, {\"incident_date\": \"2022-10\", \"Analysis Neighborhood\": \"Bernal Heights\", \"count\": 2, \"incident_date_2\": \"2022-10\"}, {\"incident_date\": \"2018-01\", \"Analysis Neighborhood\": \"Russian Hill\", \"count\": 2, \"incident_date_2\": \"2018-01\"}, {\"incident_date\": \"2020-10\", \"Analysis Neighborhood\": \"Presidio\", \"count\": 2, \"incident_date_2\": \"2020-10\"}, {\"incident_date\": \"2022-06\", \"Analysis Neighborhood\": \"Presidio Heights\", \"count\": 2, \"incident_date_2\": \"2022-06\"}, {\"incident_date\": \"2020-10\", \"Analysis Neighborhood\": \"Outer Mission\", \"count\": 2, \"incident_date_2\": \"2020-10\"}, {\"incident_date\": \"2020-07\", \"Analysis Neighborhood\": \"Russian Hill\", \"count\": 2, \"incident_date_2\": \"2020-07\"}, {\"incident_date\": \"2020-07\", \"Analysis Neighborhood\": \"Potrero Hill\", \"count\": 2, \"incident_date_2\": \"2020-07\"}, {\"incident_date\": \"2022-07\", \"Analysis Neighborhood\": \"Sunset/Parkside\", \"count\": 2, \"incident_date_2\": \"2022-07\"}, {\"incident_date\": \"2018-04\", \"Analysis Neighborhood\": \"Bernal Heights\", \"count\": 2, \"incident_date_2\": \"2018-04\"}, {\"incident_date\": \"2022-05\", \"Analysis Neighborhood\": \"Mission Bay\", \"count\": 2, \"incident_date_2\": \"2022-05\"}, {\"incident_date\": \"2020-04\", \"Analysis Neighborhood\": \"Potrero Hill\", \"count\": 2, \"incident_date_2\": \"2020-04\"}, {\"incident_date\": \"2020-04\", \"Analysis Neighborhood\": \"Portola\", \"count\": 2, \"incident_date_2\": \"2020-04\"}, {\"incident_date\": \"2021-03\", \"Analysis Neighborhood\": \"Mission Bay\", \"count\": 2, \"incident_date_2\": \"2021-03\"}, {\"incident_date\": \"2022-05\", \"Analysis Neighborhood\": \"McLaren Park\", \"count\": 2, \"incident_date_2\": \"2022-05\"}, {\"incident_date\": \"2020-04\", \"Analysis Neighborhood\": \"Mission Bay\", \"count\": 2, \"incident_date_2\": \"2020-04\"}, {\"incident_date\": \"2021-03\", \"Analysis Neighborhood\": \"Noe Valley\", \"count\": 2, \"incident_date_2\": \"2021-03\"}, {\"incident_date\": \"2022-05\", \"Analysis Neighborhood\": \"Marina\", \"count\": 2, \"incident_date_2\": \"2022-05\"}, {\"incident_date\": \"2018-04\", \"Analysis Neighborhood\": \"Golden Gate Park\", \"count\": 2, \"incident_date_2\": \"2018-04\"}, {\"incident_date\": \"2020-04\", \"Analysis Neighborhood\": \"Chinatown\", \"count\": 2, \"incident_date_2\": \"2020-04\"}, {\"incident_date\": \"2020-04\", \"Analysis Neighborhood\": \"Castro/Upper Market\", \"count\": 2, \"incident_date_2\": \"2020-04\"}, {\"incident_date\": \"2018-04\", \"Analysis Neighborhood\": \"Hayes Valley\", \"count\": 2, \"incident_date_2\": \"2018-04\"}, {\"incident_date\": \"2018-04\", \"Analysis Neighborhood\": \"Lone Mountain/USF\", \"count\": 2, \"incident_date_2\": \"2018-04\"}, {\"incident_date\": \"2018-04\", \"Analysis Neighborhood\": \"Nob Hill\", \"count\": 2, \"incident_date_2\": \"2018-04\"}, {\"incident_date\": \"2018-04\", \"Analysis Neighborhood\": \"Outer Richmond\", \"count\": 2, \"incident_date_2\": \"2018-04\"}, {\"incident_date\": \"2020-03\", \"Analysis Neighborhood\": \"Bernal Heights\", \"count\": 2, \"incident_date_2\": \"2020-03\"}, {\"incident_date\": \"2021-03\", \"Analysis Neighborhood\": \"Twin Peaks\", \"count\": 2, \"incident_date_2\": \"2021-03\"}, {\"incident_date\": \"2021-03\", \"Analysis Neighborhood\": \"Visitacion Valley\", \"count\": 2, \"incident_date_2\": \"2021-03\"}, {\"incident_date\": \"2020-04\", \"Analysis Neighborhood\": \"Western Addition\", \"count\": 2, \"incident_date_2\": \"2020-04\"}, {\"incident_date\": \"2018-06\", \"Analysis Neighborhood\": \"Russian Hill\", \"count\": 2, \"incident_date_2\": \"2018-06\"}, {\"incident_date\": \"2022-05\", \"Analysis Neighborhood\": \"North Beach\", \"count\": 2, \"incident_date_2\": \"2022-05\"}, {\"incident_date\": \"2020-05\", \"Analysis Neighborhood\": \"Inner Richmond\", \"count\": 2, \"incident_date_2\": \"2020-05\"}, {\"incident_date\": \"2018-03\", \"Analysis Neighborhood\": \"Marina\", \"count\": 2, \"incident_date_2\": \"2018-03\"}, {\"incident_date\": \"2023-02\", \"Analysis Neighborhood\": \"West of Twin Peaks\", \"count\": 2, \"incident_date_2\": \"2023-02\"}, {\"incident_date\": \"2020-07\", \"Analysis Neighborhood\": \"Castro/Upper Market\", \"count\": 2, \"incident_date_2\": \"2020-07\"}, {\"incident_date\": \"2018-03\", \"Analysis Neighborhood\": \"Mission Bay\", \"count\": 2, \"incident_date_2\": \"2018-03\"}, {\"incident_date\": \"2020-06\", \"Analysis Neighborhood\": \"Western Addition\", \"count\": 2, \"incident_date_2\": \"2020-06\"}, {\"incident_date\": \"2022-10\", \"Analysis Neighborhood\": \"Outer Richmond\", \"count\": 2, \"incident_date_2\": \"2022-10\"}, {\"incident_date\": \"2021-03\", \"Analysis Neighborhood\": \"Bernal Heights\", \"count\": 2, \"incident_date_2\": \"2021-03\"}, {\"incident_date\": \"2020-06\", \"Analysis Neighborhood\": \"Russian Hill\", \"count\": 2, \"incident_date_2\": \"2020-06\"}, {\"incident_date\": \"2020-06\", \"Analysis Neighborhood\": \"Pacific Heights\", \"count\": 2, \"incident_date_2\": \"2020-06\"}, {\"incident_date\": \"2020-02\", \"Analysis Neighborhood\": \"Potrero Hill\", \"count\": 2, \"incident_date_2\": \"2020-02\"}, {\"incident_date\": \"2022-05\", \"Analysis Neighborhood\": \"Portola\", \"count\": 2, \"incident_date_2\": \"2022-05\"}, {\"incident_date\": \"2020-06\", \"Analysis Neighborhood\": \"Hayes Valley\", \"count\": 2, \"incident_date_2\": \"2020-06\"}, {\"incident_date\": \"2020-06\", \"Analysis Neighborhood\": \"Golden Gate Park\", \"count\": 2, \"incident_date_2\": \"2020-06\"}, {\"incident_date\": \"2020-06\", \"Analysis Neighborhood\": \"Financial District/South Beach\", \"count\": 2, \"incident_date_2\": \"2020-06\"}, {\"incident_date\": \"2020-05\", \"Analysis Neighborhood\": \"Western Addition\", \"count\": 2, \"incident_date_2\": \"2020-05\"}, {\"incident_date\": \"2022-10\", \"Analysis Neighborhood\": \"Pacific Heights\", \"count\": 2, \"incident_date_2\": \"2022-10\"}, {\"incident_date\": \"2018-03\", \"Analysis Neighborhood\": \"Outer Richmond\", \"count\": 2, \"incident_date_2\": \"2018-03\"}, {\"incident_date\": \"2018-03\", \"Analysis Neighborhood\": \"Potrero Hill\", \"count\": 2, \"incident_date_2\": \"2018-03\"}, {\"incident_date\": \"2020-05\", \"Analysis Neighborhood\": \"Marina\", \"count\": 2, \"incident_date_2\": \"2020-05\"}, {\"incident_date\": \"2020-05\", \"Analysis Neighborhood\": \"Lone Mountain/USF\", \"count\": 2, \"incident_date_2\": \"2020-05\"}, {\"incident_date\": \"2018-03\", \"Analysis Neighborhood\": \"Oceanview/Merced/Ingleside\", \"count\": 2, \"incident_date_2\": \"2018-03\"}, {\"incident_date\": \"2022-05\", \"Analysis Neighborhood\": \"Noe Valley\", \"count\": 2, \"incident_date_2\": \"2022-05\"}, {\"incident_date\": \"2019-05\", \"Analysis Neighborhood\": \"Russian Hill\", \"count\": 2, \"incident_date_2\": \"2019-05\"}, {\"incident_date\": \"2022-12\", \"Analysis Neighborhood\": \"Inner Richmond\", \"count\": 2, \"incident_date_2\": \"2022-12\"}, {\"incident_date\": \"2021-08\", \"Analysis Neighborhood\": \"Sunset/Parkside\", \"count\": 2, \"incident_date_2\": \"2021-08\"}, {\"incident_date\": \"2019-06\", \"Analysis Neighborhood\": \"Potrero Hill\", \"count\": 2, \"incident_date_2\": \"2019-06\"}, {\"incident_date\": \"2018-10\", \"Analysis Neighborhood\": \"Russian Hill\", \"count\": 2, \"incident_date_2\": \"2018-10\"}, {\"incident_date\": \"2018-08\", \"Analysis Neighborhood\": \"Outer Richmond\", \"count\": 2, \"incident_date_2\": \"2018-08\"}, {\"incident_date\": \"2021-10\", \"Analysis Neighborhood\": \"Outer Richmond\", \"count\": 2, \"incident_date_2\": \"2021-10\"}, {\"incident_date\": \"2018-08\", \"Analysis Neighborhood\": \"Pacific Heights\", \"count\": 2, \"incident_date_2\": \"2018-08\"}, {\"incident_date\": \"2018-08\", \"Analysis Neighborhood\": \"Oceanview/Merced/Ingleside\", \"count\": 2, \"incident_date_2\": \"2018-08\"}, {\"incident_date\": \"2022-12\", \"Analysis Neighborhood\": \"Visitacion Valley\", \"count\": 2, \"incident_date_2\": \"2022-12\"}, {\"incident_date\": \"2019-06\", \"Analysis Neighborhood\": \"Japantown\", \"count\": 2, \"incident_date_2\": \"2019-06\"}, {\"incident_date\": \"2019-06\", \"Analysis Neighborhood\": \"Hayes Valley\", \"count\": 2, \"incident_date_2\": \"2019-06\"}, {\"incident_date\": \"2023-02\", \"Analysis Neighborhood\": \"Castro/Upper Market\", \"count\": 2, \"incident_date_2\": \"2023-02\"}, {\"incident_date\": \"2019-06\", \"Analysis Neighborhood\": \"Excelsior\", \"count\": 2, \"incident_date_2\": \"2019-06\"}, {\"incident_date\": \"2022-01\", \"Analysis Neighborhood\": \"Noe Valley\", \"count\": 2, \"incident_date_2\": \"2022-01\"}, {\"incident_date\": \"2019-06\", \"Analysis Neighborhood\": \"Bernal Heights\", \"count\": 2, \"incident_date_2\": \"2019-06\"}, {\"incident_date\": \"2019-06\", \"Analysis Neighborhood\": \"Marina\", \"count\": 2, \"incident_date_2\": \"2019-06\"}, {\"incident_date\": \"2023-01\", \"Analysis Neighborhood\": \"Visitacion Valley\", \"count\": 2, \"incident_date_2\": \"2023-01\"}, {\"incident_date\": \"2018-08\", \"Analysis Neighborhood\": \"Mission Bay\", \"count\": 2, \"incident_date_2\": \"2018-08\"}, {\"incident_date\": \"2023-02\", \"Analysis Neighborhood\": \"Excelsior\", \"count\": 2, \"incident_date_2\": \"2023-02\"}, {\"incident_date\": \"2023-01\", \"Analysis Neighborhood\": \"Bernal Heights\", \"count\": 2, \"incident_date_2\": \"2023-01\"}, {\"incident_date\": \"2018-08\", \"Analysis Neighborhood\": \"Bayview Hunters Point\", \"count\": 2, \"incident_date_2\": \"2018-08\"}, {\"incident_date\": \"2021-11\", \"Analysis Neighborhood\": \"Bernal Heights\", \"count\": 2, \"incident_date_2\": \"2021-11\"}, {\"incident_date\": \"2019-02\", \"Analysis Neighborhood\": \"Excelsior\", \"count\": 2, \"incident_date_2\": \"2019-02\"}, {\"incident_date\": \"2019-02\", \"Analysis Neighborhood\": \"Glen Park\", \"count\": 2, \"incident_date_2\": \"2019-02\"}, {\"incident_date\": \"2019-02\", \"Analysis Neighborhood\": \"Inner Sunset\", \"count\": 2, \"incident_date_2\": \"2019-02\"}, {\"incident_date\": \"2019-07\", \"Analysis Neighborhood\": \"Inner Richmond\", \"count\": 2, \"incident_date_2\": \"2019-07\"}, {\"incident_date\": \"2022-02\", \"Analysis Neighborhood\": \"Potrero Hill\", \"count\": 2, \"incident_date_2\": \"2022-02\"}, {\"incident_date\": \"2019-02\", \"Analysis Neighborhood\": \"Lakeshore\", \"count\": 2, \"incident_date_2\": \"2019-02\"}, {\"incident_date\": \"2019-07\", \"Analysis Neighborhood\": \"Golden Gate Park\", \"count\": 2, \"incident_date_2\": \"2019-07\"}, {\"incident_date\": \"2022-08\", \"Analysis Neighborhood\": \"West of Twin Peaks\", \"count\": 2, \"incident_date_2\": \"2022-08\"}, {\"incident_date\": \"2019-02\", \"Analysis Neighborhood\": \"Marina\", \"count\": 2, \"incident_date_2\": \"2019-02\"}, {\"incident_date\": \"2019-02\", \"Analysis Neighborhood\": \"Mission Bay\", \"count\": 2, \"incident_date_2\": \"2019-02\"}, {\"incident_date\": \"2022-08\", \"Analysis Neighborhood\": \"Sunset/Parkside\", \"count\": 2, \"incident_date_2\": \"2022-08\"}, {\"incident_date\": \"2019-02\", \"Analysis Neighborhood\": \"North Beach\", \"count\": 2, \"incident_date_2\": \"2019-02\"}, {\"incident_date\": \"2019-03\", \"Analysis Neighborhood\": \"Chinatown\", \"count\": 2, \"incident_date_2\": \"2019-03\"}, {\"incident_date\": \"2018-10\", \"Analysis Neighborhood\": \"Nob Hill\", \"count\": 2, \"incident_date_2\": \"2018-10\"}, {\"incident_date\": \"2021-09\", \"Analysis Neighborhood\": \"Excelsior\", \"count\": 2, \"incident_date_2\": \"2021-09\"}, {\"incident_date\": \"2021-09\", \"Analysis Neighborhood\": \"Haight Ashbury\", \"count\": 2, \"incident_date_2\": \"2021-09\"}, {\"incident_date\": \"2018-09\", \"Analysis Neighborhood\": \"Outer Richmond\", \"count\": 2, \"incident_date_2\": \"2018-09\"}, {\"incident_date\": \"2019-03\", \"Analysis Neighborhood\": \"Seacliff\", \"count\": 2, \"incident_date_2\": \"2019-03\"}, {\"incident_date\": \"2019-04\", \"Analysis Neighborhood\": \"Sunset/Parkside\", \"count\": 2, \"incident_date_2\": \"2019-04\"}, {\"incident_date\": \"2022-12\", \"Analysis Neighborhood\": \"Pacific Heights\", \"count\": 2, \"incident_date_2\": \"2022-12\"}, {\"incident_date\": \"2022-12\", \"Analysis Neighborhood\": \"Russian Hill\", \"count\": 2, \"incident_date_2\": \"2022-12\"}, {\"incident_date\": \"2019-03\", \"Analysis Neighborhood\": \"Sunset/Parkside\", \"count\": 2, \"incident_date_2\": \"2019-03\"}, {\"incident_date\": \"2018-09\", \"Analysis Neighborhood\": \"Portola\", \"count\": 2, \"incident_date_2\": \"2018-09\"}, {\"incident_date\": \"2021-09\", \"Analysis Neighborhood\": \"Pacific Heights\", \"count\": 2, \"incident_date_2\": \"2021-09\"}, {\"incident_date\": \"2019-04\", \"Analysis Neighborhood\": \"Nob Hill\", \"count\": 2, \"incident_date_2\": \"2019-04\"}, {\"incident_date\": \"2018-10\", \"Analysis Neighborhood\": \"Golden Gate Park\", \"count\": 2, \"incident_date_2\": \"2018-10\"}, {\"incident_date\": \"2019-03\", \"Analysis Neighborhood\": \"West of Twin Peaks\", \"count\": 2, \"incident_date_2\": \"2019-03\"}, {\"incident_date\": \"2022-01\", \"Analysis Neighborhood\": \"Portola\", \"count\": 2, \"incident_date_2\": \"2022-01\"}, {\"incident_date\": \"2022-01\", \"Analysis Neighborhood\": \"Russian Hill\", \"count\": 2, \"incident_date_2\": \"2022-01\"}, {\"incident_date\": \"2022-08\", \"Analysis Neighborhood\": \"Inner Richmond\", \"count\": 2, \"incident_date_2\": \"2022-08\"}, {\"incident_date\": \"2022-01\", \"Analysis Neighborhood\": \"Sunset/Parkside\", \"count\": 2, \"incident_date_2\": \"2022-01\"}, {\"incident_date\": \"2022-02\", \"Analysis Neighborhood\": \"Chinatown\", \"count\": 2, \"incident_date_2\": \"2022-02\"}, {\"incident_date\": \"2021-08\", \"Analysis Neighborhood\": \"Financial District/South Beach\", \"count\": 2, \"incident_date_2\": \"2021-08\"}, {\"incident_date\": \"2018-09\", \"Analysis Neighborhood\": \"North Beach\", \"count\": 2, \"incident_date_2\": \"2018-09\"}, {\"incident_date\": \"2019-05\", \"Analysis Neighborhood\": \"Bernal Heights\", \"count\": 2, \"incident_date_2\": \"2019-05\"}, {\"incident_date\": \"2019-05\", \"Analysis Neighborhood\": \"Visitacion Valley\", \"count\": 2, \"incident_date_2\": \"2019-05\"}, {\"incident_date\": \"2021-09\", \"Analysis Neighborhood\": \"Hayes Valley\", \"count\": 2, \"incident_date_2\": \"2021-09\"}, {\"incident_date\": \"2019-03\", \"Analysis Neighborhood\": \"Golden Gate Park\", \"count\": 2, \"incident_date_2\": \"2019-03\"}, {\"incident_date\": \"2019-05\", \"Analysis Neighborhood\": \"Potrero Hill\", \"count\": 2, \"incident_date_2\": \"2019-05\"}, {\"incident_date\": \"2021-10\", \"Analysis Neighborhood\": \"Inner Sunset\", \"count\": 2, \"incident_date_2\": \"2021-10\"}, {\"incident_date\": \"2022-12\", \"Analysis Neighborhood\": \"Twin Peaks\", \"count\": 2, \"incident_date_2\": \"2022-12\"}, {\"incident_date\": \"2019-05\", \"Analysis Neighborhood\": \"North Beach\", \"count\": 2, \"incident_date_2\": \"2019-05\"}, {\"incident_date\": \"2022-02\", \"Analysis Neighborhood\": \"Lakeshore\", \"count\": 2, \"incident_date_2\": \"2022-02\"}, {\"incident_date\": \"2021-09\", \"Analysis Neighborhood\": \"Lakeshore\", \"count\": 2, \"incident_date_2\": \"2021-09\"}, {\"incident_date\": \"2022-12\", \"Analysis Neighborhood\": \"Nob Hill\", \"count\": 2, \"incident_date_2\": \"2022-12\"}, {\"incident_date\": \"2019-05\", \"Analysis Neighborhood\": \"Inner Richmond\", \"count\": 2, \"incident_date_2\": \"2019-05\"}, {\"incident_date\": \"2019-05\", \"Analysis Neighborhood\": \"Hayes Valley\", \"count\": 2, \"incident_date_2\": \"2019-05\"}, {\"incident_date\": \"2021-09\", \"Analysis Neighborhood\": \"Nob Hill\", \"count\": 2, \"incident_date_2\": \"2021-09\"}, {\"incident_date\": \"2018-09\", \"Analysis Neighborhood\": \"Inner Richmond\", \"count\": 2, \"incident_date_2\": \"2018-09\"}, {\"incident_date\": \"2019-10\", \"Analysis Neighborhood\": \"Golden Gate Park\", \"count\": 2, \"incident_date_2\": \"2019-10\"}, {\"incident_date\": \"2018-10\", \"Analysis Neighborhood\": \"Hayes Valley\", \"count\": 2, \"incident_date_2\": \"2018-10\"}, {\"incident_date\": \"2019-07\", \"Analysis Neighborhood\": \"North Beach\", \"count\": 2, \"incident_date_2\": \"2019-07\"}, {\"incident_date\": \"2019-04\", \"Analysis Neighborhood\": \"Chinatown\", \"count\": 2, \"incident_date_2\": \"2019-04\"}, {\"incident_date\": \"2019-08\", \"Analysis Neighborhood\": \"Visitacion Valley\", \"count\": 2, \"incident_date_2\": \"2019-08\"}, {\"incident_date\": \"2019-08\", \"Analysis Neighborhood\": \"Mission Bay\", \"count\": 2, \"incident_date_2\": \"2019-08\"}, {\"incident_date\": \"2019-08\", \"Analysis Neighborhood\": \"Oceanview/Merced/Ingleside\", \"count\": 2, \"incident_date_2\": \"2019-08\"}, {\"incident_date\": \"2021-07\", \"Analysis Neighborhood\": \"Oceanview/Merced/Ingleside\", \"count\": 2, \"incident_date_2\": \"2021-07\"}, {\"incident_date\": \"2019-09\", \"Analysis Neighborhood\": \"Outer Mission\", \"count\": 2, \"incident_date_2\": \"2019-09\"}, {\"incident_date\": \"2021-11\", \"Analysis Neighborhood\": \"Presidio Heights\", \"count\": 2, \"incident_date_2\": \"2021-11\"}, {\"incident_date\": \"2019-09\", \"Analysis Neighborhood\": \"Oceanview/Merced/Ingleside\", \"count\": 2, \"incident_date_2\": \"2019-09\"}, {\"incident_date\": \"2018-11\", \"Analysis Neighborhood\": \"Lakeshore\", \"count\": 2, \"incident_date_2\": \"2018-11\"}, {\"incident_date\": \"2019-08\", \"Analysis Neighborhood\": \"Seacliff\", \"count\": 2, \"incident_date_2\": \"2019-08\"}, {\"incident_date\": \"2021-11\", \"Analysis Neighborhood\": \"Russian Hill\", \"count\": 2, \"incident_date_2\": \"2021-11\"}, {\"incident_date\": \"2021-12\", \"Analysis Neighborhood\": \"Haight Ashbury\", \"count\": 2, \"incident_date_2\": \"2021-12\"}, {\"incident_date\": \"2018-11\", \"Analysis Neighborhood\": \"Marina\", \"count\": 2, \"incident_date_2\": \"2018-11\"}, {\"incident_date\": \"2019-09\", \"Analysis Neighborhood\": \"Outer Richmond\", \"count\": 2, \"incident_date_2\": \"2019-09\"}, {\"incident_date\": \"2018-07\", \"Analysis Neighborhood\": \"Glen Park\", \"count\": 2, \"incident_date_2\": \"2018-07\"}, {\"incident_date\": \"2021-12\", \"Analysis Neighborhood\": \"North Beach\", \"count\": 2, \"incident_date_2\": \"2021-12\"}, {\"incident_date\": \"2018-12\", \"Analysis Neighborhood\": \"Marina\", \"count\": 2, \"incident_date_2\": \"2018-12\"}, {\"incident_date\": \"2019-07\", \"Analysis Neighborhood\": \"Outer Mission\", \"count\": 2, \"incident_date_2\": \"2019-07\"}, {\"incident_date\": \"2021-07\", \"Analysis Neighborhood\": \"Mission Bay\", \"count\": 2, \"incident_date_2\": \"2021-07\"}, {\"incident_date\": \"2018-07\", \"Analysis Neighborhood\": \"Hayes Valley\", \"count\": 2, \"incident_date_2\": \"2018-07\"}, {\"incident_date\": \"2018-07\", \"Analysis Neighborhood\": \"Inner Richmond\", \"count\": 2, \"incident_date_2\": \"2018-07\"}, {\"incident_date\": \"2018-07\", \"Analysis Neighborhood\": \"Mission Bay\", \"count\": 2, \"incident_date_2\": \"2018-07\"}, {\"incident_date\": \"2019-09\", \"Analysis Neighborhood\": \"Hayes Valley\", \"count\": 2, \"incident_date_2\": \"2019-09\"}, {\"incident_date\": \"2023-02\", \"Analysis Neighborhood\": \"Hayes Valley\", \"count\": 2, \"incident_date_2\": \"2023-02\"}, {\"incident_date\": \"2019-09\", \"Analysis Neighborhood\": \"Golden Gate Park\", \"count\": 2, \"incident_date_2\": \"2019-09\"}, {\"incident_date\": \"2018-12\", \"Analysis Neighborhood\": \"Outer Richmond\", \"count\": 2, \"incident_date_2\": \"2018-12\"}, {\"incident_date\": \"2018-11\", \"Analysis Neighborhood\": \"Portola\", \"count\": 2, \"incident_date_2\": \"2018-11\"}, {\"incident_date\": \"2019-09\", \"Analysis Neighborhood\": \"Potrero Hill\", \"count\": 2, \"incident_date_2\": \"2019-09\"}, {\"incident_date\": \"2021-11\", \"Analysis Neighborhood\": \"Potrero Hill\", \"count\": 2, \"incident_date_2\": \"2021-11\"}, {\"incident_date\": \"2021-07\", \"Analysis Neighborhood\": \"Western Addition\", \"count\": 2, \"incident_date_2\": \"2021-07\"}, {\"incident_date\": \"2018-07\", \"Analysis Neighborhood\": \"Russian Hill\", \"count\": 2, \"incident_date_2\": \"2018-07\"}, {\"incident_date\": \"2021-11\", \"Analysis Neighborhood\": \"Hayes Valley\", \"count\": 2, \"incident_date_2\": \"2021-11\"}, {\"incident_date\": \"2019-08\", \"Analysis Neighborhood\": \"Excelsior\", \"count\": 2, \"incident_date_2\": \"2019-08\"}, {\"incident_date\": \"2019-08\", \"Analysis Neighborhood\": \"Glen Park\", \"count\": 2, \"incident_date_2\": \"2019-08\"}, {\"incident_date\": \"2021-12\", \"Analysis Neighborhood\": \"Excelsior\", \"count\": 2, \"incident_date_2\": \"2021-12\"}, {\"incident_date\": \"2022-12\", \"Analysis Neighborhood\": \"Chinatown\", \"count\": 2, \"incident_date_2\": \"2022-12\"}, {\"incident_date\": \"2022-09\", \"Analysis Neighborhood\": \"Castro/Upper Market\", \"count\": 2, \"incident_date_2\": \"2022-09\"}, {\"incident_date\": \"2021-12\", \"Analysis Neighborhood\": \"Chinatown\", \"count\": 2, \"incident_date_2\": \"2021-12\"}, {\"incident_date\": \"2018-11\", \"Analysis Neighborhood\": \"Castro/Upper Market\", \"count\": 2, \"incident_date_2\": \"2018-11\"}, {\"incident_date\": \"2021-11\", \"Analysis Neighborhood\": \"Lakeshore\", \"count\": 2, \"incident_date_2\": \"2021-11\"}, {\"incident_date\": \"2021-07\", \"Analysis Neighborhood\": \"Outer Richmond\", \"count\": 2, \"incident_date_2\": \"2021-07\"}, {\"incident_date\": \"2018-06\", \"Analysis Neighborhood\": \"Visitacion Valley\", \"count\": 2, \"incident_date_2\": \"2018-06\"}, {\"incident_date\": \"2019-08\", \"Analysis Neighborhood\": \"Inner Sunset\", \"count\": 2, \"incident_date_2\": \"2019-08\"}, {\"incident_date\": \"2021-12\", \"Analysis Neighborhood\": \"West of Twin Peaks\", \"count\": 2, \"incident_date_2\": \"2021-12\"}, {\"incident_date\": \"2021-08\", \"Analysis Neighborhood\": \"Bernal Heights\", \"count\": 2, \"incident_date_2\": \"2021-08\"}, {\"incident_date\": \"2019-10\", \"Analysis Neighborhood\": \"Bernal Heights\", \"count\": 2, \"incident_date_2\": \"2019-10\"}, {\"incident_date\": \"2018-12\", \"Analysis Neighborhood\": \"Bayview Hunters Point\", \"count\": 3, \"incident_date_2\": \"2018-12\"}, {\"incident_date\": \"2020-12\", \"Analysis Neighborhood\": \"Noe Valley\", \"count\": 3, \"incident_date_2\": \"2020-12\"}, {\"incident_date\": \"2020-08\", \"Analysis Neighborhood\": \"Castro/Upper Market\", \"count\": 3, \"incident_date_2\": \"2020-08\"}, {\"incident_date\": \"2020-12\", \"Analysis Neighborhood\": \"Portola\", \"count\": 3, \"incident_date_2\": \"2020-12\"}, {\"incident_date\": \"2019-04\", \"Analysis Neighborhood\": \"Bernal Heights\", \"count\": 3, \"incident_date_2\": \"2019-04\"}, {\"incident_date\": \"2023-01\", \"Analysis Neighborhood\": \"Mission Bay\", \"count\": 3, \"incident_date_2\": \"2023-01\"}, {\"incident_date\": \"2020-06\", \"Analysis Neighborhood\": \"West of Twin Peaks\", \"count\": 3, \"incident_date_2\": \"2020-06\"}, {\"incident_date\": \"2021-10\", \"Analysis Neighborhood\": \"Chinatown\", \"count\": 3, \"incident_date_2\": \"2021-10\"}, {\"incident_date\": \"2022-01\", \"Analysis Neighborhood\": \"Pacific Heights\", \"count\": 3, \"incident_date_2\": \"2022-01\"}, {\"incident_date\": \"2018-10\", \"Analysis Neighborhood\": \"Inner Richmond\", \"count\": 3, \"incident_date_2\": \"2018-10\"}, {\"incident_date\": \"2021-02\", \"Analysis Neighborhood\": \"Twin Peaks\", \"count\": 3, \"incident_date_2\": \"2021-02\"}, {\"incident_date\": \"2020-12\", \"Analysis Neighborhood\": \"Financial District/South Beach\", \"count\": 3, \"incident_date_2\": \"2020-12\"}, {\"incident_date\": \"2018-03\", \"Analysis Neighborhood\": \"Chinatown\", \"count\": 3, \"incident_date_2\": \"2018-03\"}, {\"incident_date\": \"2021-02\", \"Analysis Neighborhood\": \"Potrero Hill\", \"count\": 3, \"incident_date_2\": \"2021-02\"}, {\"incident_date\": \"2018-01\", \"Analysis Neighborhood\": \"Chinatown\", \"count\": 3, \"incident_date_2\": \"2018-01\"}, {\"incident_date\": \"2022-05\", \"Analysis Neighborhood\": \"Sunset/Parkside\", \"count\": 3, \"incident_date_2\": \"2022-05\"}, {\"incident_date\": \"2018-12\", \"Analysis Neighborhood\": \"Chinatown\", \"count\": 3, \"incident_date_2\": \"2018-12\"}, {\"incident_date\": \"2018-03\", \"Analysis Neighborhood\": \"Golden Gate Park\", \"count\": 3, \"incident_date_2\": \"2018-03\"}, {\"incident_date\": \"2020-12\", \"Analysis Neighborhood\": \"Marina\", \"count\": 3, \"incident_date_2\": \"2020-12\"}, {\"incident_date\": \"2022-09\", \"Analysis Neighborhood\": \"Visitacion Valley\", \"count\": 3, \"incident_date_2\": \"2022-09\"}, {\"incident_date\": \"2018-12\", \"Analysis Neighborhood\": \"Mission Bay\", \"count\": 3, \"incident_date_2\": \"2018-12\"}, {\"incident_date\": \"2022-07\", \"Analysis Neighborhood\": \"Haight Ashbury\", \"count\": 3, \"incident_date_2\": \"2022-07\"}, {\"incident_date\": \"2020-07\", \"Analysis Neighborhood\": \"Outer Richmond\", \"count\": 3, \"incident_date_2\": \"2020-07\"}, {\"incident_date\": \"2020-12\", \"Analysis Neighborhood\": \"Nob Hill\", \"count\": 3, \"incident_date_2\": \"2020-12\"}, {\"incident_date\": \"2020-07\", \"Analysis Neighborhood\": \"Western Addition\", \"count\": 3, \"incident_date_2\": \"2020-07\"}, {\"incident_date\": \"2022-05\", \"Analysis Neighborhood\": \"Western Addition\", \"count\": 3, \"incident_date_2\": \"2022-05\"}, {\"incident_date\": \"2019-01\", \"Analysis Neighborhood\": \"West of Twin Peaks\", \"count\": 3, \"incident_date_2\": \"2019-01\"}, {\"incident_date\": \"2018-12\", \"Analysis Neighborhood\": \"Outer Mission\", \"count\": 3, \"incident_date_2\": \"2018-12\"}, {\"incident_date\": \"2018-10\", \"Analysis Neighborhood\": \"Sunset/Parkside\", \"count\": 3, \"incident_date_2\": \"2018-10\"}, {\"incident_date\": \"2021-10\", \"Analysis Neighborhood\": \"Pacific Heights\", \"count\": 3, \"incident_date_2\": \"2021-10\"}, {\"incident_date\": \"2020-09\", \"Analysis Neighborhood\": \"Mission Bay\", \"count\": 3, \"incident_date_2\": \"2020-09\"}, {\"incident_date\": \"2019-01\", \"Analysis Neighborhood\": \"Mission Bay\", \"count\": 3, \"incident_date_2\": \"2019-01\"}, {\"incident_date\": \"2020-09\", \"Analysis Neighborhood\": \"Outer Richmond\", \"count\": 3, \"incident_date_2\": \"2020-09\"}, {\"incident_date\": \"2019-01\", \"Analysis Neighborhood\": \"North Beach\", \"count\": 3, \"incident_date_2\": \"2019-01\"}, {\"incident_date\": \"2018-02\", \"Analysis Neighborhood\": \"Excelsior\", \"count\": 3, \"incident_date_2\": \"2018-02\"}, {\"incident_date\": \"2020-09\", \"Analysis Neighborhood\": \"Sunset/Parkside\", \"count\": 3, \"incident_date_2\": \"2020-09\"}, {\"incident_date\": \"2019-01\", \"Analysis Neighborhood\": \"Inner Sunset\", \"count\": 3, \"incident_date_2\": \"2019-01\"}, {\"incident_date\": \"2021-12\", \"Analysis Neighborhood\": \"Potrero Hill\", \"count\": 3, \"incident_date_2\": \"2021-12\"}, {\"incident_date\": \"2019-02\", \"Analysis Neighborhood\": \"Hayes Valley\", \"count\": 3, \"incident_date_2\": \"2019-02\"}, {\"incident_date\": \"2018-10\", \"Analysis Neighborhood\": \"Visitacion Valley\", \"count\": 3, \"incident_date_2\": \"2018-10\"}, {\"incident_date\": \"2021-01\", \"Analysis Neighborhood\": \"West of Twin Peaks\", \"count\": 3, \"incident_date_2\": \"2021-01\"}, {\"incident_date\": \"2018-01\", \"Analysis Neighborhood\": \"Visitacion Valley\", \"count\": 3, \"incident_date_2\": \"2018-01\"}, {\"incident_date\": \"2019-01\", \"Analysis Neighborhood\": \"Visitacion Valley\", \"count\": 3, \"incident_date_2\": \"2019-01\"}, {\"incident_date\": \"2021-11\", \"Analysis Neighborhood\": \"Castro/Upper Market\", \"count\": 3, \"incident_date_2\": \"2021-11\"}, {\"incident_date\": \"2020-10\", \"Analysis Neighborhood\": \"Noe Valley\", \"count\": 3, \"incident_date_2\": \"2020-10\"}, {\"incident_date\": \"2020-10\", \"Analysis Neighborhood\": \"Mission Bay\", \"count\": 3, \"incident_date_2\": \"2020-10\"}, {\"incident_date\": \"2022-06\", \"Analysis Neighborhood\": \"Outer Mission\", \"count\": 3, \"incident_date_2\": \"2022-06\"}, {\"incident_date\": \"2020-09\", \"Analysis Neighborhood\": \"Haight Ashbury\", \"count\": 3, \"incident_date_2\": \"2020-09\"}, {\"incident_date\": \"2020-11\", \"Analysis Neighborhood\": \"Bayview Hunters Point\", \"count\": 3, \"incident_date_2\": \"2020-11\"}, {\"incident_date\": \"2019-02\", \"Analysis Neighborhood\": \"Potrero Hill\", \"count\": 3, \"incident_date_2\": \"2019-02\"}, {\"incident_date\": \"2019-03\", \"Analysis Neighborhood\": \"Hayes Valley\", \"count\": 3, \"incident_date_2\": \"2019-03\"}, {\"incident_date\": \"2019-03\", \"Analysis Neighborhood\": \"Haight Ashbury\", \"count\": 3, \"incident_date_2\": \"2019-03\"}, {\"incident_date\": \"2022-10\", \"Analysis Neighborhood\": \"Mission Bay\", \"count\": 3, \"incident_date_2\": \"2022-10\"}, {\"incident_date\": \"2018-01\", \"Analysis Neighborhood\": \"Mission Bay\", \"count\": 3, \"incident_date_2\": \"2018-01\"}, {\"incident_date\": \"2018-10\", \"Analysis Neighborhood\": \"Mission Bay\", \"count\": 3, \"incident_date_2\": \"2018-10\"}, {\"incident_date\": \"2020-11\", \"Analysis Neighborhood\": \"Outer Mission\", \"count\": 3, \"incident_date_2\": \"2020-11\"}, {\"incident_date\": \"2022-08\", \"Analysis Neighborhood\": \"Potrero Hill\", \"count\": 3, \"incident_date_2\": \"2022-08\"}, {\"incident_date\": \"2023-03\", \"Analysis Neighborhood\": \"Financial District/South Beach\", \"count\": 3, \"incident_date_2\": \"2023-03\"}, {\"incident_date\": \"2020-11\", \"Analysis Neighborhood\": \"Noe Valley\", \"count\": 3, \"incident_date_2\": \"2020-11\"}, {\"incident_date\": \"2020-08\", \"Analysis Neighborhood\": \"Pacific Heights\", \"count\": 3, \"incident_date_2\": \"2020-08\"}, {\"incident_date\": \"2018-02\", \"Analysis Neighborhood\": \"Outer Richmond\", \"count\": 3, \"incident_date_2\": \"2018-02\"}, {\"incident_date\": \"2021-10\", \"Analysis Neighborhood\": \"Mission Bay\", \"count\": 3, \"incident_date_2\": \"2021-10\"}, {\"incident_date\": \"2018-10\", \"Analysis Neighborhood\": \"Outer Richmond\", \"count\": 3, \"incident_date_2\": \"2018-10\"}, {\"incident_date\": \"2020-08\", \"Analysis Neighborhood\": \"West of Twin Peaks\", \"count\": 3, \"incident_date_2\": \"2020-08\"}, {\"incident_date\": \"2018-12\", \"Analysis Neighborhood\": \"Twin Peaks\", \"count\": 3, \"incident_date_2\": \"2018-12\"}, {\"incident_date\": \"2022-01\", \"Analysis Neighborhood\": \"Financial District/South Beach\", \"count\": 3, \"incident_date_2\": \"2022-01\"}, {\"incident_date\": \"2018-12\", \"Analysis Neighborhood\": \"West of Twin Peaks\", \"count\": 3, \"incident_date_2\": \"2018-12\"}, {\"incident_date\": \"2020-11\", \"Analysis Neighborhood\": \"Financial District/South Beach\", \"count\": 3, \"incident_date_2\": \"2020-11\"}, {\"incident_date\": \"2022-12\", \"Analysis Neighborhood\": \"Western Addition\", \"count\": 3, \"incident_date_2\": \"2022-12\"}, {\"incident_date\": \"2018-11\", \"Analysis Neighborhood\": \"Oceanview/Merced/Ingleside\", \"count\": 3, \"incident_date_2\": \"2018-11\"}, {\"incident_date\": \"2022-11\", \"Analysis Neighborhood\": \"Russian Hill\", \"count\": 3, \"incident_date_2\": \"2022-11\"}, {\"incident_date\": \"2023-02\", \"Analysis Neighborhood\": \"Bernal Heights\", \"count\": 3, \"incident_date_2\": \"2023-02\"}, {\"incident_date\": \"2020-06\", \"Analysis Neighborhood\": \"Outer Richmond\", \"count\": 3, \"incident_date_2\": \"2020-06\"}, {\"incident_date\": \"2019-12\", \"Analysis Neighborhood\": \"North Beach\", \"count\": 3, \"incident_date_2\": \"2019-12\"}, {\"incident_date\": \"2019-12\", \"Analysis Neighborhood\": \"Potrero Hill\", \"count\": 3, \"incident_date_2\": \"2019-12\"}, {\"incident_date\": \"2019-12\", \"Analysis Neighborhood\": \"Russian Hill\", \"count\": 3, \"incident_date_2\": \"2019-12\"}, {\"incident_date\": \"2019-08\", \"Analysis Neighborhood\": \"Castro/Upper Market\", \"count\": 3, \"incident_date_2\": \"2019-08\"}, {\"incident_date\": \"2022-07\", \"Analysis Neighborhood\": \"Marina\", \"count\": 3, \"incident_date_2\": \"2022-07\"}, {\"incident_date\": \"2018-05\", \"Analysis Neighborhood\": \"North Beach\", \"count\": 3, \"incident_date_2\": \"2018-05\"}, {\"incident_date\": \"2022-12\", \"Analysis Neighborhood\": \"Glen Park\", \"count\": 3, \"incident_date_2\": \"2022-12\"}, {\"incident_date\": \"2018-05\", \"Analysis Neighborhood\": \"Mission Bay\", \"count\": 3, \"incident_date_2\": \"2018-05\"}, {\"incident_date\": \"2022-04\", \"Analysis Neighborhood\": \"Mission Bay\", \"count\": 3, \"incident_date_2\": \"2022-04\"}, {\"incident_date\": \"2022-11\", \"Analysis Neighborhood\": \"Golden Gate Park\", \"count\": 3, \"incident_date_2\": \"2022-11\"}, {\"incident_date\": \"2020-01\", \"Analysis Neighborhood\": \"Nob Hill\", \"count\": 3, \"incident_date_2\": \"2020-01\"}, {\"incident_date\": \"2019-12\", \"Analysis Neighborhood\": \"Nob Hill\", \"count\": 3, \"incident_date_2\": \"2019-12\"}, {\"incident_date\": \"2018-05\", \"Analysis Neighborhood\": \"Golden Gate Park\", \"count\": 3, \"incident_date_2\": \"2018-05\"}, {\"incident_date\": \"2020-01\", \"Analysis Neighborhood\": \"Outer Richmond\", \"count\": 3, \"incident_date_2\": \"2020-01\"}, {\"incident_date\": \"2018-05\", \"Analysis Neighborhood\": \"Excelsior\", \"count\": 3, \"incident_date_2\": \"2018-05\"}, {\"incident_date\": \"2021-04\", \"Analysis Neighborhood\": \"Nob Hill\", \"count\": 3, \"incident_date_2\": \"2021-04\"}, {\"incident_date\": \"2019-07\", \"Analysis Neighborhood\": \"Lakeshore\", \"count\": 3, \"incident_date_2\": \"2019-07\"}, {\"incident_date\": \"2018-08\", \"Analysis Neighborhood\": \"Bernal Heights\", \"count\": 3, \"incident_date_2\": \"2018-08\"}, {\"incident_date\": \"2019-04\", \"Analysis Neighborhood\": \"Golden Gate Park\", \"count\": 3, \"incident_date_2\": \"2019-04\"}, {\"incident_date\": \"2020-01\", \"Analysis Neighborhood\": \"Twin Peaks\", \"count\": 3, \"incident_date_2\": \"2020-01\"}, {\"incident_date\": \"2021-04\", \"Analysis Neighborhood\": \"Mission Bay\", \"count\": 3, \"incident_date_2\": \"2021-04\"}, {\"incident_date\": \"2021-04\", \"Analysis Neighborhood\": \"Marina\", \"count\": 3, \"incident_date_2\": \"2021-04\"}, {\"incident_date\": \"2018-08\", \"Analysis Neighborhood\": \"Excelsior\", \"count\": 3, \"incident_date_2\": \"2018-08\"}, {\"incident_date\": \"2019-07\", \"Analysis Neighborhood\": \"Chinatown\", \"count\": 3, \"incident_date_2\": \"2019-07\"}, {\"incident_date\": \"2022-04\", \"Analysis Neighborhood\": \"Nob Hill\", \"count\": 3, \"incident_date_2\": \"2022-04\"}, {\"incident_date\": \"2019-08\", \"Analysis Neighborhood\": \"North Beach\", \"count\": 3, \"incident_date_2\": \"2019-08\"}, {\"incident_date\": \"2019-12\", \"Analysis Neighborhood\": \"Marina\", \"count\": 3, \"incident_date_2\": \"2019-12\"}, {\"incident_date\": \"2019-08\", \"Analysis Neighborhood\": \"Pacific Heights\", \"count\": 3, \"incident_date_2\": \"2019-08\"}, {\"incident_date\": \"2018-06\", \"Analysis Neighborhood\": \"Western Addition\", \"count\": 3, \"incident_date_2\": \"2018-06\"}, {\"incident_date\": \"2019-09\", \"Analysis Neighborhood\": \"Western Addition\", \"count\": 3, \"incident_date_2\": \"2019-09\"}, {\"incident_date\": \"2019-10\", \"Analysis Neighborhood\": \"Mission Bay\", \"count\": 3, \"incident_date_2\": \"2019-10\"}, {\"incident_date\": \"2019-09\", \"Analysis Neighborhood\": \"West of Twin Peaks\", \"count\": 3, \"incident_date_2\": \"2019-09\"}, {\"incident_date\": \"2019-10\", \"Analysis Neighborhood\": \"Outer Mission\", \"count\": 3, \"incident_date_2\": \"2019-10\"}, {\"incident_date\": \"2019-09\", \"Analysis Neighborhood\": \"Sunset/Parkside\", \"count\": 3, \"incident_date_2\": \"2019-09\"}, {\"incident_date\": \"2018-07\", \"Analysis Neighborhood\": \"Bernal Heights\", \"count\": 3, \"incident_date_2\": \"2018-07\"}, {\"incident_date\": \"2018-07\", \"Analysis Neighborhood\": \"Chinatown\", \"count\": 3, \"incident_date_2\": \"2018-07\"}, {\"incident_date\": \"2022-11\", \"Analysis Neighborhood\": \"Outer Richmond\", \"count\": 3, \"incident_date_2\": \"2022-11\"}, {\"incident_date\": \"2019-10\", \"Analysis Neighborhood\": \"West of Twin Peaks\", \"count\": 3, \"incident_date_2\": \"2019-10\"}, {\"incident_date\": \"2019-09\", \"Analysis Neighborhood\": \"Mission Bay\", \"count\": 3, \"incident_date_2\": \"2019-09\"}, {\"incident_date\": \"2019-11\", \"Analysis Neighborhood\": \"Excelsior\", \"count\": 3, \"incident_date_2\": \"2019-11\"}, {\"incident_date\": \"2021-07\", \"Analysis Neighborhood\": \"Bayview Hunters Point\", \"count\": 3, \"incident_date_2\": \"2021-07\"}, {\"incident_date\": \"2022-03\", \"Analysis Neighborhood\": \"Western Addition\", \"count\": 3, \"incident_date_2\": \"2022-03\"}, {\"incident_date\": \"2021-07\", \"Analysis Neighborhood\": \"Financial District/South Beach\", \"count\": 3, \"incident_date_2\": \"2021-07\"}, {\"incident_date\": \"2021-07\", \"Analysis Neighborhood\": \"Haight Ashbury\", \"count\": 3, \"incident_date_2\": \"2021-07\"}, {\"incident_date\": \"2022-04\", \"Analysis Neighborhood\": \"Castro/Upper Market\", \"count\": 3, \"incident_date_2\": \"2022-04\"}, {\"incident_date\": \"2018-05\", \"Analysis Neighborhood\": \"Western Addition\", \"count\": 3, \"incident_date_2\": \"2018-05\"}, {\"incident_date\": \"2018-07\", \"Analysis Neighborhood\": \"Nob Hill\", \"count\": 3, \"incident_date_2\": \"2018-07\"}, {\"incident_date\": \"2021-05\", \"Analysis Neighborhood\": \"Mission Bay\", \"count\": 3, \"incident_date_2\": \"2021-05\"}, {\"incident_date\": \"2019-08\", \"Analysis Neighborhood\": \"Sunset/Parkside\", \"count\": 3, \"incident_date_2\": \"2019-08\"}, {\"incident_date\": \"2021-05\", \"Analysis Neighborhood\": \"Financial District/South Beach\", \"count\": 3, \"incident_date_2\": \"2021-05\"}, {\"incident_date\": \"2019-12\", \"Analysis Neighborhood\": \"Chinatown\", \"count\": 3, \"incident_date_2\": \"2019-12\"}, {\"incident_date\": \"2022-12\", \"Analysis Neighborhood\": \"Castro/Upper Market\", \"count\": 3, \"incident_date_2\": \"2022-12\"}, {\"incident_date\": \"2021-07\", \"Analysis Neighborhood\": \"North Beach\", \"count\": 3, \"incident_date_2\": \"2021-07\"}, {\"incident_date\": \"2018-08\", \"Analysis Neighborhood\": \"Glen Park\", \"count\": 3, \"incident_date_2\": \"2018-08\"}, {\"incident_date\": \"2021-04\", \"Analysis Neighborhood\": \"Financial District/South Beach\", \"count\": 3, \"incident_date_2\": \"2021-04\"}, {\"incident_date\": \"2021-12\", \"Analysis Neighborhood\": \"Financial District/South Beach\", \"count\": 3, \"incident_date_2\": \"2021-12\"}, {\"incident_date\": \"2020-02\", \"Analysis Neighborhood\": \"Hayes Valley\", \"count\": 3, \"incident_date_2\": \"2020-02\"}, {\"incident_date\": \"2022-02\", \"Analysis Neighborhood\": \"Mission Bay\", \"count\": 3, \"incident_date_2\": \"2022-02\"}, {\"incident_date\": \"2019-05\", \"Analysis Neighborhood\": \"Pacific Heights\", \"count\": 3, \"incident_date_2\": \"2019-05\"}, {\"incident_date\": \"2021-03\", \"Analysis Neighborhood\": \"Nob Hill\", \"count\": 3, \"incident_date_2\": \"2021-03\"}, {\"incident_date\": \"2019-05\", \"Analysis Neighborhood\": \"Outer Mission\", \"count\": 3, \"incident_date_2\": \"2019-05\"}, {\"incident_date\": \"2022-05\", \"Analysis Neighborhood\": \"Nob Hill\", \"count\": 3, \"incident_date_2\": \"2022-05\"}, {\"incident_date\": \"2018-09\", \"Analysis Neighborhood\": \"Hayes Valley\", \"count\": 3, \"incident_date_2\": \"2018-09\"}, {\"incident_date\": \"2020-05\", \"Analysis Neighborhood\": \"Castro/Upper Market\", \"count\": 3, \"incident_date_2\": \"2020-05\"}, {\"incident_date\": \"2023-02\", \"Analysis Neighborhood\": \"Pacific Heights\", \"count\": 3, \"incident_date_2\": \"2023-02\"}, {\"incident_date\": \"2018-03\", \"Analysis Neighborhood\": \"Sunset/Parkside\", \"count\": 3, \"incident_date_2\": \"2018-03\"}, {\"incident_date\": \"2023-02\", \"Analysis Neighborhood\": \"Sunset/Parkside\", \"count\": 3, \"incident_date_2\": \"2023-02\"}, {\"incident_date\": \"2022-02\", \"Analysis Neighborhood\": \"Financial District/South Beach\", \"count\": 3, \"incident_date_2\": \"2022-02\"}, {\"incident_date\": \"2022-09\", \"Analysis Neighborhood\": \"West of Twin Peaks\", \"count\": 3, \"incident_date_2\": \"2022-09\"}, {\"incident_date\": \"2021-03\", \"Analysis Neighborhood\": \"Inner Richmond\", \"count\": 3, \"incident_date_2\": \"2021-03\"}, {\"incident_date\": \"2019-04\", \"Analysis Neighborhood\": \"Russian Hill\", \"count\": 3, \"incident_date_2\": \"2019-04\"}, {\"incident_date\": \"2020-05\", \"Analysis Neighborhood\": \"Potrero Hill\", \"count\": 3, \"incident_date_2\": \"2020-05\"}, {\"incident_date\": \"2019-04\", \"Analysis Neighborhood\": \"Outer Mission\", \"count\": 3, \"incident_date_2\": \"2019-04\"}, {\"incident_date\": \"2018-03\", \"Analysis Neighborhood\": \"Outer Mission\", \"count\": 3, \"incident_date_2\": \"2018-03\"}, {\"incident_date\": \"2019-04\", \"Analysis Neighborhood\": \"Lone Mountain/USF\", \"count\": 3, \"incident_date_2\": \"2019-04\"}, {\"incident_date\": \"2020-06\", \"Analysis Neighborhood\": \"Haight Ashbury\", \"count\": 3, \"incident_date_2\": \"2020-06\"}, {\"incident_date\": \"2019-04\", \"Analysis Neighborhood\": \"Lakeshore\", \"count\": 3, \"incident_date_2\": \"2019-04\"}, {\"incident_date\": \"2022-01\", \"Analysis Neighborhood\": \"West of Twin Peaks\", \"count\": 3, \"incident_date_2\": \"2022-01\"}, {\"incident_date\": \"2021-03\", \"Analysis Neighborhood\": \"Castro/Upper Market\", \"count\": 3, \"incident_date_2\": \"2021-03\"}, {\"incident_date\": \"2018-09\", \"Analysis Neighborhood\": \"Visitacion Valley\", \"count\": 3, \"incident_date_2\": \"2018-09\"}, {\"incident_date\": \"2022-05\", \"Analysis Neighborhood\": \"Potrero Hill\", \"count\": 3, \"incident_date_2\": \"2022-05\"}, {\"incident_date\": \"2020-05\", \"Analysis Neighborhood\": \"North Beach\", \"count\": 3, \"incident_date_2\": \"2020-05\"}, {\"incident_date\": \"2022-02\", \"Analysis Neighborhood\": \"Nob Hill\", \"count\": 3, \"incident_date_2\": \"2022-02\"}, {\"incident_date\": \"2022-02\", \"Analysis Neighborhood\": \"Marina\", \"count\": 3, \"incident_date_2\": \"2022-02\"}, {\"incident_date\": \"2022-10\", \"Analysis Neighborhood\": \"Western Addition\", \"count\": 3, \"incident_date_2\": \"2022-10\"}, {\"incident_date\": \"2018-04\", \"Analysis Neighborhood\": \"Inner Richmond\", \"count\": 3, \"incident_date_2\": \"2018-04\"}, {\"incident_date\": \"2021-03\", \"Analysis Neighborhood\": \"Presidio Heights\", \"count\": 3, \"incident_date_2\": \"2021-03\"}, {\"incident_date\": \"2018-08\", \"Analysis Neighborhood\": \"Outer Mission\", \"count\": 3, \"incident_date_2\": \"2018-08\"}, {\"incident_date\": \"2018-04\", \"Analysis Neighborhood\": \"North Beach\", \"count\": 3, \"incident_date_2\": \"2018-04\"}, {\"incident_date\": \"2019-06\", \"Analysis Neighborhood\": \"Portola\", \"count\": 3, \"incident_date_2\": \"2019-06\"}, {\"incident_date\": \"2020-02\", \"Analysis Neighborhood\": \"Nob Hill\", \"count\": 3, \"incident_date_2\": \"2020-02\"}, {\"incident_date\": \"2019-06\", \"Analysis Neighborhood\": \"North Beach\", \"count\": 3, \"incident_date_2\": \"2019-06\"}, {\"incident_date\": \"2020-03\", \"Analysis Neighborhood\": \"Nob Hill\", \"count\": 3, \"incident_date_2\": \"2020-03\"}, {\"incident_date\": \"2020-02\", \"Analysis Neighborhood\": \"Mission Bay\", \"count\": 3, \"incident_date_2\": \"2020-02\"}, {\"incident_date\": \"2018-08\", \"Analysis Neighborhood\": \"North Beach\", \"count\": 3, \"incident_date_2\": \"2018-08\"}, {\"incident_date\": \"2021-09\", \"Analysis Neighborhood\": \"Chinatown\", \"count\": 3, \"incident_date_2\": \"2021-09\"}, {\"incident_date\": \"2020-03\", \"Analysis Neighborhood\": \"Potrero Hill\", \"count\": 3, \"incident_date_2\": \"2020-03\"}, {\"incident_date\": \"2023-02\", \"Analysis Neighborhood\": \"Outer Richmond\", \"count\": 3, \"incident_date_2\": \"2023-02\"}, {\"incident_date\": \"2020-03\", \"Analysis Neighborhood\": \"North Beach\", \"count\": 3, \"incident_date_2\": \"2020-03\"}, {\"incident_date\": \"2018-04\", \"Analysis Neighborhood\": \"Russian Hill\", \"count\": 3, \"incident_date_2\": \"2018-04\"}, {\"incident_date\": \"2022-03\", \"Analysis Neighborhood\": \"Nob Hill\", \"count\": 4, \"incident_date_2\": \"2022-03\"}, {\"incident_date\": \"2021-02\", \"Analysis Neighborhood\": \"Western Addition\", \"count\": 4, \"incident_date_2\": \"2021-02\"}, {\"incident_date\": \"2021-04\", \"Analysis Neighborhood\": \"Bayview Hunters Point\", \"count\": 4, \"incident_date_2\": \"2021-04\"}, {\"incident_date\": \"2022-09\", \"Analysis Neighborhood\": \"Bayview Hunters Point\", \"count\": 4, \"incident_date_2\": \"2022-09\"}, {\"incident_date\": \"2022-05\", \"Analysis Neighborhood\": \"Castro/Upper Market\", \"count\": 4, \"incident_date_2\": \"2022-05\"}, {\"incident_date\": \"2022-07\", \"Analysis Neighborhood\": \"Excelsior\", \"count\": 4, \"incident_date_2\": \"2022-07\"}, {\"incident_date\": \"2021-02\", \"Analysis Neighborhood\": \"Financial District/South Beach\", \"count\": 4, \"incident_date_2\": \"2021-02\"}, {\"incident_date\": \"2022-03\", \"Analysis Neighborhood\": \"McLaren Park\", \"count\": 4, \"incident_date_2\": \"2022-03\"}, {\"incident_date\": \"2021-09\", \"Analysis Neighborhood\": \"Bayview Hunters Point\", \"count\": 4, \"incident_date_2\": \"2021-09\"}, {\"incident_date\": \"2022-03\", \"Analysis Neighborhood\": \"Marina\", \"count\": 4, \"incident_date_2\": \"2022-03\"}, {\"incident_date\": \"2021-12\", \"Analysis Neighborhood\": \"Portola\", \"count\": 4, \"incident_date_2\": \"2021-12\"}, {\"incident_date\": \"2021-05\", \"Analysis Neighborhood\": \"Chinatown\", \"count\": 4, \"incident_date_2\": \"2021-05\"}, {\"incident_date\": \"2021-04\", \"Analysis Neighborhood\": \"Excelsior\", \"count\": 4, \"incident_date_2\": \"2021-04\"}, {\"incident_date\": \"2021-05\", \"Analysis Neighborhood\": \"Bayview Hunters Point\", \"count\": 4, \"incident_date_2\": \"2021-05\"}, {\"incident_date\": \"2021-08\", \"Analysis Neighborhood\": \"Castro/Upper Market\", \"count\": 4, \"incident_date_2\": \"2021-08\"}, {\"incident_date\": \"2021-09\", \"Analysis Neighborhood\": \"Western Addition\", \"count\": 4, \"incident_date_2\": \"2021-09\"}, {\"incident_date\": \"2021-01\", \"Analysis Neighborhood\": \"Castro/Upper Market\", \"count\": 4, \"incident_date_2\": \"2021-01\"}, {\"incident_date\": \"2022-08\", \"Analysis Neighborhood\": \"Bernal Heights\", \"count\": 4, \"incident_date_2\": \"2022-08\"}, {\"incident_date\": \"2021-03\", \"Analysis Neighborhood\": \"Potrero Hill\", \"count\": 4, \"incident_date_2\": \"2021-03\"}, {\"incident_date\": \"2021-10\", \"Analysis Neighborhood\": \"North Beach\", \"count\": 4, \"incident_date_2\": \"2021-10\"}, {\"incident_date\": \"2022-01\", \"Analysis Neighborhood\": \"Oceanview/Merced/Ingleside\", \"count\": 4, \"incident_date_2\": \"2022-01\"}, {\"incident_date\": \"2021-12\", \"Analysis Neighborhood\": \"Mission Bay\", \"count\": 4, \"incident_date_2\": \"2021-12\"}, {\"incident_date\": \"2021-07\", \"Analysis Neighborhood\": \"Castro/Upper Market\", \"count\": 4, \"incident_date_2\": \"2021-07\"}, {\"incident_date\": \"2021-11\", \"Analysis Neighborhood\": \"Bayview Hunters Point\", \"count\": 4, \"incident_date_2\": \"2021-11\"}, {\"incident_date\": \"2021-07\", \"Analysis Neighborhood\": \"Nob Hill\", \"count\": 4, \"incident_date_2\": \"2021-07\"}, {\"incident_date\": \"2021-01\", \"Analysis Neighborhood\": \"Western Addition\", \"count\": 4, \"incident_date_2\": \"2021-01\"}, {\"incident_date\": \"2019-12\", \"Analysis Neighborhood\": \"West of Twin Peaks\", \"count\": 4, \"incident_date_2\": \"2019-12\"}, {\"incident_date\": \"2018-05\", \"Analysis Neighborhood\": \"West of Twin Peaks\", \"count\": 4, \"incident_date_2\": \"2018-05\"}, {\"incident_date\": \"2018-10\", \"Analysis Neighborhood\": \"West of Twin Peaks\", \"count\": 4, \"incident_date_2\": \"2018-10\"}, {\"incident_date\": \"2019-02\", \"Analysis Neighborhood\": \"Castro/Upper Market\", \"count\": 4, \"incident_date_2\": \"2019-02\"}, {\"incident_date\": \"2018-04\", \"Analysis Neighborhood\": \"Western Addition\", \"count\": 4, \"incident_date_2\": \"2018-04\"}, {\"incident_date\": \"2018-04\", \"Analysis Neighborhood\": \"West of Twin Peaks\", \"count\": 4, \"incident_date_2\": \"2018-04\"}, {\"incident_date\": \"2018-04\", \"Analysis Neighborhood\": \"Visitacion Valley\", \"count\": 4, \"incident_date_2\": \"2018-04\"}, {\"incident_date\": \"2023-02\", \"Analysis Neighborhood\": \"North Beach\", \"count\": 4, \"incident_date_2\": \"2023-02\"}, {\"incident_date\": \"2023-02\", \"Analysis Neighborhood\": \"Outer Mission\", \"count\": 4, \"incident_date_2\": \"2023-02\"}, {\"incident_date\": \"2018-11\", \"Analysis Neighborhood\": \"Bayview Hunters Point\", \"count\": 4, \"incident_date_2\": \"2018-11\"}, {\"incident_date\": \"2018-04\", \"Analysis Neighborhood\": \"Potrero Hill\", \"count\": 4, \"incident_date_2\": \"2018-04\"}, {\"incident_date\": \"2019-08\", \"Analysis Neighborhood\": \"Western Addition\", \"count\": 4, \"incident_date_2\": \"2019-08\"}, {\"incident_date\": \"2018-11\", \"Analysis Neighborhood\": \"Bernal Heights\", \"count\": 4, \"incident_date_2\": \"2018-11\"}, {\"incident_date\": \"2018-04\", \"Analysis Neighborhood\": \"Chinatown\", \"count\": 4, \"incident_date_2\": \"2018-04\"}, {\"incident_date\": \"2020-04\", \"Analysis Neighborhood\": \"Financial District/South Beach\", \"count\": 4, \"incident_date_2\": \"2020-04\"}, {\"incident_date\": \"2019-08\", \"Analysis Neighborhood\": \"Russian Hill\", \"count\": 4, \"incident_date_2\": \"2019-08\"}, {\"incident_date\": \"2018-04\", \"Analysis Neighborhood\": \"Bayview Hunters Point\", \"count\": 4, \"incident_date_2\": \"2018-04\"}, {\"incident_date\": \"2019-11\", \"Analysis Neighborhood\": \"Lone Mountain/USF\", \"count\": 4, \"incident_date_2\": \"2019-11\"}, {\"incident_date\": \"2020-05\", \"Analysis Neighborhood\": \"Bayview Hunters Point\", \"count\": 4, \"incident_date_2\": \"2020-05\"}, {\"incident_date\": \"2019-04\", \"Analysis Neighborhood\": \"Potrero Hill\", \"count\": 4, \"incident_date_2\": \"2019-04\"}, {\"incident_date\": \"2019-04\", \"Analysis Neighborhood\": \"Portola\", \"count\": 4, \"incident_date_2\": \"2019-04\"}, {\"incident_date\": \"2020-02\", \"Analysis Neighborhood\": \"Marina\", \"count\": 4, \"incident_date_2\": \"2020-02\"}, {\"incident_date\": \"2018-03\", \"Analysis Neighborhood\": \"Castro/Upper Market\", \"count\": 4, \"incident_date_2\": \"2018-03\"}, {\"incident_date\": \"2020-02\", \"Analysis Neighborhood\": \"Excelsior\", \"count\": 4, \"incident_date_2\": \"2020-02\"}, {\"incident_date\": \"2018-10\", \"Analysis Neighborhood\": \"Outer Mission\", \"count\": 4, \"incident_date_2\": \"2018-10\"}, {\"incident_date\": \"2019-11\", \"Analysis Neighborhood\": \"Pacific Heights\", \"count\": 4, \"incident_date_2\": \"2019-11\"}, {\"incident_date\": \"2018-08\", \"Analysis Neighborhood\": \"Russian Hill\", \"count\": 4, \"incident_date_2\": \"2018-08\"}, {\"incident_date\": \"2019-11\", \"Analysis Neighborhood\": \"Russian Hill\", \"count\": 4, \"incident_date_2\": \"2019-11\"}, {\"incident_date\": \"2019-11\", \"Analysis Neighborhood\": \"West of Twin Peaks\", \"count\": 4, \"incident_date_2\": \"2019-11\"}, {\"incident_date\": \"2019-11\", \"Analysis Neighborhood\": \"Western Addition\", \"count\": 4, \"incident_date_2\": \"2019-11\"}, {\"incident_date\": \"2019-12\", \"Analysis Neighborhood\": \"Bayview Hunters Point\", \"count\": 4, \"incident_date_2\": \"2019-12\"}, {\"incident_date\": \"2019-03\", \"Analysis Neighborhood\": \"Excelsior\", \"count\": 4, \"incident_date_2\": \"2019-03\"}, {\"incident_date\": \"2019-10\", \"Analysis Neighborhood\": \"Nob Hill\", \"count\": 4, \"incident_date_2\": \"2019-10\"}, {\"incident_date\": \"2019-01\", \"Analysis Neighborhood\": \"Excelsior\", \"count\": 4, \"incident_date_2\": \"2019-01\"}, {\"incident_date\": \"2019-01\", \"Analysis Neighborhood\": \"Chinatown\", \"count\": 4, \"incident_date_2\": \"2019-01\"}, {\"incident_date\": \"2018-10\", \"Analysis Neighborhood\": \"Bernal Heights\", \"count\": 4, \"incident_date_2\": \"2018-10\"}, {\"incident_date\": \"2018-07\", \"Analysis Neighborhood\": \"Outer Richmond\", \"count\": 4, \"incident_date_2\": \"2018-07\"}, {\"incident_date\": \"2018-07\", \"Analysis Neighborhood\": \"Outer Mission\", \"count\": 4, \"incident_date_2\": \"2018-07\"}, {\"incident_date\": \"2018-07\", \"Analysis Neighborhood\": \"Marina\", \"count\": 4, \"incident_date_2\": \"2018-07\"}, {\"incident_date\": \"2019-01\", \"Analysis Neighborhood\": \"Outer Richmond\", \"count\": 4, \"incident_date_2\": \"2019-01\"}, {\"incident_date\": \"2018-10\", \"Analysis Neighborhood\": \"Excelsior\", \"count\": 4, \"incident_date_2\": \"2018-10\"}, {\"incident_date\": \"2018-07\", \"Analysis Neighborhood\": \"Financial District/South Beach\", \"count\": 4, \"incident_date_2\": \"2018-07\"}, {\"incident_date\": \"2018-06\", \"Analysis Neighborhood\": \"Haight Ashbury\", \"count\": 4, \"incident_date_2\": \"2018-06\"}, {\"incident_date\": \"2018-12\", \"Analysis Neighborhood\": \"Potrero Hill\", \"count\": 4, \"incident_date_2\": \"2018-12\"}, {\"incident_date\": \"2018-10\", \"Analysis Neighborhood\": \"Portola\", \"count\": 4, \"incident_date_2\": \"2018-10\"}, {\"incident_date\": \"2022-10\", \"Analysis Neighborhood\": \"Portola\", \"count\": 4, \"incident_date_2\": \"2022-10\"}, {\"incident_date\": \"2019-11\", \"Analysis Neighborhood\": \"Golden Gate Park\", \"count\": 4, \"incident_date_2\": \"2019-11\"}, {\"incident_date\": \"2023-02\", \"Analysis Neighborhood\": \"Western Addition\", \"count\": 4, \"incident_date_2\": \"2023-02\"}, {\"incident_date\": \"2019-02\", \"Analysis Neighborhood\": \"Visitacion Valley\", \"count\": 4, \"incident_date_2\": \"2019-02\"}, {\"incident_date\": \"2020-09\", \"Analysis Neighborhood\": \"Castro/Upper Market\", \"count\": 4, \"incident_date_2\": \"2020-09\"}, {\"incident_date\": \"2020-09\", \"Analysis Neighborhood\": \"Financial District/South Beach\", \"count\": 4, \"incident_date_2\": \"2020-09\"}, {\"incident_date\": \"2019-07\", \"Analysis Neighborhood\": \"Portola\", \"count\": 4, \"incident_date_2\": \"2019-07\"}, {\"incident_date\": \"2020-09\", \"Analysis Neighborhood\": \"Outer Mission\", \"count\": 4, \"incident_date_2\": \"2020-09\"}, {\"incident_date\": \"2019-06\", \"Analysis Neighborhood\": \"Western Addition\", \"count\": 4, \"incident_date_2\": \"2019-06\"}, {\"incident_date\": \"2018-01\", \"Analysis Neighborhood\": \"Golden Gate Park\", \"count\": 4, \"incident_date_2\": \"2018-01\"}, {\"incident_date\": \"2018-11\", \"Analysis Neighborhood\": \"Western Addition\", \"count\": 4, \"incident_date_2\": \"2018-11\"}, {\"incident_date\": \"2022-12\", \"Analysis Neighborhood\": \"Haight Ashbury\", \"count\": 4, \"incident_date_2\": \"2022-12\"}, {\"incident_date\": \"2020-10\", \"Analysis Neighborhood\": \"Golden Gate Park\", \"count\": 4, \"incident_date_2\": \"2020-10\"}, {\"incident_date\": \"2018-01\", \"Analysis Neighborhood\": \"Nob Hill\", \"count\": 4, \"incident_date_2\": \"2018-01\"}, {\"incident_date\": \"2020-10\", \"Analysis Neighborhood\": \"Outer Richmond\", \"count\": 4, \"incident_date_2\": \"2020-10\"}, {\"incident_date\": \"2018-01\", \"Analysis Neighborhood\": \"Japantown\", \"count\": 4, \"incident_date_2\": \"2018-01\"}, {\"incident_date\": \"2020-10\", \"Analysis Neighborhood\": \"Western Addition\", \"count\": 4, \"incident_date_2\": \"2020-10\"}, {\"incident_date\": \"2020-11\", \"Analysis Neighborhood\": \"Pacific Heights\", \"count\": 4, \"incident_date_2\": \"2020-11\"}, {\"incident_date\": \"2018-11\", \"Analysis Neighborhood\": \"North Beach\", \"count\": 4, \"incident_date_2\": \"2018-11\"}, {\"incident_date\": \"2019-07\", \"Analysis Neighborhood\": \"Potrero Hill\", \"count\": 4, \"incident_date_2\": \"2019-07\"}, {\"incident_date\": \"2020-09\", \"Analysis Neighborhood\": \"Bernal Heights\", \"count\": 4, \"incident_date_2\": \"2020-09\"}, {\"incident_date\": \"2018-01\", \"Analysis Neighborhood\": \"West of Twin Peaks\", \"count\": 4, \"incident_date_2\": \"2018-01\"}, {\"incident_date\": \"2019-04\", \"Analysis Neighborhood\": \"Oceanview/Merced/Ingleside\", \"count\": 4, \"incident_date_2\": \"2019-04\"}, {\"incident_date\": \"2020-07\", \"Analysis Neighborhood\": \"Financial District/South Beach\", \"count\": 4, \"incident_date_2\": \"2020-07\"}, {\"incident_date\": \"2020-07\", \"Analysis Neighborhood\": \"Marina\", \"count\": 4, \"incident_date_2\": \"2020-07\"}, {\"incident_date\": \"2018-02\", \"Analysis Neighborhood\": \"West of Twin Peaks\", \"count\": 4, \"incident_date_2\": \"2018-02\"}, {\"incident_date\": \"2019-08\", \"Analysis Neighborhood\": \"Chinatown\", \"count\": 4, \"incident_date_2\": \"2019-08\"}, {\"incident_date\": \"2023-03\", \"Analysis Neighborhood\": \"Haight Ashbury\", \"count\": 4, \"incident_date_2\": \"2023-03\"}, {\"incident_date\": \"2020-12\", \"Analysis Neighborhood\": \"Bernal Heights\", \"count\": 4, \"incident_date_2\": \"2020-12\"}, {\"incident_date\": \"2019-06\", \"Analysis Neighborhood\": \"West of Twin Peaks\", \"count\": 4, \"incident_date_2\": \"2019-06\"}, {\"incident_date\": \"2022-12\", \"Analysis Neighborhood\": \"Financial District/South Beach\", \"count\": 4, \"incident_date_2\": \"2022-12\"}, {\"incident_date\": \"2019-03\", \"Analysis Neighborhood\": \"Bernal Heights\", \"count\": 4, \"incident_date_2\": \"2019-03\"}, {\"incident_date\": \"2018-02\", \"Analysis Neighborhood\": \"Castro/Upper Market\", \"count\": 4, \"incident_date_2\": \"2018-02\"}, {\"incident_date\": \"2020-08\", \"Analysis Neighborhood\": \"Haight Ashbury\", \"count\": 4, \"incident_date_2\": \"2020-08\"}, {\"incident_date\": \"2020-08\", \"Analysis Neighborhood\": \"Outer Richmond\", \"count\": 4, \"incident_date_2\": \"2020-08\"}, {\"incident_date\": \"2019-07\", \"Analysis Neighborhood\": \"Bernal Heights\", \"count\": 4, \"incident_date_2\": \"2019-07\"}, {\"incident_date\": \"2018-09\", \"Analysis Neighborhood\": \"Sunset/Parkside\", \"count\": 5, \"incident_date_2\": \"2018-09\"}, {\"incident_date\": \"2018-09\", \"Analysis Neighborhood\": \"Outer Mission\", \"count\": 5, \"incident_date_2\": \"2018-09\"}, {\"incident_date\": \"2019-01\", \"Analysis Neighborhood\": \"Financial District/South Beach\", \"count\": 5, \"incident_date_2\": \"2019-01\"}, {\"incident_date\": \"2019-06\", \"Analysis Neighborhood\": \"Russian Hill\", \"count\": 5, \"incident_date_2\": \"2019-06\"}, {\"incident_date\": \"2018-12\", \"Analysis Neighborhood\": \"Financial District/South Beach\", \"count\": 5, \"incident_date_2\": \"2018-12\"}, {\"incident_date\": \"2019-01\", \"Analysis Neighborhood\": \"Nob Hill\", \"count\": 5, \"incident_date_2\": \"2019-01\"}, {\"incident_date\": \"2021-11\", \"Analysis Neighborhood\": \"North Beach\", \"count\": 5, \"incident_date_2\": \"2021-11\"}, {\"incident_date\": \"2019-06\", \"Analysis Neighborhood\": \"Haight Ashbury\", \"count\": 5, \"incident_date_2\": \"2019-06\"}, {\"incident_date\": \"2018-10\", \"Analysis Neighborhood\": \"Bayview Hunters Point\", \"count\": 5, \"incident_date_2\": \"2018-10\"}, {\"incident_date\": \"2018-12\", \"Analysis Neighborhood\": \"Castro/Upper Market\", \"count\": 5, \"incident_date_2\": \"2018-12\"}, {\"incident_date\": \"2018-12\", \"Analysis Neighborhood\": \"Bernal Heights\", \"count\": 5, \"incident_date_2\": \"2018-12\"}, {\"incident_date\": \"2019-07\", \"Analysis Neighborhood\": \"Marina\", \"count\": 5, \"incident_date_2\": \"2019-07\"}, {\"incident_date\": \"2018-11\", \"Analysis Neighborhood\": \"Chinatown\", \"count\": 5, \"incident_date_2\": \"2018-11\"}, {\"incident_date\": \"2018-10\", \"Analysis Neighborhood\": \"Potrero Hill\", \"count\": 5, \"incident_date_2\": \"2018-10\"}, {\"incident_date\": \"2022-01\", \"Analysis Neighborhood\": \"Castro/Upper Market\", \"count\": 5, \"incident_date_2\": \"2022-01\"}, {\"incident_date\": \"2019-09\", \"Analysis Neighborhood\": \"Castro/Upper Market\", \"count\": 5, \"incident_date_2\": \"2019-09\"}, {\"incident_date\": \"2019-08\", \"Analysis Neighborhood\": \"West of Twin Peaks\", \"count\": 5, \"incident_date_2\": \"2019-08\"}, {\"incident_date\": \"2018-11\", \"Analysis Neighborhood\": \"Nob Hill\", \"count\": 5, \"incident_date_2\": \"2018-11\"}, {\"incident_date\": \"2022-08\", \"Analysis Neighborhood\": \"Marina\", \"count\": 5, \"incident_date_2\": \"2022-08\"}, {\"incident_date\": \"2018-12\", \"Analysis Neighborhood\": \"North Beach\", \"count\": 5, \"incident_date_2\": \"2018-12\"}, {\"incident_date\": \"2019-08\", \"Analysis Neighborhood\": \"Outer Richmond\", \"count\": 5, \"incident_date_2\": \"2019-08\"}, {\"incident_date\": \"2018-11\", \"Analysis Neighborhood\": \"Financial District/South Beach\", \"count\": 5, \"incident_date_2\": \"2018-11\"}, {\"incident_date\": \"2021-11\", \"Analysis Neighborhood\": \"Western Addition\", \"count\": 5, \"incident_date_2\": \"2021-11\"}, {\"incident_date\": \"2022-08\", \"Analysis Neighborhood\": \"Nob Hill\", \"count\": 5, \"incident_date_2\": \"2022-08\"}, {\"incident_date\": \"2021-10\", \"Analysis Neighborhood\": \"Hayes Valley\", \"count\": 5, \"incident_date_2\": \"2021-10\"}, {\"incident_date\": \"2018-09\", \"Analysis Neighborhood\": \"Bernal Heights\", \"count\": 5, \"incident_date_2\": \"2018-09\"}, {\"incident_date\": \"2018-03\", \"Analysis Neighborhood\": \"Nob Hill\", \"count\": 5, \"incident_date_2\": \"2018-03\"}, {\"incident_date\": \"2020-06\", \"Analysis Neighborhood\": \"Castro/Upper Market\", \"count\": 5, \"incident_date_2\": \"2020-06\"}, {\"incident_date\": \"2018-02\", \"Analysis Neighborhood\": \"Western Addition\", \"count\": 5, \"incident_date_2\": \"2018-02\"}, {\"incident_date\": \"2022-06\", \"Analysis Neighborhood\": \"Financial District/South Beach\", \"count\": 5, \"incident_date_2\": \"2022-06\"}, {\"incident_date\": \"2021-10\", \"Analysis Neighborhood\": \"Western Addition\", \"count\": 5, \"incident_date_2\": \"2021-10\"}, {\"incident_date\": \"2018-02\", \"Analysis Neighborhood\": \"North Beach\", \"count\": 5, \"incident_date_2\": \"2018-02\"}, {\"incident_date\": \"2019-02\", \"Analysis Neighborhood\": \"Nob Hill\", \"count\": 5, \"incident_date_2\": \"2019-02\"}, {\"incident_date\": \"2021-02\", \"Analysis Neighborhood\": \"Marina\", \"count\": 5, \"incident_date_2\": \"2021-02\"}, {\"incident_date\": \"2020-09\", \"Analysis Neighborhood\": \"Bayview Hunters Point\", \"count\": 5, \"incident_date_2\": \"2020-09\"}, {\"incident_date\": \"2020-09\", \"Analysis Neighborhood\": \"Nob Hill\", \"count\": 5, \"incident_date_2\": \"2020-09\"}, {\"incident_date\": \"2021-02\", \"Analysis Neighborhood\": \"Castro/Upper Market\", \"count\": 5, \"incident_date_2\": \"2021-02\"}, {\"incident_date\": \"2023-03\", \"Analysis Neighborhood\": \"Mission\", \"count\": 5, \"incident_date_2\": \"2023-03\"}, {\"incident_date\": \"2018-01\", \"Analysis Neighborhood\": \"Outer Mission\", \"count\": 5, \"incident_date_2\": \"2018-01\"}, {\"incident_date\": \"2020-10\", \"Analysis Neighborhood\": \"Nob Hill\", \"count\": 5, \"incident_date_2\": \"2020-10\"}, {\"incident_date\": \"2020-11\", \"Analysis Neighborhood\": \"Castro/Upper Market\", \"count\": 5, \"incident_date_2\": \"2020-11\"}, {\"incident_date\": \"2022-07\", \"Analysis Neighborhood\": \"Bernal Heights\", \"count\": 5, \"incident_date_2\": \"2022-07\"}, {\"incident_date\": \"2020-11\", \"Analysis Neighborhood\": \"North Beach\", \"count\": 5, \"incident_date_2\": \"2020-11\"}, {\"incident_date\": \"2021-10\", \"Analysis Neighborhood\": \"Nob Hill\", \"count\": 5, \"incident_date_2\": \"2021-10\"}, {\"incident_date\": \"2019-03\", \"Analysis Neighborhood\": \"North Beach\", \"count\": 5, \"incident_date_2\": \"2019-03\"}, {\"incident_date\": \"2018-01\", \"Analysis Neighborhood\": \"Castro/Upper Market\", \"count\": 5, \"incident_date_2\": \"2018-01\"}, {\"incident_date\": \"2020-12\", \"Analysis Neighborhood\": \"Western Addition\", \"count\": 5, \"incident_date_2\": \"2020-12\"}, {\"incident_date\": \"2018-03\", \"Analysis Neighborhood\": \"Russian Hill\", \"count\": 5, \"incident_date_2\": \"2018-03\"}, {\"incident_date\": \"2018-09\", \"Analysis Neighborhood\": \"Excelsior\", \"count\": 5, \"incident_date_2\": \"2018-09\"}, {\"incident_date\": \"2020-04\", \"Analysis Neighborhood\": \"Nob Hill\", \"count\": 5, \"incident_date_2\": \"2020-04\"}, {\"incident_date\": \"2019-02\", \"Analysis Neighborhood\": \"Chinatown\", \"count\": 5, \"incident_date_2\": \"2019-02\"}, {\"incident_date\": \"2018-08\", \"Analysis Neighborhood\": \"Visitacion Valley\", \"count\": 5, \"incident_date_2\": \"2018-08\"}, {\"incident_date\": \"2022-11\", \"Analysis Neighborhood\": \"Nob Hill\", \"count\": 5, \"incident_date_2\": \"2022-11\"}, {\"incident_date\": \"2018-08\", \"Analysis Neighborhood\": \"Chinatown\", \"count\": 5, \"incident_date_2\": \"2018-08\"}, {\"incident_date\": \"2018-07\", \"Analysis Neighborhood\": \"Western Addition\", \"count\": 5, \"incident_date_2\": \"2018-07\"}, {\"incident_date\": \"2019-12\", \"Analysis Neighborhood\": \"Financial District/South Beach\", \"count\": 5, \"incident_date_2\": \"2019-12\"}, {\"incident_date\": \"2019-12\", \"Analysis Neighborhood\": \"Hayes Valley\", \"count\": 5, \"incident_date_2\": \"2019-12\"}, {\"incident_date\": \"2023-02\", \"Analysis Neighborhood\": \"Financial District/South Beach\", \"count\": 5, \"incident_date_2\": \"2023-02\"}, {\"incident_date\": \"2019-05\", \"Analysis Neighborhood\": \"Outer Richmond\", \"count\": 5, \"incident_date_2\": \"2019-05\"}, {\"incident_date\": \"2019-05\", \"Analysis Neighborhood\": \"Nob Hill\", \"count\": 5, \"incident_date_2\": \"2019-05\"}, {\"incident_date\": \"2021-04\", \"Analysis Neighborhood\": \"Visitacion Valley\", \"count\": 5, \"incident_date_2\": \"2021-04\"}, {\"incident_date\": \"2018-04\", \"Analysis Neighborhood\": \"Castro/Upper Market\", \"count\": 5, \"incident_date_2\": \"2018-04\"}, {\"incident_date\": \"2018-12\", \"Analysis Neighborhood\": \"Nob Hill\", \"count\": 5, \"incident_date_2\": \"2018-12\"}, {\"incident_date\": \"2018-12\", \"Analysis Neighborhood\": \"Haight Ashbury\", \"count\": 5, \"incident_date_2\": \"2018-12\"}, {\"incident_date\": \"2018-05\", \"Analysis Neighborhood\": \"Lone Mountain/USF\", \"count\": 5, \"incident_date_2\": \"2018-05\"}, {\"incident_date\": \"2020-02\", \"Analysis Neighborhood\": \"Financial District/South Beach\", \"count\": 5, \"incident_date_2\": \"2020-02\"}, {\"incident_date\": \"2020-02\", \"Analysis Neighborhood\": \"Haight Ashbury\", \"count\": 5, \"incident_date_2\": \"2020-02\"}, {\"incident_date\": \"2020-02\", \"Analysis Neighborhood\": \"North Beach\", \"count\": 5, \"incident_date_2\": \"2020-02\"}, {\"incident_date\": \"2021-03\", \"Analysis Neighborhood\": \"Russian Hill\", \"count\": 5, \"incident_date_2\": \"2021-03\"}, {\"incident_date\": \"2022-05\", \"Analysis Neighborhood\": \"Excelsior\", \"count\": 5, \"incident_date_2\": \"2022-05\"}, {\"incident_date\": \"2018-04\", \"Analysis Neighborhood\": \"Mission Bay\", \"count\": 5, \"incident_date_2\": \"2018-04\"}, {\"incident_date\": \"2020-01\", \"Analysis Neighborhood\": \"Mission Bay\", \"count\": 5, \"incident_date_2\": \"2020-01\"}, {\"incident_date\": \"2023-01\", \"Analysis Neighborhood\": \"Castro/Upper Market\", \"count\": 6, \"incident_date_2\": \"2023-01\"}, {\"incident_date\": \"2019-01\", \"Analysis Neighborhood\": \"Western Addition\", \"count\": 6, \"incident_date_2\": \"2019-01\"}, {\"incident_date\": \"2019-02\", \"Analysis Neighborhood\": \"Sunset/Parkside\", \"count\": 6, \"incident_date_2\": \"2019-02\"}, {\"incident_date\": \"2022-03\", \"Analysis Neighborhood\": \"Bayview Hunters Point\", \"count\": 6, \"incident_date_2\": \"2022-03\"}, {\"incident_date\": \"2018-11\", \"Analysis Neighborhood\": \"Golden Gate Park\", \"count\": 6, \"incident_date_2\": \"2018-11\"}, {\"incident_date\": \"2018-01\", \"Analysis Neighborhood\": \"Excelsior\", \"count\": 6, \"incident_date_2\": \"2018-01\"}, {\"incident_date\": \"2018-01\", \"Analysis Neighborhood\": \"Financial District/South Beach\", \"count\": 6, \"incident_date_2\": \"2018-01\"}, {\"incident_date\": \"2018-01\", \"Analysis Neighborhood\": \"Haight Ashbury\", \"count\": 6, \"incident_date_2\": \"2018-01\"}, {\"incident_date\": \"2022-06\", \"Analysis Neighborhood\": \"Western Addition\", \"count\": 6, \"incident_date_2\": \"2022-06\"}, {\"incident_date\": \"2018-01\", \"Analysis Neighborhood\": \"Sunset/Parkside\", \"count\": 6, \"incident_date_2\": \"2018-01\"}, {\"incident_date\": \"2018-02\", \"Analysis Neighborhood\": \"Chinatown\", \"count\": 6, \"incident_date_2\": \"2018-02\"}, {\"incident_date\": \"2018-02\", \"Analysis Neighborhood\": \"Sunset/Parkside\", \"count\": 6, \"incident_date_2\": \"2018-02\"}, {\"incident_date\": \"2022-06\", \"Analysis Neighborhood\": \"Bayview Hunters Point\", \"count\": 6, \"incident_date_2\": \"2022-06\"}, {\"incident_date\": \"2018-03\", \"Analysis Neighborhood\": \"Excelsior\", \"count\": 6, \"incident_date_2\": \"2018-03\"}, {\"incident_date\": \"2018-03\", \"Analysis Neighborhood\": \"Hayes Valley\", \"count\": 6, \"incident_date_2\": \"2018-03\"}, {\"incident_date\": \"2018-04\", \"Analysis Neighborhood\": \"Excelsior\", \"count\": 6, \"incident_date_2\": \"2018-04\"}, {\"incident_date\": \"2018-05\", \"Analysis Neighborhood\": \"Castro/Upper Market\", \"count\": 6, \"incident_date_2\": \"2018-05\"}, {\"incident_date\": \"2018-05\", \"Analysis Neighborhood\": \"Financial District/South Beach\", \"count\": 6, \"incident_date_2\": \"2018-05\"}, {\"incident_date\": \"2018-05\", \"Analysis Neighborhood\": \"Haight Ashbury\", \"count\": 6, \"incident_date_2\": \"2018-05\"}, {\"incident_date\": \"2018-07\", \"Analysis Neighborhood\": \"Haight Ashbury\", \"count\": 6, \"incident_date_2\": \"2018-07\"}, {\"incident_date\": \"2022-03\", \"Analysis Neighborhood\": \"Excelsior\", \"count\": 6, \"incident_date_2\": \"2022-03\"}, {\"incident_date\": \"2022-03\", \"Analysis Neighborhood\": \"Castro/Upper Market\", \"count\": 6, \"incident_date_2\": \"2022-03\"}, {\"incident_date\": \"2018-09\", \"Analysis Neighborhood\": \"Nob Hill\", \"count\": 6, \"incident_date_2\": \"2018-09\"}, {\"incident_date\": \"2023-02\", \"Analysis Neighborhood\": \"Bayview Hunters Point\", \"count\": 6, \"incident_date_2\": \"2023-02\"}, {\"incident_date\": \"2022-02\", \"Analysis Neighborhood\": \"Bayview Hunters Point\", \"count\": 6, \"incident_date_2\": \"2022-02\"}, {\"incident_date\": \"2023-01\", \"Analysis Neighborhood\": \"Western Addition\", \"count\": 6, \"incident_date_2\": \"2023-01\"}, {\"incident_date\": \"2018-09\", \"Analysis Neighborhood\": \"Western Addition\", \"count\": 6, \"incident_date_2\": \"2018-09\"}, {\"incident_date\": \"2018-10\", \"Analysis Neighborhood\": \"North Beach\", \"count\": 6, \"incident_date_2\": \"2018-10\"}, {\"incident_date\": \"2018-11\", \"Analysis Neighborhood\": \"Potrero Hill\", \"count\": 6, \"incident_date_2\": \"2018-11\"}, {\"incident_date\": \"2019-03\", \"Analysis Neighborhood\": \"Inner Richmond\", \"count\": 6, \"incident_date_2\": \"2019-03\"}, {\"incident_date\": \"2022-07\", \"Analysis Neighborhood\": \"Mission Bay\", \"count\": 6, \"incident_date_2\": \"2022-07\"}, {\"incident_date\": \"2020-03\", \"Analysis Neighborhood\": \"Haight Ashbury\", \"count\": 6, \"incident_date_2\": \"2020-03\"}, {\"incident_date\": \"2019-12\", \"Analysis Neighborhood\": \"Western Addition\", \"count\": 6, \"incident_date_2\": \"2019-12\"}, {\"incident_date\": \"2020-01\", \"Analysis Neighborhood\": \"Golden Gate Park\", \"count\": 6, \"incident_date_2\": \"2020-01\"}, {\"incident_date\": \"2019-11\", \"Analysis Neighborhood\": \"Marina\", \"count\": 6, \"incident_date_2\": \"2019-11\"}, {\"incident_date\": \"2019-08\", \"Analysis Neighborhood\": \"Haight Ashbury\", \"count\": 6, \"incident_date_2\": \"2019-08\"}, {\"incident_date\": \"2019-08\", \"Analysis Neighborhood\": \"Nob Hill\", \"count\": 6, \"incident_date_2\": \"2019-08\"}, {\"incident_date\": \"2019-12\", \"Analysis Neighborhood\": \"Castro/Upper Market\", \"count\": 6, \"incident_date_2\": \"2019-12\"}, {\"incident_date\": \"2019-09\", \"Analysis Neighborhood\": \"Bernal Heights\", \"count\": 6, \"incident_date_2\": \"2019-09\"}, {\"incident_date\": \"2020-07\", \"Analysis Neighborhood\": \"Nob Hill\", \"count\": 6, \"incident_date_2\": \"2020-07\"}, {\"incident_date\": \"2020-02\", \"Analysis Neighborhood\": \"Golden Gate Park\", \"count\": 6, \"incident_date_2\": \"2020-02\"}, {\"incident_date\": \"2021-01\", \"Analysis Neighborhood\": \"Financial District/South Beach\", \"count\": 6, \"incident_date_2\": \"2021-01\"}, {\"incident_date\": \"2019-05\", \"Analysis Neighborhood\": \"Haight Ashbury\", \"count\": 6, \"incident_date_2\": \"2019-05\"}, {\"incident_date\": \"2019-11\", \"Analysis Neighborhood\": \"Bayview Hunters Point\", \"count\": 6, \"incident_date_2\": \"2019-11\"}, {\"incident_date\": \"2020-03\", \"Analysis Neighborhood\": \"Financial District/South Beach\", \"count\": 6, \"incident_date_2\": \"2020-03\"}, {\"incident_date\": \"2021-10\", \"Analysis Neighborhood\": \"Castro/Upper Market\", \"count\": 6, \"incident_date_2\": \"2021-10\"}, {\"incident_date\": \"2019-03\", \"Analysis Neighborhood\": \"Western Addition\", \"count\": 6, \"incident_date_2\": \"2019-03\"}, {\"incident_date\": \"2020-03\", \"Analysis Neighborhood\": \"Bayview Hunters Point\", \"count\": 6, \"incident_date_2\": \"2020-03\"}, {\"incident_date\": \"2020-02\", \"Analysis Neighborhood\": \"West of Twin Peaks\", \"count\": 6, \"incident_date_2\": \"2020-02\"}, {\"incident_date\": \"2019-07\", \"Analysis Neighborhood\": \"Castro/Upper Market\", \"count\": 6, \"incident_date_2\": \"2019-07\"}, {\"incident_date\": \"2018-10\", \"Analysis Neighborhood\": \"Castro/Upper Market\", \"count\": 7, \"incident_date_2\": \"2018-10\"}, {\"incident_date\": \"2019-07\", \"Analysis Neighborhood\": \"Mission Bay\", \"count\": 7, \"incident_date_2\": \"2019-07\"}, {\"incident_date\": \"2020-09\", \"Analysis Neighborhood\": \"Western Addition\", \"count\": 7, \"incident_date_2\": \"2020-09\"}, {\"incident_date\": \"2022-09\", \"Analysis Neighborhood\": \"Nob Hill\", \"count\": 7, \"incident_date_2\": \"2022-09\"}, {\"incident_date\": \"2022-08\", \"Analysis Neighborhood\": \"Outer Mission\", \"count\": 7, \"incident_date_2\": \"2022-08\"}, {\"incident_date\": \"2021-08\", \"Analysis Neighborhood\": \"Bayview Hunters Point\", \"count\": 7, \"incident_date_2\": \"2021-08\"}, {\"incident_date\": \"2019-07\", \"Analysis Neighborhood\": \"Sunset/Parkside\", \"count\": 7, \"incident_date_2\": \"2019-07\"}, {\"incident_date\": \"2018-11\", \"Analysis Neighborhood\": \"Mission Bay\", \"count\": 7, \"incident_date_2\": \"2018-11\"}, {\"incident_date\": \"2023-01\", \"Analysis Neighborhood\": \"Outer Mission\", \"count\": 7, \"incident_date_2\": \"2023-01\"}, {\"incident_date\": \"2018-11\", \"Analysis Neighborhood\": \"Haight Ashbury\", \"count\": 7, \"incident_date_2\": \"2018-11\"}, {\"incident_date\": \"2018-02\", \"Analysis Neighborhood\": \"Golden Gate Park\", \"count\": 7, \"incident_date_2\": \"2018-02\"}, {\"incident_date\": \"2020-08\", \"Analysis Neighborhood\": \"Western Addition\", \"count\": 7, \"incident_date_2\": \"2020-08\"}, {\"incident_date\": \"2019-08\", \"Analysis Neighborhood\": \"Golden Gate Park\", \"count\": 7, \"incident_date_2\": \"2019-08\"}, {\"incident_date\": \"2021-06\", \"Analysis Neighborhood\": \"Financial District/South Beach\", \"count\": 7, \"incident_date_2\": \"2021-06\"}, {\"incident_date\": \"2019-10\", \"Analysis Neighborhood\": \"Bayview Hunters Point\", \"count\": 7, \"incident_date_2\": \"2019-10\"}, {\"incident_date\": \"2022-12\", \"Analysis Neighborhood\": \"Bayview Hunters Point\", \"count\": 7, \"incident_date_2\": \"2022-12\"}, {\"incident_date\": \"2019-09\", \"Analysis Neighborhood\": \"Bayview Hunters Point\", \"count\": 7, \"incident_date_2\": \"2019-09\"}, {\"incident_date\": \"2018-10\", \"Analysis Neighborhood\": \"Western Addition\", \"count\": 7, \"incident_date_2\": \"2018-10\"}, {\"incident_date\": \"2022-02\", \"Analysis Neighborhood\": \"Mission\", \"count\": 7, \"incident_date_2\": \"2022-02\"}, {\"incident_date\": \"2018-09\", \"Analysis Neighborhood\": \"Castro/Upper Market\", \"count\": 7, \"incident_date_2\": \"2018-09\"}, {\"incident_date\": \"2019-09\", \"Analysis Neighborhood\": \"Chinatown\", \"count\": 7, \"incident_date_2\": \"2019-09\"}, {\"incident_date\": \"2021-06\", \"Analysis Neighborhood\": \"Bayview Hunters Point\", \"count\": 7, \"incident_date_2\": \"2021-06\"}, {\"incident_date\": \"2019-12\", \"Analysis Neighborhood\": \"Haight Ashbury\", \"count\": 7, \"incident_date_2\": \"2019-12\"}, {\"incident_date\": \"2022-02\", \"Analysis Neighborhood\": \"Western Addition\", \"count\": 7, \"incident_date_2\": \"2022-02\"}, {\"incident_date\": \"2022-05\", \"Analysis Neighborhood\": \"Financial District/South Beach\", \"count\": 7, \"incident_date_2\": \"2022-05\"}, {\"incident_date\": \"2021-01\", \"Analysis Neighborhood\": \"Bayview Hunters Point\", \"count\": 7, \"incident_date_2\": \"2021-01\"}, {\"incident_date\": \"2020-02\", \"Analysis Neighborhood\": \"Western Addition\", \"count\": 7, \"incident_date_2\": \"2020-02\"}, {\"incident_date\": \"2019-02\", \"Analysis Neighborhood\": \"Outer Mission\", \"count\": 7, \"incident_date_2\": \"2019-02\"}, {\"incident_date\": \"2020-02\", \"Analysis Neighborhood\": \"Bayview Hunters Point\", \"count\": 7, \"incident_date_2\": \"2020-02\"}, {\"incident_date\": \"2018-05\", \"Analysis Neighborhood\": \"Hayes Valley\", \"count\": 7, \"incident_date_2\": \"2018-05\"}, {\"incident_date\": \"2019-05\", \"Analysis Neighborhood\": \"Bayview Hunters Point\", \"count\": 7, \"incident_date_2\": \"2019-05\"}, {\"incident_date\": \"2018-05\", \"Analysis Neighborhood\": \"Portola\", \"count\": 7, \"incident_date_2\": \"2018-05\"}, {\"incident_date\": \"2022-04\", \"Analysis Neighborhood\": \"Financial District/South Beach\", \"count\": 7, \"incident_date_2\": \"2022-04\"}, {\"incident_date\": \"2018-06\", \"Analysis Neighborhood\": \"Bayview Hunters Point\", \"count\": 7, \"incident_date_2\": \"2018-06\"}, {\"incident_date\": \"2018-06\", \"Analysis Neighborhood\": \"Castro/Upper Market\", \"count\": 7, \"incident_date_2\": \"2018-06\"}, {\"incident_date\": \"2020-05\", \"Analysis Neighborhood\": \"Nob Hill\", \"count\": 7, \"incident_date_2\": \"2020-05\"}, {\"incident_date\": \"2020-04\", \"Analysis Neighborhood\": \"Mission\", \"count\": 7, \"incident_date_2\": \"2020-04\"}, {\"incident_date\": \"2021-09\", \"Analysis Neighborhood\": \"Castro/Upper Market\", \"count\": 7, \"incident_date_2\": \"2021-09\"}, {\"incident_date\": \"2018-03\", \"Analysis Neighborhood\": \"Haight Ashbury\", \"count\": 7, \"incident_date_2\": \"2018-03\"}, {\"incident_date\": \"2022-03\", \"Analysis Neighborhood\": \"Financial District/South Beach\", \"count\": 7, \"incident_date_2\": \"2022-03\"}, {\"incident_date\": \"2022-03\", \"Analysis Neighborhood\": \"Haight Ashbury\", \"count\": 7, \"incident_date_2\": \"2022-03\"}, {\"incident_date\": \"2019-01\", \"Analysis Neighborhood\": \"Bayview Hunters Point\", \"count\": 7, \"incident_date_2\": \"2019-01\"}, {\"incident_date\": \"2020-05\", \"Analysis Neighborhood\": \"Mission\", \"count\": 7, \"incident_date_2\": \"2020-05\"}, {\"incident_date\": \"2018-09\", \"Analysis Neighborhood\": \"West of Twin Peaks\", \"count\": 7, \"incident_date_2\": \"2018-09\"}, {\"incident_date\": \"2020-01\", \"Analysis Neighborhood\": \"North Beach\", \"count\": 7, \"incident_date_2\": \"2020-01\"}, {\"incident_date\": \"2019-05\", \"Analysis Neighborhood\": \"West of Twin Peaks\", \"count\": 7, \"incident_date_2\": \"2019-05\"}, {\"incident_date\": \"2019-05\", \"Analysis Neighborhood\": \"Western Addition\", \"count\": 7, \"incident_date_2\": \"2019-05\"}, {\"incident_date\": \"2022-04\", \"Analysis Neighborhood\": \"Bayview Hunters Point\", \"count\": 8, \"incident_date_2\": \"2022-04\"}, {\"incident_date\": \"2020-04\", \"Analysis Neighborhood\": \"Bayview Hunters Point\", \"count\": 8, \"incident_date_2\": \"2020-04\"}, {\"incident_date\": \"2018-03\", \"Analysis Neighborhood\": \"North Beach\", \"count\": 8, \"incident_date_2\": \"2018-03\"}, {\"incident_date\": \"2020-03\", \"Analysis Neighborhood\": \"Western Addition\", \"count\": 8, \"incident_date_2\": \"2020-03\"}, {\"incident_date\": \"2019-11\", \"Analysis Neighborhood\": \"Castro/Upper Market\", \"count\": 8, \"incident_date_2\": \"2019-11\"}, {\"incident_date\": \"2020-06\", \"Analysis Neighborhood\": \"Mission\", \"count\": 8, \"incident_date_2\": \"2020-06\"}, {\"incident_date\": \"2021-05\", \"Analysis Neighborhood\": \"South of Market\", \"count\": 8, \"incident_date_2\": \"2021-05\"}, {\"incident_date\": \"2021-10\", \"Analysis Neighborhood\": \"Financial District/South Beach\", \"count\": 8, \"incident_date_2\": \"2021-10\"}, {\"incident_date\": \"2019-10\", \"Analysis Neighborhood\": \"Hayes Valley\", \"count\": 8, \"incident_date_2\": \"2019-10\"}, {\"incident_date\": \"2018-03\", \"Analysis Neighborhood\": \"West of Twin Peaks\", \"count\": 8, \"incident_date_2\": \"2018-03\"}, {\"incident_date\": \"2022-09\", \"Analysis Neighborhood\": \"Western Addition\", \"count\": 8, \"incident_date_2\": \"2022-09\"}, {\"incident_date\": \"2021-02\", \"Analysis Neighborhood\": \"Bayview Hunters Point\", \"count\": 8, \"incident_date_2\": \"2021-02\"}, {\"incident_date\": \"2022-10\", \"Analysis Neighborhood\": \"Bayview Hunters Point\", \"count\": 8, \"incident_date_2\": \"2022-10\"}, {\"incident_date\": \"2019-05\", \"Analysis Neighborhood\": \"Financial District/South Beach\", \"count\": 8, \"incident_date_2\": \"2019-05\"}, {\"incident_date\": \"2020-11\", \"Analysis Neighborhood\": \"Mission\", \"count\": 8, \"incident_date_2\": \"2020-11\"}, {\"incident_date\": \"2019-02\", \"Analysis Neighborhood\": \"Haight Ashbury\", \"count\": 8, \"incident_date_2\": \"2019-02\"}, {\"incident_date\": \"2022-07\", \"Analysis Neighborhood\": \"Bayview Hunters Point\", \"count\": 8, \"incident_date_2\": \"2022-07\"}, {\"incident_date\": \"2019-04\", \"Analysis Neighborhood\": \"Castro/Upper Market\", \"count\": 8, \"incident_date_2\": \"2019-04\"}, {\"incident_date\": \"2021-12\", \"Analysis Neighborhood\": \"Castro/Upper Market\", \"count\": 8, \"incident_date_2\": \"2021-12\"}, {\"incident_date\": \"2019-09\", \"Analysis Neighborhood\": \"Financial District/South Beach\", \"count\": 8, \"incident_date_2\": \"2019-09\"}, {\"incident_date\": \"2022-08\", \"Analysis Neighborhood\": \"Western Addition\", \"count\": 8, \"incident_date_2\": \"2022-08\"}, {\"incident_date\": \"2018-10\", \"Analysis Neighborhood\": \"Haight Ashbury\", \"count\": 8, \"incident_date_2\": \"2018-10\"}, {\"incident_date\": \"2019-06\", \"Analysis Neighborhood\": \"Financial District/South Beach\", \"count\": 8, \"incident_date_2\": \"2019-06\"}, {\"incident_date\": \"2019-03\", \"Analysis Neighborhood\": \"Nob Hill\", \"count\": 8, \"incident_date_2\": \"2019-03\"}, {\"incident_date\": \"2019-09\", \"Analysis Neighborhood\": \"North Beach\", \"count\": 8, \"incident_date_2\": \"2019-09\"}, {\"incident_date\": \"2019-01\", \"Analysis Neighborhood\": \"Outer Mission\", \"count\": 8, \"incident_date_2\": \"2019-01\"}, {\"incident_date\": \"2018-07\", \"Analysis Neighborhood\": \"Excelsior\", \"count\": 9, \"incident_date_2\": \"2018-07\"}, {\"incident_date\": \"2023-01\", \"Analysis Neighborhood\": \"Financial District/South Beach\", \"count\": 9, \"incident_date_2\": \"2023-01\"}, {\"incident_date\": \"2021-03\", \"Analysis Neighborhood\": \"Mission\", \"count\": 9, \"incident_date_2\": \"2021-03\"}, {\"incident_date\": \"2021-06\", \"Analysis Neighborhood\": \"Mission\", \"count\": 9, \"incident_date_2\": \"2021-06\"}, {\"incident_date\": \"2021-09\", \"Analysis Neighborhood\": \"Financial District/South Beach\", \"count\": 9, \"incident_date_2\": \"2021-09\"}, {\"incident_date\": \"2019-02\", \"Analysis Neighborhood\": \"Financial District/South Beach\", \"count\": 9, \"incident_date_2\": \"2019-02\"}, {\"incident_date\": \"2019-04\", \"Analysis Neighborhood\": \"Financial District/South Beach\", \"count\": 9, \"incident_date_2\": \"2019-04\"}, {\"incident_date\": \"2019-04\", \"Analysis Neighborhood\": \"Bayview Hunters Point\", \"count\": 9, \"incident_date_2\": \"2019-04\"}, {\"incident_date\": \"2021-10\", \"Analysis Neighborhood\": \"Bayview Hunters Point\", \"count\": 9, \"incident_date_2\": \"2021-10\"}, {\"incident_date\": \"2022-07\", \"Analysis Neighborhood\": \"Western Addition\", \"count\": 9, \"incident_date_2\": \"2022-07\"}, {\"incident_date\": \"2020-03\", \"Analysis Neighborhood\": \"Pacific Heights\", \"count\": 9, \"incident_date_2\": \"2020-03\"}, {\"incident_date\": \"2018-06\", \"Analysis Neighborhood\": \"Bernal Heights\", \"count\": 9, \"incident_date_2\": \"2018-06\"}, {\"incident_date\": \"2020-07\", \"Analysis Neighborhood\": \"South of Market\", \"count\": 9, \"incident_date_2\": \"2020-07\"}, {\"incident_date\": \"2020-01\", \"Analysis Neighborhood\": \"Haight Ashbury\", \"count\": 9, \"incident_date_2\": \"2020-01\"}, {\"incident_date\": \"2019-01\", \"Analysis Neighborhood\": \"Castro/Upper Market\", \"count\": 9, \"incident_date_2\": \"2019-01\"}, {\"incident_date\": \"2020-07\", \"Analysis Neighborhood\": \"Pacific Heights\", \"count\": 9, \"incident_date_2\": \"2020-07\"}, {\"incident_date\": \"2021-03\", \"Analysis Neighborhood\": \"Bayview Hunters Point\", \"count\": 9, \"incident_date_2\": \"2021-03\"}, {\"incident_date\": \"2019-07\", \"Analysis Neighborhood\": \"Western Addition\", \"count\": 9, \"incident_date_2\": \"2019-07\"}, {\"incident_date\": \"2021-03\", \"Analysis Neighborhood\": \"Financial District/South Beach\", \"count\": 9, \"incident_date_2\": \"2021-03\"}, {\"incident_date\": \"2018-08\", \"Analysis Neighborhood\": \"Castro/Upper Market\", \"count\": 9, \"incident_date_2\": \"2018-08\"}, {\"incident_date\": \"2019-07\", \"Analysis Neighborhood\": \"Nob Hill\", \"count\": 9, \"incident_date_2\": \"2019-07\"}, {\"incident_date\": \"2020-01\", \"Analysis Neighborhood\": \"Bayview Hunters Point\", \"count\": 9, \"incident_date_2\": \"2020-01\"}, {\"incident_date\": \"2021-12\", \"Analysis Neighborhood\": \"Bayview Hunters Point\", \"count\": 10, \"incident_date_2\": \"2021-12\"}, {\"incident_date\": \"2019-03\", \"Analysis Neighborhood\": \"Financial District/South Beach\", \"count\": 10, \"incident_date_2\": \"2019-03\"}, {\"incident_date\": \"2020-01\", \"Analysis Neighborhood\": \"Financial District/South Beach\", \"count\": 10, \"incident_date_2\": \"2020-01\"}, {\"incident_date\": \"2022-09\", \"Analysis Neighborhood\": \"Financial District/South Beach\", \"count\": 10, \"incident_date_2\": \"2022-09\"}, {\"incident_date\": \"2019-11\", \"Analysis Neighborhood\": \"Haight Ashbury\", \"count\": 10, \"incident_date_2\": \"2019-11\"}, {\"incident_date\": \"2021-02\", \"Analysis Neighborhood\": \"Outer Mission\", \"count\": 10, \"incident_date_2\": \"2021-02\"}, {\"incident_date\": \"2022-10\", \"Analysis Neighborhood\": \"Financial District/South Beach\", \"count\": 10, \"incident_date_2\": \"2022-10\"}, {\"incident_date\": \"2021-11\", \"Analysis Neighborhood\": \"Mission\", \"count\": 10, \"incident_date_2\": \"2021-11\"}, {\"incident_date\": \"2022-11\", \"Analysis Neighborhood\": \"Bayview Hunters Point\", \"count\": 10, \"incident_date_2\": \"2022-11\"}, {\"incident_date\": \"2019-01\", \"Analysis Neighborhood\": \"Haight Ashbury\", \"count\": 10, \"incident_date_2\": \"2019-01\"}, {\"incident_date\": \"2021-07\", \"Analysis Neighborhood\": \"Mission\", \"count\": 10, \"incident_date_2\": \"2021-07\"}, {\"incident_date\": \"2019-06\", \"Analysis Neighborhood\": \"Nob Hill\", \"count\": 10, \"incident_date_2\": \"2019-06\"}, {\"incident_date\": \"2019-05\", \"Analysis Neighborhood\": \"Castro/Upper Market\", \"count\": 10, \"incident_date_2\": \"2019-05\"}, {\"incident_date\": \"2020-11\", \"Analysis Neighborhood\": \"Nob Hill\", \"count\": 10, \"incident_date_2\": \"2020-11\"}, {\"incident_date\": \"2018-07\", \"Analysis Neighborhood\": \"Bayview Hunters Point\", \"count\": 10, \"incident_date_2\": \"2018-07\"}, {\"incident_date\": \"2020-01\", \"Analysis Neighborhood\": \"Western Addition\", \"count\": 10, \"incident_date_2\": \"2020-01\"}, {\"incident_date\": \"2021-09\", \"Analysis Neighborhood\": \"Mission\", \"count\": 10, \"incident_date_2\": \"2021-09\"}, {\"incident_date\": \"2020-10\", \"Analysis Neighborhood\": \"Mission\", \"count\": 10, \"incident_date_2\": \"2020-10\"}, {\"incident_date\": \"2022-12\", \"Analysis Neighborhood\": \"Mission\", \"count\": 10, \"incident_date_2\": \"2022-12\"}, {\"incident_date\": \"2019-09\", \"Analysis Neighborhood\": \"Nob Hill\", \"count\": 10, \"incident_date_2\": \"2019-09\"}, {\"incident_date\": \"2020-08\", \"Analysis Neighborhood\": \"Bayview Hunters Point\", \"count\": 11, \"incident_date_2\": \"2020-08\"}, {\"incident_date\": \"2022-07\", \"Analysis Neighborhood\": \"Financial District/South Beach\", \"count\": 11, \"incident_date_2\": \"2022-07\"}, {\"incident_date\": \"2020-12\", \"Analysis Neighborhood\": \"Hayes Valley\", \"count\": 11, \"incident_date_2\": \"2020-12\"}, {\"incident_date\": \"2022-11\", \"Analysis Neighborhood\": \"Financial District/South Beach\", \"count\": 11, \"incident_date_2\": \"2022-11\"}, {\"incident_date\": \"2018-08\", \"Analysis Neighborhood\": \"Western Addition\", \"count\": 11, \"incident_date_2\": \"2018-08\"}, {\"incident_date\": \"2022-01\", \"Analysis Neighborhood\": \"Bayview Hunters Point\", \"count\": 11, \"incident_date_2\": \"2022-01\"}, {\"incident_date\": \"2018-07\", \"Analysis Neighborhood\": \"West of Twin Peaks\", \"count\": 11, \"incident_date_2\": \"2018-07\"}, {\"incident_date\": \"2020-01\", \"Analysis Neighborhood\": \"Castro/Upper Market\", \"count\": 11, \"incident_date_2\": \"2020-01\"}, {\"incident_date\": \"2022-03\", \"Analysis Neighborhood\": \"Mission\", \"count\": 11, \"incident_date_2\": \"2022-03\"}, {\"incident_date\": \"2020-03\", \"Analysis Neighborhood\": \"Mission\", \"count\": 11, \"incident_date_2\": \"2020-03\"}, {\"incident_date\": \"2022-08\", \"Analysis Neighborhood\": \"Financial District/South Beach\", \"count\": 11, \"incident_date_2\": \"2022-08\"}, {\"incident_date\": \"2018-09\", \"Analysis Neighborhood\": \"Financial District/South Beach\", \"count\": 11, \"incident_date_2\": \"2018-09\"}, {\"incident_date\": \"2019-07\", \"Analysis Neighborhood\": \"Bayview Hunters Point\", \"count\": 11, \"incident_date_2\": \"2019-07\"}, {\"incident_date\": \"2019-06\", \"Analysis Neighborhood\": \"Castro/Upper Market\", \"count\": 11, \"incident_date_2\": \"2019-06\"}, {\"incident_date\": \"2021-04\", \"Analysis Neighborhood\": \"Mission\", \"count\": 11, \"incident_date_2\": \"2021-04\"}, {\"incident_date\": \"2021-11\", \"Analysis Neighborhood\": \"Financial District/South Beach\", \"count\": 11, \"incident_date_2\": \"2021-11\"}, {\"incident_date\": \"2019-03\", \"Analysis Neighborhood\": \"Bayview Hunters Point\", \"count\": 11, \"incident_date_2\": \"2019-03\"}, {\"incident_date\": \"2022-04\", \"Analysis Neighborhood\": \"Western Addition\", \"count\": 11, \"incident_date_2\": \"2022-04\"}, {\"incident_date\": \"2019-07\", \"Analysis Neighborhood\": \"Haight Ashbury\", \"count\": 12, \"incident_date_2\": \"2019-07\"}, {\"incident_date\": \"2018-11\", \"Analysis Neighborhood\": \"Sunset/Parkside\", \"count\": 12, \"incident_date_2\": \"2018-11\"}, {\"incident_date\": \"2020-11\", \"Analysis Neighborhood\": \"South of Market\", \"count\": 12, \"incident_date_2\": \"2020-11\"}, {\"incident_date\": \"2018-11\", \"Analysis Neighborhood\": \"Outer Richmond\", \"count\": 12, \"incident_date_2\": \"2018-11\"}, {\"incident_date\": \"2021-08\", \"Analysis Neighborhood\": \"Mission\", \"count\": 12, \"incident_date_2\": \"2021-08\"}, {\"incident_date\": \"2022-05\", \"Analysis Neighborhood\": \"Bayview Hunters Point\", \"count\": 12, \"incident_date_2\": \"2022-05\"}, {\"incident_date\": \"2018-08\", \"Analysis Neighborhood\": \"Financial District/South Beach\", \"count\": 12, \"incident_date_2\": \"2018-08\"}, {\"incident_date\": \"2021-05\", \"Analysis Neighborhood\": \"Mission\", \"count\": 12, \"incident_date_2\": \"2021-05\"}, {\"incident_date\": \"2020-06\", \"Analysis Neighborhood\": \"South of Market\", \"count\": 13, \"incident_date_2\": \"2020-06\"}, {\"incident_date\": \"2019-10\", \"Analysis Neighborhood\": \"Haight Ashbury\", \"count\": 13, \"incident_date_2\": \"2019-10\"}, {\"incident_date\": \"2018-02\", \"Analysis Neighborhood\": \"Financial District/South Beach\", \"count\": 13, \"incident_date_2\": \"2018-02\"}, {\"incident_date\": \"2020-12\", \"Analysis Neighborhood\": \"Bayview Hunters Point\", \"count\": 13, \"incident_date_2\": \"2020-12\"}, {\"incident_date\": \"2023-01\", \"Analysis Neighborhood\": \"Bayview Hunters Point\", \"count\": 13, \"incident_date_2\": \"2023-01\"}, {\"incident_date\": \"2019-04\", \"Analysis Neighborhood\": \"Haight Ashbury\", \"count\": 13, \"incident_date_2\": \"2019-04\"}, {\"incident_date\": \"2018-05\", \"Analysis Neighborhood\": \"Bayview Hunters Point\", \"count\": 13, \"incident_date_2\": \"2018-05\"}, {\"incident_date\": \"2022-09\", \"Analysis Neighborhood\": \"Mission\", \"count\": 13, \"incident_date_2\": \"2022-09\"}, {\"incident_date\": \"2023-03\", \"Analysis Neighborhood\": \"South of Market\", \"count\": 13, \"incident_date_2\": \"2023-03\"}, {\"incident_date\": \"2018-09\", \"Analysis Neighborhood\": \"Bayview Hunters Point\", \"count\": 14, \"incident_date_2\": \"2018-09\"}, {\"incident_date\": \"2018-04\", \"Analysis Neighborhood\": \"Haight Ashbury\", \"count\": 14, \"incident_date_2\": \"2018-04\"}, {\"incident_date\": \"2018-06\", \"Analysis Neighborhood\": \"Financial District/South Beach\", \"count\": 14, \"incident_date_2\": \"2018-06\"}, {\"incident_date\": \"2018-03\", \"Analysis Neighborhood\": \"Western Addition\", \"count\": 14, \"incident_date_2\": \"2018-03\"}, {\"incident_date\": \"2019-11\", \"Analysis Neighborhood\": \"Financial District/South Beach\", \"count\": 14, \"incident_date_2\": \"2019-11\"}, {\"incident_date\": \"2020-07\", \"Analysis Neighborhood\": \"Mission\", \"count\": 14, \"incident_date_2\": \"2020-07\"}, {\"incident_date\": \"2018-03\", \"Analysis Neighborhood\": \"Financial District/South Beach\", \"count\": 14, \"incident_date_2\": \"2018-03\"}, {\"incident_date\": \"2022-01\", \"Analysis Neighborhood\": \"Mission\", \"count\": 14, \"incident_date_2\": \"2022-01\"}, {\"incident_date\": \"2018-10\", \"Analysis Neighborhood\": \"Financial District/South Beach\", \"count\": 14, \"incident_date_2\": \"2018-10\"}, {\"incident_date\": \"2020-10\", \"Analysis Neighborhood\": \"South of Market\", \"count\": 14, \"incident_date_2\": \"2020-10\"}, {\"incident_date\": \"2021-02\", \"Analysis Neighborhood\": \"Mission\", \"count\": 15, \"incident_date_2\": \"2021-02\"}, {\"incident_date\": \"2018-04\", \"Analysis Neighborhood\": \"Financial District/South Beach\", \"count\": 15, \"incident_date_2\": \"2018-04\"}, {\"incident_date\": \"2019-09\", \"Analysis Neighborhood\": \"Haight Ashbury\", \"count\": 15, \"incident_date_2\": \"2019-09\"}, {\"incident_date\": \"2019-10\", \"Analysis Neighborhood\": \"Castro/Upper Market\", \"count\": 15, \"incident_date_2\": \"2019-10\"}, {\"incident_date\": \"2020-04\", \"Analysis Neighborhood\": \"South of Market\", \"count\": 15, \"incident_date_2\": \"2020-04\"}, {\"incident_date\": \"2018-01\", \"Analysis Neighborhood\": \"Bayview Hunters Point\", \"count\": 16, \"incident_date_2\": \"2018-01\"}, {\"incident_date\": \"2019-02\", \"Analysis Neighborhood\": \"Bayview Hunters Point\", \"count\": 16, \"incident_date_2\": \"2019-02\"}, {\"incident_date\": \"2019-07\", \"Analysis Neighborhood\": \"Financial District/South Beach\", \"count\": 16, \"incident_date_2\": \"2019-07\"}, {\"incident_date\": \"2021-10\", \"Analysis Neighborhood\": \"Mission\", \"count\": 16, \"incident_date_2\": \"2021-10\"}, {\"incident_date\": \"2021-10\", \"Analysis Neighborhood\": \"South of Market\", \"count\": 16, \"incident_date_2\": \"2021-10\"}, {\"incident_date\": \"2021-12\", \"Analysis Neighborhood\": \"Mission\", \"count\": 16, \"incident_date_2\": \"2021-12\"}, {\"incident_date\": \"2023-01\", \"Analysis Neighborhood\": \"Mission\", \"count\": 17, \"incident_date_2\": \"2023-01\"}, {\"incident_date\": \"2020-09\", \"Analysis Neighborhood\": \"Mission\", \"count\": 17, \"incident_date_2\": \"2020-09\"}, {\"incident_date\": \"2022-06\", \"Analysis Neighborhood\": \"Mission\", \"count\": 18, \"incident_date_2\": \"2022-06\"}, {\"incident_date\": \"2018-07\", \"Analysis Neighborhood\": \"Castro/Upper Market\", \"count\": 18, \"incident_date_2\": \"2018-07\"}, {\"incident_date\": \"2020-12\", \"Analysis Neighborhood\": \"South of Market\", \"count\": 18, \"incident_date_2\": \"2020-12\"}, {\"incident_date\": \"2021-03\", \"Analysis Neighborhood\": \"South of Market\", \"count\": 18, \"incident_date_2\": \"2021-03\"}, {\"incident_date\": \"2018-03\", \"Analysis Neighborhood\": \"Bayview Hunters Point\", \"count\": 18, \"incident_date_2\": \"2018-03\"}, {\"incident_date\": \"2019-10\", \"Analysis Neighborhood\": \"Financial District/South Beach\", \"count\": 19, \"incident_date_2\": \"2019-10\"}, {\"incident_date\": \"2021-01\", \"Analysis Neighborhood\": \"South of Market\", \"count\": 19, \"incident_date_2\": \"2021-01\"}, {\"incident_date\": \"2023-03\", \"Analysis Neighborhood\": \"Tenderloin\", \"count\": 19, \"incident_date_2\": \"2023-03\"}, {\"incident_date\": \"2022-05\", \"Analysis Neighborhood\": \"Mission\", \"count\": 19, \"incident_date_2\": \"2022-05\"}, {\"incident_date\": \"2020-12\", \"Analysis Neighborhood\": \"Mission\", \"count\": 20, \"incident_date_2\": \"2020-12\"}, {\"incident_date\": \"2022-10\", \"Analysis Neighborhood\": \"Mission\", \"count\": 20, \"incident_date_2\": \"2022-10\"}, {\"incident_date\": \"2022-11\", \"Analysis Neighborhood\": \"Mission\", \"count\": 21, \"incident_date_2\": \"2022-11\"}, {\"incident_date\": \"2022-04\", \"Analysis Neighborhood\": \"Mission\", \"count\": 21, \"incident_date_2\": \"2022-04\"}, {\"incident_date\": \"2022-08\", \"Analysis Neighborhood\": \"Mission\", \"count\": 22, \"incident_date_2\": \"2022-08\"}, {\"incident_date\": \"2022-07\", \"Analysis Neighborhood\": \"Mission\", \"count\": 23, \"incident_date_2\": \"2022-07\"}, {\"incident_date\": \"2020-08\", \"Analysis Neighborhood\": \"South of Market\", \"count\": 23, \"incident_date_2\": \"2020-08\"}, {\"incident_date\": \"2020-09\", \"Analysis Neighborhood\": \"South of Market\", \"count\": 24, \"incident_date_2\": \"2020-09\"}, {\"incident_date\": \"2021-01\", \"Analysis Neighborhood\": \"Mission\", \"count\": 24, \"incident_date_2\": \"2021-01\"}, {\"incident_date\": \"2020-08\", \"Analysis Neighborhood\": \"Mission\", \"count\": 24, \"incident_date_2\": \"2020-08\"}, {\"incident_date\": \"2023-02\", \"Analysis Neighborhood\": \"Mission\", \"count\": 24, \"incident_date_2\": \"2023-02\"}, {\"incident_date\": \"2018-06\", \"Analysis Neighborhood\": \"Mission\", \"count\": 25, \"incident_date_2\": \"2018-06\"}, {\"incident_date\": \"2021-09\", \"Analysis Neighborhood\": \"South of Market\", \"count\": 26, \"incident_date_2\": \"2021-09\"}, {\"incident_date\": \"2021-02\", \"Analysis Neighborhood\": \"South of Market\", \"count\": 27, \"incident_date_2\": \"2021-02\"}, {\"incident_date\": \"2018-12\", \"Analysis Neighborhood\": \"South of Market\", \"count\": 27, \"incident_date_2\": \"2018-12\"}, {\"incident_date\": \"2019-12\", \"Analysis Neighborhood\": \"Mission\", \"count\": 27, \"incident_date_2\": \"2019-12\"}, {\"incident_date\": \"2020-01\", \"Analysis Neighborhood\": \"Mission\", \"count\": 28, \"incident_date_2\": \"2020-01\"}, {\"incident_date\": \"2020-05\", \"Analysis Neighborhood\": \"South of Market\", \"count\": 28, \"incident_date_2\": \"2020-05\"}, {\"incident_date\": \"2021-12\", \"Analysis Neighborhood\": \"South of Market\", \"count\": 28, \"incident_date_2\": \"2021-12\"}, {\"incident_date\": \"2019-03\", \"Analysis Neighborhood\": \"South of Market\", \"count\": 29, \"incident_date_2\": \"2019-03\"}, {\"incident_date\": \"2020-04\", \"Analysis Neighborhood\": \"Tenderloin\", \"count\": 29, \"incident_date_2\": \"2020-04\"}, {\"incident_date\": \"2021-08\", \"Analysis Neighborhood\": \"South of Market\", \"count\": 31, \"incident_date_2\": \"2021-08\"}, {\"incident_date\": \"2019-10\", \"Analysis Neighborhood\": \"South of Market\", \"count\": 33, \"incident_date_2\": \"2019-10\"}, {\"incident_date\": \"2020-03\", \"Analysis Neighborhood\": \"South of Market\", \"count\": 34, \"incident_date_2\": \"2020-03\"}, {\"incident_date\": \"2018-08\", \"Analysis Neighborhood\": \"Mission\", \"count\": 34, \"incident_date_2\": \"2018-08\"}, {\"incident_date\": \"2018-02\", \"Analysis Neighborhood\": \"Mission\", \"count\": 35, \"incident_date_2\": \"2018-02\"}, {\"incident_date\": \"2018-01\", \"Analysis Neighborhood\": \"Mission\", \"count\": 36, \"incident_date_2\": \"2018-01\"}, {\"incident_date\": \"2018-09\", \"Analysis Neighborhood\": \"Mission\", \"count\": 37, \"incident_date_2\": \"2018-09\"}, {\"incident_date\": \"2022-01\", \"Analysis Neighborhood\": \"South of Market\", \"count\": 37, \"incident_date_2\": \"2022-01\"}, {\"incident_date\": \"2018-04\", \"Analysis Neighborhood\": \"Mission\", \"count\": 38, \"incident_date_2\": \"2018-04\"}, {\"incident_date\": \"2019-02\", \"Analysis Neighborhood\": \"Mission\", \"count\": 38, \"incident_date_2\": \"2019-02\"}, {\"incident_date\": \"2021-11\", \"Analysis Neighborhood\": \"South of Market\", \"count\": 39, \"incident_date_2\": \"2021-11\"}, {\"incident_date\": \"2021-07\", \"Analysis Neighborhood\": \"South of Market\", \"count\": 39, \"incident_date_2\": \"2021-07\"}, {\"incident_date\": \"2021-04\", \"Analysis Neighborhood\": \"South of Market\", \"count\": 40, \"incident_date_2\": \"2021-04\"}, {\"incident_date\": \"2019-09\", \"Analysis Neighborhood\": \"South of Market\", \"count\": 40, \"incident_date_2\": \"2019-09\"}, {\"incident_date\": \"2022-04\", \"Analysis Neighborhood\": \"South of Market\", \"count\": 41, \"incident_date_2\": \"2022-04\"}, {\"incident_date\": \"2018-09\", \"Analysis Neighborhood\": \"South of Market\", \"count\": 41, \"incident_date_2\": \"2018-09\"}, {\"incident_date\": \"2021-06\", \"Analysis Neighborhood\": \"South of Market\", \"count\": 41, \"incident_date_2\": \"2021-06\"}, {\"incident_date\": \"2019-07\", \"Analysis Neighborhood\": \"South of Market\", \"count\": 43, \"incident_date_2\": \"2019-07\"}, {\"incident_date\": \"2018-03\", \"Analysis Neighborhood\": \"Mission\", \"count\": 43, \"incident_date_2\": \"2018-03\"}, {\"incident_date\": \"2018-06\", \"Analysis Neighborhood\": \"South of Market\", \"count\": 45, \"incident_date_2\": \"2018-06\"}, {\"incident_date\": \"2019-01\", \"Analysis Neighborhood\": \"Mission\", \"count\": 45, \"incident_date_2\": \"2019-01\"}, {\"incident_date\": \"2018-07\", \"Analysis Neighborhood\": \"South of Market\", \"count\": 46, \"incident_date_2\": \"2018-07\"}, {\"incident_date\": \"2019-06\", \"Analysis Neighborhood\": \"South of Market\", \"count\": 46, \"incident_date_2\": \"2019-06\"}, {\"incident_date\": \"2019-05\", \"Analysis Neighborhood\": \"South of Market\", \"count\": 46, \"incident_date_2\": \"2019-05\"}, {\"incident_date\": \"2019-05\", \"Analysis Neighborhood\": \"Mission\", \"count\": 46, \"incident_date_2\": \"2019-05\"}, {\"incident_date\": \"2020-02\", \"Analysis Neighborhood\": \"Mission\", \"count\": 47, \"incident_date_2\": \"2020-02\"}, {\"incident_date\": \"2019-11\", \"Analysis Neighborhood\": \"Mission\", \"count\": 47, \"incident_date_2\": \"2019-11\"}, {\"incident_date\": \"2019-04\", \"Analysis Neighborhood\": \"Mission\", \"count\": 47, \"incident_date_2\": \"2019-04\"}, {\"incident_date\": \"2019-02\", \"Analysis Neighborhood\": \"South of Market\", \"count\": 47, \"incident_date_2\": \"2019-02\"}, {\"incident_date\": \"2018-10\", \"Analysis Neighborhood\": \"Mission\", \"count\": 48, \"incident_date_2\": \"2018-10\"}, {\"incident_date\": \"2019-08\", \"Analysis Neighborhood\": \"South of Market\", \"count\": 49, \"incident_date_2\": \"2019-08\"}, {\"incident_date\": \"2019-08\", \"Analysis Neighborhood\": \"Mission\", \"count\": 49, \"incident_date_2\": \"2019-08\"}, {\"incident_date\": \"2019-03\", \"Analysis Neighborhood\": \"Mission\", \"count\": 50, \"incident_date_2\": \"2019-03\"}, {\"incident_date\": \"2022-02\", \"Analysis Neighborhood\": \"South of Market\", \"count\": 51, \"incident_date_2\": \"2022-02\"}, {\"incident_date\": \"2022-06\", \"Analysis Neighborhood\": \"South of Market\", \"count\": 53, \"incident_date_2\": \"2022-06\"}, {\"incident_date\": \"2018-12\", \"Analysis Neighborhood\": \"Mission\", \"count\": 54, \"incident_date_2\": \"2018-12\"}, {\"incident_date\": \"2021-11\", \"Analysis Neighborhood\": \"Tenderloin\", \"count\": 54, \"incident_date_2\": \"2021-11\"}, {\"incident_date\": \"2018-04\", \"Analysis Neighborhood\": \"South of Market\", \"count\": 55, \"incident_date_2\": \"2018-04\"}, {\"incident_date\": \"2019-01\", \"Analysis Neighborhood\": \"South of Market\", \"count\": 56, \"incident_date_2\": \"2019-01\"}, {\"incident_date\": \"2018-08\", \"Analysis Neighborhood\": \"South of Market\", \"count\": 56, \"incident_date_2\": \"2018-08\"}, {\"incident_date\": \"2019-07\", \"Analysis Neighborhood\": \"Mission\", \"count\": 57, \"incident_date_2\": \"2019-07\"}, {\"incident_date\": \"2018-05\", \"Analysis Neighborhood\": \"Mission\", \"count\": 57, \"incident_date_2\": \"2018-05\"}, {\"incident_date\": \"2018-07\", \"Analysis Neighborhood\": \"Mission\", \"count\": 57, \"incident_date_2\": \"2018-07\"}, {\"incident_date\": \"2022-05\", \"Analysis Neighborhood\": \"South of Market\", \"count\": 58, \"incident_date_2\": \"2022-05\"}, {\"incident_date\": \"2021-05\", \"Analysis Neighborhood\": \"Tenderloin\", \"count\": 59, \"incident_date_2\": \"2021-05\"}, {\"incident_date\": \"2018-11\", \"Analysis Neighborhood\": \"South of Market\", \"count\": 59, \"incident_date_2\": \"2018-11\"}, {\"incident_date\": \"2018-01\", \"Analysis Neighborhood\": \"South of Market\", \"count\": 60, \"incident_date_2\": \"2018-01\"}, {\"incident_date\": \"2022-03\", \"Analysis Neighborhood\": \"South of Market\", \"count\": 60, \"incident_date_2\": \"2022-03\"}, {\"incident_date\": \"2019-06\", \"Analysis Neighborhood\": \"Mission\", \"count\": 61, \"incident_date_2\": \"2019-06\"}, {\"incident_date\": \"2018-02\", \"Analysis Neighborhood\": \"South of Market\", \"count\": 63, \"incident_date_2\": \"2018-02\"}, {\"incident_date\": \"2019-11\", \"Analysis Neighborhood\": \"South of Market\", \"count\": 63, \"incident_date_2\": \"2019-11\"}, {\"incident_date\": \"2022-10\", \"Analysis Neighborhood\": \"South of Market\", \"count\": 64, \"incident_date_2\": \"2022-10\"}, {\"incident_date\": \"2019-10\", \"Analysis Neighborhood\": \"Mission\", \"count\": 64, \"incident_date_2\": \"2019-10\"}, {\"incident_date\": \"2019-04\", \"Analysis Neighborhood\": \"South of Market\", \"count\": 66, \"incident_date_2\": \"2019-04\"}, {\"incident_date\": \"2020-02\", \"Analysis Neighborhood\": \"South of Market\", \"count\": 66, \"incident_date_2\": \"2020-02\"}, {\"incident_date\": \"2020-03\", \"Analysis Neighborhood\": \"Tenderloin\", \"count\": 66, \"incident_date_2\": \"2020-03\"}, {\"incident_date\": \"2018-05\", \"Analysis Neighborhood\": \"South of Market\", \"count\": 67, \"incident_date_2\": \"2018-05\"}, {\"incident_date\": \"2020-01\", \"Analysis Neighborhood\": \"South of Market\", \"count\": 68, \"incident_date_2\": \"2020-01\"}, {\"incident_date\": \"2018-03\", \"Analysis Neighborhood\": \"South of Market\", \"count\": 69, \"incident_date_2\": \"2018-03\"}, {\"incident_date\": \"2019-09\", \"Analysis Neighborhood\": \"Mission\", \"count\": 72, \"incident_date_2\": \"2019-09\"}, {\"incident_date\": \"2018-10\", \"Analysis Neighborhood\": \"South of Market\", \"count\": 72, \"incident_date_2\": \"2018-10\"}, {\"incident_date\": \"2018-11\", \"Analysis Neighborhood\": \"Mission\", \"count\": 73, \"incident_date_2\": \"2018-11\"}, {\"incident_date\": \"2019-12\", \"Analysis Neighborhood\": \"South of Market\", \"count\": 79, \"incident_date_2\": \"2019-12\"}, {\"incident_date\": \"2023-01\", \"Analysis Neighborhood\": \"South of Market\", \"count\": 80, \"incident_date_2\": \"2023-01\"}, {\"incident_date\": \"2021-03\", \"Analysis Neighborhood\": \"Tenderloin\", \"count\": 82, \"incident_date_2\": \"2021-03\"}, {\"incident_date\": \"2020-11\", \"Analysis Neighborhood\": \"Tenderloin\", \"count\": 82, \"incident_date_2\": \"2020-11\"}, {\"incident_date\": \"2021-09\", \"Analysis Neighborhood\": \"Tenderloin\", \"count\": 83, \"incident_date_2\": \"2021-09\"}, {\"incident_date\": \"2022-04\", \"Analysis Neighborhood\": \"Tenderloin\", \"count\": 87, \"incident_date_2\": \"2022-04\"}, {\"incident_date\": \"2023-02\", \"Analysis Neighborhood\": \"South of Market\", \"count\": 88, \"incident_date_2\": \"2023-02\"}, {\"incident_date\": \"2022-12\", \"Analysis Neighborhood\": \"South of Market\", \"count\": 90, \"incident_date_2\": \"2022-12\"}, {\"incident_date\": \"2021-10\", \"Analysis Neighborhood\": \"Tenderloin\", \"count\": 92, \"incident_date_2\": \"2021-10\"}, {\"incident_date\": \"2022-11\", \"Analysis Neighborhood\": \"South of Market\", \"count\": 95, \"incident_date_2\": \"2022-11\"}, {\"incident_date\": \"2022-09\", \"Analysis Neighborhood\": \"South of Market\", \"count\": 96, \"incident_date_2\": \"2022-09\"}, {\"incident_date\": \"2019-11\", \"Analysis Neighborhood\": \"Tenderloin\", \"count\": 96, \"incident_date_2\": \"2019-11\"}, {\"incident_date\": \"2022-07\", \"Analysis Neighborhood\": \"South of Market\", \"count\": 97, \"incident_date_2\": \"2022-07\"}, {\"incident_date\": \"2018-09\", \"Analysis Neighborhood\": \"Tenderloin\", \"count\": 101, \"incident_date_2\": \"2018-09\"}, {\"incident_date\": \"2019-02\", \"Analysis Neighborhood\": \"Tenderloin\", \"count\": 106, \"incident_date_2\": \"2019-02\"}, {\"incident_date\": \"2020-12\", \"Analysis Neighborhood\": \"Tenderloin\", \"count\": 110, \"incident_date_2\": \"2020-12\"}, {\"incident_date\": \"2019-09\", \"Analysis Neighborhood\": \"Tenderloin\", \"count\": 110, \"incident_date_2\": \"2019-09\"}, {\"incident_date\": \"2019-10\", \"Analysis Neighborhood\": \"Tenderloin\", \"count\": 111, \"incident_date_2\": \"2019-10\"}, {\"incident_date\": \"2020-01\", \"Analysis Neighborhood\": \"Tenderloin\", \"count\": 111, \"incident_date_2\": \"2020-01\"}, {\"incident_date\": \"2019-06\", \"Analysis Neighborhood\": \"Tenderloin\", \"count\": 112, \"incident_date_2\": \"2019-06\"}, {\"incident_date\": \"2018-06\", \"Analysis Neighborhood\": \"Tenderloin\", \"count\": 113, \"incident_date_2\": \"2018-06\"}, {\"incident_date\": \"2022-05\", \"Analysis Neighborhood\": \"Tenderloin\", \"count\": 115, \"incident_date_2\": \"2022-05\"}, {\"incident_date\": \"2019-05\", \"Analysis Neighborhood\": \"Tenderloin\", \"count\": 116, \"incident_date_2\": \"2019-05\"}, {\"incident_date\": \"2021-08\", \"Analysis Neighborhood\": \"Tenderloin\", \"count\": 117, \"incident_date_2\": \"2021-08\"}, {\"incident_date\": \"2022-10\", \"Analysis Neighborhood\": \"Tenderloin\", \"count\": 117, \"incident_date_2\": \"2022-10\"}, {\"incident_date\": \"2021-07\", \"Analysis Neighborhood\": \"Tenderloin\", \"count\": 117, \"incident_date_2\": \"2021-07\"}, {\"incident_date\": \"2019-12\", \"Analysis Neighborhood\": \"Tenderloin\", \"count\": 119, \"incident_date_2\": \"2019-12\"}, {\"incident_date\": \"2018-12\", \"Analysis Neighborhood\": \"Tenderloin\", \"count\": 120, \"incident_date_2\": \"2018-12\"}, {\"incident_date\": \"2018-08\", \"Analysis Neighborhood\": \"Tenderloin\", \"count\": 120, \"incident_date_2\": \"2018-08\"}, {\"incident_date\": \"2021-06\", \"Analysis Neighborhood\": \"Tenderloin\", \"count\": 120, \"incident_date_2\": \"2021-06\"}, {\"incident_date\": \"2019-08\", \"Analysis Neighborhood\": \"Tenderloin\", \"count\": 122, \"incident_date_2\": \"2019-08\"}, {\"incident_date\": \"2022-03\", \"Analysis Neighborhood\": \"Tenderloin\", \"count\": 126, \"incident_date_2\": \"2022-03\"}, {\"incident_date\": \"2022-08\", \"Analysis Neighborhood\": \"South of Market\", \"count\": 126, \"incident_date_2\": \"2022-08\"}, {\"incident_date\": \"2018-07\", \"Analysis Neighborhood\": \"Tenderloin\", \"count\": 129, \"incident_date_2\": \"2018-07\"}, {\"incident_date\": \"2020-09\", \"Analysis Neighborhood\": \"Tenderloin\", \"count\": 130, \"incident_date_2\": \"2020-09\"}, {\"incident_date\": \"2019-04\", \"Analysis Neighborhood\": \"Tenderloin\", \"count\": 131, \"incident_date_2\": \"2019-04\"}, {\"incident_date\": \"2019-01\", \"Analysis Neighborhood\": \"Tenderloin\", \"count\": 133, \"incident_date_2\": \"2019-01\"}, {\"incident_date\": \"2020-10\", \"Analysis Neighborhood\": \"Tenderloin\", \"count\": 134, \"incident_date_2\": \"2020-10\"}, {\"incident_date\": \"2022-06\", \"Analysis Neighborhood\": \"Tenderloin\", \"count\": 135, \"incident_date_2\": \"2022-06\"}, {\"incident_date\": \"2019-07\", \"Analysis Neighborhood\": \"Tenderloin\", \"count\": 139, \"incident_date_2\": \"2019-07\"}, {\"incident_date\": \"2021-02\", \"Analysis Neighborhood\": \"Tenderloin\", \"count\": 140, \"incident_date_2\": \"2021-02\"}, {\"incident_date\": \"2018-01\", \"Analysis Neighborhood\": \"Tenderloin\", \"count\": 140, \"incident_date_2\": \"2018-01\"}, {\"incident_date\": \"2020-08\", \"Analysis Neighborhood\": \"Tenderloin\", \"count\": 141, \"incident_date_2\": \"2020-08\"}, {\"incident_date\": \"2021-04\", \"Analysis Neighborhood\": \"Tenderloin\", \"count\": 142, \"incident_date_2\": \"2021-04\"}, {\"incident_date\": \"2022-02\", \"Analysis Neighborhood\": \"Tenderloin\", \"count\": 143, \"incident_date_2\": \"2022-02\"}, {\"incident_date\": \"2021-12\", \"Analysis Neighborhood\": \"Tenderloin\", \"count\": 144, \"incident_date_2\": \"2021-12\"}, {\"incident_date\": \"2022-11\", \"Analysis Neighborhood\": \"Tenderloin\", \"count\": 145, \"incident_date_2\": \"2022-11\"}, {\"incident_date\": \"2018-04\", \"Analysis Neighborhood\": \"Tenderloin\", \"count\": 153, \"incident_date_2\": \"2018-04\"}, {\"incident_date\": \"2020-05\", \"Analysis Neighborhood\": \"Tenderloin\", \"count\": 157, \"incident_date_2\": \"2020-05\"}, {\"incident_date\": \"2019-03\", \"Analysis Neighborhood\": \"Tenderloin\", \"count\": 161, \"incident_date_2\": \"2019-03\"}, {\"incident_date\": \"2020-02\", \"Analysis Neighborhood\": \"Tenderloin\", \"count\": 161, \"incident_date_2\": \"2020-02\"}, {\"incident_date\": \"2020-07\", \"Analysis Neighborhood\": \"Tenderloin\", \"count\": 161, \"incident_date_2\": \"2020-07\"}, {\"incident_date\": \"2022-09\", \"Analysis Neighborhood\": \"Tenderloin\", \"count\": 164, \"incident_date_2\": \"2022-09\"}, {\"incident_date\": \"2021-01\", \"Analysis Neighborhood\": \"Tenderloin\", \"count\": 169, \"incident_date_2\": \"2021-01\"}, {\"incident_date\": \"2022-01\", \"Analysis Neighborhood\": \"Tenderloin\", \"count\": 169, \"incident_date_2\": \"2022-01\"}, {\"incident_date\": \"2022-12\", \"Analysis Neighborhood\": \"Tenderloin\", \"count\": 171, \"incident_date_2\": \"2022-12\"}, {\"incident_date\": \"2018-05\", \"Analysis Neighborhood\": \"Tenderloin\", \"count\": 175, \"incident_date_2\": \"2018-05\"}, {\"incident_date\": \"2023-01\", \"Analysis Neighborhood\": \"Tenderloin\", \"count\": 176, \"incident_date_2\": \"2023-01\"}, {\"incident_date\": \"2018-03\", \"Analysis Neighborhood\": \"Tenderloin\", \"count\": 181, \"incident_date_2\": \"2018-03\"}, {\"incident_date\": \"2018-02\", \"Analysis Neighborhood\": \"Tenderloin\", \"count\": 190, \"incident_date_2\": \"2018-02\"}, {\"incident_date\": \"2018-11\", \"Analysis Neighborhood\": \"Tenderloin\", \"count\": 200, \"incident_date_2\": \"2018-11\"}, {\"incident_date\": \"2020-06\", \"Analysis Neighborhood\": \"Tenderloin\", \"count\": 207, \"incident_date_2\": \"2020-06\"}, {\"incident_date\": \"2018-10\", \"Analysis Neighborhood\": \"Tenderloin\", \"count\": 227, \"incident_date_2\": \"2018-10\"}, {\"incident_date\": \"2023-02\", \"Analysis Neighborhood\": \"Tenderloin\", \"count\": 267, \"incident_date_2\": \"2023-02\"}, {\"incident_date\": \"2022-08\", \"Analysis Neighborhood\": \"Tenderloin\", \"count\": 310, \"incident_date_2\": \"2022-08\"}, {\"incident_date\": \"2022-07\", \"Analysis Neighborhood\": \"Tenderloin\", \"count\": 356, \"incident_date_2\": \"2022-07\"}]}}, {\"mode\": \"vega-lite\"});\n",
       "</script>"
      ],
      "text/plain": [
       "alt.Chart(...)"
      ]
     },
     "execution_count": 126,
     "metadata": {},
     "output_type": "execute_result"
    }
   ],
   "source": [
    "alt.Chart(sorted).mark_area(size=9,opacity=0.8).encode(\n",
    "    x= alt.X('incident_date:T',title='Date'),\n",
    "    y= alt.Y('count:Q',stack = 'normalize',title = 'Count'),\n",
    "    color=alt.Color(\"Analysis Neighborhood\",legend=alt.Legend(title='Neighborhood', values=['Tenderloin', 'South of Market','Mission'])),\n",
    "    tooltip = [alt.Tooltip('incident_date_2',title = 'Date'),alt.Tooltip('count',title='Drug Arrests'),alt.Tooltip('Analysis Neighborhood',title='Neighborhood')]\n",
    ").properties(\n",
    "    width=600,\n",
    "    height=400,\n",
    "    title='Total Drug Arrests by Neighborhoods (2018-now)'\n",
    ")\n",
    "\n",
    "# .transform_filter(\n",
    "#      alt.FieldEqualPredicate(field='Analysis Neighborhood',equal = 'Tenderloin')\n",
    "# )"
   ]
  },
  {
   "cell_type": "code",
   "execution_count": 10,
   "metadata": {},
   "outputs": [
    {
     "data": {
      "text/html": [
       "<div>\n",
       "<style scoped>\n",
       "    .dataframe tbody tr th:only-of-type {\n",
       "        vertical-align: middle;\n",
       "    }\n",
       "\n",
       "    .dataframe tbody tr th {\n",
       "        vertical-align: top;\n",
       "    }\n",
       "\n",
       "    .dataframe thead th {\n",
       "        text-align: right;\n",
       "    }\n",
       "</style>\n",
       "<table border=\"1\" class=\"dataframe\">\n",
       "  <thead>\n",
       "    <tr style=\"text-align: right;\">\n",
       "      <th></th>\n",
       "      <th>incident_date</th>\n",
       "      <th>day_of_week</th>\n",
       "      <th>count</th>\n",
       "    </tr>\n",
       "  </thead>\n",
       "  <tbody>\n",
       "    <tr>\n",
       "      <th>0</th>\n",
       "      <td>01</td>\n",
       "      <td>Friday</td>\n",
       "      <td>253</td>\n",
       "    </tr>\n",
       "    <tr>\n",
       "      <th>1</th>\n",
       "      <td>01</td>\n",
       "      <td>Monday</td>\n",
       "      <td>201</td>\n",
       "    </tr>\n",
       "    <tr>\n",
       "      <th>2</th>\n",
       "      <td>01</td>\n",
       "      <td>Saturday</td>\n",
       "      <td>206</td>\n",
       "    </tr>\n",
       "    <tr>\n",
       "      <th>3</th>\n",
       "      <td>01</td>\n",
       "      <td>Sunday</td>\n",
       "      <td>206</td>\n",
       "    </tr>\n",
       "    <tr>\n",
       "      <th>4</th>\n",
       "      <td>01</td>\n",
       "      <td>Thursday</td>\n",
       "      <td>287</td>\n",
       "    </tr>\n",
       "  </tbody>\n",
       "</table>\n",
       "</div>"
      ],
      "text/plain": [
       "  incident_date day_of_week  count\n",
       "0            01      Friday    253\n",
       "1            01      Monday    201\n",
       "2            01    Saturday    206\n",
       "3            01      Sunday    206\n",
       "4            01    Thursday    287"
      ]
     },
     "execution_count": 10,
     "metadata": {},
     "output_type": "execute_result"
    }
   ],
   "source": [
    "month_week = drug_arrest.groupby([drug_arrest['incident_date'].dt.strftime('%m'),drug_arrest['day_of_week']]).size().reset_index(name='count')\n",
    "month_week.head()"
   ]
  },
  {
   "cell_type": "code",
   "execution_count": 11,
   "metadata": {},
   "outputs": [
    {
     "data": {
      "text/html": [
       "\n",
       "<div id=\"altair-viz-2db7cd59fa0849768ad2a6b59a96a42a\"></div>\n",
       "<script type=\"text/javascript\">\n",
       "  var VEGA_DEBUG = (typeof VEGA_DEBUG == \"undefined\") ? {} : VEGA_DEBUG;\n",
       "  (function(spec, embedOpt){\n",
       "    let outputDiv = document.currentScript.previousElementSibling;\n",
       "    if (outputDiv.id !== \"altair-viz-2db7cd59fa0849768ad2a6b59a96a42a\") {\n",
       "      outputDiv = document.getElementById(\"altair-viz-2db7cd59fa0849768ad2a6b59a96a42a\");\n",
       "    }\n",
       "    const paths = {\n",
       "      \"vega\": \"https://cdn.jsdelivr.net/npm//vega@5?noext\",\n",
       "      \"vega-lib\": \"https://cdn.jsdelivr.net/npm//vega-lib?noext\",\n",
       "      \"vega-lite\": \"https://cdn.jsdelivr.net/npm//vega-lite@4.17.0?noext\",\n",
       "      \"vega-embed\": \"https://cdn.jsdelivr.net/npm//vega-embed@6?noext\",\n",
       "    };\n",
       "\n",
       "    function maybeLoadScript(lib, version) {\n",
       "      var key = `${lib.replace(\"-\", \"\")}_version`;\n",
       "      return (VEGA_DEBUG[key] == version) ?\n",
       "        Promise.resolve(paths[lib]) :\n",
       "        new Promise(function(resolve, reject) {\n",
       "          var s = document.createElement('script');\n",
       "          document.getElementsByTagName(\"head\")[0].appendChild(s);\n",
       "          s.async = true;\n",
       "          s.onload = () => {\n",
       "            VEGA_DEBUG[key] = version;\n",
       "            return resolve(paths[lib]);\n",
       "          };\n",
       "          s.onerror = () => reject(`Error loading script: ${paths[lib]}`);\n",
       "          s.src = paths[lib];\n",
       "        });\n",
       "    }\n",
       "\n",
       "    function showError(err) {\n",
       "      outputDiv.innerHTML = `<div class=\"error\" style=\"color:red;\">${err}</div>`;\n",
       "      throw err;\n",
       "    }\n",
       "\n",
       "    function displayChart(vegaEmbed) {\n",
       "      vegaEmbed(outputDiv, spec, embedOpt)\n",
       "        .catch(err => showError(`Javascript Error: ${err.message}<br>This usually means there's a typo in your chart specification. See the javascript console for the full traceback.`));\n",
       "    }\n",
       "\n",
       "    if(typeof define === \"function\" && define.amd) {\n",
       "      requirejs.config({paths});\n",
       "      require([\"vega-embed\"], displayChart, err => showError(`Error loading script: ${err.message}`));\n",
       "    } else {\n",
       "      maybeLoadScript(\"vega\", \"5\")\n",
       "        .then(() => maybeLoadScript(\"vega-lite\", \"4.17.0\"))\n",
       "        .then(() => maybeLoadScript(\"vega-embed\", \"6\"))\n",
       "        .catch(showError)\n",
       "        .then(() => displayChart(vegaEmbed));\n",
       "    }\n",
       "  })({\"config\": {\"view\": {\"continuousWidth\": 400, \"continuousHeight\": 300}}, \"data\": {\"name\": \"data-b454b03a0c7bf1f42ddea95acf9303e9\"}, \"mark\": \"rect\", \"encoding\": {\"color\": {\"field\": \"count\", \"type\": \"quantitative\"}, \"x\": {\"field\": \"incident_date\", \"title\": \"Month\", \"type\": \"ordinal\"}, \"y\": {\"field\": \"day_of_week\", \"title\": \"Day of Week\", \"type\": \"nominal\"}}, \"$schema\": \"https://vega.github.io/schema/vega-lite/v4.17.0.json\", \"datasets\": {\"data-b454b03a0c7bf1f42ddea95acf9303e9\": [{\"incident_date\": \"01\", \"day_of_week\": \"Friday\", \"count\": 253}, {\"incident_date\": \"01\", \"day_of_week\": \"Monday\", \"count\": 201}, {\"incident_date\": \"01\", \"day_of_week\": \"Saturday\", \"count\": 206}, {\"incident_date\": \"01\", \"day_of_week\": \"Sunday\", \"count\": 206}, {\"incident_date\": \"01\", \"day_of_week\": \"Thursday\", \"count\": 287}, {\"incident_date\": \"01\", \"day_of_week\": \"Tuesday\", \"count\": 275}, {\"incident_date\": \"01\", \"day_of_week\": \"Wednesday\", \"count\": 371}, {\"incident_date\": \"02\", \"day_of_week\": \"Friday\", \"count\": 285}, {\"incident_date\": \"02\", \"day_of_week\": \"Monday\", \"count\": 211}, {\"incident_date\": \"02\", \"day_of_week\": \"Saturday\", \"count\": 231}, {\"incident_date\": \"02\", \"day_of_week\": \"Sunday\", \"count\": 200}, {\"incident_date\": \"02\", \"day_of_week\": \"Thursday\", \"count\": 322}, {\"incident_date\": \"02\", \"day_of_week\": \"Tuesday\", \"count\": 289}, {\"incident_date\": \"02\", \"day_of_week\": \"Wednesday\", \"count\": 371}, {\"incident_date\": \"03\", \"day_of_week\": \"Friday\", \"count\": 202}, {\"incident_date\": \"03\", \"day_of_week\": \"Monday\", \"count\": 130}, {\"incident_date\": \"03\", \"day_of_week\": \"Saturday\", \"count\": 197}, {\"incident_date\": \"03\", \"day_of_week\": \"Sunday\", \"count\": 158}, {\"incident_date\": \"03\", \"day_of_week\": \"Thursday\", \"count\": 249}, {\"incident_date\": \"03\", \"day_of_week\": \"Tuesday\", \"count\": 183}, {\"incident_date\": \"03\", \"day_of_week\": \"Wednesday\", \"count\": 276}, {\"incident_date\": \"04\", \"day_of_week\": \"Friday\", \"count\": 168}, {\"incident_date\": \"04\", \"day_of_week\": \"Monday\", \"count\": 164}, {\"incident_date\": \"04\", \"day_of_week\": \"Saturday\", \"count\": 101}, {\"incident_date\": \"04\", \"day_of_week\": \"Sunday\", \"count\": 111}, {\"incident_date\": \"04\", \"day_of_week\": \"Thursday\", \"count\": 225}, {\"incident_date\": \"04\", \"day_of_week\": \"Tuesday\", \"count\": 208}, {\"incident_date\": \"04\", \"day_of_week\": \"Wednesday\", \"count\": 225}, {\"incident_date\": \"05\", \"day_of_week\": \"Friday\", \"count\": 159}, {\"incident_date\": \"05\", \"day_of_week\": \"Monday\", \"count\": 147}, {\"incident_date\": \"05\", \"day_of_week\": \"Saturday\", \"count\": 123}, {\"incident_date\": \"05\", \"day_of_week\": \"Sunday\", \"count\": 133}, {\"incident_date\": \"05\", \"day_of_week\": \"Thursday\", \"count\": 209}, {\"incident_date\": \"05\", \"day_of_week\": \"Tuesday\", \"count\": 200}, {\"incident_date\": \"05\", \"day_of_week\": \"Wednesday\", \"count\": 307}, {\"incident_date\": \"06\", \"day_of_week\": \"Friday\", \"count\": 174}, {\"incident_date\": \"06\", \"day_of_week\": \"Monday\", \"count\": 157}, {\"incident_date\": \"06\", \"day_of_week\": \"Saturday\", \"count\": 129}, {\"incident_date\": \"06\", \"day_of_week\": \"Sunday\", \"count\": 107}, {\"incident_date\": \"06\", \"day_of_week\": \"Thursday\", \"count\": 197}, {\"incident_date\": \"06\", \"day_of_week\": \"Tuesday\", \"count\": 209}, {\"incident_date\": \"06\", \"day_of_week\": \"Wednesday\", \"count\": 279}, {\"incident_date\": \"07\", \"day_of_week\": \"Friday\", \"count\": 199}, {\"incident_date\": \"07\", \"day_of_week\": \"Monday\", \"count\": 237}, {\"incident_date\": \"07\", \"day_of_week\": \"Saturday\", \"count\": 183}, {\"incident_date\": \"07\", \"day_of_week\": \"Sunday\", \"count\": 146}, {\"incident_date\": \"07\", \"day_of_week\": \"Thursday\", \"count\": 290}, {\"incident_date\": \"07\", \"day_of_week\": \"Tuesday\", \"count\": 282}, {\"incident_date\": \"07\", \"day_of_week\": \"Wednesday\", \"count\": 320}, {\"incident_date\": \"08\", \"day_of_week\": \"Friday\", \"count\": 163}, {\"incident_date\": \"08\", \"day_of_week\": \"Monday\", \"count\": 199}, {\"incident_date\": \"08\", \"day_of_week\": \"Saturday\", \"count\": 121}, {\"incident_date\": \"08\", \"day_of_week\": \"Sunday\", \"count\": 104}, {\"incident_date\": \"08\", \"day_of_week\": \"Thursday\", \"count\": 278}, {\"incident_date\": \"08\", \"day_of_week\": \"Tuesday\", \"count\": 374}, {\"incident_date\": \"08\", \"day_of_week\": \"Wednesday\", \"count\": 293}, {\"incident_date\": \"09\", \"day_of_week\": \"Friday\", \"count\": 186}, {\"incident_date\": \"09\", \"day_of_week\": \"Monday\", \"count\": 157}, {\"incident_date\": \"09\", \"day_of_week\": \"Saturday\", \"count\": 137}, {\"incident_date\": \"09\", \"day_of_week\": \"Sunday\", \"count\": 97}, {\"incident_date\": \"09\", \"day_of_week\": \"Thursday\", \"count\": 217}, {\"incident_date\": \"09\", \"day_of_week\": \"Tuesday\", \"count\": 246}, {\"incident_date\": \"09\", \"day_of_week\": \"Wednesday\", \"count\": 283}, {\"incident_date\": \"10\", \"day_of_week\": \"Friday\", \"count\": 173}, {\"incident_date\": \"10\", \"day_of_week\": \"Monday\", \"count\": 196}, {\"incident_date\": \"10\", \"day_of_week\": \"Saturday\", \"count\": 157}, {\"incident_date\": \"10\", \"day_of_week\": \"Sunday\", \"count\": 131}, {\"incident_date\": \"10\", \"day_of_week\": \"Thursday\", \"count\": 188}, {\"incident_date\": \"10\", \"day_of_week\": \"Tuesday\", \"count\": 283}, {\"incident_date\": \"10\", \"day_of_week\": \"Wednesday\", \"count\": 270}, {\"incident_date\": \"11\", \"day_of_week\": \"Friday\", \"count\": 188}, {\"incident_date\": \"11\", \"day_of_week\": \"Monday\", \"count\": 156}, {\"incident_date\": \"11\", \"day_of_week\": \"Saturday\", \"count\": 163}, {\"incident_date\": \"11\", \"day_of_week\": \"Sunday\", \"count\": 109}, {\"incident_date\": \"11\", \"day_of_week\": \"Thursday\", \"count\": 191}, {\"incident_date\": \"11\", \"day_of_week\": \"Tuesday\", \"count\": 246}, {\"incident_date\": \"11\", \"day_of_week\": \"Wednesday\", \"count\": 307}, {\"incident_date\": \"12\", \"day_of_week\": \"Friday\", \"count\": 142}, {\"incident_date\": \"12\", \"day_of_week\": \"Monday\", \"count\": 145}, {\"incident_date\": \"12\", \"day_of_week\": \"Saturday\", \"count\": 120}, {\"incident_date\": \"12\", \"day_of_week\": \"Sunday\", \"count\": 166}, {\"incident_date\": \"12\", \"day_of_week\": \"Thursday\", \"count\": 226}, {\"incident_date\": \"12\", \"day_of_week\": \"Tuesday\", \"count\": 259}, {\"incident_date\": \"12\", \"day_of_week\": \"Wednesday\", \"count\": 275}]}}, {\"mode\": \"vega-lite\"});\n",
       "</script>"
      ],
      "text/plain": [
       "alt.Chart(...)"
      ]
     },
     "execution_count": 11,
     "metadata": {},
     "output_type": "execute_result"
    }
   ],
   "source": [
    "alt.Chart(month_week).mark_rect().encode(\n",
    "    alt.X('incident_date:O',title = 'Month'),\n",
    "    alt.Y('day_of_week',title = 'Day of Week'),\n",
    "    color='count'\n",
    ")"
   ]
  },
  {
   "cell_type": "code",
   "execution_count": 115,
   "metadata": {},
   "outputs": [
    {
     "data": {
      "text/html": [
       "<div>\n",
       "<style scoped>\n",
       "    .dataframe tbody tr th:only-of-type {\n",
       "        vertical-align: middle;\n",
       "    }\n",
       "\n",
       "    .dataframe tbody tr th {\n",
       "        vertical-align: top;\n",
       "    }\n",
       "\n",
       "    .dataframe thead th {\n",
       "        text-align: right;\n",
       "    }\n",
       "</style>\n",
       "<table border=\"1\" class=\"dataframe\">\n",
       "  <thead>\n",
       "    <tr style=\"text-align: right;\">\n",
       "      <th></th>\n",
       "      <th>day_of_week</th>\n",
       "      <th>incident_time</th>\n",
       "      <th>count</th>\n",
       "      <th>hour</th>\n",
       "    </tr>\n",
       "  </thead>\n",
       "  <tbody>\n",
       "    <tr>\n",
       "      <th>0</th>\n",
       "      <td>Friday</td>\n",
       "      <td>00</td>\n",
       "      <td>73</td>\n",
       "      <td>00:00</td>\n",
       "    </tr>\n",
       "    <tr>\n",
       "      <th>1</th>\n",
       "      <td>Friday</td>\n",
       "      <td>01</td>\n",
       "      <td>37</td>\n",
       "      <td>01:00</td>\n",
       "    </tr>\n",
       "    <tr>\n",
       "      <th>2</th>\n",
       "      <td>Friday</td>\n",
       "      <td>02</td>\n",
       "      <td>23</td>\n",
       "      <td>02:00</td>\n",
       "    </tr>\n",
       "    <tr>\n",
       "      <th>3</th>\n",
       "      <td>Friday</td>\n",
       "      <td>03</td>\n",
       "      <td>33</td>\n",
       "      <td>03:00</td>\n",
       "    </tr>\n",
       "    <tr>\n",
       "      <th>4</th>\n",
       "      <td>Friday</td>\n",
       "      <td>04</td>\n",
       "      <td>22</td>\n",
       "      <td>04:00</td>\n",
       "    </tr>\n",
       "  </tbody>\n",
       "</table>\n",
       "</div>"
      ],
      "text/plain": [
       "  day_of_week incident_time  count   hour\n",
       "0      Friday            00     73  00:00\n",
       "1      Friday            01     37  01:00\n",
       "2      Friday            02     23  02:00\n",
       "3      Friday            03     33  03:00\n",
       "4      Friday            04     22  04:00"
      ]
     },
     "execution_count": 115,
     "metadata": {},
     "output_type": "execute_result"
    }
   ],
   "source": [
    "week_time = drug_arrest.groupby([drug_arrest['day_of_week'],drug_arrest['incident_time'].dt.strftime('%H')]).size().reset_index(name='count')\n",
    "week_time['hour']=week_time['incident_time']+':00'\n",
    "week_time.head()\n"
   ]
  },
  {
   "cell_type": "code",
   "execution_count": 116,
   "metadata": {},
   "outputs": [
    {
     "data": {
      "text/html": [
       "\n",
       "<div id=\"altair-viz-23a5bf4d7be144ae9b8f0948f73df957\"></div>\n",
       "<script type=\"text/javascript\">\n",
       "  var VEGA_DEBUG = (typeof VEGA_DEBUG == \"undefined\") ? {} : VEGA_DEBUG;\n",
       "  (function(spec, embedOpt){\n",
       "    let outputDiv = document.currentScript.previousElementSibling;\n",
       "    if (outputDiv.id !== \"altair-viz-23a5bf4d7be144ae9b8f0948f73df957\") {\n",
       "      outputDiv = document.getElementById(\"altair-viz-23a5bf4d7be144ae9b8f0948f73df957\");\n",
       "    }\n",
       "    const paths = {\n",
       "      \"vega\": \"https://cdn.jsdelivr.net/npm/vega@5?noext\",\n",
       "      \"vega-lib\": \"https://cdn.jsdelivr.net/npm/vega-lib?noext\",\n",
       "      \"vega-lite\": \"https://cdn.jsdelivr.net/npm/vega-lite@5.6.1?noext\",\n",
       "      \"vega-embed\": \"https://cdn.jsdelivr.net/npm/vega-embed@6?noext\",\n",
       "    };\n",
       "\n",
       "    function maybeLoadScript(lib, version) {\n",
       "      var key = `${lib.replace(\"-\", \"\")}_version`;\n",
       "      return (VEGA_DEBUG[key] == version) ?\n",
       "        Promise.resolve(paths[lib]) :\n",
       "        new Promise(function(resolve, reject) {\n",
       "          var s = document.createElement('script');\n",
       "          document.getElementsByTagName(\"head\")[0].appendChild(s);\n",
       "          s.async = true;\n",
       "          s.onload = () => {\n",
       "            VEGA_DEBUG[key] = version;\n",
       "            return resolve(paths[lib]);\n",
       "          };\n",
       "          s.onerror = () => reject(`Error loading script: ${paths[lib]}`);\n",
       "          s.src = paths[lib];\n",
       "        });\n",
       "    }\n",
       "\n",
       "    function showError(err) {\n",
       "      outputDiv.innerHTML = `<div class=\"error\" style=\"color:red;\">${err}</div>`;\n",
       "      throw err;\n",
       "    }\n",
       "\n",
       "    function displayChart(vegaEmbed) {\n",
       "      vegaEmbed(outputDiv, spec, embedOpt)\n",
       "        .catch(err => showError(`Javascript Error: ${err.message}<br>This usually means there's a typo in your chart specification. See the javascript console for the full traceback.`));\n",
       "    }\n",
       "\n",
       "    if(typeof define === \"function\" && define.amd) {\n",
       "      requirejs.config({paths});\n",
       "      require([\"vega-embed\"], displayChart, err => showError(`Error loading script: ${err.message}`));\n",
       "    } else {\n",
       "      maybeLoadScript(\"vega\", \"5\")\n",
       "        .then(() => maybeLoadScript(\"vega-lite\", \"5.6.1\"))\n",
       "        .then(() => maybeLoadScript(\"vega-embed\", \"6\"))\n",
       "        .catch(showError)\n",
       "        .then(() => displayChart(vegaEmbed));\n",
       "    }\n",
       "  })({\"config\": {\"view\": {\"continuousWidth\": 300, \"continuousHeight\": 300}}, \"data\": {\"name\": \"data-925b1e005f8a42a3f607f6c36bfd5271\"}, \"mark\": {\"type\": \"rect\"}, \"encoding\": {\"color\": {\"field\": \"count\", \"type\": \"quantitative\"}, \"tooltip\": [{\"field\": \"day_of_week\", \"title\": \"Day\", \"type\": \"nominal\"}, {\"field\": \"hour\", \"title\": \"Time\", \"type\": \"nominal\"}, {\"field\": \"incident_time\", \"title\": \"Drug Arrests\", \"type\": \"nominal\"}], \"x\": {\"field\": \"incident_time\", \"title\": \"Hour of Day\", \"type\": \"nominal\"}, \"y\": {\"field\": \"day_of_week\", \"title\": \"Day of Week\", \"type\": \"nominal\"}}, \"$schema\": \"https://vega.github.io/schema/vega-lite/v5.6.1.json\", \"datasets\": {\"data-925b1e005f8a42a3f607f6c36bfd5271\": [{\"day_of_week\": \"Friday\", \"incident_time\": \"00\", \"count\": 73, \"hour\": \"00:00\"}, {\"day_of_week\": \"Friday\", \"incident_time\": \"01\", \"count\": 37, \"hour\": \"01:00\"}, {\"day_of_week\": \"Friday\", \"incident_time\": \"02\", \"count\": 23, \"hour\": \"02:00\"}, {\"day_of_week\": \"Friday\", \"incident_time\": \"03\", \"count\": 33, \"hour\": \"03:00\"}, {\"day_of_week\": \"Friday\", \"incident_time\": \"04\", \"count\": 22, \"hour\": \"04:00\"}, {\"day_of_week\": \"Friday\", \"incident_time\": \"05\", \"count\": 13, \"hour\": \"05:00\"}, {\"day_of_week\": \"Friday\", \"incident_time\": \"06\", \"count\": 31, \"hour\": \"06:00\"}, {\"day_of_week\": \"Friday\", \"incident_time\": \"07\", \"count\": 106, \"hour\": \"07:00\"}, {\"day_of_week\": \"Friday\", \"incident_time\": \"08\", \"count\": 112, \"hour\": \"08:00\"}, {\"day_of_week\": \"Friday\", \"incident_time\": \"09\", \"count\": 109, \"hour\": \"09:00\"}, {\"day_of_week\": \"Friday\", \"incident_time\": \"10\", \"count\": 125, \"hour\": \"10:00\"}, {\"day_of_week\": \"Friday\", \"incident_time\": \"11\", \"count\": 121, \"hour\": \"11:00\"}, {\"day_of_week\": \"Friday\", \"incident_time\": \"12\", \"count\": 183, \"hour\": \"12:00\"}, {\"day_of_week\": \"Friday\", \"incident_time\": \"13\", \"count\": 209, \"hour\": \"13:00\"}, {\"day_of_week\": \"Friday\", \"incident_time\": \"14\", \"count\": 158, \"hour\": \"14:00\"}, {\"day_of_week\": \"Friday\", \"incident_time\": \"15\", \"count\": 185, \"hour\": \"15:00\"}, {\"day_of_week\": \"Friday\", \"incident_time\": \"16\", \"count\": 172, \"hour\": \"16:00\"}, {\"day_of_week\": \"Friday\", \"incident_time\": \"17\", \"count\": 144, \"hour\": \"17:00\"}, {\"day_of_week\": \"Friday\", \"incident_time\": \"18\", \"count\": 105, \"hour\": \"18:00\"}, {\"day_of_week\": \"Friday\", \"incident_time\": \"19\", \"count\": 107, \"hour\": \"19:00\"}, {\"day_of_week\": \"Friday\", \"incident_time\": \"20\", \"count\": 39, \"hour\": \"20:00\"}, {\"day_of_week\": \"Friday\", \"incident_time\": \"21\", \"count\": 55, \"hour\": \"21:00\"}, {\"day_of_week\": \"Friday\", \"incident_time\": \"22\", \"count\": 72, \"hour\": \"22:00\"}, {\"day_of_week\": \"Friday\", \"incident_time\": \"23\", \"count\": 58, \"hour\": \"23:00\"}, {\"day_of_week\": \"Monday\", \"incident_time\": \"00\", \"count\": 42, \"hour\": \"00:00\"}, {\"day_of_week\": \"Monday\", \"incident_time\": \"01\", \"count\": 38, \"hour\": \"01:00\"}, {\"day_of_week\": \"Monday\", \"incident_time\": \"02\", \"count\": 40, \"hour\": \"02:00\"}, {\"day_of_week\": \"Monday\", \"incident_time\": \"03\", \"count\": 18, \"hour\": \"03:00\"}, {\"day_of_week\": \"Monday\", \"incident_time\": \"04\", \"count\": 11, \"hour\": \"04:00\"}, {\"day_of_week\": \"Monday\", \"incident_time\": \"05\", \"count\": 9, \"hour\": \"05:00\"}, {\"day_of_week\": \"Monday\", \"incident_time\": \"06\", \"count\": 29, \"hour\": \"06:00\"}, {\"day_of_week\": \"Monday\", \"incident_time\": \"07\", \"count\": 54, \"hour\": \"07:00\"}, {\"day_of_week\": \"Monday\", \"incident_time\": \"08\", \"count\": 67, \"hour\": \"08:00\"}, {\"day_of_week\": \"Monday\", \"incident_time\": \"09\", \"count\": 80, \"hour\": \"09:00\"}, {\"day_of_week\": \"Monday\", \"incident_time\": \"10\", \"count\": 53, \"hour\": \"10:00\"}, {\"day_of_week\": \"Monday\", \"incident_time\": \"11\", \"count\": 163, \"hour\": \"11:00\"}, {\"day_of_week\": \"Monday\", \"incident_time\": \"12\", \"count\": 167, \"hour\": \"12:00\"}, {\"day_of_week\": \"Monday\", \"incident_time\": \"13\", \"count\": 246, \"hour\": \"13:00\"}, {\"day_of_week\": \"Monday\", \"incident_time\": \"14\", \"count\": 234, \"hour\": \"14:00\"}, {\"day_of_week\": \"Monday\", \"incident_time\": \"15\", \"count\": 199, \"hour\": \"15:00\"}, {\"day_of_week\": \"Monday\", \"incident_time\": \"16\", \"count\": 155, \"hour\": \"16:00\"}, {\"day_of_week\": \"Monday\", \"incident_time\": \"17\", \"count\": 124, \"hour\": \"17:00\"}, {\"day_of_week\": \"Monday\", \"incident_time\": \"18\", \"count\": 114, \"hour\": \"18:00\"}, {\"day_of_week\": \"Monday\", \"incident_time\": \"19\", \"count\": 82, \"hour\": \"19:00\"}, {\"day_of_week\": \"Monday\", \"incident_time\": \"20\", \"count\": 44, \"hour\": \"20:00\"}, {\"day_of_week\": \"Monday\", \"incident_time\": \"21\", \"count\": 50, \"hour\": \"21:00\"}, {\"day_of_week\": \"Monday\", \"incident_time\": \"22\", \"count\": 37, \"hour\": \"22:00\"}, {\"day_of_week\": \"Monday\", \"incident_time\": \"23\", \"count\": 44, \"hour\": \"23:00\"}, {\"day_of_week\": \"Saturday\", \"incident_time\": \"00\", \"count\": 72, \"hour\": \"00:00\"}, {\"day_of_week\": \"Saturday\", \"incident_time\": \"01\", \"count\": 37, \"hour\": \"01:00\"}, {\"day_of_week\": \"Saturday\", \"incident_time\": \"02\", \"count\": 46, \"hour\": \"02:00\"}, {\"day_of_week\": \"Saturday\", \"incident_time\": \"03\", \"count\": 13, \"hour\": \"03:00\"}, {\"day_of_week\": \"Saturday\", \"incident_time\": \"04\", \"count\": 19, \"hour\": \"04:00\"}, {\"day_of_week\": \"Saturday\", \"incident_time\": \"05\", \"count\": 16, \"hour\": \"05:00\"}, {\"day_of_week\": \"Saturday\", \"incident_time\": \"06\", \"count\": 35, \"hour\": \"06:00\"}, {\"day_of_week\": \"Saturday\", \"incident_time\": \"07\", \"count\": 74, \"hour\": \"07:00\"}, {\"day_of_week\": \"Saturday\", \"incident_time\": \"08\", \"count\": 121, \"hour\": \"08:00\"}, {\"day_of_week\": \"Saturday\", \"incident_time\": \"09\", \"count\": 92, \"hour\": \"09:00\"}, {\"day_of_week\": \"Saturday\", \"incident_time\": \"10\", \"count\": 108, \"hour\": \"10:00\"}, {\"day_of_week\": \"Saturday\", \"incident_time\": \"11\", \"count\": 112, \"hour\": \"11:00\"}, {\"day_of_week\": \"Saturday\", \"incident_time\": \"12\", \"count\": 134, \"hour\": \"12:00\"}, {\"day_of_week\": \"Saturday\", \"incident_time\": \"13\", \"count\": 119, \"hour\": \"13:00\"}, {\"day_of_week\": \"Saturday\", \"incident_time\": \"14\", \"count\": 117, \"hour\": \"14:00\"}, {\"day_of_week\": \"Saturday\", \"incident_time\": \"15\", \"count\": 167, \"hour\": \"15:00\"}, {\"day_of_week\": \"Saturday\", \"incident_time\": \"16\", \"count\": 141, \"hour\": \"16:00\"}, {\"day_of_week\": \"Saturday\", \"incident_time\": \"17\", \"count\": 131, \"hour\": \"17:00\"}, {\"day_of_week\": \"Saturday\", \"incident_time\": \"18\", \"count\": 74, \"hour\": \"18:00\"}, {\"day_of_week\": \"Saturday\", \"incident_time\": \"19\", \"count\": 64, \"hour\": \"19:00\"}, {\"day_of_week\": \"Saturday\", \"incident_time\": \"20\", \"count\": 35, \"hour\": \"20:00\"}, {\"day_of_week\": \"Saturday\", \"incident_time\": \"21\", \"count\": 46, \"hour\": \"21:00\"}, {\"day_of_week\": \"Saturday\", \"incident_time\": \"22\", \"count\": 49, \"hour\": \"22:00\"}, {\"day_of_week\": \"Saturday\", \"incident_time\": \"23\", \"count\": 46, \"hour\": \"23:00\"}, {\"day_of_week\": \"Sunday\", \"incident_time\": \"00\", \"count\": 33, \"hour\": \"00:00\"}, {\"day_of_week\": \"Sunday\", \"incident_time\": \"01\", \"count\": 18, \"hour\": \"01:00\"}, {\"day_of_week\": \"Sunday\", \"incident_time\": \"02\", \"count\": 24, \"hour\": \"02:00\"}, {\"day_of_week\": \"Sunday\", \"incident_time\": \"03\", \"count\": 21, \"hour\": \"03:00\"}, {\"day_of_week\": \"Sunday\", \"incident_time\": \"04\", \"count\": 7, \"hour\": \"04:00\"}, {\"day_of_week\": \"Sunday\", \"incident_time\": \"05\", \"count\": 15, \"hour\": \"05:00\"}, {\"day_of_week\": \"Sunday\", \"incident_time\": \"06\", \"count\": 48, \"hour\": \"06:00\"}, {\"day_of_week\": \"Sunday\", \"incident_time\": \"07\", \"count\": 53, \"hour\": \"07:00\"}, {\"day_of_week\": \"Sunday\", \"incident_time\": \"08\", \"count\": 68, \"hour\": \"08:00\"}, {\"day_of_week\": \"Sunday\", \"incident_time\": \"09\", \"count\": 76, \"hour\": \"09:00\"}, {\"day_of_week\": \"Sunday\", \"incident_time\": \"10\", \"count\": 70, \"hour\": \"10:00\"}, {\"day_of_week\": \"Sunday\", \"incident_time\": \"11\", \"count\": 129, \"hour\": \"11:00\"}, {\"day_of_week\": \"Sunday\", \"incident_time\": \"12\", \"count\": 158, \"hour\": \"12:00\"}, {\"day_of_week\": \"Sunday\", \"incident_time\": \"13\", \"count\": 158, \"hour\": \"13:00\"}, {\"day_of_week\": \"Sunday\", \"incident_time\": \"14\", \"count\": 106, \"hour\": \"14:00\"}, {\"day_of_week\": \"Sunday\", \"incident_time\": \"15\", \"count\": 143, \"hour\": \"15:00\"}, {\"day_of_week\": \"Sunday\", \"incident_time\": \"16\", \"count\": 99, \"hour\": \"16:00\"}, {\"day_of_week\": \"Sunday\", \"incident_time\": \"17\", \"count\": 116, \"hour\": \"17:00\"}, {\"day_of_week\": \"Sunday\", \"incident_time\": \"18\", \"count\": 75, \"hour\": \"18:00\"}, {\"day_of_week\": \"Sunday\", \"incident_time\": \"19\", \"count\": 45, \"hour\": \"19:00\"}, {\"day_of_week\": \"Sunday\", \"incident_time\": \"20\", \"count\": 42, \"hour\": \"20:00\"}, {\"day_of_week\": \"Sunday\", \"incident_time\": \"21\", \"count\": 43, \"hour\": \"21:00\"}, {\"day_of_week\": \"Sunday\", \"incident_time\": \"22\", \"count\": 70, \"hour\": \"22:00\"}, {\"day_of_week\": \"Sunday\", \"incident_time\": \"23\", \"count\": 51, \"hour\": \"23:00\"}, {\"day_of_week\": \"Thursday\", \"incident_time\": \"00\", \"count\": 58, \"hour\": \"00:00\"}, {\"day_of_week\": \"Thursday\", \"incident_time\": \"01\", \"count\": 54, \"hour\": \"01:00\"}, {\"day_of_week\": \"Thursday\", \"incident_time\": \"02\", \"count\": 33, \"hour\": \"02:00\"}, {\"day_of_week\": \"Thursday\", \"incident_time\": \"03\", \"count\": 36, \"hour\": \"03:00\"}, {\"day_of_week\": \"Thursday\", \"incident_time\": \"04\", \"count\": 12, \"hour\": \"04:00\"}, {\"day_of_week\": \"Thursday\", \"incident_time\": \"05\", \"count\": 24, \"hour\": \"05:00\"}, {\"day_of_week\": \"Thursday\", \"incident_time\": \"06\", \"count\": 35, \"hour\": \"06:00\"}, {\"day_of_week\": \"Thursday\", \"incident_time\": \"07\", \"count\": 123, \"hour\": \"07:00\"}, {\"day_of_week\": \"Thursday\", \"incident_time\": \"08\", \"count\": 123, \"hour\": \"08:00\"}, {\"day_of_week\": \"Thursday\", \"incident_time\": \"09\", \"count\": 146, \"hour\": \"09:00\"}, {\"day_of_week\": \"Thursday\", \"incident_time\": \"10\", \"count\": 132, \"hour\": \"10:00\"}, {\"day_of_week\": \"Thursday\", \"incident_time\": \"11\", \"count\": 144, \"hour\": \"11:00\"}, {\"day_of_week\": \"Thursday\", \"incident_time\": \"12\", \"count\": 193, \"hour\": \"12:00\"}, {\"day_of_week\": \"Thursday\", \"incident_time\": \"13\", \"count\": 327, \"hour\": \"13:00\"}, {\"day_of_week\": \"Thursday\", \"incident_time\": \"14\", \"count\": 282, \"hour\": \"14:00\"}, {\"day_of_week\": \"Thursday\", \"incident_time\": \"15\", \"count\": 260, \"hour\": \"15:00\"}, {\"day_of_week\": \"Thursday\", \"incident_time\": \"16\", \"count\": 231, \"hour\": \"16:00\"}, {\"day_of_week\": \"Thursday\", \"incident_time\": \"17\", \"count\": 172, \"hour\": \"17:00\"}, {\"day_of_week\": \"Thursday\", \"incident_time\": \"18\", \"count\": 117, \"hour\": \"18:00\"}, {\"day_of_week\": \"Thursday\", \"incident_time\": \"19\", \"count\": 100, \"hour\": \"19:00\"}, {\"day_of_week\": \"Thursday\", \"incident_time\": \"20\", \"count\": 57, \"hour\": \"20:00\"}, {\"day_of_week\": \"Thursday\", \"incident_time\": \"21\", \"count\": 64, \"hour\": \"21:00\"}, {\"day_of_week\": \"Thursday\", \"incident_time\": \"22\", \"count\": 71, \"hour\": \"22:00\"}, {\"day_of_week\": \"Thursday\", \"incident_time\": \"23\", \"count\": 85, \"hour\": \"23:00\"}, {\"day_of_week\": \"Tuesday\", \"incident_time\": \"00\", \"count\": 62, \"hour\": \"00:00\"}, {\"day_of_week\": \"Tuesday\", \"incident_time\": \"01\", \"count\": 38, \"hour\": \"01:00\"}, {\"day_of_week\": \"Tuesday\", \"incident_time\": \"02\", \"count\": 28, \"hour\": \"02:00\"}, {\"day_of_week\": \"Tuesday\", \"incident_time\": \"03\", \"count\": 34, \"hour\": \"03:00\"}, {\"day_of_week\": \"Tuesday\", \"incident_time\": \"04\", \"count\": 17, \"hour\": \"04:00\"}, {\"day_of_week\": \"Tuesday\", \"incident_time\": \"05\", \"count\": 11, \"hour\": \"05:00\"}, {\"day_of_week\": \"Tuesday\", \"incident_time\": \"06\", \"count\": 31, \"hour\": \"06:00\"}, {\"day_of_week\": \"Tuesday\", \"incident_time\": \"07\", \"count\": 77, \"hour\": \"07:00\"}, {\"day_of_week\": \"Tuesday\", \"incident_time\": \"08\", \"count\": 92, \"hour\": \"08:00\"}, {\"day_of_week\": \"Tuesday\", \"incident_time\": \"09\", \"count\": 91, \"hour\": \"09:00\"}, {\"day_of_week\": \"Tuesday\", \"incident_time\": \"10\", \"count\": 80, \"hour\": \"10:00\"}, {\"day_of_week\": \"Tuesday\", \"incident_time\": \"11\", \"count\": 142, \"hour\": \"11:00\"}, {\"day_of_week\": \"Tuesday\", \"incident_time\": \"12\", \"count\": 227, \"hour\": \"12:00\"}, {\"day_of_week\": \"Tuesday\", \"incident_time\": \"13\", \"count\": 312, \"hour\": \"13:00\"}, {\"day_of_week\": \"Tuesday\", \"incident_time\": \"14\", \"count\": 450, \"hour\": \"14:00\"}, {\"day_of_week\": \"Tuesday\", \"incident_time\": \"15\", \"count\": 343, \"hour\": \"15:00\"}, {\"day_of_week\": \"Tuesday\", \"incident_time\": \"16\", \"count\": 332, \"hour\": \"16:00\"}, {\"day_of_week\": \"Tuesday\", \"incident_time\": \"17\", \"count\": 190, \"hour\": \"17:00\"}, {\"day_of_week\": \"Tuesday\", \"incident_time\": \"18\", \"count\": 134, \"hour\": \"18:00\"}, {\"day_of_week\": \"Tuesday\", \"incident_time\": \"19\", \"count\": 112, \"hour\": \"19:00\"}, {\"day_of_week\": \"Tuesday\", \"incident_time\": \"20\", \"count\": 64, \"hour\": \"20:00\"}, {\"day_of_week\": \"Tuesday\", \"incident_time\": \"21\", \"count\": 40, \"hour\": \"21:00\"}, {\"day_of_week\": \"Tuesday\", \"incident_time\": \"22\", \"count\": 81, \"hour\": \"22:00\"}, {\"day_of_week\": \"Tuesday\", \"incident_time\": \"23\", \"count\": 66, \"hour\": \"23:00\"}, {\"day_of_week\": \"Wednesday\", \"incident_time\": \"00\", \"count\": 62, \"hour\": \"00:00\"}, {\"day_of_week\": \"Wednesday\", \"incident_time\": \"01\", \"count\": 22, \"hour\": \"01:00\"}, {\"day_of_week\": \"Wednesday\", \"incident_time\": \"02\", \"count\": 51, \"hour\": \"02:00\"}, {\"day_of_week\": \"Wednesday\", \"incident_time\": \"03\", \"count\": 36, \"hour\": \"03:00\"}, {\"day_of_week\": \"Wednesday\", \"incident_time\": \"04\", \"count\": 16, \"hour\": \"04:00\"}, {\"day_of_week\": \"Wednesday\", \"incident_time\": \"05\", \"count\": 16, \"hour\": \"05:00\"}, {\"day_of_week\": \"Wednesday\", \"incident_time\": \"06\", \"count\": 59, \"hour\": \"06:00\"}, {\"day_of_week\": \"Wednesday\", \"incident_time\": \"07\", \"count\": 148, \"hour\": \"07:00\"}, {\"day_of_week\": \"Wednesday\", \"incident_time\": \"08\", \"count\": 137, \"hour\": \"08:00\"}, {\"day_of_week\": \"Wednesday\", \"incident_time\": \"09\", \"count\": 155, \"hour\": \"09:00\"}, {\"day_of_week\": \"Wednesday\", \"incident_time\": \"10\", \"count\": 150, \"hour\": \"10:00\"}, {\"day_of_week\": \"Wednesday\", \"incident_time\": \"11\", \"count\": 208, \"hour\": \"11:00\"}, {\"day_of_week\": \"Wednesday\", \"incident_time\": \"12\", \"count\": 268, \"hour\": \"12:00\"}, {\"day_of_week\": \"Wednesday\", \"incident_time\": \"13\", \"count\": 375, \"hour\": \"13:00\"}, {\"day_of_week\": \"Wednesday\", \"incident_time\": \"14\", \"count\": 392, \"hour\": \"14:00\"}, {\"day_of_week\": \"Wednesday\", \"incident_time\": \"15\", \"count\": 338, \"hour\": \"15:00\"}, {\"day_of_week\": \"Wednesday\", \"incident_time\": \"16\", \"count\": 286, \"hour\": \"16:00\"}, {\"day_of_week\": \"Wednesday\", \"incident_time\": \"17\", \"count\": 216, \"hour\": \"17:00\"}, {\"day_of_week\": \"Wednesday\", \"incident_time\": \"18\", \"count\": 180, \"hour\": \"18:00\"}, {\"day_of_week\": \"Wednesday\", \"incident_time\": \"19\", \"count\": 137, \"hour\": \"19:00\"}, {\"day_of_week\": \"Wednesday\", \"incident_time\": \"20\", \"count\": 108, \"hour\": \"20:00\"}, {\"day_of_week\": \"Wednesday\", \"incident_time\": \"21\", \"count\": 75, \"hour\": \"21:00\"}, {\"day_of_week\": \"Wednesday\", \"incident_time\": \"22\", \"count\": 77, \"hour\": \"22:00\"}, {\"day_of_week\": \"Wednesday\", \"incident_time\": \"23\", \"count\": 65, \"hour\": \"23:00\"}]}}, {\"mode\": \"vega-lite\"});\n",
       "</script>"
      ],
      "text/plain": [
       "alt.Chart(...)"
      ]
     },
     "execution_count": 116,
     "metadata": {},
     "output_type": "execute_result"
    }
   ],
   "source": [
    "base = alt.Chart(week_time).mark_rect().encode(\n",
    "    alt.Y('day_of_week',title = 'Day of Week'),\n",
    "    alt.X('incident_time',title = 'Hour of Day'),\n",
    "    color='count',\n",
    "    tooltip = [alt.Tooltip('day_of_week',title='Day'),\n",
    "               alt.Tooltip('hour',title = 'Time'),\n",
    "               alt.Tooltip('incident_time',title='Drug Arrests')]\n",
    ")\n",
    "base"
   ]
  },
  {
   "cell_type": "code",
   "execution_count": 106,
   "metadata": {},
   "outputs": [
    {
     "ename": "KeyError",
     "evalue": "'year'",
     "output_type": "error",
     "traceback": [
      "\u001b[0;31m---------------------------------------------------------------------------\u001b[0m",
      "\u001b[0;31mKeyError\u001b[0m                                  Traceback (most recent call last)",
      "File \u001b[0;32m~/.local/share/virtualenvs/sfpd-data-AxbqjJ7A/lib/python3.9/site-packages/pandas/core/indexes/base.py:3802\u001b[0m, in \u001b[0;36mIndex.get_loc\u001b[0;34m(self, key, method, tolerance)\u001b[0m\n\u001b[1;32m   3801\u001b[0m \u001b[38;5;28;01mtry\u001b[39;00m:\n\u001b[0;32m-> 3802\u001b[0m     \u001b[38;5;28;01mreturn\u001b[39;00m \u001b[38;5;28;43mself\u001b[39;49m\u001b[38;5;241;43m.\u001b[39;49m\u001b[43m_engine\u001b[49m\u001b[38;5;241;43m.\u001b[39;49m\u001b[43mget_loc\u001b[49m\u001b[43m(\u001b[49m\u001b[43mcasted_key\u001b[49m\u001b[43m)\u001b[49m\n\u001b[1;32m   3803\u001b[0m \u001b[38;5;28;01mexcept\u001b[39;00m \u001b[38;5;167;01mKeyError\u001b[39;00m \u001b[38;5;28;01mas\u001b[39;00m err:\n",
      "File \u001b[0;32m~/.local/share/virtualenvs/sfpd-data-AxbqjJ7A/lib/python3.9/site-packages/pandas/_libs/index.pyx:138\u001b[0m, in \u001b[0;36mpandas._libs.index.IndexEngine.get_loc\u001b[0;34m()\u001b[0m\n",
      "File \u001b[0;32m~/.local/share/virtualenvs/sfpd-data-AxbqjJ7A/lib/python3.9/site-packages/pandas/_libs/index.pyx:165\u001b[0m, in \u001b[0;36mpandas._libs.index.IndexEngine.get_loc\u001b[0;34m()\u001b[0m\n",
      "File \u001b[0;32mpandas/_libs/hashtable_class_helper.pxi:5745\u001b[0m, in \u001b[0;36mpandas._libs.hashtable.PyObjectHashTable.get_item\u001b[0;34m()\u001b[0m\n",
      "File \u001b[0;32mpandas/_libs/hashtable_class_helper.pxi:5753\u001b[0m, in \u001b[0;36mpandas._libs.hashtable.PyObjectHashTable.get_item\u001b[0;34m()\u001b[0m\n",
      "\u001b[0;31mKeyError\u001b[0m: 'year'",
      "\nThe above exception was the direct cause of the following exception:\n",
      "\u001b[0;31mKeyError\u001b[0m                                  Traceback (most recent call last)",
      "Cell \u001b[0;32mIn[106], line 1\u001b[0m\n\u001b[0;32m----> 1\u001b[0m yr_month_week \u001b[38;5;241m=\u001b[39m drug_arrest\u001b[38;5;241m.\u001b[39mgroupby([\u001b[43mdrug_arrest\u001b[49m\u001b[43m[\u001b[49m\u001b[38;5;124;43m'\u001b[39;49m\u001b[38;5;124;43myear\u001b[39;49m\u001b[38;5;124;43m'\u001b[39;49m\u001b[43m]\u001b[49m,drug_arrest[\u001b[38;5;124m'\u001b[39m\u001b[38;5;124mincident_date\u001b[39m\u001b[38;5;124m'\u001b[39m]\u001b[38;5;241m.\u001b[39mdt\u001b[38;5;241m.\u001b[39mstrftime(\u001b[38;5;124m'\u001b[39m\u001b[38;5;124m%\u001b[39m\u001b[38;5;124mm\u001b[39m\u001b[38;5;124m'\u001b[39m),drug_arrest[\u001b[38;5;124m'\u001b[39m\u001b[38;5;124mday_of_week\u001b[39m\u001b[38;5;124m'\u001b[39m]])\u001b[38;5;241m.\u001b[39msize()\u001b[38;5;241m.\u001b[39mreset_index(name\u001b[38;5;241m=\u001b[39m\u001b[38;5;124m'\u001b[39m\u001b[38;5;124mcount\u001b[39m\u001b[38;5;124m'\u001b[39m)\n\u001b[1;32m      2\u001b[0m yr_month_week\u001b[38;5;241m.\u001b[39mhead()\n\u001b[1;32m      3\u001b[0m alt\u001b[38;5;241m.\u001b[39mChart(yr_month_week)\u001b[38;5;241m.\u001b[39mmark_rect()\u001b[38;5;241m.\u001b[39mencode(\n\u001b[1;32m      4\u001b[0m     alt\u001b[38;5;241m.\u001b[39mX(\u001b[38;5;124m'\u001b[39m\u001b[38;5;124mincident_date:O\u001b[39m\u001b[38;5;124m'\u001b[39m,title \u001b[38;5;241m=\u001b[39m \u001b[38;5;124m'\u001b[39m\u001b[38;5;124mMonth\u001b[39m\u001b[38;5;124m'\u001b[39m),\n\u001b[1;32m      5\u001b[0m     alt\u001b[38;5;241m.\u001b[39mY(\u001b[38;5;124m'\u001b[39m\u001b[38;5;124mday_of_week\u001b[39m\u001b[38;5;124m'\u001b[39m,title \u001b[38;5;241m=\u001b[39m \u001b[38;5;124m'\u001b[39m\u001b[38;5;124mDay of Week\u001b[39m\u001b[38;5;124m'\u001b[39m),\n\u001b[1;32m      6\u001b[0m     color\u001b[38;5;241m=\u001b[39m\u001b[38;5;124m'\u001b[39m\u001b[38;5;124msum(count)\u001b[39m\u001b[38;5;124m'\u001b[39m\n\u001b[1;32m      7\u001b[0m )\n",
      "File \u001b[0;32m~/.local/share/virtualenvs/sfpd-data-AxbqjJ7A/lib/python3.9/site-packages/pandas/core/frame.py:3807\u001b[0m, in \u001b[0;36mDataFrame.__getitem__\u001b[0;34m(self, key)\u001b[0m\n\u001b[1;32m   3805\u001b[0m \u001b[38;5;28;01mif\u001b[39;00m \u001b[38;5;28mself\u001b[39m\u001b[38;5;241m.\u001b[39mcolumns\u001b[38;5;241m.\u001b[39mnlevels \u001b[38;5;241m>\u001b[39m \u001b[38;5;241m1\u001b[39m:\n\u001b[1;32m   3806\u001b[0m     \u001b[38;5;28;01mreturn\u001b[39;00m \u001b[38;5;28mself\u001b[39m\u001b[38;5;241m.\u001b[39m_getitem_multilevel(key)\n\u001b[0;32m-> 3807\u001b[0m indexer \u001b[38;5;241m=\u001b[39m \u001b[38;5;28;43mself\u001b[39;49m\u001b[38;5;241;43m.\u001b[39;49m\u001b[43mcolumns\u001b[49m\u001b[38;5;241;43m.\u001b[39;49m\u001b[43mget_loc\u001b[49m\u001b[43m(\u001b[49m\u001b[43mkey\u001b[49m\u001b[43m)\u001b[49m\n\u001b[1;32m   3808\u001b[0m \u001b[38;5;28;01mif\u001b[39;00m is_integer(indexer):\n\u001b[1;32m   3809\u001b[0m     indexer \u001b[38;5;241m=\u001b[39m [indexer]\n",
      "File \u001b[0;32m~/.local/share/virtualenvs/sfpd-data-AxbqjJ7A/lib/python3.9/site-packages/pandas/core/indexes/base.py:3804\u001b[0m, in \u001b[0;36mIndex.get_loc\u001b[0;34m(self, key, method, tolerance)\u001b[0m\n\u001b[1;32m   3802\u001b[0m     \u001b[38;5;28;01mreturn\u001b[39;00m \u001b[38;5;28mself\u001b[39m\u001b[38;5;241m.\u001b[39m_engine\u001b[38;5;241m.\u001b[39mget_loc(casted_key)\n\u001b[1;32m   3803\u001b[0m \u001b[38;5;28;01mexcept\u001b[39;00m \u001b[38;5;167;01mKeyError\u001b[39;00m \u001b[38;5;28;01mas\u001b[39;00m err:\n\u001b[0;32m-> 3804\u001b[0m     \u001b[38;5;28;01mraise\u001b[39;00m \u001b[38;5;167;01mKeyError\u001b[39;00m(key) \u001b[38;5;28;01mfrom\u001b[39;00m \u001b[38;5;21;01merr\u001b[39;00m\n\u001b[1;32m   3805\u001b[0m \u001b[38;5;28;01mexcept\u001b[39;00m \u001b[38;5;167;01mTypeError\u001b[39;00m:\n\u001b[1;32m   3806\u001b[0m     \u001b[38;5;66;03m# If we have a listlike key, _check_indexing_error will raise\u001b[39;00m\n\u001b[1;32m   3807\u001b[0m     \u001b[38;5;66;03m#  InvalidIndexError. Otherwise we fall through and re-raise\u001b[39;00m\n\u001b[1;32m   3808\u001b[0m     \u001b[38;5;66;03m#  the TypeError.\u001b[39;00m\n\u001b[1;32m   3809\u001b[0m     \u001b[38;5;28mself\u001b[39m\u001b[38;5;241m.\u001b[39m_check_indexing_error(key)\n",
      "\u001b[0;31mKeyError\u001b[0m: 'year'"
     ]
    }
   ],
   "source": [
    "yr_month_week = drug_arrest.groupby([drug_arrest['year'],drug_arrest['incident_date'].dt.strftime('%m'),drug_arrest['day_of_week']]).size().reset_index(name='count')\n",
    "yr_month_week.head()\n",
    "alt.Chart(yr_month_week).mark_rect().encode(\n",
    "    alt.X('incident_date:O',title = 'Month'),\n",
    "    alt.Y('day_of_week',title = 'Day of Week'),\n",
    "    color='sum(count)'\n",
    ")"
   ]
  },
  {
   "cell_type": "code",
   "execution_count": 28,
   "metadata": {},
   "outputs": [
    {
     "data": {
      "text/html": [
       "\n",
       "<div id=\"altair-viz-07fb425e73c4443dacac2cf6abb390f3\"></div>\n",
       "<script type=\"text/javascript\">\n",
       "  var VEGA_DEBUG = (typeof VEGA_DEBUG == \"undefined\") ? {} : VEGA_DEBUG;\n",
       "  (function(spec, embedOpt){\n",
       "    let outputDiv = document.currentScript.previousElementSibling;\n",
       "    if (outputDiv.id !== \"altair-viz-07fb425e73c4443dacac2cf6abb390f3\") {\n",
       "      outputDiv = document.getElementById(\"altair-viz-07fb425e73c4443dacac2cf6abb390f3\");\n",
       "    }\n",
       "    const paths = {\n",
       "      \"vega\": \"https://cdn.jsdelivr.net/npm/vega@5?noext\",\n",
       "      \"vega-lib\": \"https://cdn.jsdelivr.net/npm/vega-lib?noext\",\n",
       "      \"vega-lite\": \"https://cdn.jsdelivr.net/npm/vega-lite@5.6.1?noext\",\n",
       "      \"vega-embed\": \"https://cdn.jsdelivr.net/npm/vega-embed@6?noext\",\n",
       "    };\n",
       "\n",
       "    function maybeLoadScript(lib, version) {\n",
       "      var key = `${lib.replace(\"-\", \"\")}_version`;\n",
       "      return (VEGA_DEBUG[key] == version) ?\n",
       "        Promise.resolve(paths[lib]) :\n",
       "        new Promise(function(resolve, reject) {\n",
       "          var s = document.createElement('script');\n",
       "          document.getElementsByTagName(\"head\")[0].appendChild(s);\n",
       "          s.async = true;\n",
       "          s.onload = () => {\n",
       "            VEGA_DEBUG[key] = version;\n",
       "            return resolve(paths[lib]);\n",
       "          };\n",
       "          s.onerror = () => reject(`Error loading script: ${paths[lib]}`);\n",
       "          s.src = paths[lib];\n",
       "        });\n",
       "    }\n",
       "\n",
       "    function showError(err) {\n",
       "      outputDiv.innerHTML = `<div class=\"error\" style=\"color:red;\">${err}</div>`;\n",
       "      throw err;\n",
       "    }\n",
       "\n",
       "    function displayChart(vegaEmbed) {\n",
       "      vegaEmbed(outputDiv, spec, embedOpt)\n",
       "        .catch(err => showError(`Javascript Error: ${err.message}<br>This usually means there's a typo in your chart specification. See the javascript console for the full traceback.`));\n",
       "    }\n",
       "\n",
       "    if(typeof define === \"function\" && define.amd) {\n",
       "      requirejs.config({paths});\n",
       "      require([\"vega-embed\"], displayChart, err => showError(`Error loading script: ${err.message}`));\n",
       "    } else {\n",
       "      maybeLoadScript(\"vega\", \"5\")\n",
       "        .then(() => maybeLoadScript(\"vega-lite\", \"5.6.1\"))\n",
       "        .then(() => maybeLoadScript(\"vega-embed\", \"6\"))\n",
       "        .catch(showError)\n",
       "        .then(() => displayChart(vegaEmbed));\n",
       "    }\n",
       "  })({\"config\": {\"view\": {\"continuousWidth\": 300, \"continuousHeight\": 300}}, \"data\": {\"name\": \"data-09fa555d1c83c8a82b8855af93d836e2\"}, \"mark\": {\"type\": \"bar\"}, \"encoding\": {\"x\": {\"field\": \"incident_date\", \"type\": \"temporal\"}, \"y\": {\"field\": \"count\", \"type\": \"quantitative\"}}, \"$schema\": \"https://vega.github.io/schema/vega-lite/v5.6.1.json\", \"datasets\": {\"data-09fa555d1c83c8a82b8855af93d836e2\": [{\"incident_date\": \"2018-01\", \"count\": 337, \"incident_date_2\": \"2018-01\"}, {\"incident_date\": \"2018-02\", \"count\": 356, \"incident_date_2\": \"2018-02\"}, {\"incident_date\": \"2018-03\", \"count\": 423, \"incident_date_2\": \"2018-03\"}, {\"incident_date\": \"2018-04\", \"count\": 348, \"incident_date_2\": \"2018-04\"}, {\"incident_date\": \"2018-05\", \"count\": 384, \"incident_date_2\": \"2018-05\"}, {\"incident_date\": \"2018-06\", \"count\": 251, \"incident_date_2\": \"2018-06\"}, {\"incident_date\": \"2018-07\", \"count\": 334, \"incident_date_2\": \"2018-07\"}, {\"incident_date\": \"2018-08\", \"count\": 287, \"incident_date_2\": \"2018-08\"}, {\"incident_date\": \"2018-09\", \"count\": 274, \"incident_date_2\": \"2018-09\"}, {\"incident_date\": \"2018-10\", \"count\": 445, \"incident_date_2\": \"2018-10\"}, {\"incident_date\": \"2018-11\", \"count\": 437, \"incident_date_2\": \"2018-11\"}, {\"incident_date\": \"2018-12\", \"count\": 267, \"incident_date_2\": \"2018-12\"}, {\"incident_date\": \"2019-01\", \"count\": 316, \"incident_date_2\": \"2019-01\"}, {\"incident_date\": \"2019-02\", \"count\": 285, \"incident_date_2\": \"2019-02\"}, {\"incident_date\": \"2019-03\", \"count\": 323, \"incident_date_2\": \"2019-03\"}, {\"incident_date\": \"2019-04\", \"count\": 329, \"incident_date_2\": \"2019-04\"}, {\"incident_date\": \"2019-05\", \"count\": 295, \"incident_date_2\": \"2019-05\"}, {\"incident_date\": \"2019-06\", \"count\": 291, \"incident_date_2\": \"2019-06\"}, {\"incident_date\": \"2019-07\", \"count\": 353, \"incident_date_2\": \"2019-07\"}, {\"incident_date\": \"2019-08\", \"count\": 294, \"incident_date_2\": \"2019-08\"}, {\"incident_date\": \"2019-09\", \"count\": 320, \"incident_date_2\": \"2019-09\"}, {\"incident_date\": \"2019-10\", \"count\": 303, \"incident_date_2\": \"2019-10\"}, {\"incident_date\": \"2019-11\", \"count\": 293, \"incident_date_2\": \"2019-11\"}, {\"incident_date\": \"2019-12\", \"count\": 293, \"incident_date_2\": \"2019-12\"}, {\"incident_date\": \"2020-01\", \"count\": 299, \"incident_date_2\": \"2020-01\"}, {\"incident_date\": \"2020-02\", \"count\": 348, \"incident_date_2\": \"2020-02\"}, {\"incident_date\": \"2020-03\", \"count\": 165, \"incident_date_2\": \"2020-03\"}, {\"incident_date\": \"2020-04\", \"count\": 86, \"incident_date_2\": \"2020-04\"}, {\"incident_date\": \"2020-05\", \"count\": 229, \"incident_date_2\": \"2020-05\"}, {\"incident_date\": \"2020-06\", \"count\": 257, \"incident_date_2\": \"2020-06\"}, {\"incident_date\": \"2020-07\", \"count\": 227, \"incident_date_2\": \"2020-07\"}, {\"incident_date\": \"2020-08\", \"count\": 240, \"incident_date_2\": \"2020-08\"}, {\"incident_date\": \"2020-09\", \"count\": 229, \"incident_date_2\": \"2020-09\"}, {\"incident_date\": \"2020-10\", \"count\": 209, \"incident_date_2\": \"2020-10\"}, {\"incident_date\": \"2020-11\", \"count\": 148, \"incident_date_2\": \"2020-11\"}, {\"incident_date\": \"2020-12\", \"count\": 211, \"incident_date_2\": \"2020-12\"}, {\"incident_date\": \"2021-01\", \"count\": 249, \"incident_date_2\": \"2021-01\"}, {\"incident_date\": \"2021-02\", \"count\": 240, \"incident_date_2\": \"2021-02\"}, {\"incident_date\": \"2021-03\", \"count\": 179, \"incident_date_2\": \"2021-03\"}, {\"incident_date\": \"2021-04\", \"count\": 239, \"incident_date_2\": \"2021-04\"}, {\"incident_date\": \"2021-05\", \"count\": 110, \"incident_date_2\": \"2021-05\"}, {\"incident_date\": \"2021-06\", \"count\": 205, \"incident_date_2\": \"2021-06\"}, {\"incident_date\": \"2021-07\", \"count\": 201, \"incident_date_2\": \"2021-07\"}, {\"incident_date\": \"2021-08\", \"count\": 192, \"incident_date_2\": \"2021-08\"}, {\"incident_date\": \"2021-09\", \"count\": 172, \"incident_date_2\": \"2021-09\"}, {\"incident_date\": \"2021-10\", \"count\": 188, \"incident_date_2\": \"2021-10\"}, {\"incident_date\": \"2021-11\", \"count\": 154, \"incident_date_2\": \"2021-11\"}, {\"incident_date\": \"2021-12\", \"count\": 242, \"incident_date_2\": \"2021-12\"}, {\"incident_date\": \"2022-01\", \"count\": 269, \"incident_date_2\": \"2022-01\"}, {\"incident_date\": \"2022-02\", \"count\": 246, \"incident_date_2\": \"2022-02\"}, {\"incident_date\": \"2022-03\", \"count\": 258, \"incident_date_2\": \"2022-03\"}, {\"incident_date\": \"2022-04\", \"count\": 200, \"incident_date_2\": \"2022-04\"}, {\"incident_date\": \"2022-05\", \"count\": 260, \"incident_date_2\": \"2022-05\"}, {\"incident_date\": \"2022-06\", \"count\": 248, \"incident_date_2\": \"2022-06\"}, {\"incident_date\": \"2022-07\", \"count\": 542, \"incident_date_2\": \"2022-07\"}, {\"incident_date\": \"2022-08\", \"count\": 519, \"incident_date_2\": \"2022-08\"}, {\"incident_date\": \"2022-09\", \"count\": 328, \"incident_date_2\": \"2022-09\"}, {\"incident_date\": \"2022-10\", \"count\": 253, \"incident_date_2\": \"2022-10\"}, {\"incident_date\": \"2022-11\", \"count\": 328, \"incident_date_2\": \"2022-11\"}, {\"incident_date\": \"2022-12\", \"count\": 320, \"incident_date_2\": \"2022-12\"}, {\"incident_date\": \"2023-01\", \"count\": 329, \"incident_date_2\": \"2023-01\"}, {\"incident_date\": \"2023-02\", \"count\": 434, \"incident_date_2\": \"2023-02\"}, {\"incident_date\": \"2023-03\", \"count\": 47, \"incident_date_2\": \"2023-03\"}]}}, {\"mode\": \"vega-lite\"});\n",
       "</script>"
      ],
      "text/plain": [
       "alt.Chart(...)"
      ]
     },
     "execution_count": 28,
     "metadata": {},
     "output_type": "execute_result"
    }
   ],
   "source": [
    "\"\"\"\n",
    "base = alt.Chart(counts).mark_bar(size=9).encode(\n",
    "    alt.X('incident_date:T',title='Date'),\n",
    "    y='count',\n",
    "    tooltip = [alt.Tooltip('incident_date_2',title = 'Date'),alt.Tooltip('count',title='Drug Arrests')]\n",
    ").properties(\n",
    "    width=600,\n",
    "    height=400,\n",
    "    title='Incidents by Year-Month'\n",
    ")\"\"\"\n",
    "experiment = alt.Chart(counts).mark_bar().encode(\n",
    "    x='incident_date:T',\n",
    "    y='count')\n",
    "experiment"
   ]
  },
  {
   "cell_type": "code",
   "execution_count": 36,
   "metadata": {},
   "outputs": [],
   "source": [
    "years =[2018,2019,2020,2021,2022,2023]\n",
    "year_dropdown = alt.binding_select(options=years, name=\"Year\")\n",
    "year_select = alt.selection_point(fields=['year'], bind=year_dropdown)\n",
    "\n",
    "filter_years = experiment.add_params(year_select).transform_filter(year_select)"
   ]
  },
  {
   "cell_type": "code",
   "execution_count": 37,
   "metadata": {},
   "outputs": [
    {
     "data": {
      "text/html": [
       "\n",
       "<div id=\"altair-viz-49b973cd15a947d487dd18e7b93c5379\"></div>\n",
       "<script type=\"text/javascript\">\n",
       "  var VEGA_DEBUG = (typeof VEGA_DEBUG == \"undefined\") ? {} : VEGA_DEBUG;\n",
       "  (function(spec, embedOpt){\n",
       "    let outputDiv = document.currentScript.previousElementSibling;\n",
       "    if (outputDiv.id !== \"altair-viz-49b973cd15a947d487dd18e7b93c5379\") {\n",
       "      outputDiv = document.getElementById(\"altair-viz-49b973cd15a947d487dd18e7b93c5379\");\n",
       "    }\n",
       "    const paths = {\n",
       "      \"vega\": \"https://cdn.jsdelivr.net/npm/vega@5?noext\",\n",
       "      \"vega-lib\": \"https://cdn.jsdelivr.net/npm/vega-lib?noext\",\n",
       "      \"vega-lite\": \"https://cdn.jsdelivr.net/npm/vega-lite@5.6.1?noext\",\n",
       "      \"vega-embed\": \"https://cdn.jsdelivr.net/npm/vega-embed@6?noext\",\n",
       "    };\n",
       "\n",
       "    function maybeLoadScript(lib, version) {\n",
       "      var key = `${lib.replace(\"-\", \"\")}_version`;\n",
       "      return (VEGA_DEBUG[key] == version) ?\n",
       "        Promise.resolve(paths[lib]) :\n",
       "        new Promise(function(resolve, reject) {\n",
       "          var s = document.createElement('script');\n",
       "          document.getElementsByTagName(\"head\")[0].appendChild(s);\n",
       "          s.async = true;\n",
       "          s.onload = () => {\n",
       "            VEGA_DEBUG[key] = version;\n",
       "            return resolve(paths[lib]);\n",
       "          };\n",
       "          s.onerror = () => reject(`Error loading script: ${paths[lib]}`);\n",
       "          s.src = paths[lib];\n",
       "        });\n",
       "    }\n",
       "\n",
       "    function showError(err) {\n",
       "      outputDiv.innerHTML = `<div class=\"error\" style=\"color:red;\">${err}</div>`;\n",
       "      throw err;\n",
       "    }\n",
       "\n",
       "    function displayChart(vegaEmbed) {\n",
       "      vegaEmbed(outputDiv, spec, embedOpt)\n",
       "        .catch(err => showError(`Javascript Error: ${err.message}<br>This usually means there's a typo in your chart specification. See the javascript console for the full traceback.`));\n",
       "    }\n",
       "\n",
       "    if(typeof define === \"function\" && define.amd) {\n",
       "      requirejs.config({paths});\n",
       "      require([\"vega-embed\"], displayChart, err => showError(`Error loading script: ${err.message}`));\n",
       "    } else {\n",
       "      maybeLoadScript(\"vega\", \"5\")\n",
       "        .then(() => maybeLoadScript(\"vega-lite\", \"5.6.1\"))\n",
       "        .then(() => maybeLoadScript(\"vega-embed\", \"6\"))\n",
       "        .catch(showError)\n",
       "        .then(() => displayChart(vegaEmbed));\n",
       "    }\n",
       "  })({\"config\": {\"view\": {\"continuousWidth\": 300, \"continuousHeight\": 300}}, \"data\": {\"name\": \"data-09fa555d1c83c8a82b8855af93d836e2\"}, \"mark\": {\"type\": \"bar\"}, \"encoding\": {\"x\": {\"field\": \"incident_date\", \"type\": \"temporal\"}, \"y\": {\"field\": \"count\", \"type\": \"quantitative\"}}, \"params\": [{\"name\": \"param_13\", \"select\": {\"type\": \"point\", \"fields\": [\"year\"]}, \"bind\": {\"input\": \"select\", \"options\": [2018, 2019, 2020, 2021, 2022, 2023], \"name\": \"Year\"}}], \"transform\": [{\"filter\": {\"param\": \"param_13\"}}], \"$schema\": \"https://vega.github.io/schema/vega-lite/v5.6.1.json\", \"datasets\": {\"data-09fa555d1c83c8a82b8855af93d836e2\": [{\"incident_date\": \"2018-01\", \"count\": 337, \"incident_date_2\": \"2018-01\"}, {\"incident_date\": \"2018-02\", \"count\": 356, \"incident_date_2\": \"2018-02\"}, {\"incident_date\": \"2018-03\", \"count\": 423, \"incident_date_2\": \"2018-03\"}, {\"incident_date\": \"2018-04\", \"count\": 348, \"incident_date_2\": \"2018-04\"}, {\"incident_date\": \"2018-05\", \"count\": 384, \"incident_date_2\": \"2018-05\"}, {\"incident_date\": \"2018-06\", \"count\": 251, \"incident_date_2\": \"2018-06\"}, {\"incident_date\": \"2018-07\", \"count\": 334, \"incident_date_2\": \"2018-07\"}, {\"incident_date\": \"2018-08\", \"count\": 287, \"incident_date_2\": \"2018-08\"}, {\"incident_date\": \"2018-09\", \"count\": 274, \"incident_date_2\": \"2018-09\"}, {\"incident_date\": \"2018-10\", \"count\": 445, \"incident_date_2\": \"2018-10\"}, {\"incident_date\": \"2018-11\", \"count\": 437, \"incident_date_2\": \"2018-11\"}, {\"incident_date\": \"2018-12\", \"count\": 267, \"incident_date_2\": \"2018-12\"}, {\"incident_date\": \"2019-01\", \"count\": 316, \"incident_date_2\": \"2019-01\"}, {\"incident_date\": \"2019-02\", \"count\": 285, \"incident_date_2\": \"2019-02\"}, {\"incident_date\": \"2019-03\", \"count\": 323, \"incident_date_2\": \"2019-03\"}, {\"incident_date\": \"2019-04\", \"count\": 329, \"incident_date_2\": \"2019-04\"}, {\"incident_date\": \"2019-05\", \"count\": 295, \"incident_date_2\": \"2019-05\"}, {\"incident_date\": \"2019-06\", \"count\": 291, \"incident_date_2\": \"2019-06\"}, {\"incident_date\": \"2019-07\", \"count\": 353, \"incident_date_2\": \"2019-07\"}, {\"incident_date\": \"2019-08\", \"count\": 294, \"incident_date_2\": \"2019-08\"}, {\"incident_date\": \"2019-09\", \"count\": 320, \"incident_date_2\": \"2019-09\"}, {\"incident_date\": \"2019-10\", \"count\": 303, \"incident_date_2\": \"2019-10\"}, {\"incident_date\": \"2019-11\", \"count\": 293, \"incident_date_2\": \"2019-11\"}, {\"incident_date\": \"2019-12\", \"count\": 293, \"incident_date_2\": \"2019-12\"}, {\"incident_date\": \"2020-01\", \"count\": 299, \"incident_date_2\": \"2020-01\"}, {\"incident_date\": \"2020-02\", \"count\": 348, \"incident_date_2\": \"2020-02\"}, {\"incident_date\": \"2020-03\", \"count\": 165, \"incident_date_2\": \"2020-03\"}, {\"incident_date\": \"2020-04\", \"count\": 86, \"incident_date_2\": \"2020-04\"}, {\"incident_date\": \"2020-05\", \"count\": 229, \"incident_date_2\": \"2020-05\"}, {\"incident_date\": \"2020-06\", \"count\": 257, \"incident_date_2\": \"2020-06\"}, {\"incident_date\": \"2020-07\", \"count\": 227, \"incident_date_2\": \"2020-07\"}, {\"incident_date\": \"2020-08\", \"count\": 240, \"incident_date_2\": \"2020-08\"}, {\"incident_date\": \"2020-09\", \"count\": 229, \"incident_date_2\": \"2020-09\"}, {\"incident_date\": \"2020-10\", \"count\": 209, \"incident_date_2\": \"2020-10\"}, {\"incident_date\": \"2020-11\", \"count\": 148, \"incident_date_2\": \"2020-11\"}, {\"incident_date\": \"2020-12\", \"count\": 211, \"incident_date_2\": \"2020-12\"}, {\"incident_date\": \"2021-01\", \"count\": 249, \"incident_date_2\": \"2021-01\"}, {\"incident_date\": \"2021-02\", \"count\": 240, \"incident_date_2\": \"2021-02\"}, {\"incident_date\": \"2021-03\", \"count\": 179, \"incident_date_2\": \"2021-03\"}, {\"incident_date\": \"2021-04\", \"count\": 239, \"incident_date_2\": \"2021-04\"}, {\"incident_date\": \"2021-05\", \"count\": 110, \"incident_date_2\": \"2021-05\"}, {\"incident_date\": \"2021-06\", \"count\": 205, \"incident_date_2\": \"2021-06\"}, {\"incident_date\": \"2021-07\", \"count\": 201, \"incident_date_2\": \"2021-07\"}, {\"incident_date\": \"2021-08\", \"count\": 192, \"incident_date_2\": \"2021-08\"}, {\"incident_date\": \"2021-09\", \"count\": 172, \"incident_date_2\": \"2021-09\"}, {\"incident_date\": \"2021-10\", \"count\": 188, \"incident_date_2\": \"2021-10\"}, {\"incident_date\": \"2021-11\", \"count\": 154, \"incident_date_2\": \"2021-11\"}, {\"incident_date\": \"2021-12\", \"count\": 242, \"incident_date_2\": \"2021-12\"}, {\"incident_date\": \"2022-01\", \"count\": 269, \"incident_date_2\": \"2022-01\"}, {\"incident_date\": \"2022-02\", \"count\": 246, \"incident_date_2\": \"2022-02\"}, {\"incident_date\": \"2022-03\", \"count\": 258, \"incident_date_2\": \"2022-03\"}, {\"incident_date\": \"2022-04\", \"count\": 200, \"incident_date_2\": \"2022-04\"}, {\"incident_date\": \"2022-05\", \"count\": 260, \"incident_date_2\": \"2022-05\"}, {\"incident_date\": \"2022-06\", \"count\": 248, \"incident_date_2\": \"2022-06\"}, {\"incident_date\": \"2022-07\", \"count\": 542, \"incident_date_2\": \"2022-07\"}, {\"incident_date\": \"2022-08\", \"count\": 519, \"incident_date_2\": \"2022-08\"}, {\"incident_date\": \"2022-09\", \"count\": 328, \"incident_date_2\": \"2022-09\"}, {\"incident_date\": \"2022-10\", \"count\": 253, \"incident_date_2\": \"2022-10\"}, {\"incident_date\": \"2022-11\", \"count\": 328, \"incident_date_2\": \"2022-11\"}, {\"incident_date\": \"2022-12\", \"count\": 320, \"incident_date_2\": \"2022-12\"}, {\"incident_date\": \"2023-01\", \"count\": 329, \"incident_date_2\": \"2023-01\"}, {\"incident_date\": \"2023-02\", \"count\": 434, \"incident_date_2\": \"2023-02\"}, {\"incident_date\": \"2023-03\", \"count\": 47, \"incident_date_2\": \"2023-03\"}]}}, {\"mode\": \"vega-lite\"});\n",
       "</script>"
      ],
      "text/plain": [
       "alt.Chart(...)"
      ]
     },
     "execution_count": 37,
     "metadata": {},
     "output_type": "execute_result"
    }
   ],
   "source": [
    "filter_years"
   ]
  },
  {
   "cell_type": "code",
   "execution_count": 24,
   "metadata": {},
   "outputs": [
    {
     "data": {
      "text/html": [
       "\n",
       "<div id=\"altair-viz-6c4d348b3e8e41d681a2f3bc4fcbeb27\"></div>\n",
       "<script type=\"text/javascript\">\n",
       "  var VEGA_DEBUG = (typeof VEGA_DEBUG == \"undefined\") ? {} : VEGA_DEBUG;\n",
       "  (function(spec, embedOpt){\n",
       "    let outputDiv = document.currentScript.previousElementSibling;\n",
       "    if (outputDiv.id !== \"altair-viz-6c4d348b3e8e41d681a2f3bc4fcbeb27\") {\n",
       "      outputDiv = document.getElementById(\"altair-viz-6c4d348b3e8e41d681a2f3bc4fcbeb27\");\n",
       "    }\n",
       "    const paths = {\n",
       "      \"vega\": \"https://cdn.jsdelivr.net/npm/vega@5?noext\",\n",
       "      \"vega-lib\": \"https://cdn.jsdelivr.net/npm/vega-lib?noext\",\n",
       "      \"vega-lite\": \"https://cdn.jsdelivr.net/npm/vega-lite@5.6.1?noext\",\n",
       "      \"vega-embed\": \"https://cdn.jsdelivr.net/npm/vega-embed@6?noext\",\n",
       "    };\n",
       "\n",
       "    function maybeLoadScript(lib, version) {\n",
       "      var key = `${lib.replace(\"-\", \"\")}_version`;\n",
       "      return (VEGA_DEBUG[key] == version) ?\n",
       "        Promise.resolve(paths[lib]) :\n",
       "        new Promise(function(resolve, reject) {\n",
       "          var s = document.createElement('script');\n",
       "          document.getElementsByTagName(\"head\")[0].appendChild(s);\n",
       "          s.async = true;\n",
       "          s.onload = () => {\n",
       "            VEGA_DEBUG[key] = version;\n",
       "            return resolve(paths[lib]);\n",
       "          };\n",
       "          s.onerror = () => reject(`Error loading script: ${paths[lib]}`);\n",
       "          s.src = paths[lib];\n",
       "        });\n",
       "    }\n",
       "\n",
       "    function showError(err) {\n",
       "      outputDiv.innerHTML = `<div class=\"error\" style=\"color:red;\">${err}</div>`;\n",
       "      throw err;\n",
       "    }\n",
       "\n",
       "    function displayChart(vegaEmbed) {\n",
       "      vegaEmbed(outputDiv, spec, embedOpt)\n",
       "        .catch(err => showError(`Javascript Error: ${err.message}<br>This usually means there's a typo in your chart specification. See the javascript console for the full traceback.`));\n",
       "    }\n",
       "\n",
       "    if(typeof define === \"function\" && define.amd) {\n",
       "      requirejs.config({paths});\n",
       "      require([\"vega-embed\"], displayChart, err => showError(`Error loading script: ${err.message}`));\n",
       "    } else {\n",
       "      maybeLoadScript(\"vega\", \"5\")\n",
       "        .then(() => maybeLoadScript(\"vega-lite\", \"5.6.1\"))\n",
       "        .then(() => maybeLoadScript(\"vega-embed\", \"6\"))\n",
       "        .catch(showError)\n",
       "        .then(() => displayChart(vegaEmbed));\n",
       "    }\n",
       "  })({\"config\": {\"view\": {\"continuousWidth\": 300, \"continuousHeight\": 300}}, \"data\": {\"name\": \"data-09fa555d1c83c8a82b8855af93d836e2\"}, \"mark\": {\"type\": \"bar\", \"size\": 10}, \"encoding\": {\"tooltip\": [{\"field\": \"incident_date\", \"type\": \"nominal\"}, {\"field\": \"count\", \"title\": \"Drug Arrests\", \"type\": \"quantitative\"}], \"x\": {\"field\": \"incident_date\", \"scale\": {\"domain\": {\"param\": \"param_1\"}}, \"type\": \"temporal\"}, \"y\": {\"field\": \"count\", \"type\": \"quantitative\"}}, \"height\": 400, \"params\": [{\"name\": \"param_1\", \"select\": {\"type\": \"interval\"}}, {\"name\": \"param_2\", \"select\": {\"type\": \"interval\", \"encodings\": [\"x\", \"y\"]}, \"bind\": \"scales\"}], \"title\": \"Incidents by Year-Month\", \"width\": 600, \"$schema\": \"https://vega.github.io/schema/vega-lite/v5.6.1.json\", \"datasets\": {\"data-09fa555d1c83c8a82b8855af93d836e2\": [{\"incident_date\": \"2018-01\", \"count\": 337, \"incident_date_2\": \"2018-01\"}, {\"incident_date\": \"2018-02\", \"count\": 356, \"incident_date_2\": \"2018-02\"}, {\"incident_date\": \"2018-03\", \"count\": 423, \"incident_date_2\": \"2018-03\"}, {\"incident_date\": \"2018-04\", \"count\": 348, \"incident_date_2\": \"2018-04\"}, {\"incident_date\": \"2018-05\", \"count\": 384, \"incident_date_2\": \"2018-05\"}, {\"incident_date\": \"2018-06\", \"count\": 251, \"incident_date_2\": \"2018-06\"}, {\"incident_date\": \"2018-07\", \"count\": 334, \"incident_date_2\": \"2018-07\"}, {\"incident_date\": \"2018-08\", \"count\": 287, \"incident_date_2\": \"2018-08\"}, {\"incident_date\": \"2018-09\", \"count\": 274, \"incident_date_2\": \"2018-09\"}, {\"incident_date\": \"2018-10\", \"count\": 445, \"incident_date_2\": \"2018-10\"}, {\"incident_date\": \"2018-11\", \"count\": 437, \"incident_date_2\": \"2018-11\"}, {\"incident_date\": \"2018-12\", \"count\": 267, \"incident_date_2\": \"2018-12\"}, {\"incident_date\": \"2019-01\", \"count\": 316, \"incident_date_2\": \"2019-01\"}, {\"incident_date\": \"2019-02\", \"count\": 285, \"incident_date_2\": \"2019-02\"}, {\"incident_date\": \"2019-03\", \"count\": 323, \"incident_date_2\": \"2019-03\"}, {\"incident_date\": \"2019-04\", \"count\": 329, \"incident_date_2\": \"2019-04\"}, {\"incident_date\": \"2019-05\", \"count\": 295, \"incident_date_2\": \"2019-05\"}, {\"incident_date\": \"2019-06\", \"count\": 291, \"incident_date_2\": \"2019-06\"}, {\"incident_date\": \"2019-07\", \"count\": 353, \"incident_date_2\": \"2019-07\"}, {\"incident_date\": \"2019-08\", \"count\": 294, \"incident_date_2\": \"2019-08\"}, {\"incident_date\": \"2019-09\", \"count\": 320, \"incident_date_2\": \"2019-09\"}, {\"incident_date\": \"2019-10\", \"count\": 303, \"incident_date_2\": \"2019-10\"}, {\"incident_date\": \"2019-11\", \"count\": 293, \"incident_date_2\": \"2019-11\"}, {\"incident_date\": \"2019-12\", \"count\": 293, \"incident_date_2\": \"2019-12\"}, {\"incident_date\": \"2020-01\", \"count\": 299, \"incident_date_2\": \"2020-01\"}, {\"incident_date\": \"2020-02\", \"count\": 348, \"incident_date_2\": \"2020-02\"}, {\"incident_date\": \"2020-03\", \"count\": 165, \"incident_date_2\": \"2020-03\"}, {\"incident_date\": \"2020-04\", \"count\": 86, \"incident_date_2\": \"2020-04\"}, {\"incident_date\": \"2020-05\", \"count\": 229, \"incident_date_2\": \"2020-05\"}, {\"incident_date\": \"2020-06\", \"count\": 257, \"incident_date_2\": \"2020-06\"}, {\"incident_date\": \"2020-07\", \"count\": 227, \"incident_date_2\": \"2020-07\"}, {\"incident_date\": \"2020-08\", \"count\": 240, \"incident_date_2\": \"2020-08\"}, {\"incident_date\": \"2020-09\", \"count\": 229, \"incident_date_2\": \"2020-09\"}, {\"incident_date\": \"2020-10\", \"count\": 209, \"incident_date_2\": \"2020-10\"}, {\"incident_date\": \"2020-11\", \"count\": 148, \"incident_date_2\": \"2020-11\"}, {\"incident_date\": \"2020-12\", \"count\": 211, \"incident_date_2\": \"2020-12\"}, {\"incident_date\": \"2021-01\", \"count\": 249, \"incident_date_2\": \"2021-01\"}, {\"incident_date\": \"2021-02\", \"count\": 240, \"incident_date_2\": \"2021-02\"}, {\"incident_date\": \"2021-03\", \"count\": 179, \"incident_date_2\": \"2021-03\"}, {\"incident_date\": \"2021-04\", \"count\": 239, \"incident_date_2\": \"2021-04\"}, {\"incident_date\": \"2021-05\", \"count\": 110, \"incident_date_2\": \"2021-05\"}, {\"incident_date\": \"2021-06\", \"count\": 205, \"incident_date_2\": \"2021-06\"}, {\"incident_date\": \"2021-07\", \"count\": 201, \"incident_date_2\": \"2021-07\"}, {\"incident_date\": \"2021-08\", \"count\": 192, \"incident_date_2\": \"2021-08\"}, {\"incident_date\": \"2021-09\", \"count\": 172, \"incident_date_2\": \"2021-09\"}, {\"incident_date\": \"2021-10\", \"count\": 188, \"incident_date_2\": \"2021-10\"}, {\"incident_date\": \"2021-11\", \"count\": 154, \"incident_date_2\": \"2021-11\"}, {\"incident_date\": \"2021-12\", \"count\": 242, \"incident_date_2\": \"2021-12\"}, {\"incident_date\": \"2022-01\", \"count\": 269, \"incident_date_2\": \"2022-01\"}, {\"incident_date\": \"2022-02\", \"count\": 246, \"incident_date_2\": \"2022-02\"}, {\"incident_date\": \"2022-03\", \"count\": 258, \"incident_date_2\": \"2022-03\"}, {\"incident_date\": \"2022-04\", \"count\": 200, \"incident_date_2\": \"2022-04\"}, {\"incident_date\": \"2022-05\", \"count\": 260, \"incident_date_2\": \"2022-05\"}, {\"incident_date\": \"2022-06\", \"count\": 248, \"incident_date_2\": \"2022-06\"}, {\"incident_date\": \"2022-07\", \"count\": 542, \"incident_date_2\": \"2022-07\"}, {\"incident_date\": \"2022-08\", \"count\": 519, \"incident_date_2\": \"2022-08\"}, {\"incident_date\": \"2022-09\", \"count\": 328, \"incident_date_2\": \"2022-09\"}, {\"incident_date\": \"2022-10\", \"count\": 253, \"incident_date_2\": \"2022-10\"}, {\"incident_date\": \"2022-11\", \"count\": 328, \"incident_date_2\": \"2022-11\"}, {\"incident_date\": \"2022-12\", \"count\": 320, \"incident_date_2\": \"2022-12\"}, {\"incident_date\": \"2023-01\", \"count\": 329, \"incident_date_2\": \"2023-01\"}, {\"incident_date\": \"2023-02\", \"count\": 434, \"incident_date_2\": \"2023-02\"}, {\"incident_date\": \"2023-03\", \"count\": 47, \"incident_date_2\": \"2023-03\"}]}}, {\"mode\": \"vega-lite\"});\n",
       "</script>"
      ],
      "text/plain": [
       "alt.Chart(...)"
      ]
     },
     "execution_count": 24,
     "metadata": {},
     "output_type": "execute_result"
    }
   ],
   "source": [
    "brush = alt.selection_interval()\n",
    "base = alt.Chart(counts).mark_bar(size=10).encode(\n",
    "    x='incident_date',\n",
    "    y='count',\n",
    ").properties(\n",
    "    width=600,\n",
    "    height=400\n",
    ").add_params(brush)\n",
    "upper = base.encode(\n",
    "    alt.X('incident_date:T', scale=alt.Scale(domain=brush)),  \n",
    "    tooltip = [alt.Tooltip('incident_date'),alt.Tooltip('count',title='Drug Arrests')]\n",
    ").properties(title='Incidents by Year-Month')\n",
    "\n",
    "# lower = base.properties(\n",
    "#     height=60\n",
    "# ).add_params(brush)\n",
    "\n",
    "upper.interactive()"
   ]
  },
  {
   "cell_type": "code",
   "execution_count": 26,
   "metadata": {},
   "outputs": [],
   "source": [
    "narcan_deploy = pd.read_csv('/Users/tracy/sfpd-data/data/processed/narcan_deployment.csv')\n"
   ]
  },
  {
   "cell_type": "code",
   "execution_count": 39,
   "metadata": {},
   "outputs": [
    {
     "data": {
      "text/plain": [
       "12.0"
      ]
     },
     "execution_count": 39,
     "metadata": {},
     "output_type": "execute_result"
    }
   ],
   "source": [
    "narcan_deploy= narcan_deploy.rename(columns={\"Incident Date\":'incident_date','Row ID':'row_id',\n",
    "                                         'Incident Day of Week':'day_of_week','Incident Year':'incident_year',\n",
    "                                         'Incident Time':'incident_time'})\n",
    "narcan_deploy['incident_date'] = pd.to_datetime(narcan_deploy['incident_date'])\n",
    "narcan_deploy['incident_time'] = pd.to_datetime(narcan_deploy['incident_time'])\n",
    "\n",
    "nd_counts = narcan_deploy.groupby(narcan_deploy['incident_date'].dt.strftime('%Y-%m')).size().reset_index(name='count')\n",
    "nd_counts['incident_date_2'] = nd_counts['incident_date']\n",
    "nd_counts.head()\n",
    "median_nd = nd_counts['count'].median()\n",
    "median_nd"
   ]
  },
  {
   "cell_type": "code",
   "execution_count": 88,
   "metadata": {},
   "outputs": [
    {
     "data": {
      "text/html": [
       "\n",
       "<div id=\"altair-viz-b692f55a5fd44d02879e7a538cba0699\"></div>\n",
       "<script type=\"text/javascript\">\n",
       "  var VEGA_DEBUG = (typeof VEGA_DEBUG == \"undefined\") ? {} : VEGA_DEBUG;\n",
       "  (function(spec, embedOpt){\n",
       "    let outputDiv = document.currentScript.previousElementSibling;\n",
       "    if (outputDiv.id !== \"altair-viz-b692f55a5fd44d02879e7a538cba0699\") {\n",
       "      outputDiv = document.getElementById(\"altair-viz-b692f55a5fd44d02879e7a538cba0699\");\n",
       "    }\n",
       "    const paths = {\n",
       "      \"vega\": \"https://cdn.jsdelivr.net/npm/vega@5?noext\",\n",
       "      \"vega-lib\": \"https://cdn.jsdelivr.net/npm/vega-lib?noext\",\n",
       "      \"vega-lite\": \"https://cdn.jsdelivr.net/npm/vega-lite@5.6.1?noext\",\n",
       "      \"vega-embed\": \"https://cdn.jsdelivr.net/npm/vega-embed@6?noext\",\n",
       "    };\n",
       "\n",
       "    function maybeLoadScript(lib, version) {\n",
       "      var key = `${lib.replace(\"-\", \"\")}_version`;\n",
       "      return (VEGA_DEBUG[key] == version) ?\n",
       "        Promise.resolve(paths[lib]) :\n",
       "        new Promise(function(resolve, reject) {\n",
       "          var s = document.createElement('script');\n",
       "          document.getElementsByTagName(\"head\")[0].appendChild(s);\n",
       "          s.async = true;\n",
       "          s.onload = () => {\n",
       "            VEGA_DEBUG[key] = version;\n",
       "            return resolve(paths[lib]);\n",
       "          };\n",
       "          s.onerror = () => reject(`Error loading script: ${paths[lib]}`);\n",
       "          s.src = paths[lib];\n",
       "        });\n",
       "    }\n",
       "\n",
       "    function showError(err) {\n",
       "      outputDiv.innerHTML = `<div class=\"error\" style=\"color:red;\">${err}</div>`;\n",
       "      throw err;\n",
       "    }\n",
       "\n",
       "    function displayChart(vegaEmbed) {\n",
       "      vegaEmbed(outputDiv, spec, embedOpt)\n",
       "        .catch(err => showError(`Javascript Error: ${err.message}<br>This usually means there's a typo in your chart specification. See the javascript console for the full traceback.`));\n",
       "    }\n",
       "\n",
       "    if(typeof define === \"function\" && define.amd) {\n",
       "      requirejs.config({paths});\n",
       "      require([\"vega-embed\"], displayChart, err => showError(`Error loading script: ${err.message}`));\n",
       "    } else {\n",
       "      maybeLoadScript(\"vega\", \"5\")\n",
       "        .then(() => maybeLoadScript(\"vega-lite\", \"5.6.1\"))\n",
       "        .then(() => maybeLoadScript(\"vega-embed\", \"6\"))\n",
       "        .catch(showError)\n",
       "        .then(() => displayChart(vegaEmbed));\n",
       "    }\n",
       "  })({\"config\": {\"view\": {\"continuousWidth\": 300, \"continuousHeight\": 300}}, \"layer\": [{\"mark\": {\"type\": \"line\", \"size\": 4}, \"encoding\": {\"tooltip\": [{\"field\": \"incident_date_2\", \"title\": \"Date\", \"type\": \"nominal\"}, {\"field\": \"count\", \"title\": \"Drug Arrests\", \"type\": \"quantitative\"}], \"x\": {\"field\": \"incident_date\", \"title\": \"Date\", \"type\": \"temporal\"}, \"y\": {\"field\": \"count\", \"title\": \"Counts\", \"type\": \"quantitative\"}}, \"title\": \"Narcan Deployment, Jan 2018 - Feb 2023\"}, {\"mark\": {\"type\": \"rule\", \"color\": \"crimson\", \"size\": 2}, \"encoding\": {\"tooltip\": {\"title\": \"Median of counts\"}, \"y\": {\"aggregate\": \"median\", \"field\": \"count\", \"type\": \"quantitative\"}}}], \"data\": {\"name\": \"data-0136f291c601b3dd2f9a513ea97ab8cb\"}, \"height\": 400, \"width\": 600, \"$schema\": \"https://vega.github.io/schema/vega-lite/v5.6.1.json\", \"datasets\": {\"data-0136f291c601b3dd2f9a513ea97ab8cb\": [{\"incident_date\": \"2018-01\", \"count\": 4, \"incident_date_2\": \"2018-01\"}, {\"incident_date\": \"2018-02\", \"count\": 13, \"incident_date_2\": \"2018-02\"}, {\"incident_date\": \"2018-03\", \"count\": 7, \"incident_date_2\": \"2018-03\"}, {\"incident_date\": \"2018-04\", \"count\": 5, \"incident_date_2\": \"2018-04\"}, {\"incident_date\": \"2018-05\", \"count\": 3, \"incident_date_2\": \"2018-05\"}, {\"incident_date\": \"2018-06\", \"count\": 5, \"incident_date_2\": \"2018-06\"}, {\"incident_date\": \"2018-07\", \"count\": 4, \"incident_date_2\": \"2018-07\"}, {\"incident_date\": \"2018-08\", \"count\": 8, \"incident_date_2\": \"2018-08\"}, {\"incident_date\": \"2018-09\", \"count\": 12, \"incident_date_2\": \"2018-09\"}, {\"incident_date\": \"2018-10\", \"count\": 9, \"incident_date_2\": \"2018-10\"}, {\"incident_date\": \"2018-11\", \"count\": 2, \"incident_date_2\": \"2018-11\"}, {\"incident_date\": \"2018-12\", \"count\": 6, \"incident_date_2\": \"2018-12\"}, {\"incident_date\": \"2019-01\", \"count\": 1, \"incident_date_2\": \"2019-01\"}, {\"incident_date\": \"2019-02\", \"count\": 3, \"incident_date_2\": \"2019-02\"}, {\"incident_date\": \"2019-03\", \"count\": 6, \"incident_date_2\": \"2019-03\"}, {\"incident_date\": \"2019-04\", \"count\": 8, \"incident_date_2\": \"2019-04\"}, {\"incident_date\": \"2019-05\", \"count\": 8, \"incident_date_2\": \"2019-05\"}, {\"incident_date\": \"2019-06\", \"count\": 19, \"incident_date_2\": \"2019-06\"}, {\"incident_date\": \"2019-07\", \"count\": 11, \"incident_date_2\": \"2019-07\"}, {\"incident_date\": \"2019-08\", \"count\": 17, \"incident_date_2\": \"2019-08\"}, {\"incident_date\": \"2019-09\", \"count\": 19, \"incident_date_2\": \"2019-09\"}, {\"incident_date\": \"2019-10\", \"count\": 17, \"incident_date_2\": \"2019-10\"}, {\"incident_date\": \"2019-11\", \"count\": 16, \"incident_date_2\": \"2019-11\"}, {\"incident_date\": \"2019-12\", \"count\": 10, \"incident_date_2\": \"2019-12\"}, {\"incident_date\": \"2020-01\", \"count\": 19, \"incident_date_2\": \"2020-01\"}, {\"incident_date\": \"2020-02\", \"count\": 24, \"incident_date_2\": \"2020-02\"}, {\"incident_date\": \"2020-03\", \"count\": 31, \"incident_date_2\": \"2020-03\"}, {\"incident_date\": \"2020-04\", \"count\": 23, \"incident_date_2\": \"2020-04\"}, {\"incident_date\": \"2020-05\", \"count\": 24, \"incident_date_2\": \"2020-05\"}, {\"incident_date\": \"2020-06\", \"count\": 12, \"incident_date_2\": \"2020-06\"}, {\"incident_date\": \"2020-07\", \"count\": 20, \"incident_date_2\": \"2020-07\"}, {\"incident_date\": \"2020-08\", \"count\": 19, \"incident_date_2\": \"2020-08\"}, {\"incident_date\": \"2020-09\", \"count\": 14, \"incident_date_2\": \"2020-09\"}, {\"incident_date\": \"2020-10\", \"count\": 8, \"incident_date_2\": \"2020-10\"}, {\"incident_date\": \"2020-11\", \"count\": 9, \"incident_date_2\": \"2020-11\"}, {\"incident_date\": \"2020-12\", \"count\": 10, \"incident_date_2\": \"2020-12\"}, {\"incident_date\": \"2021-01\", \"count\": 13, \"incident_date_2\": \"2021-01\"}, {\"incident_date\": \"2021-02\", \"count\": 13, \"incident_date_2\": \"2021-02\"}, {\"incident_date\": \"2021-03\", \"count\": 10, \"incident_date_2\": \"2021-03\"}, {\"incident_date\": \"2021-04\", \"count\": 8, \"incident_date_2\": \"2021-04\"}, {\"incident_date\": \"2021-05\", \"count\": 10, \"incident_date_2\": \"2021-05\"}, {\"incident_date\": \"2021-06\", \"count\": 10, \"incident_date_2\": \"2021-06\"}, {\"incident_date\": \"2021-07\", \"count\": 13, \"incident_date_2\": \"2021-07\"}, {\"incident_date\": \"2021-08\", \"count\": 15, \"incident_date_2\": \"2021-08\"}, {\"incident_date\": \"2021-09\", \"count\": 18, \"incident_date_2\": \"2021-09\"}, {\"incident_date\": \"2021-10\", \"count\": 8, \"incident_date_2\": \"2021-10\"}, {\"incident_date\": \"2021-11\", \"count\": 18, \"incident_date_2\": \"2021-11\"}, {\"incident_date\": \"2021-12\", \"count\": 9, \"incident_date_2\": \"2021-12\"}, {\"incident_date\": \"2022-01\", \"count\": 12, \"incident_date_2\": \"2022-01\"}, {\"incident_date\": \"2022-02\", \"count\": 12, \"incident_date_2\": \"2022-02\"}, {\"incident_date\": \"2022-03\", \"count\": 10, \"incident_date_2\": \"2022-03\"}, {\"incident_date\": \"2022-04\", \"count\": 12, \"incident_date_2\": \"2022-04\"}, {\"incident_date\": \"2022-05\", \"count\": 7, \"incident_date_2\": \"2022-05\"}, {\"incident_date\": \"2022-06\", \"count\": 14, \"incident_date_2\": \"2022-06\"}, {\"incident_date\": \"2022-07\", \"count\": 13, \"incident_date_2\": \"2022-07\"}, {\"incident_date\": \"2022-08\", \"count\": 14, \"incident_date_2\": \"2022-08\"}, {\"incident_date\": \"2022-09\", \"count\": 19, \"incident_date_2\": \"2022-09\"}, {\"incident_date\": \"2022-10\", \"count\": 16, \"incident_date_2\": \"2022-10\"}, {\"incident_date\": \"2022-11\", \"count\": 14, \"incident_date_2\": \"2022-11\"}, {\"incident_date\": \"2022-12\", \"count\": 14, \"incident_date_2\": \"2022-12\"}, {\"incident_date\": \"2023-01\", \"count\": 15, \"incident_date_2\": \"2023-01\"}, {\"incident_date\": \"2023-02\", \"count\": 14, \"incident_date_2\": \"2023-02\"}]}}, {\"mode\": \"vega-lite\"});\n",
       "</script>"
      ],
      "text/plain": [
       "alt.LayerChart(...)"
      ]
     },
     "execution_count": 88,
     "metadata": {},
     "output_type": "execute_result"
    }
   ],
   "source": [
    "end_date = '2023-02'\n",
    "filtered_nd_counts = nd_counts[nd_counts['incident_date']<=end_date]\n",
    "median_nd = filtered_nd_counts['count'].median()\n",
    "base = alt.Chart(filtered_nd_counts).mark_line(size=4).encode(\n",
    "    alt.X('incident_date:T',title='Date'),\n",
    "    alt.Y('count',title = 'Counts'),\n",
    "    tooltip = [alt.Tooltip('incident_date_2',title = 'Date'),alt.Tooltip('count',title='Drug Arrests')]\n",
    ").properties(\n",
    "    width=600,\n",
    "    height=400,\n",
    "    title='Narcan Deployment, Jan 2018 - Feb 2023'\n",
    ")\n",
    "median = alt.Chart(filtered_nd_counts).mark_rule(size=2,color='crimson').encode(\n",
    "    y='median(count)',\n",
    "    tooltip = alt.Tooltip(title = 'Median of counts')\n",
    ")\n",
    "base+median\n"
   ]
  },
  {
   "cell_type": "code",
   "execution_count": null,
   "metadata": {},
   "outputs": [],
   "source": [
    "neighborho = drug_arrest.groupby([(drug_arrest['incident_date'].dt.strftime('%Y-%m')),drug_arrest['Analysis Neighborhood']]).size().reset_index(name='count')\n",
    "neighborho['incident_date_2'] = neighborho['incident_date']\n",
    "sorted = neighborho.sort_values('count',ascending=True)\n",
    "sorted"
   ]
  }
 ],
 "metadata": {
  "kernelspec": {
   "display_name": "Python 3 (ipykernel)",
   "language": "python",
   "name": "python3"
  },
  "language_info": {
   "codemirror_mode": {
    "name": "ipython",
    "version": 3
   },
   "file_extension": ".py",
   "mimetype": "text/x-python",
   "name": "python",
   "nbconvert_exporter": "python",
   "pygments_lexer": "ipython3",
   "version": "3.9.13"
  }
 },
 "nbformat": 4,
 "nbformat_minor": 4
}
