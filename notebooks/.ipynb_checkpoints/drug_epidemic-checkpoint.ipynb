{
 "cells": [
  {
   "cell_type": "markdown",
   "id": "e48279b4-107e-4a36-8989-1f4c849e2725",
   "metadata": {},
   "source": [
    "# Visualizing the Drug Epidemic in San Francisco "
   ]
  },
  {
   "cell_type": "markdown",
   "id": "92b3e929-0216-4592-ad3f-2ee12a533622",
   "metadata": {},
   "source": [
    "<p>San Francisco, a city once celebrated for its vibrant and diverse cultures, has faced numerous challenges in recent years, particularly with regards to <b>drug addiction and crime</b>.</p>"
   ]
  },
  {
   "cell_type": "markdown",
   "id": "c3561561-d5af-4d90-893a-4aaae3bb4e53",
   "metadata": {},
   "source": [
    "\n",
    "In response to these issues, the city has implemented several strategies aimed at addressing drug addiction and its impact on the community. These strategies include <b>increasing law enforcement efforts</b> to combat illegal drug possession and sales, as well as <b>deploying more prescription medications</b>, such as Narcan, to reverse overdose and save lives."
   ]
  },
  {
   "cell_type": "markdown",
   "id": "e47468a4-21e4-47f9-be4e-6a270f70a4de",
   "metadata": {},
   "source": [
    "> Narcan, also known as naloxone, is a prescription medication used to reverse opioid overdose. It works by binding to the same receptors in the brain that opioids bind to, reversing their effects and restoring breathing."
   ]
  },
  {
   "cell_type": "markdown",
   "id": "500f9663-e075-4c27-9d88-3a0dffc85bdb",
   "metadata": {},
   "source": [
    "Drug overdose in San Francisco has been driven largely by the proliferation of the synthetic opioid fentanyl, according to the [SF Chronicle](https://www.sfchronicle.com/sf/article/S-F-is-investing-millions-in-overdose-response-16491976.php). On Dec. 17, 2021, Mayor London Breed declared an official state of emergency in the Tenderloin district to address the escalating epidemic."
   ]
  },
  {
   "cell_type": "markdown",
   "id": "6255427b-3280-45b4-a236-c398e2fec775",
   "metadata": {
    "tags": []
   },
   "source": [
    "Using the [San Francisco police response records](https://data.sfgov.org/Public-Safety/Police-Department-Incident-Reports-2018-to-Present/wg3w-h783), we hope to answer the following questions:\n",
    "\n",
    "- Where do most drug-related arrests and Narcan deployments occur?\n",
    "- How do the frequencies change over time?\n",
    "- When is Narcan most commonly deployed? Mornings? Evenings? Late at night?\n",
    "- How about drug-related arrests?"
   ]
  },
  {
   "cell_type": "markdown",
   "id": "91ed78ad-293b-486c-958f-58836c4eda43",
   "metadata": {
    "jp-MarkdownHeadingCollapsed": true,
    "tags": []
   },
   "source": [
    "### Downloading and Preparing Data "
   ]
  },
  {
   "cell_type": "markdown",
   "id": "bbdc4d14-3f78-440c-a122-b0de7dec2c66",
   "metadata": {},
   "source": [
    "The SFPD data can be downloaded by clicking `Export` - `CSV`:"
   ]
  },
  {
   "cell_type": "markdown",
   "id": "b54a5bf5-6817-43c1-ab87-9829289f53ce",
   "metadata": {},
   "source": [
    "![export-csv](data_download.png)"
   ]
  },
  {
   "cell_type": "markdown",
   "id": "09ffe9e7-eca3-49c4-a439-c4aa9dd91a5d",
   "metadata": {},
   "source": [
    "Save the dataset to `data/raw`. "
   ]
  },
  {
   "cell_type": "markdown",
   "id": "b9767faf-d1e7-4c96-b842-29bb793f2b01",
   "metadata": {
    "tags": []
   },
   "source": [
    "> Notice that since this file is big (over 200MB), before committing and pushing to github, make sure to add the line '/data' in `.gitignore` file so that we don't break the git!"
   ]
  },
  {
   "cell_type": "code",
   "execution_count": 4,
   "id": "7c83094f-c080-4f54-9a15-9465ad18ecd1",
   "metadata": {
    "tags": []
   },
   "outputs": [],
   "source": [
    "# importing the modules \n",
    "import csv\n",
    "import pandas as pd\n",
    "import altair as alt"
   ]
  },
  {
   "cell_type": "code",
   "execution_count": 5,
   "id": "c3cca097-597f-4052-a5fc-ba5d84d5e7dd",
   "metadata": {},
   "outputs": [],
   "source": [
    "# Reading the file from local data/raw folder\n",
    "sfpd_data = pd.read_csv(\"/Users/tracy/sfpd-data/data/raw/Police_Department_Incident_Reports__2018_to_Present.csv\")"
   ]
  },
  {
   "cell_type": "code",
   "execution_count": 7,
   "id": "bde9f523-6d79-426b-bebd-a7914b46bb01",
   "metadata": {},
   "outputs": [],
   "source": [
    "# Filtering for narcan deployment incidents\n",
    "narcan_deployment = sfpd_data[sfpd_data['Incident Code'] == 51050]"
   ]
  },
  {
   "cell_type": "code",
   "execution_count": 4,
   "id": "00952db8-bca7-4684-ba02-de96df4f2b09",
   "metadata": {},
   "outputs": [],
   "source": [
    "# Filtering for drug-related arrests\n",
    "drug_arrest = sfpd_data[~sfpd_data['Incident Category'].isna()]\n",
    "drug_arrest_data = drug_arrest[drug_arrest['Incident Category'].str.contains('Drug')]"
   ]
  },
  {
   "cell_type": "code",
   "execution_count": null,
   "id": "7775692a-2db3-4b2b-bbc3-0e3e7d7617bf",
   "metadata": {},
   "outputs": [],
   "source": [
    "# Saving the files to the data/processed directory\n",
    "narcan_deployment.to_csv(\"/Users/tracy/sfpd-data/data/processed/narcan_deployment.csv\")\n",
    "drug_arrest_data.to_csv(\"/Users/tracy/sfpd-data/data/processed/drug_arrest_data.csv\")"
   ]
  },
  {
   "cell_type": "markdown",
   "id": "96ab5d12-7699-4ee1-ab3a-1b92ba14ccb0",
   "metadata": {},
   "source": [
    "Now, load the filterd csv files and be ready to dive in!"
   ]
  },
  {
   "cell_type": "code",
   "execution_count": 15,
   "id": "b1eca270-0d6e-4f5a-a15e-7d0fddb57d8a",
   "metadata": {
    "tags": []
   },
   "outputs": [],
   "source": [
    "# Read dataframes\n",
    "drug_arrest = pd.read_csv('/Users/tracy/code/sfpd_data/data/processed/drug_arrest_data.csv')\n",
    "narcan_deploy = pd.read_csv('/Users/tracy/sfpd-data/data/processed/narcan_deployment.csv')\n",
    "# Make the column names snake_case\n",
    "drug_arrest.columns = [col.lower().replace(' ', '_') for col in drug_arrest.columns]\n",
    "narcan_deploy.columns = [col.lower().replace(' ', '_') for col in narcan_deploy.columns]"
   ]
  },
  {
   "cell_type": "markdown",
   "id": "c6d33f22-7837-4f7b-8c30-8a57b372310d",
   "metadata": {
    "jp-MarkdownHeadingCollapsed": true,
    "tags": []
   },
   "source": [
    "### Drug Arrests and Narcan Deployment by Neighborhood"
   ]
  },
  {
   "cell_type": "markdown",
   "id": "db93a908-ca55-4af3-a00f-cbc5ee5d52b5",
   "metadata": {
    "tags": []
   },
   "source": [
    "#### Finding #1\n",
    "Our analysis found that most drug-related arrests occur in the **Tenderloin, South of Market (SoMa), and Mission** neighborhoods. Located near each other in downtown San Francisco, the two neighborhoods have undergone significant changes following rapid urban development and gentrification in recent years. Both suffer from a high-rate of poverty and crime."
   ]
  },
  {
   "cell_type": "markdown",
   "id": "489160fd-7f27-413a-89d1-72e60ce24dbf",
   "metadata": {
    "tags": []
   },
   "source": [
    "#### Analysis and Visualization"
   ]
  },
  {
   "cell_type": "code",
   "execution_count": 91,
   "id": "7082ad2a-cde4-44a1-81bb-d4f462b62dd3",
   "metadata": {
    "tags": []
   },
   "outputs": [
    {
     "data": {
      "text/html": [
       "<div>\n",
       "<style scoped>\n",
       "    .dataframe tbody tr th:only-of-type {\n",
       "        vertical-align: middle;\n",
       "    }\n",
       "\n",
       "    .dataframe tbody tr th {\n",
       "        vertical-align: top;\n",
       "    }\n",
       "\n",
       "    .dataframe thead th {\n",
       "        text-align: right;\n",
       "    }\n",
       "</style>\n",
       "<table border=\"1\" class=\"dataframe\">\n",
       "  <thead>\n",
       "    <tr style=\"text-align: right;\">\n",
       "      <th></th>\n",
       "      <th>analysis_neighborhood</th>\n",
       "      <th>drug_arrests_count</th>\n",
       "    </tr>\n",
       "  </thead>\n",
       "  <tbody>\n",
       "    <tr>\n",
       "      <th>1</th>\n",
       "      <td>Tenderloin</td>\n",
       "      <td>8613</td>\n",
       "    </tr>\n",
       "    <tr>\n",
       "      <th>2</th>\n",
       "      <td>South of Market</td>\n",
       "      <td>2962</td>\n",
       "    </tr>\n",
       "    <tr>\n",
       "      <th>3</th>\n",
       "      <td>Mission</td>\n",
       "      <td>1740</td>\n",
       "    </tr>\n",
       "    <tr>\n",
       "      <th>4</th>\n",
       "      <td>Financial District/South Beach</td>\n",
       "      <td>451</td>\n",
       "    </tr>\n",
       "    <tr>\n",
       "      <th>5</th>\n",
       "      <td>Bayview Hunters Point</td>\n",
       "      <td>437</td>\n",
       "    </tr>\n",
       "    <tr>\n",
       "      <th>6</th>\n",
       "      <td>Castro/Upper Market</td>\n",
       "      <td>291</td>\n",
       "    </tr>\n",
       "    <tr>\n",
       "      <th>7</th>\n",
       "      <td>Western Addition</td>\n",
       "      <td>273</td>\n",
       "    </tr>\n",
       "    <tr>\n",
       "      <th>8</th>\n",
       "      <td>Haight Ashbury</td>\n",
       "      <td>242</td>\n",
       "    </tr>\n",
       "    <tr>\n",
       "      <th>9</th>\n",
       "      <td>Nob Hill</td>\n",
       "      <td>213</td>\n",
       "    </tr>\n",
       "    <tr>\n",
       "      <th>10</th>\n",
       "      <td>North Beach</td>\n",
       "      <td>137</td>\n",
       "    </tr>\n",
       "  </tbody>\n",
       "</table>\n",
       "</div>"
      ],
      "text/plain": [
       "             analysis_neighborhood  drug_arrests_count\n",
       "1                       Tenderloin                8613\n",
       "2                  South of Market                2962\n",
       "3                          Mission                1740\n",
       "4   Financial District/South Beach                 451\n",
       "5            Bayview Hunters Point                 437\n",
       "6              Castro/Upper Market                 291\n",
       "7                 Western Addition                 273\n",
       "8                   Haight Ashbury                 242\n",
       "9                         Nob Hill                 213\n",
       "10                     North Beach                 137"
      ]
     },
     "execution_count": 91,
     "metadata": {},
     "output_type": "execute_result"
    }
   ],
   "source": [
    "da_neighb = drug_arrest.groupby(drug_arrest['analysis_neighborhood']).size()\n",
    "da_df = da_neighb.sort_values(ascending = False).reset_index(name='drug_arrests_count')\n",
    "da_df.index +=1 \n",
    "da_df.head(10)"
   ]
  },
  {
   "cell_type": "code",
   "execution_count": 42,
   "id": "938349c5-6dde-43e6-9fb7-851af7f62c12",
   "metadata": {
    "tags": []
   },
   "outputs": [],
   "source": [
    "# Group the incidents by time and location\n",
    "# Note that incident_date_2 has no significant meaning other than for the purpose of tooltips in visualization.\n",
    "\n",
    "neighborho = drug_arrest.groupby([(drug_arrest['incident_date'].dt.strftime('%Y-%m')),drug_arrest['analysis_neighborhood']]).size().reset_index(name='count')\n",
    "neighborho['incident_date_2'] = neighborho['incident_date']\n",
    "sorted = neighborho.sort_values('count',ascending=False)"
   ]
  },
  {
   "cell_type": "code",
   "execution_count": 69,
   "id": "f05fc6da-4b64-431e-88d3-c22caba139cd",
   "metadata": {
    "tags": []
   },
   "outputs": [
    {
     "data": {
      "text/html": [
       "\n",
       "<div id=\"altair-viz-1c29b70fcbd84bb3911127b703349fa5\"></div>\n",
       "<script type=\"text/javascript\">\n",
       "  var VEGA_DEBUG = (typeof VEGA_DEBUG == \"undefined\") ? {} : VEGA_DEBUG;\n",
       "  (function(spec, embedOpt){\n",
       "    let outputDiv = document.currentScript.previousElementSibling;\n",
       "    if (outputDiv.id !== \"altair-viz-1c29b70fcbd84bb3911127b703349fa5\") {\n",
       "      outputDiv = document.getElementById(\"altair-viz-1c29b70fcbd84bb3911127b703349fa5\");\n",
       "    }\n",
       "    const paths = {\n",
       "      \"vega\": \"https://cdn.jsdelivr.net/npm/vega@5?noext\",\n",
       "      \"vega-lib\": \"https://cdn.jsdelivr.net/npm/vega-lib?noext\",\n",
       "      \"vega-lite\": \"https://cdn.jsdelivr.net/npm/vega-lite@5.6.1?noext\",\n",
       "      \"vega-embed\": \"https://cdn.jsdelivr.net/npm/vega-embed@6?noext\",\n",
       "    };\n",
       "\n",
       "    function maybeLoadScript(lib, version) {\n",
       "      var key = `${lib.replace(\"-\", \"\")}_version`;\n",
       "      return (VEGA_DEBUG[key] == version) ?\n",
       "        Promise.resolve(paths[lib]) :\n",
       "        new Promise(function(resolve, reject) {\n",
       "          var s = document.createElement('script');\n",
       "          document.getElementsByTagName(\"head\")[0].appendChild(s);\n",
       "          s.async = true;\n",
       "          s.onload = () => {\n",
       "            VEGA_DEBUG[key] = version;\n",
       "            return resolve(paths[lib]);\n",
       "          };\n",
       "          s.onerror = () => reject(`Error loading script: ${paths[lib]}`);\n",
       "          s.src = paths[lib];\n",
       "        });\n",
       "    }\n",
       "\n",
       "    function showError(err) {\n",
       "      outputDiv.innerHTML = `<div class=\"error\" style=\"color:red;\">${err}</div>`;\n",
       "      throw err;\n",
       "    }\n",
       "\n",
       "    function displayChart(vegaEmbed) {\n",
       "      vegaEmbed(outputDiv, spec, embedOpt)\n",
       "        .catch(err => showError(`Javascript Error: ${err.message}<br>This usually means there's a typo in your chart specification. See the javascript console for the full traceback.`));\n",
       "    }\n",
       "\n",
       "    if(typeof define === \"function\" && define.amd) {\n",
       "      requirejs.config({paths});\n",
       "      require([\"vega-embed\"], displayChart, err => showError(`Error loading script: ${err.message}`));\n",
       "    } else {\n",
       "      maybeLoadScript(\"vega\", \"5\")\n",
       "        .then(() => maybeLoadScript(\"vega-lite\", \"5.6.1\"))\n",
       "        .then(() => maybeLoadScript(\"vega-embed\", \"6\"))\n",
       "        .catch(showError)\n",
       "        .then(() => displayChart(vegaEmbed));\n",
       "    }\n",
       "  })({\"config\": {\"view\": {\"continuousWidth\": 300, \"continuousHeight\": 300}}, \"data\": {\"name\": \"data-1afae31ce982da0859d389fa2deb794c\"}, \"mark\": {\"type\": \"area\", \"opacity\": 0.8, \"size\": 9}, \"encoding\": {\"color\": {\"field\": \"analysis_neighborhood\", \"legend\": {\"title\": \"Neighborhood\", \"values\": [\"Tenderloin\", \"South of Market\", \"Mission\"]}, \"type\": \"nominal\"}, \"tooltip\": [{\"field\": \"incident_date_2\", \"title\": \"Date\", \"type\": \"nominal\"}, {\"field\": \"count\", \"title\": \"Drug Arrests\", \"type\": \"quantitative\"}, {\"field\": \"analysis_neighborhood\", \"title\": \"Neighborhood\", \"type\": \"nominal\"}], \"x\": {\"axis\": {\"domain\": false, \"format\": \"%Y.%m\"}, \"field\": \"incident_date\", \"title\": \"Date\", \"type\": \"temporal\"}, \"y\": {\"field\": \"count\", \"stack\": \"normalize\", \"title\": \"Count\", \"type\": \"quantitative\"}}, \"height\": 350, \"title\": \"Total Drug Arrests by Neighborhoods (2018-now)\", \"width\": 650, \"$schema\": \"https://vega.github.io/schema/vega-lite/v5.6.1.json\", \"datasets\": {\"data-1afae31ce982da0859d389fa2deb794c\": [{\"incident_date\": \"2022-07\", \"analysis_neighborhood\": \"Tenderloin\", \"count\": 356, \"incident_date_2\": \"2022-07\"}, {\"incident_date\": \"2022-08\", \"analysis_neighborhood\": \"Tenderloin\", \"count\": 310, \"incident_date_2\": \"2022-08\"}, {\"incident_date\": \"2023-02\", \"analysis_neighborhood\": \"Tenderloin\", \"count\": 267, \"incident_date_2\": \"2023-02\"}, {\"incident_date\": \"2018-10\", \"analysis_neighborhood\": \"Tenderloin\", \"count\": 227, \"incident_date_2\": \"2018-10\"}, {\"incident_date\": \"2020-06\", \"analysis_neighborhood\": \"Tenderloin\", \"count\": 207, \"incident_date_2\": \"2020-06\"}, {\"incident_date\": \"2018-11\", \"analysis_neighborhood\": \"Tenderloin\", \"count\": 200, \"incident_date_2\": \"2018-11\"}, {\"incident_date\": \"2018-02\", \"analysis_neighborhood\": \"Tenderloin\", \"count\": 190, \"incident_date_2\": \"2018-02\"}, {\"incident_date\": \"2018-03\", \"analysis_neighborhood\": \"Tenderloin\", \"count\": 181, \"incident_date_2\": \"2018-03\"}, {\"incident_date\": \"2023-01\", \"analysis_neighborhood\": \"Tenderloin\", \"count\": 176, \"incident_date_2\": \"2023-01\"}, {\"incident_date\": \"2018-05\", \"analysis_neighborhood\": \"Tenderloin\", \"count\": 175, \"incident_date_2\": \"2018-05\"}, {\"incident_date\": \"2022-12\", \"analysis_neighborhood\": \"Tenderloin\", \"count\": 171, \"incident_date_2\": \"2022-12\"}, {\"incident_date\": \"2021-01\", \"analysis_neighborhood\": \"Tenderloin\", \"count\": 169, \"incident_date_2\": \"2021-01\"}, {\"incident_date\": \"2022-01\", \"analysis_neighborhood\": \"Tenderloin\", \"count\": 169, \"incident_date_2\": \"2022-01\"}, {\"incident_date\": \"2022-09\", \"analysis_neighborhood\": \"Tenderloin\", \"count\": 164, \"incident_date_2\": \"2022-09\"}, {\"incident_date\": \"2020-07\", \"analysis_neighborhood\": \"Tenderloin\", \"count\": 161, \"incident_date_2\": \"2020-07\"}, {\"incident_date\": \"2020-02\", \"analysis_neighborhood\": \"Tenderloin\", \"count\": 161, \"incident_date_2\": \"2020-02\"}, {\"incident_date\": \"2019-03\", \"analysis_neighborhood\": \"Tenderloin\", \"count\": 161, \"incident_date_2\": \"2019-03\"}, {\"incident_date\": \"2020-05\", \"analysis_neighborhood\": \"Tenderloin\", \"count\": 157, \"incident_date_2\": \"2020-05\"}, {\"incident_date\": \"2018-04\", \"analysis_neighborhood\": \"Tenderloin\", \"count\": 153, \"incident_date_2\": \"2018-04\"}, {\"incident_date\": \"2022-11\", \"analysis_neighborhood\": \"Tenderloin\", \"count\": 145, \"incident_date_2\": \"2022-11\"}, {\"incident_date\": \"2021-12\", \"analysis_neighborhood\": \"Tenderloin\", \"count\": 144, \"incident_date_2\": \"2021-12\"}, {\"incident_date\": \"2022-02\", \"analysis_neighborhood\": \"Tenderloin\", \"count\": 143, \"incident_date_2\": \"2022-02\"}, {\"incident_date\": \"2021-04\", \"analysis_neighborhood\": \"Tenderloin\", \"count\": 142, \"incident_date_2\": \"2021-04\"}, {\"incident_date\": \"2020-08\", \"analysis_neighborhood\": \"Tenderloin\", \"count\": 141, \"incident_date_2\": \"2020-08\"}, {\"incident_date\": \"2021-02\", \"analysis_neighborhood\": \"Tenderloin\", \"count\": 140, \"incident_date_2\": \"2021-02\"}, {\"incident_date\": \"2018-01\", \"analysis_neighborhood\": \"Tenderloin\", \"count\": 140, \"incident_date_2\": \"2018-01\"}, {\"incident_date\": \"2019-07\", \"analysis_neighborhood\": \"Tenderloin\", \"count\": 139, \"incident_date_2\": \"2019-07\"}, {\"incident_date\": \"2022-06\", \"analysis_neighborhood\": \"Tenderloin\", \"count\": 135, \"incident_date_2\": \"2022-06\"}, {\"incident_date\": \"2020-10\", \"analysis_neighborhood\": \"Tenderloin\", \"count\": 134, \"incident_date_2\": \"2020-10\"}, {\"incident_date\": \"2019-01\", \"analysis_neighborhood\": \"Tenderloin\", \"count\": 133, \"incident_date_2\": \"2019-01\"}, {\"incident_date\": \"2019-04\", \"analysis_neighborhood\": \"Tenderloin\", \"count\": 131, \"incident_date_2\": \"2019-04\"}, {\"incident_date\": \"2020-09\", \"analysis_neighborhood\": \"Tenderloin\", \"count\": 130, \"incident_date_2\": \"2020-09\"}, {\"incident_date\": \"2018-07\", \"analysis_neighborhood\": \"Tenderloin\", \"count\": 129, \"incident_date_2\": \"2018-07\"}, {\"incident_date\": \"2022-03\", \"analysis_neighborhood\": \"Tenderloin\", \"count\": 126, \"incident_date_2\": \"2022-03\"}, {\"incident_date\": \"2022-08\", \"analysis_neighborhood\": \"South of Market\", \"count\": 126, \"incident_date_2\": \"2022-08\"}, {\"incident_date\": \"2019-08\", \"analysis_neighborhood\": \"Tenderloin\", \"count\": 122, \"incident_date_2\": \"2019-08\"}, {\"incident_date\": \"2018-08\", \"analysis_neighborhood\": \"Tenderloin\", \"count\": 120, \"incident_date_2\": \"2018-08\"}, {\"incident_date\": \"2021-06\", \"analysis_neighborhood\": \"Tenderloin\", \"count\": 120, \"incident_date_2\": \"2021-06\"}, {\"incident_date\": \"2018-12\", \"analysis_neighborhood\": \"Tenderloin\", \"count\": 120, \"incident_date_2\": \"2018-12\"}, {\"incident_date\": \"2019-12\", \"analysis_neighborhood\": \"Tenderloin\", \"count\": 119, \"incident_date_2\": \"2019-12\"}, {\"incident_date\": \"2021-07\", \"analysis_neighborhood\": \"Tenderloin\", \"count\": 117, \"incident_date_2\": \"2021-07\"}, {\"incident_date\": \"2022-10\", \"analysis_neighborhood\": \"Tenderloin\", \"count\": 117, \"incident_date_2\": \"2022-10\"}, {\"incident_date\": \"2021-08\", \"analysis_neighborhood\": \"Tenderloin\", \"count\": 117, \"incident_date_2\": \"2021-08\"}, {\"incident_date\": \"2019-05\", \"analysis_neighborhood\": \"Tenderloin\", \"count\": 116, \"incident_date_2\": \"2019-05\"}, {\"incident_date\": \"2022-05\", \"analysis_neighborhood\": \"Tenderloin\", \"count\": 115, \"incident_date_2\": \"2022-05\"}, {\"incident_date\": \"2018-06\", \"analysis_neighborhood\": \"Tenderloin\", \"count\": 113, \"incident_date_2\": \"2018-06\"}, {\"incident_date\": \"2019-06\", \"analysis_neighborhood\": \"Tenderloin\", \"count\": 112, \"incident_date_2\": \"2019-06\"}, {\"incident_date\": \"2020-01\", \"analysis_neighborhood\": \"Tenderloin\", \"count\": 111, \"incident_date_2\": \"2020-01\"}, {\"incident_date\": \"2019-10\", \"analysis_neighborhood\": \"Tenderloin\", \"count\": 111, \"incident_date_2\": \"2019-10\"}, {\"incident_date\": \"2020-12\", \"analysis_neighborhood\": \"Tenderloin\", \"count\": 110, \"incident_date_2\": \"2020-12\"}, {\"incident_date\": \"2019-09\", \"analysis_neighborhood\": \"Tenderloin\", \"count\": 110, \"incident_date_2\": \"2019-09\"}, {\"incident_date\": \"2019-02\", \"analysis_neighborhood\": \"Tenderloin\", \"count\": 106, \"incident_date_2\": \"2019-02\"}, {\"incident_date\": \"2018-09\", \"analysis_neighborhood\": \"Tenderloin\", \"count\": 101, \"incident_date_2\": \"2018-09\"}, {\"incident_date\": \"2022-07\", \"analysis_neighborhood\": \"South of Market\", \"count\": 97, \"incident_date_2\": \"2022-07\"}, {\"incident_date\": \"2022-09\", \"analysis_neighborhood\": \"South of Market\", \"count\": 96, \"incident_date_2\": \"2022-09\"}, {\"incident_date\": \"2019-11\", \"analysis_neighborhood\": \"Tenderloin\", \"count\": 96, \"incident_date_2\": \"2019-11\"}, {\"incident_date\": \"2022-11\", \"analysis_neighborhood\": \"South of Market\", \"count\": 95, \"incident_date_2\": \"2022-11\"}, {\"incident_date\": \"2021-10\", \"analysis_neighborhood\": \"Tenderloin\", \"count\": 92, \"incident_date_2\": \"2021-10\"}, {\"incident_date\": \"2022-12\", \"analysis_neighborhood\": \"South of Market\", \"count\": 90, \"incident_date_2\": \"2022-12\"}, {\"incident_date\": \"2023-02\", \"analysis_neighborhood\": \"South of Market\", \"count\": 88, \"incident_date_2\": \"2023-02\"}, {\"incident_date\": \"2022-04\", \"analysis_neighborhood\": \"Tenderloin\", \"count\": 87, \"incident_date_2\": \"2022-04\"}, {\"incident_date\": \"2021-09\", \"analysis_neighborhood\": \"Tenderloin\", \"count\": 83, \"incident_date_2\": \"2021-09\"}, {\"incident_date\": \"2020-11\", \"analysis_neighborhood\": \"Tenderloin\", \"count\": 82, \"incident_date_2\": \"2020-11\"}, {\"incident_date\": \"2021-03\", \"analysis_neighborhood\": \"Tenderloin\", \"count\": 82, \"incident_date_2\": \"2021-03\"}, {\"incident_date\": \"2023-01\", \"analysis_neighborhood\": \"South of Market\", \"count\": 80, \"incident_date_2\": \"2023-01\"}, {\"incident_date\": \"2019-12\", \"analysis_neighborhood\": \"South of Market\", \"count\": 79, \"incident_date_2\": \"2019-12\"}, {\"incident_date\": \"2018-11\", \"analysis_neighborhood\": \"Mission\", \"count\": 73, \"incident_date_2\": \"2018-11\"}, {\"incident_date\": \"2018-10\", \"analysis_neighborhood\": \"South of Market\", \"count\": 72, \"incident_date_2\": \"2018-10\"}, {\"incident_date\": \"2019-09\", \"analysis_neighborhood\": \"Mission\", \"count\": 72, \"incident_date_2\": \"2019-09\"}, {\"incident_date\": \"2018-03\", \"analysis_neighborhood\": \"South of Market\", \"count\": 69, \"incident_date_2\": \"2018-03\"}, {\"incident_date\": \"2020-01\", \"analysis_neighborhood\": \"South of Market\", \"count\": 68, \"incident_date_2\": \"2020-01\"}, {\"incident_date\": \"2018-05\", \"analysis_neighborhood\": \"South of Market\", \"count\": 67, \"incident_date_2\": \"2018-05\"}, {\"incident_date\": \"2020-02\", \"analysis_neighborhood\": \"South of Market\", \"count\": 66, \"incident_date_2\": \"2020-02\"}, {\"incident_date\": \"2019-04\", \"analysis_neighborhood\": \"South of Market\", \"count\": 66, \"incident_date_2\": \"2019-04\"}, {\"incident_date\": \"2020-03\", \"analysis_neighborhood\": \"Tenderloin\", \"count\": 66, \"incident_date_2\": \"2020-03\"}, {\"incident_date\": \"2019-10\", \"analysis_neighborhood\": \"Mission\", \"count\": 64, \"incident_date_2\": \"2019-10\"}, {\"incident_date\": \"2022-10\", \"analysis_neighborhood\": \"South of Market\", \"count\": 64, \"incident_date_2\": \"2022-10\"}, {\"incident_date\": \"2018-02\", \"analysis_neighborhood\": \"South of Market\", \"count\": 63, \"incident_date_2\": \"2018-02\"}, {\"incident_date\": \"2019-11\", \"analysis_neighborhood\": \"South of Market\", \"count\": 63, \"incident_date_2\": \"2019-11\"}, {\"incident_date\": \"2019-06\", \"analysis_neighborhood\": \"Mission\", \"count\": 61, \"incident_date_2\": \"2019-06\"}, {\"incident_date\": \"2018-01\", \"analysis_neighborhood\": \"South of Market\", \"count\": 60, \"incident_date_2\": \"2018-01\"}, {\"incident_date\": \"2022-03\", \"analysis_neighborhood\": \"South of Market\", \"count\": 60, \"incident_date_2\": \"2022-03\"}, {\"incident_date\": \"2018-11\", \"analysis_neighborhood\": \"South of Market\", \"count\": 59, \"incident_date_2\": \"2018-11\"}, {\"incident_date\": \"2021-05\", \"analysis_neighborhood\": \"Tenderloin\", \"count\": 59, \"incident_date_2\": \"2021-05\"}, {\"incident_date\": \"2022-05\", \"analysis_neighborhood\": \"South of Market\", \"count\": 58, \"incident_date_2\": \"2022-05\"}, {\"incident_date\": \"2018-07\", \"analysis_neighborhood\": \"Mission\", \"count\": 57, \"incident_date_2\": \"2018-07\"}, {\"incident_date\": \"2018-05\", \"analysis_neighborhood\": \"Mission\", \"count\": 57, \"incident_date_2\": \"2018-05\"}, {\"incident_date\": \"2019-07\", \"analysis_neighborhood\": \"Mission\", \"count\": 57, \"incident_date_2\": \"2019-07\"}, {\"incident_date\": \"2019-01\", \"analysis_neighborhood\": \"South of Market\", \"count\": 56, \"incident_date_2\": \"2019-01\"}, {\"incident_date\": \"2018-08\", \"analysis_neighborhood\": \"South of Market\", \"count\": 56, \"incident_date_2\": \"2018-08\"}, {\"incident_date\": \"2018-04\", \"analysis_neighborhood\": \"South of Market\", \"count\": 55, \"incident_date_2\": \"2018-04\"}, {\"incident_date\": \"2018-12\", \"analysis_neighborhood\": \"Mission\", \"count\": 54, \"incident_date_2\": \"2018-12\"}, {\"incident_date\": \"2021-11\", \"analysis_neighborhood\": \"Tenderloin\", \"count\": 54, \"incident_date_2\": \"2021-11\"}, {\"incident_date\": \"2022-06\", \"analysis_neighborhood\": \"South of Market\", \"count\": 53, \"incident_date_2\": \"2022-06\"}, {\"incident_date\": \"2022-02\", \"analysis_neighborhood\": \"South of Market\", \"count\": 51, \"incident_date_2\": \"2022-02\"}, {\"incident_date\": \"2019-03\", \"analysis_neighborhood\": \"Mission\", \"count\": 50, \"incident_date_2\": \"2019-03\"}, {\"incident_date\": \"2019-08\", \"analysis_neighborhood\": \"Mission\", \"count\": 49, \"incident_date_2\": \"2019-08\"}, {\"incident_date\": \"2019-08\", \"analysis_neighborhood\": \"South of Market\", \"count\": 49, \"incident_date_2\": \"2019-08\"}, {\"incident_date\": \"2018-10\", \"analysis_neighborhood\": \"Mission\", \"count\": 48, \"incident_date_2\": \"2018-10\"}, {\"incident_date\": \"2020-02\", \"analysis_neighborhood\": \"Mission\", \"count\": 47, \"incident_date_2\": \"2020-02\"}, {\"incident_date\": \"2019-11\", \"analysis_neighborhood\": \"Mission\", \"count\": 47, \"incident_date_2\": \"2019-11\"}, {\"incident_date\": \"2019-02\", \"analysis_neighborhood\": \"South of Market\", \"count\": 47, \"incident_date_2\": \"2019-02\"}, {\"incident_date\": \"2019-04\", \"analysis_neighborhood\": \"Mission\", \"count\": 47, \"incident_date_2\": \"2019-04\"}, {\"incident_date\": \"2019-06\", \"analysis_neighborhood\": \"South of Market\", \"count\": 46, \"incident_date_2\": \"2019-06\"}, {\"incident_date\": \"2018-07\", \"analysis_neighborhood\": \"South of Market\", \"count\": 46, \"incident_date_2\": \"2018-07\"}, {\"incident_date\": \"2019-05\", \"analysis_neighborhood\": \"South of Market\", \"count\": 46, \"incident_date_2\": \"2019-05\"}, {\"incident_date\": \"2019-05\", \"analysis_neighborhood\": \"Mission\", \"count\": 46, \"incident_date_2\": \"2019-05\"}, {\"incident_date\": \"2019-01\", \"analysis_neighborhood\": \"Mission\", \"count\": 45, \"incident_date_2\": \"2019-01\"}, {\"incident_date\": \"2018-06\", \"analysis_neighborhood\": \"South of Market\", \"count\": 45, \"incident_date_2\": \"2018-06\"}, {\"incident_date\": \"2018-03\", \"analysis_neighborhood\": \"Mission\", \"count\": 43, \"incident_date_2\": \"2018-03\"}, {\"incident_date\": \"2019-07\", \"analysis_neighborhood\": \"South of Market\", \"count\": 43, \"incident_date_2\": \"2019-07\"}, {\"incident_date\": \"2021-06\", \"analysis_neighborhood\": \"South of Market\", \"count\": 41, \"incident_date_2\": \"2021-06\"}, {\"incident_date\": \"2018-09\", \"analysis_neighborhood\": \"South of Market\", \"count\": 41, \"incident_date_2\": \"2018-09\"}, {\"incident_date\": \"2022-04\", \"analysis_neighborhood\": \"South of Market\", \"count\": 41, \"incident_date_2\": \"2022-04\"}, {\"incident_date\": \"2021-04\", \"analysis_neighborhood\": \"South of Market\", \"count\": 40, \"incident_date_2\": \"2021-04\"}, {\"incident_date\": \"2019-09\", \"analysis_neighborhood\": \"South of Market\", \"count\": 40, \"incident_date_2\": \"2019-09\"}, {\"incident_date\": \"2021-11\", \"analysis_neighborhood\": \"South of Market\", \"count\": 39, \"incident_date_2\": \"2021-11\"}, {\"incident_date\": \"2021-07\", \"analysis_neighborhood\": \"South of Market\", \"count\": 39, \"incident_date_2\": \"2021-07\"}, {\"incident_date\": \"2019-02\", \"analysis_neighborhood\": \"Mission\", \"count\": 38, \"incident_date_2\": \"2019-02\"}, {\"incident_date\": \"2018-04\", \"analysis_neighborhood\": \"Mission\", \"count\": 38, \"incident_date_2\": \"2018-04\"}, {\"incident_date\": \"2018-09\", \"analysis_neighborhood\": \"Mission\", \"count\": 37, \"incident_date_2\": \"2018-09\"}, {\"incident_date\": \"2022-01\", \"analysis_neighborhood\": \"South of Market\", \"count\": 37, \"incident_date_2\": \"2022-01\"}, {\"incident_date\": \"2018-01\", \"analysis_neighborhood\": \"Mission\", \"count\": 36, \"incident_date_2\": \"2018-01\"}, {\"incident_date\": \"2018-02\", \"analysis_neighborhood\": \"Mission\", \"count\": 35, \"incident_date_2\": \"2018-02\"}, {\"incident_date\": \"2018-08\", \"analysis_neighborhood\": \"Mission\", \"count\": 34, \"incident_date_2\": \"2018-08\"}, {\"incident_date\": \"2020-03\", \"analysis_neighborhood\": \"South of Market\", \"count\": 34, \"incident_date_2\": \"2020-03\"}, {\"incident_date\": \"2019-10\", \"analysis_neighborhood\": \"South of Market\", \"count\": 33, \"incident_date_2\": \"2019-10\"}, {\"incident_date\": \"2021-08\", \"analysis_neighborhood\": \"South of Market\", \"count\": 31, \"incident_date_2\": \"2021-08\"}, {\"incident_date\": \"2020-04\", \"analysis_neighborhood\": \"Tenderloin\", \"count\": 29, \"incident_date_2\": \"2020-04\"}, {\"incident_date\": \"2019-03\", \"analysis_neighborhood\": \"South of Market\", \"count\": 29, \"incident_date_2\": \"2019-03\"}, {\"incident_date\": \"2021-12\", \"analysis_neighborhood\": \"South of Market\", \"count\": 28, \"incident_date_2\": \"2021-12\"}, {\"incident_date\": \"2020-01\", \"analysis_neighborhood\": \"Mission\", \"count\": 28, \"incident_date_2\": \"2020-01\"}, {\"incident_date\": \"2020-05\", \"analysis_neighborhood\": \"South of Market\", \"count\": 28, \"incident_date_2\": \"2020-05\"}, {\"incident_date\": \"2019-12\", \"analysis_neighborhood\": \"Mission\", \"count\": 27, \"incident_date_2\": \"2019-12\"}, {\"incident_date\": \"2021-02\", \"analysis_neighborhood\": \"South of Market\", \"count\": 27, \"incident_date_2\": \"2021-02\"}, {\"incident_date\": \"2018-12\", \"analysis_neighborhood\": \"South of Market\", \"count\": 27, \"incident_date_2\": \"2018-12\"}, {\"incident_date\": \"2021-09\", \"analysis_neighborhood\": \"South of Market\", \"count\": 26, \"incident_date_2\": \"2021-09\"}, {\"incident_date\": \"2018-06\", \"analysis_neighborhood\": \"Mission\", \"count\": 25, \"incident_date_2\": \"2018-06\"}, {\"incident_date\": \"2020-08\", \"analysis_neighborhood\": \"Mission\", \"count\": 24, \"incident_date_2\": \"2020-08\"}, {\"incident_date\": \"2023-02\", \"analysis_neighborhood\": \"Mission\", \"count\": 24, \"incident_date_2\": \"2023-02\"}, {\"incident_date\": \"2021-01\", \"analysis_neighborhood\": \"Mission\", \"count\": 24, \"incident_date_2\": \"2021-01\"}, {\"incident_date\": \"2020-09\", \"analysis_neighborhood\": \"South of Market\", \"count\": 24, \"incident_date_2\": \"2020-09\"}, {\"incident_date\": \"2022-07\", \"analysis_neighborhood\": \"Mission\", \"count\": 23, \"incident_date_2\": \"2022-07\"}, {\"incident_date\": \"2020-08\", \"analysis_neighborhood\": \"South of Market\", \"count\": 23, \"incident_date_2\": \"2020-08\"}, {\"incident_date\": \"2022-08\", \"analysis_neighborhood\": \"Mission\", \"count\": 22, \"incident_date_2\": \"2022-08\"}, {\"incident_date\": \"2022-11\", \"analysis_neighborhood\": \"Mission\", \"count\": 21, \"incident_date_2\": \"2022-11\"}, {\"incident_date\": \"2022-04\", \"analysis_neighborhood\": \"Mission\", \"count\": 21, \"incident_date_2\": \"2022-04\"}, {\"incident_date\": \"2020-12\", \"analysis_neighborhood\": \"Mission\", \"count\": 20, \"incident_date_2\": \"2020-12\"}, {\"incident_date\": \"2022-10\", \"analysis_neighborhood\": \"Mission\", \"count\": 20, \"incident_date_2\": \"2022-10\"}, {\"incident_date\": \"2023-03\", \"analysis_neighborhood\": \"Tenderloin\", \"count\": 19, \"incident_date_2\": \"2023-03\"}, {\"incident_date\": \"2019-10\", \"analysis_neighborhood\": \"Financial District/South Beach\", \"count\": 19, \"incident_date_2\": \"2019-10\"}, {\"incident_date\": \"2021-01\", \"analysis_neighborhood\": \"South of Market\", \"count\": 19, \"incident_date_2\": \"2021-01\"}, {\"incident_date\": \"2022-05\", \"analysis_neighborhood\": \"Mission\", \"count\": 19, \"incident_date_2\": \"2022-05\"}, {\"incident_date\": \"2020-12\", \"analysis_neighborhood\": \"South of Market\", \"count\": 18, \"incident_date_2\": \"2020-12\"}, {\"incident_date\": \"2021-03\", \"analysis_neighborhood\": \"South of Market\", \"count\": 18, \"incident_date_2\": \"2021-03\"}, {\"incident_date\": \"2018-03\", \"analysis_neighborhood\": \"Bayview Hunters Point\", \"count\": 18, \"incident_date_2\": \"2018-03\"}, {\"incident_date\": \"2018-07\", \"analysis_neighborhood\": \"Castro/Upper Market\", \"count\": 18, \"incident_date_2\": \"2018-07\"}, {\"incident_date\": \"2022-06\", \"analysis_neighborhood\": \"Mission\", \"count\": 18, \"incident_date_2\": \"2022-06\"}, {\"incident_date\": \"2023-01\", \"analysis_neighborhood\": \"Mission\", \"count\": 17, \"incident_date_2\": \"2023-01\"}, {\"incident_date\": \"2020-09\", \"analysis_neighborhood\": \"Mission\", \"count\": 17, \"incident_date_2\": \"2020-09\"}, {\"incident_date\": \"2019-02\", \"analysis_neighborhood\": \"Bayview Hunters Point\", \"count\": 16, \"incident_date_2\": \"2019-02\"}, {\"incident_date\": \"2019-07\", \"analysis_neighborhood\": \"Financial District/South Beach\", \"count\": 16, \"incident_date_2\": \"2019-07\"}, {\"incident_date\": \"2021-10\", \"analysis_neighborhood\": \"Mission\", \"count\": 16, \"incident_date_2\": \"2021-10\"}, {\"incident_date\": \"2021-10\", \"analysis_neighborhood\": \"South of Market\", \"count\": 16, \"incident_date_2\": \"2021-10\"}, {\"incident_date\": \"2021-12\", \"analysis_neighborhood\": \"Mission\", \"count\": 16, \"incident_date_2\": \"2021-12\"}, {\"incident_date\": \"2018-01\", \"analysis_neighborhood\": \"Bayview Hunters Point\", \"count\": 16, \"incident_date_2\": \"2018-01\"}, {\"incident_date\": \"2021-02\", \"analysis_neighborhood\": \"Mission\", \"count\": 15, \"incident_date_2\": \"2021-02\"}, {\"incident_date\": \"2019-09\", \"analysis_neighborhood\": \"Haight Ashbury\", \"count\": 15, \"incident_date_2\": \"2019-09\"}, {\"incident_date\": \"2019-10\", \"analysis_neighborhood\": \"Castro/Upper Market\", \"count\": 15, \"incident_date_2\": \"2019-10\"}, {\"incident_date\": \"2018-04\", \"analysis_neighborhood\": \"Financial District/South Beach\", \"count\": 15, \"incident_date_2\": \"2018-04\"}, {\"incident_date\": \"2020-04\", \"analysis_neighborhood\": \"South of Market\", \"count\": 15, \"incident_date_2\": \"2020-04\"}, {\"incident_date\": \"2020-07\", \"analysis_neighborhood\": \"Mission\", \"count\": 14, \"incident_date_2\": \"2020-07\"}, {\"incident_date\": \"2019-11\", \"analysis_neighborhood\": \"Financial District/South Beach\", \"count\": 14, \"incident_date_2\": \"2019-11\"}, {\"incident_date\": \"2018-10\", \"analysis_neighborhood\": \"Financial District/South Beach\", \"count\": 14, \"incident_date_2\": \"2018-10\"}, {\"incident_date\": \"2018-04\", \"analysis_neighborhood\": \"Haight Ashbury\", \"count\": 14, \"incident_date_2\": \"2018-04\"}, {\"incident_date\": \"2022-01\", \"analysis_neighborhood\": \"Mission\", \"count\": 14, \"incident_date_2\": \"2022-01\"}, {\"incident_date\": \"2018-03\", \"analysis_neighborhood\": \"Financial District/South Beach\", \"count\": 14, \"incident_date_2\": \"2018-03\"}, {\"incident_date\": \"2020-10\", \"analysis_neighborhood\": \"South of Market\", \"count\": 14, \"incident_date_2\": \"2020-10\"}, {\"incident_date\": \"2018-03\", \"analysis_neighborhood\": \"Western Addition\", \"count\": 14, \"incident_date_2\": \"2018-03\"}, {\"incident_date\": \"2018-09\", \"analysis_neighborhood\": \"Bayview Hunters Point\", \"count\": 14, \"incident_date_2\": \"2018-09\"}, {\"incident_date\": \"2018-06\", \"analysis_neighborhood\": \"Financial District/South Beach\", \"count\": 14, \"incident_date_2\": \"2018-06\"}, {\"incident_date\": \"2023-01\", \"analysis_neighborhood\": \"Bayview Hunters Point\", \"count\": 13, \"incident_date_2\": \"2023-01\"}, {\"incident_date\": \"2019-10\", \"analysis_neighborhood\": \"Haight Ashbury\", \"count\": 13, \"incident_date_2\": \"2019-10\"}, {\"incident_date\": \"2022-09\", \"analysis_neighborhood\": \"Mission\", \"count\": 13, \"incident_date_2\": \"2022-09\"}, {\"incident_date\": \"2019-04\", \"analysis_neighborhood\": \"Haight Ashbury\", \"count\": 13, \"incident_date_2\": \"2019-04\"}, {\"incident_date\": \"2018-02\", \"analysis_neighborhood\": \"Financial District/South Beach\", \"count\": 13, \"incident_date_2\": \"2018-02\"}, {\"incident_date\": \"2023-03\", \"analysis_neighborhood\": \"South of Market\", \"count\": 13, \"incident_date_2\": \"2023-03\"}, {\"incident_date\": \"2020-06\", \"analysis_neighborhood\": \"South of Market\", \"count\": 13, \"incident_date_2\": \"2020-06\"}, {\"incident_date\": \"2020-12\", \"analysis_neighborhood\": \"Bayview Hunters Point\", \"count\": 13, \"incident_date_2\": \"2020-12\"}, {\"incident_date\": \"2018-05\", \"analysis_neighborhood\": \"Bayview Hunters Point\", \"count\": 13, \"incident_date_2\": \"2018-05\"}, {\"incident_date\": \"2021-05\", \"analysis_neighborhood\": \"Mission\", \"count\": 12, \"incident_date_2\": \"2021-05\"}, {\"incident_date\": \"2019-07\", \"analysis_neighborhood\": \"Haight Ashbury\", \"count\": 12, \"incident_date_2\": \"2019-07\"}, {\"incident_date\": \"2020-11\", \"analysis_neighborhood\": \"South of Market\", \"count\": 12, \"incident_date_2\": \"2020-11\"}, {\"incident_date\": \"2018-08\", \"analysis_neighborhood\": \"Financial District/South Beach\", \"count\": 12, \"incident_date_2\": \"2018-08\"}, {\"incident_date\": \"2018-11\", \"analysis_neighborhood\": \"Outer Richmond\", \"count\": 12, \"incident_date_2\": \"2018-11\"}, {\"incident_date\": \"2018-11\", \"analysis_neighborhood\": \"Sunset/Parkside\", \"count\": 12, \"incident_date_2\": \"2018-11\"}, {\"incident_date\": \"2021-08\", \"analysis_neighborhood\": \"Mission\", \"count\": 12, \"incident_date_2\": \"2021-08\"}, {\"incident_date\": \"2022-05\", \"analysis_neighborhood\": \"Bayview Hunters Point\", \"count\": 12, \"incident_date_2\": \"2022-05\"}, {\"incident_date\": \"2022-08\", \"analysis_neighborhood\": \"Financial District/South Beach\", \"count\": 11, \"incident_date_2\": \"2022-08\"}, {\"incident_date\": \"2021-11\", \"analysis_neighborhood\": \"Financial District/South Beach\", \"count\": 11, \"incident_date_2\": \"2021-11\"}, {\"incident_date\": \"2020-12\", \"analysis_neighborhood\": \"Hayes Valley\", \"count\": 11, \"incident_date_2\": \"2020-12\"}, {\"incident_date\": \"2022-01\", \"analysis_neighborhood\": \"Bayview Hunters Point\", \"count\": 11, \"incident_date_2\": \"2022-01\"}, {\"incident_date\": \"2020-03\", \"analysis_neighborhood\": \"Mission\", \"count\": 11, \"incident_date_2\": \"2020-03\"}, {\"incident_date\": \"2019-06\", \"analysis_neighborhood\": \"Castro/Upper Market\", \"count\": 11, \"incident_date_2\": \"2019-06\"}, {\"incident_date\": \"2020-01\", \"analysis_neighborhood\": \"Castro/Upper Market\", \"count\": 11, \"incident_date_2\": \"2020-01\"}, {\"incident_date\": \"2019-03\", \"analysis_neighborhood\": \"Bayview Hunters Point\", \"count\": 11, \"incident_date_2\": \"2019-03\"}, {\"incident_date\": \"2020-08\", \"analysis_neighborhood\": \"Bayview Hunters Point\", \"count\": 11, \"incident_date_2\": \"2020-08\"}, {\"incident_date\": \"2022-07\", \"analysis_neighborhood\": \"Financial District/South Beach\", \"count\": 11, \"incident_date_2\": \"2022-07\"}, {\"incident_date\": \"2018-09\", \"analysis_neighborhood\": \"Financial District/South Beach\", \"count\": 11, \"incident_date_2\": \"2018-09\"}, {\"incident_date\": \"2022-04\", \"analysis_neighborhood\": \"Western Addition\", \"count\": 11, \"incident_date_2\": \"2022-04\"}, {\"incident_date\": \"2022-03\", \"analysis_neighborhood\": \"Mission\", \"count\": 11, \"incident_date_2\": \"2022-03\"}, {\"incident_date\": \"2018-08\", \"analysis_neighborhood\": \"Western Addition\", \"count\": 11, \"incident_date_2\": \"2018-08\"}, {\"incident_date\": \"2018-07\", \"analysis_neighborhood\": \"West of Twin Peaks\", \"count\": 11, \"incident_date_2\": \"2018-07\"}, {\"incident_date\": \"2022-11\", \"analysis_neighborhood\": \"Financial District/South Beach\", \"count\": 11, \"incident_date_2\": \"2022-11\"}, {\"incident_date\": \"2021-04\", \"analysis_neighborhood\": \"Mission\", \"count\": 11, \"incident_date_2\": \"2021-04\"}, {\"incident_date\": \"2019-07\", \"analysis_neighborhood\": \"Bayview Hunters Point\", \"count\": 11, \"incident_date_2\": \"2019-07\"}, {\"incident_date\": \"2019-01\", \"analysis_neighborhood\": \"Haight Ashbury\", \"count\": 10, \"incident_date_2\": \"2019-01\"}, {\"incident_date\": \"2019-05\", \"analysis_neighborhood\": \"Castro/Upper Market\", \"count\": 10, \"incident_date_2\": \"2019-05\"}, {\"incident_date\": \"2019-09\", \"analysis_neighborhood\": \"Nob Hill\", \"count\": 10, \"incident_date_2\": \"2019-09\"}, {\"incident_date\": \"2022-12\", \"analysis_neighborhood\": \"Mission\", \"count\": 10, \"incident_date_2\": \"2022-12\"}, {\"incident_date\": \"2022-10\", \"analysis_neighborhood\": \"Financial District/South Beach\", \"count\": 10, \"incident_date_2\": \"2022-10\"}, {\"incident_date\": \"2021-09\", \"analysis_neighborhood\": \"Mission\", \"count\": 10, \"incident_date_2\": \"2021-09\"}, {\"incident_date\": \"2020-01\", \"analysis_neighborhood\": \"Western Addition\", \"count\": 10, \"incident_date_2\": \"2020-01\"}, {\"incident_date\": \"2022-11\", \"analysis_neighborhood\": \"Bayview Hunters Point\", \"count\": 10, \"incident_date_2\": \"2022-11\"}, {\"incident_date\": \"2020-10\", \"analysis_neighborhood\": \"Mission\", \"count\": 10, \"incident_date_2\": \"2020-10\"}, {\"incident_date\": \"2019-03\", \"analysis_neighborhood\": \"Financial District/South Beach\", \"count\": 10, \"incident_date_2\": \"2019-03\"}, {\"incident_date\": \"2020-11\", \"analysis_neighborhood\": \"Nob Hill\", \"count\": 10, \"incident_date_2\": \"2020-11\"}, {\"incident_date\": \"2018-07\", \"analysis_neighborhood\": \"Bayview Hunters Point\", \"count\": 10, \"incident_date_2\": \"2018-07\"}, {\"incident_date\": \"2021-12\", \"analysis_neighborhood\": \"Bayview Hunters Point\", \"count\": 10, \"incident_date_2\": \"2021-12\"}, {\"incident_date\": \"2020-01\", \"analysis_neighborhood\": \"Financial District/South Beach\", \"count\": 10, \"incident_date_2\": \"2020-01\"}, {\"incident_date\": \"2019-06\", \"analysis_neighborhood\": \"Nob Hill\", \"count\": 10, \"incident_date_2\": \"2019-06\"}, {\"incident_date\": \"2019-11\", \"analysis_neighborhood\": \"Haight Ashbury\", \"count\": 10, \"incident_date_2\": \"2019-11\"}, {\"incident_date\": \"2021-02\", \"analysis_neighborhood\": \"Outer Mission\", \"count\": 10, \"incident_date_2\": \"2021-02\"}, {\"incident_date\": \"2021-11\", \"analysis_neighborhood\": \"Mission\", \"count\": 10, \"incident_date_2\": \"2021-11\"}, {\"incident_date\": \"2022-09\", \"analysis_neighborhood\": \"Financial District/South Beach\", \"count\": 10, \"incident_date_2\": \"2022-09\"}, {\"incident_date\": \"2021-07\", \"analysis_neighborhood\": \"Mission\", \"count\": 10, \"incident_date_2\": \"2021-07\"}, {\"incident_date\": \"2018-08\", \"analysis_neighborhood\": \"Castro/Upper Market\", \"count\": 9, \"incident_date_2\": \"2018-08\"}, {\"incident_date\": \"2021-03\", \"analysis_neighborhood\": \"Financial District/South Beach\", \"count\": 9, \"incident_date_2\": \"2021-03\"}, {\"incident_date\": \"2019-07\", \"analysis_neighborhood\": \"Nob Hill\", \"count\": 9, \"incident_date_2\": \"2019-07\"}, {\"incident_date\": \"2021-03\", \"analysis_neighborhood\": \"Bayview Hunters Point\", \"count\": 9, \"incident_date_2\": \"2021-03\"}, {\"incident_date\": \"2022-07\", \"analysis_neighborhood\": \"Western Addition\", \"count\": 9, \"incident_date_2\": \"2022-07\"}, {\"incident_date\": \"2018-06\", \"analysis_neighborhood\": \"Bernal Heights\", \"count\": 9, \"incident_date_2\": \"2018-06\"}, {\"incident_date\": \"2020-03\", \"analysis_neighborhood\": \"Pacific Heights\", \"count\": 9, \"incident_date_2\": \"2020-03\"}, {\"incident_date\": \"2020-01\", \"analysis_neighborhood\": \"Haight Ashbury\", \"count\": 9, \"incident_date_2\": \"2020-01\"}, {\"incident_date\": \"2021-03\", \"analysis_neighborhood\": \"Mission\", \"count\": 9, \"incident_date_2\": \"2021-03\"}, {\"incident_date\": \"2023-01\", \"analysis_neighborhood\": \"Financial District/South Beach\", \"count\": 9, \"incident_date_2\": \"2023-01\"}, {\"incident_date\": \"2020-01\", \"analysis_neighborhood\": \"Bayview Hunters Point\", \"count\": 9, \"incident_date_2\": \"2020-01\"}, {\"incident_date\": \"2021-10\", \"analysis_neighborhood\": \"Bayview Hunters Point\", \"count\": 9, \"incident_date_2\": \"2021-10\"}, {\"incident_date\": \"2019-04\", \"analysis_neighborhood\": \"Bayview Hunters Point\", \"count\": 9, \"incident_date_2\": \"2019-04\"}, {\"incident_date\": \"2020-07\", \"analysis_neighborhood\": \"South of Market\", \"count\": 9, \"incident_date_2\": \"2020-07\"}, {\"incident_date\": \"2021-09\", \"analysis_neighborhood\": \"Financial District/South Beach\", \"count\": 9, \"incident_date_2\": \"2021-09\"}, {\"incident_date\": \"2020-07\", \"analysis_neighborhood\": \"Pacific Heights\", \"count\": 9, \"incident_date_2\": \"2020-07\"}, {\"incident_date\": \"2019-02\", \"analysis_neighborhood\": \"Financial District/South Beach\", \"count\": 9, \"incident_date_2\": \"2019-02\"}, {\"incident_date\": \"2019-04\", \"analysis_neighborhood\": \"Financial District/South Beach\", \"count\": 9, \"incident_date_2\": \"2019-04\"}, {\"incident_date\": \"2018-07\", \"analysis_neighborhood\": \"Excelsior\", \"count\": 9, \"incident_date_2\": \"2018-07\"}, {\"incident_date\": \"2019-01\", \"analysis_neighborhood\": \"Castro/Upper Market\", \"count\": 9, \"incident_date_2\": \"2019-01\"}, {\"incident_date\": \"2019-07\", \"analysis_neighborhood\": \"Western Addition\", \"count\": 9, \"incident_date_2\": \"2019-07\"}, {\"incident_date\": \"2021-06\", \"analysis_neighborhood\": \"Mission\", \"count\": 9, \"incident_date_2\": \"2021-06\"}, {\"incident_date\": \"2022-09\", \"analysis_neighborhood\": \"Western Addition\", \"count\": 8, \"incident_date_2\": \"2022-09\"}, {\"incident_date\": \"2022-10\", \"analysis_neighborhood\": \"Bayview Hunters Point\", \"count\": 8, \"incident_date_2\": \"2022-10\"}, {\"incident_date\": \"2021-10\", \"analysis_neighborhood\": \"Financial District/South Beach\", \"count\": 8, \"incident_date_2\": \"2021-10\"}, {\"incident_date\": \"2019-05\", \"analysis_neighborhood\": \"Financial District/South Beach\", \"count\": 8, \"incident_date_2\": \"2019-05\"}, {\"incident_date\": \"2021-12\", \"analysis_neighborhood\": \"Castro/Upper Market\", \"count\": 8, \"incident_date_2\": \"2021-12\"}, {\"incident_date\": \"2019-04\", \"analysis_neighborhood\": \"Castro/Upper Market\", \"count\": 8, \"incident_date_2\": \"2019-04\"}, {\"incident_date\": \"2020-04\", \"analysis_neighborhood\": \"Bayview Hunters Point\", \"count\": 8, \"incident_date_2\": \"2020-04\"}, {\"incident_date\": \"2019-09\", \"analysis_neighborhood\": \"Financial District/South Beach\", \"count\": 8, \"incident_date_2\": \"2019-09\"}, {\"incident_date\": \"2020-03\", \"analysis_neighborhood\": \"Western Addition\", \"count\": 8, \"incident_date_2\": \"2020-03\"}, {\"incident_date\": \"2019-11\", \"analysis_neighborhood\": \"Castro/Upper Market\", \"count\": 8, \"incident_date_2\": \"2019-11\"}, {\"incident_date\": \"2019-02\", \"analysis_neighborhood\": \"Haight Ashbury\", \"count\": 8, \"incident_date_2\": \"2019-02\"}, {\"incident_date\": \"2021-05\", \"analysis_neighborhood\": \"South of Market\", \"count\": 8, \"incident_date_2\": \"2021-05\"}, {\"incident_date\": \"2022-04\", \"analysis_neighborhood\": \"Bayview Hunters Point\", \"count\": 8, \"incident_date_2\": \"2022-04\"}, {\"incident_date\": \"2021-02\", \"analysis_neighborhood\": \"Bayview Hunters Point\", \"count\": 8, \"incident_date_2\": \"2021-02\"}, {\"incident_date\": \"2018-03\", \"analysis_neighborhood\": \"North Beach\", \"count\": 8, \"incident_date_2\": \"2018-03\"}, {\"incident_date\": \"2019-10\", \"analysis_neighborhood\": \"Hayes Valley\", \"count\": 8, \"incident_date_2\": \"2019-10\"}, {\"incident_date\": \"2018-03\", \"analysis_neighborhood\": \"West of Twin Peaks\", \"count\": 8, \"incident_date_2\": \"2018-03\"}, {\"incident_date\": \"2019-06\", \"analysis_neighborhood\": \"Financial District/South Beach\", \"count\": 8, \"incident_date_2\": \"2019-06\"}, {\"incident_date\": \"2019-09\", \"analysis_neighborhood\": \"North Beach\", \"count\": 8, \"incident_date_2\": \"2019-09\"}, {\"incident_date\": \"2019-03\", \"analysis_neighborhood\": \"Nob Hill\", \"count\": 8, \"incident_date_2\": \"2019-03\"}, {\"incident_date\": \"2018-10\", \"analysis_neighborhood\": \"Haight Ashbury\", \"count\": 8, \"incident_date_2\": \"2018-10\"}, {\"incident_date\": \"2022-07\", \"analysis_neighborhood\": \"Bayview Hunters Point\", \"count\": 8, \"incident_date_2\": \"2022-07\"}, {\"incident_date\": \"2022-08\", \"analysis_neighborhood\": \"Western Addition\", \"count\": 8, \"incident_date_2\": \"2022-08\"}, {\"incident_date\": \"2020-06\", \"analysis_neighborhood\": \"Mission\", \"count\": 8, \"incident_date_2\": \"2020-06\"}, {\"incident_date\": \"2019-01\", \"analysis_neighborhood\": \"Outer Mission\", \"count\": 8, \"incident_date_2\": \"2019-01\"}, {\"incident_date\": \"2020-11\", \"analysis_neighborhood\": \"Mission\", \"count\": 8, \"incident_date_2\": \"2020-11\"}, {\"incident_date\": \"2018-06\", \"analysis_neighborhood\": \"Castro/Upper Market\", \"count\": 7, \"incident_date_2\": \"2018-06\"}, {\"incident_date\": \"2019-07\", \"analysis_neighborhood\": \"Sunset/Parkside\", \"count\": 7, \"incident_date_2\": \"2019-07\"}, {\"incident_date\": \"2019-09\", \"analysis_neighborhood\": \"Bayview Hunters Point\", \"count\": 7, \"incident_date_2\": \"2019-09\"}, {\"incident_date\": \"2020-02\", \"analysis_neighborhood\": \"Western Addition\", \"count\": 7, \"incident_date_2\": \"2020-02\"}, {\"incident_date\": \"2022-05\", \"analysis_neighborhood\": \"Financial District/South Beach\", \"count\": 7, \"incident_date_2\": \"2022-05\"}, {\"incident_date\": \"2018-02\", \"analysis_neighborhood\": \"Golden Gate Park\", \"count\": 7, \"incident_date_2\": \"2018-02\"}, {\"incident_date\": \"2019-02\", \"analysis_neighborhood\": \"Outer Mission\", \"count\": 7, \"incident_date_2\": \"2019-02\"}, {\"incident_date\": \"2021-09\", \"analysis_neighborhood\": \"Castro/Upper Market\", \"count\": 7, \"incident_date_2\": \"2021-09\"}, {\"incident_date\": \"2020-09\", \"analysis_neighborhood\": \"Western Addition\", \"count\": 7, \"incident_date_2\": \"2020-09\"}, {\"incident_date\": \"2018-06\", \"analysis_neighborhood\": \"Bayview Hunters Point\", \"count\": 7, \"incident_date_2\": \"2018-06\"}, {\"incident_date\": \"2022-09\", \"analysis_neighborhood\": \"Nob Hill\", \"count\": 7, \"incident_date_2\": \"2022-09\"}, {\"incident_date\": \"2018-05\", \"analysis_neighborhood\": \"Hayes Valley\", \"count\": 7, \"incident_date_2\": \"2018-05\"}, {\"incident_date\": \"2021-01\", \"analysis_neighborhood\": \"Bayview Hunters Point\", \"count\": 7, \"incident_date_2\": \"2021-01\"}, {\"incident_date\": \"2019-01\", \"analysis_neighborhood\": \"Bayview Hunters Point\", \"count\": 7, \"incident_date_2\": \"2019-01\"}, {\"incident_date\": \"2023-01\", \"analysis_neighborhood\": \"Outer Mission\", \"count\": 7, \"incident_date_2\": \"2023-01\"}, {\"incident_date\": \"2019-08\", \"analysis_neighborhood\": \"Golden Gate Park\", \"count\": 7, \"incident_date_2\": \"2019-08\"}, {\"incident_date\": \"2020-02\", \"analysis_neighborhood\": \"Bayview Hunters Point\", \"count\": 7, \"incident_date_2\": \"2020-02\"}, {\"incident_date\": \"2018-09\", \"analysis_neighborhood\": \"Castro/Upper Market\", \"count\": 7, \"incident_date_2\": \"2018-09\"}, {\"incident_date\": \"2019-05\", \"analysis_neighborhood\": \"Bayview Hunters Point\", \"count\": 7, \"incident_date_2\": \"2019-05\"}, {\"incident_date\": \"2022-08\", \"analysis_neighborhood\": \"Outer Mission\", \"count\": 7, \"incident_date_2\": \"2022-08\"}, {\"incident_date\": \"2020-01\", \"analysis_neighborhood\": \"North Beach\", \"count\": 7, \"incident_date_2\": \"2020-01\"}, {\"incident_date\": \"2020-05\", \"analysis_neighborhood\": \"Nob Hill\", \"count\": 7, \"incident_date_2\": \"2020-05\"}, {\"incident_date\": \"2018-10\", \"analysis_neighborhood\": \"Western Addition\", \"count\": 7, \"incident_date_2\": \"2018-10\"}, {\"incident_date\": \"2022-04\", \"analysis_neighborhood\": \"Financial District/South Beach\", \"count\": 7, \"incident_date_2\": \"2022-04\"}, {\"incident_date\": \"2022-02\", \"analysis_neighborhood\": \"Western Addition\", \"count\": 7, \"incident_date_2\": \"2022-02\"}, {\"incident_date\": \"2018-05\", \"analysis_neighborhood\": \"Portola\", \"count\": 7, \"incident_date_2\": \"2018-05\"}, {\"incident_date\": \"2019-05\", \"analysis_neighborhood\": \"West of Twin Peaks\", \"count\": 7, \"incident_date_2\": \"2019-05\"}, {\"incident_date\": \"2019-05\", \"analysis_neighborhood\": \"Western Addition\", \"count\": 7, \"incident_date_2\": \"2019-05\"}, {\"incident_date\": \"2018-10\", \"analysis_neighborhood\": \"Castro/Upper Market\", \"count\": 7, \"incident_date_2\": \"2018-10\"}, {\"incident_date\": \"2022-12\", \"analysis_neighborhood\": \"Bayview Hunters Point\", \"count\": 7, \"incident_date_2\": \"2022-12\"}, {\"incident_date\": \"2018-09\", \"analysis_neighborhood\": \"West of Twin Peaks\", \"count\": 7, \"incident_date_2\": \"2018-09\"}, {\"incident_date\": \"2021-06\", \"analysis_neighborhood\": \"Financial District/South Beach\", \"count\": 7, \"incident_date_2\": \"2021-06\"}, {\"incident_date\": \"2022-03\", \"analysis_neighborhood\": \"Financial District/South Beach\", \"count\": 7, \"incident_date_2\": \"2022-03\"}, {\"incident_date\": \"2021-06\", \"analysis_neighborhood\": \"Bayview Hunters Point\", \"count\": 7, \"incident_date_2\": \"2021-06\"}, {\"incident_date\": \"2022-03\", \"analysis_neighborhood\": \"Haight Ashbury\", \"count\": 7, \"incident_date_2\": \"2022-03\"}, {\"incident_date\": \"2019-10\", \"analysis_neighborhood\": \"Bayview Hunters Point\", \"count\": 7, \"incident_date_2\": \"2019-10\"}, {\"incident_date\": \"2020-05\", \"analysis_neighborhood\": \"Mission\", \"count\": 7, \"incident_date_2\": \"2020-05\"}, {\"incident_date\": \"2018-03\", \"analysis_neighborhood\": \"Haight Ashbury\", \"count\": 7, \"incident_date_2\": \"2018-03\"}, {\"incident_date\": \"2022-02\", \"analysis_neighborhood\": \"Mission\", \"count\": 7, \"incident_date_2\": \"2022-02\"}, {\"incident_date\": \"2019-07\", \"analysis_neighborhood\": \"Mission Bay\", \"count\": 7, \"incident_date_2\": \"2019-07\"}, {\"incident_date\": \"2018-11\", \"analysis_neighborhood\": \"Haight Ashbury\", \"count\": 7, \"incident_date_2\": \"2018-11\"}, {\"incident_date\": \"2020-08\", \"analysis_neighborhood\": \"Western Addition\", \"count\": 7, \"incident_date_2\": \"2020-08\"}, {\"incident_date\": \"2021-08\", \"analysis_neighborhood\": \"Bayview Hunters Point\", \"count\": 7, \"incident_date_2\": \"2021-08\"}, {\"incident_date\": \"2019-09\", \"analysis_neighborhood\": \"Chinatown\", \"count\": 7, \"incident_date_2\": \"2019-09\"}, {\"incident_date\": \"2019-12\", \"analysis_neighborhood\": \"Haight Ashbury\", \"count\": 7, \"incident_date_2\": \"2019-12\"}, {\"incident_date\": \"2018-11\", \"analysis_neighborhood\": \"Mission Bay\", \"count\": 7, \"incident_date_2\": \"2018-11\"}, {\"incident_date\": \"2020-04\", \"analysis_neighborhood\": \"Mission\", \"count\": 7, \"incident_date_2\": \"2020-04\"}, {\"incident_date\": \"2022-03\", \"analysis_neighborhood\": \"Excelsior\", \"count\": 6, \"incident_date_2\": \"2022-03\"}, {\"incident_date\": \"2019-07\", \"analysis_neighborhood\": \"Castro/Upper Market\", \"count\": 6, \"incident_date_2\": \"2019-07\"}, {\"incident_date\": \"2019-11\", \"analysis_neighborhood\": \"Marina\", \"count\": 6, \"incident_date_2\": \"2019-11\"}, {\"incident_date\": \"2019-03\", \"analysis_neighborhood\": \"Inner Richmond\", \"count\": 6, \"incident_date_2\": \"2019-03\"}, {\"incident_date\": \"2019-12\", \"analysis_neighborhood\": \"Castro/Upper Market\", \"count\": 6, \"incident_date_2\": \"2019-12\"}, {\"incident_date\": \"2019-02\", \"analysis_neighborhood\": \"Sunset/Parkside\", \"count\": 6, \"incident_date_2\": \"2019-02\"}, {\"incident_date\": \"2019-12\", \"analysis_neighborhood\": \"Western Addition\", \"count\": 6, \"incident_date_2\": \"2019-12\"}, {\"incident_date\": \"2019-09\", \"analysis_neighborhood\": \"Bernal Heights\", \"count\": 6, \"incident_date_2\": \"2019-09\"}, {\"incident_date\": \"2018-05\", \"analysis_neighborhood\": \"Castro/Upper Market\", \"count\": 6, \"incident_date_2\": \"2018-05\"}, {\"incident_date\": \"2022-02\", \"analysis_neighborhood\": \"Bayview Hunters Point\", \"count\": 6, \"incident_date_2\": \"2022-02\"}, {\"incident_date\": \"2019-05\", \"analysis_neighborhood\": \"Haight Ashbury\", \"count\": 6, \"incident_date_2\": \"2019-05\"}, {\"incident_date\": \"2019-11\", \"analysis_neighborhood\": \"Bayview Hunters Point\", \"count\": 6, \"incident_date_2\": \"2019-11\"}, {\"incident_date\": \"2018-05\", \"analysis_neighborhood\": \"Financial District/South Beach\", \"count\": 6, \"incident_date_2\": \"2018-05\"}, {\"incident_date\": \"2022-03\", \"analysis_neighborhood\": \"Castro/Upper Market\", \"count\": 6, \"incident_date_2\": \"2022-03\"}, {\"incident_date\": \"2022-03\", \"analysis_neighborhood\": \"Bayview Hunters Point\", \"count\": 6, \"incident_date_2\": \"2022-03\"}, {\"incident_date\": \"2019-08\", \"analysis_neighborhood\": \"Nob Hill\", \"count\": 6, \"incident_date_2\": \"2019-08\"}, {\"incident_date\": \"2023-01\", \"analysis_neighborhood\": \"Castro/Upper Market\", \"count\": 6, \"incident_date_2\": \"2023-01\"}, {\"incident_date\": \"2018-03\", \"analysis_neighborhood\": \"Excelsior\", \"count\": 6, \"incident_date_2\": \"2018-03\"}, {\"incident_date\": \"2018-03\", \"analysis_neighborhood\": \"Hayes Valley\", \"count\": 6, \"incident_date_2\": \"2018-03\"}, {\"incident_date\": \"2019-03\", \"analysis_neighborhood\": \"Western Addition\", \"count\": 6, \"incident_date_2\": \"2019-03\"}, {\"incident_date\": \"2018-05\", \"analysis_neighborhood\": \"Haight Ashbury\", \"count\": 6, \"incident_date_2\": \"2018-05\"}, {\"incident_date\": \"2020-01\", \"analysis_neighborhood\": \"Golden Gate Park\", \"count\": 6, \"incident_date_2\": \"2020-01\"}, {\"incident_date\": \"2020-02\", \"analysis_neighborhood\": \"Golden Gate Park\", \"count\": 6, \"incident_date_2\": \"2020-02\"}, {\"incident_date\": \"2019-08\", \"analysis_neighborhood\": \"Haight Ashbury\", \"count\": 6, \"incident_date_2\": \"2019-08\"}, {\"incident_date\": \"2018-01\", \"analysis_neighborhood\": \"Financial District/South Beach\", \"count\": 6, \"incident_date_2\": \"2018-01\"}, {\"incident_date\": \"2023-02\", \"analysis_neighborhood\": \"Bayview Hunters Point\", \"count\": 6, \"incident_date_2\": \"2023-02\"}, {\"incident_date\": \"2020-02\", \"analysis_neighborhood\": \"West of Twin Peaks\", \"count\": 6, \"incident_date_2\": \"2020-02\"}, {\"incident_date\": \"2022-06\", \"analysis_neighborhood\": \"Western Addition\", \"count\": 6, \"incident_date_2\": \"2022-06\"}, {\"incident_date\": \"2020-03\", \"analysis_neighborhood\": \"Bayview Hunters Point\", \"count\": 6, \"incident_date_2\": \"2020-03\"}, {\"incident_date\": \"2023-01\", \"analysis_neighborhood\": \"Western Addition\", \"count\": 6, \"incident_date_2\": \"2023-01\"}, {\"incident_date\": \"2020-03\", \"analysis_neighborhood\": \"Financial District/South Beach\", \"count\": 6, \"incident_date_2\": \"2020-03\"}, {\"incident_date\": \"2022-06\", \"analysis_neighborhood\": \"Bayview Hunters Point\", \"count\": 6, \"incident_date_2\": \"2022-06\"}, {\"incident_date\": \"2020-03\", \"analysis_neighborhood\": \"Haight Ashbury\", \"count\": 6, \"incident_date_2\": \"2020-03\"}, {\"incident_date\": \"2021-01\", \"analysis_neighborhood\": \"Financial District/South Beach\", \"count\": 6, \"incident_date_2\": \"2021-01\"}, {\"incident_date\": \"2018-09\", \"analysis_neighborhood\": \"Western Addition\", \"count\": 6, \"incident_date_2\": \"2018-09\"}, {\"incident_date\": \"2018-01\", \"analysis_neighborhood\": \"Sunset/Parkside\", \"count\": 6, \"incident_date_2\": \"2018-01\"}, {\"incident_date\": \"2020-07\", \"analysis_neighborhood\": \"Nob Hill\", \"count\": 6, \"incident_date_2\": \"2020-07\"}, {\"incident_date\": \"2021-10\", \"analysis_neighborhood\": \"Castro/Upper Market\", \"count\": 6, \"incident_date_2\": \"2021-10\"}, {\"incident_date\": \"2018-01\", \"analysis_neighborhood\": \"Excelsior\", \"count\": 6, \"incident_date_2\": \"2018-01\"}, {\"incident_date\": \"2018-04\", \"analysis_neighborhood\": \"Excelsior\", \"count\": 6, \"incident_date_2\": \"2018-04\"}, {\"incident_date\": \"2018-02\", \"analysis_neighborhood\": \"Sunset/Parkside\", \"count\": 6, \"incident_date_2\": \"2018-02\"}, {\"incident_date\": \"2022-07\", \"analysis_neighborhood\": \"Mission Bay\", \"count\": 6, \"incident_date_2\": \"2022-07\"}, {\"incident_date\": \"2018-01\", \"analysis_neighborhood\": \"Haight Ashbury\", \"count\": 6, \"incident_date_2\": \"2018-01\"}, {\"incident_date\": \"2018-07\", \"analysis_neighborhood\": \"Haight Ashbury\", \"count\": 6, \"incident_date_2\": \"2018-07\"}, {\"incident_date\": \"2018-11\", \"analysis_neighborhood\": \"Potrero Hill\", \"count\": 6, \"incident_date_2\": \"2018-11\"}, {\"incident_date\": \"2018-11\", \"analysis_neighborhood\": \"Golden Gate Park\", \"count\": 6, \"incident_date_2\": \"2018-11\"}, {\"incident_date\": \"2019-01\", \"analysis_neighborhood\": \"Western Addition\", \"count\": 6, \"incident_date_2\": \"2019-01\"}, {\"incident_date\": \"2018-02\", \"analysis_neighborhood\": \"Chinatown\", \"count\": 6, \"incident_date_2\": \"2018-02\"}, {\"incident_date\": \"2018-09\", \"analysis_neighborhood\": \"Nob Hill\", \"count\": 6, \"incident_date_2\": \"2018-09\"}, {\"incident_date\": \"2018-10\", \"analysis_neighborhood\": \"North Beach\", \"count\": 6, \"incident_date_2\": \"2018-10\"}, {\"incident_date\": \"2019-06\", \"analysis_neighborhood\": \"Haight Ashbury\", \"count\": 5, \"incident_date_2\": \"2019-06\"}, {\"incident_date\": \"2018-09\", \"analysis_neighborhood\": \"Outer Mission\", \"count\": 5, \"incident_date_2\": \"2018-09\"}, {\"incident_date\": \"2021-10\", \"analysis_neighborhood\": \"Western Addition\", \"count\": 5, \"incident_date_2\": \"2021-10\"}, {\"incident_date\": \"2021-11\", \"analysis_neighborhood\": \"North Beach\", \"count\": 5, \"incident_date_2\": \"2021-11\"}, {\"incident_date\": \"2018-09\", \"analysis_neighborhood\": \"Sunset/Parkside\", \"count\": 5, \"incident_date_2\": \"2018-09\"}, {\"incident_date\": \"2018-11\", \"analysis_neighborhood\": \"Financial District/South Beach\", \"count\": 5, \"incident_date_2\": \"2018-11\"}, {\"incident_date\": \"2020-11\", \"analysis_neighborhood\": \"North Beach\", \"count\": 5, \"incident_date_2\": \"2020-11\"}, {\"incident_date\": \"2019-05\", \"analysis_neighborhood\": \"Outer Richmond\", \"count\": 5, \"incident_date_2\": \"2019-05\"}, {\"incident_date\": \"2018-11\", \"analysis_neighborhood\": \"Chinatown\", \"count\": 5, \"incident_date_2\": \"2018-11\"}, {\"incident_date\": \"2018-10\", \"analysis_neighborhood\": \"Potrero Hill\", \"count\": 5, \"incident_date_2\": \"2018-10\"}, {\"incident_date\": \"2020-11\", \"analysis_neighborhood\": \"Castro/Upper Market\", \"count\": 5, \"incident_date_2\": \"2020-11\"}, {\"incident_date\": \"2022-01\", \"analysis_neighborhood\": \"Castro/Upper Market\", \"count\": 5, \"incident_date_2\": \"2022-01\"}, {\"incident_date\": \"2020-06\", \"analysis_neighborhood\": \"Castro/Upper Market\", \"count\": 5, \"incident_date_2\": \"2020-06\"}, {\"incident_date\": \"2018-10\", \"analysis_neighborhood\": \"Bayview Hunters Point\", \"count\": 5, \"incident_date_2\": \"2018-10\"}, {\"incident_date\": \"2019-02\", \"analysis_neighborhood\": \"Nob Hill\", \"count\": 5, \"incident_date_2\": \"2019-02\"}, {\"incident_date\": \"2021-02\", \"analysis_neighborhood\": \"Castro/Upper Market\", \"count\": 5, \"incident_date_2\": \"2021-02\"}, {\"incident_date\": \"2018-09\", \"analysis_neighborhood\": \"Excelsior\", \"count\": 5, \"incident_date_2\": \"2018-09\"}, {\"incident_date\": \"2019-09\", \"analysis_neighborhood\": \"Castro/Upper Market\", \"count\": 5, \"incident_date_2\": \"2019-09\"}, {\"incident_date\": \"2022-06\", \"analysis_neighborhood\": \"Financial District/South Beach\", \"count\": 5, \"incident_date_2\": \"2022-06\"}, {\"incident_date\": \"2019-08\", \"analysis_neighborhood\": \"Outer Richmond\", \"count\": 5, \"incident_date_2\": \"2019-08\"}, {\"incident_date\": \"2023-03\", \"analysis_neighborhood\": \"Mission\", \"count\": 5, \"incident_date_2\": \"2023-03\"}, {\"incident_date\": \"2021-04\", \"analysis_neighborhood\": \"Visitacion Valley\", \"count\": 5, \"incident_date_2\": \"2021-04\"}, {\"incident_date\": \"2020-09\", \"analysis_neighborhood\": \"Nob Hill\", \"count\": 5, \"incident_date_2\": \"2020-09\"}, {\"incident_date\": \"2020-10\", \"analysis_neighborhood\": \"Nob Hill\", \"count\": 5, \"incident_date_2\": \"2020-10\"}, {\"incident_date\": \"2019-08\", \"analysis_neighborhood\": \"West of Twin Peaks\", \"count\": 5, \"incident_date_2\": \"2019-08\"}, {\"incident_date\": \"2022-11\", \"analysis_neighborhood\": \"Nob Hill\", \"count\": 5, \"incident_date_2\": \"2022-11\"}, {\"incident_date\": \"2018-07\", \"analysis_neighborhood\": \"Western Addition\", \"count\": 5, \"incident_date_2\": \"2018-07\"}, {\"incident_date\": \"2018-08\", \"analysis_neighborhood\": \"Chinatown\", \"count\": 5, \"incident_date_2\": \"2018-08\"}, {\"incident_date\": \"2019-06\", \"analysis_neighborhood\": \"Russian Hill\", \"count\": 5, \"incident_date_2\": \"2019-06\"}, {\"incident_date\": \"2020-09\", \"analysis_neighborhood\": \"Bayview Hunters Point\", \"count\": 5, \"incident_date_2\": \"2020-09\"}, {\"incident_date\": \"2019-07\", \"analysis_neighborhood\": \"Marina\", \"count\": 5, \"incident_date_2\": \"2019-07\"}, {\"incident_date\": \"2021-11\", \"analysis_neighborhood\": \"Western Addition\", \"count\": 5, \"incident_date_2\": \"2021-11\"}, {\"incident_date\": \"2018-04\", \"analysis_neighborhood\": \"Castro/Upper Market\", \"count\": 5, \"incident_date_2\": \"2018-04\"}, {\"incident_date\": \"2022-07\", \"analysis_neighborhood\": \"Bernal Heights\", \"count\": 5, \"incident_date_2\": \"2022-07\"}, {\"incident_date\": \"2018-03\", \"analysis_neighborhood\": \"Nob Hill\", \"count\": 5, \"incident_date_2\": \"2018-03\"}, {\"incident_date\": \"2018-02\", \"analysis_neighborhood\": \"Western Addition\", \"count\": 5, \"incident_date_2\": \"2018-02\"}, {\"incident_date\": \"2021-03\", \"analysis_neighborhood\": \"Russian Hill\", \"count\": 5, \"incident_date_2\": \"2021-03\"}, {\"incident_date\": \"2018-09\", \"analysis_neighborhood\": \"Bernal Heights\", \"count\": 5, \"incident_date_2\": \"2018-09\"}, {\"incident_date\": \"2018-08\", \"analysis_neighborhood\": \"Visitacion Valley\", \"count\": 5, \"incident_date_2\": \"2018-08\"}, {\"incident_date\": \"2019-05\", \"analysis_neighborhood\": \"Nob Hill\", \"count\": 5, \"incident_date_2\": \"2019-05\"}, {\"incident_date\": \"2018-05\", \"analysis_neighborhood\": \"Lone Mountain/USF\", \"count\": 5, \"incident_date_2\": \"2018-05\"}, {\"incident_date\": \"2018-02\", \"analysis_neighborhood\": \"North Beach\", \"count\": 5, \"incident_date_2\": \"2018-02\"}, {\"incident_date\": \"2018-12\", \"analysis_neighborhood\": \"Bernal Heights\", \"count\": 5, \"incident_date_2\": \"2018-12\"}, {\"incident_date\": \"2018-12\", \"analysis_neighborhood\": \"Castro/Upper Market\", \"count\": 5, \"incident_date_2\": \"2018-12\"}, {\"incident_date\": \"2019-12\", \"analysis_neighborhood\": \"Financial District/South Beach\", \"count\": 5, \"incident_date_2\": \"2019-12\"}, {\"incident_date\": \"2022-08\", \"analysis_neighborhood\": \"Nob Hill\", \"count\": 5, \"incident_date_2\": \"2022-08\"}, {\"incident_date\": \"2018-12\", \"analysis_neighborhood\": \"Financial District/South Beach\", \"count\": 5, \"incident_date_2\": \"2018-12\"}, {\"incident_date\": \"2021-10\", \"analysis_neighborhood\": \"Hayes Valley\", \"count\": 5, \"incident_date_2\": \"2021-10\"}, {\"incident_date\": \"2019-12\", \"analysis_neighborhood\": \"Hayes Valley\", \"count\": 5, \"incident_date_2\": \"2019-12\"}, {\"incident_date\": \"2018-12\", \"analysis_neighborhood\": \"Haight Ashbury\", \"count\": 5, \"incident_date_2\": \"2018-12\"}, {\"incident_date\": \"2018-01\", \"analysis_neighborhood\": \"Outer Mission\", \"count\": 5, \"incident_date_2\": \"2018-01\"}, {\"incident_date\": \"2023-02\", \"analysis_neighborhood\": \"Financial District/South Beach\", \"count\": 5, \"incident_date_2\": \"2023-02\"}, {\"incident_date\": \"2019-01\", \"analysis_neighborhood\": \"Nob Hill\", \"count\": 5, \"incident_date_2\": \"2019-01\"}, {\"incident_date\": \"2018-04\", \"analysis_neighborhood\": \"Mission Bay\", \"count\": 5, \"incident_date_2\": \"2018-04\"}, {\"incident_date\": \"2018-11\", \"analysis_neighborhood\": \"Nob Hill\", \"count\": 5, \"incident_date_2\": \"2018-11\"}, {\"incident_date\": \"2018-12\", \"analysis_neighborhood\": \"Nob Hill\", \"count\": 5, \"incident_date_2\": \"2018-12\"}, {\"incident_date\": \"2018-12\", \"analysis_neighborhood\": \"North Beach\", \"count\": 5, \"incident_date_2\": \"2018-12\"}, {\"incident_date\": \"2018-03\", \"analysis_neighborhood\": \"Russian Hill\", \"count\": 5, \"incident_date_2\": \"2018-03\"}, {\"incident_date\": \"2019-03\", \"analysis_neighborhood\": \"North Beach\", \"count\": 5, \"incident_date_2\": \"2019-03\"}, {\"incident_date\": \"2021-02\", \"analysis_neighborhood\": \"Marina\", \"count\": 5, \"incident_date_2\": \"2021-02\"}, {\"incident_date\": \"2020-12\", \"analysis_neighborhood\": \"Western Addition\", \"count\": 5, \"incident_date_2\": \"2020-12\"}, {\"incident_date\": \"2020-02\", \"analysis_neighborhood\": \"North Beach\", \"count\": 5, \"incident_date_2\": \"2020-02\"}, {\"incident_date\": \"2022-05\", \"analysis_neighborhood\": \"Excelsior\", \"count\": 5, \"incident_date_2\": \"2022-05\"}, {\"incident_date\": \"2022-08\", \"analysis_neighborhood\": \"Marina\", \"count\": 5, \"incident_date_2\": \"2022-08\"}, {\"incident_date\": \"2020-02\", \"analysis_neighborhood\": \"Financial District/South Beach\", \"count\": 5, \"incident_date_2\": \"2020-02\"}, {\"incident_date\": \"2021-10\", \"analysis_neighborhood\": \"Nob Hill\", \"count\": 5, \"incident_date_2\": \"2021-10\"}, {\"incident_date\": \"2018-01\", \"analysis_neighborhood\": \"Castro/Upper Market\", \"count\": 5, \"incident_date_2\": \"2018-01\"}, {\"incident_date\": \"2020-01\", \"analysis_neighborhood\": \"Mission Bay\", \"count\": 5, \"incident_date_2\": \"2020-01\"}, {\"incident_date\": \"2020-04\", \"analysis_neighborhood\": \"Nob Hill\", \"count\": 5, \"incident_date_2\": \"2020-04\"}, {\"incident_date\": \"2019-02\", \"analysis_neighborhood\": \"Chinatown\", \"count\": 5, \"incident_date_2\": \"2019-02\"}, {\"incident_date\": \"2019-01\", \"analysis_neighborhood\": \"Financial District/South Beach\", \"count\": 5, \"incident_date_2\": \"2019-01\"}, {\"incident_date\": \"2020-02\", \"analysis_neighborhood\": \"Haight Ashbury\", \"count\": 5, \"incident_date_2\": \"2020-02\"}, {\"incident_date\": \"2022-09\", \"analysis_neighborhood\": \"Bayview Hunters Point\", \"count\": 4, \"incident_date_2\": \"2022-09\"}, {\"incident_date\": \"2019-08\", \"analysis_neighborhood\": \"Russian Hill\", \"count\": 4, \"incident_date_2\": \"2019-08\"}, {\"incident_date\": \"2020-08\", \"analysis_neighborhood\": \"Outer Richmond\", \"count\": 4, \"incident_date_2\": \"2020-08\"}, {\"incident_date\": \"2021-01\", \"analysis_neighborhood\": \"Western Addition\", \"count\": 4, \"incident_date_2\": \"2021-01\"}, {\"incident_date\": \"2022-03\", \"analysis_neighborhood\": \"Nob Hill\", \"count\": 4, \"incident_date_2\": \"2022-03\"}, {\"incident_date\": \"2020-09\", \"analysis_neighborhood\": \"Outer Mission\", \"count\": 4, \"incident_date_2\": \"2020-09\"}, {\"incident_date\": \"2020-10\", \"analysis_neighborhood\": \"Outer Richmond\", \"count\": 4, \"incident_date_2\": \"2020-10\"}, {\"incident_date\": \"2021-04\", \"analysis_neighborhood\": \"Bayview Hunters Point\", \"count\": 4, \"incident_date_2\": \"2021-04\"}, {\"incident_date\": \"2022-05\", \"analysis_neighborhood\": \"Castro/Upper Market\", \"count\": 4, \"incident_date_2\": \"2022-05\"}, {\"incident_date\": \"2020-02\", \"analysis_neighborhood\": \"Marina\", \"count\": 4, \"incident_date_2\": \"2020-02\"}, {\"incident_date\": \"2020-09\", \"analysis_neighborhood\": \"Financial District/South Beach\", \"count\": 4, \"incident_date_2\": \"2020-09\"}, {\"incident_date\": \"2021-04\", \"analysis_neighborhood\": \"Excelsior\", \"count\": 4, \"incident_date_2\": \"2021-04\"}, {\"incident_date\": \"2018-07\", \"analysis_neighborhood\": \"Marina\", \"count\": 4, \"incident_date_2\": \"2018-07\"}, {\"incident_date\": \"2020-02\", \"analysis_neighborhood\": \"Excelsior\", \"count\": 4, \"incident_date_2\": \"2020-02\"}, {\"incident_date\": \"2020-09\", \"analysis_neighborhood\": \"Bernal Heights\", \"count\": 4, \"incident_date_2\": \"2020-09\"}, {\"incident_date\": \"2019-08\", \"analysis_neighborhood\": \"Western Addition\", \"count\": 4, \"incident_date_2\": \"2019-08\"}, {\"incident_date\": \"2021-02\", \"analysis_neighborhood\": \"Financial District/South Beach\", \"count\": 4, \"incident_date_2\": \"2021-02\"}, {\"incident_date\": \"2018-04\", \"analysis_neighborhood\": \"Bayview Hunters Point\", \"count\": 4, \"incident_date_2\": \"2018-04\"}, {\"incident_date\": \"2020-09\", \"analysis_neighborhood\": \"Castro/Upper Market\", \"count\": 4, \"incident_date_2\": \"2020-09\"}, {\"incident_date\": \"2020-12\", \"analysis_neighborhood\": \"Bernal Heights\", \"count\": 4, \"incident_date_2\": \"2020-12\"}, {\"incident_date\": \"2021-01\", \"analysis_neighborhood\": \"Castro/Upper Market\", \"count\": 4, \"incident_date_2\": \"2021-01\"}, {\"incident_date\": \"2018-04\", \"analysis_neighborhood\": \"Chinatown\", \"count\": 4, \"incident_date_2\": \"2018-04\"}, {\"incident_date\": \"2019-11\", \"analysis_neighborhood\": \"Golden Gate Park\", \"count\": 4, \"incident_date_2\": \"2019-11\"}, {\"incident_date\": \"2022-08\", \"analysis_neighborhood\": \"Bernal Heights\", \"count\": 4, \"incident_date_2\": \"2022-08\"}, {\"incident_date\": \"2020-05\", \"analysis_neighborhood\": \"Bayview Hunters Point\", \"count\": 4, \"incident_date_2\": \"2020-05\"}, {\"incident_date\": \"2018-04\", \"analysis_neighborhood\": \"Western Addition\", \"count\": 4, \"incident_date_2\": \"2018-04\"}, {\"incident_date\": \"2021-02\", \"analysis_neighborhood\": \"Western Addition\", \"count\": 4, \"incident_date_2\": \"2021-02\"}, {\"incident_date\": \"2019-11\", \"analysis_neighborhood\": \"Lone Mountain/USF\", \"count\": 4, \"incident_date_2\": \"2019-11\"}, {\"incident_date\": \"2018-04\", \"analysis_neighborhood\": \"West of Twin Peaks\", \"count\": 4, \"incident_date_2\": \"2018-04\"}, {\"incident_date\": \"2022-10\", \"analysis_neighborhood\": \"Portola\", \"count\": 4, \"incident_date_2\": \"2022-10\"}, {\"incident_date\": \"2020-11\", \"analysis_neighborhood\": \"Pacific Heights\", \"count\": 4, \"incident_date_2\": \"2020-11\"}, {\"incident_date\": \"2019-11\", \"analysis_neighborhood\": \"Pacific Heights\", \"count\": 4, \"incident_date_2\": \"2019-11\"}, {\"incident_date\": \"2019-11\", \"analysis_neighborhood\": \"Russian Hill\", \"count\": 4, \"incident_date_2\": \"2019-11\"}, {\"incident_date\": \"2018-04\", \"analysis_neighborhood\": \"Visitacion Valley\", \"count\": 4, \"incident_date_2\": \"2018-04\"}, {\"incident_date\": \"2019-11\", \"analysis_neighborhood\": \"West of Twin Peaks\", \"count\": 4, \"incident_date_2\": \"2019-11\"}, {\"incident_date\": \"2018-02\", \"analysis_neighborhood\": \"Castro/Upper Market\", \"count\": 4, \"incident_date_2\": \"2018-02\"}, {\"incident_date\": \"2019-11\", \"analysis_neighborhood\": \"Western Addition\", \"count\": 4, \"incident_date_2\": \"2019-11\"}, {\"incident_date\": \"2020-07\", \"analysis_neighborhood\": \"Financial District/South Beach\", \"count\": 4, \"incident_date_2\": \"2020-07\"}, {\"incident_date\": \"2019-12\", \"analysis_neighborhood\": \"Bayview Hunters Point\", \"count\": 4, \"incident_date_2\": \"2019-12\"}, {\"incident_date\": \"2020-07\", \"analysis_neighborhood\": \"Marina\", \"count\": 4, \"incident_date_2\": \"2020-07\"}, {\"incident_date\": \"2018-01\", \"analysis_neighborhood\": \"West of Twin Peaks\", \"count\": 4, \"incident_date_2\": \"2018-01\"}, {\"incident_date\": \"2019-10\", \"analysis_neighborhood\": \"Nob Hill\", \"count\": 4, \"incident_date_2\": \"2019-10\"}, {\"incident_date\": \"2020-10\", \"analysis_neighborhood\": \"Western Addition\", \"count\": 4, \"incident_date_2\": \"2020-10\"}, {\"incident_date\": \"2020-08\", \"analysis_neighborhood\": \"Haight Ashbury\", \"count\": 4, \"incident_date_2\": \"2020-08\"}, {\"incident_date\": \"2022-07\", \"analysis_neighborhood\": \"Excelsior\", \"count\": 4, \"incident_date_2\": \"2022-07\"}, {\"incident_date\": \"2021-03\", \"analysis_neighborhood\": \"Potrero Hill\", \"count\": 4, \"incident_date_2\": \"2021-03\"}, {\"incident_date\": \"2020-04\", \"analysis_neighborhood\": \"Financial District/South Beach\", \"count\": 4, \"incident_date_2\": \"2020-04\"}, {\"incident_date\": \"2018-01\", \"analysis_neighborhood\": \"Nob Hill\", \"count\": 4, \"incident_date_2\": \"2018-01\"}, {\"incident_date\": \"2019-12\", \"analysis_neighborhood\": \"West of Twin Peaks\", \"count\": 4, \"incident_date_2\": \"2019-12\"}, {\"incident_date\": \"2018-04\", \"analysis_neighborhood\": \"Potrero Hill\", \"count\": 4, \"incident_date_2\": \"2018-04\"}, {\"incident_date\": \"2020-10\", \"analysis_neighborhood\": \"Golden Gate Park\", \"count\": 4, \"incident_date_2\": \"2020-10\"}, {\"incident_date\": \"2018-06\", \"analysis_neighborhood\": \"Haight Ashbury\", \"count\": 4, \"incident_date_2\": \"2018-06\"}, {\"incident_date\": \"2018-11\", \"analysis_neighborhood\": \"Western Addition\", \"count\": 4, \"incident_date_2\": \"2018-11\"}, {\"incident_date\": \"2019-06\", \"analysis_neighborhood\": \"Western Addition\", \"count\": 4, \"incident_date_2\": \"2019-06\"}, {\"incident_date\": \"2018-07\", \"analysis_neighborhood\": \"Financial District/South Beach\", \"count\": 4, \"incident_date_2\": \"2018-07\"}, {\"incident_date\": \"2019-06\", \"analysis_neighborhood\": \"West of Twin Peaks\", \"count\": 4, \"incident_date_2\": \"2019-06\"}, {\"incident_date\": \"2018-03\", \"analysis_neighborhood\": \"Castro/Upper Market\", \"count\": 4, \"incident_date_2\": \"2018-03\"}, {\"incident_date\": \"2018-12\", \"analysis_neighborhood\": \"Potrero Hill\", \"count\": 4, \"incident_date_2\": \"2018-12\"}, {\"incident_date\": \"2018-11\", \"analysis_neighborhood\": \"North Beach\", \"count\": 4, \"incident_date_2\": \"2018-11\"}, {\"incident_date\": \"2022-01\", \"analysis_neighborhood\": \"Oceanview/Merced/Ingleside\", \"count\": 4, \"incident_date_2\": \"2022-01\"}, {\"incident_date\": \"2021-09\", \"analysis_neighborhood\": \"Western Addition\", \"count\": 4, \"incident_date_2\": \"2021-09\"}, {\"incident_date\": \"2018-10\", \"analysis_neighborhood\": \"Bernal Heights\", \"count\": 4, \"incident_date_2\": \"2018-10\"}, {\"incident_date\": \"2018-10\", \"analysis_neighborhood\": \"Excelsior\", \"count\": 4, \"incident_date_2\": \"2018-10\"}, {\"incident_date\": \"2021-08\", \"analysis_neighborhood\": \"Castro/Upper Market\", \"count\": 4, \"incident_date_2\": \"2021-08\"}, {\"incident_date\": \"2023-02\", \"analysis_neighborhood\": \"Outer Mission\", \"count\": 4, \"incident_date_2\": \"2023-02\"}, {\"incident_date\": \"2018-10\", \"analysis_neighborhood\": \"Outer Mission\", \"count\": 4, \"incident_date_2\": \"2018-10\"}, {\"incident_date\": \"2022-12\", \"analysis_neighborhood\": \"Financial District/South Beach\", \"count\": 4, \"incident_date_2\": \"2022-12\"}, {\"incident_date\": \"2018-10\", \"analysis_neighborhood\": \"Portola\", \"count\": 4, \"incident_date_2\": \"2018-10\"}, {\"incident_date\": \"2023-02\", \"analysis_neighborhood\": \"Western Addition\", \"count\": 4, \"incident_date_2\": \"2023-02\"}, {\"incident_date\": \"2022-12\", \"analysis_neighborhood\": \"Haight Ashbury\", \"count\": 4, \"incident_date_2\": \"2022-12\"}, {\"incident_date\": \"2021-07\", \"analysis_neighborhood\": \"Castro/Upper Market\", \"count\": 4, \"incident_date_2\": \"2021-07\"}, {\"incident_date\": \"2019-02\", \"analysis_neighborhood\": \"Castro/Upper Market\", \"count\": 4, \"incident_date_2\": \"2019-02\"}, {\"incident_date\": \"2023-02\", \"analysis_neighborhood\": \"North Beach\", \"count\": 4, \"incident_date_2\": \"2023-02\"}, {\"incident_date\": \"2021-10\", \"analysis_neighborhood\": \"North Beach\", \"count\": 4, \"incident_date_2\": \"2021-10\"}, {\"incident_date\": \"2018-05\", \"analysis_neighborhood\": \"West of Twin Peaks\", \"count\": 4, \"incident_date_2\": \"2018-05\"}, {\"incident_date\": \"2018-10\", \"analysis_neighborhood\": \"West of Twin Peaks\", \"count\": 4, \"incident_date_2\": \"2018-10\"}, {\"incident_date\": \"2021-07\", \"analysis_neighborhood\": \"Nob Hill\", \"count\": 4, \"incident_date_2\": \"2021-07\"}, {\"incident_date\": \"2018-11\", \"analysis_neighborhood\": \"Bayview Hunters Point\", \"count\": 4, \"incident_date_2\": \"2018-11\"}, {\"incident_date\": \"2019-04\", \"analysis_neighborhood\": \"Oceanview/Merced/Ingleside\", \"count\": 4, \"incident_date_2\": \"2019-04\"}, {\"incident_date\": \"2018-11\", \"analysis_neighborhood\": \"Bernal Heights\", \"count\": 4, \"incident_date_2\": \"2018-11\"}, {\"incident_date\": \"2021-11\", \"analysis_neighborhood\": \"Bayview Hunters Point\", \"count\": 4, \"incident_date_2\": \"2021-11\"}, {\"incident_date\": \"2018-02\", \"analysis_neighborhood\": \"West of Twin Peaks\", \"count\": 4, \"incident_date_2\": \"2018-02\"}, {\"incident_date\": \"2019-04\", \"analysis_neighborhood\": \"Portola\", \"count\": 4, \"incident_date_2\": \"2019-04\"}, {\"incident_date\": \"2018-08\", \"analysis_neighborhood\": \"Russian Hill\", \"count\": 4, \"incident_date_2\": \"2018-08\"}, {\"incident_date\": \"2018-01\", \"analysis_neighborhood\": \"Japantown\", \"count\": 4, \"incident_date_2\": \"2018-01\"}, {\"incident_date\": \"2019-07\", \"analysis_neighborhood\": \"Bernal Heights\", \"count\": 4, \"incident_date_2\": \"2019-07\"}, {\"incident_date\": \"2021-05\", \"analysis_neighborhood\": \"Chinatown\", \"count\": 4, \"incident_date_2\": \"2021-05\"}, {\"incident_date\": \"2021-12\", \"analysis_neighborhood\": \"Mission Bay\", \"count\": 4, \"incident_date_2\": \"2021-12\"}, {\"incident_date\": \"2021-12\", \"analysis_neighborhood\": \"Portola\", \"count\": 4, \"incident_date_2\": \"2021-12\"}, {\"incident_date\": \"2019-08\", \"analysis_neighborhood\": \"Chinatown\", \"count\": 4, \"incident_date_2\": \"2019-08\"}, {\"incident_date\": \"2018-07\", \"analysis_neighborhood\": \"Outer Mission\", \"count\": 4, \"incident_date_2\": \"2018-07\"}, {\"incident_date\": \"2018-07\", \"analysis_neighborhood\": \"Outer Richmond\", \"count\": 4, \"incident_date_2\": \"2018-07\"}, {\"incident_date\": \"2023-03\", \"analysis_neighborhood\": \"Haight Ashbury\", \"count\": 4, \"incident_date_2\": \"2023-03\"}, {\"incident_date\": \"2019-01\", \"analysis_neighborhood\": \"Outer Richmond\", \"count\": 4, \"incident_date_2\": \"2019-01\"}, {\"incident_date\": \"2019-07\", \"analysis_neighborhood\": \"Potrero Hill\", \"count\": 4, \"incident_date_2\": \"2019-07\"}, {\"incident_date\": \"2019-07\", \"analysis_neighborhood\": \"Portola\", \"count\": 4, \"incident_date_2\": \"2019-07\"}, {\"incident_date\": \"2021-05\", \"analysis_neighborhood\": \"Bayview Hunters Point\", \"count\": 4, \"incident_date_2\": \"2021-05\"}, {\"incident_date\": \"2018-01\", \"analysis_neighborhood\": \"Golden Gate Park\", \"count\": 4, \"incident_date_2\": \"2018-01\"}, {\"incident_date\": \"2019-02\", \"analysis_neighborhood\": \"Visitacion Valley\", \"count\": 4, \"incident_date_2\": \"2019-02\"}, {\"incident_date\": \"2022-03\", \"analysis_neighborhood\": \"McLaren Park\", \"count\": 4, \"incident_date_2\": \"2022-03\"}, {\"incident_date\": \"2019-04\", \"analysis_neighborhood\": \"Potrero Hill\", \"count\": 4, \"incident_date_2\": \"2019-04\"}, {\"incident_date\": \"2019-01\", \"analysis_neighborhood\": \"Excelsior\", \"count\": 4, \"incident_date_2\": \"2019-01\"}, {\"incident_date\": \"2022-03\", \"analysis_neighborhood\": \"Marina\", \"count\": 4, \"incident_date_2\": \"2022-03\"}, {\"incident_date\": \"2019-01\", \"analysis_neighborhood\": \"Chinatown\", \"count\": 4, \"incident_date_2\": \"2019-01\"}, {\"incident_date\": \"2019-03\", \"analysis_neighborhood\": \"Bernal Heights\", \"count\": 4, \"incident_date_2\": \"2019-03\"}, {\"incident_date\": \"2021-09\", \"analysis_neighborhood\": \"Bayview Hunters Point\", \"count\": 4, \"incident_date_2\": \"2021-09\"}, {\"incident_date\": \"2019-03\", \"analysis_neighborhood\": \"Excelsior\", \"count\": 4, \"incident_date_2\": \"2019-03\"}, {\"incident_date\": \"2018-03\", \"analysis_neighborhood\": \"Sunset/Parkside\", \"count\": 3, \"incident_date_2\": \"2018-03\"}, {\"incident_date\": \"2020-12\", \"analysis_neighborhood\": \"Marina\", \"count\": 3, \"incident_date_2\": \"2020-12\"}, {\"incident_date\": \"2020-02\", \"analysis_neighborhood\": \"Nob Hill\", \"count\": 3, \"incident_date_2\": \"2020-02\"}, {\"incident_date\": \"2018-02\", \"analysis_neighborhood\": \"Excelsior\", \"count\": 3, \"incident_date_2\": \"2018-02\"}, {\"incident_date\": \"2018-03\", \"analysis_neighborhood\": \"Chinatown\", \"count\": 3, \"incident_date_2\": \"2018-03\"}, {\"incident_date\": \"2020-02\", \"analysis_neighborhood\": \"Mission Bay\", \"count\": 3, \"incident_date_2\": \"2020-02\"}, {\"incident_date\": \"2019-01\", \"analysis_neighborhood\": \"North Beach\", \"count\": 3, \"incident_date_2\": \"2019-01\"}, {\"incident_date\": \"2020-05\", \"analysis_neighborhood\": \"Castro/Upper Market\", \"count\": 3, \"incident_date_2\": \"2020-05\"}, {\"incident_date\": \"2019-01\", \"analysis_neighborhood\": \"Visitacion Valley\", \"count\": 3, \"incident_date_2\": \"2019-01\"}, {\"incident_date\": \"2020-12\", \"analysis_neighborhood\": \"Financial District/South Beach\", \"count\": 3, \"incident_date_2\": \"2020-12\"}, {\"incident_date\": \"2020-02\", \"analysis_neighborhood\": \"Hayes Valley\", \"count\": 3, \"incident_date_2\": \"2020-02\"}, {\"incident_date\": \"2018-11\", \"analysis_neighborhood\": \"Oceanview/Merced/Ingleside\", \"count\": 3, \"incident_date_2\": \"2018-11\"}, {\"incident_date\": \"2019-01\", \"analysis_neighborhood\": \"West of Twin Peaks\", \"count\": 3, \"incident_date_2\": \"2019-01\"}, {\"incident_date\": \"2018-12\", \"analysis_neighborhood\": \"West of Twin Peaks\", \"count\": 3, \"incident_date_2\": \"2018-12\"}, {\"incident_date\": \"2023-02\", \"analysis_neighborhood\": \"Bernal Heights\", \"count\": 3, \"incident_date_2\": \"2023-02\"}, {\"incident_date\": \"2020-03\", \"analysis_neighborhood\": \"Potrero Hill\", \"count\": 3, \"incident_date_2\": \"2020-03\"}, {\"incident_date\": \"2021-10\", \"analysis_neighborhood\": \"Mission Bay\", \"count\": 3, \"incident_date_2\": \"2021-10\"}, {\"incident_date\": \"2020-12\", \"analysis_neighborhood\": \"Portola\", \"count\": 3, \"incident_date_2\": \"2020-12\"}, {\"incident_date\": \"2018-04\", \"analysis_neighborhood\": \"Inner Richmond\", \"count\": 3, \"incident_date_2\": \"2018-04\"}, {\"incident_date\": \"2022-08\", \"analysis_neighborhood\": \"Potrero Hill\", \"count\": 3, \"incident_date_2\": \"2022-08\"}, {\"incident_date\": \"2022-01\", \"analysis_neighborhood\": \"Pacific Heights\", \"count\": 3, \"incident_date_2\": \"2022-01\"}, {\"incident_date\": \"2019-01\", \"analysis_neighborhood\": \"Inner Sunset\", \"count\": 3, \"incident_date_2\": \"2019-01\"}, {\"incident_date\": \"2018-12\", \"analysis_neighborhood\": \"Outer Mission\", \"count\": 3, \"incident_date_2\": \"2018-12\"}, {\"incident_date\": \"2020-03\", \"analysis_neighborhood\": \"North Beach\", \"count\": 3, \"incident_date_2\": \"2020-03\"}, {\"incident_date\": \"2018-12\", \"analysis_neighborhood\": \"Mission Bay\", \"count\": 3, \"incident_date_2\": \"2018-12\"}, {\"incident_date\": \"2021-10\", \"analysis_neighborhood\": \"Chinatown\", \"count\": 3, \"incident_date_2\": \"2021-10\"}, {\"incident_date\": \"2018-12\", \"analysis_neighborhood\": \"Chinatown\", \"count\": 3, \"incident_date_2\": \"2018-12\"}, {\"incident_date\": \"2018-12\", \"analysis_neighborhood\": \"Bayview Hunters Point\", \"count\": 3, \"incident_date_2\": \"2018-12\"}, {\"incident_date\": \"2018-12\", \"analysis_neighborhood\": \"Twin Peaks\", \"count\": 3, \"incident_date_2\": \"2018-12\"}, {\"incident_date\": \"2022-05\", \"analysis_neighborhood\": \"Nob Hill\", \"count\": 3, \"incident_date_2\": \"2022-05\"}, {\"incident_date\": \"2020-03\", \"analysis_neighborhood\": \"Nob Hill\", \"count\": 3, \"incident_date_2\": \"2020-03\"}, {\"incident_date\": \"2020-12\", \"analysis_neighborhood\": \"Noe Valley\", \"count\": 3, \"incident_date_2\": \"2020-12\"}, {\"incident_date\": \"2020-12\", \"analysis_neighborhood\": \"Nob Hill\", \"count\": 3, \"incident_date_2\": \"2020-12\"}, {\"incident_date\": \"2019-01\", \"analysis_neighborhood\": \"Mission Bay\", \"count\": 3, \"incident_date_2\": \"2019-01\"}, {\"incident_date\": \"2022-11\", \"analysis_neighborhood\": \"Golden Gate Park\", \"count\": 3, \"incident_date_2\": \"2022-11\"}, {\"incident_date\": \"2021-10\", \"analysis_neighborhood\": \"Pacific Heights\", \"count\": 3, \"incident_date_2\": \"2021-10\"}, {\"incident_date\": \"2018-08\", \"analysis_neighborhood\": \"Glen Park\", \"count\": 3, \"incident_date_2\": \"2018-08\"}, {\"incident_date\": \"2022-07\", \"analysis_neighborhood\": \"Haight Ashbury\", \"count\": 3, \"incident_date_2\": \"2022-07\"}, {\"incident_date\": \"2020-08\", \"analysis_neighborhood\": \"Castro/Upper Market\", \"count\": 3, \"incident_date_2\": \"2020-08\"}, {\"incident_date\": \"2018-09\", \"analysis_neighborhood\": \"Hayes Valley\", \"count\": 3, \"incident_date_2\": \"2018-09\"}, {\"incident_date\": \"2023-02\", \"analysis_neighborhood\": \"Sunset/Parkside\", \"count\": 3, \"incident_date_2\": \"2023-02\"}, {\"incident_date\": \"2018-01\", \"analysis_neighborhood\": \"Chinatown\", \"count\": 3, \"incident_date_2\": \"2018-01\"}, {\"incident_date\": \"2018-08\", \"analysis_neighborhood\": \"Outer Mission\", \"count\": 3, \"incident_date_2\": \"2018-08\"}, {\"incident_date\": \"2018-02\", \"analysis_neighborhood\": \"Outer Richmond\", \"count\": 3, \"incident_date_2\": \"2018-02\"}, {\"incident_date\": \"2020-08\", \"analysis_neighborhood\": \"Pacific Heights\", \"count\": 3, \"incident_date_2\": \"2020-08\"}, {\"incident_date\": \"2018-08\", \"analysis_neighborhood\": \"North Beach\", \"count\": 3, \"incident_date_2\": \"2018-08\"}, {\"incident_date\": \"2021-12\", \"analysis_neighborhood\": \"Potrero Hill\", \"count\": 3, \"incident_date_2\": \"2021-12\"}, {\"incident_date\": \"2020-08\", \"analysis_neighborhood\": \"West of Twin Peaks\", \"count\": 3, \"incident_date_2\": \"2020-08\"}, {\"incident_date\": \"2018-08\", \"analysis_neighborhood\": \"Excelsior\", \"count\": 3, \"incident_date_2\": \"2018-08\"}, {\"incident_date\": \"2021-11\", \"analysis_neighborhood\": \"Castro/Upper Market\", \"count\": 3, \"incident_date_2\": \"2021-11\"}, {\"incident_date\": \"2018-08\", \"analysis_neighborhood\": \"Bernal Heights\", \"count\": 3, \"incident_date_2\": \"2018-08\"}, {\"incident_date\": \"2023-03\", \"analysis_neighborhood\": \"Financial District/South Beach\", \"count\": 3, \"incident_date_2\": \"2023-03\"}, {\"incident_date\": \"2020-10\", \"analysis_neighborhood\": \"Noe Valley\", \"count\": 3, \"incident_date_2\": \"2020-10\"}, {\"incident_date\": \"2020-09\", \"analysis_neighborhood\": \"Haight Ashbury\", \"count\": 3, \"incident_date_2\": \"2020-09\"}, {\"incident_date\": \"2020-10\", \"analysis_neighborhood\": \"Mission Bay\", \"count\": 3, \"incident_date_2\": \"2020-10\"}, {\"incident_date\": \"2021-12\", \"analysis_neighborhood\": \"Financial District/South Beach\", \"count\": 3, \"incident_date_2\": \"2021-12\"}, {\"incident_date\": \"2020-09\", \"analysis_neighborhood\": \"Mission Bay\", \"count\": 3, \"incident_date_2\": \"2020-09\"}, {\"incident_date\": \"2020-09\", \"analysis_neighborhood\": \"Outer Richmond\", \"count\": 3, \"incident_date_2\": \"2020-09\"}, {\"incident_date\": \"2022-06\", \"analysis_neighborhood\": \"Outer Mission\", \"count\": 3, \"incident_date_2\": \"2022-06\"}, {\"incident_date\": \"2018-07\", \"analysis_neighborhood\": \"Nob Hill\", \"count\": 3, \"incident_date_2\": \"2018-07\"}, {\"incident_date\": \"2020-09\", \"analysis_neighborhood\": \"Sunset/Parkside\", \"count\": 3, \"incident_date_2\": \"2020-09\"}, {\"incident_date\": \"2020-07\", \"analysis_neighborhood\": \"Western Addition\", \"count\": 3, \"incident_date_2\": \"2020-07\"}, {\"incident_date\": \"2023-02\", \"analysis_neighborhood\": \"Pacific Heights\", \"count\": 3, \"incident_date_2\": \"2023-02\"}, {\"incident_date\": \"2018-07\", \"analysis_neighborhood\": \"Chinatown\", \"count\": 3, \"incident_date_2\": \"2018-07\"}, {\"incident_date\": \"2022-05\", \"analysis_neighborhood\": \"Western Addition\", \"count\": 3, \"incident_date_2\": \"2022-05\"}, {\"incident_date\": \"2020-05\", \"analysis_neighborhood\": \"North Beach\", \"count\": 3, \"incident_date_2\": \"2020-05\"}, {\"incident_date\": \"2022-05\", \"analysis_neighborhood\": \"Potrero Hill\", \"count\": 3, \"incident_date_2\": \"2022-05\"}, {\"incident_date\": \"2020-05\", \"analysis_neighborhood\": \"Potrero Hill\", \"count\": 3, \"incident_date_2\": \"2020-05\"}, {\"incident_date\": \"2022-05\", \"analysis_neighborhood\": \"Sunset/Parkside\", \"count\": 3, \"incident_date_2\": \"2022-05\"}, {\"incident_date\": \"2018-10\", \"analysis_neighborhood\": \"Visitacion Valley\", \"count\": 3, \"incident_date_2\": \"2018-10\"}, {\"incident_date\": \"2020-11\", \"analysis_neighborhood\": \"Outer Mission\", \"count\": 3, \"incident_date_2\": \"2020-11\"}, {\"incident_date\": \"2020-06\", \"analysis_neighborhood\": \"Haight Ashbury\", \"count\": 3, \"incident_date_2\": \"2020-06\"}, {\"incident_date\": \"2020-11\", \"analysis_neighborhood\": \"Noe Valley\", \"count\": 3, \"incident_date_2\": \"2020-11\"}, {\"incident_date\": \"2022-01\", \"analysis_neighborhood\": \"Financial District/South Beach\", \"count\": 3, \"incident_date_2\": \"2022-01\"}, {\"incident_date\": \"2018-01\", \"analysis_neighborhood\": \"Visitacion Valley\", \"count\": 3, \"incident_date_2\": \"2018-01\"}, {\"incident_date\": \"2020-06\", \"analysis_neighborhood\": \"Outer Richmond\", \"count\": 3, \"incident_date_2\": \"2020-06\"}, {\"incident_date\": \"2018-10\", \"analysis_neighborhood\": \"Outer Richmond\", \"count\": 3, \"incident_date_2\": \"2018-10\"}, {\"incident_date\": \"2020-06\", \"analysis_neighborhood\": \"West of Twin Peaks\", \"count\": 3, \"incident_date_2\": \"2020-06\"}, {\"incident_date\": \"2018-10\", \"analysis_neighborhood\": \"Mission Bay\", \"count\": 3, \"incident_date_2\": \"2018-10\"}, {\"incident_date\": \"2020-11\", \"analysis_neighborhood\": \"Financial District/South Beach\", \"count\": 3, \"incident_date_2\": \"2020-11\"}, {\"incident_date\": \"2018-06\", \"analysis_neighborhood\": \"Western Addition\", \"count\": 3, \"incident_date_2\": \"2018-06\"}, {\"incident_date\": \"2020-11\", \"analysis_neighborhood\": \"Bayview Hunters Point\", \"count\": 3, \"incident_date_2\": \"2020-11\"}, {\"incident_date\": \"2018-10\", \"analysis_neighborhood\": \"Inner Richmond\", \"count\": 3, \"incident_date_2\": \"2018-10\"}, {\"incident_date\": \"2018-09\", \"analysis_neighborhood\": \"Visitacion Valley\", \"count\": 3, \"incident_date_2\": \"2018-09\"}, {\"incident_date\": \"2022-07\", \"analysis_neighborhood\": \"Marina\", \"count\": 3, \"incident_date_2\": \"2022-07\"}, {\"incident_date\": \"2020-07\", \"analysis_neighborhood\": \"Outer Richmond\", \"count\": 3, \"incident_date_2\": \"2020-07\"}, {\"incident_date\": \"2018-07\", \"analysis_neighborhood\": \"Bernal Heights\", \"count\": 3, \"incident_date_2\": \"2018-07\"}, {\"incident_date\": \"2023-02\", \"analysis_neighborhood\": \"Outer Richmond\", \"count\": 3, \"incident_date_2\": \"2023-02\"}, {\"incident_date\": \"2018-10\", \"analysis_neighborhood\": \"Sunset/Parkside\", \"count\": 3, \"incident_date_2\": \"2018-10\"}, {\"incident_date\": \"2020-01\", \"analysis_neighborhood\": \"Nob Hill\", \"count\": 3, \"incident_date_2\": \"2020-01\"}, {\"incident_date\": \"2022-11\", \"analysis_neighborhood\": \"Outer Richmond\", \"count\": 3, \"incident_date_2\": \"2022-11\"}, {\"incident_date\": \"2019-09\", \"analysis_neighborhood\": \"Mission Bay\", \"count\": 3, \"incident_date_2\": \"2019-09\"}, {\"incident_date\": \"2022-12\", \"analysis_neighborhood\": \"Glen Park\", \"count\": 3, \"incident_date_2\": \"2022-12\"}, {\"incident_date\": \"2019-04\", \"analysis_neighborhood\": \"Lone Mountain/USF\", \"count\": 3, \"incident_date_2\": \"2019-04\"}, {\"incident_date\": \"2019-04\", \"analysis_neighborhood\": \"Lakeshore\", \"count\": 3, \"incident_date_2\": \"2019-04\"}, {\"incident_date\": \"2022-04\", \"analysis_neighborhood\": \"Nob Hill\", \"count\": 3, \"incident_date_2\": \"2022-04\"}, {\"incident_date\": \"2019-09\", \"analysis_neighborhood\": \"Western Addition\", \"count\": 3, \"incident_date_2\": \"2019-09\"}, {\"incident_date\": \"2019-07\", \"analysis_neighborhood\": \"Chinatown\", \"count\": 3, \"incident_date_2\": \"2019-07\"}, {\"incident_date\": \"2021-03\", \"analysis_neighborhood\": \"Inner Richmond\", \"count\": 3, \"incident_date_2\": \"2021-03\"}, {\"incident_date\": \"2022-09\", \"analysis_neighborhood\": \"West of Twin Peaks\", \"count\": 3, \"incident_date_2\": \"2022-09\"}, {\"incident_date\": \"2019-06\", \"analysis_neighborhood\": \"North Beach\", \"count\": 3, \"incident_date_2\": \"2019-06\"}, {\"incident_date\": \"2019-04\", \"analysis_neighborhood\": \"Outer Mission\", \"count\": 3, \"incident_date_2\": \"2019-04\"}, {\"incident_date\": \"2022-10\", \"analysis_neighborhood\": \"Western Addition\", \"count\": 3, \"incident_date_2\": \"2022-10\"}, {\"incident_date\": \"2019-12\", \"analysis_neighborhood\": \"Marina\", \"count\": 3, \"incident_date_2\": \"2019-12\"}, {\"incident_date\": \"2022-09\", \"analysis_neighborhood\": \"Visitacion Valley\", \"count\": 3, \"incident_date_2\": \"2022-09\"}, {\"incident_date\": \"2019-04\", \"analysis_neighborhood\": \"Golden Gate Park\", \"count\": 3, \"incident_date_2\": \"2019-04\"}, {\"incident_date\": \"2019-12\", \"analysis_neighborhood\": \"Nob Hill\", \"count\": 3, \"incident_date_2\": \"2019-12\"}, {\"incident_date\": \"2019-05\", \"analysis_neighborhood\": \"Outer Mission\", \"count\": 3, \"incident_date_2\": \"2019-05\"}, {\"incident_date\": \"2019-12\", \"analysis_neighborhood\": \"North Beach\", \"count\": 3, \"incident_date_2\": \"2019-12\"}, {\"incident_date\": \"2021-05\", \"analysis_neighborhood\": \"Financial District/South Beach\", \"count\": 3, \"incident_date_2\": \"2021-05\"}, {\"incident_date\": \"2019-12\", \"analysis_neighborhood\": \"Chinatown\", \"count\": 3, \"incident_date_2\": \"2019-12\"}, {\"incident_date\": \"2022-02\", \"analysis_neighborhood\": \"Mission Bay\", \"count\": 3, \"incident_date_2\": \"2022-02\"}, {\"incident_date\": \"2021-02\", \"analysis_neighborhood\": \"Potrero Hill\", \"count\": 3, \"incident_date_2\": \"2021-02\"}, {\"incident_date\": \"2022-02\", \"analysis_neighborhood\": \"Nob Hill\", \"count\": 3, \"incident_date_2\": \"2022-02\"}, {\"incident_date\": \"2021-07\", \"analysis_neighborhood\": \"Financial District/South Beach\", \"count\": 3, \"incident_date_2\": \"2021-07\"}, {\"incident_date\": \"2021-07\", \"analysis_neighborhood\": \"Haight Ashbury\", \"count\": 3, \"incident_date_2\": \"2021-07\"}, {\"incident_date\": \"2022-04\", \"analysis_neighborhood\": \"Mission Bay\", \"count\": 3, \"incident_date_2\": \"2022-04\"}, {\"incident_date\": \"2019-09\", \"analysis_neighborhood\": \"West of Twin Peaks\", \"count\": 3, \"incident_date_2\": \"2019-09\"}, {\"incident_date\": \"2022-11\", \"analysis_neighborhood\": \"Russian Hill\", \"count\": 3, \"incident_date_2\": \"2022-11\"}, {\"incident_date\": \"2021-07\", \"analysis_neighborhood\": \"North Beach\", \"count\": 3, \"incident_date_2\": \"2021-07\"}, {\"incident_date\": \"2019-09\", \"analysis_neighborhood\": \"Sunset/Parkside\", \"count\": 3, \"incident_date_2\": \"2019-09\"}, {\"incident_date\": \"2022-10\", \"analysis_neighborhood\": \"Mission Bay\", \"count\": 3, \"incident_date_2\": \"2022-10\"}, {\"incident_date\": \"2021-02\", \"analysis_neighborhood\": \"Twin Peaks\", \"count\": 3, \"incident_date_2\": \"2021-02\"}, {\"incident_date\": \"2021-07\", \"analysis_neighborhood\": \"Bayview Hunters Point\", \"count\": 3, \"incident_date_2\": \"2021-07\"}, {\"incident_date\": \"2018-05\", \"analysis_neighborhood\": \"Excelsior\", \"count\": 3, \"incident_date_2\": \"2018-05\"}, {\"incident_date\": \"2018-05\", \"analysis_neighborhood\": \"North Beach\", \"count\": 3, \"incident_date_2\": \"2018-05\"}, {\"incident_date\": \"2019-10\", \"analysis_neighborhood\": \"West of Twin Peaks\", \"count\": 3, \"incident_date_2\": \"2019-10\"}, {\"incident_date\": \"2022-03\", \"analysis_neighborhood\": \"Western Addition\", \"count\": 3, \"incident_date_2\": \"2022-03\"}, {\"incident_date\": \"2018-03\", \"analysis_neighborhood\": \"Golden Gate Park\", \"count\": 3, \"incident_date_2\": \"2018-03\"}, {\"incident_date\": \"2018-03\", \"analysis_neighborhood\": \"Outer Mission\", \"count\": 3, \"incident_date_2\": \"2018-03\"}, {\"incident_date\": \"2019-04\", \"analysis_neighborhood\": \"Russian Hill\", \"count\": 3, \"incident_date_2\": \"2019-04\"}, {\"incident_date\": \"2018-04\", \"analysis_neighborhood\": \"Russian Hill\", \"count\": 3, \"incident_date_2\": \"2018-04\"}, {\"incident_date\": \"2021-05\", \"analysis_neighborhood\": \"Mission Bay\", \"count\": 3, \"incident_date_2\": \"2021-05\"}, {\"incident_date\": \"2019-11\", \"analysis_neighborhood\": \"Excelsior\", \"count\": 3, \"incident_date_2\": \"2019-11\"}, {\"incident_date\": \"2021-03\", \"analysis_neighborhood\": \"Castro/Upper Market\", \"count\": 3, \"incident_date_2\": \"2021-03\"}, {\"incident_date\": \"2019-12\", \"analysis_neighborhood\": \"Potrero Hill\", \"count\": 3, \"incident_date_2\": \"2019-12\"}, {\"incident_date\": \"2019-08\", \"analysis_neighborhood\": \"Sunset/Parkside\", \"count\": 3, \"incident_date_2\": \"2019-08\"}, {\"incident_date\": \"2023-01\", \"analysis_neighborhood\": \"Mission Bay\", \"count\": 3, \"incident_date_2\": \"2023-01\"}, {\"incident_date\": \"2020-01\", \"analysis_neighborhood\": \"Outer Richmond\", \"count\": 3, \"incident_date_2\": \"2020-01\"}, {\"incident_date\": \"2019-08\", \"analysis_neighborhood\": \"Castro/Upper Market\", \"count\": 3, \"incident_date_2\": \"2019-08\"}, {\"incident_date\": \"2019-10\", \"analysis_neighborhood\": \"Mission Bay\", \"count\": 3, \"incident_date_2\": \"2019-10\"}, {\"incident_date\": \"2021-04\", \"analysis_neighborhood\": \"Mission Bay\", \"count\": 3, \"incident_date_2\": \"2021-04\"}, {\"incident_date\": \"2019-08\", \"analysis_neighborhood\": \"Pacific Heights\", \"count\": 3, \"incident_date_2\": \"2019-08\"}, {\"incident_date\": \"2018-04\", \"analysis_neighborhood\": \"North Beach\", \"count\": 3, \"incident_date_2\": \"2018-04\"}, {\"incident_date\": \"2021-03\", \"analysis_neighborhood\": \"Nob Hill\", \"count\": 3, \"incident_date_2\": \"2021-03\"}, {\"incident_date\": \"2020-01\", \"analysis_neighborhood\": \"Twin Peaks\", \"count\": 3, \"incident_date_2\": \"2020-01\"}, {\"incident_date\": \"2021-04\", \"analysis_neighborhood\": \"Nob Hill\", \"count\": 3, \"incident_date_2\": \"2021-04\"}, {\"incident_date\": \"2019-08\", \"analysis_neighborhood\": \"North Beach\", \"count\": 3, \"incident_date_2\": \"2019-08\"}, {\"incident_date\": \"2021-01\", \"analysis_neighborhood\": \"West of Twin Peaks\", \"count\": 3, \"incident_date_2\": \"2021-01\"}, {\"incident_date\": \"2022-01\", \"analysis_neighborhood\": \"West of Twin Peaks\", \"count\": 3, \"incident_date_2\": \"2022-01\"}, {\"incident_date\": \"2019-02\", \"analysis_neighborhood\": \"Hayes Valley\", \"count\": 3, \"incident_date_2\": \"2019-02\"}, {\"incident_date\": \"2019-06\", \"analysis_neighborhood\": \"Portola\", \"count\": 3, \"incident_date_2\": \"2019-06\"}, {\"incident_date\": \"2022-04\", \"analysis_neighborhood\": \"Castro/Upper Market\", \"count\": 3, \"incident_date_2\": \"2022-04\"}, {\"incident_date\": \"2019-02\", \"analysis_neighborhood\": \"Potrero Hill\", \"count\": 3, \"incident_date_2\": \"2019-02\"}, {\"incident_date\": \"2021-09\", \"analysis_neighborhood\": \"Chinatown\", \"count\": 3, \"incident_date_2\": \"2021-09\"}, {\"incident_date\": \"2018-05\", \"analysis_neighborhood\": \"Golden Gate Park\", \"count\": 3, \"incident_date_2\": \"2018-05\"}, {\"incident_date\": \"2018-01\", \"analysis_neighborhood\": \"Mission Bay\", \"count\": 3, \"incident_date_2\": \"2018-01\"}, {\"incident_date\": \"2019-12\", \"analysis_neighborhood\": \"Russian Hill\", \"count\": 3, \"incident_date_2\": \"2019-12\"}, {\"incident_date\": \"2019-05\", \"analysis_neighborhood\": \"Pacific Heights\", \"count\": 3, \"incident_date_2\": \"2019-05\"}, {\"incident_date\": \"2019-04\", \"analysis_neighborhood\": \"Bernal Heights\", \"count\": 3, \"incident_date_2\": \"2019-04\"}, {\"incident_date\": \"2021-04\", \"analysis_neighborhood\": \"Financial District/South Beach\", \"count\": 3, \"incident_date_2\": \"2021-04\"}, {\"incident_date\": \"2021-04\", \"analysis_neighborhood\": \"Marina\", \"count\": 3, \"incident_date_2\": \"2021-04\"}, {\"incident_date\": \"2019-07\", \"analysis_neighborhood\": \"Lakeshore\", \"count\": 3, \"incident_date_2\": \"2019-07\"}, {\"incident_date\": \"2022-02\", \"analysis_neighborhood\": \"Marina\", \"count\": 3, \"incident_date_2\": \"2022-02\"}, {\"incident_date\": \"2018-05\", \"analysis_neighborhood\": \"Western Addition\", \"count\": 3, \"incident_date_2\": \"2018-05\"}, {\"incident_date\": \"2018-05\", \"analysis_neighborhood\": \"Mission Bay\", \"count\": 3, \"incident_date_2\": \"2018-05\"}, {\"incident_date\": \"2022-02\", \"analysis_neighborhood\": \"Financial District/South Beach\", \"count\": 3, \"incident_date_2\": \"2022-02\"}, {\"incident_date\": \"2019-10\", \"analysis_neighborhood\": \"Outer Mission\", \"count\": 3, \"incident_date_2\": \"2019-10\"}, {\"incident_date\": \"2021-03\", \"analysis_neighborhood\": \"Presidio Heights\", \"count\": 3, \"incident_date_2\": \"2021-03\"}, {\"incident_date\": \"2022-12\", \"analysis_neighborhood\": \"Castro/Upper Market\", \"count\": 3, \"incident_date_2\": \"2022-12\"}, {\"incident_date\": \"2022-12\", \"analysis_neighborhood\": \"Western Addition\", \"count\": 3, \"incident_date_2\": \"2022-12\"}, {\"incident_date\": \"2019-03\", \"analysis_neighborhood\": \"Hayes Valley\", \"count\": 3, \"incident_date_2\": \"2019-03\"}, {\"incident_date\": \"2019-03\", \"analysis_neighborhood\": \"Haight Ashbury\", \"count\": 3, \"incident_date_2\": \"2019-03\"}, {\"incident_date\": \"2021-05\", \"analysis_neighborhood\": \"Outer Richmond\", \"count\": 2, \"incident_date_2\": \"2021-05\"}, {\"incident_date\": \"2020-10\", \"analysis_neighborhood\": \"West of Twin Peaks\", \"count\": 2, \"incident_date_2\": \"2020-10\"}, {\"incident_date\": \"2021-12\", \"analysis_neighborhood\": \"West of Twin Peaks\", \"count\": 2, \"incident_date_2\": \"2021-12\"}, {\"incident_date\": \"2018-03\", \"analysis_neighborhood\": \"Outer Richmond\", \"count\": 2, \"incident_date_2\": \"2018-03\"}, {\"incident_date\": \"2021-05\", \"analysis_neighborhood\": \"Lakeshore\", \"count\": 2, \"incident_date_2\": \"2021-05\"}, {\"incident_date\": \"2021-11\", \"analysis_neighborhood\": \"Potrero Hill\", \"count\": 2, \"incident_date_2\": \"2021-11\"}, {\"incident_date\": \"2020-10\", \"analysis_neighborhood\": \"Financial District/South Beach\", \"count\": 2, \"incident_date_2\": \"2020-10\"}, {\"incident_date\": \"2022-06\", \"analysis_neighborhood\": \"Lone Mountain/USF\", \"count\": 2, \"incident_date_2\": \"2022-06\"}, {\"incident_date\": \"2021-04\", \"analysis_neighborhood\": \"Potrero Hill\", \"count\": 2, \"incident_date_2\": \"2021-04\"}, {\"incident_date\": \"2018-03\", \"analysis_neighborhood\": \"Mission Bay\", \"count\": 2, \"incident_date_2\": \"2018-03\"}, {\"incident_date\": \"2018-03\", \"analysis_neighborhood\": \"Marina\", \"count\": 2, \"incident_date_2\": \"2018-03\"}, {\"incident_date\": \"2021-12\", \"analysis_neighborhood\": \"Haight Ashbury\", \"count\": 2, \"incident_date_2\": \"2021-12\"}, {\"incident_date\": \"2020-10\", \"analysis_neighborhood\": \"Marina\", \"count\": 2, \"incident_date_2\": \"2020-10\"}, {\"incident_date\": \"2021-04\", \"analysis_neighborhood\": \"Western Addition\", \"count\": 2, \"incident_date_2\": \"2021-04\"}, {\"incident_date\": \"2021-12\", \"analysis_neighborhood\": \"Excelsior\", \"count\": 2, \"incident_date_2\": \"2021-12\"}, {\"incident_date\": \"2021-12\", \"analysis_neighborhood\": \"Chinatown\", \"count\": 2, \"incident_date_2\": \"2021-12\"}, {\"incident_date\": \"2020-10\", \"analysis_neighborhood\": \"Presidio\", \"count\": 2, \"incident_date_2\": \"2020-10\"}, {\"incident_date\": \"2021-04\", \"analysis_neighborhood\": \"Castro/Upper Market\", \"count\": 2, \"incident_date_2\": \"2021-04\"}, {\"incident_date\": \"2020-10\", \"analysis_neighborhood\": \"North Beach\", \"count\": 2, \"incident_date_2\": \"2020-10\"}, {\"incident_date\": \"2020-10\", \"analysis_neighborhood\": \"Oceanview/Merced/Ingleside\", \"count\": 2, \"incident_date_2\": \"2020-10\"}, {\"incident_date\": \"2020-10\", \"analysis_neighborhood\": \"Outer Mission\", \"count\": 2, \"incident_date_2\": \"2020-10\"}, {\"incident_date\": \"2021-11\", \"analysis_neighborhood\": \"Russian Hill\", \"count\": 2, \"incident_date_2\": \"2021-11\"}, {\"incident_date\": \"2021-03\", \"analysis_neighborhood\": \"Visitacion Valley\", \"count\": 2, \"incident_date_2\": \"2021-03\"}, {\"incident_date\": \"2021-03\", \"analysis_neighborhood\": \"Twin Peaks\", \"count\": 2, \"incident_date_2\": \"2021-03\"}, {\"incident_date\": \"2021-11\", \"analysis_neighborhood\": \"Presidio Heights\", \"count\": 2, \"incident_date_2\": \"2021-11\"}, {\"incident_date\": \"2021-05\", \"analysis_neighborhood\": \"Pacific Heights\", \"count\": 2, \"incident_date_2\": \"2021-05\"}, {\"incident_date\": \"2021-03\", \"analysis_neighborhood\": \"Bernal Heights\", \"count\": 2, \"incident_date_2\": \"2021-03\"}, {\"incident_date\": \"2021-06\", \"analysis_neighborhood\": \"Castro/Upper Market\", \"count\": 2, \"incident_date_2\": \"2021-06\"}, {\"incident_date\": \"2021-02\", \"analysis_neighborhood\": \"Glen Park\", \"count\": 2, \"incident_date_2\": \"2021-02\"}, {\"incident_date\": \"2022-04\", \"analysis_neighborhood\": \"Noe Valley\", \"count\": 2, \"incident_date_2\": \"2022-04\"}, {\"incident_date\": \"2020-12\", \"analysis_neighborhood\": \"Pacific Heights\", \"count\": 2, \"incident_date_2\": \"2020-12\"}, {\"incident_date\": \"2021-02\", \"analysis_neighborhood\": \"North Beach\", \"count\": 2, \"incident_date_2\": \"2021-02\"}, {\"incident_date\": \"2021-02\", \"analysis_neighborhood\": \"Mission Bay\", \"count\": 2, \"incident_date_2\": \"2021-02\"}, {\"incident_date\": \"2021-08\", \"analysis_neighborhood\": \"Financial District/South Beach\", \"count\": 2, \"incident_date_2\": \"2021-08\"}, {\"incident_date\": \"2022-02\", \"analysis_neighborhood\": \"Lakeshore\", \"count\": 2, \"incident_date_2\": \"2022-02\"}, {\"incident_date\": \"2022-04\", \"analysis_neighborhood\": \"Potrero Hill\", \"count\": 2, \"incident_date_2\": \"2022-04\"}, {\"incident_date\": \"2022-02\", \"analysis_neighborhood\": \"Chinatown\", \"count\": 2, \"incident_date_2\": \"2022-02\"}, {\"incident_date\": \"2022-05\", \"analysis_neighborhood\": \"McLaren Park\", \"count\": 2, \"incident_date_2\": \"2022-05\"}, {\"incident_date\": \"2022-05\", \"analysis_neighborhood\": \"Marina\", \"count\": 2, \"incident_date_2\": \"2022-05\"}, {\"incident_date\": \"2021-08\", \"analysis_neighborhood\": \"Sunset/Parkside\", \"count\": 2, \"incident_date_2\": \"2021-08\"}, {\"incident_date\": \"2021-09\", \"analysis_neighborhood\": \"Pacific Heights\", \"count\": 2, \"incident_date_2\": \"2021-09\"}, {\"incident_date\": \"2021-06\", \"analysis_neighborhood\": \"Haight Ashbury\", \"count\": 2, \"incident_date_2\": \"2021-06\"}, {\"incident_date\": \"2021-09\", \"analysis_neighborhood\": \"Excelsior\", \"count\": 2, \"incident_date_2\": \"2021-09\"}, {\"incident_date\": \"2021-09\", \"analysis_neighborhood\": \"Haight Ashbury\", \"count\": 2, \"incident_date_2\": \"2021-09\"}, {\"incident_date\": \"2022-01\", \"analysis_neighborhood\": \"Portola\", \"count\": 2, \"incident_date_2\": \"2022-01\"}, {\"incident_date\": \"2022-01\", \"analysis_neighborhood\": \"Russian Hill\", \"count\": 2, \"incident_date_2\": \"2022-01\"}, {\"incident_date\": \"2021-09\", \"analysis_neighborhood\": \"Hayes Valley\", \"count\": 2, \"incident_date_2\": \"2021-09\"}, {\"incident_date\": \"2021-01\", \"analysis_neighborhood\": \"Marina\", \"count\": 2, \"incident_date_2\": \"2021-01\"}, {\"incident_date\": \"2021-04\", \"analysis_neighborhood\": \"Pacific Heights\", \"count\": 2, \"incident_date_2\": \"2021-04\"}, {\"incident_date\": \"2021-01\", \"analysis_neighborhood\": \"Nob Hill\", \"count\": 2, \"incident_date_2\": \"2021-01\"}, {\"incident_date\": \"2021-09\", \"analysis_neighborhood\": \"Lakeshore\", \"count\": 2, \"incident_date_2\": \"2021-09\"}, {\"incident_date\": \"2022-01\", \"analysis_neighborhood\": \"Sunset/Parkside\", \"count\": 2, \"incident_date_2\": \"2022-01\"}, {\"incident_date\": \"2021-09\", \"analysis_neighborhood\": \"Nob Hill\", \"count\": 2, \"incident_date_2\": \"2021-09\"}, {\"incident_date\": \"2020-12\", \"analysis_neighborhood\": \"Outer Richmond\", \"count\": 2, \"incident_date_2\": \"2020-12\"}, {\"incident_date\": \"2022-05\", \"analysis_neighborhood\": \"Mission Bay\", \"count\": 2, \"incident_date_2\": \"2022-05\"}, {\"incident_date\": \"2021-10\", \"analysis_neighborhood\": \"Inner Sunset\", \"count\": 2, \"incident_date_2\": \"2021-10\"}, {\"incident_date\": \"2022-01\", \"analysis_neighborhood\": \"Noe Valley\", \"count\": 2, \"incident_date_2\": \"2022-01\"}, {\"incident_date\": \"2021-03\", \"analysis_neighborhood\": \"Noe Valley\", \"count\": 2, \"incident_date_2\": \"2021-03\"}, {\"incident_date\": \"2021-11\", \"analysis_neighborhood\": \"Lakeshore\", \"count\": 2, \"incident_date_2\": \"2021-11\"}, {\"incident_date\": \"2021-03\", \"analysis_neighborhood\": \"Mission Bay\", \"count\": 2, \"incident_date_2\": \"2021-03\"}, {\"incident_date\": \"2021-06\", \"analysis_neighborhood\": \"Hayes Valley\", \"count\": 2, \"incident_date_2\": \"2021-06\"}, {\"incident_date\": \"2022-05\", \"analysis_neighborhood\": \"Twin Peaks\", \"count\": 2, \"incident_date_2\": \"2022-05\"}, {\"incident_date\": \"2021-11\", \"analysis_neighborhood\": \"Hayes Valley\", \"count\": 2, \"incident_date_2\": \"2021-11\"}, {\"incident_date\": \"2020-11\", \"analysis_neighborhood\": \"Mission Bay\", \"count\": 2, \"incident_date_2\": \"2020-11\"}, {\"incident_date\": \"2022-02\", \"analysis_neighborhood\": \"Potrero Hill\", \"count\": 2, \"incident_date_2\": \"2022-02\"}, {\"incident_date\": \"2021-01\", \"analysis_neighborhood\": \"Sunset/Parkside\", \"count\": 2, \"incident_date_2\": \"2021-01\"}, {\"incident_date\": \"2021-07\", \"analysis_neighborhood\": \"Mission Bay\", \"count\": 2, \"incident_date_2\": \"2021-07\"}, {\"incident_date\": \"2021-07\", \"analysis_neighborhood\": \"Oceanview/Merced/Ingleside\", \"count\": 2, \"incident_date_2\": \"2021-07\"}, {\"incident_date\": \"2021-07\", \"analysis_neighborhood\": \"Outer Richmond\", \"count\": 2, \"incident_date_2\": \"2021-07\"}, {\"incident_date\": \"2020-11\", \"analysis_neighborhood\": \"Russian Hill\", \"count\": 2, \"incident_date_2\": \"2020-11\"}, {\"incident_date\": \"2018-03\", \"analysis_neighborhood\": \"Oceanview/Merced/Ingleside\", \"count\": 2, \"incident_date_2\": \"2018-03\"}, {\"incident_date\": \"2021-11\", \"analysis_neighborhood\": \"Bernal Heights\", \"count\": 2, \"incident_date_2\": \"2021-11\"}, {\"incident_date\": \"2022-05\", \"analysis_neighborhood\": \"Portola\", \"count\": 2, \"incident_date_2\": \"2022-05\"}, {\"incident_date\": \"2020-12\", \"analysis_neighborhood\": \"Castro/Upper Market\", \"count\": 2, \"incident_date_2\": \"2020-12\"}, {\"incident_date\": \"2021-10\", \"analysis_neighborhood\": \"Outer Richmond\", \"count\": 2, \"incident_date_2\": \"2021-10\"}, {\"incident_date\": \"2022-05\", \"analysis_neighborhood\": \"North Beach\", \"count\": 2, \"incident_date_2\": \"2022-05\"}, {\"incident_date\": \"2021-07\", \"analysis_neighborhood\": \"Western Addition\", \"count\": 2, \"incident_date_2\": \"2021-07\"}, {\"incident_date\": \"2021-08\", \"analysis_neighborhood\": \"Bernal Heights\", \"count\": 2, \"incident_date_2\": \"2021-08\"}, {\"incident_date\": \"2022-05\", \"analysis_neighborhood\": \"Noe Valley\", \"count\": 2, \"incident_date_2\": \"2022-05\"}, {\"incident_date\": \"2018-03\", \"analysis_neighborhood\": \"Bernal Heights\", \"count\": 2, \"incident_date_2\": \"2018-03\"}, {\"incident_date\": \"2018-03\", \"analysis_neighborhood\": \"Potrero Hill\", \"count\": 2, \"incident_date_2\": \"2018-03\"}, {\"incident_date\": \"2018-04\", \"analysis_neighborhood\": \"Bernal Heights\", \"count\": 2, \"incident_date_2\": \"2018-04\"}, {\"incident_date\": \"2022-11\", \"analysis_neighborhood\": \"Marina\", \"count\": 2, \"incident_date_2\": \"2022-11\"}, {\"incident_date\": \"2022-11\", \"analysis_neighborhood\": \"Pacific Heights\", \"count\": 2, \"incident_date_2\": \"2022-11\"}, {\"incident_date\": \"2019-06\", \"analysis_neighborhood\": \"Potrero Hill\", \"count\": 2, \"incident_date_2\": \"2019-06\"}, {\"incident_date\": \"2018-01\", \"analysis_neighborhood\": \"Lincoln Park\", \"count\": 2, \"incident_date_2\": \"2018-01\"}, {\"incident_date\": \"2018-05\", \"analysis_neighborhood\": \"Outer Richmond\", \"count\": 2, \"incident_date_2\": \"2018-05\"}, {\"incident_date\": \"2019-06\", \"analysis_neighborhood\": \"Marina\", \"count\": 2, \"incident_date_2\": \"2019-06\"}, {\"incident_date\": \"2019-06\", \"analysis_neighborhood\": \"Japantown\", \"count\": 2, \"incident_date_2\": \"2019-06\"}, {\"incident_date\": \"2019-06\", \"analysis_neighborhood\": \"Hayes Valley\", \"count\": 2, \"incident_date_2\": \"2019-06\"}, {\"incident_date\": \"2019-06\", \"analysis_neighborhood\": \"Excelsior\", \"count\": 2, \"incident_date_2\": \"2019-06\"}, {\"incident_date\": \"2019-06\", \"analysis_neighborhood\": \"Bernal Heights\", \"count\": 2, \"incident_date_2\": \"2019-06\"}, {\"incident_date\": \"2019-05\", \"analysis_neighborhood\": \"Visitacion Valley\", \"count\": 2, \"incident_date_2\": \"2019-05\"}, {\"incident_date\": \"2018-05\", \"analysis_neighborhood\": \"Potrero Hill\", \"count\": 2, \"incident_date_2\": \"2018-05\"}, {\"incident_date\": \"2019-05\", \"analysis_neighborhood\": \"Russian Hill\", \"count\": 2, \"incident_date_2\": \"2019-05\"}, {\"incident_date\": \"2022-12\", \"analysis_neighborhood\": \"Chinatown\", \"count\": 2, \"incident_date_2\": \"2022-12\"}, {\"incident_date\": \"2019-05\", \"analysis_neighborhood\": \"Potrero Hill\", \"count\": 2, \"incident_date_2\": \"2019-05\"}, {\"incident_date\": \"2019-05\", \"analysis_neighborhood\": \"North Beach\", \"count\": 2, \"incident_date_2\": \"2019-05\"}, {\"incident_date\": \"2018-05\", \"analysis_neighborhood\": \"Presidio Heights\", \"count\": 2, \"incident_date_2\": \"2018-05\"}, {\"incident_date\": \"2022-12\", \"analysis_neighborhood\": \"Inner Richmond\", \"count\": 2, \"incident_date_2\": \"2022-12\"}, {\"incident_date\": \"2019-05\", \"analysis_neighborhood\": \"Inner Richmond\", \"count\": 2, \"incident_date_2\": \"2019-05\"}, {\"incident_date\": \"2019-05\", \"analysis_neighborhood\": \"Hayes Valley\", \"count\": 2, \"incident_date_2\": \"2019-05\"}, {\"incident_date\": \"2019-05\", \"analysis_neighborhood\": \"Bernal Heights\", \"count\": 2, \"incident_date_2\": \"2019-05\"}, {\"incident_date\": \"2022-12\", \"analysis_neighborhood\": \"Nob Hill\", \"count\": 2, \"incident_date_2\": \"2022-12\"}, {\"incident_date\": \"2019-04\", \"analysis_neighborhood\": \"Sunset/Parkside\", \"count\": 2, \"incident_date_2\": \"2019-04\"}, {\"incident_date\": \"2018-05\", \"analysis_neighborhood\": \"Visitacion Valley\", \"count\": 2, \"incident_date_2\": \"2018-05\"}, {\"incident_date\": \"2022-12\", \"analysis_neighborhood\": \"Pacific Heights\", \"count\": 2, \"incident_date_2\": \"2022-12\"}, {\"incident_date\": \"2019-04\", \"analysis_neighborhood\": \"Nob Hill\", \"count\": 2, \"incident_date_2\": \"2019-04\"}, {\"incident_date\": \"2022-12\", \"analysis_neighborhood\": \"Russian Hill\", \"count\": 2, \"incident_date_2\": \"2022-12\"}, {\"incident_date\": \"2022-11\", \"analysis_neighborhood\": \"Potrero Hill\", \"count\": 2, \"incident_date_2\": \"2022-11\"}, {\"incident_date\": \"2019-07\", \"analysis_neighborhood\": \"Golden Gate Park\", \"count\": 2, \"incident_date_2\": \"2019-07\"}, {\"incident_date\": \"2019-03\", \"analysis_neighborhood\": \"West of Twin Peaks\", \"count\": 2, \"incident_date_2\": \"2019-03\"}, {\"incident_date\": \"2019-07\", \"analysis_neighborhood\": \"Inner Richmond\", \"count\": 2, \"incident_date_2\": \"2019-07\"}, {\"incident_date\": \"2019-10\", \"analysis_neighborhood\": \"Inner Richmond\", \"count\": 2, \"incident_date_2\": \"2019-10\"}, {\"incident_date\": \"2019-10\", \"analysis_neighborhood\": \"Golden Gate Park\", \"count\": 2, \"incident_date_2\": \"2019-10\"}, {\"incident_date\": \"2019-10\", \"analysis_neighborhood\": \"Bernal Heights\", \"count\": 2, \"incident_date_2\": \"2019-10\"}, {\"incident_date\": \"2018-05\", \"analysis_neighborhood\": \"Chinatown\", \"count\": 2, \"incident_date_2\": \"2018-05\"}, {\"incident_date\": \"2019-09\", \"analysis_neighborhood\": \"Potrero Hill\", \"count\": 2, \"incident_date_2\": \"2019-09\"}, {\"incident_date\": \"2019-09\", \"analysis_neighborhood\": \"Outer Richmond\", \"count\": 2, \"incident_date_2\": \"2019-09\"}, {\"incident_date\": \"2019-09\", \"analysis_neighborhood\": \"Outer Mission\", \"count\": 2, \"incident_date_2\": \"2019-09\"}, {\"incident_date\": \"2019-09\", \"analysis_neighborhood\": \"Oceanview/Merced/Ingleside\", \"count\": 2, \"incident_date_2\": \"2019-09\"}, {\"incident_date\": \"2022-11\", \"analysis_neighborhood\": \"Bernal Heights\", \"count\": 2, \"incident_date_2\": \"2022-11\"}, {\"incident_date\": \"2022-11\", \"analysis_neighborhood\": \"Castro/Upper Market\", \"count\": 2, \"incident_date_2\": \"2022-11\"}, {\"incident_date\": \"2019-09\", \"analysis_neighborhood\": \"Hayes Valley\", \"count\": 2, \"incident_date_2\": \"2019-09\"}, {\"incident_date\": \"2019-09\", \"analysis_neighborhood\": \"Golden Gate Park\", \"count\": 2, \"incident_date_2\": \"2019-09\"}, {\"incident_date\": \"2019-08\", \"analysis_neighborhood\": \"Visitacion Valley\", \"count\": 2, \"incident_date_2\": \"2019-08\"}, {\"incident_date\": \"2019-08\", \"analysis_neighborhood\": \"Seacliff\", \"count\": 2, \"incident_date_2\": \"2019-08\"}, {\"incident_date\": \"2019-08\", \"analysis_neighborhood\": \"Oceanview/Merced/Ingleside\", \"count\": 2, \"incident_date_2\": \"2019-08\"}, {\"incident_date\": \"2019-08\", \"analysis_neighborhood\": \"Mission Bay\", \"count\": 2, \"incident_date_2\": \"2019-08\"}, {\"incident_date\": \"2019-08\", \"analysis_neighborhood\": \"Inner Sunset\", \"count\": 2, \"incident_date_2\": \"2019-08\"}, {\"incident_date\": \"2019-08\", \"analysis_neighborhood\": \"Glen Park\", \"count\": 2, \"incident_date_2\": \"2019-08\"}, {\"incident_date\": \"2022-11\", \"analysis_neighborhood\": \"Japantown\", \"count\": 2, \"incident_date_2\": \"2022-11\"}, {\"incident_date\": \"2019-08\", \"analysis_neighborhood\": \"Excelsior\", \"count\": 2, \"incident_date_2\": \"2019-08\"}, {\"incident_date\": \"2022-11\", \"analysis_neighborhood\": \"Mission Bay\", \"count\": 2, \"incident_date_2\": \"2022-11\"}, {\"incident_date\": \"2019-07\", \"analysis_neighborhood\": \"Outer Mission\", \"count\": 2, \"incident_date_2\": \"2019-07\"}, {\"incident_date\": \"2022-11\", \"analysis_neighborhood\": \"Oceanview/Merced/Ingleside\", \"count\": 2, \"incident_date_2\": \"2022-11\"}, {\"incident_date\": \"2019-07\", \"analysis_neighborhood\": \"North Beach\", \"count\": 2, \"incident_date_2\": \"2019-07\"}, {\"incident_date\": \"2022-11\", \"analysis_neighborhood\": \"Outer Mission\", \"count\": 2, \"incident_date_2\": \"2022-11\"}, {\"incident_date\": \"2019-04\", \"analysis_neighborhood\": \"Chinatown\", \"count\": 2, \"incident_date_2\": \"2019-04\"}, {\"incident_date\": \"2019-03\", \"analysis_neighborhood\": \"Sunset/Parkside\", \"count\": 2, \"incident_date_2\": \"2019-03\"}, {\"incident_date\": \"2019-10\", \"analysis_neighborhood\": \"Marina\", \"count\": 2, \"incident_date_2\": \"2019-10\"}, {\"incident_date\": \"2018-11\", \"analysis_neighborhood\": \"Portola\", \"count\": 2, \"incident_date_2\": \"2018-11\"}, {\"incident_date\": \"2023-02\", \"analysis_neighborhood\": \"Marina\", \"count\": 2, \"incident_date_2\": \"2023-02\"}, {\"incident_date\": \"2018-11\", \"analysis_neighborhood\": \"Lakeshore\", \"count\": 2, \"incident_date_2\": \"2018-11\"}, {\"incident_date\": \"2023-02\", \"analysis_neighborhood\": \"Mission Bay\", \"count\": 2, \"incident_date_2\": \"2023-02\"}, {\"incident_date\": \"2018-11\", \"analysis_neighborhood\": \"Castro/Upper Market\", \"count\": 2, \"incident_date_2\": \"2018-11\"}, {\"incident_date\": \"2018-06\", \"analysis_neighborhood\": \"Russian Hill\", \"count\": 2, \"incident_date_2\": \"2018-06\"}, {\"incident_date\": \"2018-06\", \"analysis_neighborhood\": \"Visitacion Valley\", \"count\": 2, \"incident_date_2\": \"2018-06\"}, {\"incident_date\": \"2018-10\", \"analysis_neighborhood\": \"Russian Hill\", \"count\": 2, \"incident_date_2\": \"2018-10\"}, {\"incident_date\": \"2018-10\", \"analysis_neighborhood\": \"Nob Hill\", \"count\": 2, \"incident_date_2\": \"2018-10\"}, {\"incident_date\": \"2018-10\", \"analysis_neighborhood\": \"Hayes Valley\", \"count\": 2, \"incident_date_2\": \"2018-10\"}, {\"incident_date\": \"2018-10\", \"analysis_neighborhood\": \"Golden Gate Park\", \"count\": 2, \"incident_date_2\": \"2018-10\"}, {\"incident_date\": \"2018-09\", \"analysis_neighborhood\": \"Portola\", \"count\": 2, \"incident_date_2\": \"2018-09\"}, {\"incident_date\": \"2018-09\", \"analysis_neighborhood\": \"Outer Richmond\", \"count\": 2, \"incident_date_2\": \"2018-09\"}, {\"incident_date\": \"2018-09\", \"analysis_neighborhood\": \"North Beach\", \"count\": 2, \"incident_date_2\": \"2018-09\"}, {\"incident_date\": \"2018-09\", \"analysis_neighborhood\": \"Inner Richmond\", \"count\": 2, \"incident_date_2\": \"2018-09\"}, {\"incident_date\": \"2023-02\", \"analysis_neighborhood\": \"West of Twin Peaks\", \"count\": 2, \"incident_date_2\": \"2023-02\"}, {\"incident_date\": \"2018-08\", \"analysis_neighborhood\": \"Pacific Heights\", \"count\": 2, \"incident_date_2\": \"2018-08\"}, {\"incident_date\": \"2018-08\", \"analysis_neighborhood\": \"Outer Richmond\", \"count\": 2, \"incident_date_2\": \"2018-08\"}, {\"incident_date\": \"2018-08\", \"analysis_neighborhood\": \"Oceanview/Merced/Ingleside\", \"count\": 2, \"incident_date_2\": \"2018-08\"}, {\"incident_date\": \"2018-08\", \"analysis_neighborhood\": \"Mission Bay\", \"count\": 2, \"incident_date_2\": \"2018-08\"}, {\"incident_date\": \"2018-07\", \"analysis_neighborhood\": \"Glen Park\", \"count\": 2, \"incident_date_2\": \"2018-07\"}, {\"incident_date\": \"2018-08\", \"analysis_neighborhood\": \"Bayview Hunters Point\", \"count\": 2, \"incident_date_2\": \"2018-08\"}, {\"incident_date\": \"2018-07\", \"analysis_neighborhood\": \"Hayes Valley\", \"count\": 2, \"incident_date_2\": \"2018-07\"}, {\"incident_date\": \"2018-07\", \"analysis_neighborhood\": \"Russian Hill\", \"count\": 2, \"incident_date_2\": \"2018-07\"}, {\"incident_date\": \"2018-07\", \"analysis_neighborhood\": \"Mission Bay\", \"count\": 2, \"incident_date_2\": \"2018-07\"}, {\"incident_date\": \"2018-07\", \"analysis_neighborhood\": \"Inner Richmond\", \"count\": 2, \"incident_date_2\": \"2018-07\"}, {\"incident_date\": \"2018-11\", \"analysis_neighborhood\": \"Marina\", \"count\": 2, \"incident_date_2\": \"2018-11\"}, {\"incident_date\": \"2018-06\", \"analysis_neighborhood\": \"Outer Mission\", \"count\": 2, \"incident_date_2\": \"2018-06\"}, {\"incident_date\": \"2019-03\", \"analysis_neighborhood\": \"Seacliff\", \"count\": 2, \"incident_date_2\": \"2019-03\"}, {\"incident_date\": \"2018-06\", \"analysis_neighborhood\": \"North Beach\", \"count\": 2, \"incident_date_2\": \"2018-06\"}, {\"incident_date\": \"2022-12\", \"analysis_neighborhood\": \"Twin Peaks\", \"count\": 2, \"incident_date_2\": \"2022-12\"}, {\"incident_date\": \"2022-12\", \"analysis_neighborhood\": \"Visitacion Valley\", \"count\": 2, \"incident_date_2\": \"2022-12\"}, {\"incident_date\": \"2023-01\", \"analysis_neighborhood\": \"Bernal Heights\", \"count\": 2, \"incident_date_2\": \"2023-01\"}, {\"incident_date\": \"2019-03\", \"analysis_neighborhood\": \"Golden Gate Park\", \"count\": 2, \"incident_date_2\": \"2019-03\"}, {\"incident_date\": \"2019-03\", \"analysis_neighborhood\": \"Chinatown\", \"count\": 2, \"incident_date_2\": \"2019-03\"}, {\"incident_date\": \"2018-01\", \"analysis_neighborhood\": \"Inner Sunset\", \"count\": 2, \"incident_date_2\": \"2018-01\"}, {\"incident_date\": \"2019-02\", \"analysis_neighborhood\": \"North Beach\", \"count\": 2, \"incident_date_2\": \"2019-02\"}, {\"incident_date\": \"2019-02\", \"analysis_neighborhood\": \"Mission Bay\", \"count\": 2, \"incident_date_2\": \"2019-02\"}, {\"incident_date\": \"2019-02\", \"analysis_neighborhood\": \"Marina\", \"count\": 2, \"incident_date_2\": \"2019-02\"}, {\"incident_date\": \"2019-02\", \"analysis_neighborhood\": \"Lakeshore\", \"count\": 2, \"incident_date_2\": \"2019-02\"}, {\"incident_date\": \"2019-02\", \"analysis_neighborhood\": \"Inner Sunset\", \"count\": 2, \"incident_date_2\": \"2019-02\"}, {\"incident_date\": \"2019-02\", \"analysis_neighborhood\": \"Glen Park\", \"count\": 2, \"incident_date_2\": \"2019-02\"}, {\"incident_date\": \"2019-02\", \"analysis_neighborhood\": \"Excelsior\", \"count\": 2, \"incident_date_2\": \"2019-02\"}, {\"incident_date\": \"2018-06\", \"analysis_neighborhood\": \"Hayes Valley\", \"count\": 2, \"incident_date_2\": \"2018-06\"}, {\"incident_date\": \"2018-06\", \"analysis_neighborhood\": \"Lakeshore\", \"count\": 2, \"incident_date_2\": \"2018-06\"}, {\"incident_date\": \"2023-01\", \"analysis_neighborhood\": \"Visitacion Valley\", \"count\": 2, \"incident_date_2\": \"2023-01\"}, {\"incident_date\": \"2018-06\", \"analysis_neighborhood\": \"Mission Bay\", \"count\": 2, \"incident_date_2\": \"2018-06\"}, {\"incident_date\": \"2018-06\", \"analysis_neighborhood\": \"Nob Hill\", \"count\": 2, \"incident_date_2\": \"2018-06\"}, {\"incident_date\": \"2023-02\", \"analysis_neighborhood\": \"Castro/Upper Market\", \"count\": 2, \"incident_date_2\": \"2023-02\"}, {\"incident_date\": \"2018-12\", \"analysis_neighborhood\": \"Outer Richmond\", \"count\": 2, \"incident_date_2\": \"2018-12\"}, {\"incident_date\": \"2018-06\", \"analysis_neighborhood\": \"Noe Valley\", \"count\": 2, \"incident_date_2\": \"2018-06\"}, {\"incident_date\": \"2018-12\", \"analysis_neighborhood\": \"Marina\", \"count\": 2, \"incident_date_2\": \"2018-12\"}, {\"incident_date\": \"2023-02\", \"analysis_neighborhood\": \"Excelsior\", \"count\": 2, \"incident_date_2\": \"2023-02\"}, {\"incident_date\": \"2023-02\", \"analysis_neighborhood\": \"Hayes Valley\", \"count\": 2, \"incident_date_2\": \"2023-02\"}, {\"incident_date\": \"2018-11\", \"analysis_neighborhood\": \"Visitacion Valley\", \"count\": 2, \"incident_date_2\": \"2018-11\"}, {\"incident_date\": \"2019-10\", \"analysis_neighborhood\": \"Japantown\", \"count\": 2, \"incident_date_2\": \"2019-10\"}, {\"incident_date\": \"2021-12\", \"analysis_neighborhood\": \"North Beach\", \"count\": 2, \"incident_date_2\": \"2021-12\"}, {\"incident_date\": \"2020-02\", \"analysis_neighborhood\": \"Castro/Upper Market\", \"count\": 2, \"incident_date_2\": \"2020-02\"}, {\"incident_date\": \"2018-04\", \"analysis_neighborhood\": \"Golden Gate Park\", \"count\": 2, \"incident_date_2\": \"2018-04\"}, {\"incident_date\": \"2020-02\", \"analysis_neighborhood\": \"Bernal Heights\", \"count\": 2, \"incident_date_2\": \"2020-02\"}, {\"incident_date\": \"2020-01\", \"analysis_neighborhood\": \"West of Twin Peaks\", \"count\": 2, \"incident_date_2\": \"2020-01\"}, {\"incident_date\": \"2022-09\", \"analysis_neighborhood\": \"Castro/Upper Market\", \"count\": 2, \"incident_date_2\": \"2022-09\"}, {\"incident_date\": \"2022-07\", \"analysis_neighborhood\": \"Nob Hill\", \"count\": 2, \"incident_date_2\": \"2022-07\"}, {\"incident_date\": \"2020-07\", \"analysis_neighborhood\": \"Potrero Hill\", \"count\": 2, \"incident_date_2\": \"2020-07\"}, {\"incident_date\": \"2020-01\", \"analysis_neighborhood\": \"Sunset/Parkside\", \"count\": 2, \"incident_date_2\": \"2020-01\"}, {\"incident_date\": \"2018-04\", \"analysis_neighborhood\": \"Lone Mountain/USF\", \"count\": 2, \"incident_date_2\": \"2018-04\"}, {\"incident_date\": \"2022-09\", \"analysis_neighborhood\": \"Hayes Valley\", \"count\": 2, \"incident_date_2\": \"2022-09\"}, {\"incident_date\": \"2020-07\", \"analysis_neighborhood\": \"Russian Hill\", \"count\": 2, \"incident_date_2\": \"2020-07\"}, {\"incident_date\": \"2020-04\", \"analysis_neighborhood\": \"Castro/Upper Market\", \"count\": 2, \"incident_date_2\": \"2020-04\"}, {\"incident_date\": \"2020-04\", \"analysis_neighborhood\": \"Chinatown\", \"count\": 2, \"incident_date_2\": \"2020-04\"}, {\"incident_date\": \"2020-08\", \"analysis_neighborhood\": \"Financial District/South Beach\", \"count\": 2, \"incident_date_2\": \"2020-08\"}, {\"incident_date\": \"2018-04\", \"analysis_neighborhood\": \"Outer Richmond\", \"count\": 2, \"incident_date_2\": \"2018-04\"}, {\"incident_date\": \"2020-05\", \"analysis_neighborhood\": \"Marina\", \"count\": 2, \"incident_date_2\": \"2020-05\"}, {\"incident_date\": \"2020-04\", \"analysis_neighborhood\": \"Mission Bay\", \"count\": 2, \"incident_date_2\": \"2020-04\"}, {\"incident_date\": \"2020-02\", \"analysis_neighborhood\": \"Chinatown\", \"count\": 2, \"incident_date_2\": \"2020-02\"}, {\"incident_date\": \"2020-07\", \"analysis_neighborhood\": \"Castro/Upper Market\", \"count\": 2, \"incident_date_2\": \"2020-07\"}, {\"incident_date\": \"2022-06\", \"analysis_neighborhood\": \"West of Twin Peaks\", \"count\": 2, \"incident_date_2\": \"2022-06\"}, {\"incident_date\": \"2018-01\", \"analysis_neighborhood\": \"Russian Hill\", \"count\": 2, \"incident_date_2\": \"2018-01\"}, {\"incident_date\": \"2020-03\", \"analysis_neighborhood\": \"Bernal Heights\", \"count\": 2, \"incident_date_2\": \"2020-03\"}, {\"incident_date\": \"2020-06\", \"analysis_neighborhood\": \"Golden Gate Park\", \"count\": 2, \"incident_date_2\": \"2020-06\"}, {\"incident_date\": \"2018-01\", \"analysis_neighborhood\": \"Potrero Hill\", \"count\": 2, \"incident_date_2\": \"2018-01\"}, {\"incident_date\": \"2022-07\", \"analysis_neighborhood\": \"Sunset/Parkside\", \"count\": 2, \"incident_date_2\": \"2022-07\"}, {\"incident_date\": \"2022-08\", \"analysis_neighborhood\": \"West of Twin Peaks\", \"count\": 2, \"incident_date_2\": \"2022-08\"}, {\"incident_date\": \"2020-06\", \"analysis_neighborhood\": \"Pacific Heights\", \"count\": 2, \"incident_date_2\": \"2020-06\"}, {\"incident_date\": \"2020-06\", \"analysis_neighborhood\": \"Financial District/South Beach\", \"count\": 2, \"incident_date_2\": \"2020-06\"}, {\"incident_date\": \"2020-06\", \"analysis_neighborhood\": \"Russian Hill\", \"count\": 2, \"incident_date_2\": \"2020-06\"}, {\"incident_date\": \"2020-05\", \"analysis_neighborhood\": \"Western Addition\", \"count\": 2, \"incident_date_2\": \"2020-05\"}, {\"incident_date\": \"2020-06\", \"analysis_neighborhood\": \"Western Addition\", \"count\": 2, \"incident_date_2\": \"2020-06\"}, {\"incident_date\": \"2022-08\", \"analysis_neighborhood\": \"Sunset/Parkside\", \"count\": 2, \"incident_date_2\": \"2022-08\"}, {\"incident_date\": \"2020-02\", \"analysis_neighborhood\": \"Potrero Hill\", \"count\": 2, \"incident_date_2\": \"2020-02\"}, {\"incident_date\": \"2020-02\", \"analysis_neighborhood\": \"Outer Mission\", \"count\": 2, \"incident_date_2\": \"2020-02\"}, {\"incident_date\": \"2018-04\", \"analysis_neighborhood\": \"Nob Hill\", \"count\": 2, \"incident_date_2\": \"2018-04\"}, {\"incident_date\": \"2020-02\", \"analysis_neighborhood\": \"Lone Mountain/USF\", \"count\": 2, \"incident_date_2\": \"2020-02\"}, {\"incident_date\": \"2022-08\", \"analysis_neighborhood\": \"Inner Richmond\", \"count\": 2, \"incident_date_2\": \"2022-08\"}, {\"incident_date\": \"2022-09\", \"analysis_neighborhood\": \"Lone Mountain/USF\", \"count\": 2, \"incident_date_2\": \"2022-09\"}, {\"incident_date\": \"2018-01\", \"analysis_neighborhood\": \"Western Addition\", \"count\": 2, \"incident_date_2\": \"2018-01\"}, {\"incident_date\": \"2020-09\", \"analysis_neighborhood\": \"Marina\", \"count\": 2, \"incident_date_2\": \"2020-09\"}, {\"incident_date\": \"2019-10\", \"analysis_neighborhood\": \"North Beach\", \"count\": 2, \"incident_date_2\": \"2019-10\"}, {\"incident_date\": \"2020-04\", \"analysis_neighborhood\": \"Western Addition\", \"count\": 2, \"incident_date_2\": \"2020-04\"}, {\"incident_date\": \"2022-10\", \"analysis_neighborhood\": \"Pacific Heights\", \"count\": 2, \"incident_date_2\": \"2022-10\"}, {\"incident_date\": \"2018-04\", \"analysis_neighborhood\": \"Hayes Valley\", \"count\": 2, \"incident_date_2\": \"2018-04\"}, {\"incident_date\": \"2022-10\", \"analysis_neighborhood\": \"Outer Richmond\", \"count\": 2, \"incident_date_2\": \"2022-10\"}, {\"incident_date\": \"2022-08\", \"analysis_neighborhood\": \"Bayview Hunters Point\", \"count\": 2, \"incident_date_2\": \"2022-08\"}, {\"incident_date\": \"2022-10\", \"analysis_neighborhood\": \"Nob Hill\", \"count\": 2, \"incident_date_2\": \"2022-10\"}, {\"incident_date\": \"2020-04\", \"analysis_neighborhood\": \"Potrero Hill\", \"count\": 2, \"incident_date_2\": \"2020-04\"}, {\"incident_date\": \"2018-01\", \"analysis_neighborhood\": \"Oceanview/Merced/Ingleside\", \"count\": 2, \"incident_date_2\": \"2018-01\"}, {\"incident_date\": \"2022-06\", \"analysis_neighborhood\": \"Outer Richmond\", \"count\": 2, \"incident_date_2\": \"2022-06\"}, {\"incident_date\": \"2022-06\", \"analysis_neighborhood\": \"Potrero Hill\", \"count\": 2, \"incident_date_2\": \"2022-06\"}, {\"incident_date\": \"2022-10\", \"analysis_neighborhood\": \"Hayes Valley\", \"count\": 2, \"incident_date_2\": \"2022-10\"}, {\"incident_date\": \"2019-11\", \"analysis_neighborhood\": \"Lakeshore\", \"count\": 2, \"incident_date_2\": \"2019-11\"}, {\"incident_date\": \"2022-06\", \"analysis_neighborhood\": \"Presidio Heights\", \"count\": 2, \"incident_date_2\": \"2022-06\"}, {\"incident_date\": \"2020-05\", \"analysis_neighborhood\": \"Inner Richmond\", \"count\": 2, \"incident_date_2\": \"2020-05\"}, {\"incident_date\": \"2020-06\", \"analysis_neighborhood\": \"Hayes Valley\", \"count\": 2, \"incident_date_2\": \"2020-06\"}, {\"incident_date\": \"2018-02\", \"analysis_neighborhood\": \"Bayview Hunters Point\", \"count\": 2, \"incident_date_2\": \"2018-02\"}, {\"incident_date\": \"2020-08\", \"analysis_neighborhood\": \"Sunset/Parkside\", \"count\": 2, \"incident_date_2\": \"2020-08\"}, {\"incident_date\": \"2020-01\", \"analysis_neighborhood\": \"Bernal Heights\", \"count\": 2, \"incident_date_2\": \"2020-01\"}, {\"incident_date\": \"2019-11\", \"analysis_neighborhood\": \"North Beach\", \"count\": 2, \"incident_date_2\": \"2019-11\"}, {\"incident_date\": \"2019-12\", \"analysis_neighborhood\": \"Twin Peaks\", \"count\": 2, \"incident_date_2\": \"2019-12\"}, {\"incident_date\": \"2022-10\", \"analysis_neighborhood\": \"Castro/Upper Market\", \"count\": 2, \"incident_date_2\": \"2022-10\"}, {\"incident_date\": \"2022-10\", \"analysis_neighborhood\": \"Bernal Heights\", \"count\": 2, \"incident_date_2\": \"2022-10\"}, {\"incident_date\": \"2019-12\", \"analysis_neighborhood\": \"Golden Gate Park\", \"count\": 2, \"incident_date_2\": \"2019-12\"}, {\"incident_date\": \"2020-05\", \"analysis_neighborhood\": \"Lone Mountain/USF\", \"count\": 2, \"incident_date_2\": \"2020-05\"}, {\"incident_date\": \"2022-09\", \"analysis_neighborhood\": \"Potrero Hill\", \"count\": 2, \"incident_date_2\": \"2022-09\"}, {\"incident_date\": \"2018-01\", \"analysis_neighborhood\": \"Outer Richmond\", \"count\": 2, \"incident_date_2\": \"2018-01\"}, {\"incident_date\": \"2020-04\", \"analysis_neighborhood\": \"Portola\", \"count\": 2, \"incident_date_2\": \"2020-04\"}, {\"incident_date\": \"2019-12\", \"analysis_neighborhood\": \"Sunset/Parkside\", \"count\": 2, \"incident_date_2\": \"2019-12\"}, {\"incident_date\": \"2020-09\", \"analysis_neighborhood\": \"Excelsior\", \"count\": 2, \"incident_date_2\": \"2020-09\"}, {\"incident_date\": \"2022-08\", \"analysis_neighborhood\": \"Golden Gate Park\", \"count\": 1, \"incident_date_2\": \"2022-08\"}, {\"incident_date\": \"2022-01\", \"analysis_neighborhood\": \"Outer Mission\", \"count\": 1, \"incident_date_2\": \"2022-01\"}, {\"incident_date\": \"2022-08\", \"analysis_neighborhood\": \"Chinatown\", \"count\": 1, \"incident_date_2\": \"2022-08\"}, {\"incident_date\": \"2022-07\", \"analysis_neighborhood\": \"West of Twin Peaks\", \"count\": 1, \"incident_date_2\": \"2022-07\"}, {\"incident_date\": \"2023-01\", \"analysis_neighborhood\": \"Outer Richmond\", \"count\": 1, \"incident_date_2\": \"2023-01\"}, {\"incident_date\": \"2023-02\", \"analysis_neighborhood\": \"Chinatown\", \"count\": 1, \"incident_date_2\": \"2023-02\"}, {\"incident_date\": \"2023-02\", \"analysis_neighborhood\": \"Haight Ashbury\", \"count\": 1, \"incident_date_2\": \"2023-02\"}, {\"incident_date\": \"2022-07\", \"analysis_neighborhood\": \"Visitacion Valley\", \"count\": 1, \"incident_date_2\": \"2022-07\"}, {\"incident_date\": \"2023-01\", \"analysis_neighborhood\": \"West of Twin Peaks\", \"count\": 1, \"incident_date_2\": \"2023-01\"}, {\"incident_date\": \"2022-10\", \"analysis_neighborhood\": \"Russian Hill\", \"count\": 1, \"incident_date_2\": \"2022-10\"}, {\"incident_date\": \"2023-02\", \"analysis_neighborhood\": \"Japantown\", \"count\": 1, \"incident_date_2\": \"2023-02\"}, {\"incident_date\": \"2022-01\", \"analysis_neighborhood\": \"Mission Bay\", \"count\": 1, \"incident_date_2\": \"2022-01\"}, {\"incident_date\": \"2022-06\", \"analysis_neighborhood\": \"North Beach\", \"count\": 1, \"incident_date_2\": \"2022-06\"}, {\"incident_date\": \"2021-12\", \"analysis_neighborhood\": \"Outer Mission\", \"count\": 1, \"incident_date_2\": \"2021-12\"}, {\"incident_date\": \"2021-12\", \"analysis_neighborhood\": \"Pacific Heights\", \"count\": 1, \"incident_date_2\": \"2021-12\"}, {\"incident_date\": \"2022-06\", \"analysis_neighborhood\": \"Hayes Valley\", \"count\": 1, \"incident_date_2\": \"2022-06\"}, {\"incident_date\": \"2023-03\", \"analysis_neighborhood\": \"Outer Richmond\", \"count\": 1, \"incident_date_2\": \"2023-03\"}, {\"incident_date\": \"2023-03\", \"analysis_neighborhood\": \"Glen Park\", \"count\": 1, \"incident_date_2\": \"2023-03\"}, {\"incident_date\": \"2022-06\", \"analysis_neighborhood\": \"Castro/Upper Market\", \"count\": 1, \"incident_date_2\": \"2022-06\"}, {\"incident_date\": \"2023-03\", \"analysis_neighborhood\": \"Bayview Hunters Point\", \"count\": 1, \"incident_date_2\": \"2023-03\"}, {\"incident_date\": \"2018-02\", \"analysis_neighborhood\": \"Portola\", \"count\": 1, \"incident_date_2\": \"2018-02\"}, {\"incident_date\": \"2022-06\", \"analysis_neighborhood\": \"Russian Hill\", \"count\": 1, \"incident_date_2\": \"2022-06\"}, {\"incident_date\": \"2021-12\", \"analysis_neighborhood\": \"Visitacion Valley\", \"count\": 1, \"incident_date_2\": \"2021-12\"}, {\"incident_date\": \"2021-12\", \"analysis_neighborhood\": \"Western Addition\", \"count\": 1, \"incident_date_2\": \"2021-12\"}, {\"incident_date\": \"2022-06\", \"analysis_neighborhood\": \"Bernal Heights\", \"count\": 1, \"incident_date_2\": \"2022-06\"}, {\"incident_date\": \"2022-07\", \"analysis_neighborhood\": \"Castro/Upper Market\", \"count\": 1, \"incident_date_2\": \"2022-07\"}, {\"incident_date\": \"2022-01\", \"analysis_neighborhood\": \"Bernal Heights\", \"count\": 1, \"incident_date_2\": \"2022-01\"}, {\"incident_date\": \"2022-07\", \"analysis_neighborhood\": \"Hayes Valley\", \"count\": 1, \"incident_date_2\": \"2022-07\"}, {\"incident_date\": \"2022-07\", \"analysis_neighborhood\": \"Lone Mountain/USF\", \"count\": 1, \"incident_date_2\": \"2022-07\"}, {\"incident_date\": \"2018-02\", \"analysis_neighborhood\": \"Nob Hill\", \"count\": 1, \"incident_date_2\": \"2018-02\"}, {\"incident_date\": \"2022-01\", \"analysis_neighborhood\": \"Hayes Valley\", \"count\": 1, \"incident_date_2\": \"2022-01\"}, {\"incident_date\": \"2022-07\", \"analysis_neighborhood\": \"North Beach\", \"count\": 1, \"incident_date_2\": \"2022-07\"}, {\"incident_date\": \"2023-02\", \"analysis_neighborhood\": \"Noe Valley\", \"count\": 1, \"incident_date_2\": \"2023-02\"}, {\"incident_date\": \"2023-02\", \"analysis_neighborhood\": \"Nob Hill\", \"count\": 1, \"incident_date_2\": \"2023-02\"}, {\"incident_date\": \"2022-07\", \"analysis_neighborhood\": \"Outer Richmond\", \"count\": 1, \"incident_date_2\": \"2022-07\"}, {\"incident_date\": \"2022-05\", \"analysis_neighborhood\": \"Treasure Island\", \"count\": 1, \"incident_date_2\": \"2022-05\"}, {\"incident_date\": \"2023-02\", \"analysis_neighborhood\": \"Lone Mountain/USF\", \"count\": 1, \"incident_date_2\": \"2023-02\"}, {\"incident_date\": \"2023-02\", \"analysis_neighborhood\": \"Lakeshore\", \"count\": 1, \"incident_date_2\": \"2023-02\"}, {\"incident_date\": \"2018-01\", \"analysis_neighborhood\": \"Twin Peaks\", \"count\": 1, \"incident_date_2\": \"2018-01\"}, {\"incident_date\": \"2022-05\", \"analysis_neighborhood\": \"Pacific Heights\", \"count\": 1, \"incident_date_2\": \"2022-05\"}, {\"incident_date\": \"2018-01\", \"analysis_neighborhood\": \"Lakeshore\", \"count\": 1, \"incident_date_2\": \"2018-01\"}, {\"incident_date\": \"2022-08\", \"analysis_neighborhood\": \"Haight Ashbury\", \"count\": 1, \"incident_date_2\": \"2022-08\"}, {\"incident_date\": \"2022-06\", \"analysis_neighborhood\": \"Nob Hill\", \"count\": 1, \"incident_date_2\": \"2022-06\"}, {\"incident_date\": \"2022-11\", \"analysis_neighborhood\": \"Western Addition\", \"count\": 1, \"incident_date_2\": \"2022-11\"}, {\"incident_date\": \"2022-11\", \"analysis_neighborhood\": \"Visitacion Valley\", \"count\": 1, \"incident_date_2\": \"2022-11\"}, {\"incident_date\": \"2022-09\", \"analysis_neighborhood\": \"Golden Gate Park\", \"count\": 1, \"incident_date_2\": \"2022-09\"}, {\"incident_date\": \"2022-03\", \"analysis_neighborhood\": \"Hayes Valley\", \"count\": 1, \"incident_date_2\": \"2022-03\"}, {\"incident_date\": \"2022-03\", \"analysis_neighborhood\": \"Inner Sunset\", \"count\": 1, \"incident_date_2\": \"2022-03\"}, {\"incident_date\": \"2022-11\", \"analysis_neighborhood\": \"Twin Peaks\", \"count\": 1, \"incident_date_2\": \"2022-11\"}, {\"incident_date\": \"2021-12\", \"analysis_neighborhood\": \"Noe Valley\", \"count\": 1, \"incident_date_2\": \"2021-12\"}, {\"incident_date\": \"2022-03\", \"analysis_neighborhood\": \"Japantown\", \"count\": 1, \"incident_date_2\": \"2022-03\"}, {\"incident_date\": \"2018-01\", \"analysis_neighborhood\": \"Lone Mountain/USF\", \"count\": 1, \"incident_date_2\": \"2018-01\"}, {\"incident_date\": \"2022-09\", \"analysis_neighborhood\": \"Mission Bay\", \"count\": 1, \"incident_date_2\": \"2022-09\"}, {\"incident_date\": \"2022-04\", \"analysis_neighborhood\": \"Sunset/Parkside\", \"count\": 1, \"incident_date_2\": \"2022-04\"}, {\"incident_date\": \"2022-09\", \"analysis_neighborhood\": \"North Beach\", \"count\": 1, \"incident_date_2\": \"2022-09\"}, {\"incident_date\": \"2022-09\", \"analysis_neighborhood\": \"Outer Richmond\", \"count\": 1, \"incident_date_2\": \"2022-09\"}, {\"incident_date\": \"2022-04\", \"analysis_neighborhood\": \"Outer Mission\", \"count\": 1, \"incident_date_2\": \"2022-04\"}, {\"incident_date\": \"2022-09\", \"analysis_neighborhood\": \"Russian Hill\", \"count\": 1, \"incident_date_2\": \"2022-09\"}, {\"incident_date\": \"2022-08\", \"analysis_neighborhood\": \"Hayes Valley\", \"count\": 1, \"incident_date_2\": \"2022-08\"}, {\"incident_date\": \"2022-03\", \"analysis_neighborhood\": \"Mission Bay\", \"count\": 1, \"incident_date_2\": \"2022-03\"}, {\"incident_date\": \"2022-09\", \"analysis_neighborhood\": \"Sunset/Parkside\", \"count\": 1, \"incident_date_2\": \"2022-09\"}, {\"incident_date\": \"2022-11\", \"analysis_neighborhood\": \"Excelsior\", \"count\": 1, \"incident_date_2\": \"2022-11\"}, {\"incident_date\": \"2022-03\", \"analysis_neighborhood\": \"Russian Hill\", \"count\": 1, \"incident_date_2\": \"2022-03\"}, {\"incident_date\": \"2018-02\", \"analysis_neighborhood\": \"Inner Sunset\", \"count\": 1, \"incident_date_2\": \"2018-02\"}, {\"incident_date\": \"2022-10\", \"analysis_neighborhood\": \"Japantown\", \"count\": 1, \"incident_date_2\": \"2022-10\"}, {\"incident_date\": \"2022-10\", \"analysis_neighborhood\": \"Marina\", \"count\": 1, \"incident_date_2\": \"2022-10\"}, {\"incident_date\": \"2018-02\", \"analysis_neighborhood\": \"Hayes Valley\", \"count\": 1, \"incident_date_2\": \"2018-02\"}, {\"incident_date\": \"2018-02\", \"analysis_neighborhood\": \"Haight Ashbury\", \"count\": 1, \"incident_date_2\": \"2018-02\"}, {\"incident_date\": \"2022-10\", \"analysis_neighborhood\": \"West of Twin Peaks\", \"count\": 1, \"incident_date_2\": \"2022-10\"}, {\"incident_date\": \"2022-04\", \"analysis_neighborhood\": \"Marina\", \"count\": 1, \"incident_date_2\": \"2022-04\"}, {\"incident_date\": \"2022-04\", \"analysis_neighborhood\": \"Hayes Valley\", \"count\": 1, \"incident_date_2\": \"2022-04\"}, {\"incident_date\": \"2018-01\", \"analysis_neighborhood\": \"North Beach\", \"count\": 1, \"incident_date_2\": \"2018-01\"}, {\"incident_date\": \"2022-04\", \"analysis_neighborhood\": \"Bernal Heights\", \"count\": 1, \"incident_date_2\": \"2022-04\"}, {\"incident_date\": \"2022-05\", \"analysis_neighborhood\": \"Bernal Heights\", \"count\": 1, \"incident_date_2\": \"2022-05\"}, {\"incident_date\": \"2022-03\", \"analysis_neighborhood\": \"Bernal Heights\", \"count\": 1, \"incident_date_2\": \"2022-03\"}, {\"incident_date\": \"2022-09\", \"analysis_neighborhood\": \"Bernal Heights\", \"count\": 1, \"incident_date_2\": \"2022-09\"}, {\"incident_date\": \"2022-02\", \"analysis_neighborhood\": \"West of Twin Peaks\", \"count\": 1, \"incident_date_2\": \"2022-02\"}, {\"incident_date\": \"2023-01\", \"analysis_neighborhood\": \"North Beach\", \"count\": 1, \"incident_date_2\": \"2023-01\"}, {\"incident_date\": \"2023-01\", \"analysis_neighborhood\": \"Noe Valley\", \"count\": 1, \"incident_date_2\": \"2023-01\"}, {\"incident_date\": \"2023-01\", \"analysis_neighborhood\": \"Marina\", \"count\": 1, \"incident_date_2\": \"2023-01\"}, {\"incident_date\": \"2023-01\", \"analysis_neighborhood\": \"Haight Ashbury\", \"count\": 1, \"incident_date_2\": \"2023-01\"}, {\"incident_date\": \"2023-01\", \"analysis_neighborhood\": \"Chinatown\", \"count\": 1, \"incident_date_2\": \"2023-01\"}, {\"incident_date\": \"2022-02\", \"analysis_neighborhood\": \"Bernal Heights\", \"count\": 1, \"incident_date_2\": \"2022-02\"}, {\"incident_date\": \"2022-02\", \"analysis_neighborhood\": \"Castro/Upper Market\", \"count\": 1, \"incident_date_2\": \"2022-02\"}, {\"incident_date\": \"2022-02\", \"analysis_neighborhood\": \"Haight Ashbury\", \"count\": 1, \"incident_date_2\": \"2022-02\"}, {\"incident_date\": \"2022-02\", \"analysis_neighborhood\": \"Inner Richmond\", \"count\": 1, \"incident_date_2\": \"2022-02\"}, {\"incident_date\": \"2022-08\", \"analysis_neighborhood\": \"Portola\", \"count\": 1, \"incident_date_2\": \"2022-08\"}, {\"incident_date\": \"2022-04\", \"analysis_neighborhood\": \"Excelsior\", \"count\": 1, \"incident_date_2\": \"2022-04\"}, {\"incident_date\": \"2022-08\", \"analysis_neighborhood\": \"Russian Hill\", \"count\": 1, \"incident_date_2\": \"2022-08\"}, {\"incident_date\": \"2022-12\", \"analysis_neighborhood\": \"Potrero Hill\", \"count\": 1, \"incident_date_2\": \"2022-12\"}, {\"incident_date\": \"2022-12\", \"analysis_neighborhood\": \"Portola\", \"count\": 1, \"incident_date_2\": \"2022-12\"}, {\"incident_date\": \"2022-08\", \"analysis_neighborhood\": \"Twin Peaks\", \"count\": 1, \"incident_date_2\": \"2022-08\"}, {\"incident_date\": \"2022-08\", \"analysis_neighborhood\": \"Visitacion Valley\", \"count\": 1, \"incident_date_2\": \"2022-08\"}, {\"incident_date\": \"2022-02\", \"analysis_neighborhood\": \"North Beach\", \"count\": 1, \"incident_date_2\": \"2022-02\"}, {\"incident_date\": \"2022-12\", \"analysis_neighborhood\": \"North Beach\", \"count\": 1, \"incident_date_2\": \"2022-12\"}, {\"incident_date\": \"2022-02\", \"analysis_neighborhood\": \"Oceanview/Merced/Ingleside\", \"count\": 1, \"incident_date_2\": \"2022-02\"}, {\"incident_date\": \"2022-05\", \"analysis_neighborhood\": \"Lone Mountain/USF\", \"count\": 1, \"incident_date_2\": \"2022-05\"}, {\"incident_date\": \"2022-12\", \"analysis_neighborhood\": \"Mission Bay\", \"count\": 1, \"incident_date_2\": \"2022-12\"}, {\"incident_date\": \"2022-12\", \"analysis_neighborhood\": \"Marina\", \"count\": 1, \"incident_date_2\": \"2022-12\"}, {\"incident_date\": \"2022-12\", \"analysis_neighborhood\": \"Lone Mountain/USF\", \"count\": 1, \"incident_date_2\": \"2022-12\"}, {\"incident_date\": \"2022-02\", \"analysis_neighborhood\": \"Pacific Heights\", \"count\": 1, \"incident_date_2\": \"2022-02\"}, {\"incident_date\": \"2022-12\", \"analysis_neighborhood\": \"Japantown\", \"count\": 1, \"incident_date_2\": \"2022-12\"}, {\"incident_date\": \"2018-02\", \"analysis_neighborhood\": \"Mission Bay\", \"count\": 1, \"incident_date_2\": \"2018-02\"}, {\"incident_date\": \"2022-05\", \"analysis_neighborhood\": \"Glen Park\", \"count\": 1, \"incident_date_2\": \"2022-05\"}, {\"incident_date\": \"2018-02\", \"analysis_neighborhood\": \"Marina\", \"count\": 1, \"incident_date_2\": \"2018-02\"}, {\"incident_date\": \"2022-05\", \"analysis_neighborhood\": \"Chinatown\", \"count\": 1, \"incident_date_2\": \"2022-05\"}, {\"incident_date\": \"2018-02\", \"analysis_neighborhood\": \"Bernal Heights\", \"count\": 1, \"incident_date_2\": \"2018-02\"}, {\"incident_date\": \"2018-07\", \"analysis_neighborhood\": \"Inner Sunset\", \"count\": 1, \"incident_date_2\": \"2018-07\"}, {\"incident_date\": \"2021-12\", \"analysis_neighborhood\": \"Nob Hill\", \"count\": 1, \"incident_date_2\": \"2021-12\"}, {\"incident_date\": \"2019-09\", \"analysis_neighborhood\": \"Inner Richmond\", \"count\": 1, \"incident_date_2\": \"2019-09\"}, {\"incident_date\": \"2019-09\", \"analysis_neighborhood\": \"Lone Mountain/USF\", \"count\": 1, \"incident_date_2\": \"2019-09\"}, {\"incident_date\": \"2019-09\", \"analysis_neighborhood\": \"Marina\", \"count\": 1, \"incident_date_2\": \"2019-09\"}, {\"incident_date\": \"2019-09\", \"analysis_neighborhood\": \"Pacific Heights\", \"count\": 1, \"incident_date_2\": \"2019-09\"}, {\"incident_date\": \"2019-09\", \"analysis_neighborhood\": \"Russian Hill\", \"count\": 1, \"incident_date_2\": \"2019-09\"}, {\"incident_date\": \"2019-10\", \"analysis_neighborhood\": \"Chinatown\", \"count\": 1, \"incident_date_2\": \"2019-10\"}, {\"incident_date\": \"2018-05\", \"analysis_neighborhood\": \"Bernal Heights\", \"count\": 1, \"incident_date_2\": \"2018-05\"}, {\"incident_date\": \"2019-10\", \"analysis_neighborhood\": \"Outer Richmond\", \"count\": 1, \"incident_date_2\": \"2019-10\"}, {\"incident_date\": \"2019-10\", \"analysis_neighborhood\": \"Potrero Hill\", \"count\": 1, \"incident_date_2\": \"2019-10\"}, {\"incident_date\": \"2019-10\", \"analysis_neighborhood\": \"Russian Hill\", \"count\": 1, \"incident_date_2\": \"2019-10\"}, {\"incident_date\": \"2019-10\", \"analysis_neighborhood\": \"Sunset/Parkside\", \"count\": 1, \"incident_date_2\": \"2019-10\"}, {\"incident_date\": \"2019-10\", \"analysis_neighborhood\": \"Western Addition\", \"count\": 1, \"incident_date_2\": \"2019-10\"}, {\"incident_date\": \"2019-11\", \"analysis_neighborhood\": \"Bernal Heights\", \"count\": 1, \"incident_date_2\": \"2019-11\"}, {\"incident_date\": \"2019-11\", \"analysis_neighborhood\": \"Chinatown\", \"count\": 1, \"incident_date_2\": \"2019-11\"}, {\"incident_date\": \"2019-11\", \"analysis_neighborhood\": \"Hayes Valley\", \"count\": 1, \"incident_date_2\": \"2019-11\"}, {\"incident_date\": \"2019-11\", \"analysis_neighborhood\": \"Inner Richmond\", \"count\": 1, \"incident_date_2\": \"2019-11\"}, {\"incident_date\": \"2019-09\", \"analysis_neighborhood\": \"Lakeshore\", \"count\": 1, \"incident_date_2\": \"2019-09\"}, {\"incident_date\": \"2019-09\", \"analysis_neighborhood\": \"Glen Park\", \"count\": 1, \"incident_date_2\": \"2019-09\"}, {\"incident_date\": \"2019-11\", \"analysis_neighborhood\": \"Outer Richmond\", \"count\": 1, \"incident_date_2\": \"2019-11\"}, {\"incident_date\": \"2019-08\", \"analysis_neighborhood\": \"Twin Peaks\", \"count\": 1, \"incident_date_2\": \"2019-08\"}, {\"incident_date\": \"2019-06\", \"analysis_neighborhood\": \"Outer Mission\", \"count\": 1, \"incident_date_2\": \"2019-06\"}, {\"incident_date\": \"2019-06\", \"analysis_neighborhood\": \"Outer Richmond\", \"count\": 1, \"incident_date_2\": \"2019-06\"}, {\"incident_date\": \"2018-05\", \"analysis_neighborhood\": \"Outer Mission\", \"count\": 1, \"incident_date_2\": \"2018-05\"}, {\"incident_date\": \"2019-06\", \"analysis_neighborhood\": \"Sunset/Parkside\", \"count\": 1, \"incident_date_2\": \"2019-06\"}, {\"incident_date\": \"2019-07\", \"analysis_neighborhood\": \"Excelsior\", \"count\": 1, \"incident_date_2\": \"2019-07\"}, {\"incident_date\": \"2018-05\", \"analysis_neighborhood\": \"Nob Hill\", \"count\": 1, \"incident_date_2\": \"2018-05\"}, {\"incident_date\": \"2019-07\", \"analysis_neighborhood\": \"Hayes Valley\", \"count\": 1, \"incident_date_2\": \"2019-07\"}, {\"incident_date\": \"2019-07\", \"analysis_neighborhood\": \"Japantown\", \"count\": 1, \"incident_date_2\": \"2019-07\"}, {\"incident_date\": \"2019-07\", \"analysis_neighborhood\": \"Oceanview/Merced/Ingleside\", \"count\": 1, \"incident_date_2\": \"2019-07\"}, {\"incident_date\": \"2019-07\", \"analysis_neighborhood\": \"Pacific Heights\", \"count\": 1, \"incident_date_2\": \"2019-07\"}, {\"incident_date\": \"2018-05\", \"analysis_neighborhood\": \"Inner Richmond\", \"count\": 1, \"incident_date_2\": \"2018-05\"}, {\"incident_date\": \"2019-07\", \"analysis_neighborhood\": \"Treasure Island\", \"count\": 1, \"incident_date_2\": \"2019-07\"}, {\"incident_date\": \"2019-08\", \"analysis_neighborhood\": \"Bayview Hunters Point\", \"count\": 1, \"incident_date_2\": \"2019-08\"}, {\"incident_date\": \"2019-08\", \"analysis_neighborhood\": \"Financial District/South Beach\", \"count\": 1, \"incident_date_2\": \"2019-08\"}, {\"incident_date\": \"2019-08\", \"analysis_neighborhood\": \"Marina\", \"count\": 1, \"incident_date_2\": \"2019-08\"}, {\"incident_date\": \"2019-11\", \"analysis_neighborhood\": \"Noe Valley\", \"count\": 1, \"incident_date_2\": \"2019-11\"}, {\"incident_date\": \"2019-11\", \"analysis_neighborhood\": \"Potrero Hill\", \"count\": 1, \"incident_date_2\": \"2019-11\"}, {\"incident_date\": \"2018-02\", \"analysis_neighborhood\": \"Potrero Hill\", \"count\": 1, \"incident_date_2\": \"2018-02\"}, {\"incident_date\": \"2020-01\", \"analysis_neighborhood\": \"Visitacion Valley\", \"count\": 1, \"incident_date_2\": \"2020-01\"}, {\"incident_date\": \"2020-02\", \"analysis_neighborhood\": \"Pacific Heights\", \"count\": 1, \"incident_date_2\": \"2020-02\"}, {\"incident_date\": \"2020-02\", \"analysis_neighborhood\": \"Portola\", \"count\": 1, \"incident_date_2\": \"2020-02\"}, {\"incident_date\": \"2020-02\", \"analysis_neighborhood\": \"Russian Hill\", \"count\": 1, \"incident_date_2\": \"2020-02\"}, {\"incident_date\": \"2018-04\", \"analysis_neighborhood\": \"Marina\", \"count\": 1, \"incident_date_2\": \"2018-04\"}, {\"incident_date\": \"2020-03\", \"analysis_neighborhood\": \"Chinatown\", \"count\": 1, \"incident_date_2\": \"2020-03\"}, {\"incident_date\": \"2020-03\", \"analysis_neighborhood\": \"Excelsior\", \"count\": 1, \"incident_date_2\": \"2020-03\"}, {\"incident_date\": \"2020-03\", \"analysis_neighborhood\": \"Golden Gate Park\", \"count\": 1, \"incident_date_2\": \"2020-03\"}, {\"incident_date\": \"2020-03\", \"analysis_neighborhood\": \"Hayes Valley\", \"count\": 1, \"incident_date_2\": \"2020-03\"}, {\"incident_date\": \"2020-03\", \"analysis_neighborhood\": \"Marina\", \"count\": 1, \"incident_date_2\": \"2020-03\"}, {\"incident_date\": \"2020-03\", \"analysis_neighborhood\": \"Outer Richmond\", \"count\": 1, \"incident_date_2\": \"2020-03\"}, {\"incident_date\": \"2020-03\", \"analysis_neighborhood\": \"Russian Hill\", \"count\": 1, \"incident_date_2\": \"2020-03\"}, {\"incident_date\": \"2020-03\", \"analysis_neighborhood\": \"Sunset/Parkside\", \"count\": 1, \"incident_date_2\": \"2020-03\"}, {\"incident_date\": \"2020-04\", \"analysis_neighborhood\": \"Haight Ashbury\", \"count\": 1, \"incident_date_2\": \"2020-04\"}, {\"incident_date\": \"2020-04\", \"analysis_neighborhood\": \"Marina\", \"count\": 1, \"incident_date_2\": \"2020-04\"}, {\"incident_date\": \"2020-04\", \"analysis_neighborhood\": \"Noe Valley\", \"count\": 1, \"incident_date_2\": \"2020-04\"}, {\"incident_date\": \"2020-02\", \"analysis_neighborhood\": \"Inner Richmond\", \"count\": 1, \"incident_date_2\": \"2020-02\"}, {\"incident_date\": \"2018-04\", \"analysis_neighborhood\": \"Oceanview/Merced/Ingleside\", \"count\": 1, \"incident_date_2\": \"2018-04\"}, {\"incident_date\": \"2019-12\", \"analysis_neighborhood\": \"Excelsior\", \"count\": 1, \"incident_date_2\": \"2019-12\"}, {\"incident_date\": \"2020-01\", \"analysis_neighborhood\": \"Pacific Heights\", \"count\": 1, \"incident_date_2\": \"2020-01\"}, {\"incident_date\": \"2019-12\", \"analysis_neighborhood\": \"Glen Park\", \"count\": 1, \"incident_date_2\": \"2019-12\"}, {\"incident_date\": \"2019-12\", \"analysis_neighborhood\": \"Inner Sunset\", \"count\": 1, \"incident_date_2\": \"2019-12\"}, {\"incident_date\": \"2018-04\", \"analysis_neighborhood\": \"Presidio Heights\", \"count\": 1, \"incident_date_2\": \"2018-04\"}, {\"incident_date\": \"2019-12\", \"analysis_neighborhood\": \"Mission Bay\", \"count\": 1, \"incident_date_2\": \"2019-12\"}, {\"incident_date\": \"2019-12\", \"analysis_neighborhood\": \"Outer Mission\", \"count\": 1, \"incident_date_2\": \"2019-12\"}, {\"incident_date\": \"2019-12\", \"analysis_neighborhood\": \"Pacific Heights\", \"count\": 1, \"incident_date_2\": \"2019-12\"}, {\"incident_date\": \"2019-12\", \"analysis_neighborhood\": \"Portola\", \"count\": 1, \"incident_date_2\": \"2019-12\"}, {\"incident_date\": \"2018-04\", \"analysis_neighborhood\": \"Pacific Heights\", \"count\": 1, \"incident_date_2\": \"2018-04\"}, {\"incident_date\": \"2020-01\", \"analysis_neighborhood\": \"Chinatown\", \"count\": 1, \"incident_date_2\": \"2020-01\"}, {\"incident_date\": \"2020-01\", \"analysis_neighborhood\": \"Excelsior\", \"count\": 1, \"incident_date_2\": \"2020-01\"}, {\"incident_date\": \"2020-01\", \"analysis_neighborhood\": \"Hayes Valley\", \"count\": 1, \"incident_date_2\": \"2020-01\"}, {\"incident_date\": \"2020-01\", \"analysis_neighborhood\": \"Lakeshore\", \"count\": 1, \"incident_date_2\": \"2020-01\"}, {\"incident_date\": \"2020-01\", \"analysis_neighborhood\": \"Lone Mountain/USF\", \"count\": 1, \"incident_date_2\": \"2020-01\"}, {\"incident_date\": \"2020-01\", \"analysis_neighborhood\": \"Marina\", \"count\": 1, \"incident_date_2\": \"2020-01\"}, {\"incident_date\": \"2020-01\", \"analysis_neighborhood\": \"Outer Mission\", \"count\": 1, \"incident_date_2\": \"2020-01\"}, {\"incident_date\": \"2019-06\", \"analysis_neighborhood\": \"Inner Sunset\", \"count\": 1, \"incident_date_2\": \"2019-06\"}, {\"incident_date\": \"2019-06\", \"analysis_neighborhood\": \"Inner Richmond\", \"count\": 1, \"incident_date_2\": \"2019-06\"}, {\"incident_date\": \"2019-06\", \"analysis_neighborhood\": \"Glen Park\", \"count\": 1, \"incident_date_2\": \"2019-06\"}, {\"incident_date\": \"2018-11\", \"analysis_neighborhood\": \"Glen Park\", \"count\": 1, \"incident_date_2\": \"2018-11\"}, {\"incident_date\": \"2018-11\", \"analysis_neighborhood\": \"Inner Sunset\", \"count\": 1, \"incident_date_2\": \"2018-11\"}, {\"incident_date\": \"2018-11\", \"analysis_neighborhood\": \"Lone Mountain/USF\", \"count\": 1, \"incident_date_2\": \"2018-11\"}, {\"incident_date\": \"2018-06\", \"analysis_neighborhood\": \"Portola\", \"count\": 1, \"incident_date_2\": \"2018-06\"}, {\"incident_date\": \"2018-11\", \"analysis_neighborhood\": \"Russian Hill\", \"count\": 1, \"incident_date_2\": \"2018-11\"}, {\"incident_date\": \"2018-11\", \"analysis_neighborhood\": \"West of Twin Peaks\", \"count\": 1, \"incident_date_2\": \"2018-11\"}, {\"incident_date\": \"2018-12\", \"analysis_neighborhood\": \"Excelsior\", \"count\": 1, \"incident_date_2\": \"2018-12\"}, {\"incident_date\": \"2018-12\", \"analysis_neighborhood\": \"Golden Gate Park\", \"count\": 1, \"incident_date_2\": \"2018-12\"}, {\"incident_date\": \"2018-12\", \"analysis_neighborhood\": \"Hayes Valley\", \"count\": 1, \"incident_date_2\": \"2018-12\"}, {\"incident_date\": \"2018-12\", \"analysis_neighborhood\": \"Inner Richmond\", \"count\": 1, \"incident_date_2\": \"2018-12\"}, {\"incident_date\": \"2018-12\", \"analysis_neighborhood\": \"Noe Valley\", \"count\": 1, \"incident_date_2\": \"2018-12\"}, {\"incident_date\": \"2018-12\", \"analysis_neighborhood\": \"Portola\", \"count\": 1, \"incident_date_2\": \"2018-12\"}, {\"incident_date\": \"2018-12\", \"analysis_neighborhood\": \"Presidio\", \"count\": 1, \"incident_date_2\": \"2018-12\"}, {\"incident_date\": \"2018-12\", \"analysis_neighborhood\": \"Sunset/Parkside\", \"count\": 1, \"incident_date_2\": \"2018-12\"}, {\"incident_date\": \"2019-01\", \"analysis_neighborhood\": \"Bernal Heights\", \"count\": 1, \"incident_date_2\": \"2019-01\"}, {\"incident_date\": \"2019-01\", \"analysis_neighborhood\": \"Inner Richmond\", \"count\": 1, \"incident_date_2\": \"2019-01\"}, {\"incident_date\": \"2018-11\", \"analysis_neighborhood\": \"Hayes Valley\", \"count\": 1, \"incident_date_2\": \"2018-11\"}, {\"incident_date\": \"2018-11\", \"analysis_neighborhood\": \"Excelsior\", \"count\": 1, \"incident_date_2\": \"2018-11\"}, {\"incident_date\": \"2019-06\", \"analysis_neighborhood\": \"Bayview Hunters Point\", \"count\": 1, \"incident_date_2\": \"2019-06\"}, {\"incident_date\": \"2018-10\", \"analysis_neighborhood\": \"Twin Peaks\", \"count\": 1, \"incident_date_2\": \"2018-10\"}, {\"incident_date\": \"2018-07\", \"analysis_neighborhood\": \"North Beach\", \"count\": 1, \"incident_date_2\": \"2018-07\"}, {\"incident_date\": \"2018-07\", \"analysis_neighborhood\": \"Oceanview/Merced/Ingleside\", \"count\": 1, \"incident_date_2\": \"2018-07\"}, {\"incident_date\": \"2018-07\", \"analysis_neighborhood\": \"Portola\", \"count\": 1, \"incident_date_2\": \"2018-07\"}, {\"incident_date\": \"2018-07\", \"analysis_neighborhood\": \"Potrero Hill\", \"count\": 1, \"incident_date_2\": \"2018-07\"}, {\"incident_date\": \"2018-07\", \"analysis_neighborhood\": \"Presidio Heights\", \"count\": 1, \"incident_date_2\": \"2018-07\"}, {\"incident_date\": \"2018-07\", \"analysis_neighborhood\": \"Visitacion Valley\", \"count\": 1, \"incident_date_2\": \"2018-07\"}, {\"incident_date\": \"2018-08\", \"analysis_neighborhood\": \"Nob Hill\", \"count\": 1, \"incident_date_2\": \"2018-08\"}, {\"incident_date\": \"2018-08\", \"analysis_neighborhood\": \"Potrero Hill\", \"count\": 1, \"incident_date_2\": \"2018-08\"}, {\"incident_date\": \"2018-08\", \"analysis_neighborhood\": \"Treasure Island\", \"count\": 1, \"incident_date_2\": \"2018-08\"}, {\"incident_date\": \"2018-09\", \"analysis_neighborhood\": \"Glen Park\", \"count\": 1, \"incident_date_2\": \"2018-09\"}, {\"incident_date\": \"2018-09\", \"analysis_neighborhood\": \"Golden Gate Park\", \"count\": 1, \"incident_date_2\": \"2018-09\"}, {\"incident_date\": \"2018-09\", \"analysis_neighborhood\": \"Haight Ashbury\", \"count\": 1, \"incident_date_2\": \"2018-09\"}, {\"incident_date\": \"2018-09\", \"analysis_neighborhood\": \"Marina\", \"count\": 1, \"incident_date_2\": \"2018-09\"}, {\"incident_date\": \"2018-09\", \"analysis_neighborhood\": \"Russian Hill\", \"count\": 1, \"incident_date_2\": \"2018-09\"}, {\"incident_date\": \"2018-10\", \"analysis_neighborhood\": \"Inner Sunset\", \"count\": 1, \"incident_date_2\": \"2018-10\"}, {\"incident_date\": \"2019-01\", \"analysis_neighborhood\": \"Lone Mountain/USF\", \"count\": 1, \"incident_date_2\": \"2019-01\"}, {\"incident_date\": \"2019-01\", \"analysis_neighborhood\": \"Marina\", \"count\": 1, \"incident_date_2\": \"2019-01\"}, {\"incident_date\": \"2018-06\", \"analysis_neighborhood\": \"Marina\", \"count\": 1, \"incident_date_2\": \"2018-06\"}, {\"incident_date\": \"2019-01\", \"analysis_neighborhood\": \"Sunset/Parkside\", \"count\": 1, \"incident_date_2\": \"2019-01\"}, {\"incident_date\": \"2019-04\", \"analysis_neighborhood\": \"Inner Richmond\", \"count\": 1, \"incident_date_2\": \"2019-04\"}, {\"incident_date\": \"2019-04\", \"analysis_neighborhood\": \"Japantown\", \"count\": 1, \"incident_date_2\": \"2019-04\"}, {\"incident_date\": \"2019-04\", \"analysis_neighborhood\": \"Outer Richmond\", \"count\": 1, \"incident_date_2\": \"2019-04\"}, {\"incident_date\": \"2018-05\", \"analysis_neighborhood\": \"Russian Hill\", \"count\": 1, \"incident_date_2\": \"2018-05\"}, {\"incident_date\": \"2019-04\", \"analysis_neighborhood\": \"Visitacion Valley\", \"count\": 1, \"incident_date_2\": \"2019-04\"}, {\"incident_date\": \"2019-04\", \"analysis_neighborhood\": \"West of Twin Peaks\", \"count\": 1, \"incident_date_2\": \"2019-04\"}, {\"incident_date\": \"2019-05\", \"analysis_neighborhood\": \"Chinatown\", \"count\": 1, \"incident_date_2\": \"2019-05\"}, {\"incident_date\": \"2019-05\", \"analysis_neighborhood\": \"Excelsior\", \"count\": 1, \"incident_date_2\": \"2019-05\"}, {\"incident_date\": \"2019-05\", \"analysis_neighborhood\": \"Glen Park\", \"count\": 1, \"incident_date_2\": \"2019-05\"}, {\"incident_date\": \"2019-05\", \"analysis_neighborhood\": \"Golden Gate Park\", \"count\": 1, \"incident_date_2\": \"2019-05\"}, {\"incident_date\": \"2019-05\", \"analysis_neighborhood\": \"Lone Mountain/USF\", \"count\": 1, \"incident_date_2\": \"2019-05\"}, {\"incident_date\": \"2019-05\", \"analysis_neighborhood\": \"Marina\", \"count\": 1, \"incident_date_2\": \"2019-05\"}, {\"incident_date\": \"2019-05\", \"analysis_neighborhood\": \"Mission Bay\", \"count\": 1, \"incident_date_2\": \"2019-05\"}, {\"incident_date\": \"2019-05\", \"analysis_neighborhood\": \"Noe Valley\", \"count\": 1, \"incident_date_2\": \"2019-05\"}, {\"incident_date\": \"2019-05\", \"analysis_neighborhood\": \"Presidio Heights\", \"count\": 1, \"incident_date_2\": \"2019-05\"}, {\"incident_date\": \"2019-04\", \"analysis_neighborhood\": \"Hayes Valley\", \"count\": 1, \"incident_date_2\": \"2019-04\"}, {\"incident_date\": \"2019-03\", \"analysis_neighborhood\": \"Visitacion Valley\", \"count\": 1, \"incident_date_2\": \"2019-03\"}, {\"incident_date\": \"2019-03\", \"analysis_neighborhood\": \"Twin Peaks\", \"count\": 1, \"incident_date_2\": \"2019-03\"}, {\"incident_date\": \"2019-02\", \"analysis_neighborhood\": \"Twin Peaks\", \"count\": 1, \"incident_date_2\": \"2019-02\"}, {\"incident_date\": \"2019-02\", \"analysis_neighborhood\": \"Bernal Heights\", \"count\": 1, \"incident_date_2\": \"2019-02\"}, {\"incident_date\": \"2019-02\", \"analysis_neighborhood\": \"Oceanview/Merced/Ingleside\", \"count\": 1, \"incident_date_2\": \"2019-02\"}, {\"incident_date\": \"2019-02\", \"analysis_neighborhood\": \"Outer Richmond\", \"count\": 1, \"incident_date_2\": \"2019-02\"}, {\"incident_date\": \"2019-02\", \"analysis_neighborhood\": \"Pacific Heights\", \"count\": 1, \"incident_date_2\": \"2019-02\"}, {\"incident_date\": \"2019-02\", \"analysis_neighborhood\": \"Presidio\", \"count\": 1, \"incident_date_2\": \"2019-02\"}, {\"incident_date\": \"2018-06\", \"analysis_neighborhood\": \"Excelsior\", \"count\": 1, \"incident_date_2\": \"2018-06\"}, {\"incident_date\": \"2019-02\", \"analysis_neighborhood\": \"West of Twin Peaks\", \"count\": 1, \"incident_date_2\": \"2019-02\"}, {\"incident_date\": \"2019-03\", \"analysis_neighborhood\": \"Russian Hill\", \"count\": 1, \"incident_date_2\": \"2019-03\"}, {\"incident_date\": \"2019-02\", \"analysis_neighborhood\": \"Western Addition\", \"count\": 1, \"incident_date_2\": \"2019-02\"}, {\"incident_date\": \"2019-03\", \"analysis_neighborhood\": \"Castro/Upper Market\", \"count\": 1, \"incident_date_2\": \"2019-03\"}, {\"incident_date\": \"2019-03\", \"analysis_neighborhood\": \"Outer Mission\", \"count\": 1, \"incident_date_2\": \"2019-03\"}, {\"incident_date\": \"2019-03\", \"analysis_neighborhood\": \"Potrero Hill\", \"count\": 1, \"incident_date_2\": \"2019-03\"}, {\"incident_date\": \"2019-03\", \"analysis_neighborhood\": \"Presidio\", \"count\": 1, \"incident_date_2\": \"2019-03\"}, {\"incident_date\": \"2019-03\", \"analysis_neighborhood\": \"Presidio Heights\", \"count\": 1, \"incident_date_2\": \"2019-03\"}, {\"incident_date\": \"2020-04\", \"analysis_neighborhood\": \"Outer Richmond\", \"count\": 1, \"incident_date_2\": \"2020-04\"}, {\"incident_date\": \"2020-04\", \"analysis_neighborhood\": \"Sunset/Parkside\", \"count\": 1, \"incident_date_2\": \"2020-04\"}, {\"incident_date\": \"2020-05\", \"analysis_neighborhood\": \"Bernal Heights\", \"count\": 1, \"incident_date_2\": \"2020-05\"}, {\"incident_date\": \"2021-05\", \"analysis_neighborhood\": \"North Beach\", \"count\": 1, \"incident_date_2\": \"2021-05\"}, {\"incident_date\": \"2021-05\", \"analysis_neighborhood\": \"Visitacion Valley\", \"count\": 1, \"incident_date_2\": \"2021-05\"}, {\"incident_date\": \"2021-05\", \"analysis_neighborhood\": \"Western Addition\", \"count\": 1, \"incident_date_2\": \"2021-05\"}, {\"incident_date\": \"2021-06\", \"analysis_neighborhood\": \"Chinatown\", \"count\": 1, \"incident_date_2\": \"2021-06\"}, {\"incident_date\": \"2021-06\", \"analysis_neighborhood\": \"Inner Richmond\", \"count\": 1, \"incident_date_2\": \"2021-06\"}, {\"incident_date\": \"2021-06\", \"analysis_neighborhood\": \"Mission Bay\", \"count\": 1, \"incident_date_2\": \"2021-06\"}, {\"incident_date\": \"2021-06\", \"analysis_neighborhood\": \"Pacific Heights\", \"count\": 1, \"incident_date_2\": \"2021-06\"}, {\"incident_date\": \"2021-06\", \"analysis_neighborhood\": \"Potrero Hill\", \"count\": 1, \"incident_date_2\": \"2021-06\"}, {\"incident_date\": \"2021-06\", \"analysis_neighborhood\": \"Presidio Heights\", \"count\": 1, \"incident_date_2\": \"2021-06\"}, {\"incident_date\": \"2021-06\", \"analysis_neighborhood\": \"Russian Hill\", \"count\": 1, \"incident_date_2\": \"2021-06\"}, {\"incident_date\": \"2021-06\", \"analysis_neighborhood\": \"Sunset/Parkside\", \"count\": 1, \"incident_date_2\": \"2021-06\"}, {\"incident_date\": \"2021-07\", \"analysis_neighborhood\": \"Inner Richmond\", \"count\": 1, \"incident_date_2\": \"2021-07\"}, {\"incident_date\": \"2021-07\", \"analysis_neighborhood\": \"Lakeshore\", \"count\": 1, \"incident_date_2\": \"2021-07\"}, {\"incident_date\": \"2021-07\", \"analysis_neighborhood\": \"Marina\", \"count\": 1, \"incident_date_2\": \"2021-07\"}, {\"incident_date\": \"2021-07\", \"analysis_neighborhood\": \"Outer Mission\", \"count\": 1, \"incident_date_2\": \"2021-07\"}, {\"incident_date\": \"2021-07\", \"analysis_neighborhood\": \"Portola\", \"count\": 1, \"incident_date_2\": \"2021-07\"}, {\"incident_date\": \"2018-03\", \"analysis_neighborhood\": \"Inner Sunset\", \"count\": 1, \"incident_date_2\": \"2018-03\"}, {\"incident_date\": \"2021-05\", \"analysis_neighborhood\": \"Excelsior\", \"count\": 1, \"incident_date_2\": \"2021-05\"}, {\"incident_date\": \"2021-02\", \"analysis_neighborhood\": \"Russian Hill\", \"count\": 1, \"incident_date_2\": \"2021-02\"}, {\"incident_date\": \"2021-05\", \"analysis_neighborhood\": \"Castro/Upper Market\", \"count\": 1, \"incident_date_2\": \"2021-05\"}, {\"incident_date\": \"2021-03\", \"analysis_neighborhood\": \"Excelsior\", \"count\": 1, \"incident_date_2\": \"2021-03\"}, {\"incident_date\": \"2021-03\", \"analysis_neighborhood\": \"Hayes Valley\", \"count\": 1, \"incident_date_2\": \"2021-03\"}, {\"incident_date\": \"2021-03\", \"analysis_neighborhood\": \"Lone Mountain/USF\", \"count\": 1, \"incident_date_2\": \"2021-03\"}, {\"incident_date\": \"2021-03\", \"analysis_neighborhood\": \"Marina\", \"count\": 1, \"incident_date_2\": \"2021-03\"}, {\"incident_date\": \"2021-03\", \"analysis_neighborhood\": \"Outer Mission\", \"count\": 1, \"incident_date_2\": \"2021-03\"}, {\"incident_date\": \"2021-03\", \"analysis_neighborhood\": \"Outer Richmond\", \"count\": 1, \"incident_date_2\": \"2021-03\"}, {\"incident_date\": \"2021-03\", \"analysis_neighborhood\": \"Pacific Heights\", \"count\": 1, \"incident_date_2\": \"2021-03\"}, {\"incident_date\": \"2021-03\", \"analysis_neighborhood\": \"Portola\", \"count\": 1, \"incident_date_2\": \"2021-03\"}, {\"incident_date\": \"2021-03\", \"analysis_neighborhood\": \"Sunset/Parkside\", \"count\": 1, \"incident_date_2\": \"2021-03\"}, {\"incident_date\": \"2021-03\", \"analysis_neighborhood\": \"Western Addition\", \"count\": 1, \"incident_date_2\": \"2021-03\"}, {\"incident_date\": \"2021-04\", \"analysis_neighborhood\": \"Haight Ashbury\", \"count\": 1, \"incident_date_2\": \"2021-04\"}, {\"incident_date\": \"2021-04\", \"analysis_neighborhood\": \"Hayes Valley\", \"count\": 1, \"incident_date_2\": \"2021-04\"}, {\"incident_date\": \"2021-04\", \"analysis_neighborhood\": \"Oceanview/Merced/Ingleside\", \"count\": 1, \"incident_date_2\": \"2021-04\"}, {\"incident_date\": \"2021-04\", \"analysis_neighborhood\": \"Russian Hill\", \"count\": 1, \"incident_date_2\": \"2021-04\"}, {\"incident_date\": \"2021-05\", \"analysis_neighborhood\": \"Bernal Heights\", \"count\": 1, \"incident_date_2\": \"2021-05\"}, {\"incident_date\": \"2021-07\", \"analysis_neighborhood\": \"Potrero Hill\", \"count\": 1, \"incident_date_2\": \"2021-07\"}, {\"incident_date\": \"2021-07\", \"analysis_neighborhood\": \"Sunset/Parkside\", \"count\": 1, \"incident_date_2\": \"2021-07\"}, {\"incident_date\": \"2018-03\", \"analysis_neighborhood\": \"Glen Park\", \"count\": 1, \"incident_date_2\": \"2018-03\"}, {\"incident_date\": \"2021-08\", \"analysis_neighborhood\": \"Hayes Valley\", \"count\": 1, \"incident_date_2\": \"2021-08\"}, {\"incident_date\": \"2021-10\", \"analysis_neighborhood\": \"Marina\", \"count\": 1, \"incident_date_2\": \"2021-10\"}, {\"incident_date\": \"2021-10\", \"analysis_neighborhood\": \"Sunset/Parkside\", \"count\": 1, \"incident_date_2\": \"2021-10\"}, {\"incident_date\": \"2021-11\", \"analysis_neighborhood\": \"Chinatown\", \"count\": 1, \"incident_date_2\": \"2021-11\"}, {\"incident_date\": \"2021-11\", \"analysis_neighborhood\": \"Glen Park\", \"count\": 1, \"incident_date_2\": \"2021-11\"}, {\"incident_date\": \"2021-11\", \"analysis_neighborhood\": \"Haight Ashbury\", \"count\": 1, \"incident_date_2\": \"2021-11\"}, {\"incident_date\": \"2021-11\", \"analysis_neighborhood\": \"Marina\", \"count\": 1, \"incident_date_2\": \"2021-11\"}, {\"incident_date\": \"2021-11\", \"analysis_neighborhood\": \"McLaren Park\", \"count\": 1, \"incident_date_2\": \"2021-11\"}, {\"incident_date\": \"2021-11\", \"analysis_neighborhood\": \"Pacific Heights\", \"count\": 1, \"incident_date_2\": \"2021-11\"}, {\"incident_date\": \"2021-11\", \"analysis_neighborhood\": \"Portola\", \"count\": 1, \"incident_date_2\": \"2021-11\"}, {\"incident_date\": \"2021-11\", \"analysis_neighborhood\": \"Sunset/Parkside\", \"count\": 1, \"incident_date_2\": \"2021-11\"}, {\"incident_date\": \"2018-02\", \"analysis_neighborhood\": \"Russian Hill\", \"count\": 1, \"incident_date_2\": \"2018-02\"}, {\"incident_date\": \"2021-11\", \"analysis_neighborhood\": \"Visitacion Valley\", \"count\": 1, \"incident_date_2\": \"2021-11\"}, {\"incident_date\": \"2021-11\", \"analysis_neighborhood\": \"West of Twin Peaks\", \"count\": 1, \"incident_date_2\": \"2021-11\"}, {\"incident_date\": \"2021-12\", \"analysis_neighborhood\": \"Lakeshore\", \"count\": 1, \"incident_date_2\": \"2021-12\"}, {\"incident_date\": \"2021-12\", \"analysis_neighborhood\": \"Marina\", \"count\": 1, \"incident_date_2\": \"2021-12\"}, {\"incident_date\": \"2021-10\", \"analysis_neighborhood\": \"Japantown\", \"count\": 1, \"incident_date_2\": \"2021-10\"}, {\"incident_date\": \"2021-09\", \"analysis_neighborhood\": \"West of Twin Peaks\", \"count\": 1, \"incident_date_2\": \"2021-09\"}, {\"incident_date\": \"2021-09\", \"analysis_neighborhood\": \"Sunset/Parkside\", \"count\": 1, \"incident_date_2\": \"2021-09\"}, {\"incident_date\": \"2021-08\", \"analysis_neighborhood\": \"Treasure Island\", \"count\": 1, \"incident_date_2\": \"2021-08\"}, {\"incident_date\": \"2021-08\", \"analysis_neighborhood\": \"Inner Richmond\", \"count\": 1, \"incident_date_2\": \"2021-08\"}, {\"incident_date\": \"2021-08\", \"analysis_neighborhood\": \"Lakeshore\", \"count\": 1, \"incident_date_2\": \"2021-08\"}, {\"incident_date\": \"2021-08\", \"analysis_neighborhood\": \"Lone Mountain/USF\", \"count\": 1, \"incident_date_2\": \"2021-08\"}, {\"incident_date\": \"2021-08\", \"analysis_neighborhood\": \"Oceanview/Merced/Ingleside\", \"count\": 1, \"incident_date_2\": \"2021-08\"}, {\"incident_date\": \"2021-08\", \"analysis_neighborhood\": \"Portola\", \"count\": 1, \"incident_date_2\": \"2021-08\"}, {\"incident_date\": \"2021-08\", \"analysis_neighborhood\": \"Russian Hill\", \"count\": 1, \"incident_date_2\": \"2021-08\"}, {\"incident_date\": \"2021-09\", \"analysis_neighborhood\": \"Bernal Heights\", \"count\": 1, \"incident_date_2\": \"2021-09\"}, {\"incident_date\": \"2021-09\", \"analysis_neighborhood\": \"Potrero Hill\", \"count\": 1, \"incident_date_2\": \"2021-09\"}, {\"incident_date\": \"2021-09\", \"analysis_neighborhood\": \"Inner Sunset\", \"count\": 1, \"incident_date_2\": \"2021-09\"}, {\"incident_date\": \"2021-09\", \"analysis_neighborhood\": \"Marina\", \"count\": 1, \"incident_date_2\": \"2021-09\"}, {\"incident_date\": \"2021-09\", \"analysis_neighborhood\": \"North Beach\", \"count\": 1, \"incident_date_2\": \"2021-09\"}, {\"incident_date\": \"2021-09\", \"analysis_neighborhood\": \"Oceanview/Merced/Ingleside\", \"count\": 1, \"incident_date_2\": \"2021-09\"}, {\"incident_date\": \"2021-09\", \"analysis_neighborhood\": \"Outer Mission\", \"count\": 1, \"incident_date_2\": \"2021-09\"}, {\"incident_date\": \"2021-09\", \"analysis_neighborhood\": \"Outer Richmond\", \"count\": 1, \"incident_date_2\": \"2021-09\"}, {\"incident_date\": \"2021-03\", \"analysis_neighborhood\": \"Chinatown\", \"count\": 1, \"incident_date_2\": \"2021-03\"}, {\"incident_date\": \"2021-02\", \"analysis_neighborhood\": \"Outer Richmond\", \"count\": 1, \"incident_date_2\": \"2021-02\"}, {\"incident_date\": \"2020-05\", \"analysis_neighborhood\": \"Chinatown\", \"count\": 1, \"incident_date_2\": \"2020-05\"}, {\"incident_date\": \"2020-07\", \"analysis_neighborhood\": \"Sunset/Parkside\", \"count\": 1, \"incident_date_2\": \"2020-07\"}, {\"incident_date\": \"2020-08\", \"analysis_neighborhood\": \"Excelsior\", \"count\": 1, \"incident_date_2\": \"2020-08\"}, {\"incident_date\": \"2020-08\", \"analysis_neighborhood\": \"Lakeshore\", \"count\": 1, \"incident_date_2\": \"2020-08\"}, {\"incident_date\": \"2020-08\", \"analysis_neighborhood\": \"Lone Mountain/USF\", \"count\": 1, \"incident_date_2\": \"2020-08\"}, {\"incident_date\": \"2020-08\", \"analysis_neighborhood\": \"Marina\", \"count\": 1, \"incident_date_2\": \"2020-08\"}, {\"incident_date\": \"2020-08\", \"analysis_neighborhood\": \"Mission Bay\", \"count\": 1, \"incident_date_2\": \"2020-08\"}, {\"incident_date\": \"2020-08\", \"analysis_neighborhood\": \"Nob Hill\", \"count\": 1, \"incident_date_2\": \"2020-08\"}, {\"incident_date\": \"2020-08\", \"analysis_neighborhood\": \"Noe Valley\", \"count\": 1, \"incident_date_2\": \"2020-08\"}, {\"incident_date\": \"2020-08\", \"analysis_neighborhood\": \"Outer Mission\", \"count\": 1, \"incident_date_2\": \"2020-08\"}, {\"incident_date\": \"2020-08\", \"analysis_neighborhood\": \"Twin Peaks\", \"count\": 1, \"incident_date_2\": \"2020-08\"}, {\"incident_date\": \"2020-09\", \"analysis_neighborhood\": \"Lone Mountain/USF\", \"count\": 1, \"incident_date_2\": \"2020-09\"}, {\"incident_date\": \"2020-09\", \"analysis_neighborhood\": \"North Beach\", \"count\": 1, \"incident_date_2\": \"2020-09\"}, {\"incident_date\": \"2020-09\", \"analysis_neighborhood\": \"Oceanview/Merced/Ingleside\", \"count\": 1, \"incident_date_2\": \"2020-09\"}, {\"incident_date\": \"2020-09\", \"analysis_neighborhood\": \"Potrero Hill\", \"count\": 1, \"incident_date_2\": \"2020-09\"}, {\"incident_date\": \"2020-09\", \"analysis_neighborhood\": \"Russian Hill\", \"count\": 1, \"incident_date_2\": \"2020-09\"}, {\"incident_date\": \"2020-10\", \"analysis_neighborhood\": \"Bayview Hunters Point\", \"count\": 1, \"incident_date_2\": \"2020-10\"}, {\"incident_date\": \"2020-08\", \"analysis_neighborhood\": \"Bernal Heights\", \"count\": 1, \"incident_date_2\": \"2020-08\"}, {\"incident_date\": \"2020-07\", \"analysis_neighborhood\": \"Presidio Heights\", \"count\": 1, \"incident_date_2\": \"2020-07\"}, {\"incident_date\": \"2021-02\", \"analysis_neighborhood\": \"Noe Valley\", \"count\": 1, \"incident_date_2\": \"2021-02\"}, {\"incident_date\": \"2020-07\", \"analysis_neighborhood\": \"Noe Valley\", \"count\": 1, \"incident_date_2\": \"2020-07\"}, {\"incident_date\": \"2020-05\", \"analysis_neighborhood\": \"Financial District/South Beach\", \"count\": 1, \"incident_date_2\": \"2020-05\"}, {\"incident_date\": \"2020-05\", \"analysis_neighborhood\": \"Glen Park\", \"count\": 1, \"incident_date_2\": \"2020-05\"}, {\"incident_date\": \"2020-05\", \"analysis_neighborhood\": \"Haight Ashbury\", \"count\": 1, \"incident_date_2\": \"2020-05\"}, {\"incident_date\": \"2020-05\", \"analysis_neighborhood\": \"Hayes Valley\", \"count\": 1, \"incident_date_2\": \"2020-05\"}, {\"incident_date\": \"2020-05\", \"analysis_neighborhood\": \"Inner Sunset\", \"count\": 1, \"incident_date_2\": \"2020-05\"}, {\"incident_date\": \"2020-05\", \"analysis_neighborhood\": \"Mission Bay\", \"count\": 1, \"incident_date_2\": \"2020-05\"}, {\"incident_date\": \"2020-05\", \"analysis_neighborhood\": \"Outer Richmond\", \"count\": 1, \"incident_date_2\": \"2020-05\"}, {\"incident_date\": \"2020-06\", \"analysis_neighborhood\": \"Lakeshore\", \"count\": 1, \"incident_date_2\": \"2020-06\"}, {\"incident_date\": \"2020-06\", \"analysis_neighborhood\": \"North Beach\", \"count\": 1, \"incident_date_2\": \"2020-06\"}, {\"incident_date\": \"2020-06\", \"analysis_neighborhood\": \"Outer Mission\", \"count\": 1, \"incident_date_2\": \"2020-06\"}, {\"incident_date\": \"2020-07\", \"analysis_neighborhood\": \"Bayview Hunters Point\", \"count\": 1, \"incident_date_2\": \"2020-07\"}, {\"incident_date\": \"2020-07\", \"analysis_neighborhood\": \"Chinatown\", \"count\": 1, \"incident_date_2\": \"2020-07\"}, {\"incident_date\": \"2020-07\", \"analysis_neighborhood\": \"Golden Gate Park\", \"count\": 1, \"incident_date_2\": \"2020-07\"}, {\"incident_date\": \"2020-07\", \"analysis_neighborhood\": \"Haight Ashbury\", \"count\": 1, \"incident_date_2\": \"2020-07\"}, {\"incident_date\": \"2020-07\", \"analysis_neighborhood\": \"Mission Bay\", \"count\": 1, \"incident_date_2\": \"2020-07\"}, {\"incident_date\": \"2020-10\", \"analysis_neighborhood\": \"Chinatown\", \"count\": 1, \"incident_date_2\": \"2020-10\"}, {\"incident_date\": \"2020-10\", \"analysis_neighborhood\": \"Glen Park\", \"count\": 1, \"incident_date_2\": \"2020-10\"}, {\"incident_date\": \"2020-10\", \"analysis_neighborhood\": \"Haight Ashbury\", \"count\": 1, \"incident_date_2\": \"2020-10\"}, {\"incident_date\": \"2020-10\", \"analysis_neighborhood\": \"Hayes Valley\", \"count\": 1, \"incident_date_2\": \"2020-10\"}, {\"incident_date\": \"2018-03\", \"analysis_neighborhood\": \"Presidio Heights\", \"count\": 1, \"incident_date_2\": \"2018-03\"}, {\"incident_date\": \"2020-12\", \"analysis_neighborhood\": \"Treasure Island\", \"count\": 1, \"incident_date_2\": \"2020-12\"}, {\"incident_date\": \"2021-01\", \"analysis_neighborhood\": \"Chinatown\", \"count\": 1, \"incident_date_2\": \"2021-01\"}, {\"incident_date\": \"2021-01\", \"analysis_neighborhood\": \"Golden Gate Park\", \"count\": 1, \"incident_date_2\": \"2021-01\"}, {\"incident_date\": \"2021-01\", \"analysis_neighborhood\": \"Hayes Valley\", \"count\": 1, \"incident_date_2\": \"2021-01\"}, {\"incident_date\": \"2021-01\", \"analysis_neighborhood\": \"Inner Sunset\", \"count\": 1, \"incident_date_2\": \"2021-01\"}, {\"incident_date\": \"2021-01\", \"analysis_neighborhood\": \"Mission Bay\", \"count\": 1, \"incident_date_2\": \"2021-01\"}, {\"incident_date\": \"2021-01\", \"analysis_neighborhood\": \"Noe Valley\", \"count\": 1, \"incident_date_2\": \"2021-01\"}, {\"incident_date\": \"2018-03\", \"analysis_neighborhood\": \"Pacific Heights\", \"count\": 1, \"incident_date_2\": \"2018-03\"}, {\"incident_date\": \"2021-01\", \"analysis_neighborhood\": \"Visitacion Valley\", \"count\": 1, \"incident_date_2\": \"2021-01\"}, {\"incident_date\": \"2021-02\", \"analysis_neighborhood\": \"Bernal Heights\", \"count\": 1, \"incident_date_2\": \"2021-02\"}, {\"incident_date\": \"2021-02\", \"analysis_neighborhood\": \"Excelsior\", \"count\": 1, \"incident_date_2\": \"2021-02\"}, {\"incident_date\": \"2021-02\", \"analysis_neighborhood\": \"Haight Ashbury\", \"count\": 1, \"incident_date_2\": \"2021-02\"}, {\"incident_date\": \"2021-02\", \"analysis_neighborhood\": \"Hayes Valley\", \"count\": 1, \"incident_date_2\": \"2021-02\"}, {\"incident_date\": \"2021-02\", \"analysis_neighborhood\": \"Inner Richmond\", \"count\": 1, \"incident_date_2\": \"2021-02\"}, {\"incident_date\": \"2020-12\", \"analysis_neighborhood\": \"Sunset/Parkside\", \"count\": 1, \"incident_date_2\": \"2020-12\"}, {\"incident_date\": \"2020-12\", \"analysis_neighborhood\": \"Outer Mission\", \"count\": 1, \"incident_date_2\": \"2020-12\"}, {\"incident_date\": \"2020-12\", \"analysis_neighborhood\": \"Oceanview/Merced/Ingleside\", \"count\": 1, \"incident_date_2\": \"2020-12\"}, {\"incident_date\": \"2020-11\", \"analysis_neighborhood\": \"Lone Mountain/USF\", \"count\": 1, \"incident_date_2\": \"2020-11\"}, {\"incident_date\": \"2020-10\", \"analysis_neighborhood\": \"Inner Sunset\", \"count\": 1, \"incident_date_2\": \"2020-10\"}, {\"incident_date\": \"2020-10\", \"analysis_neighborhood\": \"Lakeshore\", \"count\": 1, \"incident_date_2\": \"2020-10\"}, {\"incident_date\": \"2020-10\", \"analysis_neighborhood\": \"Pacific Heights\", \"count\": 1, \"incident_date_2\": \"2020-10\"}, {\"incident_date\": \"2020-10\", \"analysis_neighborhood\": \"Potrero Hill\", \"count\": 1, \"incident_date_2\": \"2020-10\"}, {\"incident_date\": \"2018-03\", \"analysis_neighborhood\": \"Visitacion Valley\", \"count\": 1, \"incident_date_2\": \"2018-03\"}, {\"incident_date\": \"2020-11\", \"analysis_neighborhood\": \"Golden Gate Park\", \"count\": 1, \"incident_date_2\": \"2020-11\"}, {\"incident_date\": \"2020-11\", \"analysis_neighborhood\": \"Marina\", \"count\": 1, \"incident_date_2\": \"2020-11\"}, {\"incident_date\": \"2020-12\", \"analysis_neighborhood\": \"North Beach\", \"count\": 1, \"incident_date_2\": \"2020-12\"}, {\"incident_date\": \"2020-11\", \"analysis_neighborhood\": \"Portola\", \"count\": 1, \"incident_date_2\": \"2020-11\"}, {\"incident_date\": \"2020-11\", \"analysis_neighborhood\": \"Potrero Hill\", \"count\": 1, \"incident_date_2\": \"2020-11\"}, {\"incident_date\": \"2020-11\", \"analysis_neighborhood\": \"Presidio Heights\", \"count\": 1, \"incident_date_2\": \"2020-11\"}, {\"incident_date\": \"2018-03\", \"analysis_neighborhood\": \"Twin Peaks\", \"count\": 1, \"incident_date_2\": \"2018-03\"}, {\"incident_date\": \"2020-12\", \"analysis_neighborhood\": \"Haight Ashbury\", \"count\": 1, \"incident_date_2\": \"2020-12\"}, {\"incident_date\": \"2020-12\", \"analysis_neighborhood\": \"Mission Bay\", \"count\": 1, \"incident_date_2\": \"2020-12\"}, {\"incident_date\": \"2020-04\", \"analysis_neighborhood\": \"North Beach\", \"count\": 1, \"incident_date_2\": \"2020-04\"}]}}, {\"mode\": \"vega-lite\"});\n",
       "</script>"
      ],
      "text/plain": [
       "alt.Chart(...)"
      ]
     },
     "execution_count": 69,
     "metadata": {},
     "output_type": "execute_result"
    }
   ],
   "source": [
    "# Visualization\n",
    "alt.Chart(sorted).mark_area(size=9,opacity=0.8).encode(\n",
    "    x= alt.X('incident_date:T',title='Date',axis=alt.Axis(domain=False, format='%Y.%m')),\n",
    "    y= alt.Y('count:Q',stack = 'normalize',title = 'Count'),\n",
    "    color=alt.Color(\"analysis_neighborhood\",legend=alt.Legend(title='Neighborhood', values=['Tenderloin', 'South of Market','Mission'])),\n",
    "    tooltip = [alt.Tooltip('incident_date_2',title = 'Date'),alt.Tooltip('count',title='Drug Arrests'),alt.Tooltip('analysis_neighborhood',title='Neighborhood')]\n",
    ").properties(\n",
    "    width=650,\n",
    "    height=350,\n",
    "    title='Total Drug Arrests by Neighborhoods (2018-now)'\n",
    ")"
   ]
  },
  {
   "cell_type": "markdown",
   "id": "2fef299b-2571-46df-8e2f-662ee0559482",
   "metadata": {},
   "source": [
    "From 2018, the number of drug-arrests in Tenderloin along is more than that in all the other neighborhoods combined."
   ]
  },
  {
   "cell_type": "code",
   "execution_count": 81,
   "id": "1811e254-5eeb-4816-abee-b39eb938cfba",
   "metadata": {
    "tags": []
   },
   "outputs": [
    {
     "data": {
      "text/html": [
       "<div>\n",
       "<style scoped>\n",
       "    .dataframe tbody tr th:only-of-type {\n",
       "        vertical-align: middle;\n",
       "    }\n",
       "\n",
       "    .dataframe tbody tr th {\n",
       "        vertical-align: top;\n",
       "    }\n",
       "\n",
       "    .dataframe thead th {\n",
       "        text-align: right;\n",
       "    }\n",
       "</style>\n",
       "<table border=\"1\" class=\"dataframe\">\n",
       "  <thead>\n",
       "    <tr style=\"text-align: right;\">\n",
       "      <th></th>\n",
       "      <th>tenderloin_incidents</th>\n",
       "      <th>other_incidents</th>\n",
       "    </tr>\n",
       "  </thead>\n",
       "  <tbody>\n",
       "    <tr>\n",
       "      <th>Totals</th>\n",
       "      <td>8613</td>\n",
       "      <td>8610</td>\n",
       "    </tr>\n",
       "  </tbody>\n",
       "</table>\n",
       "</div>"
      ],
      "text/plain": [
       "        tenderloin_incidents  other_incidents\n",
       "Totals                  8613             8610"
      ]
     },
     "execution_count": 81,
     "metadata": {},
     "output_type": "execute_result"
    }
   ],
   "source": [
    "# Outside of tenderloin\n",
    "other_neighbor = sorted.loc[sorted['analysis_neighborhood'] != 'Tenderloin']\n",
    "grouped_o = other_neighbor.groupby(['incident_date'])['count'].sum().reset_index()\n",
    "# Tenderloin\n",
    "tenderloin = sorted.loc[sorted['analysis_neighborhood'] == 'Tenderloin']\n",
    "grouped_t = tenderloin.groupby(['incident_date'])['count'].sum().reset_index()\n",
    "# Compare\n",
    "compare = pd.DataFrame({\n",
    "    'incident_date':grouped_t['incident_date'],\n",
    "    'tenderloin_incidents': grouped_t['count'],\n",
    "    'other_incidents':grouped_o['count']\n",
    "})\n",
    "totals = compare.drop('incident_date', axis=1).sum().to_frame().T\n",
    "totals.index = ['Totals']\n",
    "totals"
   ]
  },
  {
   "cell_type": "code",
   "execution_count": 101,
   "id": "29f1e205-a4f2-4876-adad-d49a6f7fb557",
   "metadata": {
    "tags": []
   },
   "outputs": [
    {
     "data": {
      "text/html": [
       "\n",
       "<div id=\"altair-viz-ed49a1769e6649cab8d6cab1caf563a1\"></div>\n",
       "<script type=\"text/javascript\">\n",
       "  var VEGA_DEBUG = (typeof VEGA_DEBUG == \"undefined\") ? {} : VEGA_DEBUG;\n",
       "  (function(spec, embedOpt){\n",
       "    let outputDiv = document.currentScript.previousElementSibling;\n",
       "    if (outputDiv.id !== \"altair-viz-ed49a1769e6649cab8d6cab1caf563a1\") {\n",
       "      outputDiv = document.getElementById(\"altair-viz-ed49a1769e6649cab8d6cab1caf563a1\");\n",
       "    }\n",
       "    const paths = {\n",
       "      \"vega\": \"https://cdn.jsdelivr.net/npm/vega@5?noext\",\n",
       "      \"vega-lib\": \"https://cdn.jsdelivr.net/npm/vega-lib?noext\",\n",
       "      \"vega-lite\": \"https://cdn.jsdelivr.net/npm/vega-lite@5.6.1?noext\",\n",
       "      \"vega-embed\": \"https://cdn.jsdelivr.net/npm/vega-embed@6?noext\",\n",
       "    };\n",
       "\n",
       "    function maybeLoadScript(lib, version) {\n",
       "      var key = `${lib.replace(\"-\", \"\")}_version`;\n",
       "      return (VEGA_DEBUG[key] == version) ?\n",
       "        Promise.resolve(paths[lib]) :\n",
       "        new Promise(function(resolve, reject) {\n",
       "          var s = document.createElement('script');\n",
       "          document.getElementsByTagName(\"head\")[0].appendChild(s);\n",
       "          s.async = true;\n",
       "          s.onload = () => {\n",
       "            VEGA_DEBUG[key] = version;\n",
       "            return resolve(paths[lib]);\n",
       "          };\n",
       "          s.onerror = () => reject(`Error loading script: ${paths[lib]}`);\n",
       "          s.src = paths[lib];\n",
       "        });\n",
       "    }\n",
       "\n",
       "    function showError(err) {\n",
       "      outputDiv.innerHTML = `<div class=\"error\" style=\"color:red;\">${err}</div>`;\n",
       "      throw err;\n",
       "    }\n",
       "\n",
       "    function displayChart(vegaEmbed) {\n",
       "      vegaEmbed(outputDiv, spec, embedOpt)\n",
       "        .catch(err => showError(`Javascript Error: ${err.message}<br>This usually means there's a typo in your chart specification. See the javascript console for the full traceback.`));\n",
       "    }\n",
       "\n",
       "    if(typeof define === \"function\" && define.amd) {\n",
       "      requirejs.config({paths});\n",
       "      require([\"vega-embed\"], displayChart, err => showError(`Error loading script: ${err.message}`));\n",
       "    } else {\n",
       "      maybeLoadScript(\"vega\", \"5\")\n",
       "        .then(() => maybeLoadScript(\"vega-lite\", \"5.6.1\"))\n",
       "        .then(() => maybeLoadScript(\"vega-embed\", \"6\"))\n",
       "        .catch(showError)\n",
       "        .then(() => displayChart(vegaEmbed));\n",
       "    }\n",
       "  })({\"config\": {\"view\": {\"continuousWidth\": 300, \"continuousHeight\": 300}}, \"layer\": [{\"mark\": {\"type\": \"line\", \"color\": \"crimson\", \"opacity\": 0.6}, \"encoding\": {\"x\": {\"field\": \"incident_date\", \"title\": \"Date\", \"type\": \"temporal\"}, \"y\": {\"field\": \"tenderloin_incidents\", \"title\": \"Count\", \"type\": \"quantitative\"}}}, {\"mark\": {\"type\": \"line\", \"color\": \"grey\"}, \"encoding\": {\"x\": {\"field\": \"incident_date\", \"title\": \"Date\", \"type\": \"temporal\"}, \"y\": {\"field\": \"other_incidents\", \"title\": \"Count\", \"type\": \"quantitative\"}}}], \"data\": {\"name\": \"data-bfcfb49e31d30f866ea904a5bdd88ccb\"}, \"height\": 300, \"title\": \"Drug-related Arrests in Tenderloin vs. All Other Neighborhoods\", \"width\": 600, \"$schema\": \"https://vega.github.io/schema/vega-lite/v5.6.1.json\", \"datasets\": {\"data-bfcfb49e31d30f866ea904a5bdd88ccb\": [{\"incident_date\": \"2018-01\", \"tenderloin_incidents\": 140, \"other_incidents\": 189}, {\"incident_date\": \"2018-02\", \"tenderloin_incidents\": 190, \"other_incidents\": 166}, {\"incident_date\": \"2018-03\", \"tenderloin_incidents\": 181, \"other_incidents\": 237}, {\"incident_date\": \"2018-04\", \"tenderloin_incidents\": 153, \"other_incidents\": 187}, {\"incident_date\": \"2018-05\", \"tenderloin_incidents\": 175, \"other_incidents\": 208}, {\"incident_date\": \"2018-06\", \"tenderloin_incidents\": 113, \"other_incidents\": 135}, {\"incident_date\": \"2018-07\", \"tenderloin_incidents\": 129, \"other_incidents\": 204}, {\"incident_date\": \"2018-08\", \"tenderloin_incidents\": 120, \"other_incidents\": 164}, {\"incident_date\": \"2018-09\", \"tenderloin_incidents\": 101, \"other_incidents\": 168}, {\"incident_date\": \"2018-10\", \"tenderloin_incidents\": 227, \"other_incidents\": 217}, {\"incident_date\": \"2018-11\", \"tenderloin_incidents\": 200, \"other_incidents\": 233}, {\"incident_date\": \"2018-12\", \"tenderloin_incidents\": 120, \"other_incidents\": 145}, {\"incident_date\": \"2019-01\", \"tenderloin_incidents\": 133, \"other_incidents\": 183}, {\"incident_date\": \"2019-02\", \"tenderloin_incidents\": 106, \"other_incidents\": 177}, {\"incident_date\": \"2019-03\", \"tenderloin_incidents\": 161, \"other_incidents\": 157}, {\"incident_date\": \"2019-04\", \"tenderloin_incidents\": 131, \"other_incidents\": 194}, {\"incident_date\": \"2019-05\", \"tenderloin_incidents\": 116, \"other_incidents\": 176}, {\"incident_date\": \"2019-06\", \"tenderloin_incidents\": 112, \"other_incidents\": 179}, {\"incident_date\": \"2019-07\", \"tenderloin_incidents\": 139, \"other_incidents\": 214}, {\"incident_date\": \"2019-08\", \"tenderloin_incidents\": 122, \"other_incidents\": 169}, {\"incident_date\": \"2019-09\", \"tenderloin_incidents\": 110, \"other_incidents\": 209}, {\"incident_date\": \"2019-10\", \"tenderloin_incidents\": 111, \"other_incidents\": 190}, {\"incident_date\": \"2019-11\", \"tenderloin_incidents\": 96, \"other_incidents\": 192}, {\"incident_date\": \"2019-12\", \"tenderloin_incidents\": 119, \"other_incidents\": 174}, {\"incident_date\": \"2020-01\", \"tenderloin_incidents\": 111, \"other_incidents\": 187}, {\"incident_date\": \"2020-02\", \"tenderloin_incidents\": 161, \"other_incidents\": 187}, {\"incident_date\": \"2020-03\", \"tenderloin_incidents\": 66, \"other_incidents\": 99}, {\"incident_date\": \"2020-04\", \"tenderloin_incidents\": 29, \"other_incidents\": 57}, {\"incident_date\": \"2020-05\", \"tenderloin_incidents\": 157, \"other_incidents\": 72}, {\"incident_date\": \"2020-06\", \"tenderloin_incidents\": 207, \"other_incidents\": 50}, {\"incident_date\": \"2020-07\", \"tenderloin_incidents\": 161, \"other_incidents\": 66}, {\"incident_date\": \"2020-08\", \"tenderloin_incidents\": 141, \"other_incidents\": 96}, {\"incident_date\": \"2020-09\", \"tenderloin_incidents\": 130, \"other_incidents\": 95}, {\"incident_date\": \"2020-10\", \"tenderloin_incidents\": 134, \"other_incidents\": 70}, {\"incident_date\": \"2020-11\", \"tenderloin_incidents\": 82, \"other_incidents\": 66}, {\"incident_date\": \"2020-12\", \"tenderloin_incidents\": 110, \"other_incidents\": 99}, {\"incident_date\": \"2021-01\", \"tenderloin_incidents\": 169, \"other_incidents\": 80}, {\"incident_date\": \"2021-02\", \"tenderloin_incidents\": 140, \"other_incidents\": 98}, {\"incident_date\": \"2021-03\", \"tenderloin_incidents\": 82, \"other_incidents\": 87}, {\"incident_date\": \"2021-04\", \"tenderloin_incidents\": 142, \"other_incidents\": 88}, {\"incident_date\": \"2021-05\", \"tenderloin_incidents\": 59, \"other_incidents\": 46}, {\"incident_date\": \"2021-06\", \"tenderloin_incidents\": 120, \"other_incidents\": 78}, {\"incident_date\": \"2021-07\", \"tenderloin_incidents\": 117, \"other_incidents\": 84}, {\"incident_date\": \"2021-08\", \"tenderloin_incidents\": 117, \"other_incidents\": 68}, {\"incident_date\": \"2021-09\", \"tenderloin_incidents\": 83, \"other_incidents\": 85}, {\"incident_date\": \"2021-10\", \"tenderloin_incidents\": 92, \"other_incidents\": 90}, {\"incident_date\": \"2021-11\", \"tenderloin_incidents\": 54, \"other_incidents\": 99}, {\"incident_date\": \"2021-12\", \"tenderloin_incidents\": 144, \"other_incidents\": 94}, {\"incident_date\": \"2022-01\", \"tenderloin_incidents\": 169, \"other_incidents\": 92}, {\"incident_date\": \"2022-02\", \"tenderloin_incidents\": 143, \"other_incidents\": 97}, {\"incident_date\": \"2022-03\", \"tenderloin_incidents\": 126, \"other_incidents\": 124}, {\"incident_date\": \"2022-04\", \"tenderloin_incidents\": 87, \"other_incidents\": 107}, {\"incident_date\": \"2022-05\", \"tenderloin_incidents\": 115, \"other_incidents\": 137}, {\"incident_date\": \"2022-06\", \"tenderloin_incidents\": 135, \"other_incidents\": 107}, {\"incident_date\": \"2022-07\", \"tenderloin_incidents\": 356, \"other_incidents\": 180}, {\"incident_date\": \"2022-08\", \"tenderloin_incidents\": 310, \"other_incidents\": 207}, {\"incident_date\": \"2022-09\", \"tenderloin_incidents\": 164, \"other_incidents\": 159}, {\"incident_date\": \"2022-10\", \"tenderloin_incidents\": 117, \"other_incidents\": 128}, {\"incident_date\": \"2022-11\", \"tenderloin_incidents\": 145, \"other_incidents\": 173}, {\"incident_date\": \"2022-12\", \"tenderloin_incidents\": 171, \"other_incidents\": 145}, {\"incident_date\": \"2023-01\", \"tenderloin_incidents\": 176, \"other_incidents\": 152}, {\"incident_date\": \"2023-02\", \"tenderloin_incidents\": 267, \"other_incidents\": 166}, {\"incident_date\": \"2023-03\", \"tenderloin_incidents\": 19, \"other_incidents\": 28}]}}, {\"mode\": \"vega-lite\"});\n",
       "</script>"
      ],
      "text/plain": [
       "alt.LayerChart(...)"
      ]
     },
     "execution_count": 101,
     "metadata": {},
     "output_type": "execute_result"
    }
   ],
   "source": [
    "# Visualization\n",
    "tenderloin_line = alt.Chart(compare).mark_line(color = 'crimson',opacity=0.6).encode(\n",
    "    alt.X('incident_date:T',title='Date'),\n",
    "    alt.Y('tenderloin_incidents:Q',title = 'Count'))\n",
    "\n",
    "others_line = alt.Chart(compare).mark_line(color = 'grey').encode(\n",
    "    x= alt.X('incident_date:T',title='Date'),\n",
    "    y= alt.Y('other_incidents:Q',title = 'Count'))\n",
    "\n",
    "(tenderloin_line + others_line).properties(\n",
    "    width=600,\n",
    "    height=300,\n",
    "    title='Drug-related Arrests in Tenderloin vs. All Other Neighborhoods'\n",
    ")"
   ]
  },
  {
   "cell_type": "markdown",
   "id": "ca4f5c70-6b6a-4994-a9c2-9f25872c704a",
   "metadata": {
    "tags": []
   },
   "source": [
    "#### Finding #2\n",
    "\n",
    "A similar pattern is found with Narcan deployment:<br>\n",
    "incidents happen significantly more often in **Terderloin** than in other neighborhoods."
   ]
  },
  {
   "cell_type": "code",
   "execution_count": 92,
   "id": "0a9207c2-a296-4448-a00d-b0277ad19d66",
   "metadata": {
    "tags": []
   },
   "outputs": [
    {
     "data": {
      "text/html": [
       "<div>\n",
       "<style scoped>\n",
       "    .dataframe tbody tr th:only-of-type {\n",
       "        vertical-align: middle;\n",
       "    }\n",
       "\n",
       "    .dataframe tbody tr th {\n",
       "        vertical-align: top;\n",
       "    }\n",
       "\n",
       "    .dataframe thead th {\n",
       "        text-align: right;\n",
       "    }\n",
       "</style>\n",
       "<table border=\"1\" class=\"dataframe\">\n",
       "  <thead>\n",
       "    <tr style=\"text-align: right;\">\n",
       "      <th></th>\n",
       "      <th>analysis_neighborhood</th>\n",
       "      <th>narcan_deployment_count</th>\n",
       "    </tr>\n",
       "  </thead>\n",
       "  <tbody>\n",
       "    <tr>\n",
       "      <th>1</th>\n",
       "      <td>Tenderloin</td>\n",
       "      <td>401</td>\n",
       "    </tr>\n",
       "    <tr>\n",
       "      <th>2</th>\n",
       "      <td>South of Market</td>\n",
       "      <td>153</td>\n",
       "    </tr>\n",
       "    <tr>\n",
       "      <th>3</th>\n",
       "      <td>Financial District/South Beach</td>\n",
       "      <td>56</td>\n",
       "    </tr>\n",
       "    <tr>\n",
       "      <th>4</th>\n",
       "      <td>Mission</td>\n",
       "      <td>38</td>\n",
       "    </tr>\n",
       "    <tr>\n",
       "      <th>5</th>\n",
       "      <td>Bayview Hunters Point</td>\n",
       "      <td>15</td>\n",
       "    </tr>\n",
       "    <tr>\n",
       "      <th>6</th>\n",
       "      <td>Castro/Upper Market</td>\n",
       "      <td>12</td>\n",
       "    </tr>\n",
       "    <tr>\n",
       "      <th>7</th>\n",
       "      <td>Western Addition</td>\n",
       "      <td>10</td>\n",
       "    </tr>\n",
       "    <tr>\n",
       "      <th>8</th>\n",
       "      <td>Marina</td>\n",
       "      <td>7</td>\n",
       "    </tr>\n",
       "    <tr>\n",
       "      <th>9</th>\n",
       "      <td>Chinatown</td>\n",
       "      <td>7</td>\n",
       "    </tr>\n",
       "    <tr>\n",
       "      <th>10</th>\n",
       "      <td>North Beach</td>\n",
       "      <td>6</td>\n",
       "    </tr>\n",
       "  </tbody>\n",
       "</table>\n",
       "</div>"
      ],
      "text/plain": [
       "             analysis_neighborhood  narcan_deployment_count\n",
       "1                       Tenderloin                      401\n",
       "2                  South of Market                      153\n",
       "3   Financial District/South Beach                       56\n",
       "4                          Mission                       38\n",
       "5            Bayview Hunters Point                       15\n",
       "6              Castro/Upper Market                       12\n",
       "7                 Western Addition                       10\n",
       "8                           Marina                        7\n",
       "9                        Chinatown                        7\n",
       "10                     North Beach                        6"
      ]
     },
     "execution_count": 93,
     "metadata": {},
     "output_type": "execute_result"
    }
   ],
   "source": [
    "nd_neighb = narcan_deploy.groupby(narcan_deploy['analysis_neighborhood']).size()\n",
    "nd_df = nd_neighb.sort_values(ascending = False).reset_index(name='narcan_deployment_count')\n",
    "nd_df.index +=1 \n",
    "nd_df.head(10)"
   ]
  },
  {
   "cell_type": "code",
   "execution_count": null,
   "id": "e81c2573-2acc-4820-b15f-3df7908aebce",
   "metadata": {},
   "outputs": [],
   "source": [
    "# Outside of tenderloin\n",
    "other_neighbor = sorted.loc[sorted['analysis_neighborhood'] != 'Tenderloin']\n",
    "grouped_o = other_neighbor.groupby(['incident_date'])['count'].sum().reset_index()\n",
    "# Tenderloin\n",
    "tenderloin = sorted.loc[sorted['analysis_neighborhood'] == 'Tenderloin']\n",
    "grouped_t = tenderloin.groupby(['incident_date'])['count'].sum().reset_index()\n",
    "# Compare\n",
    "compare = pd.DataFrame({\n",
    "    'incident_date':grouped_t['incident_date'],\n",
    "    'tenderloin_incidents': grouped_t['count'],\n",
    "    'other_incidents':grouped_o['count']\n",
    "})\n",
    "totals = compare.drop('incident_date', axis=1).sum().to_frame().T\n",
    "totals.index = ['Totals']\n",
    "totals"
   ]
  },
  {
   "cell_type": "markdown",
   "id": "fc9de7b1-1116-4cc0-947f-7b747659347a",
   "metadata": {
    "jp-MarkdownHeadingCollapsed": true,
    "tags": []
   },
   "source": [
    "<h3>Drug Arrests and Narcan Deployment Over Time</h3>"
   ]
  },
  {
   "cell_type": "markdown",
   "id": "92caaae5-f506-42cc-a999-cfe95557c17f",
   "metadata": {
    "tags": []
   },
   "source": [
    "#### Finding #3\n",
    "As the pandemic began to subside and people started moving around more freely in the city, there has been an increase in drug-related arrests. During July and August of 2022, the city saw **more than 1000** drug-related arrests, almost double the typical monthly average of **271**."
   ]
  },
  {
   "cell_type": "code",
   "execution_count": 103,
   "id": "5144c09d-a7c1-47f5-ad34-8970cd0c5849",
   "metadata": {
    "tags": []
   },
   "outputs": [
    {
     "data": {
      "text/html": [
       "<div>\n",
       "<style scoped>\n",
       "    .dataframe tbody tr th:only-of-type {\n",
       "        vertical-align: middle;\n",
       "    }\n",
       "\n",
       "    .dataframe tbody tr th {\n",
       "        vertical-align: top;\n",
       "    }\n",
       "\n",
       "    .dataframe thead th {\n",
       "        text-align: right;\n",
       "    }\n",
       "</style>\n",
       "<table border=\"1\" class=\"dataframe\">\n",
       "  <thead>\n",
       "    <tr style=\"text-align: right;\">\n",
       "      <th></th>\n",
       "      <th>incident_date</th>\n",
       "      <th>count</th>\n",
       "      <th>incident_date_2</th>\n",
       "    </tr>\n",
       "  </thead>\n",
       "  <tbody>\n",
       "    <tr>\n",
       "      <th>0</th>\n",
       "      <td>2018-01</td>\n",
       "      <td>337</td>\n",
       "      <td>2018-01</td>\n",
       "    </tr>\n",
       "    <tr>\n",
       "      <th>1</th>\n",
       "      <td>2018-02</td>\n",
       "      <td>356</td>\n",
       "      <td>2018-02</td>\n",
       "    </tr>\n",
       "    <tr>\n",
       "      <th>2</th>\n",
       "      <td>2018-03</td>\n",
       "      <td>423</td>\n",
       "      <td>2018-03</td>\n",
       "    </tr>\n",
       "    <tr>\n",
       "      <th>3</th>\n",
       "      <td>2018-04</td>\n",
       "      <td>348</td>\n",
       "      <td>2018-04</td>\n",
       "    </tr>\n",
       "    <tr>\n",
       "      <th>4</th>\n",
       "      <td>2018-05</td>\n",
       "      <td>384</td>\n",
       "      <td>2018-05</td>\n",
       "    </tr>\n",
       "  </tbody>\n",
       "</table>\n",
       "</div>"
      ],
      "text/plain": [
       "  incident_date  count incident_date_2\n",
       "0       2018-01    337         2018-01\n",
       "1       2018-02    356         2018-02\n",
       "2       2018-03    423         2018-03\n",
       "3       2018-04    348         2018-04\n",
       "4       2018-05    384         2018-05"
      ]
     },
     "execution_count": 103,
     "metadata": {},
     "output_type": "execute_result"
    }
   ],
   "source": [
    "# Drug arrests over time, by year-month\n",
    "# Again, note that incident_date_2 has no significant meaning other than for the purpose of tooltips in visualization.\n",
    "drug_arrest['incident_date'] = pd.to_datetime(drug_arrest['incident_date'])\n",
    "drug_arrest['incident_time'] = pd.to_datetime(drug_arrest['incident_time'])\n",
    "\n",
    "counts = drug_arrest.groupby(drug_arrest['incident_date'].dt.strftime('%Y-%m')).size().reset_index(name='count')\n",
    "counts['incident_date_2'] = counts['incident_date']\n",
    "counts.head()"
   ]
  },
  {
   "cell_type": "code",
   "execution_count": 108,
   "id": "270391ca-dd56-46f5-918d-d4c7b791f13a",
   "metadata": {
    "tags": []
   },
   "outputs": [
    {
     "data": {
      "text/plain": [
       "271.5"
      ]
     },
     "execution_count": 108,
     "metadata": {},
     "output_type": "execute_result"
    }
   ],
   "source": [
    "# Excluding the month we're currently in.\n",
    "end_date = '2023-02'\n",
    "filtered_counts = counts[counts['incident_date']<=end_date]\n",
    "# Calculating the monthly average. We chose median to account for extreme values.\n",
    "drug_arrest_median = filtered_counts['count'].median()\n",
    "drug_arrest_median"
   ]
  },
  {
   "cell_type": "code",
   "execution_count": 131,
   "id": "218e8f0d-c492-4df4-afac-94a04709d2b5",
   "metadata": {
    "tags": []
   },
   "outputs": [
    {
     "data": {
      "text/html": [
       "\n",
       "<div id=\"altair-viz-e6d1a071e7cd41f2b2598c9b36edb39e\"></div>\n",
       "<script type=\"text/javascript\">\n",
       "  var VEGA_DEBUG = (typeof VEGA_DEBUG == \"undefined\") ? {} : VEGA_DEBUG;\n",
       "  (function(spec, embedOpt){\n",
       "    let outputDiv = document.currentScript.previousElementSibling;\n",
       "    if (outputDiv.id !== \"altair-viz-e6d1a071e7cd41f2b2598c9b36edb39e\") {\n",
       "      outputDiv = document.getElementById(\"altair-viz-e6d1a071e7cd41f2b2598c9b36edb39e\");\n",
       "    }\n",
       "    const paths = {\n",
       "      \"vega\": \"https://cdn.jsdelivr.net/npm/vega@5?noext\",\n",
       "      \"vega-lib\": \"https://cdn.jsdelivr.net/npm/vega-lib?noext\",\n",
       "      \"vega-lite\": \"https://cdn.jsdelivr.net/npm/vega-lite@5.6.1?noext\",\n",
       "      \"vega-embed\": \"https://cdn.jsdelivr.net/npm/vega-embed@6?noext\",\n",
       "    };\n",
       "\n",
       "    function maybeLoadScript(lib, version) {\n",
       "      var key = `${lib.replace(\"-\", \"\")}_version`;\n",
       "      return (VEGA_DEBUG[key] == version) ?\n",
       "        Promise.resolve(paths[lib]) :\n",
       "        new Promise(function(resolve, reject) {\n",
       "          var s = document.createElement('script');\n",
       "          document.getElementsByTagName(\"head\")[0].appendChild(s);\n",
       "          s.async = true;\n",
       "          s.onload = () => {\n",
       "            VEGA_DEBUG[key] = version;\n",
       "            return resolve(paths[lib]);\n",
       "          };\n",
       "          s.onerror = () => reject(`Error loading script: ${paths[lib]}`);\n",
       "          s.src = paths[lib];\n",
       "        });\n",
       "    }\n",
       "\n",
       "    function showError(err) {\n",
       "      outputDiv.innerHTML = `<div class=\"error\" style=\"color:red;\">${err}</div>`;\n",
       "      throw err;\n",
       "    }\n",
       "\n",
       "    function displayChart(vegaEmbed) {\n",
       "      vegaEmbed(outputDiv, spec, embedOpt)\n",
       "        .catch(err => showError(`Javascript Error: ${err.message}<br>This usually means there's a typo in your chart specification. See the javascript console for the full traceback.`));\n",
       "    }\n",
       "\n",
       "    if(typeof define === \"function\" && define.amd) {\n",
       "      requirejs.config({paths});\n",
       "      require([\"vega-embed\"], displayChart, err => showError(`Error loading script: ${err.message}`));\n",
       "    } else {\n",
       "      maybeLoadScript(\"vega\", \"5\")\n",
       "        .then(() => maybeLoadScript(\"vega-lite\", \"5.6.1\"))\n",
       "        .then(() => maybeLoadScript(\"vega-embed\", \"6\"))\n",
       "        .catch(showError)\n",
       "        .then(() => displayChart(vegaEmbed));\n",
       "    }\n",
       "  })({\"config\": {\"view\": {\"continuousWidth\": 300, \"continuousHeight\": 300}}, \"layer\": [{\"mark\": {\"type\": \"line\", \"size\": 4}, \"encoding\": {\"tooltip\": [{\"field\": \"incident_date_2\", \"title\": \"Date\", \"type\": \"nominal\"}, {\"field\": \"count\", \"title\": \"Drug Arrests\", \"type\": \"quantitative\"}], \"x\": {\"field\": \"incident_date\", \"title\": \"Date\", \"type\": \"temporal\"}, \"y\": {\"field\": \"count\", \"scale\": {\"domain\": [0, 600]}, \"title\": \"Count\", \"type\": \"quantitative\"}}, \"title\": \"Drug-related Arrests, Jan. 2018 - Feb.2023\"}, {\"mark\": {\"type\": \"rule\", \"color\": \"crimson\", \"size\": 2}, \"encoding\": {\"tooltip\": {\"title\": \"Median of counts\"}, \"y\": {\"aggregate\": \"median\", \"field\": \"count\", \"type\": \"quantitative\"}}}, {\"data\": {\"name\": \"data-a339199ca70a7816ddc6ab7de4939aad\"}, \"mark\": {\"type\": \"text\", \"color\": \"crimson\", \"dy\": -15}, \"encoding\": {\"text\": {\"field\": \"count\", \"type\": \"quantitative\"}, \"x\": {\"field\": \"incident_date\", \"type\": \"temporal\"}, \"y\": {\"field\": \"count\", \"type\": \"quantitative\"}}}], \"data\": {\"name\": \"data-4a441df68a91a8fbaa05d6d55a3ab731\"}, \"height\": 400, \"width\": 600, \"$schema\": \"https://vega.github.io/schema/vega-lite/v5.6.1.json\", \"datasets\": {\"data-4a441df68a91a8fbaa05d6d55a3ab731\": [{\"incident_date\": \"2018-01\", \"count\": 337, \"incident_date_2\": \"2018-01\"}, {\"incident_date\": \"2018-02\", \"count\": 356, \"incident_date_2\": \"2018-02\"}, {\"incident_date\": \"2018-03\", \"count\": 423, \"incident_date_2\": \"2018-03\"}, {\"incident_date\": \"2018-04\", \"count\": 348, \"incident_date_2\": \"2018-04\"}, {\"incident_date\": \"2018-05\", \"count\": 384, \"incident_date_2\": \"2018-05\"}, {\"incident_date\": \"2018-06\", \"count\": 251, \"incident_date_2\": \"2018-06\"}, {\"incident_date\": \"2018-07\", \"count\": 334, \"incident_date_2\": \"2018-07\"}, {\"incident_date\": \"2018-08\", \"count\": 287, \"incident_date_2\": \"2018-08\"}, {\"incident_date\": \"2018-09\", \"count\": 274, \"incident_date_2\": \"2018-09\"}, {\"incident_date\": \"2018-10\", \"count\": 445, \"incident_date_2\": \"2018-10\"}, {\"incident_date\": \"2018-11\", \"count\": 437, \"incident_date_2\": \"2018-11\"}, {\"incident_date\": \"2018-12\", \"count\": 267, \"incident_date_2\": \"2018-12\"}, {\"incident_date\": \"2019-01\", \"count\": 316, \"incident_date_2\": \"2019-01\"}, {\"incident_date\": \"2019-02\", \"count\": 285, \"incident_date_2\": \"2019-02\"}, {\"incident_date\": \"2019-03\", \"count\": 323, \"incident_date_2\": \"2019-03\"}, {\"incident_date\": \"2019-04\", \"count\": 329, \"incident_date_2\": \"2019-04\"}, {\"incident_date\": \"2019-05\", \"count\": 295, \"incident_date_2\": \"2019-05\"}, {\"incident_date\": \"2019-06\", \"count\": 291, \"incident_date_2\": \"2019-06\"}, {\"incident_date\": \"2019-07\", \"count\": 353, \"incident_date_2\": \"2019-07\"}, {\"incident_date\": \"2019-08\", \"count\": 294, \"incident_date_2\": \"2019-08\"}, {\"incident_date\": \"2019-09\", \"count\": 320, \"incident_date_2\": \"2019-09\"}, {\"incident_date\": \"2019-10\", \"count\": 303, \"incident_date_2\": \"2019-10\"}, {\"incident_date\": \"2019-11\", \"count\": 293, \"incident_date_2\": \"2019-11\"}, {\"incident_date\": \"2019-12\", \"count\": 293, \"incident_date_2\": \"2019-12\"}, {\"incident_date\": \"2020-01\", \"count\": 299, \"incident_date_2\": \"2020-01\"}, {\"incident_date\": \"2020-02\", \"count\": 348, \"incident_date_2\": \"2020-02\"}, {\"incident_date\": \"2020-03\", \"count\": 165, \"incident_date_2\": \"2020-03\"}, {\"incident_date\": \"2020-04\", \"count\": 86, \"incident_date_2\": \"2020-04\"}, {\"incident_date\": \"2020-05\", \"count\": 229, \"incident_date_2\": \"2020-05\"}, {\"incident_date\": \"2020-06\", \"count\": 257, \"incident_date_2\": \"2020-06\"}, {\"incident_date\": \"2020-07\", \"count\": 227, \"incident_date_2\": \"2020-07\"}, {\"incident_date\": \"2020-08\", \"count\": 240, \"incident_date_2\": \"2020-08\"}, {\"incident_date\": \"2020-09\", \"count\": 229, \"incident_date_2\": \"2020-09\"}, {\"incident_date\": \"2020-10\", \"count\": 209, \"incident_date_2\": \"2020-10\"}, {\"incident_date\": \"2020-11\", \"count\": 148, \"incident_date_2\": \"2020-11\"}, {\"incident_date\": \"2020-12\", \"count\": 211, \"incident_date_2\": \"2020-12\"}, {\"incident_date\": \"2021-01\", \"count\": 249, \"incident_date_2\": \"2021-01\"}, {\"incident_date\": \"2021-02\", \"count\": 240, \"incident_date_2\": \"2021-02\"}, {\"incident_date\": \"2021-03\", \"count\": 179, \"incident_date_2\": \"2021-03\"}, {\"incident_date\": \"2021-04\", \"count\": 239, \"incident_date_2\": \"2021-04\"}, {\"incident_date\": \"2021-05\", \"count\": 110, \"incident_date_2\": \"2021-05\"}, {\"incident_date\": \"2021-06\", \"count\": 205, \"incident_date_2\": \"2021-06\"}, {\"incident_date\": \"2021-07\", \"count\": 201, \"incident_date_2\": \"2021-07\"}, {\"incident_date\": \"2021-08\", \"count\": 192, \"incident_date_2\": \"2021-08\"}, {\"incident_date\": \"2021-09\", \"count\": 172, \"incident_date_2\": \"2021-09\"}, {\"incident_date\": \"2021-10\", \"count\": 188, \"incident_date_2\": \"2021-10\"}, {\"incident_date\": \"2021-11\", \"count\": 154, \"incident_date_2\": \"2021-11\"}, {\"incident_date\": \"2021-12\", \"count\": 242, \"incident_date_2\": \"2021-12\"}, {\"incident_date\": \"2022-01\", \"count\": 269, \"incident_date_2\": \"2022-01\"}, {\"incident_date\": \"2022-02\", \"count\": 246, \"incident_date_2\": \"2022-02\"}, {\"incident_date\": \"2022-03\", \"count\": 258, \"incident_date_2\": \"2022-03\"}, {\"incident_date\": \"2022-04\", \"count\": 200, \"incident_date_2\": \"2022-04\"}, {\"incident_date\": \"2022-05\", \"count\": 260, \"incident_date_2\": \"2022-05\"}, {\"incident_date\": \"2022-06\", \"count\": 248, \"incident_date_2\": \"2022-06\"}, {\"incident_date\": \"2022-07\", \"count\": 542, \"incident_date_2\": \"2022-07\"}, {\"incident_date\": \"2022-08\", \"count\": 519, \"incident_date_2\": \"2022-08\"}, {\"incident_date\": \"2022-09\", \"count\": 328, \"incident_date_2\": \"2022-09\"}, {\"incident_date\": \"2022-10\", \"count\": 253, \"incident_date_2\": \"2022-10\"}, {\"incident_date\": \"2022-11\", \"count\": 328, \"incident_date_2\": \"2022-11\"}, {\"incident_date\": \"2022-12\", \"count\": 320, \"incident_date_2\": \"2022-12\"}, {\"incident_date\": \"2023-01\", \"count\": 329, \"incident_date_2\": \"2023-01\"}, {\"incident_date\": \"2023-02\", \"count\": 434, \"incident_date_2\": \"2023-02\"}], \"data-a339199ca70a7816ddc6ab7de4939aad\": [{\"incident_date\": \"2022-07\", \"count\": 542, \"incident_date_2\": \"2022-07\"}]}}, {\"mode\": \"vega-lite\"});\n",
       "</script>"
      ],
      "text/plain": [
       "alt.LayerChart(...)"
      ]
     },
     "execution_count": 131,
     "metadata": {},
     "output_type": "execute_result"
    }
   ],
   "source": [
    "# Visualize\n",
    "base = alt.Chart(filtered_counts).mark_line(size=4).encode(\n",
    "    alt.X('incident_date:T',title='Date'),\n",
    "    alt.Y('count',title='Count',scale=alt.Scale(domain=(0,600))),\n",
    "    tooltip = [alt.Tooltip('incident_date_2',title = 'Date'),alt.Tooltip('count',title='Drug Arrests')]\n",
    ").properties(\n",
    "    width=600,\n",
    "    height=400,\n",
    "    title='Drug-related Arrests, Jan. 2018 - Feb.2023'\n",
    ")\n",
    "\n",
    "median = alt.Chart(filtered_counts).mark_rule(size=2,color='crimson').encode(\n",
    "    y='median(count)',\n",
    "    tooltip = alt.Tooltip(title = 'Median of counts')\n",
    ")\n",
    "\n",
    "text = (\n",
    "    alt.Chart(filtered_counts.query(\"count == count.max()\"))\n",
    "    .mark_text(dy=-15, color=\"crimson\")\n",
    "    .encode(x=alt.X(\"incident_date:T\"), y=alt.Y(\"count\"), text=alt.Text((\"count\")) \n",
    "))\n",
    "base+median+text"
   ]
  },
  {
   "cell_type": "markdown",
   "id": "0c5e1318-1186-4852-97d9-4324fc57ee0b",
   "metadata": {},
   "source": [
    "#### Finding #4\n",
    "Narcan deployment spiked as incidents of drug overdose worsened during the COVID-19 pandemic.\n",
    "\n",
    "In March 2020, there were **31 recorded deployments** of Narcan in San Francisco, more than doubling the typical monthly amount of **12**.\n"
   ]
  },
  {
   "cell_type": "code",
   "execution_count": 132,
   "id": "39f6b08d-5ba5-4131-b44b-508066146551",
   "metadata": {
    "tags": []
   },
   "outputs": [
    {
     "data": {
      "text/html": [
       "<div>\n",
       "<style scoped>\n",
       "    .dataframe tbody tr th:only-of-type {\n",
       "        vertical-align: middle;\n",
       "    }\n",
       "\n",
       "    .dataframe tbody tr th {\n",
       "        vertical-align: top;\n",
       "    }\n",
       "\n",
       "    .dataframe thead th {\n",
       "        text-align: right;\n",
       "    }\n",
       "</style>\n",
       "<table border=\"1\" class=\"dataframe\">\n",
       "  <thead>\n",
       "    <tr style=\"text-align: right;\">\n",
       "      <th></th>\n",
       "      <th>incident_date</th>\n",
       "      <th>count</th>\n",
       "      <th>incident_date_2</th>\n",
       "    </tr>\n",
       "  </thead>\n",
       "  <tbody>\n",
       "    <tr>\n",
       "      <th>0</th>\n",
       "      <td>2018-01</td>\n",
       "      <td>4</td>\n",
       "      <td>2018-01</td>\n",
       "    </tr>\n",
       "    <tr>\n",
       "      <th>1</th>\n",
       "      <td>2018-02</td>\n",
       "      <td>13</td>\n",
       "      <td>2018-02</td>\n",
       "    </tr>\n",
       "    <tr>\n",
       "      <th>2</th>\n",
       "      <td>2018-03</td>\n",
       "      <td>7</td>\n",
       "      <td>2018-03</td>\n",
       "    </tr>\n",
       "    <tr>\n",
       "      <th>3</th>\n",
       "      <td>2018-04</td>\n",
       "      <td>5</td>\n",
       "      <td>2018-04</td>\n",
       "    </tr>\n",
       "    <tr>\n",
       "      <th>4</th>\n",
       "      <td>2018-05</td>\n",
       "      <td>3</td>\n",
       "      <td>2018-05</td>\n",
       "    </tr>\n",
       "  </tbody>\n",
       "</table>\n",
       "</div>"
      ],
      "text/plain": [
       "  incident_date  count incident_date_2\n",
       "0       2018-01      4         2018-01\n",
       "1       2018-02     13         2018-02\n",
       "2       2018-03      7         2018-03\n",
       "3       2018-04      5         2018-04\n",
       "4       2018-05      3         2018-05"
      ]
     },
     "execution_count": 132,
     "metadata": {},
     "output_type": "execute_result"
    }
   ],
   "source": [
    "# Grouping the narcan deployments by Year-month.\n",
    "# Note that incident_date_2 is not necessary, just for the sake of tooltips for visualization\n",
    "narcan_deploy['incident_date'] = pd.to_datetime(narcan_deploy['incident_date'])\n",
    "narcan_deploy['incident_time'] = pd.to_datetime(narcan_deploy['incident_time'])\n",
    "\n",
    "nd_counts = narcan_deploy.groupby(narcan_deploy['incident_date'].dt.strftime('%Y-%m')).size().reset_index(name='count')\n",
    "nd_counts['incident_date_2'] = nd_counts['incident_date']\n",
    "nd_counts.head()"
   ]
  },
  {
   "cell_type": "code",
   "execution_count": 135,
   "id": "c4d3a493-236d-4e99-bf7b-238fb90a459c",
   "metadata": {
    "tags": []
   },
   "outputs": [
    {
     "data": {
      "text/plain": [
       "12.0"
      ]
     },
     "execution_count": 135,
     "metadata": {},
     "output_type": "execute_result"
    }
   ],
   "source": [
    "# Excluding the month we're currently in.\n",
    "end_date = '2023-02'\n",
    "filtered_nd_counts = nd_counts[nd_counts['incident_date']<=end_date]\n",
    "# Calculating the monthly average. We chose median to account for extreme values.\n",
    "median_nd = filtered_nd_counts['count'].median()\n",
    "median_nd"
   ]
  },
  {
   "cell_type": "code",
   "execution_count": 140,
   "id": "a6317689-c08c-4942-a5c5-ddaa1630a8cd",
   "metadata": {
    "tags": []
   },
   "outputs": [
    {
     "data": {
      "text/html": [
       "\n",
       "<div id=\"altair-viz-4532f51230e44232abf8a63a6e8229af\"></div>\n",
       "<script type=\"text/javascript\">\n",
       "  var VEGA_DEBUG = (typeof VEGA_DEBUG == \"undefined\") ? {} : VEGA_DEBUG;\n",
       "  (function(spec, embedOpt){\n",
       "    let outputDiv = document.currentScript.previousElementSibling;\n",
       "    if (outputDiv.id !== \"altair-viz-4532f51230e44232abf8a63a6e8229af\") {\n",
       "      outputDiv = document.getElementById(\"altair-viz-4532f51230e44232abf8a63a6e8229af\");\n",
       "    }\n",
       "    const paths = {\n",
       "      \"vega\": \"https://cdn.jsdelivr.net/npm/vega@5?noext\",\n",
       "      \"vega-lib\": \"https://cdn.jsdelivr.net/npm/vega-lib?noext\",\n",
       "      \"vega-lite\": \"https://cdn.jsdelivr.net/npm/vega-lite@5.6.1?noext\",\n",
       "      \"vega-embed\": \"https://cdn.jsdelivr.net/npm/vega-embed@6?noext\",\n",
       "    };\n",
       "\n",
       "    function maybeLoadScript(lib, version) {\n",
       "      var key = `${lib.replace(\"-\", \"\")}_version`;\n",
       "      return (VEGA_DEBUG[key] == version) ?\n",
       "        Promise.resolve(paths[lib]) :\n",
       "        new Promise(function(resolve, reject) {\n",
       "          var s = document.createElement('script');\n",
       "          document.getElementsByTagName(\"head\")[0].appendChild(s);\n",
       "          s.async = true;\n",
       "          s.onload = () => {\n",
       "            VEGA_DEBUG[key] = version;\n",
       "            return resolve(paths[lib]);\n",
       "          };\n",
       "          s.onerror = () => reject(`Error loading script: ${paths[lib]}`);\n",
       "          s.src = paths[lib];\n",
       "        });\n",
       "    }\n",
       "\n",
       "    function showError(err) {\n",
       "      outputDiv.innerHTML = `<div class=\"error\" style=\"color:red;\">${err}</div>`;\n",
       "      throw err;\n",
       "    }\n",
       "\n",
       "    function displayChart(vegaEmbed) {\n",
       "      vegaEmbed(outputDiv, spec, embedOpt)\n",
       "        .catch(err => showError(`Javascript Error: ${err.message}<br>This usually means there's a typo in your chart specification. See the javascript console for the full traceback.`));\n",
       "    }\n",
       "\n",
       "    if(typeof define === \"function\" && define.amd) {\n",
       "      requirejs.config({paths});\n",
       "      require([\"vega-embed\"], displayChart, err => showError(`Error loading script: ${err.message}`));\n",
       "    } else {\n",
       "      maybeLoadScript(\"vega\", \"5\")\n",
       "        .then(() => maybeLoadScript(\"vega-lite\", \"5.6.1\"))\n",
       "        .then(() => maybeLoadScript(\"vega-embed\", \"6\"))\n",
       "        .catch(showError)\n",
       "        .then(() => displayChart(vegaEmbed));\n",
       "    }\n",
       "  })({\"config\": {\"view\": {\"continuousWidth\": 300, \"continuousHeight\": 300}}, \"layer\": [{\"mark\": {\"type\": \"line\", \"size\": 4}, \"encoding\": {\"tooltip\": [{\"field\": \"incident_date_2\", \"title\": \"Date\", \"type\": \"nominal\"}, {\"field\": \"count\", \"title\": \"Drug Arrests\", \"type\": \"quantitative\"}], \"x\": {\"field\": \"incident_date\", \"title\": \"Date\", \"type\": \"temporal\"}, \"y\": {\"field\": \"count\", \"title\": \"Counts\", \"type\": \"quantitative\"}}, \"title\": \"Narcan Deployments, Jan 2018 - Feb 2023\"}, {\"mark\": {\"type\": \"rule\", \"color\": \"crimson\", \"size\": 2}, \"encoding\": {\"tooltip\": {\"title\": \"Median of counts\"}, \"y\": {\"aggregate\": \"median\", \"field\": \"count\", \"type\": \"quantitative\"}}}, {\"data\": {\"name\": \"data-21f6c0074b08c567d634f06e158c90ce\"}, \"mark\": {\"type\": \"text\", \"color\": \"crimson\", \"dy\": -25}, \"encoding\": {\"text\": {\"field\": \"count\", \"type\": \"quantitative\"}, \"x\": {\"field\": \"incident_date\", \"type\": \"temporal\"}, \"y\": {\"field\": \"count\", \"type\": \"quantitative\"}}}], \"data\": {\"name\": \"data-bba3c7da4bc481f366da890c9a612ba1\"}, \"height\": 400, \"width\": 600, \"$schema\": \"https://vega.github.io/schema/vega-lite/v5.6.1.json\", \"datasets\": {\"data-bba3c7da4bc481f366da890c9a612ba1\": [{\"incident_date\": \"2018-01\", \"count\": 4, \"incident_date_2\": \"2018-01\"}, {\"incident_date\": \"2018-02\", \"count\": 13, \"incident_date_2\": \"2018-02\"}, {\"incident_date\": \"2018-03\", \"count\": 7, \"incident_date_2\": \"2018-03\"}, {\"incident_date\": \"2018-04\", \"count\": 5, \"incident_date_2\": \"2018-04\"}, {\"incident_date\": \"2018-05\", \"count\": 3, \"incident_date_2\": \"2018-05\"}, {\"incident_date\": \"2018-06\", \"count\": 5, \"incident_date_2\": \"2018-06\"}, {\"incident_date\": \"2018-07\", \"count\": 4, \"incident_date_2\": \"2018-07\"}, {\"incident_date\": \"2018-08\", \"count\": 8, \"incident_date_2\": \"2018-08\"}, {\"incident_date\": \"2018-09\", \"count\": 12, \"incident_date_2\": \"2018-09\"}, {\"incident_date\": \"2018-10\", \"count\": 9, \"incident_date_2\": \"2018-10\"}, {\"incident_date\": \"2018-11\", \"count\": 2, \"incident_date_2\": \"2018-11\"}, {\"incident_date\": \"2018-12\", \"count\": 6, \"incident_date_2\": \"2018-12\"}, {\"incident_date\": \"2019-01\", \"count\": 1, \"incident_date_2\": \"2019-01\"}, {\"incident_date\": \"2019-02\", \"count\": 3, \"incident_date_2\": \"2019-02\"}, {\"incident_date\": \"2019-03\", \"count\": 6, \"incident_date_2\": \"2019-03\"}, {\"incident_date\": \"2019-04\", \"count\": 8, \"incident_date_2\": \"2019-04\"}, {\"incident_date\": \"2019-05\", \"count\": 8, \"incident_date_2\": \"2019-05\"}, {\"incident_date\": \"2019-06\", \"count\": 19, \"incident_date_2\": \"2019-06\"}, {\"incident_date\": \"2019-07\", \"count\": 11, \"incident_date_2\": \"2019-07\"}, {\"incident_date\": \"2019-08\", \"count\": 17, \"incident_date_2\": \"2019-08\"}, {\"incident_date\": \"2019-09\", \"count\": 19, \"incident_date_2\": \"2019-09\"}, {\"incident_date\": \"2019-10\", \"count\": 17, \"incident_date_2\": \"2019-10\"}, {\"incident_date\": \"2019-11\", \"count\": 16, \"incident_date_2\": \"2019-11\"}, {\"incident_date\": \"2019-12\", \"count\": 10, \"incident_date_2\": \"2019-12\"}, {\"incident_date\": \"2020-01\", \"count\": 19, \"incident_date_2\": \"2020-01\"}, {\"incident_date\": \"2020-02\", \"count\": 24, \"incident_date_2\": \"2020-02\"}, {\"incident_date\": \"2020-03\", \"count\": 31, \"incident_date_2\": \"2020-03\"}, {\"incident_date\": \"2020-04\", \"count\": 23, \"incident_date_2\": \"2020-04\"}, {\"incident_date\": \"2020-05\", \"count\": 24, \"incident_date_2\": \"2020-05\"}, {\"incident_date\": \"2020-06\", \"count\": 12, \"incident_date_2\": \"2020-06\"}, {\"incident_date\": \"2020-07\", \"count\": 20, \"incident_date_2\": \"2020-07\"}, {\"incident_date\": \"2020-08\", \"count\": 19, \"incident_date_2\": \"2020-08\"}, {\"incident_date\": \"2020-09\", \"count\": 14, \"incident_date_2\": \"2020-09\"}, {\"incident_date\": \"2020-10\", \"count\": 8, \"incident_date_2\": \"2020-10\"}, {\"incident_date\": \"2020-11\", \"count\": 9, \"incident_date_2\": \"2020-11\"}, {\"incident_date\": \"2020-12\", \"count\": 10, \"incident_date_2\": \"2020-12\"}, {\"incident_date\": \"2021-01\", \"count\": 13, \"incident_date_2\": \"2021-01\"}, {\"incident_date\": \"2021-02\", \"count\": 13, \"incident_date_2\": \"2021-02\"}, {\"incident_date\": \"2021-03\", \"count\": 10, \"incident_date_2\": \"2021-03\"}, {\"incident_date\": \"2021-04\", \"count\": 8, \"incident_date_2\": \"2021-04\"}, {\"incident_date\": \"2021-05\", \"count\": 10, \"incident_date_2\": \"2021-05\"}, {\"incident_date\": \"2021-06\", \"count\": 10, \"incident_date_2\": \"2021-06\"}, {\"incident_date\": \"2021-07\", \"count\": 13, \"incident_date_2\": \"2021-07\"}, {\"incident_date\": \"2021-08\", \"count\": 15, \"incident_date_2\": \"2021-08\"}, {\"incident_date\": \"2021-09\", \"count\": 18, \"incident_date_2\": \"2021-09\"}, {\"incident_date\": \"2021-10\", \"count\": 8, \"incident_date_2\": \"2021-10\"}, {\"incident_date\": \"2021-11\", \"count\": 18, \"incident_date_2\": \"2021-11\"}, {\"incident_date\": \"2021-12\", \"count\": 9, \"incident_date_2\": \"2021-12\"}, {\"incident_date\": \"2022-01\", \"count\": 12, \"incident_date_2\": \"2022-01\"}, {\"incident_date\": \"2022-02\", \"count\": 12, \"incident_date_2\": \"2022-02\"}, {\"incident_date\": \"2022-03\", \"count\": 10, \"incident_date_2\": \"2022-03\"}, {\"incident_date\": \"2022-04\", \"count\": 12, \"incident_date_2\": \"2022-04\"}, {\"incident_date\": \"2022-05\", \"count\": 7, \"incident_date_2\": \"2022-05\"}, {\"incident_date\": \"2022-06\", \"count\": 14, \"incident_date_2\": \"2022-06\"}, {\"incident_date\": \"2022-07\", \"count\": 13, \"incident_date_2\": \"2022-07\"}, {\"incident_date\": \"2022-08\", \"count\": 14, \"incident_date_2\": \"2022-08\"}, {\"incident_date\": \"2022-09\", \"count\": 19, \"incident_date_2\": \"2022-09\"}, {\"incident_date\": \"2022-10\", \"count\": 16, \"incident_date_2\": \"2022-10\"}, {\"incident_date\": \"2022-11\", \"count\": 14, \"incident_date_2\": \"2022-11\"}, {\"incident_date\": \"2022-12\", \"count\": 14, \"incident_date_2\": \"2022-12\"}, {\"incident_date\": \"2023-01\", \"count\": 15, \"incident_date_2\": \"2023-01\"}, {\"incident_date\": \"2023-02\", \"count\": 13, \"incident_date_2\": \"2023-02\"}], \"data-21f6c0074b08c567d634f06e158c90ce\": [{\"incident_date\": \"2020-03\", \"count\": 31, \"incident_date_2\": \"2020-03\"}]}}, {\"mode\": \"vega-lite\"});\n",
       "</script>"
      ],
      "text/plain": [
       "alt.LayerChart(...)"
      ]
     },
     "execution_count": 140,
     "metadata": {},
     "output_type": "execute_result"
    }
   ],
   "source": [
    "# Visualize\n",
    "base = alt.Chart(filtered_nd_counts).mark_line(size=4).encode(\n",
    "    alt.X('incident_date:T',title='Date'),\n",
    "    alt.Y('count',title = 'Counts'),\n",
    "    tooltip = [alt.Tooltip('incident_date_2',title = 'Date'),alt.Tooltip('count',title='Drug Arrests')]\n",
    ").properties(\n",
    "    width=600,\n",
    "    height=400,\n",
    "    title='Narcan Deployments, Jan 2018 - Feb 2023'\n",
    ")\n",
    "median = alt.Chart(filtered_nd_counts).mark_rule(size=2,color='crimson').encode(\n",
    "    y='median(count)',\n",
    "    tooltip = alt.Tooltip(title = 'Median of counts')\n",
    ")\n",
    "text = (\n",
    "    alt.Chart(filtered_nd_counts.query(\"count == count.max()\"))\n",
    "    .mark_text(dy=-25, color=\"crimson\")\n",
    "    .encode(x=alt.X(\"incident_date:T\"), y=alt.Y(\"count\"), text=alt.Text((\"count\")) \n",
    "))\n",
    "base+median+text"
   ]
  },
  {
   "cell_type": "markdown",
   "id": "0813bd2d-d864-4cd7-894a-ba30320a01f7",
   "metadata": {
    "jp-MarkdownHeadingCollapsed": true,
    "tags": []
   },
   "source": [
    "### Drug Arrests by Day-of-Week and Time-of-Day"
   ]
  },
  {
   "cell_type": "markdown",
   "id": "b2d02c9d-a602-48f3-92bd-ee08b114f56c",
   "metadata": {},
   "source": [
    "#### Finding #5\n",
    "\n",
    "Most drug-related arrests occur on the **afternoons of Tuesday and Wednesday**. This result could be due to routine police patrol around those times."
   ]
  },
  {
   "cell_type": "code",
   "execution_count": 142,
   "id": "530a2d3f-86e6-4d1b-b067-ea6945f6d71f",
   "metadata": {
    "tags": []
   },
   "outputs": [
    {
     "data": {
      "text/html": [
       "<div>\n",
       "<style scoped>\n",
       "    .dataframe tbody tr th:only-of-type {\n",
       "        vertical-align: middle;\n",
       "    }\n",
       "\n",
       "    .dataframe tbody tr th {\n",
       "        vertical-align: top;\n",
       "    }\n",
       "\n",
       "    .dataframe thead th {\n",
       "        text-align: right;\n",
       "    }\n",
       "</style>\n",
       "<table border=\"1\" class=\"dataframe\">\n",
       "  <thead>\n",
       "    <tr style=\"text-align: right;\">\n",
       "      <th></th>\n",
       "      <th>incident_day_of_week</th>\n",
       "      <th>incident_time</th>\n",
       "      <th>count</th>\n",
       "      <th>hour</th>\n",
       "    </tr>\n",
       "  </thead>\n",
       "  <tbody>\n",
       "    <tr>\n",
       "      <th>0</th>\n",
       "      <td>Friday</td>\n",
       "      <td>00</td>\n",
       "      <td>73</td>\n",
       "      <td>00:00</td>\n",
       "    </tr>\n",
       "    <tr>\n",
       "      <th>1</th>\n",
       "      <td>Friday</td>\n",
       "      <td>01</td>\n",
       "      <td>37</td>\n",
       "      <td>01:00</td>\n",
       "    </tr>\n",
       "    <tr>\n",
       "      <th>2</th>\n",
       "      <td>Friday</td>\n",
       "      <td>02</td>\n",
       "      <td>23</td>\n",
       "      <td>02:00</td>\n",
       "    </tr>\n",
       "    <tr>\n",
       "      <th>3</th>\n",
       "      <td>Friday</td>\n",
       "      <td>03</td>\n",
       "      <td>33</td>\n",
       "      <td>03:00</td>\n",
       "    </tr>\n",
       "    <tr>\n",
       "      <th>4</th>\n",
       "      <td>Friday</td>\n",
       "      <td>04</td>\n",
       "      <td>22</td>\n",
       "      <td>04:00</td>\n",
       "    </tr>\n",
       "  </tbody>\n",
       "</table>\n",
       "</div>"
      ],
      "text/plain": [
       "  incident_day_of_week incident_time  count   hour\n",
       "0               Friday            00     73  00:00\n",
       "1               Friday            01     37  01:00\n",
       "2               Friday            02     23  02:00\n",
       "3               Friday            03     33  03:00\n",
       "4               Friday            04     22  04:00"
      ]
     },
     "execution_count": 142,
     "metadata": {},
     "output_type": "execute_result"
    }
   ],
   "source": [
    "# Grouping the arrests\n",
    "week_time = drug_arrest.groupby([drug_arrest['incident_day_of_week'],drug_arrest['incident_time'].dt.strftime('%H')]).size().reset_index(name='count')\n",
    "week_time['hour']=week_time['incident_time']+':00'\n",
    "week_time.head()"
   ]
  },
  {
   "cell_type": "code",
   "execution_count": 144,
   "id": "f811b594-ecc3-40fb-8ed4-1d2ed0aff2b6",
   "metadata": {
    "tags": []
   },
   "outputs": [
    {
     "data": {
      "text/html": [
       "\n",
       "<div id=\"altair-viz-402fdbbebb0d43798931070edaaeab50\"></div>\n",
       "<script type=\"text/javascript\">\n",
       "  var VEGA_DEBUG = (typeof VEGA_DEBUG == \"undefined\") ? {} : VEGA_DEBUG;\n",
       "  (function(spec, embedOpt){\n",
       "    let outputDiv = document.currentScript.previousElementSibling;\n",
       "    if (outputDiv.id !== \"altair-viz-402fdbbebb0d43798931070edaaeab50\") {\n",
       "      outputDiv = document.getElementById(\"altair-viz-402fdbbebb0d43798931070edaaeab50\");\n",
       "    }\n",
       "    const paths = {\n",
       "      \"vega\": \"https://cdn.jsdelivr.net/npm/vega@5?noext\",\n",
       "      \"vega-lib\": \"https://cdn.jsdelivr.net/npm/vega-lib?noext\",\n",
       "      \"vega-lite\": \"https://cdn.jsdelivr.net/npm/vega-lite@5.6.1?noext\",\n",
       "      \"vega-embed\": \"https://cdn.jsdelivr.net/npm/vega-embed@6?noext\",\n",
       "    };\n",
       "\n",
       "    function maybeLoadScript(lib, version) {\n",
       "      var key = `${lib.replace(\"-\", \"\")}_version`;\n",
       "      return (VEGA_DEBUG[key] == version) ?\n",
       "        Promise.resolve(paths[lib]) :\n",
       "        new Promise(function(resolve, reject) {\n",
       "          var s = document.createElement('script');\n",
       "          document.getElementsByTagName(\"head\")[0].appendChild(s);\n",
       "          s.async = true;\n",
       "          s.onload = () => {\n",
       "            VEGA_DEBUG[key] = version;\n",
       "            return resolve(paths[lib]);\n",
       "          };\n",
       "          s.onerror = () => reject(`Error loading script: ${paths[lib]}`);\n",
       "          s.src = paths[lib];\n",
       "        });\n",
       "    }\n",
       "\n",
       "    function showError(err) {\n",
       "      outputDiv.innerHTML = `<div class=\"error\" style=\"color:red;\">${err}</div>`;\n",
       "      throw err;\n",
       "    }\n",
       "\n",
       "    function displayChart(vegaEmbed) {\n",
       "      vegaEmbed(outputDiv, spec, embedOpt)\n",
       "        .catch(err => showError(`Javascript Error: ${err.message}<br>This usually means there's a typo in your chart specification. See the javascript console for the full traceback.`));\n",
       "    }\n",
       "\n",
       "    if(typeof define === \"function\" && define.amd) {\n",
       "      requirejs.config({paths});\n",
       "      require([\"vega-embed\"], displayChart, err => showError(`Error loading script: ${err.message}`));\n",
       "    } else {\n",
       "      maybeLoadScript(\"vega\", \"5\")\n",
       "        .then(() => maybeLoadScript(\"vega-lite\", \"5.6.1\"))\n",
       "        .then(() => maybeLoadScript(\"vega-embed\", \"6\"))\n",
       "        .catch(showError)\n",
       "        .then(() => displayChart(vegaEmbed));\n",
       "    }\n",
       "  })({\"config\": {\"view\": {\"continuousWidth\": 300, \"continuousHeight\": 300}}, \"data\": {\"name\": \"data-df9c3d9b1c0d63889cdce33d65bc3c11\"}, \"mark\": {\"type\": \"rect\"}, \"encoding\": {\"color\": {\"field\": \"count\", \"type\": \"quantitative\"}, \"tooltip\": [{\"field\": \"incident_day_of_week\", \"title\": \"Day\", \"type\": \"nominal\"}, {\"field\": \"hour\", \"title\": \"Time\", \"type\": \"nominal\"}, {\"field\": \"count\", \"title\": \"Drug Arrests\", \"type\": \"quantitative\"}], \"x\": {\"field\": \"incident_time\", \"title\": \"Hour of Day\", \"type\": \"nominal\"}, \"y\": {\"field\": \"incident_day_of_week\", \"title\": \"Day of Week\", \"type\": \"nominal\"}}, \"$schema\": \"https://vega.github.io/schema/vega-lite/v5.6.1.json\", \"datasets\": {\"data-df9c3d9b1c0d63889cdce33d65bc3c11\": [{\"incident_day_of_week\": \"Friday\", \"incident_time\": \"00\", \"count\": 73, \"hour\": \"00:00\"}, {\"incident_day_of_week\": \"Friday\", \"incident_time\": \"01\", \"count\": 37, \"hour\": \"01:00\"}, {\"incident_day_of_week\": \"Friday\", \"incident_time\": \"02\", \"count\": 23, \"hour\": \"02:00\"}, {\"incident_day_of_week\": \"Friday\", \"incident_time\": \"03\", \"count\": 33, \"hour\": \"03:00\"}, {\"incident_day_of_week\": \"Friday\", \"incident_time\": \"04\", \"count\": 22, \"hour\": \"04:00\"}, {\"incident_day_of_week\": \"Friday\", \"incident_time\": \"05\", \"count\": 13, \"hour\": \"05:00\"}, {\"incident_day_of_week\": \"Friday\", \"incident_time\": \"06\", \"count\": 31, \"hour\": \"06:00\"}, {\"incident_day_of_week\": \"Friday\", \"incident_time\": \"07\", \"count\": 106, \"hour\": \"07:00\"}, {\"incident_day_of_week\": \"Friday\", \"incident_time\": \"08\", \"count\": 112, \"hour\": \"08:00\"}, {\"incident_day_of_week\": \"Friday\", \"incident_time\": \"09\", \"count\": 109, \"hour\": \"09:00\"}, {\"incident_day_of_week\": \"Friday\", \"incident_time\": \"10\", \"count\": 125, \"hour\": \"10:00\"}, {\"incident_day_of_week\": \"Friday\", \"incident_time\": \"11\", \"count\": 121, \"hour\": \"11:00\"}, {\"incident_day_of_week\": \"Friday\", \"incident_time\": \"12\", \"count\": 183, \"hour\": \"12:00\"}, {\"incident_day_of_week\": \"Friday\", \"incident_time\": \"13\", \"count\": 209, \"hour\": \"13:00\"}, {\"incident_day_of_week\": \"Friday\", \"incident_time\": \"14\", \"count\": 158, \"hour\": \"14:00\"}, {\"incident_day_of_week\": \"Friday\", \"incident_time\": \"15\", \"count\": 185, \"hour\": \"15:00\"}, {\"incident_day_of_week\": \"Friday\", \"incident_time\": \"16\", \"count\": 172, \"hour\": \"16:00\"}, {\"incident_day_of_week\": \"Friday\", \"incident_time\": \"17\", \"count\": 144, \"hour\": \"17:00\"}, {\"incident_day_of_week\": \"Friday\", \"incident_time\": \"18\", \"count\": 105, \"hour\": \"18:00\"}, {\"incident_day_of_week\": \"Friday\", \"incident_time\": \"19\", \"count\": 107, \"hour\": \"19:00\"}, {\"incident_day_of_week\": \"Friday\", \"incident_time\": \"20\", \"count\": 39, \"hour\": \"20:00\"}, {\"incident_day_of_week\": \"Friday\", \"incident_time\": \"21\", \"count\": 55, \"hour\": \"21:00\"}, {\"incident_day_of_week\": \"Friday\", \"incident_time\": \"22\", \"count\": 72, \"hour\": \"22:00\"}, {\"incident_day_of_week\": \"Friday\", \"incident_time\": \"23\", \"count\": 58, \"hour\": \"23:00\"}, {\"incident_day_of_week\": \"Monday\", \"incident_time\": \"00\", \"count\": 42, \"hour\": \"00:00\"}, {\"incident_day_of_week\": \"Monday\", \"incident_time\": \"01\", \"count\": 38, \"hour\": \"01:00\"}, {\"incident_day_of_week\": \"Monday\", \"incident_time\": \"02\", \"count\": 40, \"hour\": \"02:00\"}, {\"incident_day_of_week\": \"Monday\", \"incident_time\": \"03\", \"count\": 18, \"hour\": \"03:00\"}, {\"incident_day_of_week\": \"Monday\", \"incident_time\": \"04\", \"count\": 11, \"hour\": \"04:00\"}, {\"incident_day_of_week\": \"Monday\", \"incident_time\": \"05\", \"count\": 9, \"hour\": \"05:00\"}, {\"incident_day_of_week\": \"Monday\", \"incident_time\": \"06\", \"count\": 29, \"hour\": \"06:00\"}, {\"incident_day_of_week\": \"Monday\", \"incident_time\": \"07\", \"count\": 54, \"hour\": \"07:00\"}, {\"incident_day_of_week\": \"Monday\", \"incident_time\": \"08\", \"count\": 67, \"hour\": \"08:00\"}, {\"incident_day_of_week\": \"Monday\", \"incident_time\": \"09\", \"count\": 80, \"hour\": \"09:00\"}, {\"incident_day_of_week\": \"Monday\", \"incident_time\": \"10\", \"count\": 53, \"hour\": \"10:00\"}, {\"incident_day_of_week\": \"Monday\", \"incident_time\": \"11\", \"count\": 163, \"hour\": \"11:00\"}, {\"incident_day_of_week\": \"Monday\", \"incident_time\": \"12\", \"count\": 167, \"hour\": \"12:00\"}, {\"incident_day_of_week\": \"Monday\", \"incident_time\": \"13\", \"count\": 246, \"hour\": \"13:00\"}, {\"incident_day_of_week\": \"Monday\", \"incident_time\": \"14\", \"count\": 234, \"hour\": \"14:00\"}, {\"incident_day_of_week\": \"Monday\", \"incident_time\": \"15\", \"count\": 199, \"hour\": \"15:00\"}, {\"incident_day_of_week\": \"Monday\", \"incident_time\": \"16\", \"count\": 155, \"hour\": \"16:00\"}, {\"incident_day_of_week\": \"Monday\", \"incident_time\": \"17\", \"count\": 124, \"hour\": \"17:00\"}, {\"incident_day_of_week\": \"Monday\", \"incident_time\": \"18\", \"count\": 114, \"hour\": \"18:00\"}, {\"incident_day_of_week\": \"Monday\", \"incident_time\": \"19\", \"count\": 82, \"hour\": \"19:00\"}, {\"incident_day_of_week\": \"Monday\", \"incident_time\": \"20\", \"count\": 44, \"hour\": \"20:00\"}, {\"incident_day_of_week\": \"Monday\", \"incident_time\": \"21\", \"count\": 50, \"hour\": \"21:00\"}, {\"incident_day_of_week\": \"Monday\", \"incident_time\": \"22\", \"count\": 37, \"hour\": \"22:00\"}, {\"incident_day_of_week\": \"Monday\", \"incident_time\": \"23\", \"count\": 44, \"hour\": \"23:00\"}, {\"incident_day_of_week\": \"Saturday\", \"incident_time\": \"00\", \"count\": 72, \"hour\": \"00:00\"}, {\"incident_day_of_week\": \"Saturday\", \"incident_time\": \"01\", \"count\": 37, \"hour\": \"01:00\"}, {\"incident_day_of_week\": \"Saturday\", \"incident_time\": \"02\", \"count\": 46, \"hour\": \"02:00\"}, {\"incident_day_of_week\": \"Saturday\", \"incident_time\": \"03\", \"count\": 13, \"hour\": \"03:00\"}, {\"incident_day_of_week\": \"Saturday\", \"incident_time\": \"04\", \"count\": 19, \"hour\": \"04:00\"}, {\"incident_day_of_week\": \"Saturday\", \"incident_time\": \"05\", \"count\": 16, \"hour\": \"05:00\"}, {\"incident_day_of_week\": \"Saturday\", \"incident_time\": \"06\", \"count\": 35, \"hour\": \"06:00\"}, {\"incident_day_of_week\": \"Saturday\", \"incident_time\": \"07\", \"count\": 74, \"hour\": \"07:00\"}, {\"incident_day_of_week\": \"Saturday\", \"incident_time\": \"08\", \"count\": 121, \"hour\": \"08:00\"}, {\"incident_day_of_week\": \"Saturday\", \"incident_time\": \"09\", \"count\": 92, \"hour\": \"09:00\"}, {\"incident_day_of_week\": \"Saturday\", \"incident_time\": \"10\", \"count\": 108, \"hour\": \"10:00\"}, {\"incident_day_of_week\": \"Saturday\", \"incident_time\": \"11\", \"count\": 112, \"hour\": \"11:00\"}, {\"incident_day_of_week\": \"Saturday\", \"incident_time\": \"12\", \"count\": 134, \"hour\": \"12:00\"}, {\"incident_day_of_week\": \"Saturday\", \"incident_time\": \"13\", \"count\": 119, \"hour\": \"13:00\"}, {\"incident_day_of_week\": \"Saturday\", \"incident_time\": \"14\", \"count\": 117, \"hour\": \"14:00\"}, {\"incident_day_of_week\": \"Saturday\", \"incident_time\": \"15\", \"count\": 167, \"hour\": \"15:00\"}, {\"incident_day_of_week\": \"Saturday\", \"incident_time\": \"16\", \"count\": 141, \"hour\": \"16:00\"}, {\"incident_day_of_week\": \"Saturday\", \"incident_time\": \"17\", \"count\": 131, \"hour\": \"17:00\"}, {\"incident_day_of_week\": \"Saturday\", \"incident_time\": \"18\", \"count\": 74, \"hour\": \"18:00\"}, {\"incident_day_of_week\": \"Saturday\", \"incident_time\": \"19\", \"count\": 64, \"hour\": \"19:00\"}, {\"incident_day_of_week\": \"Saturday\", \"incident_time\": \"20\", \"count\": 35, \"hour\": \"20:00\"}, {\"incident_day_of_week\": \"Saturday\", \"incident_time\": \"21\", \"count\": 46, \"hour\": \"21:00\"}, {\"incident_day_of_week\": \"Saturday\", \"incident_time\": \"22\", \"count\": 49, \"hour\": \"22:00\"}, {\"incident_day_of_week\": \"Saturday\", \"incident_time\": \"23\", \"count\": 46, \"hour\": \"23:00\"}, {\"incident_day_of_week\": \"Sunday\", \"incident_time\": \"00\", \"count\": 33, \"hour\": \"00:00\"}, {\"incident_day_of_week\": \"Sunday\", \"incident_time\": \"01\", \"count\": 18, \"hour\": \"01:00\"}, {\"incident_day_of_week\": \"Sunday\", \"incident_time\": \"02\", \"count\": 24, \"hour\": \"02:00\"}, {\"incident_day_of_week\": \"Sunday\", \"incident_time\": \"03\", \"count\": 21, \"hour\": \"03:00\"}, {\"incident_day_of_week\": \"Sunday\", \"incident_time\": \"04\", \"count\": 7, \"hour\": \"04:00\"}, {\"incident_day_of_week\": \"Sunday\", \"incident_time\": \"05\", \"count\": 15, \"hour\": \"05:00\"}, {\"incident_day_of_week\": \"Sunday\", \"incident_time\": \"06\", \"count\": 48, \"hour\": \"06:00\"}, {\"incident_day_of_week\": \"Sunday\", \"incident_time\": \"07\", \"count\": 53, \"hour\": \"07:00\"}, {\"incident_day_of_week\": \"Sunday\", \"incident_time\": \"08\", \"count\": 68, \"hour\": \"08:00\"}, {\"incident_day_of_week\": \"Sunday\", \"incident_time\": \"09\", \"count\": 76, \"hour\": \"09:00\"}, {\"incident_day_of_week\": \"Sunday\", \"incident_time\": \"10\", \"count\": 70, \"hour\": \"10:00\"}, {\"incident_day_of_week\": \"Sunday\", \"incident_time\": \"11\", \"count\": 129, \"hour\": \"11:00\"}, {\"incident_day_of_week\": \"Sunday\", \"incident_time\": \"12\", \"count\": 158, \"hour\": \"12:00\"}, {\"incident_day_of_week\": \"Sunday\", \"incident_time\": \"13\", \"count\": 158, \"hour\": \"13:00\"}, {\"incident_day_of_week\": \"Sunday\", \"incident_time\": \"14\", \"count\": 106, \"hour\": \"14:00\"}, {\"incident_day_of_week\": \"Sunday\", \"incident_time\": \"15\", \"count\": 143, \"hour\": \"15:00\"}, {\"incident_day_of_week\": \"Sunday\", \"incident_time\": \"16\", \"count\": 99, \"hour\": \"16:00\"}, {\"incident_day_of_week\": \"Sunday\", \"incident_time\": \"17\", \"count\": 116, \"hour\": \"17:00\"}, {\"incident_day_of_week\": \"Sunday\", \"incident_time\": \"18\", \"count\": 75, \"hour\": \"18:00\"}, {\"incident_day_of_week\": \"Sunday\", \"incident_time\": \"19\", \"count\": 45, \"hour\": \"19:00\"}, {\"incident_day_of_week\": \"Sunday\", \"incident_time\": \"20\", \"count\": 42, \"hour\": \"20:00\"}, {\"incident_day_of_week\": \"Sunday\", \"incident_time\": \"21\", \"count\": 43, \"hour\": \"21:00\"}, {\"incident_day_of_week\": \"Sunday\", \"incident_time\": \"22\", \"count\": 70, \"hour\": \"22:00\"}, {\"incident_day_of_week\": \"Sunday\", \"incident_time\": \"23\", \"count\": 51, \"hour\": \"23:00\"}, {\"incident_day_of_week\": \"Thursday\", \"incident_time\": \"00\", \"count\": 58, \"hour\": \"00:00\"}, {\"incident_day_of_week\": \"Thursday\", \"incident_time\": \"01\", \"count\": 54, \"hour\": \"01:00\"}, {\"incident_day_of_week\": \"Thursday\", \"incident_time\": \"02\", \"count\": 33, \"hour\": \"02:00\"}, {\"incident_day_of_week\": \"Thursday\", \"incident_time\": \"03\", \"count\": 36, \"hour\": \"03:00\"}, {\"incident_day_of_week\": \"Thursday\", \"incident_time\": \"04\", \"count\": 12, \"hour\": \"04:00\"}, {\"incident_day_of_week\": \"Thursday\", \"incident_time\": \"05\", \"count\": 24, \"hour\": \"05:00\"}, {\"incident_day_of_week\": \"Thursday\", \"incident_time\": \"06\", \"count\": 35, \"hour\": \"06:00\"}, {\"incident_day_of_week\": \"Thursday\", \"incident_time\": \"07\", \"count\": 123, \"hour\": \"07:00\"}, {\"incident_day_of_week\": \"Thursday\", \"incident_time\": \"08\", \"count\": 123, \"hour\": \"08:00\"}, {\"incident_day_of_week\": \"Thursday\", \"incident_time\": \"09\", \"count\": 146, \"hour\": \"09:00\"}, {\"incident_day_of_week\": \"Thursday\", \"incident_time\": \"10\", \"count\": 132, \"hour\": \"10:00\"}, {\"incident_day_of_week\": \"Thursday\", \"incident_time\": \"11\", \"count\": 144, \"hour\": \"11:00\"}, {\"incident_day_of_week\": \"Thursday\", \"incident_time\": \"12\", \"count\": 193, \"hour\": \"12:00\"}, {\"incident_day_of_week\": \"Thursday\", \"incident_time\": \"13\", \"count\": 327, \"hour\": \"13:00\"}, {\"incident_day_of_week\": \"Thursday\", \"incident_time\": \"14\", \"count\": 282, \"hour\": \"14:00\"}, {\"incident_day_of_week\": \"Thursday\", \"incident_time\": \"15\", \"count\": 260, \"hour\": \"15:00\"}, {\"incident_day_of_week\": \"Thursday\", \"incident_time\": \"16\", \"count\": 231, \"hour\": \"16:00\"}, {\"incident_day_of_week\": \"Thursday\", \"incident_time\": \"17\", \"count\": 172, \"hour\": \"17:00\"}, {\"incident_day_of_week\": \"Thursday\", \"incident_time\": \"18\", \"count\": 117, \"hour\": \"18:00\"}, {\"incident_day_of_week\": \"Thursday\", \"incident_time\": \"19\", \"count\": 100, \"hour\": \"19:00\"}, {\"incident_day_of_week\": \"Thursday\", \"incident_time\": \"20\", \"count\": 57, \"hour\": \"20:00\"}, {\"incident_day_of_week\": \"Thursday\", \"incident_time\": \"21\", \"count\": 64, \"hour\": \"21:00\"}, {\"incident_day_of_week\": \"Thursday\", \"incident_time\": \"22\", \"count\": 71, \"hour\": \"22:00\"}, {\"incident_day_of_week\": \"Thursday\", \"incident_time\": \"23\", \"count\": 85, \"hour\": \"23:00\"}, {\"incident_day_of_week\": \"Tuesday\", \"incident_time\": \"00\", \"count\": 62, \"hour\": \"00:00\"}, {\"incident_day_of_week\": \"Tuesday\", \"incident_time\": \"01\", \"count\": 38, \"hour\": \"01:00\"}, {\"incident_day_of_week\": \"Tuesday\", \"incident_time\": \"02\", \"count\": 28, \"hour\": \"02:00\"}, {\"incident_day_of_week\": \"Tuesday\", \"incident_time\": \"03\", \"count\": 34, \"hour\": \"03:00\"}, {\"incident_day_of_week\": \"Tuesday\", \"incident_time\": \"04\", \"count\": 17, \"hour\": \"04:00\"}, {\"incident_day_of_week\": \"Tuesday\", \"incident_time\": \"05\", \"count\": 11, \"hour\": \"05:00\"}, {\"incident_day_of_week\": \"Tuesday\", \"incident_time\": \"06\", \"count\": 31, \"hour\": \"06:00\"}, {\"incident_day_of_week\": \"Tuesday\", \"incident_time\": \"07\", \"count\": 77, \"hour\": \"07:00\"}, {\"incident_day_of_week\": \"Tuesday\", \"incident_time\": \"08\", \"count\": 92, \"hour\": \"08:00\"}, {\"incident_day_of_week\": \"Tuesday\", \"incident_time\": \"09\", \"count\": 91, \"hour\": \"09:00\"}, {\"incident_day_of_week\": \"Tuesday\", \"incident_time\": \"10\", \"count\": 80, \"hour\": \"10:00\"}, {\"incident_day_of_week\": \"Tuesday\", \"incident_time\": \"11\", \"count\": 142, \"hour\": \"11:00\"}, {\"incident_day_of_week\": \"Tuesday\", \"incident_time\": \"12\", \"count\": 227, \"hour\": \"12:00\"}, {\"incident_day_of_week\": \"Tuesday\", \"incident_time\": \"13\", \"count\": 312, \"hour\": \"13:00\"}, {\"incident_day_of_week\": \"Tuesday\", \"incident_time\": \"14\", \"count\": 450, \"hour\": \"14:00\"}, {\"incident_day_of_week\": \"Tuesday\", \"incident_time\": \"15\", \"count\": 343, \"hour\": \"15:00\"}, {\"incident_day_of_week\": \"Tuesday\", \"incident_time\": \"16\", \"count\": 332, \"hour\": \"16:00\"}, {\"incident_day_of_week\": \"Tuesday\", \"incident_time\": \"17\", \"count\": 190, \"hour\": \"17:00\"}, {\"incident_day_of_week\": \"Tuesday\", \"incident_time\": \"18\", \"count\": 134, \"hour\": \"18:00\"}, {\"incident_day_of_week\": \"Tuesday\", \"incident_time\": \"19\", \"count\": 112, \"hour\": \"19:00\"}, {\"incident_day_of_week\": \"Tuesday\", \"incident_time\": \"20\", \"count\": 64, \"hour\": \"20:00\"}, {\"incident_day_of_week\": \"Tuesday\", \"incident_time\": \"21\", \"count\": 40, \"hour\": \"21:00\"}, {\"incident_day_of_week\": \"Tuesday\", \"incident_time\": \"22\", \"count\": 81, \"hour\": \"22:00\"}, {\"incident_day_of_week\": \"Tuesday\", \"incident_time\": \"23\", \"count\": 66, \"hour\": \"23:00\"}, {\"incident_day_of_week\": \"Wednesday\", \"incident_time\": \"00\", \"count\": 62, \"hour\": \"00:00\"}, {\"incident_day_of_week\": \"Wednesday\", \"incident_time\": \"01\", \"count\": 22, \"hour\": \"01:00\"}, {\"incident_day_of_week\": \"Wednesday\", \"incident_time\": \"02\", \"count\": 51, \"hour\": \"02:00\"}, {\"incident_day_of_week\": \"Wednesday\", \"incident_time\": \"03\", \"count\": 36, \"hour\": \"03:00\"}, {\"incident_day_of_week\": \"Wednesday\", \"incident_time\": \"04\", \"count\": 16, \"hour\": \"04:00\"}, {\"incident_day_of_week\": \"Wednesday\", \"incident_time\": \"05\", \"count\": 16, \"hour\": \"05:00\"}, {\"incident_day_of_week\": \"Wednesday\", \"incident_time\": \"06\", \"count\": 59, \"hour\": \"06:00\"}, {\"incident_day_of_week\": \"Wednesday\", \"incident_time\": \"07\", \"count\": 148, \"hour\": \"07:00\"}, {\"incident_day_of_week\": \"Wednesday\", \"incident_time\": \"08\", \"count\": 137, \"hour\": \"08:00\"}, {\"incident_day_of_week\": \"Wednesday\", \"incident_time\": \"09\", \"count\": 155, \"hour\": \"09:00\"}, {\"incident_day_of_week\": \"Wednesday\", \"incident_time\": \"10\", \"count\": 150, \"hour\": \"10:00\"}, {\"incident_day_of_week\": \"Wednesday\", \"incident_time\": \"11\", \"count\": 208, \"hour\": \"11:00\"}, {\"incident_day_of_week\": \"Wednesday\", \"incident_time\": \"12\", \"count\": 268, \"hour\": \"12:00\"}, {\"incident_day_of_week\": \"Wednesday\", \"incident_time\": \"13\", \"count\": 375, \"hour\": \"13:00\"}, {\"incident_day_of_week\": \"Wednesday\", \"incident_time\": \"14\", \"count\": 392, \"hour\": \"14:00\"}, {\"incident_day_of_week\": \"Wednesday\", \"incident_time\": \"15\", \"count\": 338, \"hour\": \"15:00\"}, {\"incident_day_of_week\": \"Wednesday\", \"incident_time\": \"16\", \"count\": 286, \"hour\": \"16:00\"}, {\"incident_day_of_week\": \"Wednesday\", \"incident_time\": \"17\", \"count\": 216, \"hour\": \"17:00\"}, {\"incident_day_of_week\": \"Wednesday\", \"incident_time\": \"18\", \"count\": 180, \"hour\": \"18:00\"}, {\"incident_day_of_week\": \"Wednesday\", \"incident_time\": \"19\", \"count\": 137, \"hour\": \"19:00\"}, {\"incident_day_of_week\": \"Wednesday\", \"incident_time\": \"20\", \"count\": 108, \"hour\": \"20:00\"}, {\"incident_day_of_week\": \"Wednesday\", \"incident_time\": \"21\", \"count\": 75, \"hour\": \"21:00\"}, {\"incident_day_of_week\": \"Wednesday\", \"incident_time\": \"22\", \"count\": 77, \"hour\": \"22:00\"}, {\"incident_day_of_week\": \"Wednesday\", \"incident_time\": \"23\", \"count\": 65, \"hour\": \"23:00\"}]}}, {\"mode\": \"vega-lite\"});\n",
       "</script>"
      ],
      "text/plain": [
       "alt.Chart(...)"
      ]
     },
     "execution_count": 144,
     "metadata": {},
     "output_type": "execute_result"
    }
   ],
   "source": [
    "base = alt.Chart(week_time).mark_rect().encode(\n",
    "    alt.Y('incident_day_of_week',title = 'Day of Week'),\n",
    "    alt.X('incident_time',title = 'Hour of Day'),\n",
    "    color='count',\n",
    "    tooltip = [alt.Tooltip('incident_day_of_week',title='Day'),\n",
    "               alt.Tooltip('hour',title = 'Time'),\n",
    "               alt.Tooltip('count',title='Drug Arrests')]\n",
    ")\n",
    "base"
   ]
  },
  {
   "cell_type": "markdown",
   "id": "71e9768b-c2dd-4e62-947d-49096f95a0bf",
   "metadata": {
    "jp-MarkdownHeadingCollapsed": true,
    "tags": []
   },
   "source": [
    "## Beyond the Notebook"
   ]
  },
  {
   "cell_type": "markdown",
   "id": "537806c9-a211-479f-a5f5-201c43e685ef",
   "metadata": {},
   "source": [
    "Explore our dashboard to see how the drug epidemic affects different neighborhoods in San Francisco."
   ]
  }
 ],
 "metadata": {
  "kernelspec": {
   "display_name": "Python 3 (ipykernel)",
   "language": "python",
   "name": "python3"
  },
  "language_info": {
   "codemirror_mode": {
    "name": "ipython",
    "version": 3
   },
   "file_extension": ".py",
   "mimetype": "text/x-python",
   "name": "python",
   "nbconvert_exporter": "python",
   "pygments_lexer": "ipython3",
   "version": "3.9.13"
  }
 },
 "nbformat": 4,
 "nbformat_minor": 5
}
