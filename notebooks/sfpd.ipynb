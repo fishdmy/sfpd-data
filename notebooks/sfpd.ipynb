{
 "cells": [
  {
   "cell_type": "code",
   "execution_count": 1,
   "id": "772258fb-bc3e-4fc5-a62b-628f549e9929",
   "metadata": {},
   "outputs": [],
   "source": [
    "import csv"
   ]
  },
  {
   "cell_type": "code",
   "execution_count": 2,
   "id": "7b58f7ec-b18e-4939-881c-8b7b9a7b8c31",
   "metadata": {},
   "outputs": [],
   "source": [
    "import pandas as pd"
   ]
  },
  {
   "cell_type": "code",
   "execution_count": 5,
   "id": "c3cca097-597f-4052-a5fc-ba5d84d5e7dd",
   "metadata": {},
   "outputs": [],
   "source": [
    "sfpd_data = pd.read_csv(\"Police_Department_Incident_Reports__2018_to_Present.csv\")\n"
   ]
  },
  {
   "cell_type": "code",
   "execution_count": 17,
   "id": "bde9f523-6d79-426b-bebd-a7914b46bb01",
   "metadata": {},
   "outputs": [],
   "source": [
    "narcan_deployment = sfpd_data[sfpd_data['Incident Code'] == 51050]"
   ]
  },
  {
   "cell_type": "code",
   "execution_count": 34,
   "id": "00952db8-bca7-4684-ba02-de96df4f2b09",
   "metadata": {},
   "outputs": [],
   "source": [
    "drug_arrest = sfpd_data[~sfpd_data['Incident Category'].isna()]\n",
    "drug_arrest_data = drug_arrest[drug_arrest['Incident Category'].str.contains('Drug')]"
   ]
  },
  {
   "cell_type": "code",
   "execution_count": 33,
   "id": "7775692a-2db3-4b2b-bbc3-0e3e7d7617bf",
   "metadata": {},
   "outputs": [],
   "source": [
    "narcan_deployment.to_csv(\"/Users/mengyu/code/sfpd_data/data/processed/narcan_deployment.csv\")"
   ]
  },
  {
   "cell_type": "code",
   "execution_count": 35,
   "id": "f9b27bc4-3356-42c3-bbfe-fdb532bea341",
   "metadata": {},
   "outputs": [],
   "source": [
    "drug_arrest_data.to_csv(\"/Users/mengyu/code/sfpd_data/data/processed/drug_arrest_data.csv\")"
   ]
  },
  {
   "cell_type": "code",
   "execution_count": null,
   "id": "41d27348-5233-4b06-823a-06044575138a",
   "metadata": {},
   "outputs": [],
   "source": []
  }
 ],
 "metadata": {
  "kernelspec": {
   "display_name": "Python 3 (ipykernel)",
   "language": "python",
   "name": "python3"
  },
  "language_info": {
   "codemirror_mode": {
    "name": "ipython",
    "version": 3
   },
   "file_extension": ".py",
   "mimetype": "text/x-python",
   "name": "python",
   "nbconvert_exporter": "python",
   "pygments_lexer": "ipython3",
   "version": "3.10.9"
  }
 },
 "nbformat": 4,
 "nbformat_minor": 5
}
