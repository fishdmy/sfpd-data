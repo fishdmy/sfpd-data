{
 "cells": [
  {
   "cell_type": "code",
   "execution_count": 5,
   "metadata": {},
   "outputs": [],
   "source": [
    "import pandas as pd"
   ]
  },
  {
   "cell_type": "code",
   "execution_count": 1,
   "metadata": {},
   "outputs": [],
   "source": [
    "import geopandas as gpd"
   ]
  },
  {
   "cell_type": "code",
   "execution_count": 2,
   "metadata": {},
   "outputs": [],
   "source": [
    "import altair as alt"
   ]
  },
  {
   "cell_type": "code",
   "execution_count": 6,
   "metadata": {},
   "outputs": [
    {
     "data": {
      "text/plain": [
       "Incident Day of Week\n",
       "Wednesday    3577\n",
       "Tuesday      3054\n",
       "Thursday     2879\n",
       "Friday       2292\n",
       "Monday       2100\n",
       "Saturday     1868\n",
       "Sunday       1668\n",
       "dtype: int64"
      ]
     },
     "execution_count": 6,
     "metadata": {},
     "output_type": "execute_result"
    }
   ],
   "source": [
    "drug_arrest = pd.read_csv('/Users/mengyu/code/sfpd_data/data/processed/drug_arrest_data.csv')\n",
    "drug_arrest.groupby('Incident Day of Week').size().sort_values(ascending=False)"
   ]
  },
  {
   "cell_type": "code",
   "execution_count": 7,
   "metadata": {},
   "outputs": [
    {
     "data": {
      "text/plain": [
       "Incident Category\n",
       "Drug Offense      17195\n",
       "Drug Violation      243\n",
       "dtype: int64"
      ]
     },
     "execution_count": 7,
     "metadata": {},
     "output_type": "execute_result"
    }
   ],
   "source": [
    "drug_arrest.groupby('Incident Category').size().sort_values(ascending=False)"
   ]
  },
  {
   "cell_type": "code",
   "execution_count": 8,
   "metadata": {},
   "outputs": [
    {
     "data": {
      "text/plain": [
       "Incident Category  Incident Description                     \n",
       "Drug Offense       Narcotics Paraphernalia, Possession of       4254\n",
       "                   Methamphetamine, Possession For Sale         1936\n",
       "                   Cocaine, Base/rock, Possession For Sale      1790\n",
       "                   Methamphetamine Offense                      1546\n",
       "                   Heroin, Possession For Sale                  1508\n",
       "                                                                ... \n",
       "                   Barbiturates, Possession For Sale               1\n",
       "                   Barbiturates, Transportation                    1\n",
       "                   Methadone, Transportation                       1\n",
       "                   Methadone, Sale                                 1\n",
       "                   Controlled Substance, Presence Where Used       1\n",
       "Length: 62, dtype: int64"
      ]
     },
     "execution_count": 8,
     "metadata": {},
     "output_type": "execute_result"
    }
   ],
   "source": [
    "drug_arrest.groupby(['Incident Category','Incident Description']).size().sort_values(ascending=False)"
   ]
  },
  {
   "cell_type": "code",
   "execution_count": 9,
   "metadata": {},
   "outputs": [
    {
     "data": {
      "text/plain": [
       "Analysis Neighborhood\n",
       "Tenderloin                        8613\n",
       "South of Market                   2962\n",
       "Mission                           1740\n",
       "Financial District/South Beach     451\n",
       "Bayview Hunters Point              437\n",
       "Castro/Upper Market                291\n",
       "Western Addition                   273\n",
       "Haight Ashbury                     242\n",
       "Nob Hill                           213\n",
       "North Beach                        137\n",
       "dtype: int64"
      ]
     },
     "execution_count": 9,
     "metadata": {},
     "output_type": "execute_result"
    }
   ],
   "source": [
    "drug_arrest.groupby('Analysis Neighborhood').size().sort_values(ascending=False).head(10)"
   ]
  },
  {
   "cell_type": "code",
   "execution_count": 10,
   "metadata": {},
   "outputs": [
    {
     "data": {
      "text/plain": [
       "Incident Day of Week  Incident Time\n",
       "Friday                00:00            20\n",
       "                      00:01             3\n",
       "                      00:02             2\n",
       "                      00:03             1\n",
       "                      00:07             1\n",
       "                                       ..\n",
       "Wednesday             23:50             2\n",
       "                      23:52             2\n",
       "                      23:55             2\n",
       "                      23:56             3\n",
       "                      23:59             2\n",
       "Length: 5403, dtype: int64"
      ]
     },
     "execution_count": 10,
     "metadata": {},
     "output_type": "execute_result"
    }
   ],
   "source": [
    "drug_arrest.groupby(['Incident Day of Week','Incident Time']).size()"
   ]
  },
  {
   "cell_type": "code",
   "execution_count": 11,
   "metadata": {},
   "outputs": [
    {
     "name": "stdout",
     "output_type": "stream",
     "text": [
      "<class 'pandas.core.frame.DataFrame'>\n",
      "RangeIndex: 17438 entries, 0 to 17437\n",
      "Data columns (total 35 columns):\n",
      " #   Column                                                Non-Null Count  Dtype  \n",
      "---  ------                                                --------------  -----  \n",
      " 0   Unnamed: 0                                            17438 non-null  int64  \n",
      " 1   Incident Datetime                                     17438 non-null  object \n",
      " 2   Incident Date                                         17438 non-null  object \n",
      " 3   Incident Time                                         17438 non-null  object \n",
      " 4   Incident Year                                         17438 non-null  int64  \n",
      " 5   Incident Day of Week                                  17438 non-null  object \n",
      " 6   Report Datetime                                       17438 non-null  object \n",
      " 7   Row ID                                                17438 non-null  int64  \n",
      " 8   Incident ID                                           17438 non-null  int64  \n",
      " 9   Incident Number                                       17438 non-null  int64  \n",
      " 10  CAD Number                                            17348 non-null  float64\n",
      " 11  Report Type Code                                      17438 non-null  object \n",
      " 12  Report Type Description                               17438 non-null  object \n",
      " 13  Filed Online                                          0 non-null      float64\n",
      " 14  Incident Code                                         17438 non-null  int64  \n",
      " 15  Incident Category                                     17438 non-null  object \n",
      " 16  Incident Subcategory                                  17438 non-null  object \n",
      " 17  Incident Description                                  17438 non-null  object \n",
      " 18  Resolution                                            17438 non-null  object \n",
      " 19  Intersection                                          17224 non-null  object \n",
      " 20  CNN                                                   17224 non-null  float64\n",
      " 21  Police District                                       17438 non-null  object \n",
      " 22  Analysis Neighborhood                                 17223 non-null  object \n",
      " 23  Supervisor District                                   17224 non-null  float64\n",
      " 24  Latitude                                              17224 non-null  float64\n",
      " 25  Longitude                                             17224 non-null  float64\n",
      " 26  Point                                                 17224 non-null  object \n",
      " 27  Neighborhoods                                         17063 non-null  float64\n",
      " 28  ESNCAG - Boundary File                                57 non-null     float64\n",
      " 29  Central Market/Tenderloin Boundary Polygon - Updated  10771 non-null  float64\n",
      " 30  Civic Center Harm Reduction Project Boundary          9976 non-null   float64\n",
      " 31  HSOC Zones as of 2018-06-05                           9441 non-null   float64\n",
      " 32  Invest In Neighborhoods (IIN) Areas                   0 non-null      float64\n",
      " 33  Current Supervisor Districts                          17220 non-null  float64\n",
      " 34  Current Police Districts                              17215 non-null  float64\n",
      "dtypes: float64(14), int64(6), object(15)\n",
      "memory usage: 4.7+ MB\n"
     ]
    }
   ],
   "source": [
    "drug_arrest.info()"
   ]
  },
  {
   "cell_type": "code",
   "execution_count": 12,
   "metadata": {},
   "outputs": [
    {
     "data": {
      "text/html": [
       "<div>\n",
       "<style scoped>\n",
       "    .dataframe tbody tr th:only-of-type {\n",
       "        vertical-align: middle;\n",
       "    }\n",
       "\n",
       "    .dataframe tbody tr th {\n",
       "        vertical-align: top;\n",
       "    }\n",
       "\n",
       "    .dataframe thead th {\n",
       "        text-align: right;\n",
       "    }\n",
       "</style>\n",
       "<table border=\"1\" class=\"dataframe\">\n",
       "  <thead>\n",
       "    <tr style=\"text-align: right;\">\n",
       "      <th></th>\n",
       "      <th>incident_date</th>\n",
       "      <th>count</th>\n",
       "      <th>incident_date_2</th>\n",
       "    </tr>\n",
       "  </thead>\n",
       "  <tbody>\n",
       "    <tr>\n",
       "      <th>0</th>\n",
       "      <td>2018-01</td>\n",
       "      <td>337</td>\n",
       "      <td>2018-01</td>\n",
       "    </tr>\n",
       "    <tr>\n",
       "      <th>1</th>\n",
       "      <td>2018-02</td>\n",
       "      <td>356</td>\n",
       "      <td>2018-02</td>\n",
       "    </tr>\n",
       "    <tr>\n",
       "      <th>2</th>\n",
       "      <td>2018-03</td>\n",
       "      <td>423</td>\n",
       "      <td>2018-03</td>\n",
       "    </tr>\n",
       "    <tr>\n",
       "      <th>3</th>\n",
       "      <td>2018-04</td>\n",
       "      <td>348</td>\n",
       "      <td>2018-04</td>\n",
       "    </tr>\n",
       "    <tr>\n",
       "      <th>4</th>\n",
       "      <td>2018-05</td>\n",
       "      <td>384</td>\n",
       "      <td>2018-05</td>\n",
       "    </tr>\n",
       "  </tbody>\n",
       "</table>\n",
       "</div>"
      ],
      "text/plain": [
       "  incident_date  count incident_date_2\n",
       "0       2018-01    337         2018-01\n",
       "1       2018-02    356         2018-02\n",
       "2       2018-03    423         2018-03\n",
       "3       2018-04    348         2018-04\n",
       "4       2018-05    384         2018-05"
      ]
     },
     "execution_count": 12,
     "metadata": {},
     "output_type": "execute_result"
    }
   ],
   "source": [
    "drug_arrest= drug_arrest.rename(columns={\"Incident Date\":'incident_date','Row ID':'row_id',\n",
    "                                         'Incident Day of Week':'day_of_week','Incident Year':'year'})\n",
    "drug_arrest['incident_date'] = pd.to_datetime(drug_arrest['incident_date'])\n",
    "counts = drug_arrest.groupby(drug_arrest['incident_date'].dt.strftime('%Y-%m')).size().reset_index(name='count')\n",
    "counts['incident_date_2'] = counts['incident_date']\n",
    "counts.head()"
   ]
  },
  {
   "cell_type": "code",
   "execution_count": 13,
   "metadata": {},
   "outputs": [
    {
     "data": {
      "text/html": [
       "\n",
       "<div id=\"altair-viz-8845afd6b0df49cab0d4831097838b09\"></div>\n",
       "<script type=\"text/javascript\">\n",
       "  var VEGA_DEBUG = (typeof VEGA_DEBUG == \"undefined\") ? {} : VEGA_DEBUG;\n",
       "  (function(spec, embedOpt){\n",
       "    let outputDiv = document.currentScript.previousElementSibling;\n",
       "    if (outputDiv.id !== \"altair-viz-8845afd6b0df49cab0d4831097838b09\") {\n",
       "      outputDiv = document.getElementById(\"altair-viz-8845afd6b0df49cab0d4831097838b09\");\n",
       "    }\n",
       "    const paths = {\n",
       "      \"vega\": \"https://cdn.jsdelivr.net/npm//vega@5?noext\",\n",
       "      \"vega-lib\": \"https://cdn.jsdelivr.net/npm//vega-lib?noext\",\n",
       "      \"vega-lite\": \"https://cdn.jsdelivr.net/npm//vega-lite@4.17.0?noext\",\n",
       "      \"vega-embed\": \"https://cdn.jsdelivr.net/npm//vega-embed@6?noext\",\n",
       "    };\n",
       "\n",
       "    function maybeLoadScript(lib, version) {\n",
       "      var key = `${lib.replace(\"-\", \"\")}_version`;\n",
       "      return (VEGA_DEBUG[key] == version) ?\n",
       "        Promise.resolve(paths[lib]) :\n",
       "        new Promise(function(resolve, reject) {\n",
       "          var s = document.createElement('script');\n",
       "          document.getElementsByTagName(\"head\")[0].appendChild(s);\n",
       "          s.async = true;\n",
       "          s.onload = () => {\n",
       "            VEGA_DEBUG[key] = version;\n",
       "            return resolve(paths[lib]);\n",
       "          };\n",
       "          s.onerror = () => reject(`Error loading script: ${paths[lib]}`);\n",
       "          s.src = paths[lib];\n",
       "        });\n",
       "    }\n",
       "\n",
       "    function showError(err) {\n",
       "      outputDiv.innerHTML = `<div class=\"error\" style=\"color:red;\">${err}</div>`;\n",
       "      throw err;\n",
       "    }\n",
       "\n",
       "    function displayChart(vegaEmbed) {\n",
       "      vegaEmbed(outputDiv, spec, embedOpt)\n",
       "        .catch(err => showError(`Javascript Error: ${err.message}<br>This usually means there's a typo in your chart specification. See the javascript console for the full traceback.`));\n",
       "    }\n",
       "\n",
       "    if(typeof define === \"function\" && define.amd) {\n",
       "      requirejs.config({paths});\n",
       "      require([\"vega-embed\"], displayChart, err => showError(`Error loading script: ${err.message}`));\n",
       "    } else {\n",
       "      maybeLoadScript(\"vega\", \"5\")\n",
       "        .then(() => maybeLoadScript(\"vega-lite\", \"4.17.0\"))\n",
       "        .then(() => maybeLoadScript(\"vega-embed\", \"6\"))\n",
       "        .catch(showError)\n",
       "        .then(() => displayChart(vegaEmbed));\n",
       "    }\n",
       "  })({\"config\": {\"view\": {\"continuousWidth\": 400, \"continuousHeight\": 300}}, \"data\": {\"name\": \"data-09fa555d1c83c8a82b8855af93d836e2\"}, \"mark\": {\"type\": \"bar\", \"size\": 9}, \"encoding\": {\"tooltip\": [{\"field\": \"incident_date_2\", \"title\": \"Date\", \"type\": \"nominal\"}, {\"field\": \"count\", \"title\": \"Drug Arrests\", \"type\": \"quantitative\"}], \"x\": {\"field\": \"incident_date\", \"title\": \"Date\", \"type\": \"temporal\"}, \"y\": {\"field\": \"count\", \"type\": \"quantitative\"}}, \"height\": 400, \"selection\": {\"selector001\": {\"type\": \"interval\", \"bind\": \"scales\", \"encodings\": [\"x\", \"y\"]}}, \"title\": \"Incidents by Year-Month\", \"width\": 600, \"$schema\": \"https://vega.github.io/schema/vega-lite/v4.17.0.json\", \"datasets\": {\"data-09fa555d1c83c8a82b8855af93d836e2\": [{\"incident_date\": \"2018-01\", \"count\": 337, \"incident_date_2\": \"2018-01\"}, {\"incident_date\": \"2018-02\", \"count\": 356, \"incident_date_2\": \"2018-02\"}, {\"incident_date\": \"2018-03\", \"count\": 423, \"incident_date_2\": \"2018-03\"}, {\"incident_date\": \"2018-04\", \"count\": 348, \"incident_date_2\": \"2018-04\"}, {\"incident_date\": \"2018-05\", \"count\": 384, \"incident_date_2\": \"2018-05\"}, {\"incident_date\": \"2018-06\", \"count\": 251, \"incident_date_2\": \"2018-06\"}, {\"incident_date\": \"2018-07\", \"count\": 334, \"incident_date_2\": \"2018-07\"}, {\"incident_date\": \"2018-08\", \"count\": 287, \"incident_date_2\": \"2018-08\"}, {\"incident_date\": \"2018-09\", \"count\": 274, \"incident_date_2\": \"2018-09\"}, {\"incident_date\": \"2018-10\", \"count\": 445, \"incident_date_2\": \"2018-10\"}, {\"incident_date\": \"2018-11\", \"count\": 437, \"incident_date_2\": \"2018-11\"}, {\"incident_date\": \"2018-12\", \"count\": 267, \"incident_date_2\": \"2018-12\"}, {\"incident_date\": \"2019-01\", \"count\": 316, \"incident_date_2\": \"2019-01\"}, {\"incident_date\": \"2019-02\", \"count\": 285, \"incident_date_2\": \"2019-02\"}, {\"incident_date\": \"2019-03\", \"count\": 323, \"incident_date_2\": \"2019-03\"}, {\"incident_date\": \"2019-04\", \"count\": 329, \"incident_date_2\": \"2019-04\"}, {\"incident_date\": \"2019-05\", \"count\": 295, \"incident_date_2\": \"2019-05\"}, {\"incident_date\": \"2019-06\", \"count\": 291, \"incident_date_2\": \"2019-06\"}, {\"incident_date\": \"2019-07\", \"count\": 353, \"incident_date_2\": \"2019-07\"}, {\"incident_date\": \"2019-08\", \"count\": 294, \"incident_date_2\": \"2019-08\"}, {\"incident_date\": \"2019-09\", \"count\": 320, \"incident_date_2\": \"2019-09\"}, {\"incident_date\": \"2019-10\", \"count\": 303, \"incident_date_2\": \"2019-10\"}, {\"incident_date\": \"2019-11\", \"count\": 293, \"incident_date_2\": \"2019-11\"}, {\"incident_date\": \"2019-12\", \"count\": 293, \"incident_date_2\": \"2019-12\"}, {\"incident_date\": \"2020-01\", \"count\": 299, \"incident_date_2\": \"2020-01\"}, {\"incident_date\": \"2020-02\", \"count\": 348, \"incident_date_2\": \"2020-02\"}, {\"incident_date\": \"2020-03\", \"count\": 165, \"incident_date_2\": \"2020-03\"}, {\"incident_date\": \"2020-04\", \"count\": 86, \"incident_date_2\": \"2020-04\"}, {\"incident_date\": \"2020-05\", \"count\": 229, \"incident_date_2\": \"2020-05\"}, {\"incident_date\": \"2020-06\", \"count\": 257, \"incident_date_2\": \"2020-06\"}, {\"incident_date\": \"2020-07\", \"count\": 227, \"incident_date_2\": \"2020-07\"}, {\"incident_date\": \"2020-08\", \"count\": 240, \"incident_date_2\": \"2020-08\"}, {\"incident_date\": \"2020-09\", \"count\": 229, \"incident_date_2\": \"2020-09\"}, {\"incident_date\": \"2020-10\", \"count\": 209, \"incident_date_2\": \"2020-10\"}, {\"incident_date\": \"2020-11\", \"count\": 148, \"incident_date_2\": \"2020-11\"}, {\"incident_date\": \"2020-12\", \"count\": 211, \"incident_date_2\": \"2020-12\"}, {\"incident_date\": \"2021-01\", \"count\": 249, \"incident_date_2\": \"2021-01\"}, {\"incident_date\": \"2021-02\", \"count\": 240, \"incident_date_2\": \"2021-02\"}, {\"incident_date\": \"2021-03\", \"count\": 179, \"incident_date_2\": \"2021-03\"}, {\"incident_date\": \"2021-04\", \"count\": 239, \"incident_date_2\": \"2021-04\"}, {\"incident_date\": \"2021-05\", \"count\": 110, \"incident_date_2\": \"2021-05\"}, {\"incident_date\": \"2021-06\", \"count\": 205, \"incident_date_2\": \"2021-06\"}, {\"incident_date\": \"2021-07\", \"count\": 201, \"incident_date_2\": \"2021-07\"}, {\"incident_date\": \"2021-08\", \"count\": 192, \"incident_date_2\": \"2021-08\"}, {\"incident_date\": \"2021-09\", \"count\": 172, \"incident_date_2\": \"2021-09\"}, {\"incident_date\": \"2021-10\", \"count\": 188, \"incident_date_2\": \"2021-10\"}, {\"incident_date\": \"2021-11\", \"count\": 154, \"incident_date_2\": \"2021-11\"}, {\"incident_date\": \"2021-12\", \"count\": 242, \"incident_date_2\": \"2021-12\"}, {\"incident_date\": \"2022-01\", \"count\": 269, \"incident_date_2\": \"2022-01\"}, {\"incident_date\": \"2022-02\", \"count\": 246, \"incident_date_2\": \"2022-02\"}, {\"incident_date\": \"2022-03\", \"count\": 258, \"incident_date_2\": \"2022-03\"}, {\"incident_date\": \"2022-04\", \"count\": 200, \"incident_date_2\": \"2022-04\"}, {\"incident_date\": \"2022-05\", \"count\": 260, \"incident_date_2\": \"2022-05\"}, {\"incident_date\": \"2022-06\", \"count\": 248, \"incident_date_2\": \"2022-06\"}, {\"incident_date\": \"2022-07\", \"count\": 542, \"incident_date_2\": \"2022-07\"}, {\"incident_date\": \"2022-08\", \"count\": 519, \"incident_date_2\": \"2022-08\"}, {\"incident_date\": \"2022-09\", \"count\": 328, \"incident_date_2\": \"2022-09\"}, {\"incident_date\": \"2022-10\", \"count\": 253, \"incident_date_2\": \"2022-10\"}, {\"incident_date\": \"2022-11\", \"count\": 328, \"incident_date_2\": \"2022-11\"}, {\"incident_date\": \"2022-12\", \"count\": 320, \"incident_date_2\": \"2022-12\"}, {\"incident_date\": \"2023-01\", \"count\": 329, \"incident_date_2\": \"2023-01\"}, {\"incident_date\": \"2023-02\", \"count\": 434, \"incident_date_2\": \"2023-02\"}, {\"incident_date\": \"2023-03\", \"count\": 47, \"incident_date_2\": \"2023-03\"}]}}, {\"mode\": \"vega-lite\"});\n",
       "</script>"
      ],
      "text/plain": [
       "alt.Chart(...)"
      ]
     },
     "execution_count": 13,
     "metadata": {},
     "output_type": "execute_result"
    }
   ],
   "source": [
    "base = alt.Chart(counts).mark_bar(size=9).encode(\n",
    "    alt.X('incident_date:T',title='Date'),\n",
    "    y='count',\n",
    "    tooltip = [alt.Tooltip('incident_date_2',title = 'Date'),alt.Tooltip('count',title='Drug Arrests')]\n",
    ").properties(\n",
    "    width=600,\n",
    "    height=400,\n",
    "    title='Incidents by Year-Month'\n",
    ")\n",
    "\n",
    "base.interactive()"
   ]
  },
  {
   "cell_type": "code",
   "execution_count": 14,
   "metadata": {},
   "outputs": [
    {
     "data": {
      "text/html": [
       "<div>\n",
       "<style scoped>\n",
       "    .dataframe tbody tr th:only-of-type {\n",
       "        vertical-align: middle;\n",
       "    }\n",
       "\n",
       "    .dataframe tbody tr th {\n",
       "        vertical-align: top;\n",
       "    }\n",
       "\n",
       "    .dataframe thead th {\n",
       "        text-align: right;\n",
       "    }\n",
       "</style>\n",
       "<table border=\"1\" class=\"dataframe\">\n",
       "  <thead>\n",
       "    <tr style=\"text-align: right;\">\n",
       "      <th></th>\n",
       "      <th>incident_date</th>\n",
       "      <th>day_of_week</th>\n",
       "      <th>count</th>\n",
       "    </tr>\n",
       "  </thead>\n",
       "  <tbody>\n",
       "    <tr>\n",
       "      <th>0</th>\n",
       "      <td>01</td>\n",
       "      <td>Friday</td>\n",
       "      <td>253</td>\n",
       "    </tr>\n",
       "    <tr>\n",
       "      <th>1</th>\n",
       "      <td>01</td>\n",
       "      <td>Monday</td>\n",
       "      <td>201</td>\n",
       "    </tr>\n",
       "    <tr>\n",
       "      <th>2</th>\n",
       "      <td>01</td>\n",
       "      <td>Saturday</td>\n",
       "      <td>206</td>\n",
       "    </tr>\n",
       "    <tr>\n",
       "      <th>3</th>\n",
       "      <td>01</td>\n",
       "      <td>Sunday</td>\n",
       "      <td>206</td>\n",
       "    </tr>\n",
       "    <tr>\n",
       "      <th>4</th>\n",
       "      <td>01</td>\n",
       "      <td>Thursday</td>\n",
       "      <td>287</td>\n",
       "    </tr>\n",
       "  </tbody>\n",
       "</table>\n",
       "</div>"
      ],
      "text/plain": [
       "  incident_date day_of_week  count\n",
       "0            01      Friday    253\n",
       "1            01      Monday    201\n",
       "2            01    Saturday    206\n",
       "3            01      Sunday    206\n",
       "4            01    Thursday    287"
      ]
     },
     "execution_count": 14,
     "metadata": {},
     "output_type": "execute_result"
    }
   ],
   "source": [
    "month_week = drug_arrest.groupby([drug_arrest['incident_date'].dt.strftime('%m'),drug_arrest['day_of_week']]).size().reset_index(name='count')\n",
    "month_week.head()"
   ]
  },
  {
   "cell_type": "code",
   "execution_count": 15,
   "metadata": {},
   "outputs": [
    {
     "data": {
      "text/html": [
       "\n",
       "<div id=\"altair-viz-1520fafb7442418381e2972f95bf197e\"></div>\n",
       "<script type=\"text/javascript\">\n",
       "  var VEGA_DEBUG = (typeof VEGA_DEBUG == \"undefined\") ? {} : VEGA_DEBUG;\n",
       "  (function(spec, embedOpt){\n",
       "    let outputDiv = document.currentScript.previousElementSibling;\n",
       "    if (outputDiv.id !== \"altair-viz-1520fafb7442418381e2972f95bf197e\") {\n",
       "      outputDiv = document.getElementById(\"altair-viz-1520fafb7442418381e2972f95bf197e\");\n",
       "    }\n",
       "    const paths = {\n",
       "      \"vega\": \"https://cdn.jsdelivr.net/npm//vega@5?noext\",\n",
       "      \"vega-lib\": \"https://cdn.jsdelivr.net/npm//vega-lib?noext\",\n",
       "      \"vega-lite\": \"https://cdn.jsdelivr.net/npm//vega-lite@4.17.0?noext\",\n",
       "      \"vega-embed\": \"https://cdn.jsdelivr.net/npm//vega-embed@6?noext\",\n",
       "    };\n",
       "\n",
       "    function maybeLoadScript(lib, version) {\n",
       "      var key = `${lib.replace(\"-\", \"\")}_version`;\n",
       "      return (VEGA_DEBUG[key] == version) ?\n",
       "        Promise.resolve(paths[lib]) :\n",
       "        new Promise(function(resolve, reject) {\n",
       "          var s = document.createElement('script');\n",
       "          document.getElementsByTagName(\"head\")[0].appendChild(s);\n",
       "          s.async = true;\n",
       "          s.onload = () => {\n",
       "            VEGA_DEBUG[key] = version;\n",
       "            return resolve(paths[lib]);\n",
       "          };\n",
       "          s.onerror = () => reject(`Error loading script: ${paths[lib]}`);\n",
       "          s.src = paths[lib];\n",
       "        });\n",
       "    }\n",
       "\n",
       "    function showError(err) {\n",
       "      outputDiv.innerHTML = `<div class=\"error\" style=\"color:red;\">${err}</div>`;\n",
       "      throw err;\n",
       "    }\n",
       "\n",
       "    function displayChart(vegaEmbed) {\n",
       "      vegaEmbed(outputDiv, spec, embedOpt)\n",
       "        .catch(err => showError(`Javascript Error: ${err.message}<br>This usually means there's a typo in your chart specification. See the javascript console for the full traceback.`));\n",
       "    }\n",
       "\n",
       "    if(typeof define === \"function\" && define.amd) {\n",
       "      requirejs.config({paths});\n",
       "      require([\"vega-embed\"], displayChart, err => showError(`Error loading script: ${err.message}`));\n",
       "    } else {\n",
       "      maybeLoadScript(\"vega\", \"5\")\n",
       "        .then(() => maybeLoadScript(\"vega-lite\", \"4.17.0\"))\n",
       "        .then(() => maybeLoadScript(\"vega-embed\", \"6\"))\n",
       "        .catch(showError)\n",
       "        .then(() => displayChart(vegaEmbed));\n",
       "    }\n",
       "  })({\"config\": {\"view\": {\"continuousWidth\": 400, \"continuousHeight\": 300}}, \"data\": {\"name\": \"data-b454b03a0c7bf1f42ddea95acf9303e9\"}, \"mark\": \"rect\", \"encoding\": {\"color\": {\"field\": \"count\", \"type\": \"quantitative\"}, \"x\": {\"field\": \"incident_date\", \"title\": \"Month\", \"type\": \"ordinal\"}, \"y\": {\"field\": \"day_of_week\", \"title\": \"Day of Week\", \"type\": \"nominal\"}}, \"$schema\": \"https://vega.github.io/schema/vega-lite/v4.17.0.json\", \"datasets\": {\"data-b454b03a0c7bf1f42ddea95acf9303e9\": [{\"incident_date\": \"01\", \"day_of_week\": \"Friday\", \"count\": 253}, {\"incident_date\": \"01\", \"day_of_week\": \"Monday\", \"count\": 201}, {\"incident_date\": \"01\", \"day_of_week\": \"Saturday\", \"count\": 206}, {\"incident_date\": \"01\", \"day_of_week\": \"Sunday\", \"count\": 206}, {\"incident_date\": \"01\", \"day_of_week\": \"Thursday\", \"count\": 287}, {\"incident_date\": \"01\", \"day_of_week\": \"Tuesday\", \"count\": 275}, {\"incident_date\": \"01\", \"day_of_week\": \"Wednesday\", \"count\": 371}, {\"incident_date\": \"02\", \"day_of_week\": \"Friday\", \"count\": 285}, {\"incident_date\": \"02\", \"day_of_week\": \"Monday\", \"count\": 211}, {\"incident_date\": \"02\", \"day_of_week\": \"Saturday\", \"count\": 231}, {\"incident_date\": \"02\", \"day_of_week\": \"Sunday\", \"count\": 200}, {\"incident_date\": \"02\", \"day_of_week\": \"Thursday\", \"count\": 322}, {\"incident_date\": \"02\", \"day_of_week\": \"Tuesday\", \"count\": 289}, {\"incident_date\": \"02\", \"day_of_week\": \"Wednesday\", \"count\": 371}, {\"incident_date\": \"03\", \"day_of_week\": \"Friday\", \"count\": 202}, {\"incident_date\": \"03\", \"day_of_week\": \"Monday\", \"count\": 130}, {\"incident_date\": \"03\", \"day_of_week\": \"Saturday\", \"count\": 197}, {\"incident_date\": \"03\", \"day_of_week\": \"Sunday\", \"count\": 158}, {\"incident_date\": \"03\", \"day_of_week\": \"Thursday\", \"count\": 249}, {\"incident_date\": \"03\", \"day_of_week\": \"Tuesday\", \"count\": 183}, {\"incident_date\": \"03\", \"day_of_week\": \"Wednesday\", \"count\": 276}, {\"incident_date\": \"04\", \"day_of_week\": \"Friday\", \"count\": 168}, {\"incident_date\": \"04\", \"day_of_week\": \"Monday\", \"count\": 164}, {\"incident_date\": \"04\", \"day_of_week\": \"Saturday\", \"count\": 101}, {\"incident_date\": \"04\", \"day_of_week\": \"Sunday\", \"count\": 111}, {\"incident_date\": \"04\", \"day_of_week\": \"Thursday\", \"count\": 225}, {\"incident_date\": \"04\", \"day_of_week\": \"Tuesday\", \"count\": 208}, {\"incident_date\": \"04\", \"day_of_week\": \"Wednesday\", \"count\": 225}, {\"incident_date\": \"05\", \"day_of_week\": \"Friday\", \"count\": 159}, {\"incident_date\": \"05\", \"day_of_week\": \"Monday\", \"count\": 147}, {\"incident_date\": \"05\", \"day_of_week\": \"Saturday\", \"count\": 123}, {\"incident_date\": \"05\", \"day_of_week\": \"Sunday\", \"count\": 133}, {\"incident_date\": \"05\", \"day_of_week\": \"Thursday\", \"count\": 209}, {\"incident_date\": \"05\", \"day_of_week\": \"Tuesday\", \"count\": 200}, {\"incident_date\": \"05\", \"day_of_week\": \"Wednesday\", \"count\": 307}, {\"incident_date\": \"06\", \"day_of_week\": \"Friday\", \"count\": 174}, {\"incident_date\": \"06\", \"day_of_week\": \"Monday\", \"count\": 157}, {\"incident_date\": \"06\", \"day_of_week\": \"Saturday\", \"count\": 129}, {\"incident_date\": \"06\", \"day_of_week\": \"Sunday\", \"count\": 107}, {\"incident_date\": \"06\", \"day_of_week\": \"Thursday\", \"count\": 197}, {\"incident_date\": \"06\", \"day_of_week\": \"Tuesday\", \"count\": 209}, {\"incident_date\": \"06\", \"day_of_week\": \"Wednesday\", \"count\": 279}, {\"incident_date\": \"07\", \"day_of_week\": \"Friday\", \"count\": 199}, {\"incident_date\": \"07\", \"day_of_week\": \"Monday\", \"count\": 237}, {\"incident_date\": \"07\", \"day_of_week\": \"Saturday\", \"count\": 183}, {\"incident_date\": \"07\", \"day_of_week\": \"Sunday\", \"count\": 146}, {\"incident_date\": \"07\", \"day_of_week\": \"Thursday\", \"count\": 290}, {\"incident_date\": \"07\", \"day_of_week\": \"Tuesday\", \"count\": 282}, {\"incident_date\": \"07\", \"day_of_week\": \"Wednesday\", \"count\": 320}, {\"incident_date\": \"08\", \"day_of_week\": \"Friday\", \"count\": 163}, {\"incident_date\": \"08\", \"day_of_week\": \"Monday\", \"count\": 199}, {\"incident_date\": \"08\", \"day_of_week\": \"Saturday\", \"count\": 121}, {\"incident_date\": \"08\", \"day_of_week\": \"Sunday\", \"count\": 104}, {\"incident_date\": \"08\", \"day_of_week\": \"Thursday\", \"count\": 278}, {\"incident_date\": \"08\", \"day_of_week\": \"Tuesday\", \"count\": 374}, {\"incident_date\": \"08\", \"day_of_week\": \"Wednesday\", \"count\": 293}, {\"incident_date\": \"09\", \"day_of_week\": \"Friday\", \"count\": 186}, {\"incident_date\": \"09\", \"day_of_week\": \"Monday\", \"count\": 157}, {\"incident_date\": \"09\", \"day_of_week\": \"Saturday\", \"count\": 137}, {\"incident_date\": \"09\", \"day_of_week\": \"Sunday\", \"count\": 97}, {\"incident_date\": \"09\", \"day_of_week\": \"Thursday\", \"count\": 217}, {\"incident_date\": \"09\", \"day_of_week\": \"Tuesday\", \"count\": 246}, {\"incident_date\": \"09\", \"day_of_week\": \"Wednesday\", \"count\": 283}, {\"incident_date\": \"10\", \"day_of_week\": \"Friday\", \"count\": 173}, {\"incident_date\": \"10\", \"day_of_week\": \"Monday\", \"count\": 196}, {\"incident_date\": \"10\", \"day_of_week\": \"Saturday\", \"count\": 157}, {\"incident_date\": \"10\", \"day_of_week\": \"Sunday\", \"count\": 131}, {\"incident_date\": \"10\", \"day_of_week\": \"Thursday\", \"count\": 188}, {\"incident_date\": \"10\", \"day_of_week\": \"Tuesday\", \"count\": 283}, {\"incident_date\": \"10\", \"day_of_week\": \"Wednesday\", \"count\": 270}, {\"incident_date\": \"11\", \"day_of_week\": \"Friday\", \"count\": 188}, {\"incident_date\": \"11\", \"day_of_week\": \"Monday\", \"count\": 156}, {\"incident_date\": \"11\", \"day_of_week\": \"Saturday\", \"count\": 163}, {\"incident_date\": \"11\", \"day_of_week\": \"Sunday\", \"count\": 109}, {\"incident_date\": \"11\", \"day_of_week\": \"Thursday\", \"count\": 191}, {\"incident_date\": \"11\", \"day_of_week\": \"Tuesday\", \"count\": 246}, {\"incident_date\": \"11\", \"day_of_week\": \"Wednesday\", \"count\": 307}, {\"incident_date\": \"12\", \"day_of_week\": \"Friday\", \"count\": 142}, {\"incident_date\": \"12\", \"day_of_week\": \"Monday\", \"count\": 145}, {\"incident_date\": \"12\", \"day_of_week\": \"Saturday\", \"count\": 120}, {\"incident_date\": \"12\", \"day_of_week\": \"Sunday\", \"count\": 166}, {\"incident_date\": \"12\", \"day_of_week\": \"Thursday\", \"count\": 226}, {\"incident_date\": \"12\", \"day_of_week\": \"Tuesday\", \"count\": 259}, {\"incident_date\": \"12\", \"day_of_week\": \"Wednesday\", \"count\": 275}]}}, {\"mode\": \"vega-lite\"});\n",
       "</script>"
      ],
      "text/plain": [
       "alt.Chart(...)"
      ]
     },
     "execution_count": 15,
     "metadata": {},
     "output_type": "execute_result"
    }
   ],
   "source": [
    "alt.Chart(month_week).mark_rect().encode(\n",
    "    alt.X('incident_date:O',title = 'Month'),\n",
    "    alt.Y('day_of_week',title = 'Day of Week'),\n",
    "    color='count'\n",
    ")"
   ]
  },
  {
   "cell_type": "code",
   "execution_count": 16,
   "metadata": {},
   "outputs": [
    {
     "data": {
      "text/html": [
       "\n",
       "<div id=\"altair-viz-b9f7b3e182b64c3c85e1b21223a9937c\"></div>\n",
       "<script type=\"text/javascript\">\n",
       "  var VEGA_DEBUG = (typeof VEGA_DEBUG == \"undefined\") ? {} : VEGA_DEBUG;\n",
       "  (function(spec, embedOpt){\n",
       "    let outputDiv = document.currentScript.previousElementSibling;\n",
       "    if (outputDiv.id !== \"altair-viz-b9f7b3e182b64c3c85e1b21223a9937c\") {\n",
       "      outputDiv = document.getElementById(\"altair-viz-b9f7b3e182b64c3c85e1b21223a9937c\");\n",
       "    }\n",
       "    const paths = {\n",
       "      \"vega\": \"https://cdn.jsdelivr.net/npm//vega@5?noext\",\n",
       "      \"vega-lib\": \"https://cdn.jsdelivr.net/npm//vega-lib?noext\",\n",
       "      \"vega-lite\": \"https://cdn.jsdelivr.net/npm//vega-lite@4.17.0?noext\",\n",
       "      \"vega-embed\": \"https://cdn.jsdelivr.net/npm//vega-embed@6?noext\",\n",
       "    };\n",
       "\n",
       "    function maybeLoadScript(lib, version) {\n",
       "      var key = `${lib.replace(\"-\", \"\")}_version`;\n",
       "      return (VEGA_DEBUG[key] == version) ?\n",
       "        Promise.resolve(paths[lib]) :\n",
       "        new Promise(function(resolve, reject) {\n",
       "          var s = document.createElement('script');\n",
       "          document.getElementsByTagName(\"head\")[0].appendChild(s);\n",
       "          s.async = true;\n",
       "          s.onload = () => {\n",
       "            VEGA_DEBUG[key] = version;\n",
       "            return resolve(paths[lib]);\n",
       "          };\n",
       "          s.onerror = () => reject(`Error loading script: ${paths[lib]}`);\n",
       "          s.src = paths[lib];\n",
       "        });\n",
       "    }\n",
       "\n",
       "    function showError(err) {\n",
       "      outputDiv.innerHTML = `<div class=\"error\" style=\"color:red;\">${err}</div>`;\n",
       "      throw err;\n",
       "    }\n",
       "\n",
       "    function displayChart(vegaEmbed) {\n",
       "      vegaEmbed(outputDiv, spec, embedOpt)\n",
       "        .catch(err => showError(`Javascript Error: ${err.message}<br>This usually means there's a typo in your chart specification. See the javascript console for the full traceback.`));\n",
       "    }\n",
       "\n",
       "    if(typeof define === \"function\" && define.amd) {\n",
       "      requirejs.config({paths});\n",
       "      require([\"vega-embed\"], displayChart, err => showError(`Error loading script: ${err.message}`));\n",
       "    } else {\n",
       "      maybeLoadScript(\"vega\", \"5\")\n",
       "        .then(() => maybeLoadScript(\"vega-lite\", \"4.17.0\"))\n",
       "        .then(() => maybeLoadScript(\"vega-embed\", \"6\"))\n",
       "        .catch(showError)\n",
       "        .then(() => displayChart(vegaEmbed));\n",
       "    }\n",
       "  })({\"config\": {\"view\": {\"continuousWidth\": 400, \"continuousHeight\": 300}}, \"data\": {\"name\": \"data-ac49a51a610291e02e9f617d0a3423d9\"}, \"mark\": \"rect\", \"encoding\": {\"color\": {\"aggregate\": \"sum\", \"field\": \"count\", \"type\": \"quantitative\"}, \"x\": {\"field\": \"incident_date\", \"title\": \"Month\", \"type\": \"ordinal\"}, \"y\": {\"field\": \"day_of_week\", \"title\": \"Day of Week\", \"type\": \"nominal\"}}, \"$schema\": \"https://vega.github.io/schema/vega-lite/v4.17.0.json\", \"datasets\": {\"data-ac49a51a610291e02e9f617d0a3423d9\": [{\"year\": 2018, \"incident_date\": \"01\", \"day_of_week\": \"Friday\", \"count\": 47}, {\"year\": 2018, \"incident_date\": \"01\", \"day_of_week\": \"Monday\", \"count\": 43}, {\"year\": 2018, \"incident_date\": \"01\", \"day_of_week\": \"Saturday\", \"count\": 43}, {\"year\": 2018, \"incident_date\": \"01\", \"day_of_week\": \"Sunday\", \"count\": 47}, {\"year\": 2018, \"incident_date\": \"01\", \"day_of_week\": \"Thursday\", \"count\": 46}, {\"year\": 2018, \"incident_date\": \"01\", \"day_of_week\": \"Tuesday\", \"count\": 46}, {\"year\": 2018, \"incident_date\": \"01\", \"day_of_week\": \"Wednesday\", \"count\": 65}, {\"year\": 2018, \"incident_date\": \"02\", \"day_of_week\": \"Friday\", \"count\": 47}, {\"year\": 2018, \"incident_date\": \"02\", \"day_of_week\": \"Monday\", \"count\": 50}, {\"year\": 2018, \"incident_date\": \"02\", \"day_of_week\": \"Saturday\", \"count\": 44}, {\"year\": 2018, \"incident_date\": \"02\", \"day_of_week\": \"Sunday\", \"count\": 42}, {\"year\": 2018, \"incident_date\": \"02\", \"day_of_week\": \"Thursday\", \"count\": 53}, {\"year\": 2018, \"incident_date\": \"02\", \"day_of_week\": \"Tuesday\", \"count\": 45}, {\"year\": 2018, \"incident_date\": \"02\", \"day_of_week\": \"Wednesday\", \"count\": 75}, {\"year\": 2018, \"incident_date\": \"03\", \"day_of_week\": \"Friday\", \"count\": 83}, {\"year\": 2018, \"incident_date\": \"03\", \"day_of_week\": \"Monday\", \"count\": 41}, {\"year\": 2018, \"incident_date\": \"03\", \"day_of_week\": \"Saturday\", \"count\": 60}, {\"year\": 2018, \"incident_date\": \"03\", \"day_of_week\": \"Sunday\", \"count\": 45}, {\"year\": 2018, \"incident_date\": \"03\", \"day_of_week\": \"Thursday\", \"count\": 73}, {\"year\": 2018, \"incident_date\": \"03\", \"day_of_week\": \"Tuesday\", \"count\": 59}, {\"year\": 2018, \"incident_date\": \"03\", \"day_of_week\": \"Wednesday\", \"count\": 62}, {\"year\": 2018, \"incident_date\": \"04\", \"day_of_week\": \"Friday\", \"count\": 35}, {\"year\": 2018, \"incident_date\": \"04\", \"day_of_week\": \"Monday\", \"count\": 61}, {\"year\": 2018, \"incident_date\": \"04\", \"day_of_week\": \"Saturday\", \"count\": 26}, {\"year\": 2018, \"incident_date\": \"04\", \"day_of_week\": \"Sunday\", \"count\": 42}, {\"year\": 2018, \"incident_date\": \"04\", \"day_of_week\": \"Thursday\", \"count\": 67}, {\"year\": 2018, \"incident_date\": \"04\", \"day_of_week\": \"Tuesday\", \"count\": 41}, {\"year\": 2018, \"incident_date\": \"04\", \"day_of_week\": \"Wednesday\", \"count\": 76}, {\"year\": 2018, \"incident_date\": \"05\", \"day_of_week\": \"Friday\", \"count\": 57}, {\"year\": 2018, \"incident_date\": \"05\", \"day_of_week\": \"Monday\", \"count\": 49}, {\"year\": 2018, \"incident_date\": \"05\", \"day_of_week\": \"Saturday\", \"count\": 32}, {\"year\": 2018, \"incident_date\": \"05\", \"day_of_week\": \"Sunday\", \"count\": 35}, {\"year\": 2018, \"incident_date\": \"05\", \"day_of_week\": \"Thursday\", \"count\": 63}, {\"year\": 2018, \"incident_date\": \"05\", \"day_of_week\": \"Tuesday\", \"count\": 58}, {\"year\": 2018, \"incident_date\": \"05\", \"day_of_week\": \"Wednesday\", \"count\": 90}, {\"year\": 2018, \"incident_date\": \"06\", \"day_of_week\": \"Friday\", \"count\": 44}, {\"year\": 2018, \"incident_date\": \"06\", \"day_of_week\": \"Monday\", \"count\": 32}, {\"year\": 2018, \"incident_date\": \"06\", \"day_of_week\": \"Saturday\", \"count\": 44}, {\"year\": 2018, \"incident_date\": \"06\", \"day_of_week\": \"Sunday\", \"count\": 29}, {\"year\": 2018, \"incident_date\": \"06\", \"day_of_week\": \"Thursday\", \"count\": 37}, {\"year\": 2018, \"incident_date\": \"06\", \"day_of_week\": \"Tuesday\", \"count\": 32}, {\"year\": 2018, \"incident_date\": \"06\", \"day_of_week\": \"Wednesday\", \"count\": 33}, {\"year\": 2018, \"incident_date\": \"07\", \"day_of_week\": \"Friday\", \"count\": 52}, {\"year\": 2018, \"incident_date\": \"07\", \"day_of_week\": \"Monday\", \"count\": 47}, {\"year\": 2018, \"incident_date\": \"07\", \"day_of_week\": \"Saturday\", \"count\": 53}, {\"year\": 2018, \"incident_date\": \"07\", \"day_of_week\": \"Sunday\", \"count\": 32}, {\"year\": 2018, \"incident_date\": \"07\", \"day_of_week\": \"Thursday\", \"count\": 43}, {\"year\": 2018, \"incident_date\": \"07\", \"day_of_week\": \"Tuesday\", \"count\": 56}, {\"year\": 2018, \"incident_date\": \"07\", \"day_of_week\": \"Wednesday\", \"count\": 51}, {\"year\": 2018, \"incident_date\": \"08\", \"day_of_week\": \"Friday\", \"count\": 44}, {\"year\": 2018, \"incident_date\": \"08\", \"day_of_week\": \"Monday\", \"count\": 34}, {\"year\": 2018, \"incident_date\": \"08\", \"day_of_week\": \"Saturday\", \"count\": 23}, {\"year\": 2018, \"incident_date\": \"08\", \"day_of_week\": \"Sunday\", \"count\": 28}, {\"year\": 2018, \"incident_date\": \"08\", \"day_of_week\": \"Thursday\", \"count\": 48}, {\"year\": 2018, \"incident_date\": \"08\", \"day_of_week\": \"Tuesday\", \"count\": 53}, {\"year\": 2018, \"incident_date\": \"08\", \"day_of_week\": \"Wednesday\", \"count\": 57}, {\"year\": 2018, \"incident_date\": \"09\", \"day_of_week\": \"Friday\", \"count\": 43}, {\"year\": 2018, \"incident_date\": \"09\", \"day_of_week\": \"Monday\", \"count\": 37}, {\"year\": 2018, \"incident_date\": \"09\", \"day_of_week\": \"Saturday\", \"count\": 43}, {\"year\": 2018, \"incident_date\": \"09\", \"day_of_week\": \"Sunday\", \"count\": 18}, {\"year\": 2018, \"incident_date\": \"09\", \"day_of_week\": \"Thursday\", \"count\": 34}, {\"year\": 2018, \"incident_date\": \"09\", \"day_of_week\": \"Tuesday\", \"count\": 45}, {\"year\": 2018, \"incident_date\": \"09\", \"day_of_week\": \"Wednesday\", \"count\": 54}, {\"year\": 2018, \"incident_date\": \"10\", \"day_of_week\": \"Friday\", \"count\": 41}, {\"year\": 2018, \"incident_date\": \"10\", \"day_of_week\": \"Monday\", \"count\": 85}, {\"year\": 2018, \"incident_date\": \"10\", \"day_of_week\": \"Saturday\", \"count\": 47}, {\"year\": 2018, \"incident_date\": \"10\", \"day_of_week\": \"Sunday\", \"count\": 36}, {\"year\": 2018, \"incident_date\": \"10\", \"day_of_week\": \"Thursday\", \"count\": 41}, {\"year\": 2018, \"incident_date\": \"10\", \"day_of_week\": \"Tuesday\", \"count\": 107}, {\"year\": 2018, \"incident_date\": \"10\", \"day_of_week\": \"Wednesday\", \"count\": 88}, {\"year\": 2018, \"incident_date\": \"11\", \"day_of_week\": \"Friday\", \"count\": 57}, {\"year\": 2018, \"incident_date\": \"11\", \"day_of_week\": \"Monday\", \"count\": 60}, {\"year\": 2018, \"incident_date\": \"11\", \"day_of_week\": \"Saturday\", \"count\": 54}, {\"year\": 2018, \"incident_date\": \"11\", \"day_of_week\": \"Sunday\", \"count\": 35}, {\"year\": 2018, \"incident_date\": \"11\", \"day_of_week\": \"Thursday\", \"count\": 76}, {\"year\": 2018, \"incident_date\": \"11\", \"day_of_week\": \"Tuesday\", \"count\": 77}, {\"year\": 2018, \"incident_date\": \"11\", \"day_of_week\": \"Wednesday\", \"count\": 78}, {\"year\": 2018, \"incident_date\": \"12\", \"day_of_week\": \"Friday\", \"count\": 28}, {\"year\": 2018, \"incident_date\": \"12\", \"day_of_week\": \"Monday\", \"count\": 39}, {\"year\": 2018, \"incident_date\": \"12\", \"day_of_week\": \"Saturday\", \"count\": 37}, {\"year\": 2018, \"incident_date\": \"12\", \"day_of_week\": \"Sunday\", \"count\": 39}, {\"year\": 2018, \"incident_date\": \"12\", \"day_of_week\": \"Thursday\", \"count\": 26}, {\"year\": 2018, \"incident_date\": \"12\", \"day_of_week\": \"Tuesday\", \"count\": 40}, {\"year\": 2018, \"incident_date\": \"12\", \"day_of_week\": \"Wednesday\", \"count\": 58}, {\"year\": 2019, \"incident_date\": \"01\", \"day_of_week\": \"Friday\", \"count\": 45}, {\"year\": 2019, \"incident_date\": \"01\", \"day_of_week\": \"Monday\", \"count\": 44}, {\"year\": 2019, \"incident_date\": \"01\", \"day_of_week\": \"Saturday\", \"count\": 27}, {\"year\": 2019, \"incident_date\": \"01\", \"day_of_week\": \"Sunday\", \"count\": 15}, {\"year\": 2019, \"incident_date\": \"01\", \"day_of_week\": \"Thursday\", \"count\": 48}, {\"year\": 2019, \"incident_date\": \"01\", \"day_of_week\": \"Tuesday\", \"count\": 42}, {\"year\": 2019, \"incident_date\": \"01\", \"day_of_week\": \"Wednesday\", \"count\": 95}, {\"year\": 2019, \"incident_date\": \"02\", \"day_of_week\": \"Friday\", \"count\": 36}, {\"year\": 2019, \"incident_date\": \"02\", \"day_of_week\": \"Monday\", \"count\": 45}, {\"year\": 2019, \"incident_date\": \"02\", \"day_of_week\": \"Saturday\", \"count\": 37}, {\"year\": 2019, \"incident_date\": \"02\", \"day_of_week\": \"Sunday\", \"count\": 24}, {\"year\": 2019, \"incident_date\": \"02\", \"day_of_week\": \"Thursday\", \"count\": 38}, {\"year\": 2019, \"incident_date\": \"02\", \"day_of_week\": \"Tuesday\", \"count\": 35}, {\"year\": 2019, \"incident_date\": \"02\", \"day_of_week\": \"Wednesday\", \"count\": 70}, {\"year\": 2019, \"incident_date\": \"03\", \"day_of_week\": \"Friday\", \"count\": 32}, {\"year\": 2019, \"incident_date\": \"03\", \"day_of_week\": \"Monday\", \"count\": 32}, {\"year\": 2019, \"incident_date\": \"03\", \"day_of_week\": \"Saturday\", \"count\": 41}, {\"year\": 2019, \"incident_date\": \"03\", \"day_of_week\": \"Sunday\", \"count\": 41}, {\"year\": 2019, \"incident_date\": \"03\", \"day_of_week\": \"Thursday\", \"count\": 60}, {\"year\": 2019, \"incident_date\": \"03\", \"day_of_week\": \"Tuesday\", \"count\": 46}, {\"year\": 2019, \"incident_date\": \"03\", \"day_of_week\": \"Wednesday\", \"count\": 71}, {\"year\": 2019, \"incident_date\": \"04\", \"day_of_week\": \"Friday\", \"count\": 44}, {\"year\": 2019, \"incident_date\": \"04\", \"day_of_week\": \"Monday\", \"count\": 53}, {\"year\": 2019, \"incident_date\": \"04\", \"day_of_week\": \"Saturday\", \"count\": 27}, {\"year\": 2019, \"incident_date\": \"04\", \"day_of_week\": \"Sunday\", \"count\": 21}, {\"year\": 2019, \"incident_date\": \"04\", \"day_of_week\": \"Thursday\", \"count\": 42}, {\"year\": 2019, \"incident_date\": \"04\", \"day_of_week\": \"Tuesday\", \"count\": 79}, {\"year\": 2019, \"incident_date\": \"04\", \"day_of_week\": \"Wednesday\", \"count\": 63}, {\"year\": 2019, \"incident_date\": \"05\", \"day_of_week\": \"Friday\", \"count\": 32}, {\"year\": 2019, \"incident_date\": \"05\", \"day_of_week\": \"Monday\", \"count\": 32}, {\"year\": 2019, \"incident_date\": \"05\", \"day_of_week\": \"Saturday\", \"count\": 30}, {\"year\": 2019, \"incident_date\": \"05\", \"day_of_week\": \"Sunday\", \"count\": 25}, {\"year\": 2019, \"incident_date\": \"05\", \"day_of_week\": \"Thursday\", \"count\": 42}, {\"year\": 2019, \"incident_date\": \"05\", \"day_of_week\": \"Tuesday\", \"count\": 59}, {\"year\": 2019, \"incident_date\": \"05\", \"day_of_week\": \"Wednesday\", \"count\": 75}, {\"year\": 2019, \"incident_date\": \"06\", \"day_of_week\": \"Friday\", \"count\": 48}, {\"year\": 2019, \"incident_date\": \"06\", \"day_of_week\": \"Monday\", \"count\": 20}, {\"year\": 2019, \"incident_date\": \"06\", \"day_of_week\": \"Saturday\", \"count\": 31}, {\"year\": 2019, \"incident_date\": \"06\", \"day_of_week\": \"Sunday\", \"count\": 37}, {\"year\": 2019, \"incident_date\": \"06\", \"day_of_week\": \"Thursday\", \"count\": 38}, {\"year\": 2019, \"incident_date\": \"06\", \"day_of_week\": \"Tuesday\", \"count\": 38}, {\"year\": 2019, \"incident_date\": \"06\", \"day_of_week\": \"Wednesday\", \"count\": 79}, {\"year\": 2019, \"incident_date\": \"07\", \"day_of_week\": \"Friday\", \"count\": 27}, {\"year\": 2019, \"incident_date\": \"07\", \"day_of_week\": \"Monday\", \"count\": 71}, {\"year\": 2019, \"incident_date\": \"07\", \"day_of_week\": \"Saturday\", \"count\": 34}, {\"year\": 2019, \"incident_date\": \"07\", \"day_of_week\": \"Sunday\", \"count\": 43}, {\"year\": 2019, \"incident_date\": \"07\", \"day_of_week\": \"Thursday\", \"count\": 33}, {\"year\": 2019, \"incident_date\": \"07\", \"day_of_week\": \"Tuesday\", \"count\": 85}, {\"year\": 2019, \"incident_date\": \"07\", \"day_of_week\": \"Wednesday\", \"count\": 60}, {\"year\": 2019, \"incident_date\": \"08\", \"day_of_week\": \"Friday\", \"count\": 38}, {\"year\": 2019, \"incident_date\": \"08\", \"day_of_week\": \"Monday\", \"count\": 35}, {\"year\": 2019, \"incident_date\": \"08\", \"day_of_week\": \"Saturday\", \"count\": 37}, {\"year\": 2019, \"incident_date\": \"08\", \"day_of_week\": \"Sunday\", \"count\": 21}, {\"year\": 2019, \"incident_date\": \"08\", \"day_of_week\": \"Thursday\", \"count\": 54}, {\"year\": 2019, \"incident_date\": \"08\", \"day_of_week\": \"Tuesday\", \"count\": 58}, {\"year\": 2019, \"incident_date\": \"08\", \"day_of_week\": \"Wednesday\", \"count\": 51}, {\"year\": 2019, \"incident_date\": \"09\", \"day_of_week\": \"Friday\", \"count\": 33}, {\"year\": 2019, \"incident_date\": \"09\", \"day_of_week\": \"Monday\", \"count\": 63}, {\"year\": 2019, \"incident_date\": \"09\", \"day_of_week\": \"Saturday\", \"count\": 20}, {\"year\": 2019, \"incident_date\": \"09\", \"day_of_week\": \"Sunday\", \"count\": 32}, {\"year\": 2019, \"incident_date\": \"09\", \"day_of_week\": \"Thursday\", \"count\": 28}, {\"year\": 2019, \"incident_date\": \"09\", \"day_of_week\": \"Tuesday\", \"count\": 75}, {\"year\": 2019, \"incident_date\": \"09\", \"day_of_week\": \"Wednesday\", \"count\": 69}, {\"year\": 2019, \"incident_date\": \"10\", \"day_of_week\": \"Friday\", \"count\": 45}, {\"year\": 2019, \"incident_date\": \"10\", \"day_of_week\": \"Monday\", \"count\": 38}, {\"year\": 2019, \"incident_date\": \"10\", \"day_of_week\": \"Saturday\", \"count\": 32}, {\"year\": 2019, \"incident_date\": \"10\", \"day_of_week\": \"Sunday\", \"count\": 37}, {\"year\": 2019, \"incident_date\": \"10\", \"day_of_week\": \"Thursday\", \"count\": 29}, {\"year\": 2019, \"incident_date\": \"10\", \"day_of_week\": \"Tuesday\", \"count\": 47}, {\"year\": 2019, \"incident_date\": \"10\", \"day_of_week\": \"Wednesday\", \"count\": 75}, {\"year\": 2019, \"incident_date\": \"11\", \"day_of_week\": \"Friday\", \"count\": 48}, {\"year\": 2019, \"incident_date\": \"11\", \"day_of_week\": \"Monday\", \"count\": 36}, {\"year\": 2019, \"incident_date\": \"11\", \"day_of_week\": \"Saturday\", \"count\": 45}, {\"year\": 2019, \"incident_date\": \"11\", \"day_of_week\": \"Sunday\", \"count\": 22}, {\"year\": 2019, \"incident_date\": \"11\", \"day_of_week\": \"Thursday\", \"count\": 45}, {\"year\": 2019, \"incident_date\": \"11\", \"day_of_week\": \"Tuesday\", \"count\": 40}, {\"year\": 2019, \"incident_date\": \"11\", \"day_of_week\": \"Wednesday\", \"count\": 57}, {\"year\": 2019, \"incident_date\": \"12\", \"day_of_week\": \"Friday\", \"count\": 34}, {\"year\": 2019, \"incident_date\": \"12\", \"day_of_week\": \"Monday\", \"count\": 52}, {\"year\": 2019, \"incident_date\": \"12\", \"day_of_week\": \"Saturday\", \"count\": 21}, {\"year\": 2019, \"incident_date\": \"12\", \"day_of_week\": \"Sunday\", \"count\": 61}, {\"year\": 2019, \"incident_date\": \"12\", \"day_of_week\": \"Thursday\", \"count\": 28}, {\"year\": 2019, \"incident_date\": \"12\", \"day_of_week\": \"Tuesday\", \"count\": 48}, {\"year\": 2019, \"incident_date\": \"12\", \"day_of_week\": \"Wednesday\", \"count\": 49}, {\"year\": 2020, \"incident_date\": \"01\", \"day_of_week\": \"Friday\", \"count\": 58}, {\"year\": 2020, \"incident_date\": \"01\", \"day_of_week\": \"Monday\", \"count\": 42}, {\"year\": 2020, \"incident_date\": \"01\", \"day_of_week\": \"Saturday\", \"count\": 16}, {\"year\": 2020, \"incident_date\": \"01\", \"day_of_week\": \"Sunday\", \"count\": 41}, {\"year\": 2020, \"incident_date\": \"01\", \"day_of_week\": \"Thursday\", \"count\": 43}, {\"year\": 2020, \"incident_date\": \"01\", \"day_of_week\": \"Tuesday\", \"count\": 50}, {\"year\": 2020, \"incident_date\": \"01\", \"day_of_week\": \"Wednesday\", \"count\": 49}, {\"year\": 2020, \"incident_date\": \"02\", \"day_of_week\": \"Friday\", \"count\": 47}, {\"year\": 2020, \"incident_date\": \"02\", \"day_of_week\": \"Monday\", \"count\": 37}, {\"year\": 2020, \"incident_date\": \"02\", \"day_of_week\": \"Saturday\", \"count\": 48}, {\"year\": 2020, \"incident_date\": \"02\", \"day_of_week\": \"Sunday\", \"count\": 23}, {\"year\": 2020, \"incident_date\": \"02\", \"day_of_week\": \"Thursday\", \"count\": 56}, {\"year\": 2020, \"incident_date\": \"02\", \"day_of_week\": \"Tuesday\", \"count\": 61}, {\"year\": 2020, \"incident_date\": \"02\", \"day_of_week\": \"Wednesday\", \"count\": 76}, {\"year\": 2020, \"incident_date\": \"03\", \"day_of_week\": \"Friday\", \"count\": 13}, {\"year\": 2020, \"incident_date\": \"03\", \"day_of_week\": \"Monday\", \"count\": 18}, {\"year\": 2020, \"incident_date\": \"03\", \"day_of_week\": \"Saturday\", \"count\": 23}, {\"year\": 2020, \"incident_date\": \"03\", \"day_of_week\": \"Sunday\", \"count\": 28}, {\"year\": 2020, \"incident_date\": \"03\", \"day_of_week\": \"Thursday\", \"count\": 23}, {\"year\": 2020, \"incident_date\": \"03\", \"day_of_week\": \"Tuesday\", \"count\": 21}, {\"year\": 2020, \"incident_date\": \"03\", \"day_of_week\": \"Wednesday\", \"count\": 39}, {\"year\": 2020, \"incident_date\": \"04\", \"day_of_week\": \"Friday\", \"count\": 13}, {\"year\": 2020, \"incident_date\": \"04\", \"day_of_week\": \"Monday\", \"count\": 12}, {\"year\": 2020, \"incident_date\": \"04\", \"day_of_week\": \"Saturday\", \"count\": 7}, {\"year\": 2020, \"incident_date\": \"04\", \"day_of_week\": \"Sunday\", \"count\": 14}, {\"year\": 2020, \"incident_date\": \"04\", \"day_of_week\": \"Thursday\", \"count\": 14}, {\"year\": 2020, \"incident_date\": \"04\", \"day_of_week\": \"Tuesday\", \"count\": 16}, {\"year\": 2020, \"incident_date\": \"04\", \"day_of_week\": \"Wednesday\", \"count\": 10}, {\"year\": 2020, \"incident_date\": \"05\", \"day_of_week\": \"Friday\", \"count\": 17}, {\"year\": 2020, \"incident_date\": \"05\", \"day_of_week\": \"Monday\", \"count\": 30}, {\"year\": 2020, \"incident_date\": \"05\", \"day_of_week\": \"Saturday\", \"count\": 34}, {\"year\": 2020, \"incident_date\": \"05\", \"day_of_week\": \"Sunday\", \"count\": 31}, {\"year\": 2020, \"incident_date\": \"05\", \"day_of_week\": \"Thursday\", \"count\": 30}, {\"year\": 2020, \"incident_date\": \"05\", \"day_of_week\": \"Tuesday\", \"count\": 42}, {\"year\": 2020, \"incident_date\": \"05\", \"day_of_week\": \"Wednesday\", \"count\": 45}, {\"year\": 2020, \"incident_date\": \"06\", \"day_of_week\": \"Friday\", \"count\": 34}, {\"year\": 2020, \"incident_date\": \"06\", \"day_of_week\": \"Monday\", \"count\": 37}, {\"year\": 2020, \"incident_date\": \"06\", \"day_of_week\": \"Saturday\", \"count\": 14}, {\"year\": 2020, \"incident_date\": \"06\", \"day_of_week\": \"Sunday\", \"count\": 10}, {\"year\": 2020, \"incident_date\": \"06\", \"day_of_week\": \"Thursday\", \"count\": 50}, {\"year\": 2020, \"incident_date\": \"06\", \"day_of_week\": \"Tuesday\", \"count\": 65}, {\"year\": 2020, \"incident_date\": \"06\", \"day_of_week\": \"Wednesday\", \"count\": 47}, {\"year\": 2020, \"incident_date\": \"07\", \"day_of_week\": \"Friday\", \"count\": 34}, {\"year\": 2020, \"incident_date\": \"07\", \"day_of_week\": \"Monday\", \"count\": 32}, {\"year\": 2020, \"incident_date\": \"07\", \"day_of_week\": \"Saturday\", \"count\": 7}, {\"year\": 2020, \"incident_date\": \"07\", \"day_of_week\": \"Sunday\", \"count\": 3}, {\"year\": 2020, \"incident_date\": \"07\", \"day_of_week\": \"Thursday\", \"count\": 39}, {\"year\": 2020, \"incident_date\": \"07\", \"day_of_week\": \"Tuesday\", \"count\": 49}, {\"year\": 2020, \"incident_date\": \"07\", \"day_of_week\": \"Wednesday\", \"count\": 63}, {\"year\": 2020, \"incident_date\": \"08\", \"day_of_week\": \"Friday\", \"count\": 6}, {\"year\": 2020, \"incident_date\": \"08\", \"day_of_week\": \"Monday\", \"count\": 47}, {\"year\": 2020, \"incident_date\": \"08\", \"day_of_week\": \"Saturday\", \"count\": 17}, {\"year\": 2020, \"incident_date\": \"08\", \"day_of_week\": \"Sunday\", \"count\": 10}, {\"year\": 2020, \"incident_date\": \"08\", \"day_of_week\": \"Thursday\", \"count\": 36}, {\"year\": 2020, \"incident_date\": \"08\", \"day_of_week\": \"Tuesday\", \"count\": 68}, {\"year\": 2020, \"incident_date\": \"08\", \"day_of_week\": \"Wednesday\", \"count\": 56}, {\"year\": 2020, \"incident_date\": \"09\", \"day_of_week\": \"Friday\", \"count\": 21}, {\"year\": 2020, \"incident_date\": \"09\", \"day_of_week\": \"Monday\", \"count\": 27}, {\"year\": 2020, \"incident_date\": \"09\", \"day_of_week\": \"Saturday\", \"count\": 25}, {\"year\": 2020, \"incident_date\": \"09\", \"day_of_week\": \"Sunday\", \"count\": 11}, {\"year\": 2020, \"incident_date\": \"09\", \"day_of_week\": \"Thursday\", \"count\": 36}, {\"year\": 2020, \"incident_date\": \"09\", \"day_of_week\": \"Tuesday\", \"count\": 58}, {\"year\": 2020, \"incident_date\": \"09\", \"day_of_week\": \"Wednesday\", \"count\": 51}, {\"year\": 2020, \"incident_date\": \"10\", \"day_of_week\": \"Friday\", \"count\": 23}, {\"year\": 2020, \"incident_date\": \"10\", \"day_of_week\": \"Monday\", \"count\": 21}, {\"year\": 2020, \"incident_date\": \"10\", \"day_of_week\": \"Saturday\", \"count\": 24}, {\"year\": 2020, \"incident_date\": \"10\", \"day_of_week\": \"Sunday\", \"count\": 20}, {\"year\": 2020, \"incident_date\": \"10\", \"day_of_week\": \"Thursday\", \"count\": 61}, {\"year\": 2020, \"incident_date\": \"10\", \"day_of_week\": \"Tuesday\", \"count\": 36}, {\"year\": 2020, \"incident_date\": \"10\", \"day_of_week\": \"Wednesday\", \"count\": 24}, {\"year\": 2020, \"incident_date\": \"11\", \"day_of_week\": \"Friday\", \"count\": 21}, {\"year\": 2020, \"incident_date\": \"11\", \"day_of_week\": \"Monday\", \"count\": 22}, {\"year\": 2020, \"incident_date\": \"11\", \"day_of_week\": \"Saturday\", \"count\": 12}, {\"year\": 2020, \"incident_date\": \"11\", \"day_of_week\": \"Sunday\", \"count\": 17}, {\"year\": 2020, \"incident_date\": \"11\", \"day_of_week\": \"Thursday\", \"count\": 13}, {\"year\": 2020, \"incident_date\": \"11\", \"day_of_week\": \"Tuesday\", \"count\": 23}, {\"year\": 2020, \"incident_date\": \"11\", \"day_of_week\": \"Wednesday\", \"count\": 40}, {\"year\": 2020, \"incident_date\": \"12\", \"day_of_week\": \"Friday\", \"count\": 17}, {\"year\": 2020, \"incident_date\": \"12\", \"day_of_week\": \"Monday\", \"count\": 21}, {\"year\": 2020, \"incident_date\": \"12\", \"day_of_week\": \"Saturday\", \"count\": 22}, {\"year\": 2020, \"incident_date\": \"12\", \"day_of_week\": \"Sunday\", \"count\": 21}, {\"year\": 2020, \"incident_date\": \"12\", \"day_of_week\": \"Thursday\", \"count\": 40}, {\"year\": 2020, \"incident_date\": \"12\", \"day_of_week\": \"Tuesday\", \"count\": 58}, {\"year\": 2020, \"incident_date\": \"12\", \"day_of_week\": \"Wednesday\", \"count\": 32}, {\"year\": 2021, \"incident_date\": \"01\", \"day_of_week\": \"Friday\", \"count\": 30}, {\"year\": 2021, \"incident_date\": \"01\", \"day_of_week\": \"Monday\", \"count\": 19}, {\"year\": 2021, \"incident_date\": \"01\", \"day_of_week\": \"Saturday\", \"count\": 42}, {\"year\": 2021, \"incident_date\": \"01\", \"day_of_week\": \"Sunday\", \"count\": 21}, {\"year\": 2021, \"incident_date\": \"01\", \"day_of_week\": \"Thursday\", \"count\": 46}, {\"year\": 2021, \"incident_date\": \"01\", \"day_of_week\": \"Tuesday\", \"count\": 50}, {\"year\": 2021, \"incident_date\": \"01\", \"day_of_week\": \"Wednesday\", \"count\": 41}, {\"year\": 2021, \"incident_date\": \"02\", \"day_of_week\": \"Friday\", \"count\": 32}, {\"year\": 2021, \"incident_date\": \"02\", \"day_of_week\": \"Monday\", \"count\": 22}, {\"year\": 2021, \"incident_date\": \"02\", \"day_of_week\": \"Saturday\", \"count\": 26}, {\"year\": 2021, \"incident_date\": \"02\", \"day_of_week\": \"Sunday\", \"count\": 23}, {\"year\": 2021, \"incident_date\": \"02\", \"day_of_week\": \"Thursday\", \"count\": 49}, {\"year\": 2021, \"incident_date\": \"02\", \"day_of_week\": \"Tuesday\", \"count\": 54}, {\"year\": 2021, \"incident_date\": \"02\", \"day_of_week\": \"Wednesday\", \"count\": 34}, {\"year\": 2021, \"incident_date\": \"03\", \"day_of_week\": \"Friday\", \"count\": 23}, {\"year\": 2021, \"incident_date\": \"03\", \"day_of_week\": \"Monday\", \"count\": 21}, {\"year\": 2021, \"incident_date\": \"03\", \"day_of_week\": \"Saturday\", \"count\": 27}, {\"year\": 2021, \"incident_date\": \"03\", \"day_of_week\": \"Sunday\", \"count\": 34}, {\"year\": 2021, \"incident_date\": \"03\", \"day_of_week\": \"Thursday\", \"count\": 33}, {\"year\": 2021, \"incident_date\": \"03\", \"day_of_week\": \"Tuesday\", \"count\": 14}, {\"year\": 2021, \"incident_date\": \"03\", \"day_of_week\": \"Wednesday\", \"count\": 27}, {\"year\": 2021, \"incident_date\": \"04\", \"day_of_week\": \"Friday\", \"count\": 37}, {\"year\": 2021, \"incident_date\": \"04\", \"day_of_week\": \"Monday\", \"count\": 23}, {\"year\": 2021, \"incident_date\": \"04\", \"day_of_week\": \"Saturday\", \"count\": 16}, {\"year\": 2021, \"incident_date\": \"04\", \"day_of_week\": \"Sunday\", \"count\": 20}, {\"year\": 2021, \"incident_date\": \"04\", \"day_of_week\": \"Thursday\", \"count\": 73}, {\"year\": 2021, \"incident_date\": \"04\", \"day_of_week\": \"Tuesday\", \"count\": 31}, {\"year\": 2021, \"incident_date\": \"04\", \"day_of_week\": \"Wednesday\", \"count\": 39}, {\"year\": 2021, \"incident_date\": \"05\", \"day_of_week\": \"Friday\", \"count\": 23}, {\"year\": 2021, \"incident_date\": \"05\", \"day_of_week\": \"Monday\", \"count\": 6}, {\"year\": 2021, \"incident_date\": \"05\", \"day_of_week\": \"Saturday\", \"count\": 12}, {\"year\": 2021, \"incident_date\": \"05\", \"day_of_week\": \"Sunday\", \"count\": 19}, {\"year\": 2021, \"incident_date\": \"05\", \"day_of_week\": \"Thursday\", \"count\": 26}, {\"year\": 2021, \"incident_date\": \"05\", \"day_of_week\": \"Tuesday\", \"count\": 6}, {\"year\": 2021, \"incident_date\": \"05\", \"day_of_week\": \"Wednesday\", \"count\": 18}, {\"year\": 2021, \"incident_date\": \"06\", \"day_of_week\": \"Friday\", \"count\": 24}, {\"year\": 2021, \"incident_date\": \"06\", \"day_of_week\": \"Monday\", \"count\": 35}, {\"year\": 2021, \"incident_date\": \"06\", \"day_of_week\": \"Saturday\", \"count\": 13}, {\"year\": 2021, \"incident_date\": \"06\", \"day_of_week\": \"Sunday\", \"count\": 9}, {\"year\": 2021, \"incident_date\": \"06\", \"day_of_week\": \"Thursday\", \"count\": 31}, {\"year\": 2021, \"incident_date\": \"06\", \"day_of_week\": \"Tuesday\", \"count\": 41}, {\"year\": 2021, \"incident_date\": \"06\", \"day_of_week\": \"Wednesday\", \"count\": 52}, {\"year\": 2021, \"incident_date\": \"07\", \"day_of_week\": \"Friday\", \"count\": 19}, {\"year\": 2021, \"incident_date\": \"07\", \"day_of_week\": \"Monday\", \"count\": 18}, {\"year\": 2021, \"incident_date\": \"07\", \"day_of_week\": \"Saturday\", \"count\": 33}, {\"year\": 2021, \"incident_date\": \"07\", \"day_of_week\": \"Sunday\", \"count\": 22}, {\"year\": 2021, \"incident_date\": \"07\", \"day_of_week\": \"Thursday\", \"count\": 52}, {\"year\": 2021, \"incident_date\": \"07\", \"day_of_week\": \"Tuesday\", \"count\": 26}, {\"year\": 2021, \"incident_date\": \"07\", \"day_of_week\": \"Wednesday\", \"count\": 31}, {\"year\": 2021, \"incident_date\": \"08\", \"day_of_week\": \"Friday\", \"count\": 24}, {\"year\": 2021, \"incident_date\": \"08\", \"day_of_week\": \"Monday\", \"count\": 19}, {\"year\": 2021, \"incident_date\": \"08\", \"day_of_week\": \"Saturday\", \"count\": 6}, {\"year\": 2021, \"incident_date\": \"08\", \"day_of_week\": \"Sunday\", \"count\": 18}, {\"year\": 2021, \"incident_date\": \"08\", \"day_of_week\": \"Thursday\", \"count\": 34}, {\"year\": 2021, \"incident_date\": \"08\", \"day_of_week\": \"Tuesday\", \"count\": 68}, {\"year\": 2021, \"incident_date\": \"08\", \"day_of_week\": \"Wednesday\", \"count\": 23}, {\"year\": 2021, \"incident_date\": \"09\", \"day_of_week\": \"Friday\", \"count\": 26}, {\"year\": 2021, \"incident_date\": \"09\", \"day_of_week\": \"Monday\", \"count\": 7}, {\"year\": 2021, \"incident_date\": \"09\", \"day_of_week\": \"Saturday\", \"count\": 11}, {\"year\": 2021, \"incident_date\": \"09\", \"day_of_week\": \"Sunday\", \"count\": 12}, {\"year\": 2021, \"incident_date\": \"09\", \"day_of_week\": \"Thursday\", \"count\": 41}, {\"year\": 2021, \"incident_date\": \"09\", \"day_of_week\": \"Tuesday\", \"count\": 28}, {\"year\": 2021, \"incident_date\": \"09\", \"day_of_week\": \"Wednesday\", \"count\": 47}, {\"year\": 2021, \"incident_date\": \"10\", \"day_of_week\": \"Friday\", \"count\": 28}, {\"year\": 2021, \"incident_date\": \"10\", \"day_of_week\": \"Monday\", \"count\": 20}, {\"year\": 2021, \"incident_date\": \"10\", \"day_of_week\": \"Saturday\", \"count\": 17}, {\"year\": 2021, \"incident_date\": \"10\", \"day_of_week\": \"Sunday\", \"count\": 14}, {\"year\": 2021, \"incident_date\": \"10\", \"day_of_week\": \"Thursday\", \"count\": 20}, {\"year\": 2021, \"incident_date\": \"10\", \"day_of_week\": \"Tuesday\", \"count\": 48}, {\"year\": 2021, \"incident_date\": \"10\", \"day_of_week\": \"Wednesday\", \"count\": 41}, {\"year\": 2021, \"incident_date\": \"11\", \"day_of_week\": \"Friday\", \"count\": 19}, {\"year\": 2021, \"incident_date\": \"11\", \"day_of_week\": \"Monday\", \"count\": 14}, {\"year\": 2021, \"incident_date\": \"11\", \"day_of_week\": \"Saturday\", \"count\": 21}, {\"year\": 2021, \"incident_date\": \"11\", \"day_of_week\": \"Sunday\", \"count\": 11}, {\"year\": 2021, \"incident_date\": \"11\", \"day_of_week\": \"Thursday\", \"count\": 13}, {\"year\": 2021, \"incident_date\": \"11\", \"day_of_week\": \"Tuesday\", \"count\": 52}, {\"year\": 2021, \"incident_date\": \"11\", \"day_of_week\": \"Wednesday\", \"count\": 24}, {\"year\": 2021, \"incident_date\": \"12\", \"day_of_week\": \"Friday\", \"count\": 16}, {\"year\": 2021, \"incident_date\": \"12\", \"day_of_week\": \"Monday\", \"count\": 9}, {\"year\": 2021, \"incident_date\": \"12\", \"day_of_week\": \"Saturday\", \"count\": 10}, {\"year\": 2021, \"incident_date\": \"12\", \"day_of_week\": \"Sunday\", \"count\": 17}, {\"year\": 2021, \"incident_date\": \"12\", \"day_of_week\": \"Thursday\", \"count\": 64}, {\"year\": 2021, \"incident_date\": \"12\", \"day_of_week\": \"Tuesday\", \"count\": 73}, {\"year\": 2021, \"incident_date\": \"12\", \"day_of_week\": \"Wednesday\", \"count\": 53}, {\"year\": 2022, \"incident_date\": \"01\", \"day_of_week\": \"Friday\", \"count\": 33}, {\"year\": 2022, \"incident_date\": \"01\", \"day_of_week\": \"Monday\", \"count\": 21}, {\"year\": 2022, \"incident_date\": \"01\", \"day_of_week\": \"Saturday\", \"count\": 51}, {\"year\": 2022, \"incident_date\": \"01\", \"day_of_week\": \"Sunday\", \"count\": 38}, {\"year\": 2022, \"incident_date\": \"01\", \"day_of_week\": \"Thursday\", \"count\": 47}, {\"year\": 2022, \"incident_date\": \"01\", \"day_of_week\": \"Tuesday\", \"count\": 37}, {\"year\": 2022, \"incident_date\": \"01\", \"day_of_week\": \"Wednesday\", \"count\": 42}, {\"year\": 2022, \"incident_date\": \"02\", \"day_of_week\": \"Friday\", \"count\": 35}, {\"year\": 2022, \"incident_date\": \"02\", \"day_of_week\": \"Monday\", \"count\": 8}, {\"year\": 2022, \"incident_date\": \"02\", \"day_of_week\": \"Saturday\", \"count\": 26}, {\"year\": 2022, \"incident_date\": \"02\", \"day_of_week\": \"Sunday\", \"count\": 39}, {\"year\": 2022, \"incident_date\": \"02\", \"day_of_week\": \"Thursday\", \"count\": 48}, {\"year\": 2022, \"incident_date\": \"02\", \"day_of_week\": \"Tuesday\", \"count\": 52}, {\"year\": 2022, \"incident_date\": \"02\", \"day_of_week\": \"Wednesday\", \"count\": 38}, {\"year\": 2022, \"incident_date\": \"03\", \"day_of_week\": \"Friday\", \"count\": 38}, {\"year\": 2022, \"incident_date\": \"03\", \"day_of_week\": \"Monday\", \"count\": 18}, {\"year\": 2022, \"incident_date\": \"03\", \"day_of_week\": \"Saturday\", \"count\": 33}, {\"year\": 2022, \"incident_date\": \"03\", \"day_of_week\": \"Sunday\", \"count\": 10}, {\"year\": 2022, \"incident_date\": \"03\", \"day_of_week\": \"Thursday\", \"count\": 52}, {\"year\": 2022, \"incident_date\": \"03\", \"day_of_week\": \"Tuesday\", \"count\": 43}, {\"year\": 2022, \"incident_date\": \"03\", \"day_of_week\": \"Wednesday\", \"count\": 64}, {\"year\": 2022, \"incident_date\": \"04\", \"day_of_week\": \"Friday\", \"count\": 39}, {\"year\": 2022, \"incident_date\": \"04\", \"day_of_week\": \"Monday\", \"count\": 15}, {\"year\": 2022, \"incident_date\": \"04\", \"day_of_week\": \"Saturday\", \"count\": 25}, {\"year\": 2022, \"incident_date\": \"04\", \"day_of_week\": \"Sunday\", \"count\": 14}, {\"year\": 2022, \"incident_date\": \"04\", \"day_of_week\": \"Thursday\", \"count\": 29}, {\"year\": 2022, \"incident_date\": \"04\", \"day_of_week\": \"Tuesday\", \"count\": 41}, {\"year\": 2022, \"incident_date\": \"04\", \"day_of_week\": \"Wednesday\", \"count\": 37}, {\"year\": 2022, \"incident_date\": \"05\", \"day_of_week\": \"Friday\", \"count\": 30}, {\"year\": 2022, \"incident_date\": \"05\", \"day_of_week\": \"Monday\", \"count\": 30}, {\"year\": 2022, \"incident_date\": \"05\", \"day_of_week\": \"Saturday\", \"count\": 15}, {\"year\": 2022, \"incident_date\": \"05\", \"day_of_week\": \"Sunday\", \"count\": 23}, {\"year\": 2022, \"incident_date\": \"05\", \"day_of_week\": \"Thursday\", \"count\": 48}, {\"year\": 2022, \"incident_date\": \"05\", \"day_of_week\": \"Tuesday\", \"count\": 35}, {\"year\": 2022, \"incident_date\": \"05\", \"day_of_week\": \"Wednesday\", \"count\": 79}, {\"year\": 2022, \"incident_date\": \"06\", \"day_of_week\": \"Friday\", \"count\": 24}, {\"year\": 2022, \"incident_date\": \"06\", \"day_of_week\": \"Monday\", \"count\": 33}, {\"year\": 2022, \"incident_date\": \"06\", \"day_of_week\": \"Saturday\", \"count\": 27}, {\"year\": 2022, \"incident_date\": \"06\", \"day_of_week\": \"Sunday\", \"count\": 22}, {\"year\": 2022, \"incident_date\": \"06\", \"day_of_week\": \"Thursday\", \"count\": 41}, {\"year\": 2022, \"incident_date\": \"06\", \"day_of_week\": \"Tuesday\", \"count\": 33}, {\"year\": 2022, \"incident_date\": \"06\", \"day_of_week\": \"Wednesday\", \"count\": 68}, {\"year\": 2022, \"incident_date\": \"07\", \"day_of_week\": \"Friday\", \"count\": 67}, {\"year\": 2022, \"incident_date\": \"07\", \"day_of_week\": \"Monday\", \"count\": 69}, {\"year\": 2022, \"incident_date\": \"07\", \"day_of_week\": \"Saturday\", \"count\": 56}, {\"year\": 2022, \"incident_date\": \"07\", \"day_of_week\": \"Sunday\", \"count\": 46}, {\"year\": 2022, \"incident_date\": \"07\", \"day_of_week\": \"Thursday\", \"count\": 123}, {\"year\": 2022, \"incident_date\": \"07\", \"day_of_week\": \"Tuesday\", \"count\": 66}, {\"year\": 2022, \"incident_date\": \"07\", \"day_of_week\": \"Wednesday\", \"count\": 115}, {\"year\": 2022, \"incident_date\": \"08\", \"day_of_week\": \"Friday\", \"count\": 51}, {\"year\": 2022, \"incident_date\": \"08\", \"day_of_week\": \"Monday\", \"count\": 64}, {\"year\": 2022, \"incident_date\": \"08\", \"day_of_week\": \"Saturday\", \"count\": 38}, {\"year\": 2022, \"incident_date\": \"08\", \"day_of_week\": \"Sunday\", \"count\": 27}, {\"year\": 2022, \"incident_date\": \"08\", \"day_of_week\": \"Thursday\", \"count\": 106}, {\"year\": 2022, \"incident_date\": \"08\", \"day_of_week\": \"Tuesday\", \"count\": 127}, {\"year\": 2022, \"incident_date\": \"08\", \"day_of_week\": \"Wednesday\", \"count\": 106}, {\"year\": 2022, \"incident_date\": \"09\", \"day_of_week\": \"Friday\", \"count\": 63}, {\"year\": 2022, \"incident_date\": \"09\", \"day_of_week\": \"Monday\", \"count\": 23}, {\"year\": 2022, \"incident_date\": \"09\", \"day_of_week\": \"Saturday\", \"count\": 38}, {\"year\": 2022, \"incident_date\": \"09\", \"day_of_week\": \"Sunday\", \"count\": 24}, {\"year\": 2022, \"incident_date\": \"09\", \"day_of_week\": \"Thursday\", \"count\": 78}, {\"year\": 2022, \"incident_date\": \"09\", \"day_of_week\": \"Tuesday\", \"count\": 40}, {\"year\": 2022, \"incident_date\": \"09\", \"day_of_week\": \"Wednesday\", \"count\": 62}, {\"year\": 2022, \"incident_date\": \"10\", \"day_of_week\": \"Friday\", \"count\": 36}, {\"year\": 2022, \"incident_date\": \"10\", \"day_of_week\": \"Monday\", \"count\": 32}, {\"year\": 2022, \"incident_date\": \"10\", \"day_of_week\": \"Saturday\", \"count\": 37}, {\"year\": 2022, \"incident_date\": \"10\", \"day_of_week\": \"Sunday\", \"count\": 24}, {\"year\": 2022, \"incident_date\": \"10\", \"day_of_week\": \"Thursday\", \"count\": 37}, {\"year\": 2022, \"incident_date\": \"10\", \"day_of_week\": \"Tuesday\", \"count\": 45}, {\"year\": 2022, \"incident_date\": \"10\", \"day_of_week\": \"Wednesday\", \"count\": 42}, {\"year\": 2022, \"incident_date\": \"11\", \"day_of_week\": \"Friday\", \"count\": 43}, {\"year\": 2022, \"incident_date\": \"11\", \"day_of_week\": \"Monday\", \"count\": 24}, {\"year\": 2022, \"incident_date\": \"11\", \"day_of_week\": \"Saturday\", \"count\": 31}, {\"year\": 2022, \"incident_date\": \"11\", \"day_of_week\": \"Sunday\", \"count\": 24}, {\"year\": 2022, \"incident_date\": \"11\", \"day_of_week\": \"Thursday\", \"count\": 44}, {\"year\": 2022, \"incident_date\": \"11\", \"day_of_week\": \"Tuesday\", \"count\": 54}, {\"year\": 2022, \"incident_date\": \"11\", \"day_of_week\": \"Wednesday\", \"count\": 108}, {\"year\": 2022, \"incident_date\": \"12\", \"day_of_week\": \"Friday\", \"count\": 47}, {\"year\": 2022, \"incident_date\": \"12\", \"day_of_week\": \"Monday\", \"count\": 24}, {\"year\": 2022, \"incident_date\": \"12\", \"day_of_week\": \"Saturday\", \"count\": 30}, {\"year\": 2022, \"incident_date\": \"12\", \"day_of_week\": \"Sunday\", \"count\": 28}, {\"year\": 2022, \"incident_date\": \"12\", \"day_of_week\": \"Thursday\", \"count\": 68}, {\"year\": 2022, \"incident_date\": \"12\", \"day_of_week\": \"Tuesday\", \"count\": 40}, {\"year\": 2022, \"incident_date\": \"12\", \"day_of_week\": \"Wednesday\", \"count\": 83}, {\"year\": 2023, \"incident_date\": \"01\", \"day_of_week\": \"Friday\", \"count\": 40}, {\"year\": 2023, \"incident_date\": \"01\", \"day_of_week\": \"Monday\", \"count\": 32}, {\"year\": 2023, \"incident_date\": \"01\", \"day_of_week\": \"Saturday\", \"count\": 27}, {\"year\": 2023, \"incident_date\": \"01\", \"day_of_week\": \"Sunday\", \"count\": 44}, {\"year\": 2023, \"incident_date\": \"01\", \"day_of_week\": \"Thursday\", \"count\": 57}, {\"year\": 2023, \"incident_date\": \"01\", \"day_of_week\": \"Tuesday\", \"count\": 50}, {\"year\": 2023, \"incident_date\": \"01\", \"day_of_week\": \"Wednesday\", \"count\": 79}, {\"year\": 2023, \"incident_date\": \"02\", \"day_of_week\": \"Friday\", \"count\": 88}, {\"year\": 2023, \"incident_date\": \"02\", \"day_of_week\": \"Monday\", \"count\": 49}, {\"year\": 2023, \"incident_date\": \"02\", \"day_of_week\": \"Saturday\", \"count\": 50}, {\"year\": 2023, \"incident_date\": \"02\", \"day_of_week\": \"Sunday\", \"count\": 49}, {\"year\": 2023, \"incident_date\": \"02\", \"day_of_week\": \"Thursday\", \"count\": 78}, {\"year\": 2023, \"incident_date\": \"02\", \"day_of_week\": \"Tuesday\", \"count\": 42}, {\"year\": 2023, \"incident_date\": \"02\", \"day_of_week\": \"Wednesday\", \"count\": 78}, {\"year\": 2023, \"incident_date\": \"03\", \"day_of_week\": \"Friday\", \"count\": 13}, {\"year\": 2023, \"incident_date\": \"03\", \"day_of_week\": \"Saturday\", \"count\": 13}, {\"year\": 2023, \"incident_date\": \"03\", \"day_of_week\": \"Thursday\", \"count\": 8}, {\"year\": 2023, \"incident_date\": \"03\", \"day_of_week\": \"Wednesday\", \"count\": 13}]}}, {\"mode\": \"vega-lite\"});\n",
       "</script>"
      ],
      "text/plain": [
       "alt.Chart(...)"
      ]
     },
     "execution_count": 16,
     "metadata": {},
     "output_type": "execute_result"
    }
   ],
   "source": [
    "yr_month_week = drug_arrest.groupby([drug_arrest['year'],drug_arrest['incident_date'].dt.strftime('%m'),drug_arrest['day_of_week']]).size().reset_index(name='count')\n",
    "yr_month_week.head()\n",
    "alt.Chart(yr_month_week).mark_rect().encode(\n",
    "    alt.X('incident_date:O',title = 'Month'),\n",
    "    alt.Y('day_of_week',title = 'Day of Week'),\n",
    "    color='sum(count)'\n",
    ")"
   ]
  },
  {
   "cell_type": "code",
   "execution_count": 22,
   "metadata": {},
   "outputs": [
    {
     "ename": "AttributeError",
     "evalue": "module 'altair' has no attribute 'selection_point'",
     "output_type": "error",
     "traceback": [
      "\u001b[0;31m---------------------------------------------------------------------------\u001b[0m",
      "\u001b[0;31mAttributeError\u001b[0m                            Traceback (most recent call last)",
      "Cell \u001b[0;32mIn[22], line 3\u001b[0m\n\u001b[1;32m      1\u001b[0m years \u001b[38;5;241m=\u001b[39m[\u001b[38;5;241m2018\u001b[39m,\u001b[38;5;241m2019\u001b[39m,\u001b[38;5;241m2020\u001b[39m,\u001b[38;5;241m2021\u001b[39m,\u001b[38;5;241m2022\u001b[39m,\u001b[38;5;241m2023\u001b[39m]\n\u001b[1;32m      2\u001b[0m genre_dropdown \u001b[38;5;241m=\u001b[39m alt\u001b[38;5;241m.\u001b[39mbinding_select(options\u001b[38;5;241m=\u001b[39myears, name\u001b[38;5;241m=\u001b[39m\u001b[38;5;124m\"\u001b[39m\u001b[38;5;124mYear\u001b[39m\u001b[38;5;124m\"\u001b[39m)\n\u001b[0;32m----> 3\u001b[0m genre_select \u001b[38;5;241m=\u001b[39m \u001b[43malt\u001b[49m\u001b[38;5;241;43m.\u001b[39;49m\u001b[43mselection_point\u001b[49m(fields\u001b[38;5;241m=\u001b[39m[\u001b[38;5;124m'\u001b[39m\u001b[38;5;124myear\u001b[39m\u001b[38;5;124m'\u001b[39m], bind\u001b[38;5;241m=\u001b[39mgenre_dropdown)\n\u001b[1;32m      5\u001b[0m filter_years \u001b[38;5;241m=\u001b[39m base\u001b[38;5;241m.\u001b[39madd_params(\n\u001b[1;32m      6\u001b[0m     genre_select\n\u001b[1;32m      7\u001b[0m )\u001b[38;5;241m.\u001b[39mtransform_filter(\n\u001b[1;32m      8\u001b[0m     genre_select\n\u001b[1;32m      9\u001b[0m )\u001b[38;5;241m.\u001b[39mproperties(title\u001b[38;5;241m=\u001b[39m\u001b[38;5;124m\"\u001b[39m\u001b[38;5;124mDropdown Filtering\u001b[39m\u001b[38;5;124m\"\u001b[39m)\n",
      "\u001b[0;31mAttributeError\u001b[0m: module 'altair' has no attribute 'selection_point'"
     ]
    }
   ],
   "source": [
    "years =[2018,2019,2020,2021,2022,2023]\n",
    "genre_dropdown = alt.binding_select(options=years, name=\"Year\")\n",
    "genre_select = alt.selection_point(fields=['year'], bind=genre_dropdown)\n",
    "\n",
    "filter_years = base.add_params(\n",
    "    genre_select\n",
    ").transform_filter(\n",
    "    genre_select\n",
    ").properties(title=\"Dropdown Filtering\")"
   ]
  },
  {
   "cell_type": "code",
   "execution_count": null,
   "metadata": {},
   "outputs": [],
   "source": []
  },
  {
   "cell_type": "code",
   "execution_count": 23,
   "metadata": {},
   "outputs": [
    {
     "ename": "AttributeError",
     "evalue": "'Chart' object has no attribute 'add_params'",
     "output_type": "error",
     "traceback": [
      "\u001b[0;31m---------------------------------------------------------------------------\u001b[0m",
      "\u001b[0;31mAttributeError\u001b[0m                            Traceback (most recent call last)",
      "Cell \u001b[0;32mIn[23], line 7\u001b[0m\n\u001b[1;32m      1\u001b[0m base \u001b[38;5;241m=\u001b[39m \u001b[43malt\u001b[49m\u001b[38;5;241;43m.\u001b[39;49m\u001b[43mChart\u001b[49m\u001b[43m(\u001b[49m\u001b[43mcounts\u001b[49m\u001b[43m)\u001b[49m\u001b[38;5;241;43m.\u001b[39;49m\u001b[43mmark_bar\u001b[49m\u001b[43m(\u001b[49m\u001b[43msize\u001b[49m\u001b[38;5;241;43m=\u001b[39;49m\u001b[38;5;241;43m10\u001b[39;49m\u001b[43m)\u001b[49m\u001b[38;5;241;43m.\u001b[39;49m\u001b[43mencode\u001b[49m\u001b[43m(\u001b[49m\n\u001b[1;32m      2\u001b[0m \u001b[43m    \u001b[49m\u001b[43mx\u001b[49m\u001b[38;5;241;43m=\u001b[39;49m\u001b[38;5;124;43m'\u001b[39;49m\u001b[38;5;124;43mincident_date\u001b[39;49m\u001b[38;5;124;43m'\u001b[39;49m\u001b[43m,\u001b[49m\n\u001b[1;32m      3\u001b[0m \u001b[43m    \u001b[49m\u001b[43my\u001b[49m\u001b[38;5;241;43m=\u001b[39;49m\u001b[38;5;124;43m'\u001b[39;49m\u001b[38;5;124;43mcount\u001b[39;49m\u001b[38;5;124;43m'\u001b[39;49m\u001b[43m,\u001b[49m\n\u001b[1;32m      4\u001b[0m \u001b[43m)\u001b[49m\u001b[38;5;241;43m.\u001b[39;49m\u001b[43mproperties\u001b[49m\u001b[43m(\u001b[49m\n\u001b[1;32m      5\u001b[0m \u001b[43m    \u001b[49m\u001b[43mwidth\u001b[49m\u001b[38;5;241;43m=\u001b[39;49m\u001b[38;5;241;43m600\u001b[39;49m\u001b[43m,\u001b[49m\n\u001b[1;32m      6\u001b[0m \u001b[43m    \u001b[49m\u001b[43mheight\u001b[49m\u001b[38;5;241;43m=\u001b[39;49m\u001b[38;5;241;43m400\u001b[39;49m\n\u001b[0;32m----> 7\u001b[0m \u001b[43m)\u001b[49m\u001b[38;5;241;43m.\u001b[39;49m\u001b[43madd_params\u001b[49m(brush)\n\u001b[1;32m      8\u001b[0m brush \u001b[38;5;241m=\u001b[39m alt\u001b[38;5;241m.\u001b[39mselection_interval()\n\u001b[1;32m      9\u001b[0m upper \u001b[38;5;241m=\u001b[39m base\u001b[38;5;241m.\u001b[39mencode(\n\u001b[1;32m     10\u001b[0m     alt\u001b[38;5;241m.\u001b[39mX(\u001b[38;5;124m'\u001b[39m\u001b[38;5;124mincident_date:T\u001b[39m\u001b[38;5;124m'\u001b[39m, scale\u001b[38;5;241m=\u001b[39malt\u001b[38;5;241m.\u001b[39mScale(domain\u001b[38;5;241m=\u001b[39mbrush)),  \n\u001b[1;32m     11\u001b[0m     tooltip \u001b[38;5;241m=\u001b[39m [alt\u001b[38;5;241m.\u001b[39mTooltip(\u001b[38;5;124m'\u001b[39m\u001b[38;5;124mincident_date\u001b[39m\u001b[38;5;124m'\u001b[39m),alt\u001b[38;5;241m.\u001b[39mTooltip(\u001b[38;5;124m'\u001b[39m\u001b[38;5;124mcount\u001b[39m\u001b[38;5;124m'\u001b[39m,title\u001b[38;5;241m=\u001b[39m\u001b[38;5;124m'\u001b[39m\u001b[38;5;124mDrug Arrests\u001b[39m\u001b[38;5;124m'\u001b[39m)]\n\u001b[1;32m     12\u001b[0m )\u001b[38;5;241m.\u001b[39mproperties(title\u001b[38;5;241m=\u001b[39m\u001b[38;5;124m'\u001b[39m\u001b[38;5;124mIncidents by Year-Month\u001b[39m\u001b[38;5;124m'\u001b[39m)\n",
      "File \u001b[0;32m~/.pyenv/versions/3.10.9/lib/python3.10/site-packages/altair/utils/schemapi.py:278\u001b[0m, in \u001b[0;36mSchemaBase.__getattr__\u001b[0;34m(self, attr)\u001b[0m\n\u001b[1;32m    276\u001b[0m \u001b[38;5;28;01mexcept\u001b[39;00m \u001b[38;5;167;01mAttributeError\u001b[39;00m:\n\u001b[1;32m    277\u001b[0m     _getattr \u001b[38;5;241m=\u001b[39m \u001b[38;5;28msuper\u001b[39m(SchemaBase, \u001b[38;5;28mself\u001b[39m)\u001b[38;5;241m.\u001b[39m\u001b[38;5;21m__getattribute__\u001b[39m\n\u001b[0;32m--> 278\u001b[0m \u001b[38;5;28;01mreturn\u001b[39;00m \u001b[43m_getattr\u001b[49m\u001b[43m(\u001b[49m\u001b[43mattr\u001b[49m\u001b[43m)\u001b[49m\n",
      "\u001b[0;31mAttributeError\u001b[0m: 'Chart' object has no attribute 'add_params'"
     ]
    }
   ],
   "source": [
    "base = alt.Chart(counts).mark_bar(size=10).encode(\n",
    "    x='incident_date',\n",
    "    y='count',\n",
    ").properties(\n",
    "    width=600,\n",
    "    height=400\n",
    ").add_params(brush)\n",
    "brush = alt.selection_interval()\n",
    "upper = base.encode(\n",
    "    alt.X('incident_date:T', scale=alt.Scale(domain=brush)),  \n",
    "    tooltip = [alt.Tooltip('incident_date'),alt.Tooltip('count',title='Drug Arrests')]\n",
    ").properties(title='Incidents by Year-Month')\n",
    "\n",
    "# lower = base.properties(\n",
    "#     height=60\n",
    "# ).add_params(brush)\n",
    "\n",
    "upper.interactive()"
   ]
  },
  {
   "cell_type": "code",
   "execution_count": null,
   "metadata": {},
   "outputs": [],
   "source": []
  },
  {
   "cell_type": "code",
   "execution_count": null,
   "metadata": {},
   "outputs": [],
   "source": []
  }
 ],
 "metadata": {
  "kernelspec": {
   "display_name": "Python 3 (ipykernel)",
   "language": "python",
   "name": "python3"
  },
  "language_info": {
   "codemirror_mode": {
    "name": "ipython",
    "version": 3
   },
   "file_extension": ".py",
   "mimetype": "text/x-python",
   "name": "python",
   "nbconvert_exporter": "python",
   "pygments_lexer": "ipython3",
   "version": "3.10.9"
  }
 },
 "nbformat": 4,
 "nbformat_minor": 4
}
